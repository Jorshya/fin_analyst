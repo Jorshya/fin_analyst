{
 "cells": [
  {
   "cell_type": "code",
   "execution_count": 140,
   "id": "6e15b417",
   "metadata": {},
   "outputs": [],
   "source": [
    "#импортируем необходимые библиотеки\n",
    "import pandas as pd\n",
    "import numpy as np"
   ]
  },
  {
   "cell_type": "code",
   "execution_count": 141,
   "id": "b6e87dbb",
   "metadata": {},
   "outputs": [],
   "source": [
    "# импортируем данные из файла \"task\", создаем 3 дата фрейма\n",
    "df_task = pd.read_excel('Task.xlsx', sheet_name = 'task',skiprows = [1])\n",
    "df_call = pd.read_excel('Task.xlsx', sheet_name = 'call',skiprows = [1])\n",
    "df_result_pr = pd.read_excel('Task.xlsx', sheet_name = 'result_product',skiprows = [1])"
   ]
  },
  {
   "cell_type": "code",
   "execution_count": 142,
   "id": "b3f8d592",
   "metadata": {},
   "outputs": [
    {
     "name": "stdout",
     "output_type": "stream",
     "text": [
      "<class 'pandas.core.frame.DataFrame'>\n",
      "RangeIndex: 23119 entries, 0 to 23118\n",
      "Data columns (total 5 columns):\n",
      " #   Column          Non-Null Count  Dtype         \n",
      "---  ------          --------------  -----         \n",
      " 0   task_id         23119 non-null  int64         \n",
      " 1   hid             23119 non-null  object        \n",
      " 2   finish_dt_task  23119 non-null  datetime64[ns]\n",
      " 3   base_id         23119 non-null  int64         \n",
      " 4   task_result_id  23119 non-null  int64         \n",
      "dtypes: datetime64[ns](1), int64(3), object(1)\n",
      "memory usage: 903.2+ KB\n"
     ]
    }
   ],
   "source": [
    "df_task.info()"
   ]
  },
  {
   "cell_type": "code",
   "execution_count": 143,
   "id": "48662cf8",
   "metadata": {},
   "outputs": [
    {
     "name": "stdout",
     "output_type": "stream",
     "text": [
      "<class 'pandas.core.frame.DataFrame'>\n",
      "RangeIndex: 39598 entries, 0 to 39597\n",
      "Data columns (total 7 columns):\n",
      " #   Column          Non-Null Count  Dtype         \n",
      "---  ------          --------------  -----         \n",
      " 0   task_id         39598 non-null  int64         \n",
      " 1   call_id         39598 non-null  object        \n",
      " 2   agent_name      39598 non-null  object        \n",
      " 3   call_dt         39598 non-null  datetime64[ns]\n",
      " 4   call_result_id  39598 non-null  int64         \n",
      " 5   Unnamed: 5      39598 non-null  object        \n",
      " 6   call_time_sec   39598 non-null  int64         \n",
      "dtypes: datetime64[ns](1), int64(3), object(3)\n",
      "memory usage: 2.1+ MB\n"
     ]
    }
   ],
   "source": [
    "df_call.info()"
   ]
  },
  {
   "cell_type": "code",
   "execution_count": 144,
   "id": "8088393c",
   "metadata": {},
   "outputs": [
    {
     "name": "stdout",
     "output_type": "stream",
     "text": [
      "<class 'pandas.core.frame.DataFrame'>\n",
      "RangeIndex: 5999 entries, 0 to 5998\n",
      "Data columns (total 5 columns):\n",
      " #   Column           Non-Null Count  Dtype         \n",
      "---  ------           --------------  -----         \n",
      " 0   hid              5999 non-null   object        \n",
      " 1   product_type_cd  5999 non-null   object        \n",
      " 2   approve_dt       3724 non-null   datetime64[ns]\n",
      " 3   reject_dt        2264 non-null   datetime64[ns]\n",
      " 4   using_dt         1961 non-null   datetime64[ns]\n",
      "dtypes: datetime64[ns](3), object(2)\n",
      "memory usage: 234.5+ KB\n"
     ]
    }
   ],
   "source": [
    "df_result_pr.info()"
   ]
  },
  {
   "cell_type": "code",
   "execution_count": 145,
   "id": "8d6713f9",
   "metadata": {},
   "outputs": [
    {
     "data": {
      "text/html": [
       "<div>\n",
       "<style scoped>\n",
       "    .dataframe tbody tr th:only-of-type {\n",
       "        vertical-align: middle;\n",
       "    }\n",
       "\n",
       "    .dataframe tbody tr th {\n",
       "        vertical-align: top;\n",
       "    }\n",
       "\n",
       "    .dataframe thead th {\n",
       "        text-align: right;\n",
       "    }\n",
       "</style>\n",
       "<table border=\"1\" class=\"dataframe\">\n",
       "  <thead>\n",
       "    <tr style=\"text-align: right;\">\n",
       "      <th></th>\n",
       "      <th>hid</th>\n",
       "      <th>product_type_cd</th>\n",
       "      <th>approve_dt</th>\n",
       "      <th>reject_dt</th>\n",
       "      <th>using_dt</th>\n",
       "    </tr>\n",
       "  </thead>\n",
       "  <tbody>\n",
       "    <tr>\n",
       "      <th>0</th>\n",
       "      <td>0004c6142b4bf98fdb51ec0fead099b0</td>\n",
       "      <td>INV</td>\n",
       "      <td>2020-05-21</td>\n",
       "      <td>NaT</td>\n",
       "      <td>NaT</td>\n",
       "    </tr>\n",
       "    <tr>\n",
       "      <th>1</th>\n",
       "      <td>0008ddccf50e9a72ee9c6223fb45e4c4</td>\n",
       "      <td>INV</td>\n",
       "      <td>2020-05-29</td>\n",
       "      <td>NaT</td>\n",
       "      <td>NaT</td>\n",
       "    </tr>\n",
       "    <tr>\n",
       "      <th>2</th>\n",
       "      <td>000a2e5621a118118f42560c9821e6a1</td>\n",
       "      <td>INV</td>\n",
       "      <td>2020-04-27</td>\n",
       "      <td>NaT</td>\n",
       "      <td>2020-04-29</td>\n",
       "    </tr>\n",
       "    <tr>\n",
       "      <th>3</th>\n",
       "      <td>001a43fffa79a5b60c01473eeff9fd1f</td>\n",
       "      <td>INV</td>\n",
       "      <td>NaT</td>\n",
       "      <td>2020-04-01</td>\n",
       "      <td>NaT</td>\n",
       "    </tr>\n",
       "    <tr>\n",
       "      <th>4</th>\n",
       "      <td>001c27126f4fd13cc4126d4906c48425</td>\n",
       "      <td>INV</td>\n",
       "      <td>2020-05-06</td>\n",
       "      <td>NaT</td>\n",
       "      <td>NaT</td>\n",
       "    </tr>\n",
       "    <tr>\n",
       "      <th>...</th>\n",
       "      <td>...</td>\n",
       "      <td>...</td>\n",
       "      <td>...</td>\n",
       "      <td>...</td>\n",
       "      <td>...</td>\n",
       "    </tr>\n",
       "    <tr>\n",
       "      <th>5994</th>\n",
       "      <td>ffd2fd672444a27d03dbe426552502d5</td>\n",
       "      <td>INV</td>\n",
       "      <td>2020-05-24</td>\n",
       "      <td>NaT</td>\n",
       "      <td>2020-05-26</td>\n",
       "    </tr>\n",
       "    <tr>\n",
       "      <th>5995</th>\n",
       "      <td>ffd6cb7cef830393c9364ab42013f319</td>\n",
       "      <td>INV</td>\n",
       "      <td>2020-05-07</td>\n",
       "      <td>NaT</td>\n",
       "      <td>NaT</td>\n",
       "    </tr>\n",
       "    <tr>\n",
       "      <th>5996</th>\n",
       "      <td>ffe59b26f8c20e68ef921abdcd3532b8</td>\n",
       "      <td>INV</td>\n",
       "      <td>NaT</td>\n",
       "      <td>2020-06-05</td>\n",
       "      <td>NaT</td>\n",
       "    </tr>\n",
       "    <tr>\n",
       "      <th>5997</th>\n",
       "      <td>ffef7d941cae9d2aa8416f657f41109f</td>\n",
       "      <td>INV</td>\n",
       "      <td>2020-05-12</td>\n",
       "      <td>NaT</td>\n",
       "      <td>NaT</td>\n",
       "    </tr>\n",
       "    <tr>\n",
       "      <th>5998</th>\n",
       "      <td>fff11f06fd53c41904c42b51bc7749a3</td>\n",
       "      <td>INV</td>\n",
       "      <td>2020-04-13</td>\n",
       "      <td>NaT</td>\n",
       "      <td>2020-04-30</td>\n",
       "    </tr>\n",
       "  </tbody>\n",
       "</table>\n",
       "<p>5999 rows × 5 columns</p>\n",
       "</div>"
      ],
      "text/plain": [
       "                                   hid product_type_cd approve_dt  reject_dt  \\\n",
       "0     0004c6142b4bf98fdb51ec0fead099b0             INV 2020-05-21        NaT   \n",
       "1     0008ddccf50e9a72ee9c6223fb45e4c4             INV 2020-05-29        NaT   \n",
       "2     000a2e5621a118118f42560c9821e6a1             INV 2020-04-27        NaT   \n",
       "3     001a43fffa79a5b60c01473eeff9fd1f             INV        NaT 2020-04-01   \n",
       "4     001c27126f4fd13cc4126d4906c48425             INV 2020-05-06        NaT   \n",
       "...                                ...             ...        ...        ...   \n",
       "5994  ffd2fd672444a27d03dbe426552502d5             INV 2020-05-24        NaT   \n",
       "5995  ffd6cb7cef830393c9364ab42013f319             INV 2020-05-07        NaT   \n",
       "5996  ffe59b26f8c20e68ef921abdcd3532b8             INV        NaT 2020-06-05   \n",
       "5997  ffef7d941cae9d2aa8416f657f41109f             INV 2020-05-12        NaT   \n",
       "5998  fff11f06fd53c41904c42b51bc7749a3             INV 2020-04-13        NaT   \n",
       "\n",
       "       using_dt  \n",
       "0           NaT  \n",
       "1           NaT  \n",
       "2    2020-04-29  \n",
       "3           NaT  \n",
       "4           NaT  \n",
       "...         ...  \n",
       "5994 2020-05-26  \n",
       "5995        NaT  \n",
       "5996        NaT  \n",
       "5997        NaT  \n",
       "5998 2020-04-30  \n",
       "\n",
       "[5999 rows x 5 columns]"
      ]
     },
     "execution_count": 145,
     "metadata": {},
     "output_type": "execute_result"
    }
   ],
   "source": [
    "df_result_pr"
   ]
  },
  {
   "cell_type": "code",
   "execution_count": 146,
   "id": "047acebc",
   "metadata": {},
   "outputs": [
    {
     "data": {
      "text/plain": [
       "843083337    1\n",
       "911236643    1\n",
       "911229236    1\n",
       "911226584    1\n",
       "911223840    1\n",
       "            ..\n",
       "887048646    1\n",
       "887039136    1\n",
       "887034762    1\n",
       "887033327    1\n",
       "933065058    1\n",
       "Name: task_id, Length: 23119, dtype: int64"
      ]
     },
     "execution_count": 146,
     "metadata": {},
     "output_type": "execute_result"
    }
   ],
   "source": [
    "# в датафрейме df_task все значения task_id уникальны\n",
    "df_task.task_id.value_counts()"
   ]
  },
  {
   "cell_type": "code",
   "execution_count": 147,
   "id": "45209a75",
   "metadata": {},
   "outputs": [
    {
     "data": {
      "text/plain": [
       "873713374    14\n",
       "869534692    13\n",
       "929387253    11\n",
       "874484093    10\n",
       "860081782    10\n",
       "             ..\n",
       "896017602     1\n",
       "896018446     1\n",
       "896023320     1\n",
       "896027504     1\n",
       "933065058     1\n",
       "Name: task_id, Length: 23119, dtype: int64"
      ]
     },
     "execution_count": 147,
     "metadata": {},
     "output_type": "execute_result"
    }
   ],
   "source": [
    "# в дата фрейме df_call показатель  task_id неуникален\n",
    "df_call.task_id.value_counts()"
   ]
  },
  {
   "cell_type": "code",
   "execution_count": 148,
   "id": "881280af",
   "metadata": {},
   "outputs": [
    {
     "data": {
      "text/plain": [
       "36d2f49fc49f572677416d54536a41c6    1\n",
       "658729d4a601e2378b8ac2b08d080545    1\n",
       "692c721b62f348c4384335eacd46dde8    1\n",
       "b8812cea323dd50672305d5699f53b0e    1\n",
       "1f801a75c036c6af1f2d567fd5ca73da    1\n",
       "                                   ..\n",
       "7e256d08d19b6aaac1213958c7cd6fb4    1\n",
       "6e7896ea8cbc19c9f41d6056f5d09f2d    1\n",
       "74d4b3a2f191fba3fdab78513acf7b11    1\n",
       "712b975e07b05a58b1fcfb188bf61bfa    1\n",
       "1242029bded20eb92ffa31fd749d7ee4    1\n",
       "Name: hid, Length: 23119, dtype: int64"
      ]
     },
     "execution_count": 148,
     "metadata": {},
     "output_type": "execute_result"
    }
   ],
   "source": [
    "# в датафрейме df_task все значения hid уникальны\n",
    "df_task.hid.value_counts()"
   ]
  },
  {
   "cell_type": "code",
   "execution_count": 149,
   "id": "23e509c8",
   "metadata": {},
   "outputs": [],
   "source": [
    "# т.к при импорте данных для датафрейма df_call название показателя \"Название результата звонка\"\n",
    "# не отображается, мы его переименуем\n",
    "df_call = df_call.rename(columns={\"Unnamed: 5\": \"call_result_translation\"})"
   ]
  },
  {
   "cell_type": "markdown",
   "id": "1909998b",
   "metadata": {},
   "source": [
    "# Задание 1"
   ]
  },
  {
   "cell_type": "markdown",
   "id": "bce0a21a",
   "metadata": {},
   "source": [
    "### Самая болшая база это df_call, к которой мы будем присоединять с помощью метода merge df_task по колонне task_id, затем объеденим словари с основной таблицей\n",
    "### Так же видим, что уникальных значениий task_id в датафреймах df_call и df_task равное кол-во, поэтому применим метод inner при объединении, что бы еще раз проверить."
   ]
  },
  {
   "cell_type": "code",
   "execution_count": 150,
   "id": "44edfc38",
   "metadata": {},
   "outputs": [],
   "source": [
    "# объеденяем датафрейм df_call c df_task\n",
    "df1 = df_call.merge(df_task, left_on = \"task_id\", right_on = \"task_id\",how='inner')"
   ]
  },
  {
   "cell_type": "code",
   "execution_count": 151,
   "id": "10abb1f2",
   "metadata": {},
   "outputs": [
    {
     "name": "stdout",
     "output_type": "stream",
     "text": [
      "<class 'pandas.core.frame.DataFrame'>\n",
      "Int64Index: 39598 entries, 0 to 39597\n",
      "Data columns (total 11 columns):\n",
      " #   Column                   Non-Null Count  Dtype         \n",
      "---  ------                   --------------  -----         \n",
      " 0   task_id                  39598 non-null  int64         \n",
      " 1   call_id                  39598 non-null  object        \n",
      " 2   agent_name               39598 non-null  object        \n",
      " 3   call_dt                  39598 non-null  datetime64[ns]\n",
      " 4   call_result_id           39598 non-null  int64         \n",
      " 5   call_result_translation  39598 non-null  object        \n",
      " 6   call_time_sec            39598 non-null  int64         \n",
      " 7   hid                      39598 non-null  object        \n",
      " 8   finish_dt_task           39598 non-null  datetime64[ns]\n",
      " 9   base_id                  39598 non-null  int64         \n",
      " 10  task_result_id           39598 non-null  int64         \n",
      "dtypes: datetime64[ns](2), int64(5), object(4)\n",
      "memory usage: 3.6+ MB\n"
     ]
    }
   ],
   "source": [
    "#Кол-во наблюденийне не изменилось\n",
    "df1.info()"
   ]
  },
  {
   "cell_type": "code",
   "execution_count": 152,
   "id": "29a22ad3",
   "metadata": {},
   "outputs": [],
   "source": [
    "#создаем словарь для расшифровки результатов задания\n",
    "dict_task_result = {6:\"Успешно\", 5:\"Отказ\", 3:\"Недозвон\", 1:\"Дубль\", 4:\"Неуспешно из-за другой заявки\",\n",
    "                    7:\"Черный список\", 2:\"Не было звонка\"}\n",
    "\n",
    "#создаем новую колонку с рашифровкой\n",
    "df1['task_result_translation'] = df1['task_result_id'].map(dict_task_result)"
   ]
  },
  {
   "cell_type": "code",
   "execution_count": 153,
   "id": "9387c174",
   "metadata": {},
   "outputs": [],
   "source": [
    "#создаем словарь для расшифровки баз данных\n",
    "dict_base = {7553:\"База 1\", 3145:\"База 2\", 3445:\"База 3\", 7554:\"База 4\"}\n",
    "\n",
    "#создаем новую колонку с рашифровкой\n",
    "df1['base_translation'] = df1['base_id'].map(dict_base)"
   ]
  },
  {
   "cell_type": "code",
   "execution_count": 154,
   "id": "65a3520c",
   "metadata": {},
   "outputs": [
    {
     "name": "stdout",
     "output_type": "stream",
     "text": [
      "<class 'pandas.core.frame.DataFrame'>\n",
      "Int64Index: 39598 entries, 0 to 39597\n",
      "Data columns (total 13 columns):\n",
      " #   Column                   Non-Null Count  Dtype         \n",
      "---  ------                   --------------  -----         \n",
      " 0   task_id                  39598 non-null  int64         \n",
      " 1   call_id                  39598 non-null  object        \n",
      " 2   agent_name               39598 non-null  object        \n",
      " 3   call_dt                  39598 non-null  datetime64[ns]\n",
      " 4   call_result_id           39598 non-null  int64         \n",
      " 5   call_result_translation  39598 non-null  object        \n",
      " 6   call_time_sec            39598 non-null  int64         \n",
      " 7   hid                      39598 non-null  object        \n",
      " 8   finish_dt_task           39598 non-null  datetime64[ns]\n",
      " 9   base_id                  39598 non-null  int64         \n",
      " 10  task_result_id           39598 non-null  int64         \n",
      " 11  task_result_translation  39598 non-null  object        \n",
      " 12  base_translation         39598 non-null  object        \n",
      "dtypes: datetime64[ns](2), int64(5), object(6)\n",
      "memory usage: 4.2+ MB\n"
     ]
    }
   ],
   "source": [
    "df1.info()"
   ]
  },
  {
   "cell_type": "markdown",
   "id": "57780b61",
   "metadata": {},
   "source": [
    "###  Словарь для call_result_id создавать не нужно т.к. перевод уже есть настоящем датафрейме"
   ]
  },
  {
   "cell_type": "code",
   "execution_count": 155,
   "id": "035cd62b",
   "metadata": {},
   "outputs": [
    {
     "data": {
      "text/plain": [
       "2a5f3463c7ab221d366efc91c4a19ac5    14\n",
       "85e28f9f1f1d0d44a34ecf9517d8639a    13\n",
       "a2c075f22cdb8ef55fb12e1b5393fee6    11\n",
       "f7b6058776af82cb4fb025ebea963f68    10\n",
       "8c7cc3be19b4b90f1e613d3c0a4577d8    10\n",
       "                                    ..\n",
       "a01fcff57161f071fa6189142adb7fe9     1\n",
       "f868a69e3a9570076e87b30e336e9f69     1\n",
       "3a8e36c18404fe1102d8fbb77576ff6c     1\n",
       "c0a40c2c66d10a1f44efef4d7fb0f619     1\n",
       "1242029bded20eb92ffa31fd749d7ee4     1\n",
       "Name: hid, Length: 23119, dtype: int64"
      ]
     },
     "execution_count": 155,
     "metadata": {},
     "output_type": "execute_result"
    }
   ],
   "source": [
    "df1.hid.value_counts()"
   ]
  },
  {
   "cell_type": "code",
   "execution_count": 156,
   "id": "db6b4a09",
   "metadata": {},
   "outputs": [],
   "source": [
    "df_final_merge = df1.merge(df_result_pr, how = \"left\", left_on=\"hid\", right_on=\"hid\")"
   ]
  },
  {
   "cell_type": "code",
   "execution_count": 157,
   "id": "839578a7",
   "metadata": {},
   "outputs": [
    {
     "data": {
      "text/html": [
       "<div>\n",
       "<style scoped>\n",
       "    .dataframe tbody tr th:only-of-type {\n",
       "        vertical-align: middle;\n",
       "    }\n",
       "\n",
       "    .dataframe tbody tr th {\n",
       "        vertical-align: top;\n",
       "    }\n",
       "\n",
       "    .dataframe thead th {\n",
       "        text-align: right;\n",
       "    }\n",
       "</style>\n",
       "<table border=\"1\" class=\"dataframe\">\n",
       "  <thead>\n",
       "    <tr style=\"text-align: right;\">\n",
       "      <th></th>\n",
       "      <th>task_id</th>\n",
       "      <th>call_result_id</th>\n",
       "      <th>call_time_sec</th>\n",
       "      <th>base_id</th>\n",
       "      <th>task_result_id</th>\n",
       "    </tr>\n",
       "  </thead>\n",
       "  <tbody>\n",
       "    <tr>\n",
       "      <th>count</th>\n",
       "      <td>3.959800e+04</td>\n",
       "      <td>39598.000000</td>\n",
       "      <td>39598.000000</td>\n",
       "      <td>39598.000000</td>\n",
       "      <td>39598.000000</td>\n",
       "    </tr>\n",
       "    <tr>\n",
       "      <th>mean</th>\n",
       "      <td>8.995246e+08</td>\n",
       "      <td>3.542224</td>\n",
       "      <td>109.734835</td>\n",
       "      <td>7553.054624</td>\n",
       "      <td>4.182509</td>\n",
       "    </tr>\n",
       "    <tr>\n",
       "      <th>std</th>\n",
       "      <td>1.859090e+07</td>\n",
       "      <td>1.802332</td>\n",
       "      <td>199.917066</td>\n",
       "      <td>0.227248</td>\n",
       "      <td>1.353218</td>\n",
       "    </tr>\n",
       "    <tr>\n",
       "      <th>min</th>\n",
       "      <td>8.430833e+08</td>\n",
       "      <td>1.000000</td>\n",
       "      <td>0.000000</td>\n",
       "      <td>7553.000000</td>\n",
       "      <td>1.000000</td>\n",
       "    </tr>\n",
       "    <tr>\n",
       "      <th>25%</th>\n",
       "      <td>8.814711e+08</td>\n",
       "      <td>2.000000</td>\n",
       "      <td>4.000000</td>\n",
       "      <td>7553.000000</td>\n",
       "      <td>3.000000</td>\n",
       "    </tr>\n",
       "    <tr>\n",
       "      <th>50%</th>\n",
       "      <td>9.002582e+08</td>\n",
       "      <td>3.000000</td>\n",
       "      <td>30.000000</td>\n",
       "      <td>7553.000000</td>\n",
       "      <td>5.000000</td>\n",
       "    </tr>\n",
       "    <tr>\n",
       "      <th>75%</th>\n",
       "      <td>9.157498e+08</td>\n",
       "      <td>5.000000</td>\n",
       "      <td>125.000000</td>\n",
       "      <td>7553.000000</td>\n",
       "      <td>5.000000</td>\n",
       "    </tr>\n",
       "    <tr>\n",
       "      <th>max</th>\n",
       "      <td>9.330651e+08</td>\n",
       "      <td>6.000000</td>\n",
       "      <td>4615.000000</td>\n",
       "      <td>7554.000000</td>\n",
       "      <td>7.000000</td>\n",
       "    </tr>\n",
       "  </tbody>\n",
       "</table>\n",
       "</div>"
      ],
      "text/plain": [
       "            task_id  call_result_id  call_time_sec       base_id  \\\n",
       "count  3.959800e+04    39598.000000   39598.000000  39598.000000   \n",
       "mean   8.995246e+08        3.542224     109.734835   7553.054624   \n",
       "std    1.859090e+07        1.802332     199.917066      0.227248   \n",
       "min    8.430833e+08        1.000000       0.000000   7553.000000   \n",
       "25%    8.814711e+08        2.000000       4.000000   7553.000000   \n",
       "50%    9.002582e+08        3.000000      30.000000   7553.000000   \n",
       "75%    9.157498e+08        5.000000     125.000000   7553.000000   \n",
       "max    9.330651e+08        6.000000    4615.000000   7554.000000   \n",
       "\n",
       "       task_result_id  \n",
       "count    39598.000000  \n",
       "mean         4.182509  \n",
       "std          1.353218  \n",
       "min          1.000000  \n",
       "25%          3.000000  \n",
       "50%          5.000000  \n",
       "75%          5.000000  \n",
       "max          7.000000  "
      ]
     },
     "execution_count": 157,
     "metadata": {},
     "output_type": "execute_result"
    }
   ],
   "source": [
    "df_final_merge.describe()"
   ]
  },
  {
   "cell_type": "code",
   "execution_count": 158,
   "id": "bfc9b086",
   "metadata": {},
   "outputs": [
    {
     "data": {
      "text/html": [
       "<div>\n",
       "<style scoped>\n",
       "    .dataframe tbody tr th:only-of-type {\n",
       "        vertical-align: middle;\n",
       "    }\n",
       "\n",
       "    .dataframe tbody tr th {\n",
       "        vertical-align: top;\n",
       "    }\n",
       "\n",
       "    .dataframe thead th {\n",
       "        text-align: right;\n",
       "    }\n",
       "</style>\n",
       "<table border=\"1\" class=\"dataframe\">\n",
       "  <thead>\n",
       "    <tr style=\"text-align: right;\">\n",
       "      <th></th>\n",
       "      <th>task_id</th>\n",
       "      <th>call_id</th>\n",
       "      <th>agent_name</th>\n",
       "      <th>call_dt</th>\n",
       "      <th>call_result_id</th>\n",
       "      <th>call_result_translation</th>\n",
       "      <th>call_time_sec</th>\n",
       "      <th>hid</th>\n",
       "      <th>finish_dt_task</th>\n",
       "      <th>base_id</th>\n",
       "      <th>task_result_id</th>\n",
       "      <th>task_result_translation</th>\n",
       "      <th>base_translation</th>\n",
       "      <th>product_type_cd</th>\n",
       "      <th>approve_dt</th>\n",
       "      <th>reject_dt</th>\n",
       "      <th>using_dt</th>\n",
       "    </tr>\n",
       "  </thead>\n",
       "  <tbody>\n",
       "    <tr>\n",
       "      <th>0</th>\n",
       "      <td>843083337</td>\n",
       "      <td>6645916908#16711160876</td>\n",
       "      <td>sakungurceva</td>\n",
       "      <td>2020-03-01</td>\n",
       "      <td>6</td>\n",
       "      <td>Дозвон, Отложить</td>\n",
       "      <td>298</td>\n",
       "      <td>36d2f49fc49f572677416d54536a41c6</td>\n",
       "      <td>2020-04-15</td>\n",
       "      <td>7553</td>\n",
       "      <td>6</td>\n",
       "      <td>Успешно</td>\n",
       "      <td>База 1</td>\n",
       "      <td>INV</td>\n",
       "      <td>NaT</td>\n",
       "      <td>2020-04-22</td>\n",
       "      <td>NaT</td>\n",
       "    </tr>\n",
       "    <tr>\n",
       "      <th>1</th>\n",
       "      <td>843083337</td>\n",
       "      <td>6750206063#16711160876</td>\n",
       "      <td>sakungurceva</td>\n",
       "      <td>2020-03-17</td>\n",
       "      <td>6</td>\n",
       "      <td>Дозвон, Отложить</td>\n",
       "      <td>9</td>\n",
       "      <td>36d2f49fc49f572677416d54536a41c6</td>\n",
       "      <td>2020-04-15</td>\n",
       "      <td>7553</td>\n",
       "      <td>6</td>\n",
       "      <td>Успешно</td>\n",
       "      <td>База 1</td>\n",
       "      <td>INV</td>\n",
       "      <td>NaT</td>\n",
       "      <td>2020-04-22</td>\n",
       "      <td>NaT</td>\n",
       "    </tr>\n",
       "    <tr>\n",
       "      <th>2</th>\n",
       "      <td>843083337</td>\n",
       "      <td>6769109629#16711160876</td>\n",
       "      <td>sakungurceva</td>\n",
       "      <td>2020-03-24</td>\n",
       "      <td>6</td>\n",
       "      <td>Дозвон, Отложить</td>\n",
       "      <td>111</td>\n",
       "      <td>36d2f49fc49f572677416d54536a41c6</td>\n",
       "      <td>2020-04-15</td>\n",
       "      <td>7553</td>\n",
       "      <td>6</td>\n",
       "      <td>Успешно</td>\n",
       "      <td>База 1</td>\n",
       "      <td>INV</td>\n",
       "      <td>NaT</td>\n",
       "      <td>2020-04-22</td>\n",
       "      <td>NaT</td>\n",
       "    </tr>\n",
       "    <tr>\n",
       "      <th>3</th>\n",
       "      <td>843083337</td>\n",
       "      <td>6890964670#16711160876</td>\n",
       "      <td>sakungurceva</td>\n",
       "      <td>2020-04-15</td>\n",
       "      <td>5</td>\n",
       "      <td>Недозвон</td>\n",
       "      <td>7</td>\n",
       "      <td>36d2f49fc49f572677416d54536a41c6</td>\n",
       "      <td>2020-04-15</td>\n",
       "      <td>7553</td>\n",
       "      <td>6</td>\n",
       "      <td>Успешно</td>\n",
       "      <td>База 1</td>\n",
       "      <td>INV</td>\n",
       "      <td>NaT</td>\n",
       "      <td>2020-04-22</td>\n",
       "      <td>NaT</td>\n",
       "    </tr>\n",
       "    <tr>\n",
       "      <th>4</th>\n",
       "      <td>843083337</td>\n",
       "      <td>6926247810#16711160876</td>\n",
       "      <td>lapleshivenkova</td>\n",
       "      <td>2020-04-15</td>\n",
       "      <td>3</td>\n",
       "      <td>Дозвон, Успешно</td>\n",
       "      <td>1329</td>\n",
       "      <td>36d2f49fc49f572677416d54536a41c6</td>\n",
       "      <td>2020-04-15</td>\n",
       "      <td>7553</td>\n",
       "      <td>6</td>\n",
       "      <td>Успешно</td>\n",
       "      <td>База 1</td>\n",
       "      <td>INV</td>\n",
       "      <td>NaT</td>\n",
       "      <td>2020-04-22</td>\n",
       "      <td>NaT</td>\n",
       "    </tr>\n",
       "    <tr>\n",
       "      <th>...</th>\n",
       "      <td>...</td>\n",
       "      <td>...</td>\n",
       "      <td>...</td>\n",
       "      <td>...</td>\n",
       "      <td>...</td>\n",
       "      <td>...</td>\n",
       "      <td>...</td>\n",
       "      <td>...</td>\n",
       "      <td>...</td>\n",
       "      <td>...</td>\n",
       "      <td>...</td>\n",
       "      <td>...</td>\n",
       "      <td>...</td>\n",
       "      <td>...</td>\n",
       "      <td>...</td>\n",
       "      <td>...</td>\n",
       "      <td>...</td>\n",
       "    </tr>\n",
       "    <tr>\n",
       "      <th>39593</th>\n",
       "      <td>933035272</td>\n",
       "      <td>7124347282#18483260522</td>\n",
       "      <td>aztrofimova</td>\n",
       "      <td>2020-05-30</td>\n",
       "      <td>5</td>\n",
       "      <td>Недозвон</td>\n",
       "      <td>0</td>\n",
       "      <td>9a2d6dd8ff0a11bdc7a65c8ded5d6d92</td>\n",
       "      <td>2020-05-30</td>\n",
       "      <td>7553</td>\n",
       "      <td>1</td>\n",
       "      <td>Дубль</td>\n",
       "      <td>База 1</td>\n",
       "      <td>NaN</td>\n",
       "      <td>NaT</td>\n",
       "      <td>NaT</td>\n",
       "      <td>NaT</td>\n",
       "    </tr>\n",
       "    <tr>\n",
       "      <th>39594</th>\n",
       "      <td>933040837</td>\n",
       "      <td>7123998330#18480990905</td>\n",
       "      <td>aztrofimova</td>\n",
       "      <td>2020-05-30</td>\n",
       "      <td>5</td>\n",
       "      <td>Недозвон</td>\n",
       "      <td>9</td>\n",
       "      <td>3c682df2f35ed1dc634501b4b7ae25fe</td>\n",
       "      <td>2020-05-30</td>\n",
       "      <td>7554</td>\n",
       "      <td>5</td>\n",
       "      <td>Отказ</td>\n",
       "      <td>База 4</td>\n",
       "      <td>NaN</td>\n",
       "      <td>NaT</td>\n",
       "      <td>NaT</td>\n",
       "      <td>NaT</td>\n",
       "    </tr>\n",
       "    <tr>\n",
       "      <th>39595</th>\n",
       "      <td>933040837</td>\n",
       "      <td>7124519269#18480990905</td>\n",
       "      <td>zadenis</td>\n",
       "      <td>2020-05-30</td>\n",
       "      <td>1</td>\n",
       "      <td>Дозвон, Отказ</td>\n",
       "      <td>41</td>\n",
       "      <td>3c682df2f35ed1dc634501b4b7ae25fe</td>\n",
       "      <td>2020-05-30</td>\n",
       "      <td>7554</td>\n",
       "      <td>5</td>\n",
       "      <td>Отказ</td>\n",
       "      <td>База 4</td>\n",
       "      <td>NaN</td>\n",
       "      <td>NaT</td>\n",
       "      <td>NaT</td>\n",
       "      <td>NaT</td>\n",
       "    </tr>\n",
       "    <tr>\n",
       "      <th>39596</th>\n",
       "      <td>933042718</td>\n",
       "      <td>7124237815#18482537123</td>\n",
       "      <td>npmoskalenko</td>\n",
       "      <td>2020-05-30</td>\n",
       "      <td>1</td>\n",
       "      <td>Дозвон, Отказ</td>\n",
       "      <td>138</td>\n",
       "      <td>d6262e2d5840a2e68fcf028c9732606c</td>\n",
       "      <td>2020-05-30</td>\n",
       "      <td>7553</td>\n",
       "      <td>5</td>\n",
       "      <td>Отказ</td>\n",
       "      <td>База 1</td>\n",
       "      <td>NaN</td>\n",
       "      <td>NaT</td>\n",
       "      <td>NaT</td>\n",
       "      <td>NaT</td>\n",
       "    </tr>\n",
       "    <tr>\n",
       "      <th>39597</th>\n",
       "      <td>933065058</td>\n",
       "      <td>7123061624#18471818019</td>\n",
       "      <td>dakupriyanov</td>\n",
       "      <td>2020-05-30</td>\n",
       "      <td>3</td>\n",
       "      <td>Дозвон, Успешно</td>\n",
       "      <td>276</td>\n",
       "      <td>1242029bded20eb92ffa31fd749d7ee4</td>\n",
       "      <td>2020-05-30</td>\n",
       "      <td>7553</td>\n",
       "      <td>6</td>\n",
       "      <td>Успешно</td>\n",
       "      <td>База 1</td>\n",
       "      <td>INV</td>\n",
       "      <td>2020-05-30</td>\n",
       "      <td>NaT</td>\n",
       "      <td>NaT</td>\n",
       "    </tr>\n",
       "  </tbody>\n",
       "</table>\n",
       "<p>39598 rows × 17 columns</p>\n",
       "</div>"
      ],
      "text/plain": [
       "         task_id                 call_id       agent_name    call_dt  \\\n",
       "0      843083337  6645916908#16711160876     sakungurceva 2020-03-01   \n",
       "1      843083337  6750206063#16711160876     sakungurceva 2020-03-17   \n",
       "2      843083337  6769109629#16711160876     sakungurceva 2020-03-24   \n",
       "3      843083337  6890964670#16711160876     sakungurceva 2020-04-15   \n",
       "4      843083337  6926247810#16711160876  lapleshivenkova 2020-04-15   \n",
       "...          ...                     ...              ...        ...   \n",
       "39593  933035272  7124347282#18483260522      aztrofimova 2020-05-30   \n",
       "39594  933040837  7123998330#18480990905      aztrofimova 2020-05-30   \n",
       "39595  933040837  7124519269#18480990905          zadenis 2020-05-30   \n",
       "39596  933042718  7124237815#18482537123     npmoskalenko 2020-05-30   \n",
       "39597  933065058  7123061624#18471818019     dakupriyanov 2020-05-30   \n",
       "\n",
       "       call_result_id call_result_translation  call_time_sec  \\\n",
       "0                   6        Дозвон, Отложить            298   \n",
       "1                   6        Дозвон, Отложить              9   \n",
       "2                   6        Дозвон, Отложить            111   \n",
       "3                   5                Недозвон              7   \n",
       "4                   3         Дозвон, Успешно           1329   \n",
       "...               ...                     ...            ...   \n",
       "39593               5                Недозвон              0   \n",
       "39594               5                Недозвон              9   \n",
       "39595               1           Дозвон, Отказ             41   \n",
       "39596               1           Дозвон, Отказ            138   \n",
       "39597               3         Дозвон, Успешно            276   \n",
       "\n",
       "                                    hid finish_dt_task  base_id  \\\n",
       "0      36d2f49fc49f572677416d54536a41c6     2020-04-15     7553   \n",
       "1      36d2f49fc49f572677416d54536a41c6     2020-04-15     7553   \n",
       "2      36d2f49fc49f572677416d54536a41c6     2020-04-15     7553   \n",
       "3      36d2f49fc49f572677416d54536a41c6     2020-04-15     7553   \n",
       "4      36d2f49fc49f572677416d54536a41c6     2020-04-15     7553   \n",
       "...                                 ...            ...      ...   \n",
       "39593  9a2d6dd8ff0a11bdc7a65c8ded5d6d92     2020-05-30     7553   \n",
       "39594  3c682df2f35ed1dc634501b4b7ae25fe     2020-05-30     7554   \n",
       "39595  3c682df2f35ed1dc634501b4b7ae25fe     2020-05-30     7554   \n",
       "39596  d6262e2d5840a2e68fcf028c9732606c     2020-05-30     7553   \n",
       "39597  1242029bded20eb92ffa31fd749d7ee4     2020-05-30     7553   \n",
       "\n",
       "       task_result_id task_result_translation base_translation  \\\n",
       "0                   6                 Успешно           База 1   \n",
       "1                   6                 Успешно           База 1   \n",
       "2                   6                 Успешно           База 1   \n",
       "3                   6                 Успешно           База 1   \n",
       "4                   6                 Успешно           База 1   \n",
       "...               ...                     ...              ...   \n",
       "39593               1                   Дубль           База 1   \n",
       "39594               5                   Отказ           База 4   \n",
       "39595               5                   Отказ           База 4   \n",
       "39596               5                   Отказ           База 1   \n",
       "39597               6                 Успешно           База 1   \n",
       "\n",
       "      product_type_cd approve_dt  reject_dt using_dt  \n",
       "0                 INV        NaT 2020-04-22      NaT  \n",
       "1                 INV        NaT 2020-04-22      NaT  \n",
       "2                 INV        NaT 2020-04-22      NaT  \n",
       "3                 INV        NaT 2020-04-22      NaT  \n",
       "4                 INV        NaT 2020-04-22      NaT  \n",
       "...               ...        ...        ...      ...  \n",
       "39593             NaN        NaT        NaT      NaT  \n",
       "39594             NaN        NaT        NaT      NaT  \n",
       "39595             NaN        NaT        NaT      NaT  \n",
       "39596             NaN        NaT        NaT      NaT  \n",
       "39597             INV 2020-05-30        NaT      NaT  \n",
       "\n",
       "[39598 rows x 17 columns]"
      ]
     },
     "metadata": {},
     "output_type": "display_data"
    }
   ],
   "source": [
    "#выводим на экран объединенную таблицу\n",
    "display(df_final_merge)"
   ]
  },
  {
   "cell_type": "code",
   "execution_count": 159,
   "id": "dddfa109",
   "metadata": {},
   "outputs": [],
   "source": [
    "#Сделаем импорт графических библиотек\n",
    "import matplotlib.pyplot as plt\n",
    "import plotly.express as px\n",
    "%matplotlib inline\n",
    "# импортируем seaborn для лучшего отображения\n",
    "import seaborn as sns\n",
    "sns.set()"
   ]
  },
  {
   "cell_type": "code",
   "execution_count": 160,
   "id": "a03cfab2",
   "metadata": {},
   "outputs": [
    {
     "name": "stderr",
     "output_type": "stream",
     "text": [
      "C:\\Users\\Lenovo\\Anaconda3\\lib\\site-packages\\seaborn\\_decorators.py:43: FutureWarning:\n",
      "\n",
      "Pass the following variable as a keyword arg: x. From version 0.12, the only valid positional argument will be `data`, and passing other arguments without an explicit keyword will result in an error or misinterpretation.\n",
      "\n"
     ]
    },
    {
     "data": {
      "text/plain": [
       "Text(0.5, 1.0, 'Разброс количества секунд по квртилям')"
      ]
     },
     "execution_count": 160,
     "metadata": {},
     "output_type": "execute_result"
    },
    {
     "data": {
      "image/png": "[encoded data removed]",
      "text/plain": [
       "<Figure size 1080x720 with 1 Axes>"
      ]
     },
     "metadata": {},
     "output_type": "display_data"
    }
   ],
   "source": [
    "# посмотрим как распределны показатели длины звонка\n",
    "plt.figure(figsize=(15,10))\n",
    "ax=sns.boxplot(df_final_merge.call_time_sec)\n",
    "ax.set_title(\"Разброс количества секунд по квртилям\")"
   ]
  },
  {
   "cell_type": "markdown",
   "id": "b5ebb537",
   "metadata": {},
   "source": [
    "### В целом звонок не должен длияться долго, но можем предположить, что некоторые звонки дляться до часа. примем максимальное значение как выброс."
   ]
  },
  {
   "cell_type": "code",
   "execution_count": 161,
   "id": "90ea934a",
   "metadata": {},
   "outputs": [],
   "source": [
    "df_final_merge = df_final_merge[df_final_merge.call_time_sec < 4000]"
   ]
  },
  {
   "cell_type": "markdown",
   "id": "cc6be690",
   "metadata": {},
   "source": [
    "# Задание 2"
   ]
  },
  {
   "cell_type": "markdown",
   "id": "ad528c2d",
   "metadata": {},
   "source": [
    "## Задание 2.1 \n",
    "## Создание общей вороднки продаж по базам данных"
   ]
  },
  {
   "cell_type": "code",
   "execution_count": 162,
   "id": "bd84a474",
   "metadata": {},
   "outputs": [
    {
     "data": {
      "text/plain": [
       "База 1    37434\n",
       "База 4     2163\n",
       "Name: base_translation, dtype: int64"
      ]
     },
     "execution_count": 162,
     "metadata": {},
     "output_type": "execute_result"
    }
   ],
   "source": [
    "#определяем кол-во баз данных\n",
    "df_final_merge.base_translation.value_counts()"
   ]
  },
  {
   "cell_type": "code",
   "execution_count": 163,
   "id": "b522a47f",
   "metadata": {},
   "outputs": [],
   "source": [
    "# Разбиваем общую базу данных на 2 базы: База 1 и База 4\n",
    "\n",
    "df_base_1 = df_final_merge[df_final_merge[\"base_translation\"] == \"База 1\"]\n",
    "\n",
    "df_base_4 = df_final_merge[df_final_merge[\"base_translation\"] == \"База 4\"]"
   ]
  },
  {
   "cell_type": "markdown",
   "id": "424a6c8e",
   "metadata": {},
   "source": [
    "### Расчитываем показатели для воронки продаж для Базы 1"
   ]
  },
  {
   "cell_type": "code",
   "execution_count": 164,
   "id": "5cb1a603",
   "metadata": {},
   "outputs": [
    {
     "name": "stdout",
     "output_type": "stream",
     "text": [
      "Кол-во клеинтов к которым дозвонились: 17896\n",
      "Кол-во клеинтов к которым дозвонились и не отказали: 11313\n",
      "Кол-во клеинтов к которым дозвонились и продали: 5559\n"
     ]
    }
   ],
   "source": [
    " # для тех кто дозовнился  \n",
    "df_b1_1 = df_base_1[df_base_1.call_result_translation.str.contains(\"Дозвон\")].reset_index(drop=True)    \n",
    "cnt_b1_1 = df_b1_1.task_id.nunique()\n",
    "print(f'Кол-во клеинтов к которым дозвонились: {cnt_b1_1}')\n",
    "\n",
    "#кто дозвонился и не получил отказ\n",
    "df_b1_2 = df_b1_1[~df_b1_1.call_result_translation.str.contains(\"Отказ\")].reset_index(drop=True) \n",
    "cnt_b1_2 = df_b1_2.task_id.nunique()\n",
    "print(f'Кол-во клеинтов к которым дозвонились и не отказали: {cnt_b1_2}')\n",
    "\n",
    "#кто дозвонился и продал продукт\n",
    "df_b1_3 = df_b1_2[df_b1_2.call_result_translation.str.contains(\"Успешно\")].reset_index(drop=True)\n",
    "cnt_b1_3 = df_b1_3.task_id.nunique()\n",
    "print(f'Кол-во клеинтов к которым дозвонились и продали: {cnt_b1_3}')"
   ]
  },
  {
   "cell_type": "code",
   "execution_count": 165,
   "id": "dd796892",
   "metadata": {},
   "outputs": [
    {
     "data": {
      "text/plain": [
       "843083337    1\n",
       "912437232    1\n",
       "912429222    1\n",
       "912426384    1\n",
       "912408973    1\n",
       "            ..\n",
       "889865611    1\n",
       "889862266    1\n",
       "889849478    1\n",
       "889942164    1\n",
       "933065058    1\n",
       "Name: task_id, Length: 5559, dtype: int64"
      ]
     },
     "execution_count": 165,
     "metadata": {},
     "output_type": "execute_result"
    }
   ],
   "source": [
    "# проверяем есть ли клиенты, которые повторно делали покупку\n",
    "df_b1_3.task_id.value_counts(ascending =True)"
   ]
  },
  {
   "cell_type": "markdown",
   "id": "f0bffb60",
   "metadata": {},
   "source": [
    "### Расчитываем показатели для воронки продаж для Базы 1"
   ]
  },
  {
   "cell_type": "code",
   "execution_count": 166,
   "id": "86136884",
   "metadata": {},
   "outputs": [
    {
     "name": "stdout",
     "output_type": "stream",
     "text": [
      "Кол-во клеинтов к которым дозвонились: 910\n",
      "Кол-во клеинтов к которым дозвонились и не отказали: 678\n",
      "Кол-во клеинтов к которым дозвонились и продали: 451\n"
     ]
    }
   ],
   "source": [
    " # для тех кто дозовнился  \n",
    "df_b4_1 = df_base_4[df_base_4.call_result_translation.str.contains(\"Дозвон\")].reset_index(drop=True)    \n",
    "cnt_b4_1 = df_b4_1.task_id.nunique()\n",
    "print(f'Кол-во клеинтов к которым дозвонились: {cnt_b4_1}')\n",
    "\n",
    "#кто дозвонился и не получил отказ\n",
    "df_b4_2 = df_b4_1[~df_b4_1.call_result_translation.str.contains(\"Отказ\")].reset_index(drop=True) \n",
    "cnt_b4_2 = df_b4_2.task_id.nunique()\n",
    "print(f'Кол-во клеинтов к которым дозвонились и не отказали: {cnt_b4_2}')\n",
    "\n",
    "#кто дозвонился и продал продукт\n",
    "df_b4_3 = df_b4_2[df_b4_2.call_result_translation.str.contains(\"Успешно\")].reset_index(drop=True)\n",
    "cnt_b4_3 = df_b4_3.task_id.nunique()\n",
    "print(f'Кол-во клеинтов к которым дозвонились и продали: {cnt_b4_3}')"
   ]
  },
  {
   "cell_type": "code",
   "execution_count": 167,
   "id": "87a79556",
   "metadata": {},
   "outputs": [
    {
     "data": {
      "text/plain": [
       "869211882    1\n",
       "884648160    1\n",
       "884588246    1\n",
       "884524170    1\n",
       "884513084    1\n",
       "            ..\n",
       "878224927    1\n",
       "878206584    1\n",
       "878204100    1\n",
       "877675231    1\n",
       "931822370    1\n",
       "Name: task_id, Length: 451, dtype: int64"
      ]
     },
     "execution_count": 167,
     "metadata": {},
     "output_type": "execute_result"
    }
   ],
   "source": [
    "# проверяем есть ли клиенты, которые повторно делали покупку\n",
    "df_b4_3.task_id.value_counts(ascending =True)"
   ]
  },
  {
   "cell_type": "markdown",
   "id": "334c16f3",
   "metadata": {},
   "source": [
    "### Создаем исходные данные для построение воронки продаж"
   ]
  },
  {
   "cell_type": "code",
   "execution_count": 168,
   "id": "b910b11e",
   "metadata": {},
   "outputs": [],
   "source": [
    "qnt_list = [cnt_b1_1,cnt_b1_2,cnt_b1_3,cnt_b4_1,cnt_b4_2,cnt_b4_3]\n",
    "calls_list = [\"Звонки\",\"Звонок + заинтересованность\", \"Звоно + продажа\"]\n",
    "base_list = [\"База 1\",\"База 4\"]"
   ]
  },
  {
   "cell_type": "code",
   "execution_count": 169,
   "id": "681b726a",
   "metadata": {},
   "outputs": [],
   "source": [
    "import matplotlib.pyplot as plt\n",
    "import plotly.express as px"
   ]
  },
  {
   "cell_type": "code",
   "execution_count": 170,
   "id": "d710242b",
   "metadata": {},
   "outputs": [
    {
     "data": {
      "application/vnd.plotly.v1+json": {
       "config": {
        "plotlyServerURL": "https://plot.ly"
       },
       "data": [
        {
         "hovertemplate": "База=База 1<br>Quantity=%{x}<br>Этапы=%{y}<extra></extra>",
         "legendgroup": "База 1",
         "marker": {
          "color": "#c4c425"
         },
         "name": "База 1",
         "opacity": 0.8,
         "orientation": "h",
         "showlegend": true,
         "type": "funnel",
         "x": [
          17896,
          11313,
          5559
         ],
         "xaxis": "x",
         "y": [
          "Звонки",
          "Звонок + заинтересованность",
          "Звонок + продажа"
         ],
         "yaxis": "y"
        },
        {
         "hovertemplate": "База=База 4<br>Quantity=%{x}<br>Этапы=%{y}<extra></extra>",
         "legendgroup": "База 4",
         "marker": {
          "color": "#617588"
         },
         "name": "База 4",
         "opacity": 0.8,
         "orientation": "h",
         "showlegend": true,
         "type": "funnel",
         "x": [
          910,
          678,
          451
         ],
         "xaxis": "x",
         "y": [
          "Звонки",
          "Звонок + заинтересованность",
          "Звонок + продажа"
         ],
         "yaxis": "y"
        }
       ],
       "layout": {
        "legend": {
         "title": {
          "text": "База"
         },
         "tracegroupgap": 0
        },
        "template": {
         "data": {
          "bar": [
           {
            "error_x": {
             "color": "rgb(36,36,36)"
            },
            "error_y": {
             "color": "rgb(36,36,36)"
            },
            "marker": {
             "line": {
              "color": "white",
              "width": 0.5
             }
            },
            "type": "bar"
           }
          ],
          "barpolar": [
           {
            "marker": {
             "line": {
              "color": "white",
              "width": 0.5
             }
            },
            "type": "barpolar"
           }
          ],
          "carpet": [
           {
            "aaxis": {
             "endlinecolor": "rgb(36,36,36)",
             "gridcolor": "white",
             "linecolor": "white",
             "minorgridcolor": "white",
             "startlinecolor": "rgb(36,36,36)"
            },
            "baxis": {
             "endlinecolor": "rgb(36,36,36)",
             "gridcolor": "white",
             "linecolor": "white",
             "minorgridcolor": "white",
             "startlinecolor": "rgb(36,36,36)"
            },
            "type": "carpet"
           }
          ],
          "choropleth": [
           {
            "colorbar": {
             "outlinewidth": 1,
             "tickcolor": "rgb(36,36,36)",
             "ticks": "outside"
            },
            "type": "choropleth"
           }
          ],
          "contour": [
           {
            "colorbar": {
             "outlinewidth": 1,
             "tickcolor": "rgb(36,36,36)",
             "ticks": "outside"
            },
            "colorscale": [
             [
              0,
              "#440154"
             ],
             [
              0.1111111111111111,
              "#482878"
             ],
             [
              0.2222222222222222,
              "#3e4989"
             ],
             [
              0.3333333333333333,
              "#31688e"
             ],
             [
              0.4444444444444444,
              "#26828e"
             ],
             [
              0.5555555555555556,
              "#1f9e89"
             ],
             [
              0.6666666666666666,
              "#35b779"
             ],
             [
              0.7777777777777778,
              "#6ece58"
             ],
             [
              0.8888888888888888,
              "#b5de2b"
             ],
             [
              1,
              "#fde725"
             ]
            ],
            "type": "contour"
           }
          ],
          "contourcarpet": [
           {
            "colorbar": {
             "outlinewidth": 1,
             "tickcolor": "rgb(36,36,36)",
             "ticks": "outside"
            },
            "type": "contourcarpet"
           }
          ],
          "heatmap": [
           {
            "colorbar": {
             "outlinewidth": 1,
             "tickcolor": "rgb(36,36,36)",
             "ticks": "outside"
            },
            "colorscale": [
             [
              0,
              "#440154"
             ],
             [
              0.1111111111111111,
              "#482878"
             ],
             [
              0.2222222222222222,
              "#3e4989"
             ],
             [
              0.3333333333333333,
              "#31688e"
             ],
             [
              0.4444444444444444,
              "#26828e"
             ],
             [
              0.5555555555555556,
              "#1f9e89"
             ],
             [
              0.6666666666666666,
              "#35b779"
             ],
             [
              0.7777777777777778,
              "#6ece58"
             ],
             [
              0.8888888888888888,
              "#b5de2b"
             ],
             [
              1,
              "#fde725"
             ]
            ],
            "type": "heatmap"
           }
          ],
          "heatmapgl": [
           {
            "colorbar": {
             "outlinewidth": 1,
             "tickcolor": "rgb(36,36,36)",
             "ticks": "outside"
            },
            "colorscale": [
             [
              0,
              "#440154"
             ],
             [
              0.1111111111111111,
              "#482878"
             ],
             [
              0.2222222222222222,
              "#3e4989"
             ],
             [
              0.3333333333333333,
              "#31688e"
             ],
             [
              0.4444444444444444,
              "#26828e"
             ],
             [
              0.5555555555555556,
              "#1f9e89"
             ],
             [
              0.6666666666666666,
              "#35b779"
             ],
             [
              0.7777777777777778,
              "#6ece58"
             ],
             [
              0.8888888888888888,
              "#b5de2b"
             ],
             [
              1,
              "#fde725"
             ]
            ],
            "type": "heatmapgl"
           }
          ],
          "histogram": [
           {
            "marker": {
             "line": {
              "color": "white",
              "width": 0.6
             }
            },
            "type": "histogram"
           }
          ],
          "histogram2d": [
           {
            "colorbar": {
             "outlinewidth": 1,
             "tickcolor": "rgb(36,36,36)",
             "ticks": "outside"
            },
            "colorscale": [
             [
              0,
              "#440154"
             ],
             [
              0.1111111111111111,
              "#482878"
             ],
             [
              0.2222222222222222,
              "#3e4989"
             ],
             [
              0.3333333333333333,
              "#31688e"
             ],
             [
              0.4444444444444444,
              "#26828e"
             ],
             [
              0.5555555555555556,
              "#1f9e89"
             ],
             [
              0.6666666666666666,
              "#35b779"
             ],
             [
              0.7777777777777778,
              "#6ece58"
             ],
             [
              0.8888888888888888,
              "#b5de2b"
             ],
             [
              1,
              "#fde725"
             ]
            ],
            "type": "histogram2d"
           }
          ],
          "histogram2dcontour": [
           {
            "colorbar": {
             "outlinewidth": 1,
             "tickcolor": "rgb(36,36,36)",
             "ticks": "outside"
            },
            "colorscale": [
             [
              0,
              "#440154"
             ],
             [
              0.1111111111111111,
              "#482878"
             ],
             [
              0.2222222222222222,
              "#3e4989"
             ],
             [
              0.3333333333333333,
              "#31688e"
             ],
             [
              0.4444444444444444,
              "#26828e"
             ],
             [
              0.5555555555555556,
              "#1f9e89"
             ],
             [
              0.6666666666666666,
              "#35b779"
             ],
             [
              0.7777777777777778,
              "#6ece58"
             ],
             [
              0.8888888888888888,
              "#b5de2b"
             ],
             [
              1,
              "#fde725"
             ]
            ],
            "type": "histogram2dcontour"
           }
          ],
          "mesh3d": [
           {
            "colorbar": {
             "outlinewidth": 1,
             "tickcolor": "rgb(36,36,36)",
             "ticks": "outside"
            },
            "type": "mesh3d"
           }
          ],
          "parcoords": [
           {
            "line": {
             "colorbar": {
              "outlinewidth": 1,
              "tickcolor": "rgb(36,36,36)",
              "ticks": "outside"
             }
            },
            "type": "parcoords"
           }
          ],
          "pie": [
           {
            "automargin": true,
            "type": "pie"
           }
          ],
          "scatter": [
           {
            "marker": {
             "colorbar": {
              "outlinewidth": 1,
              "tickcolor": "rgb(36,36,36)",
              "ticks": "outside"
             }
            },
            "type": "scatter"
           }
          ],
          "scatter3d": [
           {
            "line": {
             "colorbar": {
              "outlinewidth": 1,
              "tickcolor": "rgb(36,36,36)",
              "ticks": "outside"
             }
            },
            "marker": {
             "colorbar": {
              "outlinewidth": 1,
              "tickcolor": "rgb(36,36,36)",
              "ticks": "outside"
             }
            },
            "type": "scatter3d"
           }
          ],
          "scattercarpet": [
           {
            "marker": {
             "colorbar": {
              "outlinewidth": 1,
              "tickcolor": "rgb(36,36,36)",
              "ticks": "outside"
             }
            },
            "type": "scattercarpet"
           }
          ],
          "scattergeo": [
           {
            "marker": {
             "colorbar": {
              "outlinewidth": 1,
              "tickcolor": "rgb(36,36,36)",
              "ticks": "outside"
             }
            },
            "type": "scattergeo"
           }
          ],
          "scattergl": [
           {
            "marker": {
             "colorbar": {
              "outlinewidth": 1,
              "tickcolor": "rgb(36,36,36)",
              "ticks": "outside"
             }
            },
            "type": "scattergl"
           }
          ],
          "scattermapbox": [
           {
            "marker": {
             "colorbar": {
              "outlinewidth": 1,
              "tickcolor": "rgb(36,36,36)",
              "ticks": "outside"
             }
            },
            "type": "scattermapbox"
           }
          ],
          "scatterpolar": [
           {
            "marker": {
             "colorbar": {
              "outlinewidth": 1,
              "tickcolor": "rgb(36,36,36)",
              "ticks": "outside"
             }
            },
            "type": "scatterpolar"
           }
          ],
          "scatterpolargl": [
           {
            "marker": {
             "colorbar": {
              "outlinewidth": 1,
              "tickcolor": "rgb(36,36,36)",
              "ticks": "outside"
             }
            },
            "type": "scatterpolargl"
           }
          ],
          "scatterternary": [
           {
            "marker": {
             "colorbar": {
              "outlinewidth": 1,
              "tickcolor": "rgb(36,36,36)",
              "ticks": "outside"
             }
            },
            "type": "scatterternary"
           }
          ],
          "surface": [
           {
            "colorbar": {
             "outlinewidth": 1,
             "tickcolor": "rgb(36,36,36)",
             "ticks": "outside"
            },
            "colorscale": [
             [
              0,
              "#440154"
             ],
             [
              0.1111111111111111,
              "#482878"
             ],
             [
              0.2222222222222222,
              "#3e4989"
             ],
             [
              0.3333333333333333,
              "#31688e"
             ],
             [
              0.4444444444444444,
              "#26828e"
             ],
             [
              0.5555555555555556,
              "#1f9e89"
             ],
             [
              0.6666666666666666,
              "#35b779"
             ],
             [
              0.7777777777777778,
              "#6ece58"
             ],
             [
              0.8888888888888888,
              "#b5de2b"
             ],
             [
              1,
              "#fde725"
             ]
            ],
            "type": "surface"
           }
          ],
          "table": [
           {
            "cells": {
             "fill": {
              "color": "rgb(237,237,237)"
             },
             "line": {
              "color": "white"
             }
            },
            "header": {
             "fill": {
              "color": "rgb(217,217,217)"
             },
             "line": {
              "color": "white"
             }
            },
            "type": "table"
           }
          ]
         },
         "layout": {
          "annotationdefaults": {
           "arrowhead": 0,
           "arrowwidth": 1
          },
          "autotypenumbers": "strict",
          "coloraxis": {
           "colorbar": {
            "outlinewidth": 1,
            "tickcolor": "rgb(36,36,36)",
            "ticks": "outside"
           }
          },
          "colorscale": {
           "diverging": [
            [
             0,
             "rgb(103,0,31)"
            ],
            [
             0.1,
             "rgb(178,24,43)"
            ],
            [
             0.2,
             "rgb(214,96,77)"
            ],
            [
             0.3,
             "rgb(244,165,130)"
            ],
            [
             0.4,
             "rgb(253,219,199)"
            ],
            [
             0.5,
             "rgb(247,247,247)"
            ],
            [
             0.6,
             "rgb(209,229,240)"
            ],
            [
             0.7,
             "rgb(146,197,222)"
            ],
            [
             0.8,
             "rgb(67,147,195)"
            ],
            [
             0.9,
             "rgb(33,102,172)"
            ],
            [
             1,
             "rgb(5,48,97)"
            ]
           ],
           "sequential": [
            [
             0,
             "#440154"
            ],
            [
             0.1111111111111111,
             "#482878"
            ],
            [
             0.2222222222222222,
             "#3e4989"
            ],
            [
             0.3333333333333333,
             "#31688e"
            ],
            [
             0.4444444444444444,
             "#26828e"
            ],
            [
             0.5555555555555556,
             "#1f9e89"
            ],
            [
             0.6666666666666666,
             "#35b779"
            ],
            [
             0.7777777777777778,
             "#6ece58"
            ],
            [
             0.8888888888888888,
             "#b5de2b"
            ],
            [
             1,
             "#fde725"
            ]
           ],
           "sequentialminus": [
            [
             0,
             "#440154"
            ],
            [
             0.1111111111111111,
             "#482878"
            ],
            [
             0.2222222222222222,
             "#3e4989"
            ],
            [
             0.3333333333333333,
             "#31688e"
            ],
            [
             0.4444444444444444,
             "#26828e"
            ],
            [
             0.5555555555555556,
             "#1f9e89"
            ],
            [
             0.6666666666666666,
             "#35b779"
            ],
            [
             0.7777777777777778,
             "#6ece58"
            ],
            [
             0.8888888888888888,
             "#b5de2b"
            ],
            [
             1,
             "#fde725"
            ]
           ]
          },
          "colorway": [
           "#1F77B4",
           "#FF7F0E",
           "#2CA02C",
           "#D62728",
           "#9467BD",
           "#8C564B",
           "#E377C2",
           "#7F7F7F",
           "#BCBD22",
           "#17BECF"
          ],
          "font": {
           "color": "rgb(36,36,36)"
          },
          "geo": {
           "bgcolor": "white",
           "lakecolor": "white",
           "landcolor": "white",
           "showlakes": true,
           "showland": true,
           "subunitcolor": "white"
          },
          "hoverlabel": {
           "align": "left"
          },
          "hovermode": "closest",
          "mapbox": {
           "style": "light"
          },
          "paper_bgcolor": "white",
          "plot_bgcolor": "white",
          "polar": {
           "angularaxis": {
            "gridcolor": "rgb(232,232,232)",
            "linecolor": "rgb(36,36,36)",
            "showgrid": false,
            "showline": true,
            "ticks": "outside"
           },
           "bgcolor": "white",
           "radialaxis": {
            "gridcolor": "rgb(232,232,232)",
            "linecolor": "rgb(36,36,36)",
            "showgrid": false,
            "showline": true,
            "ticks": "outside"
           }
          },
          "scene": {
           "xaxis": {
            "backgroundcolor": "white",
            "gridcolor": "rgb(232,232,232)",
            "gridwidth": 2,
            "linecolor": "rgb(36,36,36)",
            "showbackground": true,
            "showgrid": false,
            "showline": true,
            "ticks": "outside",
            "zeroline": false,
            "zerolinecolor": "rgb(36,36,36)"
           },
           "yaxis": {
            "backgroundcolor": "white",
            "gridcolor": "rgb(232,232,232)",
            "gridwidth": 2,
            "linecolor": "rgb(36,36,36)",
            "showbackground": true,
            "showgrid": false,
            "showline": true,
            "ticks": "outside",
            "zeroline": false,
            "zerolinecolor": "rgb(36,36,36)"
           },
           "zaxis": {
            "backgroundcolor": "white",
            "gridcolor": "rgb(232,232,232)",
            "gridwidth": 2,
            "linecolor": "rgb(36,36,36)",
            "showbackground": true,
            "showgrid": false,
            "showline": true,
            "ticks": "outside",
            "zeroline": false,
            "zerolinecolor": "rgb(36,36,36)"
           }
          },
          "shapedefaults": {
           "fillcolor": "black",
           "line": {
            "width": 0
           },
           "opacity": 0.3
          },
          "ternary": {
           "aaxis": {
            "gridcolor": "rgb(232,232,232)",
            "linecolor": "rgb(36,36,36)",
            "showgrid": false,
            "showline": true,
            "ticks": "outside"
           },
           "baxis": {
            "gridcolor": "rgb(232,232,232)",
            "linecolor": "rgb(36,36,36)",
            "showgrid": false,
            "showline": true,
            "ticks": "outside"
           },
           "bgcolor": "white",
           "caxis": {
            "gridcolor": "rgb(232,232,232)",
            "linecolor": "rgb(36,36,36)",
            "showgrid": false,
            "showline": true,
            "ticks": "outside"
           }
          },
          "title": {
           "x": 0.05
          },
          "xaxis": {
           "automargin": true,
           "gridcolor": "rgb(232,232,232)",
           "linecolor": "rgb(36,36,36)",
           "showgrid": false,
           "showline": true,
           "ticks": "outside",
           "title": {
            "standoff": 15
           },
           "zeroline": false,
           "zerolinecolor": "rgb(36,36,36)"
          },
          "yaxis": {
           "automargin": true,
           "gridcolor": "rgb(232,232,232)",
           "linecolor": "rgb(36,36,36)",
           "showgrid": false,
           "showline": true,
           "ticks": "outside",
           "title": {
            "standoff": 15
           },
           "zeroline": false,
           "zerolinecolor": "rgb(36,36,36)"
          }
         }
        },
        "title": {
         "text": "Воронка продаж"
        },
        "xaxis": {
         "anchor": "y",
         "domain": [
          0,
          1
         ],
         "title": {
          "text": "Quantity"
         }
        },
        "yaxis": {
         "anchor": "x",
         "domain": [
          0,
          1
         ],
         "title": {
          "text": "Этапы"
         }
        }
       }
      },
      "text/html": [
       "<div>                            <div id=\"1e929214-f621-4d3d-aaa5-c87690121585\" class=\"plotly-graph-div\" style=\"height:525px; width:100%;\"></div>            <script type=\"text/javascript\">                require([\"plotly\"], function(Plotly) {                    window.PLOTLYENV=window.PLOTLYENV || {};                                    if (document.getElementById(\"1e929214-f621-4d3d-aaa5-c87690121585\")) {                    Plotly.newPlot(                        \"1e929214-f621-4d3d-aaa5-c87690121585\",                        [{\"hovertemplate\": \"\\u0411\\u0430\\u0437\\u0430=\\u0411\\u0430\\u0437\\u0430 1<br>Quantity=%{x}<br>\\u042d\\u0442\\u0430\\u043f\\u044b=%{y}<extra></extra>\", \"legendgroup\": \"\\u0411\\u0430\\u0437\\u0430 1\", \"marker\": {\"color\": \"#c4c425\"}, \"name\": \"\\u0411\\u0430\\u0437\\u0430 1\", \"opacity\": 0.8, \"orientation\": \"h\", \"showlegend\": true, \"type\": \"funnel\", \"x\": [17896, 11313, 5559], \"xaxis\": \"x\", \"y\": [\"\\u0417\\u0432\\u043e\\u043d\\u043a\\u0438\", \"\\u0417\\u0432\\u043e\\u043d\\u043e\\u043a + \\u0437\\u0430\\u0438\\u043d\\u0442\\u0435\\u0440\\u0435\\u0441\\u043e\\u0432\\u0430\\u043d\\u043d\\u043e\\u0441\\u0442\\u044c\", \"\\u0417\\u0432\\u043e\\u043d\\u043e\\u043a + \\u043f\\u0440\\u043e\\u0434\\u0430\\u0436\\u0430\"], \"yaxis\": \"y\"}, {\"hovertemplate\": \"\\u0411\\u0430\\u0437\\u0430=\\u0411\\u0430\\u0437\\u0430 4<br>Quantity=%{x}<br>\\u042d\\u0442\\u0430\\u043f\\u044b=%{y}<extra></extra>\", \"legendgroup\": \"\\u0411\\u0430\\u0437\\u0430 4\", \"marker\": {\"color\": \"#617588\"}, \"name\": \"\\u0411\\u0430\\u0437\\u0430 4\", \"opacity\": 0.8, \"orientation\": \"h\", \"showlegend\": true, \"type\": \"funnel\", \"x\": [910, 678, 451], \"xaxis\": \"x\", \"y\": [\"\\u0417\\u0432\\u043e\\u043d\\u043a\\u0438\", \"\\u0417\\u0432\\u043e\\u043d\\u043e\\u043a + \\u0437\\u0430\\u0438\\u043d\\u0442\\u0435\\u0440\\u0435\\u0441\\u043e\\u0432\\u0430\\u043d\\u043d\\u043e\\u0441\\u0442\\u044c\", \"\\u0417\\u0432\\u043e\\u043d\\u043e\\u043a + \\u043f\\u0440\\u043e\\u0434\\u0430\\u0436\\u0430\"], \"yaxis\": \"y\"}],                        {\"legend\": {\"title\": {\"text\": \"\\u0411\\u0430\\u0437\\u0430\"}, \"tracegroupgap\": 0}, \"template\": {\"data\": {\"bar\": [{\"error_x\": {\"color\": \"rgb(36,36,36)\"}, \"error_y\": {\"color\": \"rgb(36,36,36)\"}, \"marker\": {\"line\": {\"color\": \"white\", \"width\": 0.5}}, \"type\": \"bar\"}], \"barpolar\": [{\"marker\": {\"line\": {\"color\": \"white\", \"width\": 0.5}}, \"type\": \"barpolar\"}], \"carpet\": [{\"aaxis\": {\"endlinecolor\": \"rgb(36,36,36)\", \"gridcolor\": \"white\", \"linecolor\": \"white\", \"minorgridcolor\": \"white\", \"startlinecolor\": \"rgb(36,36,36)\"}, \"baxis\": {\"endlinecolor\": \"rgb(36,36,36)\", \"gridcolor\": \"white\", \"linecolor\": \"white\", \"minorgridcolor\": \"white\", \"startlinecolor\": \"rgb(36,36,36)\"}, \"type\": \"carpet\"}], \"choropleth\": [{\"colorbar\": {\"outlinewidth\": 1, \"tickcolor\": \"rgb(36,36,36)\", \"ticks\": \"outside\"}, \"type\": \"choropleth\"}], \"contour\": [{\"colorbar\": {\"outlinewidth\": 1, \"tickcolor\": \"rgb(36,36,36)\", \"ticks\": \"outside\"}, \"colorscale\": [[0.0, \"#440154\"], [0.1111111111111111, \"#482878\"], [0.2222222222222222, \"#3e4989\"], [0.3333333333333333, \"#31688e\"], [0.4444444444444444, \"#26828e\"], [0.5555555555555556, \"#1f9e89\"], [0.6666666666666666, \"#35b779\"], [0.7777777777777778, \"#6ece58\"], [0.8888888888888888, \"#b5de2b\"], [1.0, \"#fde725\"]], \"type\": \"contour\"}], \"contourcarpet\": [{\"colorbar\": {\"outlinewidth\": 1, \"tickcolor\": \"rgb(36,36,36)\", \"ticks\": \"outside\"}, \"type\": \"contourcarpet\"}], \"heatmap\": [{\"colorbar\": {\"outlinewidth\": 1, \"tickcolor\": \"rgb(36,36,36)\", \"ticks\": \"outside\"}, \"colorscale\": [[0.0, \"#440154\"], [0.1111111111111111, \"#482878\"], [0.2222222222222222, \"#3e4989\"], [0.3333333333333333, \"#31688e\"], [0.4444444444444444, \"#26828e\"], [0.5555555555555556, \"#1f9e89\"], [0.6666666666666666, \"#35b779\"], [0.7777777777777778, \"#6ece58\"], [0.8888888888888888, \"#b5de2b\"], [1.0, \"#fde725\"]], \"type\": \"heatmap\"}], \"heatmapgl\": [{\"colorbar\": {\"outlinewidth\": 1, \"tickcolor\": \"rgb(36,36,36)\", \"ticks\": \"outside\"}, \"colorscale\": [[0.0, \"#440154\"], [0.1111111111111111, \"#482878\"], [0.2222222222222222, \"#3e4989\"], [0.3333333333333333, \"#31688e\"], [0.4444444444444444, \"#26828e\"], [0.5555555555555556, \"#1f9e89\"], [0.6666666666666666, \"#35b779\"], [0.7777777777777778, \"#6ece58\"], [0.8888888888888888, \"#b5de2b\"], [1.0, \"#fde725\"]], \"type\": \"heatmapgl\"}], \"histogram\": [{\"marker\": {\"line\": {\"color\": \"white\", \"width\": 0.6}}, \"type\": \"histogram\"}], \"histogram2d\": [{\"colorbar\": {\"outlinewidth\": 1, \"tickcolor\": \"rgb(36,36,36)\", \"ticks\": \"outside\"}, \"colorscale\": [[0.0, \"#440154\"], [0.1111111111111111, \"#482878\"], [0.2222222222222222, \"#3e4989\"], [0.3333333333333333, \"#31688e\"], [0.4444444444444444, \"#26828e\"], [0.5555555555555556, \"#1f9e89\"], [0.6666666666666666, \"#35b779\"], [0.7777777777777778, \"#6ece58\"], [0.8888888888888888, \"#b5de2b\"], [1.0, \"#fde725\"]], \"type\": \"histogram2d\"}], \"histogram2dcontour\": [{\"colorbar\": {\"outlinewidth\": 1, \"tickcolor\": \"rgb(36,36,36)\", \"ticks\": \"outside\"}, \"colorscale\": [[0.0, \"#440154\"], [0.1111111111111111, \"#482878\"], [0.2222222222222222, \"#3e4989\"], [0.3333333333333333, \"#31688e\"], [0.4444444444444444, \"#26828e\"], [0.5555555555555556, \"#1f9e89\"], [0.6666666666666666, \"#35b779\"], [0.7777777777777778, \"#6ece58\"], [0.8888888888888888, \"#b5de2b\"], [1.0, \"#fde725\"]], \"type\": \"histogram2dcontour\"}], \"mesh3d\": [{\"colorbar\": {\"outlinewidth\": 1, \"tickcolor\": \"rgb(36,36,36)\", \"ticks\": \"outside\"}, \"type\": \"mesh3d\"}], \"parcoords\": [{\"line\": {\"colorbar\": {\"outlinewidth\": 1, \"tickcolor\": \"rgb(36,36,36)\", \"ticks\": \"outside\"}}, \"type\": \"parcoords\"}], \"pie\": [{\"automargin\": true, \"type\": \"pie\"}], \"scatter\": [{\"marker\": {\"colorbar\": {\"outlinewidth\": 1, \"tickcolor\": \"rgb(36,36,36)\", \"ticks\": \"outside\"}}, \"type\": \"scatter\"}], \"scatter3d\": [{\"line\": {\"colorbar\": {\"outlinewidth\": 1, \"tickcolor\": \"rgb(36,36,36)\", \"ticks\": \"outside\"}}, \"marker\": {\"colorbar\": {\"outlinewidth\": 1, \"tickcolor\": \"rgb(36,36,36)\", \"ticks\": \"outside\"}}, \"type\": \"scatter3d\"}], \"scattercarpet\": [{\"marker\": {\"colorbar\": {\"outlinewidth\": 1, \"tickcolor\": \"rgb(36,36,36)\", \"ticks\": \"outside\"}}, \"type\": \"scattercarpet\"}], \"scattergeo\": [{\"marker\": {\"colorbar\": {\"outlinewidth\": 1, \"tickcolor\": \"rgb(36,36,36)\", \"ticks\": \"outside\"}}, \"type\": \"scattergeo\"}], \"scattergl\": [{\"marker\": {\"colorbar\": {\"outlinewidth\": 1, \"tickcolor\": \"rgb(36,36,36)\", \"ticks\": \"outside\"}}, \"type\": \"scattergl\"}], \"scattermapbox\": [{\"marker\": {\"colorbar\": {\"outlinewidth\": 1, \"tickcolor\": \"rgb(36,36,36)\", \"ticks\": \"outside\"}}, \"type\": \"scattermapbox\"}], \"scatterpolar\": [{\"marker\": {\"colorbar\": {\"outlinewidth\": 1, \"tickcolor\": \"rgb(36,36,36)\", \"ticks\": \"outside\"}}, \"type\": \"scatterpolar\"}], \"scatterpolargl\": [{\"marker\": {\"colorbar\": {\"outlinewidth\": 1, \"tickcolor\": \"rgb(36,36,36)\", \"ticks\": \"outside\"}}, \"type\": \"scatterpolargl\"}], \"scatterternary\": [{\"marker\": {\"colorbar\": {\"outlinewidth\": 1, \"tickcolor\": \"rgb(36,36,36)\", \"ticks\": \"outside\"}}, \"type\": \"scatterternary\"}], \"surface\": [{\"colorbar\": {\"outlinewidth\": 1, \"tickcolor\": \"rgb(36,36,36)\", \"ticks\": \"outside\"}, \"colorscale\": [[0.0, \"#440154\"], [0.1111111111111111, \"#482878\"], [0.2222222222222222, \"#3e4989\"], [0.3333333333333333, \"#31688e\"], [0.4444444444444444, \"#26828e\"], [0.5555555555555556, \"#1f9e89\"], [0.6666666666666666, \"#35b779\"], [0.7777777777777778, \"#6ece58\"], [0.8888888888888888, \"#b5de2b\"], [1.0, \"#fde725\"]], \"type\": \"surface\"}], \"table\": [{\"cells\": {\"fill\": {\"color\": \"rgb(237,237,237)\"}, \"line\": {\"color\": \"white\"}}, \"header\": {\"fill\": {\"color\": \"rgb(217,217,217)\"}, \"line\": {\"color\": \"white\"}}, \"type\": \"table\"}]}, \"layout\": {\"annotationdefaults\": {\"arrowhead\": 0, \"arrowwidth\": 1}, \"autotypenumbers\": \"strict\", \"coloraxis\": {\"colorbar\": {\"outlinewidth\": 1, \"tickcolor\": \"rgb(36,36,36)\", \"ticks\": \"outside\"}}, \"colorscale\": {\"diverging\": [[0.0, \"rgb(103,0,31)\"], [0.1, \"rgb(178,24,43)\"], [0.2, \"rgb(214,96,77)\"], [0.3, \"rgb(244,165,130)\"], [0.4, \"rgb(253,219,199)\"], [0.5, \"rgb(247,247,247)\"], [0.6, \"rgb(209,229,240)\"], [0.7, \"rgb(146,197,222)\"], [0.8, \"rgb(67,147,195)\"], [0.9, \"rgb(33,102,172)\"], [1.0, \"rgb(5,48,97)\"]], \"sequential\": [[0.0, \"#440154\"], [0.1111111111111111, \"#482878\"], [0.2222222222222222, \"#3e4989\"], [0.3333333333333333, \"#31688e\"], [0.4444444444444444, \"#26828e\"], [0.5555555555555556, \"#1f9e89\"], [0.6666666666666666, \"#35b779\"], [0.7777777777777778, \"#6ece58\"], [0.8888888888888888, \"#b5de2b\"], [1.0, \"#fde725\"]], \"sequentialminus\": [[0.0, \"#440154\"], [0.1111111111111111, \"#482878\"], [0.2222222222222222, \"#3e4989\"], [0.3333333333333333, \"#31688e\"], [0.4444444444444444, \"#26828e\"], [0.5555555555555556, \"#1f9e89\"], [0.6666666666666666, \"#35b779\"], [0.7777777777777778, \"#6ece58\"], [0.8888888888888888, \"#b5de2b\"], [1.0, \"#fde725\"]]}, \"colorway\": [\"#1F77B4\", \"#FF7F0E\", \"#2CA02C\", \"#D62728\", \"#9467BD\", \"#8C564B\", \"#E377C2\", \"#7F7F7F\", \"#BCBD22\", \"#17BECF\"], \"font\": {\"color\": \"rgb(36,36,36)\"}, \"geo\": {\"bgcolor\": \"white\", \"lakecolor\": \"white\", \"landcolor\": \"white\", \"showlakes\": true, \"showland\": true, \"subunitcolor\": \"white\"}, \"hoverlabel\": {\"align\": \"left\"}, \"hovermode\": \"closest\", \"mapbox\": {\"style\": \"light\"}, \"paper_bgcolor\": \"white\", \"plot_bgcolor\": \"white\", \"polar\": {\"angularaxis\": {\"gridcolor\": \"rgb(232,232,232)\", \"linecolor\": \"rgb(36,36,36)\", \"showgrid\": false, \"showline\": true, \"ticks\": \"outside\"}, \"bgcolor\": \"white\", \"radialaxis\": {\"gridcolor\": \"rgb(232,232,232)\", \"linecolor\": \"rgb(36,36,36)\", \"showgrid\": false, \"showline\": true, \"ticks\": \"outside\"}}, \"scene\": {\"xaxis\": {\"backgroundcolor\": \"white\", \"gridcolor\": \"rgb(232,232,232)\", \"gridwidth\": 2, \"linecolor\": \"rgb(36,36,36)\", \"showbackground\": true, \"showgrid\": false, \"showline\": true, \"ticks\": \"outside\", \"zeroline\": false, \"zerolinecolor\": \"rgb(36,36,36)\"}, \"yaxis\": {\"backgroundcolor\": \"white\", \"gridcolor\": \"rgb(232,232,232)\", \"gridwidth\": 2, \"linecolor\": \"rgb(36,36,36)\", \"showbackground\": true, \"showgrid\": false, \"showline\": true, \"ticks\": \"outside\", \"zeroline\": false, \"zerolinecolor\": \"rgb(36,36,36)\"}, \"zaxis\": {\"backgroundcolor\": \"white\", \"gridcolor\": \"rgb(232,232,232)\", \"gridwidth\": 2, \"linecolor\": \"rgb(36,36,36)\", \"showbackground\": true, \"showgrid\": false, \"showline\": true, \"ticks\": \"outside\", \"zeroline\": false, \"zerolinecolor\": \"rgb(36,36,36)\"}}, \"shapedefaults\": {\"fillcolor\": \"black\", \"line\": {\"width\": 0}, \"opacity\": 0.3}, \"ternary\": {\"aaxis\": {\"gridcolor\": \"rgb(232,232,232)\", \"linecolor\": \"rgb(36,36,36)\", \"showgrid\": false, \"showline\": true, \"ticks\": \"outside\"}, \"baxis\": {\"gridcolor\": \"rgb(232,232,232)\", \"linecolor\": \"rgb(36,36,36)\", \"showgrid\": false, \"showline\": true, \"ticks\": \"outside\"}, \"bgcolor\": \"white\", \"caxis\": {\"gridcolor\": \"rgb(232,232,232)\", \"linecolor\": \"rgb(36,36,36)\", \"showgrid\": false, \"showline\": true, \"ticks\": \"outside\"}}, \"title\": {\"x\": 0.05}, \"xaxis\": {\"automargin\": true, \"gridcolor\": \"rgb(232,232,232)\", \"linecolor\": \"rgb(36,36,36)\", \"showgrid\": false, \"showline\": true, \"ticks\": \"outside\", \"title\": {\"standoff\": 15}, \"zeroline\": false, \"zerolinecolor\": \"rgb(36,36,36)\"}, \"yaxis\": {\"automargin\": true, \"gridcolor\": \"rgb(232,232,232)\", \"linecolor\": \"rgb(36,36,36)\", \"showgrid\": false, \"showline\": true, \"ticks\": \"outside\", \"title\": {\"standoff\": 15}, \"zeroline\": false, \"zerolinecolor\": \"rgb(36,36,36)\"}}}, \"title\": {\"text\": \"\\u0412\\u043e\\u0440\\u043e\\u043d\\u043a\\u0430 \\u043f\\u0440\\u043e\\u0434\\u0430\\u0436\"}, \"xaxis\": {\"anchor\": \"y\", \"domain\": [0.0, 1.0], \"title\": {\"text\": \"Quantity\"}}, \"yaxis\": {\"anchor\": \"x\", \"domain\": [0.0, 1.0], \"title\": {\"text\": \"\\u042d\\u0442\\u0430\\u043f\\u044b\"}}},                        {\"responsive\": true}                    ).then(function(){\n",
       "                            \n",
       "var gd = document.getElementById('1e929214-f621-4d3d-aaa5-c87690121585');\n",
       "var x = new MutationObserver(function (mutations, observer) {{\n",
       "        var display = window.getComputedStyle(gd).display;\n",
       "        if (!display || display === 'none') {{\n",
       "            console.log([gd, 'removed!']);\n",
       "            Plotly.purge(gd);\n",
       "            observer.disconnect();\n",
       "        }}\n",
       "}});\n",
       "\n",
       "// Listen for the removal of the full notebook cells\n",
       "var notebookContainer = gd.closest('#notebook-container');\n",
       "if (notebookContainer) {{\n",
       "    x.observe(notebookContainer, {childList: true});\n",
       "}}\n",
       "\n",
       "// Listen for the clearing of the current output cell\n",
       "var outputEl = gd.closest('.output');\n",
       "if (outputEl) {{\n",
       "    x.observe(outputEl, {childList: true});\n",
       "}}\n",
       "\n",
       "                        })                };                });            </script>        </div>"
      ]
     },
     "metadata": {},
     "output_type": "display_data"
    }
   ],
   "source": [
    "data = dict(Quantity=qnt_list,\n",
    "    \n",
    "            Stage=[\"Звонки\",\"Звонок + заинтересованность\", \"Звонок + продажа\"]*2,\n",
    "    \n",
    "            База=[\"База 1\"]*3 + [\"База 4\"]*3)\n",
    "    \n",
    "fig = px.funnel(data, y='Stage', x='Quantity', color='База',\n",
    "                color_discrete_map={\"База 1\": \"#c4c425\", \n",
    "                                    \"База 4\": \"#617588\"},\n",
    "                template=\"simple_white\",\n",
    "                title='Воронка продаж',\n",
    "                labels={\"Stage\": \"Этапы\"},\n",
    "                opacity = 0.8)\n",
    "    \n",
    "fig.show()"
   ]
  },
  {
   "cell_type": "markdown",
   "id": "a05dbdd0",
   "metadata": {},
   "source": [
    "## Задание 2.2"
   ]
  },
  {
   "cell_type": "code",
   "execution_count": 171,
   "id": "62c76036",
   "metadata": {
    "scrolled": true
   },
   "outputs": [
    {
     "data": {
      "text/plain": [
       "agent_name\n",
       "aashapovalov64931     549\n",
       "afgluxov              263\n",
       "amshevchenko           18\n",
       "arxackevich           529\n",
       "asmirov               369\n",
       "                     ... \n",
       "yuapodorueva            5\n",
       "yugdulova             210\n",
       "yuktixonova           240\n",
       "yuvbabina             139\n",
       "zadenis              1997\n",
       "Name: call_id, Length: 106, dtype: int64"
      ]
     },
     "execution_count": 171,
     "metadata": {},
     "output_type": "execute_result"
    }
   ],
   "source": [
    "# находим сколько каждый сотрудник совершил звонков \n",
    "df_calls_agname = df_final_merge.groupby('agent_name')['call_id'].count()\n",
    "df_calls_agname"
   ]
  },
  {
   "cell_type": "code",
   "execution_count": 172,
   "id": "89726fc7",
   "metadata": {},
   "outputs": [
    {
     "data": {
      "text/plain": [
       "<AxesSubplot:title={'center':'Топ 15 сотрудников по звонкам'}, xlabel='agent_name'>"
      ]
     },
     "execution_count": 172,
     "metadata": {},
     "output_type": "execute_result"
    },
    {
     "data": {
      "image/png": "[encoded data removed]",
      "text/plain": [
       "<Figure size 1440x576 with 1 Axes>"
      ]
     },
     "metadata": {},
     "output_type": "display_data"
    }
   ],
   "source": [
    "# Гистограмма количества звонков\n",
    "df_calls_agname.sort_values(ascending = False).head(15).plot(kind='bar',figsize=(20,8),fontsize=20,\n",
    "                                                             title='Топ 15 сотрудников по звонкам')"
   ]
  },
  {
   "cell_type": "code",
   "execution_count": 173,
   "id": "809f208b",
   "metadata": {},
   "outputs": [
    {
     "data": {
      "text/plain": [
       "agent_name\n",
       "aashapovalov64931    100.147541\n",
       "afgluxov             137.117871\n",
       "amshevchenko         206.555556\n",
       "arxackevich          140.096408\n",
       "asmirov              138.783198\n",
       "                        ...    \n",
       "yuapodorueva          40.000000\n",
       "yugdulova            142.895238\n",
       "yuktixonova           74.633333\n",
       "yuvbabina            130.366906\n",
       "zadenis               90.095643\n",
       "Name: call_time_sec, Length: 106, dtype: float64"
      ]
     },
     "execution_count": 173,
     "metadata": {},
     "output_type": "execute_result"
    }
   ],
   "source": [
    "# находим среднюю продолжительность разговоря для каждого сотрудника\n",
    "df_meantime_agname = df_final_merge.groupby('agent_name')['call_time_sec'].mean()\n",
    "df_meantime_agname"
   ]
  },
  {
   "cell_type": "code",
   "execution_count": 174,
   "id": "32ad7e28",
   "metadata": {},
   "outputs": [
    {
     "data": {
      "text/plain": [
       "<AxesSubplot:title={'center':'Топ 15 сотрудников по среднему продолжительностью звонка'}, xlabel='agent_name'>"
      ]
     },
     "execution_count": 174,
     "metadata": {},
     "output_type": "execute_result"
    },
    {
     "data": {
      "image/png": "[encoded data removed]",
      "text/plain": [
       "<Figure size 1440x576 with 1 Axes>"
      ]
     },
     "metadata": {},
     "output_type": "display_data"
    }
   ],
   "source": [
    "# отображаем гистограмму топ 15 сотрдников по кол-ву \n",
    "df_meantime_agname.sort_values(ascending = False).head(15).plot(kind='bar',figsize=(20,8),fontsize=20,\n",
    "                                                               title='Топ 15 сотрудников по среднему продолжительностью звонка')"
   ]
  },
  {
   "cell_type": "code",
   "execution_count": 175,
   "id": "caeda548",
   "metadata": {},
   "outputs": [],
   "source": [
    "data_1 = df_final_merge[df_final_merge['call_result_translation'] == 'Дозвон, Успешно'].groupby(\n",
    "    'agent_name')[\"call_result_translation\"].count()"
   ]
  },
  {
   "cell_type": "code",
   "execution_count": 176,
   "id": "1967e0ff",
   "metadata": {},
   "outputs": [],
   "source": [
    "data_2 = df_final_merge[(df_final_merge['call_result_translation'] == 'Дозвон, Успешно') |\n",
    "               (df_final_merge['call_result_translation'] == 'Дозвон, Отказ')].groupby(\n",
    "                'agent_name')[\"call_result_translation\"].count()"
   ]
  },
  {
   "cell_type": "code",
   "execution_count": 177,
   "id": "1d231e15",
   "metadata": {},
   "outputs": [
    {
     "data": {
      "text/plain": [
       "<AxesSubplot:title={'center':'Топ 15 сотрудников по конверсии'}, xlabel='agent_name'>"
      ]
     },
     "execution_count": 177,
     "metadata": {},
     "output_type": "execute_result"
    },
    {
     "data": {
      "image/png": "[encoded data removed]",
      "text/plain": [
       "<Figure size 1440x576 with 1 Axes>"
      ]
     },
     "metadata": {},
     "output_type": "display_data"
    }
   ],
   "source": [
    "(data_1/data_2*100).sort_values(ascending = False).head(15).plot(kind='bar',figsize=(20,8),fontsize=20,\n",
    "                                                                title='Топ 15 сотрудников по конверсии')"
   ]
  },
  {
   "cell_type": "code",
   "execution_count": 178,
   "id": "9db5baff",
   "metadata": {},
   "outputs": [],
   "source": [
    "# создаем датафрейм с конверсией звонков\n",
    "a = (data_1/data_2*100).sort_values(ascending = False).reset_index()"
   ]
  },
  {
   "cell_type": "code",
   "execution_count": 179,
   "id": "f505a020",
   "metadata": {},
   "outputs": [],
   "source": [
    "# создаем датафрейм количества звонков и средней  продолжительностью\n",
    "m = pd.concat([df_calls_agname,df_meantime_agname],axis=1).reset_index()"
   ]
  },
  {
   "cell_type": "code",
   "execution_count": 180,
   "id": "c8d9b9ba",
   "metadata": {},
   "outputs": [],
   "source": [
    "# объеденяем метотдом right т.к. наиболее важный параметр это конверсия\n",
    "df_analyze = m.merge(a,how=\"right\").set_index('agent_name')"
   ]
  },
  {
   "cell_type": "code",
   "execution_count": 181,
   "id": "2cac8318",
   "metadata": {},
   "outputs": [],
   "source": [
    "df_analyze.columns=['num_calls','mean_call_duration','call_conversion']"
   ]
  },
  {
   "cell_type": "markdown",
   "id": "f12ae80c",
   "metadata": {},
   "source": [
    "### Можно предположить, что длина звонка может повлиять на конверсию"
   ]
  },
  {
   "cell_type": "code",
   "execution_count": 182,
   "id": "56b54c69",
   "metadata": {},
   "outputs": [
    {
     "data": {
      "text/plain": [
       "<AxesSubplot:xlabel='call_conversion'>"
      ]
     },
     "execution_count": 182,
     "metadata": {},
     "output_type": "execute_result"
    },
    {
     "data": {
      "image/png": "[encoded data removed]",
      "text/plain": [
       "<Figure size 1440x576 with 1 Axes>"
      ]
     },
     "metadata": {},
     "output_type": "display_data"
    }
   ],
   "source": [
    "df_analyze.iloc[::,[0,2]].set_index('call_conversion').plot(figsize=(20,8),fontsize=15)"
   ]
  },
  {
   "cell_type": "markdown",
   "id": "d41f471d",
   "metadata": {},
   "source": [
    "### График видет себя хаотично с увеличением конверсии поэто прямой зависимости мы не замечаем"
   ]
  },
  {
   "cell_type": "code",
   "execution_count": 183,
   "id": "3e6a525c",
   "metadata": {
    "scrolled": false
   },
   "outputs": [
    {
     "data": {
      "application/vnd.plotly.v1+json": {
       "config": {
        "plotlyServerURL": "https://plot.ly"
       },
       "data": [
        {
         "hovertemplate": "call_conversion=%{x}<br>num_calls=%{y}<extra></extra>",
         "legendgroup": "",
         "marker": {
          "color": "#1F77B4",
          "symbol": "circle"
         },
         "mode": "markers",
         "name": "",
         "orientation": "v",
         "showlegend": false,
         "type": "scatter",
         "x": [
          62.06896551724138,
          61.76470588235294,
          58.753709198813056,
          56.97674418604651,
          56.849315068493155,
          56.41025641025641,
          55.20504731861199,
          54.285714285714285,
          53.71775417298937,
          53.233830845771145,
          52.38095238095239,
          51.955307262569825,
          51.908396946564885,
          51.64835164835166,
          51.515151515151516,
          51.35135135135135,
          51.28205128205128,
          50,
          50,
          50,
          49.57983193277311,
          48.8,
          48.64864864864865,
          48.372093023255815,
          47.97297297297297,
          47.22222222222222,
          47.18614718614719,
          46.666666666666664,
          46.15384615384615,
          45.45454545454545,
          44.44444444444444,
          44.27966101694915,
          43.93939393939394,
          43.67816091954023,
          43.07692307692308,
          43.02496328928047,
          42.592592592592595,
          41.86046511627907,
          41.7910447761194,
          41.66666666666667,
          41.566265060240966,
          40.816326530612244,
          40.638297872340424,
          40.54054054054054,
          40.49079754601227,
          40.17857142857143,
          40,
          40,
          40,
          39.58333333333333,
          39.473684210526315,
          39.39393939393939,
          39.130434782608695,
          39.09090909090909,
          39.09090909090909,
          38.63636363636363,
          38.372093023255815,
          37.5,
          37.03703703703704,
          36.62921348314607,
          36.554621848739494,
          36.36363636363637,
          36.36363636363637,
          36.30573248407643,
          36.0655737704918,
          35.94132029339853,
          35.714285714285715,
          35.63218390804598,
          34.5679012345679,
          34.53237410071942,
          33.33333333333333,
          33.33333333333333,
          33.125,
          32.45614035087719,
          32.25806451612903,
          31.914893617021278,
          31.62393162393162,
          30.973451327433626,
          30.18867924528302,
          29.629629629629626,
          28.37209302325581,
          27.77777777777778,
          27.692307692307693,
          27.480916030534353,
          27.173913043478258,
          26.041666666666668,
          25.64102564102564,
          25,
          23.015873015873016,
          17.647058823529413,
          null
         ],
         "xaxis": "x",
         "y": [
          92,
          132,
          775,
          1001,
          376,
          109,
          702,
          415,
          1997,
          606,
          274,
          1040,
          344,
          263,
          1851,
          386,
          194,
          90,
          56,
          204,
          326,
          294,
          139,
          779,
          341,
          123,
          464,
          175,
          105,
          93,
          369,
          1218,
          176,
          240,
          437,
          2055,
          359,
          529,
          220,
          700,
          840,
          221,
          1334,
          120,
          549,
          266,
          177,
          337,
          409,
          560,
          207,
          333,
          56,
          275,
          345,
          210,
          210,
          254,
          63,
          2186,
          1412,
          366,
          453,
          390,
          172,
          1175,
          292,
          208,
          208,
          761,
          157,
          18,
          353,
          588,
          79,
          282,
          286,
          257,
          377,
          62,
          562,
          41,
          278,
          247,
          144,
          492,
          170,
          18,
          223,
          218,
          11
         ],
         "yaxis": "y"
        },
        {
         "alignmentgroup": "True",
         "hovertemplate": "call_conversion=%{x}<extra></extra>",
         "legendgroup": "",
         "marker": {
          "color": "#1F77B4",
          "symbol": "circle"
         },
         "name": "",
         "notched": true,
         "offsetgroup": "",
         "showlegend": false,
         "type": "box",
         "x": [
          62.06896551724138,
          61.76470588235294,
          58.753709198813056,
          56.97674418604651,
          56.849315068493155,
          56.41025641025641,
          55.20504731861199,
          54.285714285714285,
          53.71775417298937,
          53.233830845771145,
          52.38095238095239,
          51.955307262569825,
          51.908396946564885,
          51.64835164835166,
          51.515151515151516,
          51.35135135135135,
          51.28205128205128,
          50,
          50,
          50,
          49.57983193277311,
          48.8,
          48.64864864864865,
          48.372093023255815,
          47.97297297297297,
          47.22222222222222,
          47.18614718614719,
          46.666666666666664,
          46.15384615384615,
          45.45454545454545,
          44.44444444444444,
          44.27966101694915,
          43.93939393939394,
          43.67816091954023,
          43.07692307692308,
          43.02496328928047,
          42.592592592592595,
          41.86046511627907,
          41.7910447761194,
          41.66666666666667,
          41.566265060240966,
          40.816326530612244,
          40.638297872340424,
          40.54054054054054,
          40.49079754601227,
          40.17857142857143,
          40,
          40,
          40,
          39.58333333333333,
          39.473684210526315,
          39.39393939393939,
          39.130434782608695,
          39.09090909090909,
          39.09090909090909,
          38.63636363636363,
          38.372093023255815,
          37.5,
          37.03703703703704,
          36.62921348314607,
          36.554621848739494,
          36.36363636363637,
          36.36363636363637,
          36.30573248407643,
          36.0655737704918,
          35.94132029339853,
          35.714285714285715,
          35.63218390804598,
          34.5679012345679,
          34.53237410071942,
          33.33333333333333,
          33.33333333333333,
          33.125,
          32.45614035087719,
          32.25806451612903,
          31.914893617021278,
          31.62393162393162,
          30.973451327433626,
          30.18867924528302,
          29.629629629629626,
          28.37209302325581,
          27.77777777777778,
          27.692307692307693,
          27.480916030534353,
          27.173913043478258,
          26.041666666666668,
          25.64102564102564,
          25,
          23.015873015873016,
          17.647058823529413,
          null
         ],
         "xaxis": "x3",
         "yaxis": "y3"
        },
        {
         "alignmentgroup": "True",
         "hovertemplate": "num_calls=%{y}<extra></extra>",
         "legendgroup": "",
         "marker": {
          "color": "#1F77B4",
          "symbol": "circle"
         },
         "name": "",
         "notched": true,
         "offsetgroup": "",
         "showlegend": false,
         "type": "box",
         "xaxis": "x2",
         "y": [
          92,
          132,
          775,
          1001,
          376,
          109,
          702,
          415,
          1997,
          606,
          274,
          1040,
          344,
          263,
          1851,
          386,
          194,
          90,
          56,
          204,
          326,
          294,
          139,
          779,
          341,
          123,
          464,
          175,
          105,
          93,
          369,
          1218,
          176,
          240,
          437,
          2055,
          359,
          529,
          220,
          700,
          840,
          221,
          1334,
          120,
          549,
          266,
          177,
          337,
          409,
          560,
          207,
          333,
          56,
          275,
          345,
          210,
          210,
          254,
          63,
          2186,
          1412,
          366,
          453,
          390,
          172,
          1175,
          292,
          208,
          208,
          761,
          157,
          18,
          353,
          588,
          79,
          282,
          286,
          257,
          377,
          62,
          562,
          41,
          278,
          247,
          144,
          492,
          170,
          18,
          223,
          218,
          11
         ],
         "yaxis": "y2"
        },
        {
         "hovertemplate": "<b>OLS trendline</b><br>num_calls = 7.98761 * call_conversion + 107.412<br>R<sup>2</sup>=0.027581<br><br>call_conversion=%{x}<br>num_calls=%{y} <b>(trend)</b><extra></extra>",
         "legendgroup": "",
         "marker": {
          "color": "#1F77B4",
          "symbol": "circle"
         },
         "mode": "lines",
         "name": "",
         "showlegend": false,
         "type": "scatter",
         "x": [
          17.647058823529413,
          23.015873015873016,
          25,
          25.64102564102564,
          26.041666666666668,
          27.173913043478258,
          27.480916030534353,
          27.692307692307693,
          27.77777777777778,
          28.37209302325581,
          29.629629629629626,
          30.18867924528302,
          30.973451327433626,
          31.62393162393162,
          31.914893617021278,
          32.25806451612903,
          32.45614035087719,
          33.125,
          33.33333333333333,
          33.33333333333333,
          34.53237410071942,
          34.5679012345679,
          35.63218390804598,
          35.714285714285715,
          35.94132029339853,
          36.0655737704918,
          36.30573248407643,
          36.36363636363637,
          36.36363636363637,
          36.554621848739494,
          36.62921348314607,
          37.03703703703704,
          37.5,
          38.372093023255815,
          38.63636363636363,
          39.09090909090909,
          39.09090909090909,
          39.130434782608695,
          39.39393939393939,
          39.473684210526315,
          39.58333333333333,
          40,
          40,
          40,
          40.17857142857143,
          40.49079754601227,
          40.54054054054054,
          40.638297872340424,
          40.816326530612244,
          41.566265060240966,
          41.66666666666667,
          41.7910447761194,
          41.86046511627907,
          42.592592592592595,
          43.02496328928047,
          43.07692307692308,
          43.67816091954023,
          43.93939393939394,
          44.27966101694915,
          44.44444444444444,
          45.45454545454545,
          46.15384615384615,
          46.666666666666664,
          47.18614718614719,
          47.22222222222222,
          47.97297297297297,
          48.372093023255815,
          48.64864864864865,
          48.8,
          49.57983193277311,
          50,
          50,
          50,
          51.28205128205128,
          51.35135135135135,
          51.515151515151516,
          51.64835164835166,
          51.908396946564885,
          51.955307262569825,
          52.38095238095239,
          53.233830845771145,
          53.71775417298937,
          54.285714285714285,
          55.20504731861199,
          56.41025641025641,
          56.849315068493155,
          56.97674418604651,
          58.753709198813056,
          61.76470588235294,
          62.06896551724138
         ],
         "xaxis": "x",
         "y": [
          248.3699137075472,
          291.2539020858004,
          307.10233257341577,
          312.222594730953,
          315.42275857941377,
          324.46669989028123,
          326.918919702205,
          328.6074336350722,
          329.2901352560772,
          334.03729303934426,
          344.0820037111848,
          348.5474734334815,
          354.8159259529443,
          360.01170820130073,
          362.3357988259985,
          365.07691377649894,
          366.6590660900333,
          372.00165542020045,
          373.6657406214001,
          373.6657406214001,
          383.24320940528276,
          383.52698625813855,
          392.02806008291304,
          392.6838572065385,
          394.4973206461972,
          395.489808833854,
          397.4081027276875,
          397.8706162752127,
          397.8706162752127,
          399.396133648352,
          399.9919424561085,
          403.2494775316154,
          406.94744464539235,
          413.9133826969255,
          416.0242730155719,
          419.6550043636439,
          419.6550043636439,
          419.97072013304137,
          422.07549192902513,
          422.7124623409676,
          423.58829665738836,
          426.9164670597876,
          426.9164670597876,
          426.9164670597876,
          428.342825803673,
          430.83676593868734,
          431.234093527765,
          432.01494086771834,
          433.4369641746922,
          439.427179897722,
          440.2291486693845,
          441.22263237159314,
          441.7771349030586,
          447.62508289693835,
          451.07869095033345,
          451.49372541596654,
          456.2961781982083,
          458.3828054097438,
          461.10072576917617,
          462.4169513520459,
          470.48524323665015,
          476.07098377214527,
          480.16719349817504,
          484.31660075311447,
          484.6047540347074,
          490.6014574624537,
          493.78947235450676,
          495.9984905474255,
          497.2074259584591,
          503.4364184964621,
          506.7925567173688,
          506.7925567173688,
          506.7925567173688,
          517.0330810324433,
          517.5866228873123,
          518.8949945442752,
          519.9589451224647,
          522.036085277976,
          522.4107865386836,
          525.8106733025073,
          532.6231329747957,
          536.4885232820235,
          541.025166570618,
          548.3684393467092,
          557.9951782927415,
          561.502207167767,
          562.5200611296349,
          576.7137627974474,
          600.7644269027586,
          603.1947338903118
         ],
         "yaxis": "y"
        }
       ],
       "layout": {
        "legend": {
         "tracegroupgap": 0
        },
        "margin": {
         "t": 60
        },
        "template": {
         "data": {
          "bar": [
           {
            "error_x": {
             "color": "rgb(36,36,36)"
            },
            "error_y": {
             "color": "rgb(36,36,36)"
            },
            "marker": {
             "line": {
              "color": "white",
              "width": 0.5
             }
            },
            "type": "bar"
           }
          ],
          "barpolar": [
           {
            "marker": {
             "line": {
              "color": "white",
              "width": 0.5
             }
            },
            "type": "barpolar"
           }
          ],
          "carpet": [
           {
            "aaxis": {
             "endlinecolor": "rgb(36,36,36)",
             "gridcolor": "white",
             "linecolor": "white",
             "minorgridcolor": "white",
             "startlinecolor": "rgb(36,36,36)"
            },
            "baxis": {
             "endlinecolor": "rgb(36,36,36)",
             "gridcolor": "white",
             "linecolor": "white",
             "minorgridcolor": "white",
             "startlinecolor": "rgb(36,36,36)"
            },
            "type": "carpet"
           }
          ],
          "choropleth": [
           {
            "colorbar": {
             "outlinewidth": 1,
             "tickcolor": "rgb(36,36,36)",
             "ticks": "outside"
            },
            "type": "choropleth"
           }
          ],
          "contour": [
           {
            "colorbar": {
             "outlinewidth": 1,
             "tickcolor": "rgb(36,36,36)",
             "ticks": "outside"
            },
            "colorscale": [
             [
              0,
              "#440154"
             ],
             [
              0.1111111111111111,
              "#482878"
             ],
             [
              0.2222222222222222,
              "#3e4989"
             ],
             [
              0.3333333333333333,
              "#31688e"
             ],
             [
              0.4444444444444444,
              "#26828e"
             ],
             [
              0.5555555555555556,
              "#1f9e89"
             ],
             [
              0.6666666666666666,
              "#35b779"
             ],
             [
              0.7777777777777778,
              "#6ece58"
             ],
             [
              0.8888888888888888,
              "#b5de2b"
             ],
             [
              1,
              "#fde725"
             ]
            ],
            "type": "contour"
           }
          ],
          "contourcarpet": [
           {
            "colorbar": {
             "outlinewidth": 1,
             "tickcolor": "rgb(36,36,36)",
             "ticks": "outside"
            },
            "type": "contourcarpet"
           }
          ],
          "heatmap": [
           {
            "colorbar": {
             "outlinewidth": 1,
             "tickcolor": "rgb(36,36,36)",
             "ticks": "outside"
            },
            "colorscale": [
             [
              0,
              "#440154"
             ],
             [
              0.1111111111111111,
              "#482878"
             ],
             [
              0.2222222222222222,
              "#3e4989"
             ],
             [
              0.3333333333333333,
              "#31688e"
             ],
             [
              0.4444444444444444,
              "#26828e"
             ],
             [
              0.5555555555555556,
              "#1f9e89"
             ],
             [
              0.6666666666666666,
              "#35b779"
             ],
             [
              0.7777777777777778,
              "#6ece58"
             ],
             [
              0.8888888888888888,
              "#b5de2b"
             ],
             [
              1,
              "#fde725"
             ]
            ],
            "type": "heatmap"
           }
          ],
          "heatmapgl": [
           {
            "colorbar": {
             "outlinewidth": 1,
             "tickcolor": "rgb(36,36,36)",
             "ticks": "outside"
            },
            "colorscale": [
             [
              0,
              "#440154"
             ],
             [
              0.1111111111111111,
              "#482878"
             ],
             [
              0.2222222222222222,
              "#3e4989"
             ],
             [
              0.3333333333333333,
              "#31688e"
             ],
             [
              0.4444444444444444,
              "#26828e"
             ],
             [
              0.5555555555555556,
              "#1f9e89"
             ],
             [
              0.6666666666666666,
              "#35b779"
             ],
             [
              0.7777777777777778,
              "#6ece58"
             ],
             [
              0.8888888888888888,
              "#b5de2b"
             ],
             [
              1,
              "#fde725"
             ]
            ],
            "type": "heatmapgl"
           }
          ],
          "histogram": [
           {
            "marker": {
             "line": {
              "color": "white",
              "width": 0.6
             }
            },
            "type": "histogram"
           }
          ],
          "histogram2d": [
           {
            "colorbar": {
             "outlinewidth": 1,
             "tickcolor": "rgb(36,36,36)",
             "ticks": "outside"
            },
            "colorscale": [
             [
              0,
              "#440154"
             ],
             [
              0.1111111111111111,
              "#482878"
             ],
             [
              0.2222222222222222,
              "#3e4989"
             ],
             [
              0.3333333333333333,
              "#31688e"
             ],
             [
              0.4444444444444444,
              "#26828e"
             ],
             [
              0.5555555555555556,
              "#1f9e89"
             ],
             [
              0.6666666666666666,
              "#35b779"
             ],
             [
              0.7777777777777778,
              "#6ece58"
             ],
             [
              0.8888888888888888,
              "#b5de2b"
             ],
             [
              1,
              "#fde725"
             ]
            ],
            "type": "histogram2d"
           }
          ],
          "histogram2dcontour": [
           {
            "colorbar": {
             "outlinewidth": 1,
             "tickcolor": "rgb(36,36,36)",
             "ticks": "outside"
            },
            "colorscale": [
             [
              0,
              "#440154"
             ],
             [
              0.1111111111111111,
              "#482878"
             ],
             [
              0.2222222222222222,
              "#3e4989"
             ],
             [
              0.3333333333333333,
              "#31688e"
             ],
             [
              0.4444444444444444,
              "#26828e"
             ],
             [
              0.5555555555555556,
              "#1f9e89"
             ],
             [
              0.6666666666666666,
              "#35b779"
             ],
             [
              0.7777777777777778,
              "#6ece58"
             ],
             [
              0.8888888888888888,
              "#b5de2b"
             ],
             [
              1,
              "#fde725"
             ]
            ],
            "type": "histogram2dcontour"
           }
          ],
          "mesh3d": [
           {
            "colorbar": {
             "outlinewidth": 1,
             "tickcolor": "rgb(36,36,36)",
             "ticks": "outside"
            },
            "type": "mesh3d"
           }
          ],
          "parcoords": [
           {
            "line": {
             "colorbar": {
              "outlinewidth": 1,
              "tickcolor": "rgb(36,36,36)",
              "ticks": "outside"
             }
            },
            "type": "parcoords"
           }
          ],
          "pie": [
           {
            "automargin": true,
            "type": "pie"
           }
          ],
          "scatter": [
           {
            "marker": {
             "colorbar": {
              "outlinewidth": 1,
              "tickcolor": "rgb(36,36,36)",
              "ticks": "outside"
             }
            },
            "type": "scatter"
           }
          ],
          "scatter3d": [
           {
            "line": {
             "colorbar": {
              "outlinewidth": 1,
              "tickcolor": "rgb(36,36,36)",
              "ticks": "outside"
             }
            },
            "marker": {
             "colorbar": {
              "outlinewidth": 1,
              "tickcolor": "rgb(36,36,36)",
              "ticks": "outside"
             }
            },
            "type": "scatter3d"
           }
          ],
          "scattercarpet": [
           {
            "marker": {
             "colorbar": {
              "outlinewidth": 1,
              "tickcolor": "rgb(36,36,36)",
              "ticks": "outside"
             }
            },
            "type": "scattercarpet"
           }
          ],
          "scattergeo": [
           {
            "marker": {
             "colorbar": {
              "outlinewidth": 1,
              "tickcolor": "rgb(36,36,36)",
              "ticks": "outside"
             }
            },
            "type": "scattergeo"
           }
          ],
          "scattergl": [
           {
            "marker": {
             "colorbar": {
              "outlinewidth": 1,
              "tickcolor": "rgb(36,36,36)",
              "ticks": "outside"
             }
            },
            "type": "scattergl"
           }
          ],
          "scattermapbox": [
           {
            "marker": {
             "colorbar": {
              "outlinewidth": 1,
              "tickcolor": "rgb(36,36,36)",
              "ticks": "outside"
             }
            },
            "type": "scattermapbox"
           }
          ],
          "scatterpolar": [
           {
            "marker": {
             "colorbar": {
              "outlinewidth": 1,
              "tickcolor": "rgb(36,36,36)",
              "ticks": "outside"
             }
            },
            "type": "scatterpolar"
           }
          ],
          "scatterpolargl": [
           {
            "marker": {
             "colorbar": {
              "outlinewidth": 1,
              "tickcolor": "rgb(36,36,36)",
              "ticks": "outside"
             }
            },
            "type": "scatterpolargl"
           }
          ],
          "scatterternary": [
           {
            "marker": {
             "colorbar": {
              "outlinewidth": 1,
              "tickcolor": "rgb(36,36,36)",
              "ticks": "outside"
             }
            },
            "type": "scatterternary"
           }
          ],
          "surface": [
           {
            "colorbar": {
             "outlinewidth": 1,
             "tickcolor": "rgb(36,36,36)",
             "ticks": "outside"
            },
            "colorscale": [
             [
              0,
              "#440154"
             ],
             [
              0.1111111111111111,
              "#482878"
             ],
             [
              0.2222222222222222,
              "#3e4989"
             ],
             [
              0.3333333333333333,
              "#31688e"
             ],
             [
              0.4444444444444444,
              "#26828e"
             ],
             [
              0.5555555555555556,
              "#1f9e89"
             ],
             [
              0.6666666666666666,
              "#35b779"
             ],
             [
              0.7777777777777778,
              "#6ece58"
             ],
             [
              0.8888888888888888,
              "#b5de2b"
             ],
             [
              1,
              "#fde725"
             ]
            ],
            "type": "surface"
           }
          ],
          "table": [
           {
            "cells": {
             "fill": {
              "color": "rgb(237,237,237)"
             },
             "line": {
              "color": "white"
             }
            },
            "header": {
             "fill": {
              "color": "rgb(217,217,217)"
             },
             "line": {
              "color": "white"
             }
            },
            "type": "table"
           }
          ]
         },
         "layout": {
          "annotationdefaults": {
           "arrowhead": 0,
           "arrowwidth": 1
          },
          "autotypenumbers": "strict",
          "coloraxis": {
           "colorbar": {
            "outlinewidth": 1,
            "tickcolor": "rgb(36,36,36)",
            "ticks": "outside"
           }
          },
          "colorscale": {
           "diverging": [
            [
             0,
             "rgb(103,0,31)"
            ],
            [
             0.1,
             "rgb(178,24,43)"
            ],
            [
             0.2,
             "rgb(214,96,77)"
            ],
            [
             0.3,
             "rgb(244,165,130)"
            ],
            [
             0.4,
             "rgb(253,219,199)"
            ],
            [
             0.5,
             "rgb(247,247,247)"
            ],
            [
             0.6,
             "rgb(209,229,240)"
            ],
            [
             0.7,
             "rgb(146,197,222)"
            ],
            [
             0.8,
             "rgb(67,147,195)"
            ],
            [
             0.9,
             "rgb(33,102,172)"
            ],
            [
             1,
             "rgb(5,48,97)"
            ]
           ],
           "sequential": [
            [
             0,
             "#440154"
            ],
            [
             0.1111111111111111,
             "#482878"
            ],
            [
             0.2222222222222222,
             "#3e4989"
            ],
            [
             0.3333333333333333,
             "#31688e"
            ],
            [
             0.4444444444444444,
             "#26828e"
            ],
            [
             0.5555555555555556,
             "#1f9e89"
            ],
            [
             0.6666666666666666,
             "#35b779"
            ],
            [
             0.7777777777777778,
             "#6ece58"
            ],
            [
             0.8888888888888888,
             "#b5de2b"
            ],
            [
             1,
             "#fde725"
            ]
           ],
           "sequentialminus": [
            [
             0,
             "#440154"
            ],
            [
             0.1111111111111111,
             "#482878"
            ],
            [
             0.2222222222222222,
             "#3e4989"
            ],
            [
             0.3333333333333333,
             "#31688e"
            ],
            [
             0.4444444444444444,
             "#26828e"
            ],
            [
             0.5555555555555556,
             "#1f9e89"
            ],
            [
             0.6666666666666666,
             "#35b779"
            ],
            [
             0.7777777777777778,
             "#6ece58"
            ],
            [
             0.8888888888888888,
             "#b5de2b"
            ],
            [
             1,
             "#fde725"
            ]
           ]
          },
          "colorway": [
           "#1F77B4",
           "#FF7F0E",
           "#2CA02C",
           "#D62728",
           "#9467BD",
           "#8C564B",
           "#E377C2",
           "#7F7F7F",
           "#BCBD22",
           "#17BECF"
          ],
          "font": {
           "color": "rgb(36,36,36)"
          },
          "geo": {
           "bgcolor": "white",
           "lakecolor": "white",
           "landcolor": "white",
           "showlakes": true,
           "showland": true,
           "subunitcolor": "white"
          },
          "hoverlabel": {
           "align": "left"
          },
          "hovermode": "closest",
          "mapbox": {
           "style": "light"
          },
          "paper_bgcolor": "white",
          "plot_bgcolor": "white",
          "polar": {
           "angularaxis": {
            "gridcolor": "rgb(232,232,232)",
            "linecolor": "rgb(36,36,36)",
            "showgrid": false,
            "showline": true,
            "ticks": "outside"
           },
           "bgcolor": "white",
           "radialaxis": {
            "gridcolor": "rgb(232,232,232)",
            "linecolor": "rgb(36,36,36)",
            "showgrid": false,
            "showline": true,
            "ticks": "outside"
           }
          },
          "scene": {
           "xaxis": {
            "backgroundcolor": "white",
            "gridcolor": "rgb(232,232,232)",
            "gridwidth": 2,
            "linecolor": "rgb(36,36,36)",
            "showbackground": true,
            "showgrid": false,
            "showline": true,
            "ticks": "outside",
            "zeroline": false,
            "zerolinecolor": "rgb(36,36,36)"
           },
           "yaxis": {
            "backgroundcolor": "white",
            "gridcolor": "rgb(232,232,232)",
            "gridwidth": 2,
            "linecolor": "rgb(36,36,36)",
            "showbackground": true,
            "showgrid": false,
            "showline": true,
            "ticks": "outside",
            "zeroline": false,
            "zerolinecolor": "rgb(36,36,36)"
           },
           "zaxis": {
            "backgroundcolor": "white",
            "gridcolor": "rgb(232,232,232)",
            "gridwidth": 2,
            "linecolor": "rgb(36,36,36)",
            "showbackground": true,
            "showgrid": false,
            "showline": true,
            "ticks": "outside",
            "zeroline": false,
            "zerolinecolor": "rgb(36,36,36)"
           }
          },
          "shapedefaults": {
           "fillcolor": "black",
           "line": {
            "width": 0
           },
           "opacity": 0.3
          },
          "ternary": {
           "aaxis": {
            "gridcolor": "rgb(232,232,232)",
            "linecolor": "rgb(36,36,36)",
            "showgrid": false,
            "showline": true,
            "ticks": "outside"
           },
           "baxis": {
            "gridcolor": "rgb(232,232,232)",
            "linecolor": "rgb(36,36,36)",
            "showgrid": false,
            "showline": true,
            "ticks": "outside"
           },
           "bgcolor": "white",
           "caxis": {
            "gridcolor": "rgb(232,232,232)",
            "linecolor": "rgb(36,36,36)",
            "showgrid": false,
            "showline": true,
            "ticks": "outside"
           }
          },
          "title": {
           "x": 0.05
          },
          "xaxis": {
           "automargin": true,
           "gridcolor": "rgb(232,232,232)",
           "linecolor": "rgb(36,36,36)",
           "showgrid": false,
           "showline": true,
           "ticks": "outside",
           "title": {
            "standoff": 15
           },
           "zeroline": false,
           "zerolinecolor": "rgb(36,36,36)"
          },
          "yaxis": {
           "automargin": true,
           "gridcolor": "rgb(232,232,232)",
           "linecolor": "rgb(36,36,36)",
           "showgrid": false,
           "showline": true,
           "ticks": "outside",
           "title": {
            "standoff": 15
           },
           "zeroline": false,
           "zerolinecolor": "rgb(36,36,36)"
          }
         }
        },
        "xaxis": {
         "anchor": "y",
         "domain": [
          0,
          0.8358
         ],
         "title": {
          "text": "call_conversion"
         }
        },
        "xaxis2": {
         "anchor": "y2",
         "domain": [
          0.8408,
          1
         ],
         "matches": "x2",
         "showline": false,
         "showticklabels": false,
         "ticks": ""
        },
        "xaxis3": {
         "anchor": "y3",
         "domain": [
          0,
          0.8358
         ],
         "matches": "x",
         "showticklabels": false
        },
        "xaxis4": {
         "anchor": "y4",
         "domain": [
          0.8408,
          1
         ],
         "matches": "x2",
         "showline": false,
         "showticklabels": false,
         "ticks": ""
        },
        "yaxis": {
         "anchor": "x",
         "domain": [
          0,
          0.8316
         ],
         "title": {
          "text": "num_calls"
         }
        },
        "yaxis2": {
         "anchor": "x2",
         "domain": [
          0,
          0.8316
         ],
         "matches": "y",
         "showticklabels": false
        },
        "yaxis3": {
         "anchor": "x3",
         "domain": [
          0.8416,
          1
         ],
         "matches": "y3",
         "showline": false,
         "showticklabels": false,
         "ticks": ""
        },
        "yaxis4": {
         "anchor": "x4",
         "domain": [
          0.8416,
          1
         ],
         "matches": "y3",
         "showline": false,
         "showticklabels": false,
         "ticks": ""
        }
       }
      },
      "text/html": [
       "<div>                            <div id=\"67fd1a81-7e0c-4060-8c07-a965df0576fd\" class=\"plotly-graph-div\" style=\"height:525px; width:100%;\"></div>            <script type=\"text/javascript\">                require([\"plotly\"], function(Plotly) {                    window.PLOTLYENV=window.PLOTLYENV || {};                                    if (document.getElementById(\"67fd1a81-7e0c-4060-8c07-a965df0576fd\")) {                    Plotly.newPlot(                        \"67fd1a81-7e0c-4060-8c07-a965df0576fd\",                        [{\"hovertemplate\": \"call_conversion=%{x}<br>num_calls=%{y}<extra></extra>\", \"legendgroup\": \"\", \"marker\": {\"color\": \"#1F77B4\", \"symbol\": \"circle\"}, \"mode\": \"markers\", \"name\": \"\", \"orientation\": \"v\", \"showlegend\": false, \"type\": \"scatter\", \"x\": [62.06896551724138, 61.76470588235294, 58.753709198813056, 56.97674418604651, 56.849315068493155, 56.41025641025641, 55.20504731861199, 54.285714285714285, 53.71775417298937, 53.233830845771145, 52.38095238095239, 51.955307262569825, 51.908396946564885, 51.64835164835166, 51.515151515151516, 51.35135135135135, 51.28205128205128, 50.0, 50.0, 50.0, 49.57983193277311, 48.8, 48.64864864864865, 48.372093023255815, 47.97297297297297, 47.22222222222222, 47.18614718614719, 46.666666666666664, 46.15384615384615, 45.45454545454545, 44.44444444444444, 44.27966101694915, 43.93939393939394, 43.67816091954023, 43.07692307692308, 43.02496328928047, 42.592592592592595, 41.86046511627907, 41.7910447761194, 41.66666666666667, 41.566265060240966, 40.816326530612244, 40.638297872340424, 40.54054054054054, 40.49079754601227, 40.17857142857143, 40.0, 40.0, 40.0, 39.58333333333333, 39.473684210526315, 39.39393939393939, 39.130434782608695, 39.09090909090909, 39.09090909090909, 38.63636363636363, 38.372093023255815, 37.5, 37.03703703703704, 36.62921348314607, 36.554621848739494, 36.36363636363637, 36.36363636363637, 36.30573248407643, 36.0655737704918, 35.94132029339853, 35.714285714285715, 35.63218390804598, 34.5679012345679, 34.53237410071942, 33.33333333333333, 33.33333333333333, 33.125, 32.45614035087719, 32.25806451612903, 31.914893617021278, 31.62393162393162, 30.973451327433626, 30.18867924528302, 29.629629629629626, 28.37209302325581, 27.77777777777778, 27.692307692307693, 27.480916030534353, 27.173913043478258, 26.041666666666668, 25.64102564102564, 25.0, 23.015873015873016, 17.647058823529413, null], \"xaxis\": \"x\", \"y\": [92, 132, 775, 1001, 376, 109, 702, 415, 1997, 606, 274, 1040, 344, 263, 1851, 386, 194, 90, 56, 204, 326, 294, 139, 779, 341, 123, 464, 175, 105, 93, 369, 1218, 176, 240, 437, 2055, 359, 529, 220, 700, 840, 221, 1334, 120, 549, 266, 177, 337, 409, 560, 207, 333, 56, 275, 345, 210, 210, 254, 63, 2186, 1412, 366, 453, 390, 172, 1175, 292, 208, 208, 761, 157, 18, 353, 588, 79, 282, 286, 257, 377, 62, 562, 41, 278, 247, 144, 492, 170, 18, 223, 218, 11], \"yaxis\": \"y\"}, {\"alignmentgroup\": \"True\", \"hovertemplate\": \"call_conversion=%{x}<extra></extra>\", \"legendgroup\": \"\", \"marker\": {\"color\": \"#1F77B4\", \"symbol\": \"circle\"}, \"name\": \"\", \"notched\": true, \"offsetgroup\": \"\", \"showlegend\": false, \"type\": \"box\", \"x\": [62.06896551724138, 61.76470588235294, 58.753709198813056, 56.97674418604651, 56.849315068493155, 56.41025641025641, 55.20504731861199, 54.285714285714285, 53.71775417298937, 53.233830845771145, 52.38095238095239, 51.955307262569825, 51.908396946564885, 51.64835164835166, 51.515151515151516, 51.35135135135135, 51.28205128205128, 50.0, 50.0, 50.0, 49.57983193277311, 48.8, 48.64864864864865, 48.372093023255815, 47.97297297297297, 47.22222222222222, 47.18614718614719, 46.666666666666664, 46.15384615384615, 45.45454545454545, 44.44444444444444, 44.27966101694915, 43.93939393939394, 43.67816091954023, 43.07692307692308, 43.02496328928047, 42.592592592592595, 41.86046511627907, 41.7910447761194, 41.66666666666667, 41.566265060240966, 40.816326530612244, 40.638297872340424, 40.54054054054054, 40.49079754601227, 40.17857142857143, 40.0, 40.0, 40.0, 39.58333333333333, 39.473684210526315, 39.39393939393939, 39.130434782608695, 39.09090909090909, 39.09090909090909, 38.63636363636363, 38.372093023255815, 37.5, 37.03703703703704, 36.62921348314607, 36.554621848739494, 36.36363636363637, 36.36363636363637, 36.30573248407643, 36.0655737704918, 35.94132029339853, 35.714285714285715, 35.63218390804598, 34.5679012345679, 34.53237410071942, 33.33333333333333, 33.33333333333333, 33.125, 32.45614035087719, 32.25806451612903, 31.914893617021278, 31.62393162393162, 30.973451327433626, 30.18867924528302, 29.629629629629626, 28.37209302325581, 27.77777777777778, 27.692307692307693, 27.480916030534353, 27.173913043478258, 26.041666666666668, 25.64102564102564, 25.0, 23.015873015873016, 17.647058823529413, null], \"xaxis\": \"x3\", \"yaxis\": \"y3\"}, {\"alignmentgroup\": \"True\", \"hovertemplate\": \"num_calls=%{y}<extra></extra>\", \"legendgroup\": \"\", \"marker\": {\"color\": \"#1F77B4\", \"symbol\": \"circle\"}, \"name\": \"\", \"notched\": true, \"offsetgroup\": \"\", \"showlegend\": false, \"type\": \"box\", \"xaxis\": \"x2\", \"y\": [92, 132, 775, 1001, 376, 109, 702, 415, 1997, 606, 274, 1040, 344, 263, 1851, 386, 194, 90, 56, 204, 326, 294, 139, 779, 341, 123, 464, 175, 105, 93, 369, 1218, 176, 240, 437, 2055, 359, 529, 220, 700, 840, 221, 1334, 120, 549, 266, 177, 337, 409, 560, 207, 333, 56, 275, 345, 210, 210, 254, 63, 2186, 1412, 366, 453, 390, 172, 1175, 292, 208, 208, 761, 157, 18, 353, 588, 79, 282, 286, 257, 377, 62, 562, 41, 278, 247, 144, 492, 170, 18, 223, 218, 11], \"yaxis\": \"y2\"}, {\"hovertemplate\": \"<b>OLS trendline</b><br>num_calls = 7.98761 * call_conversion + 107.412<br>R<sup>2</sup>=0.027581<br><br>call_conversion=%{x}<br>num_calls=%{y} <b>(trend)</b><extra></extra>\", \"legendgroup\": \"\", \"marker\": {\"color\": \"#1F77B4\", \"symbol\": \"circle\"}, \"mode\": \"lines\", \"name\": \"\", \"showlegend\": false, \"type\": \"scatter\", \"x\": [17.647058823529413, 23.015873015873016, 25.0, 25.64102564102564, 26.041666666666668, 27.173913043478258, 27.480916030534353, 27.692307692307693, 27.77777777777778, 28.37209302325581, 29.629629629629626, 30.18867924528302, 30.973451327433626, 31.62393162393162, 31.914893617021278, 32.25806451612903, 32.45614035087719, 33.125, 33.33333333333333, 33.33333333333333, 34.53237410071942, 34.5679012345679, 35.63218390804598, 35.714285714285715, 35.94132029339853, 36.0655737704918, 36.30573248407643, 36.36363636363637, 36.36363636363637, 36.554621848739494, 36.62921348314607, 37.03703703703704, 37.5, 38.372093023255815, 38.63636363636363, 39.09090909090909, 39.09090909090909, 39.130434782608695, 39.39393939393939, 39.473684210526315, 39.58333333333333, 40.0, 40.0, 40.0, 40.17857142857143, 40.49079754601227, 40.54054054054054, 40.638297872340424, 40.816326530612244, 41.566265060240966, 41.66666666666667, 41.7910447761194, 41.86046511627907, 42.592592592592595, 43.02496328928047, 43.07692307692308, 43.67816091954023, 43.93939393939394, 44.27966101694915, 44.44444444444444, 45.45454545454545, 46.15384615384615, 46.666666666666664, 47.18614718614719, 47.22222222222222, 47.97297297297297, 48.372093023255815, 48.64864864864865, 48.8, 49.57983193277311, 50.0, 50.0, 50.0, 51.28205128205128, 51.35135135135135, 51.515151515151516, 51.64835164835166, 51.908396946564885, 51.955307262569825, 52.38095238095239, 53.233830845771145, 53.71775417298937, 54.285714285714285, 55.20504731861199, 56.41025641025641, 56.849315068493155, 56.97674418604651, 58.753709198813056, 61.76470588235294, 62.06896551724138], \"xaxis\": \"x\", \"y\": [248.3699137075472, 291.2539020858004, 307.10233257341577, 312.222594730953, 315.42275857941377, 324.46669989028123, 326.918919702205, 328.6074336350722, 329.2901352560772, 334.03729303934426, 344.0820037111848, 348.5474734334815, 354.8159259529443, 360.01170820130073, 362.3357988259985, 365.07691377649894, 366.6590660900333, 372.00165542020045, 373.6657406214001, 373.6657406214001, 383.24320940528276, 383.52698625813855, 392.02806008291304, 392.6838572065385, 394.4973206461972, 395.489808833854, 397.4081027276875, 397.8706162752127, 397.8706162752127, 399.396133648352, 399.9919424561085, 403.2494775316154, 406.94744464539235, 413.9133826969255, 416.0242730155719, 419.6550043636439, 419.6550043636439, 419.97072013304137, 422.07549192902513, 422.7124623409676, 423.58829665738836, 426.9164670597876, 426.9164670597876, 426.9164670597876, 428.342825803673, 430.83676593868734, 431.234093527765, 432.01494086771834, 433.4369641746922, 439.427179897722, 440.2291486693845, 441.22263237159314, 441.7771349030586, 447.62508289693835, 451.07869095033345, 451.49372541596654, 456.2961781982083, 458.3828054097438, 461.10072576917617, 462.4169513520459, 470.48524323665015, 476.07098377214527, 480.16719349817504, 484.31660075311447, 484.6047540347074, 490.6014574624537, 493.78947235450676, 495.9984905474255, 497.2074259584591, 503.4364184964621, 506.7925567173688, 506.7925567173688, 506.7925567173688, 517.0330810324433, 517.5866228873123, 518.8949945442752, 519.9589451224647, 522.036085277976, 522.4107865386836, 525.8106733025073, 532.6231329747957, 536.4885232820235, 541.025166570618, 548.3684393467092, 557.9951782927415, 561.502207167767, 562.5200611296349, 576.7137627974474, 600.7644269027586, 603.1947338903118], \"yaxis\": \"y\"}],                        {\"legend\": {\"tracegroupgap\": 0}, \"margin\": {\"t\": 60}, \"template\": {\"data\": {\"bar\": [{\"error_x\": {\"color\": \"rgb(36,36,36)\"}, \"error_y\": {\"color\": \"rgb(36,36,36)\"}, \"marker\": {\"line\": {\"color\": \"white\", \"width\": 0.5}}, \"type\": \"bar\"}], \"barpolar\": [{\"marker\": {\"line\": {\"color\": \"white\", \"width\": 0.5}}, \"type\": \"barpolar\"}], \"carpet\": [{\"aaxis\": {\"endlinecolor\": \"rgb(36,36,36)\", \"gridcolor\": \"white\", \"linecolor\": \"white\", \"minorgridcolor\": \"white\", \"startlinecolor\": \"rgb(36,36,36)\"}, \"baxis\": {\"endlinecolor\": \"rgb(36,36,36)\", \"gridcolor\": \"white\", \"linecolor\": \"white\", \"minorgridcolor\": \"white\", \"startlinecolor\": \"rgb(36,36,36)\"}, \"type\": \"carpet\"}], \"choropleth\": [{\"colorbar\": {\"outlinewidth\": 1, \"tickcolor\": \"rgb(36,36,36)\", \"ticks\": \"outside\"}, \"type\": \"choropleth\"}], \"contour\": [{\"colorbar\": {\"outlinewidth\": 1, \"tickcolor\": \"rgb(36,36,36)\", \"ticks\": \"outside\"}, \"colorscale\": [[0.0, \"#440154\"], [0.1111111111111111, \"#482878\"], [0.2222222222222222, \"#3e4989\"], [0.3333333333333333, \"#31688e\"], [0.4444444444444444, \"#26828e\"], [0.5555555555555556, \"#1f9e89\"], [0.6666666666666666, \"#35b779\"], [0.7777777777777778, \"#6ece58\"], [0.8888888888888888, \"#b5de2b\"], [1.0, \"#fde725\"]], \"type\": \"contour\"}], \"contourcarpet\": [{\"colorbar\": {\"outlinewidth\": 1, \"tickcolor\": \"rgb(36,36,36)\", \"ticks\": \"outside\"}, \"type\": \"contourcarpet\"}], \"heatmap\": [{\"colorbar\": {\"outlinewidth\": 1, \"tickcolor\": \"rgb(36,36,36)\", \"ticks\": \"outside\"}, \"colorscale\": [[0.0, \"#440154\"], [0.1111111111111111, \"#482878\"], [0.2222222222222222, \"#3e4989\"], [0.3333333333333333, \"#31688e\"], [0.4444444444444444, \"#26828e\"], [0.5555555555555556, \"#1f9e89\"], [0.6666666666666666, \"#35b779\"], [0.7777777777777778, \"#6ece58\"], [0.8888888888888888, \"#b5de2b\"], [1.0, \"#fde725\"]], \"type\": \"heatmap\"}], \"heatmapgl\": [{\"colorbar\": {\"outlinewidth\": 1, \"tickcolor\": \"rgb(36,36,36)\", \"ticks\": \"outside\"}, \"colorscale\": [[0.0, \"#440154\"], [0.1111111111111111, \"#482878\"], [0.2222222222222222, \"#3e4989\"], [0.3333333333333333, \"#31688e\"], [0.4444444444444444, \"#26828e\"], [0.5555555555555556, \"#1f9e89\"], [0.6666666666666666, \"#35b779\"], [0.7777777777777778, \"#6ece58\"], [0.8888888888888888, \"#b5de2b\"], [1.0, \"#fde725\"]], \"type\": \"heatmapgl\"}], \"histogram\": [{\"marker\": {\"line\": {\"color\": \"white\", \"width\": 0.6}}, \"type\": \"histogram\"}], \"histogram2d\": [{\"colorbar\": {\"outlinewidth\": 1, \"tickcolor\": \"rgb(36,36,36)\", \"ticks\": \"outside\"}, \"colorscale\": [[0.0, \"#440154\"], [0.1111111111111111, \"#482878\"], [0.2222222222222222, \"#3e4989\"], [0.3333333333333333, \"#31688e\"], [0.4444444444444444, \"#26828e\"], [0.5555555555555556, \"#1f9e89\"], [0.6666666666666666, \"#35b779\"], [0.7777777777777778, \"#6ece58\"], [0.8888888888888888, \"#b5de2b\"], [1.0, \"#fde725\"]], \"type\": \"histogram2d\"}], \"histogram2dcontour\": [{\"colorbar\": {\"outlinewidth\": 1, \"tickcolor\": \"rgb(36,36,36)\", \"ticks\": \"outside\"}, \"colorscale\": [[0.0, \"#440154\"], [0.1111111111111111, \"#482878\"], [0.2222222222222222, \"#3e4989\"], [0.3333333333333333, \"#31688e\"], [0.4444444444444444, \"#26828e\"], [0.5555555555555556, \"#1f9e89\"], [0.6666666666666666, \"#35b779\"], [0.7777777777777778, \"#6ece58\"], [0.8888888888888888, \"#b5de2b\"], [1.0, \"#fde725\"]], \"type\": \"histogram2dcontour\"}], \"mesh3d\": [{\"colorbar\": {\"outlinewidth\": 1, \"tickcolor\": \"rgb(36,36,36)\", \"ticks\": \"outside\"}, \"type\": \"mesh3d\"}], \"parcoords\": [{\"line\": {\"colorbar\": {\"outlinewidth\": 1, \"tickcolor\": \"rgb(36,36,36)\", \"ticks\": \"outside\"}}, \"type\": \"parcoords\"}], \"pie\": [{\"automargin\": true, \"type\": \"pie\"}], \"scatter\": [{\"marker\": {\"colorbar\": {\"outlinewidth\": 1, \"tickcolor\": \"rgb(36,36,36)\", \"ticks\": \"outside\"}}, \"type\": \"scatter\"}], \"scatter3d\": [{\"line\": {\"colorbar\": {\"outlinewidth\": 1, \"tickcolor\": \"rgb(36,36,36)\", \"ticks\": \"outside\"}}, \"marker\": {\"colorbar\": {\"outlinewidth\": 1, \"tickcolor\": \"rgb(36,36,36)\", \"ticks\": \"outside\"}}, \"type\": \"scatter3d\"}], \"scattercarpet\": [{\"marker\": {\"colorbar\": {\"outlinewidth\": 1, \"tickcolor\": \"rgb(36,36,36)\", \"ticks\": \"outside\"}}, \"type\": \"scattercarpet\"}], \"scattergeo\": [{\"marker\": {\"colorbar\": {\"outlinewidth\": 1, \"tickcolor\": \"rgb(36,36,36)\", \"ticks\": \"outside\"}}, \"type\": \"scattergeo\"}], \"scattergl\": [{\"marker\": {\"colorbar\": {\"outlinewidth\": 1, \"tickcolor\": \"rgb(36,36,36)\", \"ticks\": \"outside\"}}, \"type\": \"scattergl\"}], \"scattermapbox\": [{\"marker\": {\"colorbar\": {\"outlinewidth\": 1, \"tickcolor\": \"rgb(36,36,36)\", \"ticks\": \"outside\"}}, \"type\": \"scattermapbox\"}], \"scatterpolar\": [{\"marker\": {\"colorbar\": {\"outlinewidth\": 1, \"tickcolor\": \"rgb(36,36,36)\", \"ticks\": \"outside\"}}, \"type\": \"scatterpolar\"}], \"scatterpolargl\": [{\"marker\": {\"colorbar\": {\"outlinewidth\": 1, \"tickcolor\": \"rgb(36,36,36)\", \"ticks\": \"outside\"}}, \"type\": \"scatterpolargl\"}], \"scatterternary\": [{\"marker\": {\"colorbar\": {\"outlinewidth\": 1, \"tickcolor\": \"rgb(36,36,36)\", \"ticks\": \"outside\"}}, \"type\": \"scatterternary\"}], \"surface\": [{\"colorbar\": {\"outlinewidth\": 1, \"tickcolor\": \"rgb(36,36,36)\", \"ticks\": \"outside\"}, \"colorscale\": [[0.0, \"#440154\"], [0.1111111111111111, \"#482878\"], [0.2222222222222222, \"#3e4989\"], [0.3333333333333333, \"#31688e\"], [0.4444444444444444, \"#26828e\"], [0.5555555555555556, \"#1f9e89\"], [0.6666666666666666, \"#35b779\"], [0.7777777777777778, \"#6ece58\"], [0.8888888888888888, \"#b5de2b\"], [1.0, \"#fde725\"]], \"type\": \"surface\"}], \"table\": [{\"cells\": {\"fill\": {\"color\": \"rgb(237,237,237)\"}, \"line\": {\"color\": \"white\"}}, \"header\": {\"fill\": {\"color\": \"rgb(217,217,217)\"}, \"line\": {\"color\": \"white\"}}, \"type\": \"table\"}]}, \"layout\": {\"annotationdefaults\": {\"arrowhead\": 0, \"arrowwidth\": 1}, \"autotypenumbers\": \"strict\", \"coloraxis\": {\"colorbar\": {\"outlinewidth\": 1, \"tickcolor\": \"rgb(36,36,36)\", \"ticks\": \"outside\"}}, \"colorscale\": {\"diverging\": [[0.0, \"rgb(103,0,31)\"], [0.1, \"rgb(178,24,43)\"], [0.2, \"rgb(214,96,77)\"], [0.3, \"rgb(244,165,130)\"], [0.4, \"rgb(253,219,199)\"], [0.5, \"rgb(247,247,247)\"], [0.6, \"rgb(209,229,240)\"], [0.7, \"rgb(146,197,222)\"], [0.8, \"rgb(67,147,195)\"], [0.9, \"rgb(33,102,172)\"], [1.0, \"rgb(5,48,97)\"]], \"sequential\": [[0.0, \"#440154\"], [0.1111111111111111, \"#482878\"], [0.2222222222222222, \"#3e4989\"], [0.3333333333333333, \"#31688e\"], [0.4444444444444444, \"#26828e\"], [0.5555555555555556, \"#1f9e89\"], [0.6666666666666666, \"#35b779\"], [0.7777777777777778, \"#6ece58\"], [0.8888888888888888, \"#b5de2b\"], [1.0, \"#fde725\"]], \"sequentialminus\": [[0.0, \"#440154\"], [0.1111111111111111, \"#482878\"], [0.2222222222222222, \"#3e4989\"], [0.3333333333333333, \"#31688e\"], [0.4444444444444444, \"#26828e\"], [0.5555555555555556, \"#1f9e89\"], [0.6666666666666666, \"#35b779\"], [0.7777777777777778, \"#6ece58\"], [0.8888888888888888, \"#b5de2b\"], [1.0, \"#fde725\"]]}, \"colorway\": [\"#1F77B4\", \"#FF7F0E\", \"#2CA02C\", \"#D62728\", \"#9467BD\", \"#8C564B\", \"#E377C2\", \"#7F7F7F\", \"#BCBD22\", \"#17BECF\"], \"font\": {\"color\": \"rgb(36,36,36)\"}, \"geo\": {\"bgcolor\": \"white\", \"lakecolor\": \"white\", \"landcolor\": \"white\", \"showlakes\": true, \"showland\": true, \"subunitcolor\": \"white\"}, \"hoverlabel\": {\"align\": \"left\"}, \"hovermode\": \"closest\", \"mapbox\": {\"style\": \"light\"}, \"paper_bgcolor\": \"white\", \"plot_bgcolor\": \"white\", \"polar\": {\"angularaxis\": {\"gridcolor\": \"rgb(232,232,232)\", \"linecolor\": \"rgb(36,36,36)\", \"showgrid\": false, \"showline\": true, \"ticks\": \"outside\"}, \"bgcolor\": \"white\", \"radialaxis\": {\"gridcolor\": \"rgb(232,232,232)\", \"linecolor\": \"rgb(36,36,36)\", \"showgrid\": false, \"showline\": true, \"ticks\": \"outside\"}}, \"scene\": {\"xaxis\": {\"backgroundcolor\": \"white\", \"gridcolor\": \"rgb(232,232,232)\", \"gridwidth\": 2, \"linecolor\": \"rgb(36,36,36)\", \"showbackground\": true, \"showgrid\": false, \"showline\": true, \"ticks\": \"outside\", \"zeroline\": false, \"zerolinecolor\": \"rgb(36,36,36)\"}, \"yaxis\": {\"backgroundcolor\": \"white\", \"gridcolor\": \"rgb(232,232,232)\", \"gridwidth\": 2, \"linecolor\": \"rgb(36,36,36)\", \"showbackground\": true, \"showgrid\": false, \"showline\": true, \"ticks\": \"outside\", \"zeroline\": false, \"zerolinecolor\": \"rgb(36,36,36)\"}, \"zaxis\": {\"backgroundcolor\": \"white\", \"gridcolor\": \"rgb(232,232,232)\", \"gridwidth\": 2, \"linecolor\": \"rgb(36,36,36)\", \"showbackground\": true, \"showgrid\": false, \"showline\": true, \"ticks\": \"outside\", \"zeroline\": false, \"zerolinecolor\": \"rgb(36,36,36)\"}}, \"shapedefaults\": {\"fillcolor\": \"black\", \"line\": {\"width\": 0}, \"opacity\": 0.3}, \"ternary\": {\"aaxis\": {\"gridcolor\": \"rgb(232,232,232)\", \"linecolor\": \"rgb(36,36,36)\", \"showgrid\": false, \"showline\": true, \"ticks\": \"outside\"}, \"baxis\": {\"gridcolor\": \"rgb(232,232,232)\", \"linecolor\": \"rgb(36,36,36)\", \"showgrid\": false, \"showline\": true, \"ticks\": \"outside\"}, \"bgcolor\": \"white\", \"caxis\": {\"gridcolor\": \"rgb(232,232,232)\", \"linecolor\": \"rgb(36,36,36)\", \"showgrid\": false, \"showline\": true, \"ticks\": \"outside\"}}, \"title\": {\"x\": 0.05}, \"xaxis\": {\"automargin\": true, \"gridcolor\": \"rgb(232,232,232)\", \"linecolor\": \"rgb(36,36,36)\", \"showgrid\": false, \"showline\": true, \"ticks\": \"outside\", \"title\": {\"standoff\": 15}, \"zeroline\": false, \"zerolinecolor\": \"rgb(36,36,36)\"}, \"yaxis\": {\"automargin\": true, \"gridcolor\": \"rgb(232,232,232)\", \"linecolor\": \"rgb(36,36,36)\", \"showgrid\": false, \"showline\": true, \"ticks\": \"outside\", \"title\": {\"standoff\": 15}, \"zeroline\": false, \"zerolinecolor\": \"rgb(36,36,36)\"}}}, \"xaxis\": {\"anchor\": \"y\", \"domain\": [0.0, 0.8358], \"title\": {\"text\": \"call_conversion\"}}, \"xaxis2\": {\"anchor\": \"y2\", \"domain\": [0.8408, 1.0], \"matches\": \"x2\", \"showline\": false, \"showticklabels\": false, \"ticks\": \"\"}, \"xaxis3\": {\"anchor\": \"y3\", \"domain\": [0.0, 0.8358], \"matches\": \"x\", \"showticklabels\": false}, \"xaxis4\": {\"anchor\": \"y4\", \"domain\": [0.8408, 1.0], \"matches\": \"x2\", \"showline\": false, \"showticklabels\": false, \"ticks\": \"\"}, \"yaxis\": {\"anchor\": \"x\", \"domain\": [0.0, 0.8316], \"title\": {\"text\": \"num_calls\"}}, \"yaxis2\": {\"anchor\": \"x2\", \"domain\": [0.0, 0.8316], \"matches\": \"y\", \"showticklabels\": false}, \"yaxis3\": {\"anchor\": \"x3\", \"domain\": [0.8416, 1.0], \"matches\": \"y3\", \"showline\": false, \"showticklabels\": false, \"ticks\": \"\"}, \"yaxis4\": {\"anchor\": \"x4\", \"domain\": [0.8416, 1.0], \"matches\": \"y3\", \"showline\": false, \"showticklabels\": false, \"ticks\": \"\"}},                        {\"responsive\": true}                    ).then(function(){\n",
       "                            \n",
       "var gd = document.getElementById('67fd1a81-7e0c-4060-8c07-a965df0576fd');\n",
       "var x = new MutationObserver(function (mutations, observer) {{\n",
       "        var display = window.getComputedStyle(gd).display;\n",
       "        if (!display || display === 'none') {{\n",
       "            console.log([gd, 'removed!']);\n",
       "            Plotly.purge(gd);\n",
       "            observer.disconnect();\n",
       "        }}\n",
       "}});\n",
       "\n",
       "// Listen for the removal of the full notebook cells\n",
       "var notebookContainer = gd.closest('#notebook-container');\n",
       "if (notebookContainer) {{\n",
       "    x.observe(notebookContainer, {childList: true});\n",
       "}}\n",
       "\n",
       "// Listen for the clearing of the current output cell\n",
       "var outputEl = gd.closest('.output');\n",
       "if (outputEl) {{\n",
       "    x.observe(outputEl, {childList: true});\n",
       "}}\n",
       "\n",
       "                        })                };                });            </script>        </div>"
      ]
     },
     "metadata": {},
     "output_type": "display_data"
    }
   ],
   "source": [
    "# Построим интерективные графики распределния\n",
    "fig = px.scatter(df_analyze, x=\"call_conversion\", y=\"num_calls\", marginal_y=\"box\",\n",
    "           marginal_x=\"box\", trendline=\"ols\", template=\"simple_white\")\n",
    "fig.show()"
   ]
  },
  {
   "cell_type": "markdown",
   "id": "b8186bcb",
   "metadata": {},
   "source": [
    "### Количество звонков предсказуемо не сильно влияют на конверсию"
   ]
  },
  {
   "cell_type": "code",
   "execution_count": 184,
   "id": "68674381",
   "metadata": {},
   "outputs": [
    {
     "data": {
      "application/vnd.plotly.v1+json": {
       "config": {
        "plotlyServerURL": "https://plot.ly"
       },
       "data": [
        {
         "hovertemplate": "call_conversion=%{x}<br>mean_call_duration=%{y}<extra></extra>",
         "legendgroup": "",
         "marker": {
          "color": "#1F77B4",
          "symbol": "circle"
         },
         "mode": "markers",
         "name": "",
         "orientation": "v",
         "showlegend": false,
         "type": "scatter",
         "x": [
          62.06896551724138,
          61.76470588235294,
          58.753709198813056,
          56.97674418604651,
          56.849315068493155,
          56.41025641025641,
          55.20504731861199,
          54.285714285714285,
          53.71775417298937,
          53.233830845771145,
          52.38095238095239,
          51.955307262569825,
          51.908396946564885,
          51.64835164835166,
          51.515151515151516,
          51.35135135135135,
          51.28205128205128,
          50,
          50,
          50,
          49.57983193277311,
          48.8,
          48.64864864864865,
          48.372093023255815,
          47.97297297297297,
          47.22222222222222,
          47.18614718614719,
          46.666666666666664,
          46.15384615384615,
          45.45454545454545,
          44.44444444444444,
          44.27966101694915,
          43.93939393939394,
          43.67816091954023,
          43.07692307692308,
          43.02496328928047,
          42.592592592592595,
          41.86046511627907,
          41.7910447761194,
          41.66666666666667,
          41.566265060240966,
          40.816326530612244,
          40.638297872340424,
          40.54054054054054,
          40.49079754601227,
          40.17857142857143,
          40,
          40,
          40,
          39.58333333333333,
          39.473684210526315,
          39.39393939393939,
          39.130434782608695,
          39.09090909090909,
          39.09090909090909,
          38.63636363636363,
          38.372093023255815,
          37.5,
          37.03703703703704,
          36.62921348314607,
          36.554621848739494,
          36.36363636363637,
          36.36363636363637,
          36.30573248407643,
          36.0655737704918,
          35.94132029339853,
          35.714285714285715,
          35.63218390804598,
          34.5679012345679,
          34.53237410071942,
          33.33333333333333,
          33.33333333333333,
          33.125,
          32.45614035087719,
          32.25806451612903,
          31.914893617021278,
          31.62393162393162,
          30.973451327433626,
          30.18867924528302,
          29.629629629629626,
          28.37209302325581,
          27.77777777777778,
          27.692307692307693,
          27.480916030534353,
          27.173913043478258,
          26.041666666666668,
          25.64102564102564,
          25,
          23.015873015873016,
          17.647058823529413,
          null
         ],
         "xaxis": "x",
         "y": [
          133.3695652173913,
          124.79545454545455,
          130.10064516129032,
          71.38261738261738,
          194.63829787234042,
          184.75229357798165,
          106.60113960113961,
          132.0578313253012,
          90.0956434651978,
          132.26402640264027,
          91.86496350364963,
          94.49903846153846,
          119.36046511627907,
          137.11787072243345,
          55.79362506753107,
          228.21243523316062,
          176.18041237113403,
          165.66666666666666,
          83.01785714285714,
          148.5441176470588,
          163.079754601227,
          139.74149659863946,
          130.36690647482015,
          98.02952503209242,
          137.8181818181818,
          93.6178861788618,
          121.61853448275862,
          172.26285714285714,
          40.43809523809524,
          173.01075268817203,
          138.78319783197833,
          112.0607553366174,
          118.39204545454545,
          74.63333333333334,
          129.71395881006865,
          115.05644768856448,
          127.55431754874652,
          140.09640831758034,
          160.73181818181817,
          159.35,
          88.99047619047619,
          162.62443438914028,
          72.90104947526237,
          110.15833333333333,
          100.14754098360656,
          129.7218045112782,
          91.15819209039547,
          123.62314540059347,
          135.32273838630806,
          131.04464285714286,
          97.01449275362319,
          61.2042042042042,
          119.875,
          76.42181818181818,
          125.16231884057972,
          130.25238095238095,
          142.89523809523808,
          141.68897637795277,
          176.3015873015873,
          91.96569075937786,
          85.93696883852691,
          101.64207650273224,
          78.81456953642385,
          96.24358974358974,
          210.8081395348837,
          126.60255319148936,
          49.034246575342465,
          131.5721153846154,
          125,
          99.85939553219448,
          115.01910828025478,
          106.88888888888889,
          89.03966005665723,
          83.70238095238095,
          131,
          134.24113475177305,
          124.2027972027972,
          93.71206225680933,
          135.23342175066313,
          96.30645161290323,
          90.29181494661921,
          87.6829268292683,
          175.05755395683454,
          143.72064777327935,
          200.91666666666666,
          95.70325203252033,
          125.2764705882353,
          206.55555555555554,
          87.62780269058295,
          95.94954128440367,
          35.27272727272727
         ],
         "yaxis": "y"
        },
        {
         "alignmentgroup": "True",
         "hovertemplate": "call_conversion=%{x}<extra></extra>",
         "legendgroup": "",
         "marker": {
          "color": "#1F77B4",
          "symbol": "circle"
         },
         "name": "",
         "notched": true,
         "offsetgroup": "",
         "showlegend": false,
         "type": "box",
         "x": [
          62.06896551724138,
          61.76470588235294,
          58.753709198813056,
          56.97674418604651,
          56.849315068493155,
          56.41025641025641,
          55.20504731861199,
          54.285714285714285,
          53.71775417298937,
          53.233830845771145,
          52.38095238095239,
          51.955307262569825,
          51.908396946564885,
          51.64835164835166,
          51.515151515151516,
          51.35135135135135,
          51.28205128205128,
          50,
          50,
          50,
          49.57983193277311,
          48.8,
          48.64864864864865,
          48.372093023255815,
          47.97297297297297,
          47.22222222222222,
          47.18614718614719,
          46.666666666666664,
          46.15384615384615,
          45.45454545454545,
          44.44444444444444,
          44.27966101694915,
          43.93939393939394,
          43.67816091954023,
          43.07692307692308,
          43.02496328928047,
          42.592592592592595,
          41.86046511627907,
          41.7910447761194,
          41.66666666666667,
          41.566265060240966,
          40.816326530612244,
          40.638297872340424,
          40.54054054054054,
          40.49079754601227,
          40.17857142857143,
          40,
          40,
          40,
          39.58333333333333,
          39.473684210526315,
          39.39393939393939,
          39.130434782608695,
          39.09090909090909,
          39.09090909090909,
          38.63636363636363,
          38.372093023255815,
          37.5,
          37.03703703703704,
          36.62921348314607,
          36.554621848739494,
          36.36363636363637,
          36.36363636363637,
          36.30573248407643,
          36.0655737704918,
          35.94132029339853,
          35.714285714285715,
          35.63218390804598,
          34.5679012345679,
          34.53237410071942,
          33.33333333333333,
          33.33333333333333,
          33.125,
          32.45614035087719,
          32.25806451612903,
          31.914893617021278,
          31.62393162393162,
          30.973451327433626,
          30.18867924528302,
          29.629629629629626,
          28.37209302325581,
          27.77777777777778,
          27.692307692307693,
          27.480916030534353,
          27.173913043478258,
          26.041666666666668,
          25.64102564102564,
          25,
          23.015873015873016,
          17.647058823529413,
          null
         ],
         "xaxis": "x3",
         "yaxis": "y3"
        },
        {
         "alignmentgroup": "True",
         "hovertemplate": "mean_call_duration=%{y}<extra></extra>",
         "legendgroup": "",
         "marker": {
          "color": "#1F77B4",
          "symbol": "circle"
         },
         "name": "",
         "notched": true,
         "offsetgroup": "",
         "showlegend": false,
         "type": "box",
         "xaxis": "x2",
         "y": [
          133.3695652173913,
          124.79545454545455,
          130.10064516129032,
          71.38261738261738,
          194.63829787234042,
          184.75229357798165,
          106.60113960113961,
          132.0578313253012,
          90.0956434651978,
          132.26402640264027,
          91.86496350364963,
          94.49903846153846,
          119.36046511627907,
          137.11787072243345,
          55.79362506753107,
          228.21243523316062,
          176.18041237113403,
          165.66666666666666,
          83.01785714285714,
          148.5441176470588,
          163.079754601227,
          139.74149659863946,
          130.36690647482015,
          98.02952503209242,
          137.8181818181818,
          93.6178861788618,
          121.61853448275862,
          172.26285714285714,
          40.43809523809524,
          173.01075268817203,
          138.78319783197833,
          112.0607553366174,
          118.39204545454545,
          74.63333333333334,
          129.71395881006865,
          115.05644768856448,
          127.55431754874652,
          140.09640831758034,
          160.73181818181817,
          159.35,
          88.99047619047619,
          162.62443438914028,
          72.90104947526237,
          110.15833333333333,
          100.14754098360656,
          129.7218045112782,
          91.15819209039547,
          123.62314540059347,
          135.32273838630806,
          131.04464285714286,
          97.01449275362319,
          61.2042042042042,
          119.875,
          76.42181818181818,
          125.16231884057972,
          130.25238095238095,
          142.89523809523808,
          141.68897637795277,
          176.3015873015873,
          91.96569075937786,
          85.93696883852691,
          101.64207650273224,
          78.81456953642385,
          96.24358974358974,
          210.8081395348837,
          126.60255319148936,
          49.034246575342465,
          131.5721153846154,
          125,
          99.85939553219448,
          115.01910828025478,
          106.88888888888889,
          89.03966005665723,
          83.70238095238095,
          131,
          134.24113475177305,
          124.2027972027972,
          93.71206225680933,
          135.23342175066313,
          96.30645161290323,
          90.29181494661921,
          87.6829268292683,
          175.05755395683454,
          143.72064777327935,
          200.91666666666666,
          95.70325203252033,
          125.2764705882353,
          206.55555555555554,
          87.62780269058295,
          95.94954128440367,
          35.27272727272727
         ],
         "yaxis": "y2"
        },
        {
         "hovertemplate": "<b>OLS trendline</b><br>mean_call_duration = 0.384439 * call_conversion + 106.145<br>R<sup>2</sup>=0.009507<br><br>call_conversion=%{x}<br>mean_call_duration=%{y} <b>(trend)</b><extra></extra>",
         "legendgroup": "",
         "marker": {
          "color": "#1F77B4",
          "symbol": "circle"
         },
         "mode": "lines",
         "name": "",
         "showlegend": false,
         "type": "scatter",
         "x": [
          17.647058823529413,
          23.015873015873016,
          25,
          25.64102564102564,
          26.041666666666668,
          27.173913043478258,
          27.480916030534353,
          27.692307692307693,
          27.77777777777778,
          28.37209302325581,
          29.629629629629626,
          30.18867924528302,
          30.973451327433626,
          31.62393162393162,
          31.914893617021278,
          32.25806451612903,
          32.45614035087719,
          33.125,
          33.33333333333333,
          33.33333333333333,
          34.53237410071942,
          34.5679012345679,
          35.63218390804598,
          35.714285714285715,
          35.94132029339853,
          36.0655737704918,
          36.30573248407643,
          36.36363636363637,
          36.36363636363637,
          36.554621848739494,
          36.62921348314607,
          37.03703703703704,
          37.5,
          38.372093023255815,
          38.63636363636363,
          39.09090909090909,
          39.09090909090909,
          39.130434782608695,
          39.39393939393939,
          39.473684210526315,
          39.58333333333333,
          40,
          40,
          40,
          40.17857142857143,
          40.49079754601227,
          40.54054054054054,
          40.638297872340424,
          40.816326530612244,
          41.566265060240966,
          41.66666666666667,
          41.7910447761194,
          41.86046511627907,
          42.592592592592595,
          43.02496328928047,
          43.07692307692308,
          43.67816091954023,
          43.93939393939394,
          44.27966101694915,
          44.44444444444444,
          45.45454545454545,
          46.15384615384615,
          46.666666666666664,
          47.18614718614719,
          47.22222222222222,
          47.97297297297297,
          48.372093023255815,
          48.64864864864865,
          48.8,
          49.57983193277311,
          50,
          50,
          50,
          51.28205128205128,
          51.35135135135135,
          51.515151515151516,
          51.64835164835166,
          51.908396946564885,
          51.955307262569825,
          52.38095238095239,
          53.233830845771145,
          53.71775417298937,
          54.285714285714285,
          55.20504731861199,
          56.41025641025641,
          56.849315068493155,
          56.97674418604651,
          58.753709198813056,
          61.76470588235294,
          62.06896551724138
         ],
         "xaxis": "x",
         "y": [
          112.92926808697784,
          114.99324716421265,
          115.75602204058204,
          116.00245700063984,
          116.15647885067597,
          116.5917579920824,
          116.70978177149277,
          116.7910488728248,
          116.82390686749918,
          117.05238455139772,
          117.53583008544393,
          117.75075030218198,
          118.05244693386403,
          118.30251662784599,
          118.4143736309928,
          118.5463017496236,
          118.62244973388594,
          118.87958515931467,
          118.95967652133346,
          118.95967652133346,
          119.42063400057827,
          119.4342919999633,
          119.8434432746442,
          119.87500637297673,
          119.96228721457595,
          120.01005503961261,
          120.10238130427663,
          120.12464178706125,
          120.12464178706125,
          120.19806396767434,
          120.22673986652953,
          120.38352295722298,
          120.56150376170918,
          120.89676992829943,
          120.99836573635709,
          121.17311052621626,
          121.17311052621626,
          121.18830572533444,
          121.28960705278904,
          121.32026403346609,
          121.36241738189702,
          121.5226001059346,
          121.5226001059346,
          121.5226001059346,
          121.59124984480785,
          121.71128159682547,
          121.73040472090226,
          121.7679864065879,
          121.83642748364086,
          122.12473275532884,
          122.16333100208487,
          122.21114674060355,
          122.2378345946605,
          122.51929261105727,
          122.68551256943203,
          122.70548791421204,
          122.93662691123177,
          123.03705495138072,
          123.16786672910015,
          123.23121582900202,
          123.61953758424463,
          123.88837572248949,
          124.08552369053574,
          124.28523202180335,
          124.29910065591916,
          124.58771817670757,
          124.74115530520115,
          124.84747394541715,
          124.90565923760809,
          125.20545668548749,
          125.3669854828363,
          125.3669854828363,
          125.3669854828363,
          125.85985540295191,
          125.88649702025545,
          125.9494681157002,
          126.0006753801278,
          126.10064681430609,
          126.11868094759362,
          126.28231533447956,
          126.61019468432193,
          126.79623346059186,
          127.01457921579417,
          127.36800626261163,
          127.83133508341432,
          128.00012615194706,
          128.04911481555843,
          128.73224864659298,
          129.889791808603,
          130.00676093771767
         ],
         "yaxis": "y"
        }
       ],
       "layout": {
        "legend": {
         "tracegroupgap": 0
        },
        "margin": {
         "t": 60
        },
        "template": {
         "data": {
          "bar": [
           {
            "error_x": {
             "color": "rgb(36,36,36)"
            },
            "error_y": {
             "color": "rgb(36,36,36)"
            },
            "marker": {
             "line": {
              "color": "white",
              "width": 0.5
             }
            },
            "type": "bar"
           }
          ],
          "barpolar": [
           {
            "marker": {
             "line": {
              "color": "white",
              "width": 0.5
             }
            },
            "type": "barpolar"
           }
          ],
          "carpet": [
           {
            "aaxis": {
             "endlinecolor": "rgb(36,36,36)",
             "gridcolor": "white",
             "linecolor": "white",
             "minorgridcolor": "white",
             "startlinecolor": "rgb(36,36,36)"
            },
            "baxis": {
             "endlinecolor": "rgb(36,36,36)",
             "gridcolor": "white",
             "linecolor": "white",
             "minorgridcolor": "white",
             "startlinecolor": "rgb(36,36,36)"
            },
            "type": "carpet"
           }
          ],
          "choropleth": [
           {
            "colorbar": {
             "outlinewidth": 1,
             "tickcolor": "rgb(36,36,36)",
             "ticks": "outside"
            },
            "type": "choropleth"
           }
          ],
          "contour": [
           {
            "colorbar": {
             "outlinewidth": 1,
             "tickcolor": "rgb(36,36,36)",
             "ticks": "outside"
            },
            "colorscale": [
             [
              0,
              "#440154"
             ],
             [
              0.1111111111111111,
              "#482878"
             ],
             [
              0.2222222222222222,
              "#3e4989"
             ],
             [
              0.3333333333333333,
              "#31688e"
             ],
             [
              0.4444444444444444,
              "#26828e"
             ],
             [
              0.5555555555555556,
              "#1f9e89"
             ],
             [
              0.6666666666666666,
              "#35b779"
             ],
             [
              0.7777777777777778,
              "#6ece58"
             ],
             [
              0.8888888888888888,
              "#b5de2b"
             ],
             [
              1,
              "#fde725"
             ]
            ],
            "type": "contour"
           }
          ],
          "contourcarpet": [
           {
            "colorbar": {
             "outlinewidth": 1,
             "tickcolor": "rgb(36,36,36)",
             "ticks": "outside"
            },
            "type": "contourcarpet"
           }
          ],
          "heatmap": [
           {
            "colorbar": {
             "outlinewidth": 1,
             "tickcolor": "rgb(36,36,36)",
             "ticks": "outside"
            },
            "colorscale": [
             [
              0,
              "#440154"
             ],
             [
              0.1111111111111111,
              "#482878"
             ],
             [
              0.2222222222222222,
              "#3e4989"
             ],
             [
              0.3333333333333333,
              "#31688e"
             ],
             [
              0.4444444444444444,
              "#26828e"
             ],
             [
              0.5555555555555556,
              "#1f9e89"
             ],
             [
              0.6666666666666666,
              "#35b779"
             ],
             [
              0.7777777777777778,
              "#6ece58"
             ],
             [
              0.8888888888888888,
              "#b5de2b"
             ],
             [
              1,
              "#fde725"
             ]
            ],
            "type": "heatmap"
           }
          ],
          "heatmapgl": [
           {
            "colorbar": {
             "outlinewidth": 1,
             "tickcolor": "rgb(36,36,36)",
             "ticks": "outside"
            },
            "colorscale": [
             [
              0,
              "#440154"
             ],
             [
              0.1111111111111111,
              "#482878"
             ],
             [
              0.2222222222222222,
              "#3e4989"
             ],
             [
              0.3333333333333333,
              "#31688e"
             ],
             [
              0.4444444444444444,
              "#26828e"
             ],
             [
              0.5555555555555556,
              "#1f9e89"
             ],
             [
              0.6666666666666666,
              "#35b779"
             ],
             [
              0.7777777777777778,
              "#6ece58"
             ],
             [
              0.8888888888888888,
              "#b5de2b"
             ],
             [
              1,
              "#fde725"
             ]
            ],
            "type": "heatmapgl"
           }
          ],
          "histogram": [
           {
            "marker": {
             "line": {
              "color": "white",
              "width": 0.6
             }
            },
            "type": "histogram"
           }
          ],
          "histogram2d": [
           {
            "colorbar": {
             "outlinewidth": 1,
             "tickcolor": "rgb(36,36,36)",
             "ticks": "outside"
            },
            "colorscale": [
             [
              0,
              "#440154"
             ],
             [
              0.1111111111111111,
              "#482878"
             ],
             [
              0.2222222222222222,
              "#3e4989"
             ],
             [
              0.3333333333333333,
              "#31688e"
             ],
             [
              0.4444444444444444,
              "#26828e"
             ],
             [
              0.5555555555555556,
              "#1f9e89"
             ],
             [
              0.6666666666666666,
              "#35b779"
             ],
             [
              0.7777777777777778,
              "#6ece58"
             ],
             [
              0.8888888888888888,
              "#b5de2b"
             ],
             [
              1,
              "#fde725"
             ]
            ],
            "type": "histogram2d"
           }
          ],
          "histogram2dcontour": [
           {
            "colorbar": {
             "outlinewidth": 1,
             "tickcolor": "rgb(36,36,36)",
             "ticks": "outside"
            },
            "colorscale": [
             [
              0,
              "#440154"
             ],
             [
              0.1111111111111111,
              "#482878"
             ],
             [
              0.2222222222222222,
              "#3e4989"
             ],
             [
              0.3333333333333333,
              "#31688e"
             ],
             [
              0.4444444444444444,
              "#26828e"
             ],
             [
              0.5555555555555556,
              "#1f9e89"
             ],
             [
              0.6666666666666666,
              "#35b779"
             ],
             [
              0.7777777777777778,
              "#6ece58"
             ],
             [
              0.8888888888888888,
              "#b5de2b"
             ],
             [
              1,
              "#fde725"
             ]
            ],
            "type": "histogram2dcontour"
           }
          ],
          "mesh3d": [
           {
            "colorbar": {
             "outlinewidth": 1,
             "tickcolor": "rgb(36,36,36)",
             "ticks": "outside"
            },
            "type": "mesh3d"
           }
          ],
          "parcoords": [
           {
            "line": {
             "colorbar": {
              "outlinewidth": 1,
              "tickcolor": "rgb(36,36,36)",
              "ticks": "outside"
             }
            },
            "type": "parcoords"
           }
          ],
          "pie": [
           {
            "automargin": true,
            "type": "pie"
           }
          ],
          "scatter": [
           {
            "marker": {
             "colorbar": {
              "outlinewidth": 1,
              "tickcolor": "rgb(36,36,36)",
              "ticks": "outside"
             }
            },
            "type": "scatter"
           }
          ],
          "scatter3d": [
           {
            "line": {
             "colorbar": {
              "outlinewidth": 1,
              "tickcolor": "rgb(36,36,36)",
              "ticks": "outside"
             }
            },
            "marker": {
             "colorbar": {
              "outlinewidth": 1,
              "tickcolor": "rgb(36,36,36)",
              "ticks": "outside"
             }
            },
            "type": "scatter3d"
           }
          ],
          "scattercarpet": [
           {
            "marker": {
             "colorbar": {
              "outlinewidth": 1,
              "tickcolor": "rgb(36,36,36)",
              "ticks": "outside"
             }
            },
            "type": "scattercarpet"
           }
          ],
          "scattergeo": [
           {
            "marker": {
             "colorbar": {
              "outlinewidth": 1,
              "tickcolor": "rgb(36,36,36)",
              "ticks": "outside"
             }
            },
            "type": "scattergeo"
           }
          ],
          "scattergl": [
           {
            "marker": {
             "colorbar": {
              "outlinewidth": 1,
              "tickcolor": "rgb(36,36,36)",
              "ticks": "outside"
             }
            },
            "type": "scattergl"
           }
          ],
          "scattermapbox": [
           {
            "marker": {
             "colorbar": {
              "outlinewidth": 1,
              "tickcolor": "rgb(36,36,36)",
              "ticks": "outside"
             }
            },
            "type": "scattermapbox"
           }
          ],
          "scatterpolar": [
           {
            "marker": {
             "colorbar": {
              "outlinewidth": 1,
              "tickcolor": "rgb(36,36,36)",
              "ticks": "outside"
             }
            },
            "type": "scatterpolar"
           }
          ],
          "scatterpolargl": [
           {
            "marker": {
             "colorbar": {
              "outlinewidth": 1,
              "tickcolor": "rgb(36,36,36)",
              "ticks": "outside"
             }
            },
            "type": "scatterpolargl"
           }
          ],
          "scatterternary": [
           {
            "marker": {
             "colorbar": {
              "outlinewidth": 1,
              "tickcolor": "rgb(36,36,36)",
              "ticks": "outside"
             }
            },
            "type": "scatterternary"
           }
          ],
          "surface": [
           {
            "colorbar": {
             "outlinewidth": 1,
             "tickcolor": "rgb(36,36,36)",
             "ticks": "outside"
            },
            "colorscale": [
             [
              0,
              "#440154"
             ],
             [
              0.1111111111111111,
              "#482878"
             ],
             [
              0.2222222222222222,
              "#3e4989"
             ],
             [
              0.3333333333333333,
              "#31688e"
             ],
             [
              0.4444444444444444,
              "#26828e"
             ],
             [
              0.5555555555555556,
              "#1f9e89"
             ],
             [
              0.6666666666666666,
              "#35b779"
             ],
             [
              0.7777777777777778,
              "#6ece58"
             ],
             [
              0.8888888888888888,
              "#b5de2b"
             ],
             [
              1,
              "#fde725"
             ]
            ],
            "type": "surface"
           }
          ],
          "table": [
           {
            "cells": {
             "fill": {
              "color": "rgb(237,237,237)"
             },
             "line": {
              "color": "white"
             }
            },
            "header": {
             "fill": {
              "color": "rgb(217,217,217)"
             },
             "line": {
              "color": "white"
             }
            },
            "type": "table"
           }
          ]
         },
         "layout": {
          "annotationdefaults": {
           "arrowhead": 0,
           "arrowwidth": 1
          },
          "autotypenumbers": "strict",
          "coloraxis": {
           "colorbar": {
            "outlinewidth": 1,
            "tickcolor": "rgb(36,36,36)",
            "ticks": "outside"
           }
          },
          "colorscale": {
           "diverging": [
            [
             0,
             "rgb(103,0,31)"
            ],
            [
             0.1,
             "rgb(178,24,43)"
            ],
            [
             0.2,
             "rgb(214,96,77)"
            ],
            [
             0.3,
             "rgb(244,165,130)"
            ],
            [
             0.4,
             "rgb(253,219,199)"
            ],
            [
             0.5,
             "rgb(247,247,247)"
            ],
            [
             0.6,
             "rgb(209,229,240)"
            ],
            [
             0.7,
             "rgb(146,197,222)"
            ],
            [
             0.8,
             "rgb(67,147,195)"
            ],
            [
             0.9,
             "rgb(33,102,172)"
            ],
            [
             1,
             "rgb(5,48,97)"
            ]
           ],
           "sequential": [
            [
             0,
             "#440154"
            ],
            [
             0.1111111111111111,
             "#482878"
            ],
            [
             0.2222222222222222,
             "#3e4989"
            ],
            [
             0.3333333333333333,
             "#31688e"
            ],
            [
             0.4444444444444444,
             "#26828e"
            ],
            [
             0.5555555555555556,
             "#1f9e89"
            ],
            [
             0.6666666666666666,
             "#35b779"
            ],
            [
             0.7777777777777778,
             "#6ece58"
            ],
            [
             0.8888888888888888,
             "#b5de2b"
            ],
            [
             1,
             "#fde725"
            ]
           ],
           "sequentialminus": [
            [
             0,
             "#440154"
            ],
            [
             0.1111111111111111,
             "#482878"
            ],
            [
             0.2222222222222222,
             "#3e4989"
            ],
            [
             0.3333333333333333,
             "#31688e"
            ],
            [
             0.4444444444444444,
             "#26828e"
            ],
            [
             0.5555555555555556,
             "#1f9e89"
            ],
            [
             0.6666666666666666,
             "#35b779"
            ],
            [
             0.7777777777777778,
             "#6ece58"
            ],
            [
             0.8888888888888888,
             "#b5de2b"
            ],
            [
             1,
             "#fde725"
            ]
           ]
          },
          "colorway": [
           "#1F77B4",
           "#FF7F0E",
           "#2CA02C",
           "#D62728",
           "#9467BD",
           "#8C564B",
           "#E377C2",
           "#7F7F7F",
           "#BCBD22",
           "#17BECF"
          ],
          "font": {
           "color": "rgb(36,36,36)"
          },
          "geo": {
           "bgcolor": "white",
           "lakecolor": "white",
           "landcolor": "white",
           "showlakes": true,
           "showland": true,
           "subunitcolor": "white"
          },
          "hoverlabel": {
           "align": "left"
          },
          "hovermode": "closest",
          "mapbox": {
           "style": "light"
          },
          "paper_bgcolor": "white",
          "plot_bgcolor": "white",
          "polar": {
           "angularaxis": {
            "gridcolor": "rgb(232,232,232)",
            "linecolor": "rgb(36,36,36)",
            "showgrid": false,
            "showline": true,
            "ticks": "outside"
           },
           "bgcolor": "white",
           "radialaxis": {
            "gridcolor": "rgb(232,232,232)",
            "linecolor": "rgb(36,36,36)",
            "showgrid": false,
            "showline": true,
            "ticks": "outside"
           }
          },
          "scene": {
           "xaxis": {
            "backgroundcolor": "white",
            "gridcolor": "rgb(232,232,232)",
            "gridwidth": 2,
            "linecolor": "rgb(36,36,36)",
            "showbackground": true,
            "showgrid": false,
            "showline": true,
            "ticks": "outside",
            "zeroline": false,
            "zerolinecolor": "rgb(36,36,36)"
           },
           "yaxis": {
            "backgroundcolor": "white",
            "gridcolor": "rgb(232,232,232)",
            "gridwidth": 2,
            "linecolor": "rgb(36,36,36)",
            "showbackground": true,
            "showgrid": false,
            "showline": true,
            "ticks": "outside",
            "zeroline": false,
            "zerolinecolor": "rgb(36,36,36)"
           },
           "zaxis": {
            "backgroundcolor": "white",
            "gridcolor": "rgb(232,232,232)",
            "gridwidth": 2,
            "linecolor": "rgb(36,36,36)",
            "showbackground": true,
            "showgrid": false,
            "showline": true,
            "ticks": "outside",
            "zeroline": false,
            "zerolinecolor": "rgb(36,36,36)"
           }
          },
          "shapedefaults": {
           "fillcolor": "black",
           "line": {
            "width": 0
           },
           "opacity": 0.3
          },
          "ternary": {
           "aaxis": {
            "gridcolor": "rgb(232,232,232)",
            "linecolor": "rgb(36,36,36)",
            "showgrid": false,
            "showline": true,
            "ticks": "outside"
           },
           "baxis": {
            "gridcolor": "rgb(232,232,232)",
            "linecolor": "rgb(36,36,36)",
            "showgrid": false,
            "showline": true,
            "ticks": "outside"
           },
           "bgcolor": "white",
           "caxis": {
            "gridcolor": "rgb(232,232,232)",
            "linecolor": "rgb(36,36,36)",
            "showgrid": false,
            "showline": true,
            "ticks": "outside"
           }
          },
          "title": {
           "x": 0.05
          },
          "xaxis": {
           "automargin": true,
           "gridcolor": "rgb(232,232,232)",
           "linecolor": "rgb(36,36,36)",
           "showgrid": false,
           "showline": true,
           "ticks": "outside",
           "title": {
            "standoff": 15
           },
           "zeroline": false,
           "zerolinecolor": "rgb(36,36,36)"
          },
          "yaxis": {
           "automargin": true,
           "gridcolor": "rgb(232,232,232)",
           "linecolor": "rgb(36,36,36)",
           "showgrid": false,
           "showline": true,
           "ticks": "outside",
           "title": {
            "standoff": 15
           },
           "zeroline": false,
           "zerolinecolor": "rgb(36,36,36)"
          }
         }
        },
        "xaxis": {
         "anchor": "y",
         "domain": [
          0,
          0.8358
         ],
         "title": {
          "text": "call_conversion"
         }
        },
        "xaxis2": {
         "anchor": "y2",
         "domain": [
          0.8408,
          1
         ],
         "matches": "x2",
         "showline": false,
         "showticklabels": false,
         "ticks": ""
        },
        "xaxis3": {
         "anchor": "y3",
         "domain": [
          0,
          0.8358
         ],
         "matches": "x",
         "showticklabels": false
        },
        "xaxis4": {
         "anchor": "y4",
         "domain": [
          0.8408,
          1
         ],
         "matches": "x2",
         "showline": false,
         "showticklabels": false,
         "ticks": ""
        },
        "yaxis": {
         "anchor": "x",
         "domain": [
          0,
          0.8316
         ],
         "title": {
          "text": "mean_call_duration"
         }
        },
        "yaxis2": {
         "anchor": "x2",
         "domain": [
          0,
          0.8316
         ],
         "matches": "y",
         "showticklabels": false
        },
        "yaxis3": {
         "anchor": "x3",
         "domain": [
          0.8416,
          1
         ],
         "matches": "y3",
         "showline": false,
         "showticklabels": false,
         "ticks": ""
        },
        "yaxis4": {
         "anchor": "x4",
         "domain": [
          0.8416,
          1
         ],
         "matches": "y3",
         "showline": false,
         "showticklabels": false,
         "ticks": ""
        }
       }
      },
      "text/html": [
       "<div>                            <div id=\"b6a5334a-7e0b-45e2-b356-15097457fe15\" class=\"plotly-graph-div\" style=\"height:525px; width:100%;\"></div>            <script type=\"text/javascript\">                require([\"plotly\"], function(Plotly) {                    window.PLOTLYENV=window.PLOTLYENV || {};                                    if (document.getElementById(\"b6a5334a-7e0b-45e2-b356-15097457fe15\")) {                    Plotly.newPlot(                        \"b6a5334a-7e0b-45e2-b356-15097457fe15\",                        [{\"hovertemplate\": \"call_conversion=%{x}<br>mean_call_duration=%{y}<extra></extra>\", \"legendgroup\": \"\", \"marker\": {\"color\": \"#1F77B4\", \"symbol\": \"circle\"}, \"mode\": \"markers\", \"name\": \"\", \"orientation\": \"v\", \"showlegend\": false, \"type\": \"scatter\", \"x\": [62.06896551724138, 61.76470588235294, 58.753709198813056, 56.97674418604651, 56.849315068493155, 56.41025641025641, 55.20504731861199, 54.285714285714285, 53.71775417298937, 53.233830845771145, 52.38095238095239, 51.955307262569825, 51.908396946564885, 51.64835164835166, 51.515151515151516, 51.35135135135135, 51.28205128205128, 50.0, 50.0, 50.0, 49.57983193277311, 48.8, 48.64864864864865, 48.372093023255815, 47.97297297297297, 47.22222222222222, 47.18614718614719, 46.666666666666664, 46.15384615384615, 45.45454545454545, 44.44444444444444, 44.27966101694915, 43.93939393939394, 43.67816091954023, 43.07692307692308, 43.02496328928047, 42.592592592592595, 41.86046511627907, 41.7910447761194, 41.66666666666667, 41.566265060240966, 40.816326530612244, 40.638297872340424, 40.54054054054054, 40.49079754601227, 40.17857142857143, 40.0, 40.0, 40.0, 39.58333333333333, 39.473684210526315, 39.39393939393939, 39.130434782608695, 39.09090909090909, 39.09090909090909, 38.63636363636363, 38.372093023255815, 37.5, 37.03703703703704, 36.62921348314607, 36.554621848739494, 36.36363636363637, 36.36363636363637, 36.30573248407643, 36.0655737704918, 35.94132029339853, 35.714285714285715, 35.63218390804598, 34.5679012345679, 34.53237410071942, 33.33333333333333, 33.33333333333333, 33.125, 32.45614035087719, 32.25806451612903, 31.914893617021278, 31.62393162393162, 30.973451327433626, 30.18867924528302, 29.629629629629626, 28.37209302325581, 27.77777777777778, 27.692307692307693, 27.480916030534353, 27.173913043478258, 26.041666666666668, 25.64102564102564, 25.0, 23.015873015873016, 17.647058823529413, null], \"xaxis\": \"x\", \"y\": [133.3695652173913, 124.79545454545455, 130.10064516129032, 71.38261738261738, 194.63829787234042, 184.75229357798165, 106.60113960113961, 132.0578313253012, 90.0956434651978, 132.26402640264027, 91.86496350364963, 94.49903846153846, 119.36046511627907, 137.11787072243345, 55.79362506753107, 228.21243523316062, 176.18041237113403, 165.66666666666666, 83.01785714285714, 148.5441176470588, 163.079754601227, 139.74149659863946, 130.36690647482015, 98.02952503209242, 137.8181818181818, 93.6178861788618, 121.61853448275862, 172.26285714285714, 40.43809523809524, 173.01075268817203, 138.78319783197833, 112.0607553366174, 118.39204545454545, 74.63333333333334, 129.71395881006865, 115.05644768856448, 127.55431754874652, 140.09640831758034, 160.73181818181817, 159.35, 88.99047619047619, 162.62443438914028, 72.90104947526237, 110.15833333333333, 100.14754098360656, 129.7218045112782, 91.15819209039547, 123.62314540059347, 135.32273838630806, 131.04464285714286, 97.01449275362319, 61.2042042042042, 119.875, 76.42181818181818, 125.16231884057972, 130.25238095238095, 142.89523809523808, 141.68897637795277, 176.3015873015873, 91.96569075937786, 85.93696883852691, 101.64207650273224, 78.81456953642385, 96.24358974358974, 210.8081395348837, 126.60255319148936, 49.034246575342465, 131.5721153846154, 125.0, 99.85939553219448, 115.01910828025478, 106.88888888888889, 89.03966005665723, 83.70238095238095, 131.0, 134.24113475177305, 124.2027972027972, 93.71206225680933, 135.23342175066313, 96.30645161290323, 90.29181494661921, 87.6829268292683, 175.05755395683454, 143.72064777327935, 200.91666666666666, 95.70325203252033, 125.2764705882353, 206.55555555555554, 87.62780269058295, 95.94954128440367, 35.27272727272727], \"yaxis\": \"y\"}, {\"alignmentgroup\": \"True\", \"hovertemplate\": \"call_conversion=%{x}<extra></extra>\", \"legendgroup\": \"\", \"marker\": {\"color\": \"#1F77B4\", \"symbol\": \"circle\"}, \"name\": \"\", \"notched\": true, \"offsetgroup\": \"\", \"showlegend\": false, \"type\": \"box\", \"x\": [62.06896551724138, 61.76470588235294, 58.753709198813056, 56.97674418604651, 56.849315068493155, 56.41025641025641, 55.20504731861199, 54.285714285714285, 53.71775417298937, 53.233830845771145, 52.38095238095239, 51.955307262569825, 51.908396946564885, 51.64835164835166, 51.515151515151516, 51.35135135135135, 51.28205128205128, 50.0, 50.0, 50.0, 49.57983193277311, 48.8, 48.64864864864865, 48.372093023255815, 47.97297297297297, 47.22222222222222, 47.18614718614719, 46.666666666666664, 46.15384615384615, 45.45454545454545, 44.44444444444444, 44.27966101694915, 43.93939393939394, 43.67816091954023, 43.07692307692308, 43.02496328928047, 42.592592592592595, 41.86046511627907, 41.7910447761194, 41.66666666666667, 41.566265060240966, 40.816326530612244, 40.638297872340424, 40.54054054054054, 40.49079754601227, 40.17857142857143, 40.0, 40.0, 40.0, 39.58333333333333, 39.473684210526315, 39.39393939393939, 39.130434782608695, 39.09090909090909, 39.09090909090909, 38.63636363636363, 38.372093023255815, 37.5, 37.03703703703704, 36.62921348314607, 36.554621848739494, 36.36363636363637, 36.36363636363637, 36.30573248407643, 36.0655737704918, 35.94132029339853, 35.714285714285715, 35.63218390804598, 34.5679012345679, 34.53237410071942, 33.33333333333333, 33.33333333333333, 33.125, 32.45614035087719, 32.25806451612903, 31.914893617021278, 31.62393162393162, 30.973451327433626, 30.18867924528302, 29.629629629629626, 28.37209302325581, 27.77777777777778, 27.692307692307693, 27.480916030534353, 27.173913043478258, 26.041666666666668, 25.64102564102564, 25.0, 23.015873015873016, 17.647058823529413, null], \"xaxis\": \"x3\", \"yaxis\": \"y3\"}, {\"alignmentgroup\": \"True\", \"hovertemplate\": \"mean_call_duration=%{y}<extra></extra>\", \"legendgroup\": \"\", \"marker\": {\"color\": \"#1F77B4\", \"symbol\": \"circle\"}, \"name\": \"\", \"notched\": true, \"offsetgroup\": \"\", \"showlegend\": false, \"type\": \"box\", \"xaxis\": \"x2\", \"y\": [133.3695652173913, 124.79545454545455, 130.10064516129032, 71.38261738261738, 194.63829787234042, 184.75229357798165, 106.60113960113961, 132.0578313253012, 90.0956434651978, 132.26402640264027, 91.86496350364963, 94.49903846153846, 119.36046511627907, 137.11787072243345, 55.79362506753107, 228.21243523316062, 176.18041237113403, 165.66666666666666, 83.01785714285714, 148.5441176470588, 163.079754601227, 139.74149659863946, 130.36690647482015, 98.02952503209242, 137.8181818181818, 93.6178861788618, 121.61853448275862, 172.26285714285714, 40.43809523809524, 173.01075268817203, 138.78319783197833, 112.0607553366174, 118.39204545454545, 74.63333333333334, 129.71395881006865, 115.05644768856448, 127.55431754874652, 140.09640831758034, 160.73181818181817, 159.35, 88.99047619047619, 162.62443438914028, 72.90104947526237, 110.15833333333333, 100.14754098360656, 129.7218045112782, 91.15819209039547, 123.62314540059347, 135.32273838630806, 131.04464285714286, 97.01449275362319, 61.2042042042042, 119.875, 76.42181818181818, 125.16231884057972, 130.25238095238095, 142.89523809523808, 141.68897637795277, 176.3015873015873, 91.96569075937786, 85.93696883852691, 101.64207650273224, 78.81456953642385, 96.24358974358974, 210.8081395348837, 126.60255319148936, 49.034246575342465, 131.5721153846154, 125.0, 99.85939553219448, 115.01910828025478, 106.88888888888889, 89.03966005665723, 83.70238095238095, 131.0, 134.24113475177305, 124.2027972027972, 93.71206225680933, 135.23342175066313, 96.30645161290323, 90.29181494661921, 87.6829268292683, 175.05755395683454, 143.72064777327935, 200.91666666666666, 95.70325203252033, 125.2764705882353, 206.55555555555554, 87.62780269058295, 95.94954128440367, 35.27272727272727], \"yaxis\": \"y2\"}, {\"hovertemplate\": \"<b>OLS trendline</b><br>mean_call_duration = 0.384439 * call_conversion + 106.145<br>R<sup>2</sup>=0.009507<br><br>call_conversion=%{x}<br>mean_call_duration=%{y} <b>(trend)</b><extra></extra>\", \"legendgroup\": \"\", \"marker\": {\"color\": \"#1F77B4\", \"symbol\": \"circle\"}, \"mode\": \"lines\", \"name\": \"\", \"showlegend\": false, \"type\": \"scatter\", \"x\": [17.647058823529413, 23.015873015873016, 25.0, 25.64102564102564, 26.041666666666668, 27.173913043478258, 27.480916030534353, 27.692307692307693, 27.77777777777778, 28.37209302325581, 29.629629629629626, 30.18867924528302, 30.973451327433626, 31.62393162393162, 31.914893617021278, 32.25806451612903, 32.45614035087719, 33.125, 33.33333333333333, 33.33333333333333, 34.53237410071942, 34.5679012345679, 35.63218390804598, 35.714285714285715, 35.94132029339853, 36.0655737704918, 36.30573248407643, 36.36363636363637, 36.36363636363637, 36.554621848739494, 36.62921348314607, 37.03703703703704, 37.5, 38.372093023255815, 38.63636363636363, 39.09090909090909, 39.09090909090909, 39.130434782608695, 39.39393939393939, 39.473684210526315, 39.58333333333333, 40.0, 40.0, 40.0, 40.17857142857143, 40.49079754601227, 40.54054054054054, 40.638297872340424, 40.816326530612244, 41.566265060240966, 41.66666666666667, 41.7910447761194, 41.86046511627907, 42.592592592592595, 43.02496328928047, 43.07692307692308, 43.67816091954023, 43.93939393939394, 44.27966101694915, 44.44444444444444, 45.45454545454545, 46.15384615384615, 46.666666666666664, 47.18614718614719, 47.22222222222222, 47.97297297297297, 48.372093023255815, 48.64864864864865, 48.8, 49.57983193277311, 50.0, 50.0, 50.0, 51.28205128205128, 51.35135135135135, 51.515151515151516, 51.64835164835166, 51.908396946564885, 51.955307262569825, 52.38095238095239, 53.233830845771145, 53.71775417298937, 54.285714285714285, 55.20504731861199, 56.41025641025641, 56.849315068493155, 56.97674418604651, 58.753709198813056, 61.76470588235294, 62.06896551724138], \"xaxis\": \"x\", \"y\": [112.92926808697784, 114.99324716421265, 115.75602204058204, 116.00245700063984, 116.15647885067597, 116.5917579920824, 116.70978177149277, 116.7910488728248, 116.82390686749918, 117.05238455139772, 117.53583008544393, 117.75075030218198, 118.05244693386403, 118.30251662784599, 118.4143736309928, 118.5463017496236, 118.62244973388594, 118.87958515931467, 118.95967652133346, 118.95967652133346, 119.42063400057827, 119.4342919999633, 119.8434432746442, 119.87500637297673, 119.96228721457595, 120.01005503961261, 120.10238130427663, 120.12464178706125, 120.12464178706125, 120.19806396767434, 120.22673986652953, 120.38352295722298, 120.56150376170918, 120.89676992829943, 120.99836573635709, 121.17311052621626, 121.17311052621626, 121.18830572533444, 121.28960705278904, 121.32026403346609, 121.36241738189702, 121.5226001059346, 121.5226001059346, 121.5226001059346, 121.59124984480785, 121.71128159682547, 121.73040472090226, 121.7679864065879, 121.83642748364086, 122.12473275532884, 122.16333100208487, 122.21114674060355, 122.2378345946605, 122.51929261105727, 122.68551256943203, 122.70548791421204, 122.93662691123177, 123.03705495138072, 123.16786672910015, 123.23121582900202, 123.61953758424463, 123.88837572248949, 124.08552369053574, 124.28523202180335, 124.29910065591916, 124.58771817670757, 124.74115530520115, 124.84747394541715, 124.90565923760809, 125.20545668548749, 125.3669854828363, 125.3669854828363, 125.3669854828363, 125.85985540295191, 125.88649702025545, 125.9494681157002, 126.0006753801278, 126.10064681430609, 126.11868094759362, 126.28231533447956, 126.61019468432193, 126.79623346059186, 127.01457921579417, 127.36800626261163, 127.83133508341432, 128.00012615194706, 128.04911481555843, 128.73224864659298, 129.889791808603, 130.00676093771767], \"yaxis\": \"y\"}],                        {\"legend\": {\"tracegroupgap\": 0}, \"margin\": {\"t\": 60}, \"template\": {\"data\": {\"bar\": [{\"error_x\": {\"color\": \"rgb(36,36,36)\"}, \"error_y\": {\"color\": \"rgb(36,36,36)\"}, \"marker\": {\"line\": {\"color\": \"white\", \"width\": 0.5}}, \"type\": \"bar\"}], \"barpolar\": [{\"marker\": {\"line\": {\"color\": \"white\", \"width\": 0.5}}, \"type\": \"barpolar\"}], \"carpet\": [{\"aaxis\": {\"endlinecolor\": \"rgb(36,36,36)\", \"gridcolor\": \"white\", \"linecolor\": \"white\", \"minorgridcolor\": \"white\", \"startlinecolor\": \"rgb(36,36,36)\"}, \"baxis\": {\"endlinecolor\": \"rgb(36,36,36)\", \"gridcolor\": \"white\", \"linecolor\": \"white\", \"minorgridcolor\": \"white\", \"startlinecolor\": \"rgb(36,36,36)\"}, \"type\": \"carpet\"}], \"choropleth\": [{\"colorbar\": {\"outlinewidth\": 1, \"tickcolor\": \"rgb(36,36,36)\", \"ticks\": \"outside\"}, \"type\": \"choropleth\"}], \"contour\": [{\"colorbar\": {\"outlinewidth\": 1, \"tickcolor\": \"rgb(36,36,36)\", \"ticks\": \"outside\"}, \"colorscale\": [[0.0, \"#440154\"], [0.1111111111111111, \"#482878\"], [0.2222222222222222, \"#3e4989\"], [0.3333333333333333, \"#31688e\"], [0.4444444444444444, \"#26828e\"], [0.5555555555555556, \"#1f9e89\"], [0.6666666666666666, \"#35b779\"], [0.7777777777777778, \"#6ece58\"], [0.8888888888888888, \"#b5de2b\"], [1.0, \"#fde725\"]], \"type\": \"contour\"}], \"contourcarpet\": [{\"colorbar\": {\"outlinewidth\": 1, \"tickcolor\": \"rgb(36,36,36)\", \"ticks\": \"outside\"}, \"type\": \"contourcarpet\"}], \"heatmap\": [{\"colorbar\": {\"outlinewidth\": 1, \"tickcolor\": \"rgb(36,36,36)\", \"ticks\": \"outside\"}, \"colorscale\": [[0.0, \"#440154\"], [0.1111111111111111, \"#482878\"], [0.2222222222222222, \"#3e4989\"], [0.3333333333333333, \"#31688e\"], [0.4444444444444444, \"#26828e\"], [0.5555555555555556, \"#1f9e89\"], [0.6666666666666666, \"#35b779\"], [0.7777777777777778, \"#6ece58\"], [0.8888888888888888, \"#b5de2b\"], [1.0, \"#fde725\"]], \"type\": \"heatmap\"}], \"heatmapgl\": [{\"colorbar\": {\"outlinewidth\": 1, \"tickcolor\": \"rgb(36,36,36)\", \"ticks\": \"outside\"}, \"colorscale\": [[0.0, \"#440154\"], [0.1111111111111111, \"#482878\"], [0.2222222222222222, \"#3e4989\"], [0.3333333333333333, \"#31688e\"], [0.4444444444444444, \"#26828e\"], [0.5555555555555556, \"#1f9e89\"], [0.6666666666666666, \"#35b779\"], [0.7777777777777778, \"#6ece58\"], [0.8888888888888888, \"#b5de2b\"], [1.0, \"#fde725\"]], \"type\": \"heatmapgl\"}], \"histogram\": [{\"marker\": {\"line\": {\"color\": \"white\", \"width\": 0.6}}, \"type\": \"histogram\"}], \"histogram2d\": [{\"colorbar\": {\"outlinewidth\": 1, \"tickcolor\": \"rgb(36,36,36)\", \"ticks\": \"outside\"}, \"colorscale\": [[0.0, \"#440154\"], [0.1111111111111111, \"#482878\"], [0.2222222222222222, \"#3e4989\"], [0.3333333333333333, \"#31688e\"], [0.4444444444444444, \"#26828e\"], [0.5555555555555556, \"#1f9e89\"], [0.6666666666666666, \"#35b779\"], [0.7777777777777778, \"#6ece58\"], [0.8888888888888888, \"#b5de2b\"], [1.0, \"#fde725\"]], \"type\": \"histogram2d\"}], \"histogram2dcontour\": [{\"colorbar\": {\"outlinewidth\": 1, \"tickcolor\": \"rgb(36,36,36)\", \"ticks\": \"outside\"}, \"colorscale\": [[0.0, \"#440154\"], [0.1111111111111111, \"#482878\"], [0.2222222222222222, \"#3e4989\"], [0.3333333333333333, \"#31688e\"], [0.4444444444444444, \"#26828e\"], [0.5555555555555556, \"#1f9e89\"], [0.6666666666666666, \"#35b779\"], [0.7777777777777778, \"#6ece58\"], [0.8888888888888888, \"#b5de2b\"], [1.0, \"#fde725\"]], \"type\": \"histogram2dcontour\"}], \"mesh3d\": [{\"colorbar\": {\"outlinewidth\": 1, \"tickcolor\": \"rgb(36,36,36)\", \"ticks\": \"outside\"}, \"type\": \"mesh3d\"}], \"parcoords\": [{\"line\": {\"colorbar\": {\"outlinewidth\": 1, \"tickcolor\": \"rgb(36,36,36)\", \"ticks\": \"outside\"}}, \"type\": \"parcoords\"}], \"pie\": [{\"automargin\": true, \"type\": \"pie\"}], \"scatter\": [{\"marker\": {\"colorbar\": {\"outlinewidth\": 1, \"tickcolor\": \"rgb(36,36,36)\", \"ticks\": \"outside\"}}, \"type\": \"scatter\"}], \"scatter3d\": [{\"line\": {\"colorbar\": {\"outlinewidth\": 1, \"tickcolor\": \"rgb(36,36,36)\", \"ticks\": \"outside\"}}, \"marker\": {\"colorbar\": {\"outlinewidth\": 1, \"tickcolor\": \"rgb(36,36,36)\", \"ticks\": \"outside\"}}, \"type\": \"scatter3d\"}], \"scattercarpet\": [{\"marker\": {\"colorbar\": {\"outlinewidth\": 1, \"tickcolor\": \"rgb(36,36,36)\", \"ticks\": \"outside\"}}, \"type\": \"scattercarpet\"}], \"scattergeo\": [{\"marker\": {\"colorbar\": {\"outlinewidth\": 1, \"tickcolor\": \"rgb(36,36,36)\", \"ticks\": \"outside\"}}, \"type\": \"scattergeo\"}], \"scattergl\": [{\"marker\": {\"colorbar\": {\"outlinewidth\": 1, \"tickcolor\": \"rgb(36,36,36)\", \"ticks\": \"outside\"}}, \"type\": \"scattergl\"}], \"scattermapbox\": [{\"marker\": {\"colorbar\": {\"outlinewidth\": 1, \"tickcolor\": \"rgb(36,36,36)\", \"ticks\": \"outside\"}}, \"type\": \"scattermapbox\"}], \"scatterpolar\": [{\"marker\": {\"colorbar\": {\"outlinewidth\": 1, \"tickcolor\": \"rgb(36,36,36)\", \"ticks\": \"outside\"}}, \"type\": \"scatterpolar\"}], \"scatterpolargl\": [{\"marker\": {\"colorbar\": {\"outlinewidth\": 1, \"tickcolor\": \"rgb(36,36,36)\", \"ticks\": \"outside\"}}, \"type\": \"scatterpolargl\"}], \"scatterternary\": [{\"marker\": {\"colorbar\": {\"outlinewidth\": 1, \"tickcolor\": \"rgb(36,36,36)\", \"ticks\": \"outside\"}}, \"type\": \"scatterternary\"}], \"surface\": [{\"colorbar\": {\"outlinewidth\": 1, \"tickcolor\": \"rgb(36,36,36)\", \"ticks\": \"outside\"}, \"colorscale\": [[0.0, \"#440154\"], [0.1111111111111111, \"#482878\"], [0.2222222222222222, \"#3e4989\"], [0.3333333333333333, \"#31688e\"], [0.4444444444444444, \"#26828e\"], [0.5555555555555556, \"#1f9e89\"], [0.6666666666666666, \"#35b779\"], [0.7777777777777778, \"#6ece58\"], [0.8888888888888888, \"#b5de2b\"], [1.0, \"#fde725\"]], \"type\": \"surface\"}], \"table\": [{\"cells\": {\"fill\": {\"color\": \"rgb(237,237,237)\"}, \"line\": {\"color\": \"white\"}}, \"header\": {\"fill\": {\"color\": \"rgb(217,217,217)\"}, \"line\": {\"color\": \"white\"}}, \"type\": \"table\"}]}, \"layout\": {\"annotationdefaults\": {\"arrowhead\": 0, \"arrowwidth\": 1}, \"autotypenumbers\": \"strict\", \"coloraxis\": {\"colorbar\": {\"outlinewidth\": 1, \"tickcolor\": \"rgb(36,36,36)\", \"ticks\": \"outside\"}}, \"colorscale\": {\"diverging\": [[0.0, \"rgb(103,0,31)\"], [0.1, \"rgb(178,24,43)\"], [0.2, \"rgb(214,96,77)\"], [0.3, \"rgb(244,165,130)\"], [0.4, \"rgb(253,219,199)\"], [0.5, \"rgb(247,247,247)\"], [0.6, \"rgb(209,229,240)\"], [0.7, \"rgb(146,197,222)\"], [0.8, \"rgb(67,147,195)\"], [0.9, \"rgb(33,102,172)\"], [1.0, \"rgb(5,48,97)\"]], \"sequential\": [[0.0, \"#440154\"], [0.1111111111111111, \"#482878\"], [0.2222222222222222, \"#3e4989\"], [0.3333333333333333, \"#31688e\"], [0.4444444444444444, \"#26828e\"], [0.5555555555555556, \"#1f9e89\"], [0.6666666666666666, \"#35b779\"], [0.7777777777777778, \"#6ece58\"], [0.8888888888888888, \"#b5de2b\"], [1.0, \"#fde725\"]], \"sequentialminus\": [[0.0, \"#440154\"], [0.1111111111111111, \"#482878\"], [0.2222222222222222, \"#3e4989\"], [0.3333333333333333, \"#31688e\"], [0.4444444444444444, \"#26828e\"], [0.5555555555555556, \"#1f9e89\"], [0.6666666666666666, \"#35b779\"], [0.7777777777777778, \"#6ece58\"], [0.8888888888888888, \"#b5de2b\"], [1.0, \"#fde725\"]]}, \"colorway\": [\"#1F77B4\", \"#FF7F0E\", \"#2CA02C\", \"#D62728\", \"#9467BD\", \"#8C564B\", \"#E377C2\", \"#7F7F7F\", \"#BCBD22\", \"#17BECF\"], \"font\": {\"color\": \"rgb(36,36,36)\"}, \"geo\": {\"bgcolor\": \"white\", \"lakecolor\": \"white\", \"landcolor\": \"white\", \"showlakes\": true, \"showland\": true, \"subunitcolor\": \"white\"}, \"hoverlabel\": {\"align\": \"left\"}, \"hovermode\": \"closest\", \"mapbox\": {\"style\": \"light\"}, \"paper_bgcolor\": \"white\", \"plot_bgcolor\": \"white\", \"polar\": {\"angularaxis\": {\"gridcolor\": \"rgb(232,232,232)\", \"linecolor\": \"rgb(36,36,36)\", \"showgrid\": false, \"showline\": true, \"ticks\": \"outside\"}, \"bgcolor\": \"white\", \"radialaxis\": {\"gridcolor\": \"rgb(232,232,232)\", \"linecolor\": \"rgb(36,36,36)\", \"showgrid\": false, \"showline\": true, \"ticks\": \"outside\"}}, \"scene\": {\"xaxis\": {\"backgroundcolor\": \"white\", \"gridcolor\": \"rgb(232,232,232)\", \"gridwidth\": 2, \"linecolor\": \"rgb(36,36,36)\", \"showbackground\": true, \"showgrid\": false, \"showline\": true, \"ticks\": \"outside\", \"zeroline\": false, \"zerolinecolor\": \"rgb(36,36,36)\"}, \"yaxis\": {\"backgroundcolor\": \"white\", \"gridcolor\": \"rgb(232,232,232)\", \"gridwidth\": 2, \"linecolor\": \"rgb(36,36,36)\", \"showbackground\": true, \"showgrid\": false, \"showline\": true, \"ticks\": \"outside\", \"zeroline\": false, \"zerolinecolor\": \"rgb(36,36,36)\"}, \"zaxis\": {\"backgroundcolor\": \"white\", \"gridcolor\": \"rgb(232,232,232)\", \"gridwidth\": 2, \"linecolor\": \"rgb(36,36,36)\", \"showbackground\": true, \"showgrid\": false, \"showline\": true, \"ticks\": \"outside\", \"zeroline\": false, \"zerolinecolor\": \"rgb(36,36,36)\"}}, \"shapedefaults\": {\"fillcolor\": \"black\", \"line\": {\"width\": 0}, \"opacity\": 0.3}, \"ternary\": {\"aaxis\": {\"gridcolor\": \"rgb(232,232,232)\", \"linecolor\": \"rgb(36,36,36)\", \"showgrid\": false, \"showline\": true, \"ticks\": \"outside\"}, \"baxis\": {\"gridcolor\": \"rgb(232,232,232)\", \"linecolor\": \"rgb(36,36,36)\", \"showgrid\": false, \"showline\": true, \"ticks\": \"outside\"}, \"bgcolor\": \"white\", \"caxis\": {\"gridcolor\": \"rgb(232,232,232)\", \"linecolor\": \"rgb(36,36,36)\", \"showgrid\": false, \"showline\": true, \"ticks\": \"outside\"}}, \"title\": {\"x\": 0.05}, \"xaxis\": {\"automargin\": true, \"gridcolor\": \"rgb(232,232,232)\", \"linecolor\": \"rgb(36,36,36)\", \"showgrid\": false, \"showline\": true, \"ticks\": \"outside\", \"title\": {\"standoff\": 15}, \"zeroline\": false, \"zerolinecolor\": \"rgb(36,36,36)\"}, \"yaxis\": {\"automargin\": true, \"gridcolor\": \"rgb(232,232,232)\", \"linecolor\": \"rgb(36,36,36)\", \"showgrid\": false, \"showline\": true, \"ticks\": \"outside\", \"title\": {\"standoff\": 15}, \"zeroline\": false, \"zerolinecolor\": \"rgb(36,36,36)\"}}}, \"xaxis\": {\"anchor\": \"y\", \"domain\": [0.0, 0.8358], \"title\": {\"text\": \"call_conversion\"}}, \"xaxis2\": {\"anchor\": \"y2\", \"domain\": [0.8408, 1.0], \"matches\": \"x2\", \"showline\": false, \"showticklabels\": false, \"ticks\": \"\"}, \"xaxis3\": {\"anchor\": \"y3\", \"domain\": [0.0, 0.8358], \"matches\": \"x\", \"showticklabels\": false}, \"xaxis4\": {\"anchor\": \"y4\", \"domain\": [0.8408, 1.0], \"matches\": \"x2\", \"showline\": false, \"showticklabels\": false, \"ticks\": \"\"}, \"yaxis\": {\"anchor\": \"x\", \"domain\": [0.0, 0.8316], \"title\": {\"text\": \"mean_call_duration\"}}, \"yaxis2\": {\"anchor\": \"x2\", \"domain\": [0.0, 0.8316], \"matches\": \"y\", \"showticklabels\": false}, \"yaxis3\": {\"anchor\": \"x3\", \"domain\": [0.8416, 1.0], \"matches\": \"y3\", \"showline\": false, \"showticklabels\": false, \"ticks\": \"\"}, \"yaxis4\": {\"anchor\": \"x4\", \"domain\": [0.8416, 1.0], \"matches\": \"y3\", \"showline\": false, \"showticklabels\": false, \"ticks\": \"\"}},                        {\"responsive\": true}                    ).then(function(){\n",
       "                            \n",
       "var gd = document.getElementById('b6a5334a-7e0b-45e2-b356-15097457fe15');\n",
       "var x = new MutationObserver(function (mutations, observer) {{\n",
       "        var display = window.getComputedStyle(gd).display;\n",
       "        if (!display || display === 'none') {{\n",
       "            console.log([gd, 'removed!']);\n",
       "            Plotly.purge(gd);\n",
       "            observer.disconnect();\n",
       "        }}\n",
       "}});\n",
       "\n",
       "// Listen for the removal of the full notebook cells\n",
       "var notebookContainer = gd.closest('#notebook-container');\n",
       "if (notebookContainer) {{\n",
       "    x.observe(notebookContainer, {childList: true});\n",
       "}}\n",
       "\n",
       "// Listen for the clearing of the current output cell\n",
       "var outputEl = gd.closest('.output');\n",
       "if (outputEl) {{\n",
       "    x.observe(outputEl, {childList: true});\n",
       "}}\n",
       "\n",
       "                        })                };                });            </script>        </div>"
      ]
     },
     "metadata": {},
     "output_type": "display_data"
    }
   ],
   "source": [
    "fig = px.scatter(df_analyze, x=\"call_conversion\", y=\"mean_call_duration\", marginal_y=\"box\",\n",
    "           marginal_x=\"box\", trendline=\"ols\", template=\"simple_white\")\n",
    "fig.show()"
   ]
  },
  {
   "cell_type": "markdown",
   "id": "5c2914e7",
   "metadata": {},
   "source": [
    "### Среднее продолжительность не сильно влияет на конверсию.\n",
    "### Из проделанного анализа можно сделать вывод что около трети всех звонков переходят в продажу, что видно из воронки продаж, в базе 4 почти половина.\n",
    "\n",
    "### Предложение: можно посмотреть сезонность(производительность по месяцам и как она влияет на конверсию)"
   ]
  },
  {
   "cell_type": "code",
   "execution_count": 185,
   "id": "8e58eebd",
   "metadata": {},
   "outputs": [
    {
     "name": "stdout",
     "output_type": "stream",
     "text": [
      "Средняя конверсия по всем сотрудникам: 41.2\n"
     ]
    }
   ],
   "source": [
    "print(f'Средняя конверсия по всем сотрудникам: {df_analyze.call_conversion.mean():.1f}')"
   ]
  },
  {
   "cell_type": "code",
   "execution_count": 186,
   "id": "515f95ce",
   "metadata": {},
   "outputs": [
    {
     "data": {
      "text/html": [
       "<div>\n",
       "<style scoped>\n",
       "    .dataframe tbody tr th:only-of-type {\n",
       "        vertical-align: middle;\n",
       "    }\n",
       "\n",
       "    .dataframe tbody tr th {\n",
       "        vertical-align: top;\n",
       "    }\n",
       "\n",
       "    .dataframe thead th {\n",
       "        text-align: right;\n",
       "    }\n",
       "</style>\n",
       "<table border=\"1\" class=\"dataframe\">\n",
       "  <thead>\n",
       "    <tr style=\"text-align: right;\">\n",
       "      <th></th>\n",
       "      <th>task_id</th>\n",
       "      <th>call_id</th>\n",
       "      <th>agent_name</th>\n",
       "      <th>call_dt</th>\n",
       "      <th>call_result_id</th>\n",
       "      <th>call_result_translation</th>\n",
       "      <th>call_time_sec</th>\n",
       "      <th>hid</th>\n",
       "      <th>finish_dt_task</th>\n",
       "      <th>base_id</th>\n",
       "      <th>task_result_id</th>\n",
       "      <th>task_result_translation</th>\n",
       "      <th>base_translation</th>\n",
       "      <th>product_type_cd</th>\n",
       "      <th>approve_dt</th>\n",
       "      <th>reject_dt</th>\n",
       "      <th>using_dt</th>\n",
       "    </tr>\n",
       "  </thead>\n",
       "  <tbody>\n",
       "    <tr>\n",
       "      <th>0</th>\n",
       "      <td>843083337</td>\n",
       "      <td>6645916908#16711160876</td>\n",
       "      <td>sakungurceva</td>\n",
       "      <td>2020-03-01</td>\n",
       "      <td>6</td>\n",
       "      <td>Дозвон, Отложить</td>\n",
       "      <td>298</td>\n",
       "      <td>36d2f49fc49f572677416d54536a41c6</td>\n",
       "      <td>2020-04-15</td>\n",
       "      <td>7553</td>\n",
       "      <td>6</td>\n",
       "      <td>Успешно</td>\n",
       "      <td>База 1</td>\n",
       "      <td>INV</td>\n",
       "      <td>NaT</td>\n",
       "      <td>2020-04-22</td>\n",
       "      <td>NaT</td>\n",
       "    </tr>\n",
       "    <tr>\n",
       "      <th>1</th>\n",
       "      <td>843083337</td>\n",
       "      <td>6750206063#16711160876</td>\n",
       "      <td>sakungurceva</td>\n",
       "      <td>2020-03-17</td>\n",
       "      <td>6</td>\n",
       "      <td>Дозвон, Отложить</td>\n",
       "      <td>9</td>\n",
       "      <td>36d2f49fc49f572677416d54536a41c6</td>\n",
       "      <td>2020-04-15</td>\n",
       "      <td>7553</td>\n",
       "      <td>6</td>\n",
       "      <td>Успешно</td>\n",
       "      <td>База 1</td>\n",
       "      <td>INV</td>\n",
       "      <td>NaT</td>\n",
       "      <td>2020-04-22</td>\n",
       "      <td>NaT</td>\n",
       "    </tr>\n",
       "    <tr>\n",
       "      <th>2</th>\n",
       "      <td>843083337</td>\n",
       "      <td>6769109629#16711160876</td>\n",
       "      <td>sakungurceva</td>\n",
       "      <td>2020-03-24</td>\n",
       "      <td>6</td>\n",
       "      <td>Дозвон, Отложить</td>\n",
       "      <td>111</td>\n",
       "      <td>36d2f49fc49f572677416d54536a41c6</td>\n",
       "      <td>2020-04-15</td>\n",
       "      <td>7553</td>\n",
       "      <td>6</td>\n",
       "      <td>Успешно</td>\n",
       "      <td>База 1</td>\n",
       "      <td>INV</td>\n",
       "      <td>NaT</td>\n",
       "      <td>2020-04-22</td>\n",
       "      <td>NaT</td>\n",
       "    </tr>\n",
       "    <tr>\n",
       "      <th>3</th>\n",
       "      <td>843083337</td>\n",
       "      <td>6890964670#16711160876</td>\n",
       "      <td>sakungurceva</td>\n",
       "      <td>2020-04-15</td>\n",
       "      <td>5</td>\n",
       "      <td>Недозвон</td>\n",
       "      <td>7</td>\n",
       "      <td>36d2f49fc49f572677416d54536a41c6</td>\n",
       "      <td>2020-04-15</td>\n",
       "      <td>7553</td>\n",
       "      <td>6</td>\n",
       "      <td>Успешно</td>\n",
       "      <td>База 1</td>\n",
       "      <td>INV</td>\n",
       "      <td>NaT</td>\n",
       "      <td>2020-04-22</td>\n",
       "      <td>NaT</td>\n",
       "    </tr>\n",
       "    <tr>\n",
       "      <th>4</th>\n",
       "      <td>843083337</td>\n",
       "      <td>6926247810#16711160876</td>\n",
       "      <td>lapleshivenkova</td>\n",
       "      <td>2020-04-15</td>\n",
       "      <td>3</td>\n",
       "      <td>Дозвон, Успешно</td>\n",
       "      <td>1329</td>\n",
       "      <td>36d2f49fc49f572677416d54536a41c6</td>\n",
       "      <td>2020-04-15</td>\n",
       "      <td>7553</td>\n",
       "      <td>6</td>\n",
       "      <td>Успешно</td>\n",
       "      <td>База 1</td>\n",
       "      <td>INV</td>\n",
       "      <td>NaT</td>\n",
       "      <td>2020-04-22</td>\n",
       "      <td>NaT</td>\n",
       "    </tr>\n",
       "    <tr>\n",
       "      <th>...</th>\n",
       "      <td>...</td>\n",
       "      <td>...</td>\n",
       "      <td>...</td>\n",
       "      <td>...</td>\n",
       "      <td>...</td>\n",
       "      <td>...</td>\n",
       "      <td>...</td>\n",
       "      <td>...</td>\n",
       "      <td>...</td>\n",
       "      <td>...</td>\n",
       "      <td>...</td>\n",
       "      <td>...</td>\n",
       "      <td>...</td>\n",
       "      <td>...</td>\n",
       "      <td>...</td>\n",
       "      <td>...</td>\n",
       "      <td>...</td>\n",
       "    </tr>\n",
       "    <tr>\n",
       "      <th>39593</th>\n",
       "      <td>933035272</td>\n",
       "      <td>7124347282#18483260522</td>\n",
       "      <td>aztrofimova</td>\n",
       "      <td>2020-05-30</td>\n",
       "      <td>5</td>\n",
       "      <td>Недозвон</td>\n",
       "      <td>0</td>\n",
       "      <td>9a2d6dd8ff0a11bdc7a65c8ded5d6d92</td>\n",
       "      <td>2020-05-30</td>\n",
       "      <td>7553</td>\n",
       "      <td>1</td>\n",
       "      <td>Дубль</td>\n",
       "      <td>База 1</td>\n",
       "      <td>NaN</td>\n",
       "      <td>NaT</td>\n",
       "      <td>NaT</td>\n",
       "      <td>NaT</td>\n",
       "    </tr>\n",
       "    <tr>\n",
       "      <th>39594</th>\n",
       "      <td>933040837</td>\n",
       "      <td>7123998330#18480990905</td>\n",
       "      <td>aztrofimova</td>\n",
       "      <td>2020-05-30</td>\n",
       "      <td>5</td>\n",
       "      <td>Недозвон</td>\n",
       "      <td>9</td>\n",
       "      <td>3c682df2f35ed1dc634501b4b7ae25fe</td>\n",
       "      <td>2020-05-30</td>\n",
       "      <td>7554</td>\n",
       "      <td>5</td>\n",
       "      <td>Отказ</td>\n",
       "      <td>База 4</td>\n",
       "      <td>NaN</td>\n",
       "      <td>NaT</td>\n",
       "      <td>NaT</td>\n",
       "      <td>NaT</td>\n",
       "    </tr>\n",
       "    <tr>\n",
       "      <th>39595</th>\n",
       "      <td>933040837</td>\n",
       "      <td>7124519269#18480990905</td>\n",
       "      <td>zadenis</td>\n",
       "      <td>2020-05-30</td>\n",
       "      <td>1</td>\n",
       "      <td>Дозвон, Отказ</td>\n",
       "      <td>41</td>\n",
       "      <td>3c682df2f35ed1dc634501b4b7ae25fe</td>\n",
       "      <td>2020-05-30</td>\n",
       "      <td>7554</td>\n",
       "      <td>5</td>\n",
       "      <td>Отказ</td>\n",
       "      <td>База 4</td>\n",
       "      <td>NaN</td>\n",
       "      <td>NaT</td>\n",
       "      <td>NaT</td>\n",
       "      <td>NaT</td>\n",
       "    </tr>\n",
       "    <tr>\n",
       "      <th>39596</th>\n",
       "      <td>933042718</td>\n",
       "      <td>7124237815#18482537123</td>\n",
       "      <td>npmoskalenko</td>\n",
       "      <td>2020-05-30</td>\n",
       "      <td>1</td>\n",
       "      <td>Дозвон, Отказ</td>\n",
       "      <td>138</td>\n",
       "      <td>d6262e2d5840a2e68fcf028c9732606c</td>\n",
       "      <td>2020-05-30</td>\n",
       "      <td>7553</td>\n",
       "      <td>5</td>\n",
       "      <td>Отказ</td>\n",
       "      <td>База 1</td>\n",
       "      <td>NaN</td>\n",
       "      <td>NaT</td>\n",
       "      <td>NaT</td>\n",
       "      <td>NaT</td>\n",
       "    </tr>\n",
       "    <tr>\n",
       "      <th>39597</th>\n",
       "      <td>933065058</td>\n",
       "      <td>7123061624#18471818019</td>\n",
       "      <td>dakupriyanov</td>\n",
       "      <td>2020-05-30</td>\n",
       "      <td>3</td>\n",
       "      <td>Дозвон, Успешно</td>\n",
       "      <td>276</td>\n",
       "      <td>1242029bded20eb92ffa31fd749d7ee4</td>\n",
       "      <td>2020-05-30</td>\n",
       "      <td>7553</td>\n",
       "      <td>6</td>\n",
       "      <td>Успешно</td>\n",
       "      <td>База 1</td>\n",
       "      <td>INV</td>\n",
       "      <td>2020-05-30</td>\n",
       "      <td>NaT</td>\n",
       "      <td>NaT</td>\n",
       "    </tr>\n",
       "  </tbody>\n",
       "</table>\n",
       "<p>39597 rows × 17 columns</p>\n",
       "</div>"
      ],
      "text/plain": [
       "         task_id                 call_id       agent_name    call_dt  \\\n",
       "0      843083337  6645916908#16711160876     sakungurceva 2020-03-01   \n",
       "1      843083337  6750206063#16711160876     sakungurceva 2020-03-17   \n",
       "2      843083337  6769109629#16711160876     sakungurceva 2020-03-24   \n",
       "3      843083337  6890964670#16711160876     sakungurceva 2020-04-15   \n",
       "4      843083337  6926247810#16711160876  lapleshivenkova 2020-04-15   \n",
       "...          ...                     ...              ...        ...   \n",
       "39593  933035272  7124347282#18483260522      aztrofimova 2020-05-30   \n",
       "39594  933040837  7123998330#18480990905      aztrofimova 2020-05-30   \n",
       "39595  933040837  7124519269#18480990905          zadenis 2020-05-30   \n",
       "39596  933042718  7124237815#18482537123     npmoskalenko 2020-05-30   \n",
       "39597  933065058  7123061624#18471818019     dakupriyanov 2020-05-30   \n",
       "\n",
       "       call_result_id call_result_translation  call_time_sec  \\\n",
       "0                   6        Дозвон, Отложить            298   \n",
       "1                   6        Дозвон, Отложить              9   \n",
       "2                   6        Дозвон, Отложить            111   \n",
       "3                   5                Недозвон              7   \n",
       "4                   3         Дозвон, Успешно           1329   \n",
       "...               ...                     ...            ...   \n",
       "39593               5                Недозвон              0   \n",
       "39594               5                Недозвон              9   \n",
       "39595               1           Дозвон, Отказ             41   \n",
       "39596               1           Дозвон, Отказ            138   \n",
       "39597               3         Дозвон, Успешно            276   \n",
       "\n",
       "                                    hid finish_dt_task  base_id  \\\n",
       "0      36d2f49fc49f572677416d54536a41c6     2020-04-15     7553   \n",
       "1      36d2f49fc49f572677416d54536a41c6     2020-04-15     7553   \n",
       "2      36d2f49fc49f572677416d54536a41c6     2020-04-15     7553   \n",
       "3      36d2f49fc49f572677416d54536a41c6     2020-04-15     7553   \n",
       "4      36d2f49fc49f572677416d54536a41c6     2020-04-15     7553   \n",
       "...                                 ...            ...      ...   \n",
       "39593  9a2d6dd8ff0a11bdc7a65c8ded5d6d92     2020-05-30     7553   \n",
       "39594  3c682df2f35ed1dc634501b4b7ae25fe     2020-05-30     7554   \n",
       "39595  3c682df2f35ed1dc634501b4b7ae25fe     2020-05-30     7554   \n",
       "39596  d6262e2d5840a2e68fcf028c9732606c     2020-05-30     7553   \n",
       "39597  1242029bded20eb92ffa31fd749d7ee4     2020-05-30     7553   \n",
       "\n",
       "       task_result_id task_result_translation base_translation  \\\n",
       "0                   6                 Успешно           База 1   \n",
       "1                   6                 Успешно           База 1   \n",
       "2                   6                 Успешно           База 1   \n",
       "3                   6                 Успешно           База 1   \n",
       "4                   6                 Успешно           База 1   \n",
       "...               ...                     ...              ...   \n",
       "39593               1                   Дубль           База 1   \n",
       "39594               5                   Отказ           База 4   \n",
       "39595               5                   Отказ           База 4   \n",
       "39596               5                   Отказ           База 1   \n",
       "39597               6                 Успешно           База 1   \n",
       "\n",
       "      product_type_cd approve_dt  reject_dt using_dt  \n",
       "0                 INV        NaT 2020-04-22      NaT  \n",
       "1                 INV        NaT 2020-04-22      NaT  \n",
       "2                 INV        NaT 2020-04-22      NaT  \n",
       "3                 INV        NaT 2020-04-22      NaT  \n",
       "4                 INV        NaT 2020-04-22      NaT  \n",
       "...               ...        ...        ...      ...  \n",
       "39593             NaN        NaT        NaT      NaT  \n",
       "39594             NaN        NaT        NaT      NaT  \n",
       "39595             NaN        NaT        NaT      NaT  \n",
       "39596             NaN        NaT        NaT      NaT  \n",
       "39597             INV 2020-05-30        NaT      NaT  \n",
       "\n",
       "[39597 rows x 17 columns]"
      ]
     },
     "execution_count": 186,
     "metadata": {},
     "output_type": "execute_result"
    }
   ],
   "source": [
    "df_final_merge"
   ]
  },
  {
   "cell_type": "code",
   "execution_count": 187,
   "id": "d3147b4f",
   "metadata": {
    "scrolled": true
   },
   "outputs": [
    {
     "data": {
      "text/plain": [
       "call_dt     agent_name         \n",
       "2020-03-01  sakungurceva            1\n",
       "2020-03-03  nvgrinko                1\n",
       "            ogmixajlenko            1\n",
       "            sakungurceva            1\n",
       "2020-03-04  evsamojlov26814         1\n",
       "                                   ..\n",
       "2020-05-30  ogmixajlenko            8\n",
       "            ovpshenichnaya56849    38\n",
       "            sftarasova             58\n",
       "            tiseregina              8\n",
       "            zadenis                48\n",
       "Name: call_time_sec, Length: 1826, dtype: int64"
      ]
     },
     "execution_count": 187,
     "metadata": {},
     "output_type": "execute_result"
    }
   ],
   "source": [
    "df_final_merge.groupby(['call_dt','agent_name'])['call_time_sec'].count()"
   ]
  },
  {
   "cell_type": "markdown",
   "id": "9bb35aa5",
   "metadata": {},
   "source": [
    "# Задание 3"
   ]
  },
  {
   "cell_type": "code",
   "execution_count": 188,
   "id": "c2ae69b2",
   "metadata": {},
   "outputs": [
    {
     "name": "stdout",
     "output_type": "stream",
     "text": [
      "Requirement already satisfied: pandasql in c:\\users\\lenovo\\anaconda3\\lib\\site-packages (0.7.3)\n",
      "Requirement already satisfied: pandas in c:\\users\\lenovo\\anaconda3\\lib\\site-packages (from pandasql) (1.3.5)\n",
      "Requirement already satisfied: numpy in c:\\users\\lenovo\\anaconda3\\lib\\site-packages (from pandasql) (1.21.6)\n",
      "Requirement already satisfied: sqlalchemy in c:\\users\\lenovo\\anaconda3\\lib\\site-packages (from pandasql) (1.4.7)\n",
      "Requirement already satisfied: pytz>=2017.3 in c:\\users\\lenovo\\anaconda3\\lib\\site-packages (from pandas->pandasql) (2021.1)\n",
      "Requirement already satisfied: python-dateutil>=2.7.3 in c:\\users\\lenovo\\anaconda3\\lib\\site-packages (from pandas->pandasql) (2.8.1)\n",
      "Requirement already satisfied: importlib-metadata in c:\\users\\lenovo\\anaconda3\\lib\\site-packages (from sqlalchemy->pandasql) (3.10.0)\n",
      "Requirement already satisfied: greenlet!=0.4.17 in c:\\users\\lenovo\\anaconda3\\lib\\site-packages (from sqlalchemy->pandasql) (1.0.0)\n",
      "Requirement already satisfied: six>=1.5 in c:\\users\\lenovo\\anaconda3\\lib\\site-packages (from python-dateutil>=2.7.3->pandas->pandasql) (1.15.0)\n",
      "Requirement already satisfied: typing-extensions>=3.6.4 in c:\\users\\lenovo\\anaconda3\\lib\\site-packages (from importlib-metadata->sqlalchemy->pandasql) (3.7.4.3)\n",
      "Requirement already satisfied: zipp>=0.5 in c:\\users\\lenovo\\anaconda3\\lib\\site-packages (from importlib-metadata->sqlalchemy->pandasql) (3.4.1)\n"
     ]
    }
   ],
   "source": [
    "# устанавливаем необходимые библиотеки\n",
    "!pip install -U pandasql"
   ]
  },
  {
   "cell_type": "code",
   "execution_count": 189,
   "id": "0e72cb0a",
   "metadata": {},
   "outputs": [],
   "source": [
    "# импортируем библиотеку\n",
    "from pandasql import sqldf"
   ]
  },
  {
   "cell_type": "code",
   "execution_count": 190,
   "id": "2cf54c23",
   "metadata": {},
   "outputs": [],
   "source": [
    "# создаем 2 датафрейма со словарями для дальнейшего объединения таблиц\n",
    "df_base = pd.DataFrame.from_dict(dict_base, orient = 'index').reset_index() # создаем датафрейм\n",
    "df_base.columns = ['base_id','base_translation'] # переименовываем колонки\n",
    "\n",
    "df_task_result = pd.DataFrame.from_dict(dict_task_result, orient = 'index').reset_index()\n",
    "df_task_result.columns=['task_result_id', 'task_result_translation']"
   ]
  },
  {
   "cell_type": "code",
   "execution_count": 191,
   "id": "63b85f91",
   "metadata": {},
   "outputs": [
    {
     "data": {
      "text/html": [
       "<div>\n",
       "<style scoped>\n",
       "    .dataframe tbody tr th:only-of-type {\n",
       "        vertical-align: middle;\n",
       "    }\n",
       "\n",
       "    .dataframe tbody tr th {\n",
       "        vertical-align: top;\n",
       "    }\n",
       "\n",
       "    .dataframe thead th {\n",
       "        text-align: right;\n",
       "    }\n",
       "</style>\n",
       "<table border=\"1\" class=\"dataframe\">\n",
       "  <thead>\n",
       "    <tr style=\"text-align: right;\">\n",
       "      <th></th>\n",
       "      <th>task_id</th>\n",
       "      <th>call_id</th>\n",
       "      <th>agent_name</th>\n",
       "      <th>call_dt</th>\n",
       "      <th>call_result_id</th>\n",
       "      <th>call_result_translation</th>\n",
       "      <th>call_time_sec</th>\n",
       "      <th>hid</th>\n",
       "      <th>finish_dt_task</th>\n",
       "      <th>base_id</th>\n",
       "      <th>task_result_id</th>\n",
       "      <th>task_result_translation</th>\n",
       "      <th>base_translation</th>\n",
       "      <th>product_type_cd</th>\n",
       "      <th>approve_dt</th>\n",
       "      <th>reject_dt</th>\n",
       "      <th>using_dt</th>\n",
       "    </tr>\n",
       "  </thead>\n",
       "  <tbody>\n",
       "    <tr>\n",
       "      <th>0</th>\n",
       "      <td>843083337</td>\n",
       "      <td>6645916908#16711160876</td>\n",
       "      <td>sakungurceva</td>\n",
       "      <td>2020-03-01 00:00:00.000000</td>\n",
       "      <td>6</td>\n",
       "      <td>Дозвон, Отложить</td>\n",
       "      <td>298</td>\n",
       "      <td>36d2f49fc49f572677416d54536a41c6</td>\n",
       "      <td>2020-04-15 00:00:00.000000</td>\n",
       "      <td>7553</td>\n",
       "      <td>6</td>\n",
       "      <td>Успешно</td>\n",
       "      <td>База 1</td>\n",
       "      <td>INV</td>\n",
       "      <td>None</td>\n",
       "      <td>2020-04-22 00:00:00.000000</td>\n",
       "      <td>None</td>\n",
       "    </tr>\n",
       "    <tr>\n",
       "      <th>1</th>\n",
       "      <td>843083337</td>\n",
       "      <td>6750206063#16711160876</td>\n",
       "      <td>sakungurceva</td>\n",
       "      <td>2020-03-17 00:00:00.000000</td>\n",
       "      <td>6</td>\n",
       "      <td>Дозвон, Отложить</td>\n",
       "      <td>9</td>\n",
       "      <td>36d2f49fc49f572677416d54536a41c6</td>\n",
       "      <td>2020-04-15 00:00:00.000000</td>\n",
       "      <td>7553</td>\n",
       "      <td>6</td>\n",
       "      <td>Успешно</td>\n",
       "      <td>База 1</td>\n",
       "      <td>INV</td>\n",
       "      <td>None</td>\n",
       "      <td>2020-04-22 00:00:00.000000</td>\n",
       "      <td>None</td>\n",
       "    </tr>\n",
       "    <tr>\n",
       "      <th>2</th>\n",
       "      <td>843083337</td>\n",
       "      <td>6769109629#16711160876</td>\n",
       "      <td>sakungurceva</td>\n",
       "      <td>2020-03-24 00:00:00.000000</td>\n",
       "      <td>6</td>\n",
       "      <td>Дозвон, Отложить</td>\n",
       "      <td>111</td>\n",
       "      <td>36d2f49fc49f572677416d54536a41c6</td>\n",
       "      <td>2020-04-15 00:00:00.000000</td>\n",
       "      <td>7553</td>\n",
       "      <td>6</td>\n",
       "      <td>Успешно</td>\n",
       "      <td>База 1</td>\n",
       "      <td>INV</td>\n",
       "      <td>None</td>\n",
       "      <td>2020-04-22 00:00:00.000000</td>\n",
       "      <td>None</td>\n",
       "    </tr>\n",
       "    <tr>\n",
       "      <th>3</th>\n",
       "      <td>843083337</td>\n",
       "      <td>6890964670#16711160876</td>\n",
       "      <td>sakungurceva</td>\n",
       "      <td>2020-04-15 00:00:00.000000</td>\n",
       "      <td>5</td>\n",
       "      <td>Недозвон</td>\n",
       "      <td>7</td>\n",
       "      <td>36d2f49fc49f572677416d54536a41c6</td>\n",
       "      <td>2020-04-15 00:00:00.000000</td>\n",
       "      <td>7553</td>\n",
       "      <td>6</td>\n",
       "      <td>Успешно</td>\n",
       "      <td>База 1</td>\n",
       "      <td>INV</td>\n",
       "      <td>None</td>\n",
       "      <td>2020-04-22 00:00:00.000000</td>\n",
       "      <td>None</td>\n",
       "    </tr>\n",
       "    <tr>\n",
       "      <th>4</th>\n",
       "      <td>843083337</td>\n",
       "      <td>6926247810#16711160876</td>\n",
       "      <td>lapleshivenkova</td>\n",
       "      <td>2020-04-15 00:00:00.000000</td>\n",
       "      <td>3</td>\n",
       "      <td>Дозвон, Успешно</td>\n",
       "      <td>1329</td>\n",
       "      <td>36d2f49fc49f572677416d54536a41c6</td>\n",
       "      <td>2020-04-15 00:00:00.000000</td>\n",
       "      <td>7553</td>\n",
       "      <td>6</td>\n",
       "      <td>Успешно</td>\n",
       "      <td>База 1</td>\n",
       "      <td>INV</td>\n",
       "      <td>None</td>\n",
       "      <td>2020-04-22 00:00:00.000000</td>\n",
       "      <td>None</td>\n",
       "    </tr>\n",
       "    <tr>\n",
       "      <th>...</th>\n",
       "      <td>...</td>\n",
       "      <td>...</td>\n",
       "      <td>...</td>\n",
       "      <td>...</td>\n",
       "      <td>...</td>\n",
       "      <td>...</td>\n",
       "      <td>...</td>\n",
       "      <td>...</td>\n",
       "      <td>...</td>\n",
       "      <td>...</td>\n",
       "      <td>...</td>\n",
       "      <td>...</td>\n",
       "      <td>...</td>\n",
       "      <td>...</td>\n",
       "      <td>...</td>\n",
       "      <td>...</td>\n",
       "      <td>...</td>\n",
       "    </tr>\n",
       "    <tr>\n",
       "      <th>39592</th>\n",
       "      <td>933035272</td>\n",
       "      <td>7124347282#18483260522</td>\n",
       "      <td>aztrofimova</td>\n",
       "      <td>2020-05-30 00:00:00.000000</td>\n",
       "      <td>5</td>\n",
       "      <td>Недозвон</td>\n",
       "      <td>0</td>\n",
       "      <td>9a2d6dd8ff0a11bdc7a65c8ded5d6d92</td>\n",
       "      <td>2020-05-30 00:00:00.000000</td>\n",
       "      <td>7553</td>\n",
       "      <td>1</td>\n",
       "      <td>Дубль</td>\n",
       "      <td>База 1</td>\n",
       "      <td>None</td>\n",
       "      <td>None</td>\n",
       "      <td>None</td>\n",
       "      <td>None</td>\n",
       "    </tr>\n",
       "    <tr>\n",
       "      <th>39593</th>\n",
       "      <td>933040837</td>\n",
       "      <td>7123998330#18480990905</td>\n",
       "      <td>aztrofimova</td>\n",
       "      <td>2020-05-30 00:00:00.000000</td>\n",
       "      <td>5</td>\n",
       "      <td>Недозвон</td>\n",
       "      <td>9</td>\n",
       "      <td>3c682df2f35ed1dc634501b4b7ae25fe</td>\n",
       "      <td>2020-05-30 00:00:00.000000</td>\n",
       "      <td>7554</td>\n",
       "      <td>5</td>\n",
       "      <td>Отказ</td>\n",
       "      <td>База 4</td>\n",
       "      <td>None</td>\n",
       "      <td>None</td>\n",
       "      <td>None</td>\n",
       "      <td>None</td>\n",
       "    </tr>\n",
       "    <tr>\n",
       "      <th>39594</th>\n",
       "      <td>933040837</td>\n",
       "      <td>7124519269#18480990905</td>\n",
       "      <td>zadenis</td>\n",
       "      <td>2020-05-30 00:00:00.000000</td>\n",
       "      <td>1</td>\n",
       "      <td>Дозвон, Отказ</td>\n",
       "      <td>41</td>\n",
       "      <td>3c682df2f35ed1dc634501b4b7ae25fe</td>\n",
       "      <td>2020-05-30 00:00:00.000000</td>\n",
       "      <td>7554</td>\n",
       "      <td>5</td>\n",
       "      <td>Отказ</td>\n",
       "      <td>База 4</td>\n",
       "      <td>None</td>\n",
       "      <td>None</td>\n",
       "      <td>None</td>\n",
       "      <td>None</td>\n",
       "    </tr>\n",
       "    <tr>\n",
       "      <th>39595</th>\n",
       "      <td>933042718</td>\n",
       "      <td>7124237815#18482537123</td>\n",
       "      <td>npmoskalenko</td>\n",
       "      <td>2020-05-30 00:00:00.000000</td>\n",
       "      <td>1</td>\n",
       "      <td>Дозвон, Отказ</td>\n",
       "      <td>138</td>\n",
       "      <td>d6262e2d5840a2e68fcf028c9732606c</td>\n",
       "      <td>2020-05-30 00:00:00.000000</td>\n",
       "      <td>7553</td>\n",
       "      <td>5</td>\n",
       "      <td>Отказ</td>\n",
       "      <td>База 1</td>\n",
       "      <td>None</td>\n",
       "      <td>None</td>\n",
       "      <td>None</td>\n",
       "      <td>None</td>\n",
       "    </tr>\n",
       "    <tr>\n",
       "      <th>39596</th>\n",
       "      <td>933065058</td>\n",
       "      <td>7123061624#18471818019</td>\n",
       "      <td>dakupriyanov</td>\n",
       "      <td>2020-05-30 00:00:00.000000</td>\n",
       "      <td>3</td>\n",
       "      <td>Дозвон, Успешно</td>\n",
       "      <td>276</td>\n",
       "      <td>1242029bded20eb92ffa31fd749d7ee4</td>\n",
       "      <td>2020-05-30 00:00:00.000000</td>\n",
       "      <td>7553</td>\n",
       "      <td>6</td>\n",
       "      <td>Успешно</td>\n",
       "      <td>База 1</td>\n",
       "      <td>INV</td>\n",
       "      <td>2020-05-30 00:00:00.000000</td>\n",
       "      <td>None</td>\n",
       "      <td>None</td>\n",
       "    </tr>\n",
       "  </tbody>\n",
       "</table>\n",
       "<p>39597 rows × 17 columns</p>\n",
       "</div>"
      ],
      "text/plain": [
       "         task_id                 call_id       agent_name  \\\n",
       "0      843083337  6645916908#16711160876     sakungurceva   \n",
       "1      843083337  6750206063#16711160876     sakungurceva   \n",
       "2      843083337  6769109629#16711160876     sakungurceva   \n",
       "3      843083337  6890964670#16711160876     sakungurceva   \n",
       "4      843083337  6926247810#16711160876  lapleshivenkova   \n",
       "...          ...                     ...              ...   \n",
       "39592  933035272  7124347282#18483260522      aztrofimova   \n",
       "39593  933040837  7123998330#18480990905      aztrofimova   \n",
       "39594  933040837  7124519269#18480990905          zadenis   \n",
       "39595  933042718  7124237815#18482537123     npmoskalenko   \n",
       "39596  933065058  7123061624#18471818019     dakupriyanov   \n",
       "\n",
       "                          call_dt  call_result_id call_result_translation  \\\n",
       "0      2020-03-01 00:00:00.000000               6        Дозвон, Отложить   \n",
       "1      2020-03-17 00:00:00.000000               6        Дозвон, Отложить   \n",
       "2      2020-03-24 00:00:00.000000               6        Дозвон, Отложить   \n",
       "3      2020-04-15 00:00:00.000000               5                Недозвон   \n",
       "4      2020-04-15 00:00:00.000000               3         Дозвон, Успешно   \n",
       "...                           ...             ...                     ...   \n",
       "39592  2020-05-30 00:00:00.000000               5                Недозвон   \n",
       "39593  2020-05-30 00:00:00.000000               5                Недозвон   \n",
       "39594  2020-05-30 00:00:00.000000               1           Дозвон, Отказ   \n",
       "39595  2020-05-30 00:00:00.000000               1           Дозвон, Отказ   \n",
       "39596  2020-05-30 00:00:00.000000               3         Дозвон, Успешно   \n",
       "\n",
       "       call_time_sec                               hid  \\\n",
       "0                298  36d2f49fc49f572677416d54536a41c6   \n",
       "1                  9  36d2f49fc49f572677416d54536a41c6   \n",
       "2                111  36d2f49fc49f572677416d54536a41c6   \n",
       "3                  7  36d2f49fc49f572677416d54536a41c6   \n",
       "4               1329  36d2f49fc49f572677416d54536a41c6   \n",
       "...              ...                               ...   \n",
       "39592              0  9a2d6dd8ff0a11bdc7a65c8ded5d6d92   \n",
       "39593              9  3c682df2f35ed1dc634501b4b7ae25fe   \n",
       "39594             41  3c682df2f35ed1dc634501b4b7ae25fe   \n",
       "39595            138  d6262e2d5840a2e68fcf028c9732606c   \n",
       "39596            276  1242029bded20eb92ffa31fd749d7ee4   \n",
       "\n",
       "                   finish_dt_task  base_id  task_result_id  \\\n",
       "0      2020-04-15 00:00:00.000000     7553               6   \n",
       "1      2020-04-15 00:00:00.000000     7553               6   \n",
       "2      2020-04-15 00:00:00.000000     7553               6   \n",
       "3      2020-04-15 00:00:00.000000     7553               6   \n",
       "4      2020-04-15 00:00:00.000000     7553               6   \n",
       "...                           ...      ...             ...   \n",
       "39592  2020-05-30 00:00:00.000000     7553               1   \n",
       "39593  2020-05-30 00:00:00.000000     7554               5   \n",
       "39594  2020-05-30 00:00:00.000000     7554               5   \n",
       "39595  2020-05-30 00:00:00.000000     7553               5   \n",
       "39596  2020-05-30 00:00:00.000000     7553               6   \n",
       "\n",
       "      task_result_translation base_translation product_type_cd  \\\n",
       "0                     Успешно           База 1             INV   \n",
       "1                     Успешно           База 1             INV   \n",
       "2                     Успешно           База 1             INV   \n",
       "3                     Успешно           База 1             INV   \n",
       "4                     Успешно           База 1             INV   \n",
       "...                       ...              ...             ...   \n",
       "39592                   Дубль           База 1            None   \n",
       "39593                   Отказ           База 4            None   \n",
       "39594                   Отказ           База 4            None   \n",
       "39595                   Отказ           База 1            None   \n",
       "39596                 Успешно           База 1             INV   \n",
       "\n",
       "                       approve_dt                   reject_dt using_dt  \n",
       "0                            None  2020-04-22 00:00:00.000000     None  \n",
       "1                            None  2020-04-22 00:00:00.000000     None  \n",
       "2                            None  2020-04-22 00:00:00.000000     None  \n",
       "3                            None  2020-04-22 00:00:00.000000     None  \n",
       "4                            None  2020-04-22 00:00:00.000000     None  \n",
       "...                           ...                         ...      ...  \n",
       "39592                        None                        None     None  \n",
       "39593                        None                        None     None  \n",
       "39594                        None                        None     None  \n",
       "39595                        None                        None     None  \n",
       "39596  2020-05-30 00:00:00.000000                        None     None  \n",
       "\n",
       "[39597 rows x 17 columns]"
      ]
     },
     "execution_count": 191,
     "metadata": {},
     "output_type": "execute_result"
    }
   ],
   "source": [
    "# Пишем SQL запрос ко всем дата фреймам которые создавались ранее\n",
    "query = 'SELECT task_id, call_id, agent_name, call_dt, call_result_id,\\\n",
    "       call_result_translation, call_time_sec, df3.hid, finish_dt_task,\\\n",
    "       base_id, task_result_id, task_result_translation,\\\n",
    "       base_translation, product_type_cd, approve_dt, reject_dt, using_dt\\\n",
    "        \\\n",
    "        FROM\\\n",
    "            (\\\n",
    "                SELECT * FROM\\\n",
    "                (\\\n",
    "                     SELECT * FROM\\\n",
    "                     \\\n",
    "                            (SELECT * FROM df_call c\\\n",
    "                        \\\n",
    "                            LEFT JOIN \\\n",
    "                                df_task t on t.task_id = c.task_id WHERE c.call_time_sec < 4000) df1\\\n",
    "                                    \\\n",
    "                    LEFT JOIN\\\n",
    "                        df_task_result dts on dts.task_result_id = df1.task_result_id) df2 \\\n",
    "                            \\\n",
    "                LEFT JOIN\\\n",
    "                    df_base db on db.base_id = df2.base_id ) df3 \\\n",
    "        LEFT JOIN\\\n",
    "            df_result_pr drp on df3.hid = drp.hid'\n",
    "            \n",
    "            \n",
    "sqldf(query)"
   ]
  },
  {
   "cell_type": "code",
   "execution_count": 192,
   "id": "befb14eb",
   "metadata": {},
   "outputs": [
    {
     "data": {
      "text/html": [
       "<div>\n",
       "<style scoped>\n",
       "    .dataframe tbody tr th:only-of-type {\n",
       "        vertical-align: middle;\n",
       "    }\n",
       "\n",
       "    .dataframe tbody tr th {\n",
       "        vertical-align: top;\n",
       "    }\n",
       "\n",
       "    .dataframe thead th {\n",
       "        text-align: right;\n",
       "    }\n",
       "</style>\n",
       "<table border=\"1\" class=\"dataframe\">\n",
       "  <thead>\n",
       "    <tr style=\"text-align: right;\">\n",
       "      <th></th>\n",
       "      <th>task_id</th>\n",
       "      <th>call_id</th>\n",
       "      <th>agent_name</th>\n",
       "      <th>call_dt</th>\n",
       "      <th>call_result_id</th>\n",
       "      <th>call_result_translation</th>\n",
       "      <th>call_time_sec</th>\n",
       "      <th>hid</th>\n",
       "      <th>finish_dt_task</th>\n",
       "      <th>base_id</th>\n",
       "      <th>task_result_id</th>\n",
       "      <th>task_result_translation</th>\n",
       "      <th>base_translation</th>\n",
       "      <th>product_type_cd</th>\n",
       "      <th>approve_dt</th>\n",
       "      <th>reject_dt</th>\n",
       "      <th>using_dt</th>\n",
       "    </tr>\n",
       "  </thead>\n",
       "  <tbody>\n",
       "    <tr>\n",
       "      <th>0</th>\n",
       "      <td>843083337</td>\n",
       "      <td>6645916908#16711160876</td>\n",
       "      <td>sakungurceva</td>\n",
       "      <td>2020-03-01</td>\n",
       "      <td>6</td>\n",
       "      <td>Дозвон, Отложить</td>\n",
       "      <td>298</td>\n",
       "      <td>36d2f49fc49f572677416d54536a41c6</td>\n",
       "      <td>2020-04-15</td>\n",
       "      <td>7553</td>\n",
       "      <td>6</td>\n",
       "      <td>Успешно</td>\n",
       "      <td>База 1</td>\n",
       "      <td>INV</td>\n",
       "      <td>NaT</td>\n",
       "      <td>2020-04-22</td>\n",
       "      <td>NaT</td>\n",
       "    </tr>\n",
       "    <tr>\n",
       "      <th>1</th>\n",
       "      <td>843083337</td>\n",
       "      <td>6750206063#16711160876</td>\n",
       "      <td>sakungurceva</td>\n",
       "      <td>2020-03-17</td>\n",
       "      <td>6</td>\n",
       "      <td>Дозвон, Отложить</td>\n",
       "      <td>9</td>\n",
       "      <td>36d2f49fc49f572677416d54536a41c6</td>\n",
       "      <td>2020-04-15</td>\n",
       "      <td>7553</td>\n",
       "      <td>6</td>\n",
       "      <td>Успешно</td>\n",
       "      <td>База 1</td>\n",
       "      <td>INV</td>\n",
       "      <td>NaT</td>\n",
       "      <td>2020-04-22</td>\n",
       "      <td>NaT</td>\n",
       "    </tr>\n",
       "    <tr>\n",
       "      <th>2</th>\n",
       "      <td>843083337</td>\n",
       "      <td>6769109629#16711160876</td>\n",
       "      <td>sakungurceva</td>\n",
       "      <td>2020-03-24</td>\n",
       "      <td>6</td>\n",
       "      <td>Дозвон, Отложить</td>\n",
       "      <td>111</td>\n",
       "      <td>36d2f49fc49f572677416d54536a41c6</td>\n",
       "      <td>2020-04-15</td>\n",
       "      <td>7553</td>\n",
       "      <td>6</td>\n",
       "      <td>Успешно</td>\n",
       "      <td>База 1</td>\n",
       "      <td>INV</td>\n",
       "      <td>NaT</td>\n",
       "      <td>2020-04-22</td>\n",
       "      <td>NaT</td>\n",
       "    </tr>\n",
       "    <tr>\n",
       "      <th>3</th>\n",
       "      <td>843083337</td>\n",
       "      <td>6890964670#16711160876</td>\n",
       "      <td>sakungurceva</td>\n",
       "      <td>2020-04-15</td>\n",
       "      <td>5</td>\n",
       "      <td>Недозвон</td>\n",
       "      <td>7</td>\n",
       "      <td>36d2f49fc49f572677416d54536a41c6</td>\n",
       "      <td>2020-04-15</td>\n",
       "      <td>7553</td>\n",
       "      <td>6</td>\n",
       "      <td>Успешно</td>\n",
       "      <td>База 1</td>\n",
       "      <td>INV</td>\n",
       "      <td>NaT</td>\n",
       "      <td>2020-04-22</td>\n",
       "      <td>NaT</td>\n",
       "    </tr>\n",
       "    <tr>\n",
       "      <th>4</th>\n",
       "      <td>843083337</td>\n",
       "      <td>6926247810#16711160876</td>\n",
       "      <td>lapleshivenkova</td>\n",
       "      <td>2020-04-15</td>\n",
       "      <td>3</td>\n",
       "      <td>Дозвон, Успешно</td>\n",
       "      <td>1329</td>\n",
       "      <td>36d2f49fc49f572677416d54536a41c6</td>\n",
       "      <td>2020-04-15</td>\n",
       "      <td>7553</td>\n",
       "      <td>6</td>\n",
       "      <td>Успешно</td>\n",
       "      <td>База 1</td>\n",
       "      <td>INV</td>\n",
       "      <td>NaT</td>\n",
       "      <td>2020-04-22</td>\n",
       "      <td>NaT</td>\n",
       "    </tr>\n",
       "    <tr>\n",
       "      <th>...</th>\n",
       "      <td>...</td>\n",
       "      <td>...</td>\n",
       "      <td>...</td>\n",
       "      <td>...</td>\n",
       "      <td>...</td>\n",
       "      <td>...</td>\n",
       "      <td>...</td>\n",
       "      <td>...</td>\n",
       "      <td>...</td>\n",
       "      <td>...</td>\n",
       "      <td>...</td>\n",
       "      <td>...</td>\n",
       "      <td>...</td>\n",
       "      <td>...</td>\n",
       "      <td>...</td>\n",
       "      <td>...</td>\n",
       "      <td>...</td>\n",
       "    </tr>\n",
       "    <tr>\n",
       "      <th>39593</th>\n",
       "      <td>933035272</td>\n",
       "      <td>7124347282#18483260522</td>\n",
       "      <td>aztrofimova</td>\n",
       "      <td>2020-05-30</td>\n",
       "      <td>5</td>\n",
       "      <td>Недозвон</td>\n",
       "      <td>0</td>\n",
       "      <td>9a2d6dd8ff0a11bdc7a65c8ded5d6d92</td>\n",
       "      <td>2020-05-30</td>\n",
       "      <td>7553</td>\n",
       "      <td>1</td>\n",
       "      <td>Дубль</td>\n",
       "      <td>База 1</td>\n",
       "      <td>NaN</td>\n",
       "      <td>NaT</td>\n",
       "      <td>NaT</td>\n",
       "      <td>NaT</td>\n",
       "    </tr>\n",
       "    <tr>\n",
       "      <th>39594</th>\n",
       "      <td>933040837</td>\n",
       "      <td>7123998330#18480990905</td>\n",
       "      <td>aztrofimova</td>\n",
       "      <td>2020-05-30</td>\n",
       "      <td>5</td>\n",
       "      <td>Недозвон</td>\n",
       "      <td>9</td>\n",
       "      <td>3c682df2f35ed1dc634501b4b7ae25fe</td>\n",
       "      <td>2020-05-30</td>\n",
       "      <td>7554</td>\n",
       "      <td>5</td>\n",
       "      <td>Отказ</td>\n",
       "      <td>База 4</td>\n",
       "      <td>NaN</td>\n",
       "      <td>NaT</td>\n",
       "      <td>NaT</td>\n",
       "      <td>NaT</td>\n",
       "    </tr>\n",
       "    <tr>\n",
       "      <th>39595</th>\n",
       "      <td>933040837</td>\n",
       "      <td>7124519269#18480990905</td>\n",
       "      <td>zadenis</td>\n",
       "      <td>2020-05-30</td>\n",
       "      <td>1</td>\n",
       "      <td>Дозвон, Отказ</td>\n",
       "      <td>41</td>\n",
       "      <td>3c682df2f35ed1dc634501b4b7ae25fe</td>\n",
       "      <td>2020-05-30</td>\n",
       "      <td>7554</td>\n",
       "      <td>5</td>\n",
       "      <td>Отказ</td>\n",
       "      <td>База 4</td>\n",
       "      <td>NaN</td>\n",
       "      <td>NaT</td>\n",
       "      <td>NaT</td>\n",
       "      <td>NaT</td>\n",
       "    </tr>\n",
       "    <tr>\n",
       "      <th>39596</th>\n",
       "      <td>933042718</td>\n",
       "      <td>7124237815#18482537123</td>\n",
       "      <td>npmoskalenko</td>\n",
       "      <td>2020-05-30</td>\n",
       "      <td>1</td>\n",
       "      <td>Дозвон, Отказ</td>\n",
       "      <td>138</td>\n",
       "      <td>d6262e2d5840a2e68fcf028c9732606c</td>\n",
       "      <td>2020-05-30</td>\n",
       "      <td>7553</td>\n",
       "      <td>5</td>\n",
       "      <td>Отказ</td>\n",
       "      <td>База 1</td>\n",
       "      <td>NaN</td>\n",
       "      <td>NaT</td>\n",
       "      <td>NaT</td>\n",
       "      <td>NaT</td>\n",
       "    </tr>\n",
       "    <tr>\n",
       "      <th>39597</th>\n",
       "      <td>933065058</td>\n",
       "      <td>7123061624#18471818019</td>\n",
       "      <td>dakupriyanov</td>\n",
       "      <td>2020-05-30</td>\n",
       "      <td>3</td>\n",
       "      <td>Дозвон, Успешно</td>\n",
       "      <td>276</td>\n",
       "      <td>1242029bded20eb92ffa31fd749d7ee4</td>\n",
       "      <td>2020-05-30</td>\n",
       "      <td>7553</td>\n",
       "      <td>6</td>\n",
       "      <td>Успешно</td>\n",
       "      <td>База 1</td>\n",
       "      <td>INV</td>\n",
       "      <td>2020-05-30</td>\n",
       "      <td>NaT</td>\n",
       "      <td>NaT</td>\n",
       "    </tr>\n",
       "  </tbody>\n",
       "</table>\n",
       "<p>39597 rows × 17 columns</p>\n",
       "</div>"
      ],
      "text/plain": [
       "         task_id                 call_id       agent_name    call_dt  \\\n",
       "0      843083337  6645916908#16711160876     sakungurceva 2020-03-01   \n",
       "1      843083337  6750206063#16711160876     sakungurceva 2020-03-17   \n",
       "2      843083337  6769109629#16711160876     sakungurceva 2020-03-24   \n",
       "3      843083337  6890964670#16711160876     sakungurceva 2020-04-15   \n",
       "4      843083337  6926247810#16711160876  lapleshivenkova 2020-04-15   \n",
       "...          ...                     ...              ...        ...   \n",
       "39593  933035272  7124347282#18483260522      aztrofimova 2020-05-30   \n",
       "39594  933040837  7123998330#18480990905      aztrofimova 2020-05-30   \n",
       "39595  933040837  7124519269#18480990905          zadenis 2020-05-30   \n",
       "39596  933042718  7124237815#18482537123     npmoskalenko 2020-05-30   \n",
       "39597  933065058  7123061624#18471818019     dakupriyanov 2020-05-30   \n",
       "\n",
       "       call_result_id call_result_translation  call_time_sec  \\\n",
       "0                   6        Дозвон, Отложить            298   \n",
       "1                   6        Дозвон, Отложить              9   \n",
       "2                   6        Дозвон, Отложить            111   \n",
       "3                   5                Недозвон              7   \n",
       "4                   3         Дозвон, Успешно           1329   \n",
       "...               ...                     ...            ...   \n",
       "39593               5                Недозвон              0   \n",
       "39594               5                Недозвон              9   \n",
       "39595               1           Дозвон, Отказ             41   \n",
       "39596               1           Дозвон, Отказ            138   \n",
       "39597               3         Дозвон, Успешно            276   \n",
       "\n",
       "                                    hid finish_dt_task  base_id  \\\n",
       "0      36d2f49fc49f572677416d54536a41c6     2020-04-15     7553   \n",
       "1      36d2f49fc49f572677416d54536a41c6     2020-04-15     7553   \n",
       "2      36d2f49fc49f572677416d54536a41c6     2020-04-15     7553   \n",
       "3      36d2f49fc49f572677416d54536a41c6     2020-04-15     7553   \n",
       "4      36d2f49fc49f572677416d54536a41c6     2020-04-15     7553   \n",
       "...                                 ...            ...      ...   \n",
       "39593  9a2d6dd8ff0a11bdc7a65c8ded5d6d92     2020-05-30     7553   \n",
       "39594  3c682df2f35ed1dc634501b4b7ae25fe     2020-05-30     7554   \n",
       "39595  3c682df2f35ed1dc634501b4b7ae25fe     2020-05-30     7554   \n",
       "39596  d6262e2d5840a2e68fcf028c9732606c     2020-05-30     7553   \n",
       "39597  1242029bded20eb92ffa31fd749d7ee4     2020-05-30     7553   \n",
       "\n",
       "       task_result_id task_result_translation base_translation  \\\n",
       "0                   6                 Успешно           База 1   \n",
       "1                   6                 Успешно           База 1   \n",
       "2                   6                 Успешно           База 1   \n",
       "3                   6                 Успешно           База 1   \n",
       "4                   6                 Успешно           База 1   \n",
       "...               ...                     ...              ...   \n",
       "39593               1                   Дубль           База 1   \n",
       "39594               5                   Отказ           База 4   \n",
       "39595               5                   Отказ           База 4   \n",
       "39596               5                   Отказ           База 1   \n",
       "39597               6                 Успешно           База 1   \n",
       "\n",
       "      product_type_cd approve_dt  reject_dt using_dt  \n",
       "0                 INV        NaT 2020-04-22      NaT  \n",
       "1                 INV        NaT 2020-04-22      NaT  \n",
       "2                 INV        NaT 2020-04-22      NaT  \n",
       "3                 INV        NaT 2020-04-22      NaT  \n",
       "4                 INV        NaT 2020-04-22      NaT  \n",
       "...               ...        ...        ...      ...  \n",
       "39593             NaN        NaT        NaT      NaT  \n",
       "39594             NaN        NaT        NaT      NaT  \n",
       "39595             NaN        NaT        NaT      NaT  \n",
       "39596             NaN        NaT        NaT      NaT  \n",
       "39597             INV 2020-05-30        NaT      NaT  \n",
       "\n",
       "[39597 rows x 17 columns]"
      ]
     },
     "execution_count": 192,
     "metadata": {},
     "output_type": "execute_result"
    }
   ],
   "source": [
    "df_final_merge"
   ]
  },
  {
   "cell_type": "markdown",
   "id": "29dedbd4",
   "metadata": {},
   "source": [
    "###  Можно было также создать реляционную базу данных состоящую из нескольких таблиц, подсоедениться к базе дынных, написать такой же запрос."
   ]
  },
  {
   "cell_type": "markdown",
   "id": "8613dcba",
   "metadata": {},
   "source": [
    "# Задание 4"
   ]
  },
  {
   "cell_type": "markdown",
   "id": "f0e94a7c",
   "metadata": {},
   "source": [
    "## Задание 4.1"
   ]
  },
  {
   "cell_type": "code",
   "execution_count": 193,
   "id": "874ad033",
   "metadata": {},
   "outputs": [
    {
     "name": "stdout",
     "output_type": "stream",
     "text": [
      "Requirement already satisfied: pyworkforce in c:\\users\\lenovo\\anaconda3\\lib\\site-packages (0.5.0)\n",
      "Requirement already satisfied: pandas in c:\\users\\lenovo\\anaconda3\\lib\\site-packages (from pyworkforce) (1.3.5)\n",
      "Requirement already satisfied: ortools>=9.2.9972 in c:\\users\\lenovo\\anaconda3\\lib\\site-packages (from pyworkforce) (9.3.10497)\n",
      "Requirement already satisfied: joblib>=0.11 in c:\\users\\lenovo\\anaconda3\\lib\\site-packages (from pyworkforce) (1.0.1)\n",
      "Requirement already satisfied: numpy in c:\\users\\lenovo\\anaconda3\\lib\\site-packages (from pyworkforce) (1.21.6)\n",
      "Requirement already satisfied: absl-py>=0.13 in c:\\users\\lenovo\\anaconda3\\lib\\site-packages (from ortools>=9.2.9972->pyworkforce) (1.1.0)\n",
      "Requirement already satisfied: protobuf>=3.19.4 in c:\\users\\lenovo\\anaconda3\\lib\\site-packages (from ortools>=9.2.9972->pyworkforce) (3.19.4)\n",
      "Requirement already satisfied: pytz>=2017.3 in c:\\users\\lenovo\\anaconda3\\lib\\site-packages (from pandas->pyworkforce) (2021.1)\n",
      "Requirement already satisfied: python-dateutil>=2.7.3 in c:\\users\\lenovo\\anaconda3\\lib\\site-packages (from pandas->pyworkforce) (2.8.1)\n",
      "Requirement already satisfied: six>=1.5 in c:\\users\\lenovo\\anaconda3\\lib\\site-packages (from python-dateutil>=2.7.3->pandas->pyworkforce) (1.15.0)\n"
     ]
    }
   ],
   "source": [
    "# Устанавливаем необходимые библиотеки \n",
    "!pip install pyworkforce"
   ]
  },
  {
   "cell_type": "code",
   "execution_count": 194,
   "id": "55870781",
   "metadata": {},
   "outputs": [],
   "source": [
    "# Находить оптимальное кол-во операторов мы будем с помощью формулы Эрланга\n",
    "from pyworkforce.queuing import MultiErlangC"
   ]
  },
  {
   "cell_type": "code",
   "execution_count": 195,
   "id": "1b8f4de9",
   "metadata": {},
   "outputs": [],
   "source": [
    "#Преобразуем данные из excel в дата фрейм\n",
    "data = pd.read_excel(\"Task.xlsx\", sheet_name = \"Задание 4 \",skiprows = [i for i in range(0,12)])"
   ]
  },
  {
   "cell_type": "code",
   "execution_count": 196,
   "id": "566adf73",
   "metadata": {},
   "outputs": [],
   "source": [
    "# выделяем датафрейм с входящими звонками по дням и переименовываем колонки\n",
    "data_mnth = data.iloc[::,[0,1]]\n",
    "data_mnth.columns = ['day', 'call_cnt']\n",
    "# выделяем датафрейм с загрузкой по дням и переименовываем колонки\n",
    "data_day_load = data.iloc[0:24,[4,5]]\n",
    "data_day_load.columns = ['period','load' ] "
   ]
  },
  {
   "cell_type": "code",
   "execution_count": 197,
   "id": "41c668a0",
   "metadata": {},
   "outputs": [],
   "source": [
    "#определяем переменные\n",
    "service_level = 0.8\n",
    "interval = 60\n",
    "asa = 20/60\n",
    "max_occupancy = 0.8\n",
    "aht = 4.8\n",
    "AR = 0.03 # (abandoned rate) процент звонков которые не будут обработаны"
   ]
  },
  {
   "cell_type": "code",
   "execution_count": 198,
   "id": "30e7cb19",
   "metadata": {},
   "outputs": [
    {
     "name": "stderr",
     "output_type": "stream",
     "text": [
      "C:\\Users\\Lenovo\\Anaconda3\\lib\\site-packages\\ipykernel_launcher.py:1: SettingWithCopyWarning:\n",
      "\n",
      "\n",
      "A value is trying to be set on a copy of a slice from a DataFrame.\n",
      "Try using .loc[row_indexer,col_indexer] = value instead\n",
      "\n",
      "See the caveats in the documentation: https://pandas.pydata.org/pandas-docs/stable/user_guide/indexing.html#returning-a-view-versus-a-copy\n",
      "\n"
     ]
    }
   ],
   "source": [
    "data_mnth['call_final_cnt'] = data_mnth['call_cnt']*(1-AR)"
   ]
  },
  {
   "cell_type": "code",
   "execution_count": 199,
   "id": "56f8a1e4",
   "metadata": {},
   "outputs": [
    {
     "data": {
      "text/html": [
       "<div>\n",
       "<style scoped>\n",
       "    .dataframe tbody tr th:only-of-type {\n",
       "        vertical-align: middle;\n",
       "    }\n",
       "\n",
       "    .dataframe tbody tr th {\n",
       "        vertical-align: top;\n",
       "    }\n",
       "\n",
       "    .dataframe thead th {\n",
       "        text-align: right;\n",
       "    }\n",
       "</style>\n",
       "<table border=\"1\" class=\"dataframe\">\n",
       "  <thead>\n",
       "    <tr style=\"text-align: right;\">\n",
       "      <th></th>\n",
       "      <th>day</th>\n",
       "      <th>call_cnt</th>\n",
       "      <th>call_final_cnt</th>\n",
       "    </tr>\n",
       "  </thead>\n",
       "  <tbody>\n",
       "    <tr>\n",
       "      <th>0</th>\n",
       "      <td>день 1</td>\n",
       "      <td>7114</td>\n",
       "      <td>6900.58</td>\n",
       "    </tr>\n",
       "    <tr>\n",
       "      <th>1</th>\n",
       "      <td>день 2</td>\n",
       "      <td>7954</td>\n",
       "      <td>7715.38</td>\n",
       "    </tr>\n",
       "    <tr>\n",
       "      <th>2</th>\n",
       "      <td>день 3</td>\n",
       "      <td>6893</td>\n",
       "      <td>6686.21</td>\n",
       "    </tr>\n",
       "    <tr>\n",
       "      <th>3</th>\n",
       "      <td>день 4</td>\n",
       "      <td>9474</td>\n",
       "      <td>9189.78</td>\n",
       "    </tr>\n",
       "    <tr>\n",
       "      <th>4</th>\n",
       "      <td>день 5</td>\n",
       "      <td>10244</td>\n",
       "      <td>9936.68</td>\n",
       "    </tr>\n",
       "    <tr>\n",
       "      <th>5</th>\n",
       "      <td>день 6</td>\n",
       "      <td>12223</td>\n",
       "      <td>11856.31</td>\n",
       "    </tr>\n",
       "    <tr>\n",
       "      <th>6</th>\n",
       "      <td>день 7</td>\n",
       "      <td>7348</td>\n",
       "      <td>7127.56</td>\n",
       "    </tr>\n",
       "    <tr>\n",
       "      <th>7</th>\n",
       "      <td>день 8</td>\n",
       "      <td>5015</td>\n",
       "      <td>4864.55</td>\n",
       "    </tr>\n",
       "    <tr>\n",
       "      <th>8</th>\n",
       "      <td>день 9</td>\n",
       "      <td>5997</td>\n",
       "      <td>5817.09</td>\n",
       "    </tr>\n",
       "    <tr>\n",
       "      <th>9</th>\n",
       "      <td>день 10</td>\n",
       "      <td>8170</td>\n",
       "      <td>7924.90</td>\n",
       "    </tr>\n",
       "    <tr>\n",
       "      <th>10</th>\n",
       "      <td>день 11</td>\n",
       "      <td>6969</td>\n",
       "      <td>6759.93</td>\n",
       "    </tr>\n",
       "    <tr>\n",
       "      <th>11</th>\n",
       "      <td>день 12</td>\n",
       "      <td>6987</td>\n",
       "      <td>6777.39</td>\n",
       "    </tr>\n",
       "    <tr>\n",
       "      <th>12</th>\n",
       "      <td>день 13</td>\n",
       "      <td>6935</td>\n",
       "      <td>6726.95</td>\n",
       "    </tr>\n",
       "    <tr>\n",
       "      <th>13</th>\n",
       "      <td>день 14</td>\n",
       "      <td>6825</td>\n",
       "      <td>6620.25</td>\n",
       "    </tr>\n",
       "    <tr>\n",
       "      <th>14</th>\n",
       "      <td>день 15</td>\n",
       "      <td>8285</td>\n",
       "      <td>8036.45</td>\n",
       "    </tr>\n",
       "    <tr>\n",
       "      <th>15</th>\n",
       "      <td>день 16</td>\n",
       "      <td>7225</td>\n",
       "      <td>7008.25</td>\n",
       "    </tr>\n",
       "    <tr>\n",
       "      <th>16</th>\n",
       "      <td>день 17</td>\n",
       "      <td>7824</td>\n",
       "      <td>7589.28</td>\n",
       "    </tr>\n",
       "    <tr>\n",
       "      <th>17</th>\n",
       "      <td>день 18</td>\n",
       "      <td>7200</td>\n",
       "      <td>6984.00</td>\n",
       "    </tr>\n",
       "    <tr>\n",
       "      <th>18</th>\n",
       "      <td>день 19</td>\n",
       "      <td>8838</td>\n",
       "      <td>8572.86</td>\n",
       "    </tr>\n",
       "    <tr>\n",
       "      <th>19</th>\n",
       "      <td>день 20</td>\n",
       "      <td>7667</td>\n",
       "      <td>7436.99</td>\n",
       "    </tr>\n",
       "    <tr>\n",
       "      <th>20</th>\n",
       "      <td>день 21</td>\n",
       "      <td>6387</td>\n",
       "      <td>6195.39</td>\n",
       "    </tr>\n",
       "    <tr>\n",
       "      <th>21</th>\n",
       "      <td>день 22</td>\n",
       "      <td>6736</td>\n",
       "      <td>6533.92</td>\n",
       "    </tr>\n",
       "    <tr>\n",
       "      <th>22</th>\n",
       "      <td>день 23</td>\n",
       "      <td>8510</td>\n",
       "      <td>8254.70</td>\n",
       "    </tr>\n",
       "    <tr>\n",
       "      <th>23</th>\n",
       "      <td>день 24</td>\n",
       "      <td>8910</td>\n",
       "      <td>8642.70</td>\n",
       "    </tr>\n",
       "    <tr>\n",
       "      <th>24</th>\n",
       "      <td>день 25</td>\n",
       "      <td>8784</td>\n",
       "      <td>8520.48</td>\n",
       "    </tr>\n",
       "    <tr>\n",
       "      <th>25</th>\n",
       "      <td>день 26</td>\n",
       "      <td>8417</td>\n",
       "      <td>8164.49</td>\n",
       "    </tr>\n",
       "    <tr>\n",
       "      <th>26</th>\n",
       "      <td>день 27</td>\n",
       "      <td>8040</td>\n",
       "      <td>7798.80</td>\n",
       "    </tr>\n",
       "    <tr>\n",
       "      <th>27</th>\n",
       "      <td>день 28</td>\n",
       "      <td>8155</td>\n",
       "      <td>7910.35</td>\n",
       "    </tr>\n",
       "    <tr>\n",
       "      <th>28</th>\n",
       "      <td>день 29</td>\n",
       "      <td>6514</td>\n",
       "      <td>6318.58</td>\n",
       "    </tr>\n",
       "    <tr>\n",
       "      <th>29</th>\n",
       "      <td>день 30</td>\n",
       "      <td>6633</td>\n",
       "      <td>6434.01</td>\n",
       "    </tr>\n",
       "    <tr>\n",
       "      <th>30</th>\n",
       "      <td>день 31</td>\n",
       "      <td>6879</td>\n",
       "      <td>6672.63</td>\n",
       "    </tr>\n",
       "  </tbody>\n",
       "</table>\n",
       "</div>"
      ],
      "text/plain": [
       "        day  call_cnt  call_final_cnt\n",
       "0    день 1      7114         6900.58\n",
       "1    день 2      7954         7715.38\n",
       "2    день 3      6893         6686.21\n",
       "3    день 4      9474         9189.78\n",
       "4    день 5     10244         9936.68\n",
       "5    день 6     12223        11856.31\n",
       "6    день 7      7348         7127.56\n",
       "7    день 8      5015         4864.55\n",
       "8    день 9      5997         5817.09\n",
       "9   день 10      8170         7924.90\n",
       "10  день 11      6969         6759.93\n",
       "11  день 12      6987         6777.39\n",
       "12  день 13      6935         6726.95\n",
       "13  день 14      6825         6620.25\n",
       "14  день 15      8285         8036.45\n",
       "15  день 16      7225         7008.25\n",
       "16  день 17      7824         7589.28\n",
       "17  день 18      7200         6984.00\n",
       "18  день 19      8838         8572.86\n",
       "19  день 20      7667         7436.99\n",
       "20  день 21      6387         6195.39\n",
       "21  день 22      6736         6533.92\n",
       "22  день 23      8510         8254.70\n",
       "23  день 24      8910         8642.70\n",
       "24  день 25      8784         8520.48\n",
       "25  день 26      8417         8164.49\n",
       "26  день 27      8040         7798.80\n",
       "27  день 28      8155         7910.35\n",
       "28  день 29      6514         6318.58\n",
       "29  день 30      6633         6434.01\n",
       "30  день 31      6879         6672.63"
      ]
     },
     "execution_count": 199,
     "metadata": {},
     "output_type": "execute_result"
    }
   ],
   "source": [
    "data_mnth"
   ]
  },
  {
   "cell_type": "code",
   "execution_count": 200,
   "id": "7de455b0",
   "metadata": {},
   "outputs": [],
   "source": [
    "# делаем матрицу звонков в соответствии с загрузкой\n",
    "count = 0\n",
    "for call_final_cnt in list(data_mnth.call_final_cnt):\n",
    "    l = [load*call_final_cnt for load in data_day_load.load]\n",
    "    count += 1\n",
    "    data_day_load['transaction'+ str(count)] = pd.Series(l)"
   ]
  },
  {
   "cell_type": "code",
   "execution_count": 201,
   "id": "0ef990b4",
   "metadata": {},
   "outputs": [
    {
     "data": {
      "text/html": [
       "<div>\n",
       "<style scoped>\n",
       "    .dataframe tbody tr th:only-of-type {\n",
       "        vertical-align: middle;\n",
       "    }\n",
       "\n",
       "    .dataframe tbody tr th {\n",
       "        vertical-align: top;\n",
       "    }\n",
       "\n",
       "    .dataframe thead th {\n",
       "        text-align: right;\n",
       "    }\n",
       "</style>\n",
       "<table border=\"1\" class=\"dataframe\">\n",
       "  <thead>\n",
       "    <tr style=\"text-align: right;\">\n",
       "      <th></th>\n",
       "      <th>period</th>\n",
       "      <th>load</th>\n",
       "      <th>transaction1</th>\n",
       "      <th>transaction2</th>\n",
       "      <th>transaction3</th>\n",
       "      <th>transaction4</th>\n",
       "      <th>transaction5</th>\n",
       "      <th>transaction6</th>\n",
       "      <th>transaction7</th>\n",
       "      <th>transaction8</th>\n",
       "      <th>...</th>\n",
       "      <th>transaction22</th>\n",
       "      <th>transaction23</th>\n",
       "      <th>transaction24</th>\n",
       "      <th>transaction25</th>\n",
       "      <th>transaction26</th>\n",
       "      <th>transaction27</th>\n",
       "      <th>transaction28</th>\n",
       "      <th>transaction29</th>\n",
       "      <th>transaction30</th>\n",
       "      <th>transaction31</th>\n",
       "    </tr>\n",
       "  </thead>\n",
       "  <tbody>\n",
       "    <tr>\n",
       "      <th>0</th>\n",
       "      <td>0-1</td>\n",
       "      <td>0.001652</td>\n",
       "      <td>11.397476</td>\n",
       "      <td>12.743256</td>\n",
       "      <td>11.043407</td>\n",
       "      <td>15.178477</td>\n",
       "      <td>16.412109</td>\n",
       "      <td>19.582702</td>\n",
       "      <td>11.772372</td>\n",
       "      <td>8.034628</td>\n",
       "      <td>...</td>\n",
       "      <td>10.791875</td>\n",
       "      <td>13.634034</td>\n",
       "      <td>14.274882</td>\n",
       "      <td>14.073015</td>\n",
       "      <td>13.485037</td>\n",
       "      <td>12.881038</td>\n",
       "      <td>13.065282</td>\n",
       "      <td>10.436204</td>\n",
       "      <td>10.626856</td>\n",
       "      <td>11.020978</td>\n",
       "    </tr>\n",
       "    <tr>\n",
       "      <th>1</th>\n",
       "      <td>1-2</td>\n",
       "      <td>0.000790</td>\n",
       "      <td>5.453476</td>\n",
       "      <td>6.097406</td>\n",
       "      <td>5.284061</td>\n",
       "      <td>7.262613</td>\n",
       "      <td>7.852882</td>\n",
       "      <td>9.369951</td>\n",
       "      <td>5.632856</td>\n",
       "      <td>3.844417</td>\n",
       "      <td>...</td>\n",
       "      <td>5.163707</td>\n",
       "      <td>6.523626</td>\n",
       "      <td>6.830260</td>\n",
       "      <td>6.733670</td>\n",
       "      <td>6.452334</td>\n",
       "      <td>6.163332</td>\n",
       "      <td>6.251489</td>\n",
       "      <td>4.993526</td>\n",
       "      <td>5.084749</td>\n",
       "      <td>5.273329</td>\n",
       "    </tr>\n",
       "    <tr>\n",
       "      <th>2</th>\n",
       "      <td>2-3</td>\n",
       "      <td>0.000456</td>\n",
       "      <td>3.145126</td>\n",
       "      <td>3.516493</td>\n",
       "      <td>3.047421</td>\n",
       "      <td>4.188491</td>\n",
       "      <td>4.528911</td>\n",
       "      <td>5.403834</td>\n",
       "      <td>3.248578</td>\n",
       "      <td>2.217150</td>\n",
       "      <td>...</td>\n",
       "      <td>2.978011</td>\n",
       "      <td>3.762303</td>\n",
       "      <td>3.939145</td>\n",
       "      <td>3.883439</td>\n",
       "      <td>3.721187</td>\n",
       "      <td>3.554514</td>\n",
       "      <td>3.605356</td>\n",
       "      <td>2.879864</td>\n",
       "      <td>2.932474</td>\n",
       "      <td>3.041232</td>\n",
       "    </tr>\n",
       "    <tr>\n",
       "      <th>3</th>\n",
       "      <td>3-4</td>\n",
       "      <td>0.000577</td>\n",
       "      <td>3.981903</td>\n",
       "      <td>4.452074</td>\n",
       "      <td>3.858203</td>\n",
       "      <td>5.302860</td>\n",
       "      <td>5.733851</td>\n",
       "      <td>6.841552</td>\n",
       "      <td>4.112879</td>\n",
       "      <td>2.807034</td>\n",
       "      <td>...</td>\n",
       "      <td>3.770326</td>\n",
       "      <td>4.763283</td>\n",
       "      <td>4.987174</td>\n",
       "      <td>4.916648</td>\n",
       "      <td>4.711228</td>\n",
       "      <td>4.500211</td>\n",
       "      <td>4.564579</td>\n",
       "      <td>3.646066</td>\n",
       "      <td>3.712674</td>\n",
       "      <td>3.850367</td>\n",
       "    </tr>\n",
       "    <tr>\n",
       "      <th>4</th>\n",
       "      <td>4-5</td>\n",
       "      <td>0.001330</td>\n",
       "      <td>9.175689</td>\n",
       "      <td>10.259127</td>\n",
       "      <td>8.890642</td>\n",
       "      <td>12.219635</td>\n",
       "      <td>13.212786</td>\n",
       "      <td>15.765315</td>\n",
       "      <td>9.477504</td>\n",
       "      <td>6.468384</td>\n",
       "      <td>...</td>\n",
       "      <td>8.688142</td>\n",
       "      <td>10.976260</td>\n",
       "      <td>11.492183</td>\n",
       "      <td>11.329667</td>\n",
       "      <td>10.856308</td>\n",
       "      <td>10.370051</td>\n",
       "      <td>10.518379</td>\n",
       "      <td>8.401805</td>\n",
       "      <td>8.555292</td>\n",
       "      <td>8.872585</td>\n",
       "    </tr>\n",
       "    <tr>\n",
       "      <th>5</th>\n",
       "      <td>5-6</td>\n",
       "      <td>0.003747</td>\n",
       "      <td>25.853514</td>\n",
       "      <td>28.906221</td>\n",
       "      <td>25.050362</td>\n",
       "      <td>34.430165</td>\n",
       "      <td>37.228479</td>\n",
       "      <td>44.420510</td>\n",
       "      <td>26.703911</td>\n",
       "      <td>18.225383</td>\n",
       "      <td>...</td>\n",
       "      <td>24.479797</td>\n",
       "      <td>30.926821</td>\n",
       "      <td>32.380491</td>\n",
       "      <td>31.922585</td>\n",
       "      <td>30.588843</td>\n",
       "      <td>29.218760</td>\n",
       "      <td>29.636690</td>\n",
       "      <td>23.673010</td>\n",
       "      <td>24.105477</td>\n",
       "      <td>24.999484</td>\n",
       "    </tr>\n",
       "    <tr>\n",
       "      <th>6</th>\n",
       "      <td>6-7</td>\n",
       "      <td>0.008288</td>\n",
       "      <td>57.189359</td>\n",
       "      <td>63.942109</td>\n",
       "      <td>55.412743</td>\n",
       "      <td>76.161370</td>\n",
       "      <td>82.351391</td>\n",
       "      <td>98.260547</td>\n",
       "      <td>59.070482</td>\n",
       "      <td>40.315524</td>\n",
       "      <td>...</td>\n",
       "      <td>54.150622</td>\n",
       "      <td>68.411786</td>\n",
       "      <td>71.627381</td>\n",
       "      <td>70.614468</td>\n",
       "      <td>67.664160</td>\n",
       "      <td>64.633462</td>\n",
       "      <td>65.557945</td>\n",
       "      <td>52.365966</td>\n",
       "      <td>53.322606</td>\n",
       "      <td>55.300197</td>\n",
       "    </tr>\n",
       "    <tr>\n",
       "      <th>7</th>\n",
       "      <td>7-8</td>\n",
       "      <td>0.023537</td>\n",
       "      <td>162.421242</td>\n",
       "      <td>181.599460</td>\n",
       "      <td>157.375544</td>\n",
       "      <td>216.302902</td>\n",
       "      <td>233.882935</td>\n",
       "      <td>279.065904</td>\n",
       "      <td>167.763745</td>\n",
       "      <td>114.498528</td>\n",
       "      <td>...</td>\n",
       "      <td>153.791044</td>\n",
       "      <td>194.293614</td>\n",
       "      <td>203.426098</td>\n",
       "      <td>200.549366</td>\n",
       "      <td>192.170311</td>\n",
       "      <td>183.562944</td>\n",
       "      <td>186.188533</td>\n",
       "      <td>148.722515</td>\n",
       "      <td>151.439429</td>\n",
       "      <td>157.055907</td>\n",
       "    </tr>\n",
       "    <tr>\n",
       "      <th>8</th>\n",
       "      <td>8-9</td>\n",
       "      <td>0.049425</td>\n",
       "      <td>341.058639</td>\n",
       "      <td>381.329830</td>\n",
       "      <td>330.463480</td>\n",
       "      <td>454.201510</td>\n",
       "      <td>491.116769</td>\n",
       "      <td>585.993779</td>\n",
       "      <td>352.277042</td>\n",
       "      <td>240.428602</td>\n",
       "      <td>...</td>\n",
       "      <td>322.936603</td>\n",
       "      <td>407.985524</td>\n",
       "      <td>427.162282</td>\n",
       "      <td>421.121603</td>\n",
       "      <td>403.526928</td>\n",
       "      <td>385.452833</td>\n",
       "      <td>390.966151</td>\n",
       "      <td>312.293502</td>\n",
       "      <td>317.998588</td>\n",
       "      <td>329.792294</td>\n",
       "    </tr>\n",
       "    <tr>\n",
       "      <th>9</th>\n",
       "      <td>9-10</td>\n",
       "      <td>0.070106</td>\n",
       "      <td>483.772347</td>\n",
       "      <td>540.894749</td>\n",
       "      <td>468.743715</td>\n",
       "      <td>644.259097</td>\n",
       "      <td>696.621299</td>\n",
       "      <td>831.198959</td>\n",
       "      <td>499.685016</td>\n",
       "      <td>341.034343</td>\n",
       "      <td>...</td>\n",
       "      <td>458.067266</td>\n",
       "      <td>578.704339</td>\n",
       "      <td>605.905484</td>\n",
       "      <td>597.337123</td>\n",
       "      <td>572.380074</td>\n",
       "      <td>546.742995</td>\n",
       "      <td>554.563324</td>\n",
       "      <td>442.970631</td>\n",
       "      <td>451.062971</td>\n",
       "      <td>467.791675</td>\n",
       "    </tr>\n",
       "    <tr>\n",
       "      <th>10</th>\n",
       "      <td>10-11</td>\n",
       "      <td>0.097022</td>\n",
       "      <td>669.507919</td>\n",
       "      <td>748.561426</td>\n",
       "      <td>648.709317</td>\n",
       "      <td>891.610630</td>\n",
       "      <td>964.076345</td>\n",
       "      <td>1150.322644</td>\n",
       "      <td>691.529967</td>\n",
       "      <td>471.968261</td>\n",
       "      <td>...</td>\n",
       "      <td>633.933840</td>\n",
       "      <td>800.887319</td>\n",
       "      <td>838.531846</td>\n",
       "      <td>826.673820</td>\n",
       "      <td>792.134966</td>\n",
       "      <td>756.654999</td>\n",
       "      <td>767.477801</td>\n",
       "      <td>613.041128</td>\n",
       "      <td>624.240374</td>\n",
       "      <td>647.391759</td>\n",
       "    </tr>\n",
       "    <tr>\n",
       "      <th>11</th>\n",
       "      <td>11-12</td>\n",
       "      <td>0.090190</td>\n",
       "      <td>622.359880</td>\n",
       "      <td>695.846287</td>\n",
       "      <td>603.025956</td>\n",
       "      <td>828.821690</td>\n",
       "      <td>896.184230</td>\n",
       "      <td>1069.314705</td>\n",
       "      <td>642.831093</td>\n",
       "      <td>438.731346</td>\n",
       "      <td>...</td>\n",
       "      <td>589.290997</td>\n",
       "      <td>744.487290</td>\n",
       "      <td>779.480817</td>\n",
       "      <td>768.457856</td>\n",
       "      <td>736.351295</td>\n",
       "      <td>703.369895</td>\n",
       "      <td>713.430534</td>\n",
       "      <td>569.869589</td>\n",
       "      <td>580.280164</td>\n",
       "      <td>601.801183</td>\n",
       "    </tr>\n",
       "    <tr>\n",
       "      <th>12</th>\n",
       "      <td>12-13</td>\n",
       "      <td>0.090850</td>\n",
       "      <td>626.918870</td>\n",
       "      <td>700.943589</td>\n",
       "      <td>607.443319</td>\n",
       "      <td>834.893081</td>\n",
       "      <td>902.749073</td>\n",
       "      <td>1077.147786</td>\n",
       "      <td>647.540042</td>\n",
       "      <td>441.945197</td>\n",
       "      <td>...</td>\n",
       "      <td>593.607747</td>\n",
       "      <td>749.940903</td>\n",
       "      <td>785.190769</td>\n",
       "      <td>774.087062</td>\n",
       "      <td>741.745309</td>\n",
       "      <td>708.522310</td>\n",
       "      <td>718.656647</td>\n",
       "      <td>574.044071</td>\n",
       "      <td>584.530906</td>\n",
       "      <td>606.209574</td>\n",
       "    </tr>\n",
       "    <tr>\n",
       "      <th>13</th>\n",
       "      <td>13-14</td>\n",
       "      <td>0.087158</td>\n",
       "      <td>601.440463</td>\n",
       "      <td>672.456767</td>\n",
       "      <td>582.756411</td>\n",
       "      <td>800.962460</td>\n",
       "      <td>866.060739</td>\n",
       "      <td>1033.371770</td>\n",
       "      <td>621.223576</td>\n",
       "      <td>423.984245</td>\n",
       "      <td>...</td>\n",
       "      <td>569.483126</td>\n",
       "      <td>719.462797</td>\n",
       "      <td>753.280085</td>\n",
       "      <td>742.627639</td>\n",
       "      <td>711.600277</td>\n",
       "      <td>679.727484</td>\n",
       "      <td>689.449954</td>\n",
       "      <td>550.714531</td>\n",
       "      <td>560.775174</td>\n",
       "      <td>581.572806</td>\n",
       "    </tr>\n",
       "    <tr>\n",
       "      <th>14</th>\n",
       "      <td>14-15</td>\n",
       "      <td>0.082508</td>\n",
       "      <td>569.354405</td>\n",
       "      <td>636.582082</td>\n",
       "      <td>551.667123</td>\n",
       "      <td>758.232166</td>\n",
       "      <td>819.857537</td>\n",
       "      <td>978.242745</td>\n",
       "      <td>588.082115</td>\n",
       "      <td>401.365243</td>\n",
       "      <td>...</td>\n",
       "      <td>539.101950</td>\n",
       "      <td>681.080402</td>\n",
       "      <td>713.093582</td>\n",
       "      <td>703.009431</td>\n",
       "      <td>673.637338</td>\n",
       "      <td>643.464916</td>\n",
       "      <td>652.668705</td>\n",
       "      <td>521.334635</td>\n",
       "      <td>530.858556</td>\n",
       "      <td>550.546661</td>\n",
       "    </tr>\n",
       "    <tr>\n",
       "      <th>15</th>\n",
       "      <td>15-16</td>\n",
       "      <td>0.076483</td>\n",
       "      <td>527.775259</td>\n",
       "      <td>590.093395</td>\n",
       "      <td>511.379654</td>\n",
       "      <td>702.859545</td>\n",
       "      <td>759.984503</td>\n",
       "      <td>906.803063</td>\n",
       "      <td>545.135311</td>\n",
       "      <td>372.054108</td>\n",
       "      <td>...</td>\n",
       "      <td>499.732098</td>\n",
       "      <td>631.342066</td>\n",
       "      <td>661.017368</td>\n",
       "      <td>651.669648</td>\n",
       "      <td>624.442558</td>\n",
       "      <td>596.473585</td>\n",
       "      <td>605.005235</td>\n",
       "      <td>483.262305</td>\n",
       "      <td>492.090708</td>\n",
       "      <td>510.341019</td>\n",
       "    </tr>\n",
       "    <tr>\n",
       "      <th>16</th>\n",
       "      <td>16-17</td>\n",
       "      <td>0.070357</td>\n",
       "      <td>485.503609</td>\n",
       "      <td>542.830434</td>\n",
       "      <td>470.421194</td>\n",
       "      <td>646.564688</td>\n",
       "      <td>699.114277</td>\n",
       "      <td>834.173547</td>\n",
       "      <td>501.473224</td>\n",
       "      <td>342.254793</td>\n",
       "      <td>...</td>\n",
       "      <td>459.706538</td>\n",
       "      <td>580.775332</td>\n",
       "      <td>608.073820</td>\n",
       "      <td>599.474796</td>\n",
       "      <td>574.428434</td>\n",
       "      <td>548.699609</td>\n",
       "      <td>556.547924</td>\n",
       "      <td>444.555877</td>\n",
       "      <td>452.677177</td>\n",
       "      <td>469.465747</td>\n",
       "    </tr>\n",
       "    <tr>\n",
       "      <th>17</th>\n",
       "      <td>17-18</td>\n",
       "      <td>0.068488</td>\n",
       "      <td>472.605706</td>\n",
       "      <td>528.409585</td>\n",
       "      <td>457.923971</td>\n",
       "      <td>629.388032</td>\n",
       "      <td>680.541587</td>\n",
       "      <td>812.012868</td>\n",
       "      <td>488.151072</td>\n",
       "      <td>333.162443</td>\n",
       "      <td>...</td>\n",
       "      <td>447.493961</td>\n",
       "      <td>565.346438</td>\n",
       "      <td>591.919713</td>\n",
       "      <td>583.549132</td>\n",
       "      <td>559.168151</td>\n",
       "      <td>534.122839</td>\n",
       "      <td>541.762656</td>\n",
       "      <td>432.745793</td>\n",
       "      <td>440.651342</td>\n",
       "      <td>456.993907</td>\n",
       "    </tr>\n",
       "    <tr>\n",
       "      <th>18</th>\n",
       "      <td>18-19</td>\n",
       "      <td>0.059757</td>\n",
       "      <td>412.357784</td>\n",
       "      <td>461.047767</td>\n",
       "      <td>399.547681</td>\n",
       "      <td>549.153450</td>\n",
       "      <td>593.785935</td>\n",
       "      <td>708.497216</td>\n",
       "      <td>425.921422</td>\n",
       "      <td>290.690791</td>\n",
       "      <td>...</td>\n",
       "      <td>390.447292</td>\n",
       "      <td>493.275899</td>\n",
       "      <td>516.461605</td>\n",
       "      <td>509.158107</td>\n",
       "      <td>487.885222</td>\n",
       "      <td>466.032694</td>\n",
       "      <td>472.698584</td>\n",
       "      <td>377.579225</td>\n",
       "      <td>384.476972</td>\n",
       "      <td>398.736182</td>\n",
       "    </tr>\n",
       "    <tr>\n",
       "      <th>19</th>\n",
       "      <td>19-20</td>\n",
       "      <td>0.049508</td>\n",
       "      <td>341.635726</td>\n",
       "      <td>381.975059</td>\n",
       "      <td>331.022640</td>\n",
       "      <td>454.970041</td>\n",
       "      <td>491.947762</td>\n",
       "      <td>586.985308</td>\n",
       "      <td>352.873112</td>\n",
       "      <td>240.835418</td>\n",
       "      <td>...</td>\n",
       "      <td>323.483027</td>\n",
       "      <td>408.675855</td>\n",
       "      <td>427.885061</td>\n",
       "      <td>421.834161</td>\n",
       "      <td>404.209714</td>\n",
       "      <td>386.105038</td>\n",
       "      <td>391.627684</td>\n",
       "      <td>312.821917</td>\n",
       "      <td>318.536656</td>\n",
       "      <td>330.350318</td>\n",
       "    </tr>\n",
       "    <tr>\n",
       "      <th>20</th>\n",
       "      <td>20-21</td>\n",
       "      <td>0.034430</td>\n",
       "      <td>237.586872</td>\n",
       "      <td>265.640425</td>\n",
       "      <td>230.206116</td>\n",
       "      <td>316.403996</td>\n",
       "      <td>342.119753</td>\n",
       "      <td>408.212587</td>\n",
       "      <td>245.401791</td>\n",
       "      <td>167.486388</td>\n",
       "      <td>...</td>\n",
       "      <td>224.962774</td>\n",
       "      <td>284.209205</td>\n",
       "      <td>297.568040</td>\n",
       "      <td>293.360007</td>\n",
       "      <td>281.103276</td>\n",
       "      <td>268.512574</td>\n",
       "      <td>272.353239</td>\n",
       "      <td>217.548621</td>\n",
       "      <td>221.522874</td>\n",
       "      <td>229.738557</td>\n",
       "    </tr>\n",
       "    <tr>\n",
       "      <th>21</th>\n",
       "      <td>21-22</td>\n",
       "      <td>0.020092</td>\n",
       "      <td>138.645242</td>\n",
       "      <td>155.016060</td>\n",
       "      <td>134.338158</td>\n",
       "      <td>184.639446</td>\n",
       "      <td>199.646030</td>\n",
       "      <td>238.214899</td>\n",
       "      <td>143.205684</td>\n",
       "      <td>97.737685</td>\n",
       "      <td>...</td>\n",
       "      <td>131.278374</td>\n",
       "      <td>165.851983</td>\n",
       "      <td>173.647611</td>\n",
       "      <td>171.191988</td>\n",
       "      <td>164.039500</td>\n",
       "      <td>156.692120</td>\n",
       "      <td>158.933364</td>\n",
       "      <td>126.951800</td>\n",
       "      <td>129.270999</td>\n",
       "      <td>134.065311</td>\n",
       "    </tr>\n",
       "    <tr>\n",
       "      <th>22</th>\n",
       "      <td>22-23</td>\n",
       "      <td>0.009279</td>\n",
       "      <td>64.027844</td>\n",
       "      <td>71.588062</td>\n",
       "      <td>62.038787</td>\n",
       "      <td>85.268456</td>\n",
       "      <td>92.198656</td>\n",
       "      <td>110.010169</td>\n",
       "      <td>66.133905</td>\n",
       "      <td>45.136300</td>\n",
       "      <td>...</td>\n",
       "      <td>60.625746</td>\n",
       "      <td>76.592206</td>\n",
       "      <td>80.192310</td>\n",
       "      <td>79.058277</td>\n",
       "      <td>75.755182</td>\n",
       "      <td>72.362084</td>\n",
       "      <td>73.397114</td>\n",
       "      <td>58.627689</td>\n",
       "      <td>59.698720</td>\n",
       "      <td>61.912783</td>\n",
       "    </tr>\n",
       "    <tr>\n",
       "      <th>23</th>\n",
       "      <td>23-00</td>\n",
       "      <td>0.003972</td>\n",
       "      <td>27.411650</td>\n",
       "      <td>30.648337</td>\n",
       "      <td>26.560094</td>\n",
       "      <td>36.505198</td>\n",
       "      <td>39.472160</td>\n",
       "      <td>47.097639</td>\n",
       "      <td>28.313299</td>\n",
       "      <td>19.323788</td>\n",
       "      <td>...</td>\n",
       "      <td>25.955141</td>\n",
       "      <td>32.790715</td>\n",
       "      <td>34.331994</td>\n",
       "      <td>33.846491</td>\n",
       "      <td>32.432367</td>\n",
       "      <td>30.979712</td>\n",
       "      <td>31.422829</td>\n",
       "      <td>25.099732</td>\n",
       "      <td>25.558262</td>\n",
       "      <td>26.506149</td>\n",
       "    </tr>\n",
       "  </tbody>\n",
       "</table>\n",
       "<p>24 rows × 33 columns</p>\n",
       "</div>"
      ],
      "text/plain": [
       "   period      load  transaction1  transaction2  transaction3  transaction4  \\\n",
       "0     0-1  0.001652     11.397476     12.743256     11.043407     15.178477   \n",
       "1     1-2  0.000790      5.453476      6.097406      5.284061      7.262613   \n",
       "2     2-3  0.000456      3.145126      3.516493      3.047421      4.188491   \n",
       "3     3-4  0.000577      3.981903      4.452074      3.858203      5.302860   \n",
       "4     4-5  0.001330      9.175689     10.259127      8.890642     12.219635   \n",
       "5     5-6  0.003747     25.853514     28.906221     25.050362     34.430165   \n",
       "6     6-7  0.008288     57.189359     63.942109     55.412743     76.161370   \n",
       "7     7-8  0.023537    162.421242    181.599460    157.375544    216.302902   \n",
       "8     8-9  0.049425    341.058639    381.329830    330.463480    454.201510   \n",
       "9    9-10  0.070106    483.772347    540.894749    468.743715    644.259097   \n",
       "10  10-11  0.097022    669.507919    748.561426    648.709317    891.610630   \n",
       "11  11-12  0.090190    622.359880    695.846287    603.025956    828.821690   \n",
       "12  12-13  0.090850    626.918870    700.943589    607.443319    834.893081   \n",
       "13  13-14  0.087158    601.440463    672.456767    582.756411    800.962460   \n",
       "14  14-15  0.082508    569.354405    636.582082    551.667123    758.232166   \n",
       "15  15-16  0.076483    527.775259    590.093395    511.379654    702.859545   \n",
       "16  16-17  0.070357    485.503609    542.830434    470.421194    646.564688   \n",
       "17  17-18  0.068488    472.605706    528.409585    457.923971    629.388032   \n",
       "18  18-19  0.059757    412.357784    461.047767    399.547681    549.153450   \n",
       "19  19-20  0.049508    341.635726    381.975059    331.022640    454.970041   \n",
       "20  20-21  0.034430    237.586872    265.640425    230.206116    316.403996   \n",
       "21  21-22  0.020092    138.645242    155.016060    134.338158    184.639446   \n",
       "22  22-23  0.009279     64.027844     71.588062     62.038787     85.268456   \n",
       "23  23-00  0.003972     27.411650     30.648337     26.560094     36.505198   \n",
       "\n",
       "    transaction5  transaction6  transaction7  transaction8  ...  \\\n",
       "0      16.412109     19.582702     11.772372      8.034628  ...   \n",
       "1       7.852882      9.369951      5.632856      3.844417  ...   \n",
       "2       4.528911      5.403834      3.248578      2.217150  ...   \n",
       "3       5.733851      6.841552      4.112879      2.807034  ...   \n",
       "4      13.212786     15.765315      9.477504      6.468384  ...   \n",
       "5      37.228479     44.420510     26.703911     18.225383  ...   \n",
       "6      82.351391     98.260547     59.070482     40.315524  ...   \n",
       "7     233.882935    279.065904    167.763745    114.498528  ...   \n",
       "8     491.116769    585.993779    352.277042    240.428602  ...   \n",
       "9     696.621299    831.198959    499.685016    341.034343  ...   \n",
       "10    964.076345   1150.322644    691.529967    471.968261  ...   \n",
       "11    896.184230   1069.314705    642.831093    438.731346  ...   \n",
       "12    902.749073   1077.147786    647.540042    441.945197  ...   \n",
       "13    866.060739   1033.371770    621.223576    423.984245  ...   \n",
       "14    819.857537    978.242745    588.082115    401.365243  ...   \n",
       "15    759.984503    906.803063    545.135311    372.054108  ...   \n",
       "16    699.114277    834.173547    501.473224    342.254793  ...   \n",
       "17    680.541587    812.012868    488.151072    333.162443  ...   \n",
       "18    593.785935    708.497216    425.921422    290.690791  ...   \n",
       "19    491.947762    586.985308    352.873112    240.835418  ...   \n",
       "20    342.119753    408.212587    245.401791    167.486388  ...   \n",
       "21    199.646030    238.214899    143.205684     97.737685  ...   \n",
       "22     92.198656    110.010169     66.133905     45.136300  ...   \n",
       "23     39.472160     47.097639     28.313299     19.323788  ...   \n",
       "\n",
       "    transaction22  transaction23  transaction24  transaction25  transaction26  \\\n",
       "0       10.791875      13.634034      14.274882      14.073015      13.485037   \n",
       "1        5.163707       6.523626       6.830260       6.733670       6.452334   \n",
       "2        2.978011       3.762303       3.939145       3.883439       3.721187   \n",
       "3        3.770326       4.763283       4.987174       4.916648       4.711228   \n",
       "4        8.688142      10.976260      11.492183      11.329667      10.856308   \n",
       "5       24.479797      30.926821      32.380491      31.922585      30.588843   \n",
       "6       54.150622      68.411786      71.627381      70.614468      67.664160   \n",
       "7      153.791044     194.293614     203.426098     200.549366     192.170311   \n",
       "8      322.936603     407.985524     427.162282     421.121603     403.526928   \n",
       "9      458.067266     578.704339     605.905484     597.337123     572.380074   \n",
       "10     633.933840     800.887319     838.531846     826.673820     792.134966   \n",
       "11     589.290997     744.487290     779.480817     768.457856     736.351295   \n",
       "12     593.607747     749.940903     785.190769     774.087062     741.745309   \n",
       "13     569.483126     719.462797     753.280085     742.627639     711.600277   \n",
       "14     539.101950     681.080402     713.093582     703.009431     673.637338   \n",
       "15     499.732098     631.342066     661.017368     651.669648     624.442558   \n",
       "16     459.706538     580.775332     608.073820     599.474796     574.428434   \n",
       "17     447.493961     565.346438     591.919713     583.549132     559.168151   \n",
       "18     390.447292     493.275899     516.461605     509.158107     487.885222   \n",
       "19     323.483027     408.675855     427.885061     421.834161     404.209714   \n",
       "20     224.962774     284.209205     297.568040     293.360007     281.103276   \n",
       "21     131.278374     165.851983     173.647611     171.191988     164.039500   \n",
       "22      60.625746      76.592206      80.192310      79.058277      75.755182   \n",
       "23      25.955141      32.790715      34.331994      33.846491      32.432367   \n",
       "\n",
       "    transaction27  transaction28  transaction29  transaction30  transaction31  \n",
       "0       12.881038      13.065282      10.436204      10.626856      11.020978  \n",
       "1        6.163332       6.251489       4.993526       5.084749       5.273329  \n",
       "2        3.554514       3.605356       2.879864       2.932474       3.041232  \n",
       "3        4.500211       4.564579       3.646066       3.712674       3.850367  \n",
       "4       10.370051      10.518379       8.401805       8.555292       8.872585  \n",
       "5       29.218760      29.636690      23.673010      24.105477      24.999484  \n",
       "6       64.633462      65.557945      52.365966      53.322606      55.300197  \n",
       "7      183.562944     186.188533     148.722515     151.439429     157.055907  \n",
       "8      385.452833     390.966151     312.293502     317.998588     329.792294  \n",
       "9      546.742995     554.563324     442.970631     451.062971     467.791675  \n",
       "10     756.654999     767.477801     613.041128     624.240374     647.391759  \n",
       "11     703.369895     713.430534     569.869589     580.280164     601.801183  \n",
       "12     708.522310     718.656647     574.044071     584.530906     606.209574  \n",
       "13     679.727484     689.449954     550.714531     560.775174     581.572806  \n",
       "14     643.464916     652.668705     521.334635     530.858556     550.546661  \n",
       "15     596.473585     605.005235     483.262305     492.090708     510.341019  \n",
       "16     548.699609     556.547924     444.555877     452.677177     469.465747  \n",
       "17     534.122839     541.762656     432.745793     440.651342     456.993907  \n",
       "18     466.032694     472.698584     377.579225     384.476972     398.736182  \n",
       "19     386.105038     391.627684     312.821917     318.536656     330.350318  \n",
       "20     268.512574     272.353239     217.548621     221.522874     229.738557  \n",
       "21     156.692120     158.933364     126.951800     129.270999     134.065311  \n",
       "22      72.362084      73.397114      58.627689      59.698720      61.912783  \n",
       "23      30.979712      31.422829      25.099732      25.558262      26.506149  \n",
       "\n",
       "[24 rows x 33 columns]"
      ]
     },
     "execution_count": 201,
     "metadata": {},
     "output_type": "execute_result"
    }
   ],
   "source": [
    "data_day_load"
   ]
  },
  {
   "cell_type": "code",
   "execution_count": 202,
   "id": "8ae770ee",
   "metadata": {},
   "outputs": [],
   "source": [
    "required_positions_scenarios = {\"service_level\": [service_level], \"max_occupancy\": [max_occupancy]}\n",
    "operators_list= []\n",
    "for transaction in data_day_load.iloc[::,2:]:\n",
    "        param_grid = { \"transactions\": list(data_day_load[str(transaction)]), \"aht\": [aht],\"interval\": [interval], \"asa\": [asa]}\n",
    "        multi_erlang = MultiErlangC(param_grid=param_grid, n_jobs=-1)\n",
    "    \n",
    "        positions_requirements = multi_erlang.required_positions(required_positions_scenarios)\n",
    "        operators_list += list(pd.DataFrame(positions_requirements)['raw_positions'])"
   ]
  },
  {
   "cell_type": "code",
   "execution_count": 203,
   "id": "7bed4444",
   "metadata": {},
   "outputs": [],
   "source": [
    "# Делаем reshape list, чтобы перевести в датафрейм\n",
    "df_oprtrs = pd.DataFrame(np.reshape(operators_list,(-1,24)))\n",
    "# создаем датафрейм с кол-вом операторов, на каждый час работы\n",
    "df_oprtrs = df_oprtrs.T # транспонируем\n",
    "df_oprtrs.columns = list(range(1,32)) # присваиваем название колонок,чтобы соответствовали названию дней"
   ]
  },
  {
   "cell_type": "code",
   "execution_count": 206,
   "id": "70f10650",
   "metadata": {},
   "outputs": [
    {
     "name": "stdout",
     "output_type": "stream",
     "text": [
      "Requirement already satisfied: plotly in c:\\users\\lenovo\\anaconda3\\lib\\site-packages (4.14.3)\n",
      "Requirement already satisfied: six in c:\\users\\lenovo\\anaconda3\\lib\\site-packages (from plotly) (1.15.0)\n",
      "Requirement already satisfied: retrying>=1.3.3 in c:\\users\\lenovo\\anaconda3\\lib\\site-packages (from plotly) (1.3.3)\n"
     ]
    }
   ],
   "source": [
    "# устанавливаем необходимые опициии и библиотеки для визуализации в интерактивном виде\n",
    "!pip install plotly\n",
    "pd.options.plotting.backend = \"plotly\""
   ]
  },
  {
   "cell_type": "code",
   "execution_count": 216,
   "id": "9b69d987",
   "metadata": {},
   "outputs": [
    {
     "data": {
      "text/html": [
       "<style type=\"text/css\">\n",
       "#T_d8295_row0_col0, #T_d8295_row0_col1, #T_d8295_row0_col6, #T_d8295_row0_col9, #T_d8295_row0_col14, #T_d8295_row0_col15, #T_d8295_row0_col16, #T_d8295_row0_col17, #T_d8295_row0_col18, #T_d8295_row0_col19, #T_d8295_row0_col22, #T_d8295_row0_col23, #T_d8295_row0_col24, #T_d8295_row0_col25, #T_d8295_row0_col26, #T_d8295_row0_col27, #T_d8295_row4_col1, #T_d8295_row4_col9, #T_d8295_row4_col14, #T_d8295_row4_col16, #T_d8295_row4_col18, #T_d8295_row4_col19, #T_d8295_row4_col22, #T_d8295_row4_col23, #T_d8295_row4_col24, #T_d8295_row4_col25, #T_d8295_row4_col26, #T_d8295_row4_col27 {\n",
       "  background-color: #450559;\n",
       "  color: #f1f1f1;\n",
       "}\n",
       "#T_d8295_row0_col2, #T_d8295_row0_col5, #T_d8295_row0_col10, #T_d8295_row0_col11, #T_d8295_row0_col12, #T_d8295_row0_col13, #T_d8295_row0_col20, #T_d8295_row0_col21, #T_d8295_row0_col28, #T_d8295_row0_col29, #T_d8295_row0_col30 {\n",
       "  background-color: #46075a;\n",
       "  color: #f1f1f1;\n",
       "}\n",
       "#T_d8295_row0_col3, #T_d8295_row0_col4, #T_d8295_row4_col3, #T_d8295_row4_col4, #T_d8295_row4_col5 {\n",
       "  background-color: #450457;\n",
       "  color: #f1f1f1;\n",
       "}\n",
       "#T_d8295_row0_col7, #T_d8295_row1_col7, #T_d8295_row3_col7, #T_d8295_row4_col7 {\n",
       "  background-color: #46085c;\n",
       "  color: #f1f1f1;\n",
       "}\n",
       "#T_d8295_row0_col8, #T_d8295_row1_col0, #T_d8295_row1_col1, #T_d8295_row1_col2, #T_d8295_row1_col3, #T_d8295_row1_col4, #T_d8295_row1_col5, #T_d8295_row1_col6, #T_d8295_row1_col8, #T_d8295_row1_col9, #T_d8295_row1_col10, #T_d8295_row1_col11, #T_d8295_row1_col12, #T_d8295_row1_col13, #T_d8295_row1_col14, #T_d8295_row1_col15, #T_d8295_row1_col16, #T_d8295_row1_col17, #T_d8295_row1_col18, #T_d8295_row1_col19, #T_d8295_row1_col20, #T_d8295_row1_col21, #T_d8295_row1_col22, #T_d8295_row1_col23, #T_d8295_row1_col24, #T_d8295_row1_col25, #T_d8295_row1_col26, #T_d8295_row1_col27, #T_d8295_row1_col28, #T_d8295_row1_col29, #T_d8295_row1_col30, #T_d8295_row2_col0, #T_d8295_row2_col1, #T_d8295_row2_col2, #T_d8295_row2_col3, #T_d8295_row2_col4, #T_d8295_row2_col5, #T_d8295_row2_col6, #T_d8295_row2_col7, #T_d8295_row2_col8, #T_d8295_row2_col9, #T_d8295_row2_col10, #T_d8295_row2_col11, #T_d8295_row2_col12, #T_d8295_row2_col13, #T_d8295_row2_col14, #T_d8295_row2_col15, #T_d8295_row2_col16, #T_d8295_row2_col17, #T_d8295_row2_col18, #T_d8295_row2_col19, #T_d8295_row2_col20, #T_d8295_row2_col21, #T_d8295_row2_col22, #T_d8295_row2_col23, #T_d8295_row2_col24, #T_d8295_row2_col25, #T_d8295_row2_col26, #T_d8295_row2_col27, #T_d8295_row2_col28, #T_d8295_row2_col29, #T_d8295_row2_col30, #T_d8295_row3_col0, #T_d8295_row3_col1, #T_d8295_row3_col2, #T_d8295_row3_col3, #T_d8295_row3_col4, #T_d8295_row3_col5, #T_d8295_row3_col6, #T_d8295_row3_col8, #T_d8295_row3_col9, #T_d8295_row3_col10, #T_d8295_row3_col11, #T_d8295_row3_col12, #T_d8295_row3_col13, #T_d8295_row3_col14, #T_d8295_row3_col15, #T_d8295_row3_col16, #T_d8295_row3_col17, #T_d8295_row3_col18, #T_d8295_row3_col19, #T_d8295_row3_col20, #T_d8295_row3_col21, #T_d8295_row3_col22, #T_d8295_row3_col23, #T_d8295_row3_col24, #T_d8295_row3_col25, #T_d8295_row3_col26, #T_d8295_row3_col27, #T_d8295_row3_col28, #T_d8295_row3_col29, #T_d8295_row3_col30, #T_d8295_row4_col0, #T_d8295_row4_col2, #T_d8295_row4_col6, #T_d8295_row4_col8, #T_d8295_row4_col10, #T_d8295_row4_col11, #T_d8295_row4_col12, #T_d8295_row4_col13, #T_d8295_row4_col15, #T_d8295_row4_col17, #T_d8295_row4_col20, #T_d8295_row4_col21, #T_d8295_row4_col28, #T_d8295_row4_col29, #T_d8295_row4_col30 {\n",
       "  background-color: #440154;\n",
       "  color: #f1f1f1;\n",
       "}\n",
       "#T_d8295_row5_col0, #T_d8295_row5_col6, #T_d8295_row5_col15, #T_d8295_row5_col17, #T_d8295_row23_col0 {\n",
       "  background-color: #460b5e;\n",
       "  color: #f1f1f1;\n",
       "}\n",
       "#T_d8295_row5_col1, #T_d8295_row5_col4, #T_d8295_row5_col7, #T_d8295_row5_col9, #T_d8295_row5_col14, #T_d8295_row5_col16, #T_d8295_row5_col19, #T_d8295_row5_col26, #T_d8295_row5_col27, #T_d8295_row23_col1, #T_d8295_row23_col4, #T_d8295_row23_col9, #T_d8295_row23_col14, #T_d8295_row23_col16, #T_d8295_row23_col19, #T_d8295_row23_col26, #T_d8295_row23_col27 {\n",
       "  background-color: #471063;\n",
       "  color: #f1f1f1;\n",
       "}\n",
       "#T_d8295_row5_col2, #T_d8295_row5_col3, #T_d8295_row5_col5, #T_d8295_row5_col10, #T_d8295_row5_col11, #T_d8295_row5_col12, #T_d8295_row5_col13, #T_d8295_row5_col20, #T_d8295_row5_col21, #T_d8295_row5_col28, #T_d8295_row5_col29, #T_d8295_row5_col30, #T_d8295_row23_col2, #T_d8295_row23_col3, #T_d8295_row23_col5, #T_d8295_row23_col10, #T_d8295_row23_col11, #T_d8295_row23_col12, #T_d8295_row23_col13, #T_d8295_row23_col20, #T_d8295_row23_col21, #T_d8295_row23_col28, #T_d8295_row23_col29, #T_d8295_row23_col30 {\n",
       "  background-color: #470d60;\n",
       "  color: #f1f1f1;\n",
       "}\n",
       "#T_d8295_row5_col8, #T_d8295_row5_col18, #T_d8295_row5_col22, #T_d8295_row5_col23, #T_d8295_row5_col24, #T_d8295_row5_col25, #T_d8295_row23_col8, #T_d8295_row23_col18, #T_d8295_row23_col22, #T_d8295_row23_col23, #T_d8295_row23_col24, #T_d8295_row23_col25 {\n",
       "  background-color: #470e61;\n",
       "  color: #f1f1f1;\n",
       "}\n",
       "#T_d8295_row6_col0, #T_d8295_row6_col25 {\n",
       "  background-color: #481c6e;\n",
       "  color: #f1f1f1;\n",
       "}\n",
       "#T_d8295_row6_col1, #T_d8295_row6_col4, #T_d8295_row6_col16, #T_d8295_row6_col18, #T_d8295_row6_col19, #T_d8295_row6_col20, #T_d8295_row6_col23, #T_d8295_row6_col28 {\n",
       "  background-color: #481f70;\n",
       "  color: #f1f1f1;\n",
       "}\n",
       "#T_d8295_row6_col2, #T_d8295_row6_col3, #T_d8295_row6_col5, #T_d8295_row6_col9, #T_d8295_row6_col10, #T_d8295_row6_col11, #T_d8295_row6_col12, #T_d8295_row6_col13, #T_d8295_row6_col14, #T_d8295_row6_col21, #T_d8295_row6_col26, #T_d8295_row6_col27, #T_d8295_row6_col29, #T_d8295_row6_col30 {\n",
       "  background-color: #481d6f;\n",
       "  color: #f1f1f1;\n",
       "}\n",
       "#T_d8295_row6_col6, #T_d8295_row6_col22, #T_d8295_row6_col24, #T_d8295_row22_col5, #T_d8295_row22_col6, #T_d8295_row22_col22, #T_d8295_row22_col25 {\n",
       "  background-color: #482071;\n",
       "  color: #f1f1f1;\n",
       "}\n",
       "#T_d8295_row6_col7, #T_d8295_row22_col7 {\n",
       "  background-color: #482677;\n",
       "  color: #f1f1f1;\n",
       "}\n",
       "#T_d8295_row6_col8, #T_d8295_row6_col15, #T_d8295_row6_col17, #T_d8295_row22_col0, #T_d8295_row22_col3, #T_d8295_row22_col8, #T_d8295_row22_col9, #T_d8295_row22_col14, #T_d8295_row22_col15, #T_d8295_row22_col17, #T_d8295_row22_col27 {\n",
       "  background-color: #482173;\n",
       "  color: #f1f1f1;\n",
       "}\n",
       "#T_d8295_row7_col0, #T_d8295_row7_col1, #T_d8295_row7_col4, #T_d8295_row7_col18, #T_d8295_row7_col23, #T_d8295_row7_col25, #T_d8295_row7_col28 {\n",
       "  background-color: #3d4d8a;\n",
       "  color: #f1f1f1;\n",
       "}\n",
       "#T_d8295_row7_col2, #T_d8295_row7_col6, #T_d8295_row7_col8, #T_d8295_row7_col10, #T_d8295_row7_col11, #T_d8295_row7_col12, #T_d8295_row7_col13, #T_d8295_row7_col16, #T_d8295_row7_col20, #T_d8295_row7_col24, #T_d8295_row7_col30 {\n",
       "  background-color: #3d4e8a;\n",
       "  color: #f1f1f1;\n",
       "}\n",
       "#T_d8295_row7_col3, #T_d8295_row7_col5, #T_d8295_row7_col9, #T_d8295_row7_col15, #T_d8295_row7_col17, #T_d8295_row7_col22, #T_d8295_row7_col26, #T_d8295_row7_col27, #T_d8295_row7_col29 {\n",
       "  background-color: #3e4c8a;\n",
       "  color: #f1f1f1;\n",
       "}\n",
       "#T_d8295_row7_col7 {\n",
       "  background-color: #3a538b;\n",
       "  color: #f1f1f1;\n",
       "}\n",
       "#T_d8295_row7_col14, #T_d8295_row7_col19, #T_d8295_row7_col21 {\n",
       "  background-color: #3e4a89;\n",
       "  color: #f1f1f1;\n",
       "}\n",
       "#T_d8295_row8_col0, #T_d8295_row8_col1, #T_d8295_row8_col2, #T_d8295_row8_col4, #T_d8295_row8_col7, #T_d8295_row8_col9, #T_d8295_row8_col24, #T_d8295_row8_col27, #T_d8295_row19_col0, #T_d8295_row19_col1, #T_d8295_row19_col2, #T_d8295_row19_col4, #T_d8295_row19_col7, #T_d8295_row19_col9, #T_d8295_row19_col24, #T_d8295_row19_col27, #T_d8295_row19_col30 {\n",
       "  background-color: #20928c;\n",
       "  color: #f1f1f1;\n",
       "}\n",
       "#T_d8295_row8_col3, #T_d8295_row8_col5, #T_d8295_row8_col6, #T_d8295_row8_col10, #T_d8295_row8_col11, #T_d8295_row8_col12, #T_d8295_row8_col14, #T_d8295_row8_col15, #T_d8295_row8_col16, #T_d8295_row8_col17, #T_d8295_row8_col18, #T_d8295_row8_col21, #T_d8295_row8_col23, #T_d8295_row8_col25, #T_d8295_row8_col26, #T_d8295_row8_col28, #T_d8295_row19_col3, #T_d8295_row19_col5, #T_d8295_row19_col6, #T_d8295_row19_col10, #T_d8295_row19_col11, #T_d8295_row19_col12, #T_d8295_row19_col14, #T_d8295_row19_col15, #T_d8295_row19_col16, #T_d8295_row19_col17, #T_d8295_row19_col18, #T_d8295_row19_col21, #T_d8295_row19_col23, #T_d8295_row19_col25, #T_d8295_row19_col26, #T_d8295_row19_col28 {\n",
       "  background-color: #21918c;\n",
       "  color: #f1f1f1;\n",
       "}\n",
       "#T_d8295_row8_col8, #T_d8295_row8_col13, #T_d8295_row8_col20, #T_d8295_row8_col29, #T_d8295_row8_col30, #T_d8295_row19_col8, #T_d8295_row19_col13, #T_d8295_row19_col20, #T_d8295_row19_col29 {\n",
       "  background-color: #218e8d;\n",
       "  color: #f1f1f1;\n",
       "}\n",
       "#T_d8295_row8_col19, #T_d8295_row8_col22, #T_d8295_row19_col19, #T_d8295_row19_col22 {\n",
       "  background-color: #218f8d;\n",
       "  color: #f1f1f1;\n",
       "}\n",
       "#T_d8295_row9_col0, #T_d8295_row9_col1, #T_d8295_row9_col7, #T_d8295_row9_col14, #T_d8295_row16_col0, #T_d8295_row16_col1, #T_d8295_row16_col7, #T_d8295_row16_col14 {\n",
       "  background-color: #50c46a;\n",
       "  color: #000000;\n",
       "}\n",
       "#T_d8295_row9_col2, #T_d8295_row9_col13, #T_d8295_row9_col17, #T_d8295_row9_col20, #T_d8295_row9_col30, #T_d8295_row16_col13, #T_d8295_row16_col20, #T_d8295_row16_col30 {\n",
       "  background-color: #4ac16d;\n",
       "  color: #000000;\n",
       "}\n",
       "#T_d8295_row9_col3, #T_d8295_row9_col4, #T_d8295_row9_col19, #T_d8295_row9_col24, #T_d8295_row9_col25, #T_d8295_row9_col26, #T_d8295_row9_col28, #T_d8295_row16_col3, #T_d8295_row16_col4, #T_d8295_row16_col19, #T_d8295_row16_col24, #T_d8295_row16_col25, #T_d8295_row16_col26, #T_d8295_row16_col28 {\n",
       "  background-color: #4cc26c;\n",
       "  color: #000000;\n",
       "}\n",
       "#T_d8295_row9_col5, #T_d8295_row9_col9, #T_d8295_row9_col10, #T_d8295_row9_col11, #T_d8295_row9_col12, #T_d8295_row9_col16, #T_d8295_row9_col18, #T_d8295_row9_col23, #T_d8295_row9_col27, #T_d8295_row9_col29, #T_d8295_row16_col5, #T_d8295_row16_col6, #T_d8295_row16_col9, #T_d8295_row16_col10, #T_d8295_row16_col11, #T_d8295_row16_col12, #T_d8295_row16_col16, #T_d8295_row16_col18, #T_d8295_row16_col22, #T_d8295_row16_col23, #T_d8295_row16_col27, #T_d8295_row16_col29 {\n",
       "  background-color: #4ec36b;\n",
       "  color: #000000;\n",
       "}\n",
       "#T_d8295_row9_col6, #T_d8295_row17_col4, #T_d8295_row17_col9, #T_d8295_row17_col10, #T_d8295_row17_col11, #T_d8295_row17_col12, #T_d8295_row17_col24, #T_d8295_row17_col27, #T_d8295_row17_col29 {\n",
       "  background-color: #46c06f;\n",
       "  color: #f1f1f1;\n",
       "}\n",
       "#T_d8295_row9_col8, #T_d8295_row9_col21, #T_d8295_row9_col22, #T_d8295_row16_col8, #T_d8295_row16_col21, #T_d8295_row17_col0, #T_d8295_row17_col14, #T_d8295_row17_col23 {\n",
       "  background-color: #48c16e;\n",
       "  color: #f1f1f1;\n",
       "}\n",
       "#T_d8295_row9_col15, #T_d8295_row16_col2, #T_d8295_row16_col15, #T_d8295_row16_col17 {\n",
       "  background-color: #52c569;\n",
       "  color: #000000;\n",
       "}\n",
       "#T_d8295_row10_col0, #T_d8295_row10_col1, #T_d8295_row10_col2, #T_d8295_row10_col3, #T_d8295_row10_col4, #T_d8295_row10_col5, #T_d8295_row10_col6, #T_d8295_row10_col7, #T_d8295_row10_col8, #T_d8295_row10_col9, #T_d8295_row10_col10, #T_d8295_row10_col11, #T_d8295_row10_col12, #T_d8295_row10_col13, #T_d8295_row10_col14, #T_d8295_row10_col15, #T_d8295_row10_col16, #T_d8295_row10_col17, #T_d8295_row10_col18, #T_d8295_row10_col19, #T_d8295_row10_col20, #T_d8295_row10_col21, #T_d8295_row10_col22, #T_d8295_row10_col23, #T_d8295_row10_col24, #T_d8295_row10_col25, #T_d8295_row10_col26, #T_d8295_row10_col27, #T_d8295_row10_col28, #T_d8295_row10_col29, #T_d8295_row10_col30 {\n",
       "  background-color: #fde725;\n",
       "  color: #000000;\n",
       "}\n",
       "#T_d8295_row11_col0, #T_d8295_row11_col11, #T_d8295_row11_col15, #T_d8295_row12_col0, #T_d8295_row12_col10, #T_d8295_row12_col11, #T_d8295_row12_col12, #T_d8295_row12_col15, #T_d8295_row12_col17, #T_d8295_row12_col23, #T_d8295_row12_col24 {\n",
       "  background-color: #d8e219;\n",
       "  color: #000000;\n",
       "}\n",
       "#T_d8295_row11_col1, #T_d8295_row11_col9, #T_d8295_row11_col16, #T_d8295_row11_col26, #T_d8295_row11_col27, #T_d8295_row12_col3, #T_d8295_row12_col5, #T_d8295_row12_col9, #T_d8295_row12_col16, #T_d8295_row12_col20, #T_d8295_row12_col26, #T_d8295_row12_col27, #T_d8295_row12_col28 {\n",
       "  background-color: #d2e21b;\n",
       "  color: #000000;\n",
       "}\n",
       "#T_d8295_row11_col2, #T_d8295_row11_col14, #T_d8295_row11_col29, #T_d8295_row11_col30, #T_d8295_row12_col2, #T_d8295_row12_col4, #T_d8295_row12_col7, #T_d8295_row12_col13, #T_d8295_row12_col21, #T_d8295_row12_col25, #T_d8295_row12_col29, #T_d8295_row12_col30 {\n",
       "  background-color: #d5e21a;\n",
       "  color: #000000;\n",
       "}\n",
       "#T_d8295_row11_col3, #T_d8295_row11_col5, #T_d8295_row11_col13, #T_d8295_row11_col21 {\n",
       "  background-color: #cae11f;\n",
       "  color: #000000;\n",
       "}\n",
       "#T_d8295_row11_col4, #T_d8295_row11_col6, #T_d8295_row11_col8, #T_d8295_row11_col18, #T_d8295_row11_col19, #T_d8295_row11_col23, #T_d8295_row11_col24, #T_d8295_row12_col6, #T_d8295_row12_col8, #T_d8295_row12_col18, #T_d8295_row12_col19 {\n",
       "  background-color: #d0e11c;\n",
       "  color: #000000;\n",
       "}\n",
       "#T_d8295_row11_col7, #T_d8295_row11_col20, #T_d8295_row11_col28 {\n",
       "  background-color: #c8e020;\n",
       "  color: #000000;\n",
       "}\n",
       "#T_d8295_row11_col10, #T_d8295_row11_col12, #T_d8295_row11_col17, #T_d8295_row11_col22, #T_d8295_row11_col25, #T_d8295_row12_col22 {\n",
       "  background-color: #cde11d;\n",
       "  color: #000000;\n",
       "}\n",
       "#T_d8295_row12_col1 {\n",
       "  background-color: #dae319;\n",
       "  color: #000000;\n",
       "}\n",
       "#T_d8295_row12_col14 {\n",
       "  background-color: #dde318;\n",
       "  color: #000000;\n",
       "}\n",
       "#T_d8295_row13_col0, #T_d8295_row13_col9, #T_d8295_row13_col11, #T_d8295_row13_col14, #T_d8295_row13_col15 {\n",
       "  background-color: #c2df23;\n",
       "  color: #000000;\n",
       "}\n",
       "#T_d8295_row13_col1, #T_d8295_row13_col2, #T_d8295_row13_col16, #T_d8295_row13_col23, #T_d8295_row13_col30 {\n",
       "  background-color: #c0df25;\n",
       "  color: #000000;\n",
       "}\n",
       "#T_d8295_row13_col3, #T_d8295_row13_col4, #T_d8295_row13_col5, #T_d8295_row13_col6, #T_d8295_row13_col25 {\n",
       "  background-color: #bade28;\n",
       "  color: #000000;\n",
       "}\n",
       "#T_d8295_row13_col7, #T_d8295_row13_col8, #T_d8295_row13_col10, #T_d8295_row13_col12, #T_d8295_row13_col17, #T_d8295_row13_col26, #T_d8295_row13_col27 {\n",
       "  background-color: #b8de29;\n",
       "  color: #000000;\n",
       "}\n",
       "#T_d8295_row13_col13, #T_d8295_row13_col18, #T_d8295_row13_col19, #T_d8295_row13_col21 {\n",
       "  background-color: #b5de2b;\n",
       "  color: #000000;\n",
       "}\n",
       "#T_d8295_row13_col20 {\n",
       "  background-color: #b0dd2f;\n",
       "  color: #000000;\n",
       "}\n",
       "#T_d8295_row13_col22 {\n",
       "  background-color: #b2dd2d;\n",
       "  color: #000000;\n",
       "}\n",
       "#T_d8295_row13_col24, #T_d8295_row13_col28, #T_d8295_row13_col29 {\n",
       "  background-color: #bddf26;\n",
       "  color: #000000;\n",
       "}\n",
       "#T_d8295_row14_col0, #T_d8295_row14_col10, #T_d8295_row14_col11, #T_d8295_row14_col12, #T_d8295_row14_col16, #T_d8295_row14_col19, #T_d8295_row14_col20, #T_d8295_row14_col25 {\n",
       "  background-color: #98d83e;\n",
       "  color: #000000;\n",
       "}\n",
       "#T_d8295_row14_col1, #T_d8295_row14_col7, #T_d8295_row14_col15, #T_d8295_row14_col17, #T_d8295_row14_col22, #T_d8295_row14_col26, #T_d8295_row14_col28 {\n",
       "  background-color: #9bd93c;\n",
       "  color: #000000;\n",
       "}\n",
       "#T_d8295_row14_col2, #T_d8295_row14_col30 {\n",
       "  background-color: #a0da39;\n",
       "  color: #000000;\n",
       "}\n",
       "#T_d8295_row14_col3, #T_d8295_row14_col4, #T_d8295_row14_col5, #T_d8295_row14_col13, #T_d8295_row14_col18 {\n",
       "  background-color: #95d840;\n",
       "  color: #000000;\n",
       "}\n",
       "#T_d8295_row14_col6, #T_d8295_row14_col8, #T_d8295_row14_col21 {\n",
       "  background-color: #93d741;\n",
       "  color: #000000;\n",
       "}\n",
       "#T_d8295_row14_col9, #T_d8295_row14_col14, #T_d8295_row14_col23, #T_d8295_row14_col24, #T_d8295_row14_col27, #T_d8295_row14_col29 {\n",
       "  background-color: #9dd93b;\n",
       "  color: #000000;\n",
       "}\n",
       "#T_d8295_row15_col0, #T_d8295_row15_col3, #T_d8295_row15_col8, #T_d8295_row15_col10, #T_d8295_row15_col11, #T_d8295_row15_col12, #T_d8295_row15_col22, #T_d8295_row15_col25, #T_d8295_row15_col26, #T_d8295_row15_col28 {\n",
       "  background-color: #70cf57;\n",
       "  color: #000000;\n",
       "}\n",
       "#T_d8295_row15_col1, #T_d8295_row15_col2, #T_d8295_row15_col30 {\n",
       "  background-color: #77d153;\n",
       "  color: #000000;\n",
       "}\n",
       "#T_d8295_row15_col4, #T_d8295_row15_col5, #T_d8295_row15_col6, #T_d8295_row15_col13, #T_d8295_row15_col18, #T_d8295_row15_col20 {\n",
       "  background-color: #6ece58;\n",
       "  color: #000000;\n",
       "}\n",
       "#T_d8295_row15_col7, #T_d8295_row15_col9, #T_d8295_row15_col15, #T_d8295_row15_col17, #T_d8295_row15_col27, #T_d8295_row15_col29 {\n",
       "  background-color: #73d056;\n",
       "  color: #000000;\n",
       "}\n",
       "#T_d8295_row15_col14, #T_d8295_row15_col16, #T_d8295_row15_col23, #T_d8295_row15_col24 {\n",
       "  background-color: #75d054;\n",
       "  color: #000000;\n",
       "}\n",
       "#T_d8295_row15_col19, #T_d8295_row15_col21 {\n",
       "  background-color: #6ccd5a;\n",
       "  color: #000000;\n",
       "}\n",
       "#T_d8295_row17_col1, #T_d8295_row17_col2, #T_d8295_row17_col13, #T_d8295_row17_col15, #T_d8295_row17_col17, #T_d8295_row17_col22, #T_d8295_row17_col30 {\n",
       "  background-color: #42be71;\n",
       "  color: #f1f1f1;\n",
       "}\n",
       "#T_d8295_row17_col3, #T_d8295_row17_col16, #T_d8295_row17_col18, #T_d8295_row17_col20, #T_d8295_row17_col21, #T_d8295_row17_col25 {\n",
       "  background-color: #40bd72;\n",
       "  color: #f1f1f1;\n",
       "}\n",
       "#T_d8295_row17_col5, #T_d8295_row17_col7, #T_d8295_row17_col26, #T_d8295_row17_col28 {\n",
       "  background-color: #44bf70;\n",
       "  color: #f1f1f1;\n",
       "}\n",
       "#T_d8295_row17_col6, #T_d8295_row17_col8, #T_d8295_row17_col19 {\n",
       "  background-color: #3fbc73;\n",
       "  color: #f1f1f1;\n",
       "}\n",
       "#T_d8295_row18_col0, #T_d8295_row18_col1, #T_d8295_row18_col7, #T_d8295_row18_col9, #T_d8295_row18_col27 {\n",
       "  background-color: #25ac82;\n",
       "  color: #f1f1f1;\n",
       "}\n",
       "#T_d8295_row18_col2, #T_d8295_row18_col3, #T_d8295_row18_col5, #T_d8295_row18_col6, #T_d8295_row18_col13, #T_d8295_row18_col24, #T_d8295_row18_col25, #T_d8295_row18_col30 {\n",
       "  background-color: #23a983;\n",
       "  color: #f1f1f1;\n",
       "}\n",
       "#T_d8295_row18_col4, #T_d8295_row18_col10, #T_d8295_row18_col11, #T_d8295_row18_col12, #T_d8295_row18_col16, #T_d8295_row18_col18, #T_d8295_row18_col20, #T_d8295_row18_col21, #T_d8295_row18_col23 {\n",
       "  background-color: #25ab82;\n",
       "  color: #f1f1f1;\n",
       "}\n",
       "#T_d8295_row18_col8, #T_d8295_row18_col28 {\n",
       "  background-color: #22a884;\n",
       "  color: #f1f1f1;\n",
       "}\n",
       "#T_d8295_row18_col14 {\n",
       "  background-color: #26ad81;\n",
       "  color: #f1f1f1;\n",
       "}\n",
       "#T_d8295_row18_col15, #T_d8295_row18_col17, #T_d8295_row18_col19, #T_d8295_row18_col22, #T_d8295_row18_col26, #T_d8295_row18_col29 {\n",
       "  background-color: #24aa83;\n",
       "  color: #f1f1f1;\n",
       "}\n",
       "#T_d8295_row20_col0, #T_d8295_row20_col6, #T_d8295_row20_col19, #T_d8295_row20_col20, #T_d8295_row20_col21, #T_d8295_row20_col26 {\n",
       "  background-color: #30698e;\n",
       "  color: #f1f1f1;\n",
       "}\n",
       "#T_d8295_row20_col1, #T_d8295_row20_col3, #T_d8295_row20_col5, #T_d8295_row20_col14, #T_d8295_row20_col18, #T_d8295_row20_col22, #T_d8295_row20_col23 {\n",
       "  background-color: #306a8e;\n",
       "  color: #f1f1f1;\n",
       "}\n",
       "#T_d8295_row20_col2, #T_d8295_row20_col15, #T_d8295_row20_col17 {\n",
       "  background-color: #2f6c8e;\n",
       "  color: #f1f1f1;\n",
       "}\n",
       "#T_d8295_row20_col4, #T_d8295_row20_col8, #T_d8295_row20_col9, #T_d8295_row20_col10, #T_d8295_row20_col11, #T_d8295_row20_col12, #T_d8295_row20_col16, #T_d8295_row20_col24, #T_d8295_row20_col25, #T_d8295_row20_col27, #T_d8295_row20_col29 {\n",
       "  background-color: #2f6b8e;\n",
       "  color: #f1f1f1;\n",
       "}\n",
       "#T_d8295_row20_col7 {\n",
       "  background-color: #2e6f8e;\n",
       "  color: #f1f1f1;\n",
       "}\n",
       "#T_d8295_row20_col13, #T_d8295_row20_col28, #T_d8295_row20_col30 {\n",
       "  background-color: #31688e;\n",
       "  color: #f1f1f1;\n",
       "}\n",
       "#T_d8295_row21_col0, #T_d8295_row21_col8, #T_d8295_row21_col9, #T_d8295_row21_col26, #T_d8295_row21_col27, #T_d8295_row21_col28 {\n",
       "  background-color: #414487;\n",
       "  color: #f1f1f1;\n",
       "}\n",
       "#T_d8295_row21_col1, #T_d8295_row21_col3, #T_d8295_row21_col5, #T_d8295_row21_col16, #T_d8295_row21_col18, #T_d8295_row21_col21, #T_d8295_row21_col23, #T_d8295_row21_col25 {\n",
       "  background-color: #424186;\n",
       "  color: #f1f1f1;\n",
       "}\n",
       "#T_d8295_row21_col2, #T_d8295_row21_col10, #T_d8295_row21_col11, #T_d8295_row21_col12, #T_d8295_row21_col20, #T_d8295_row21_col30 {\n",
       "  background-color: #404588;\n",
       "  color: #f1f1f1;\n",
       "}\n",
       "#T_d8295_row21_col4, #T_d8295_row21_col6, #T_d8295_row21_col13, #T_d8295_row21_col22 {\n",
       "  background-color: #424086;\n",
       "  color: #f1f1f1;\n",
       "}\n",
       "#T_d8295_row21_col7 {\n",
       "  background-color: #3f4788;\n",
       "  color: #f1f1f1;\n",
       "}\n",
       "#T_d8295_row21_col14, #T_d8295_row21_col15, #T_d8295_row21_col17, #T_d8295_row21_col19, #T_d8295_row21_col24, #T_d8295_row21_col29 {\n",
       "  background-color: #414287;\n",
       "  color: #f1f1f1;\n",
       "}\n",
       "#T_d8295_row22_col1, #T_d8295_row22_col2, #T_d8295_row22_col4, #T_d8295_row22_col10, #T_d8295_row22_col11, #T_d8295_row22_col12, #T_d8295_row22_col13, #T_d8295_row22_col16, #T_d8295_row22_col18, #T_d8295_row22_col21, #T_d8295_row22_col23, #T_d8295_row22_col26, #T_d8295_row22_col30 {\n",
       "  background-color: #482374;\n",
       "  color: #f1f1f1;\n",
       "}\n",
       "#T_d8295_row22_col19, #T_d8295_row22_col24, #T_d8295_row22_col28, #T_d8295_row22_col29 {\n",
       "  background-color: #482475;\n",
       "  color: #f1f1f1;\n",
       "}\n",
       "#T_d8295_row22_col20 {\n",
       "  background-color: #482576;\n",
       "  color: #f1f1f1;\n",
       "}\n",
       "#T_d8295_row23_col6, #T_d8295_row23_col15, #T_d8295_row23_col17 {\n",
       "  background-color: #471164;\n",
       "  color: #f1f1f1;\n",
       "}\n",
       "#T_d8295_row23_col7 {\n",
       "  background-color: #48186a;\n",
       "  color: #f1f1f1;\n",
       "}\n",
       "</style>\n",
       "<table id=\"T_d8295_\">\n",
       "  <thead>\n",
       "    <tr>\n",
       "      <th class=\"blank level0\" >&nbsp;</th>\n",
       "      <th class=\"col_heading level0 col0\" >1</th>\n",
       "      <th class=\"col_heading level0 col1\" >2</th>\n",
       "      <th class=\"col_heading level0 col2\" >3</th>\n",
       "      <th class=\"col_heading level0 col3\" >4</th>\n",
       "      <th class=\"col_heading level0 col4\" >5</th>\n",
       "      <th class=\"col_heading level0 col5\" >6</th>\n",
       "      <th class=\"col_heading level0 col6\" >7</th>\n",
       "      <th class=\"col_heading level0 col7\" >8</th>\n",
       "      <th class=\"col_heading level0 col8\" >9</th>\n",
       "      <th class=\"col_heading level0 col9\" >10</th>\n",
       "      <th class=\"col_heading level0 col10\" >11</th>\n",
       "      <th class=\"col_heading level0 col11\" >12</th>\n",
       "      <th class=\"col_heading level0 col12\" >13</th>\n",
       "      <th class=\"col_heading level0 col13\" >14</th>\n",
       "      <th class=\"col_heading level0 col14\" >15</th>\n",
       "      <th class=\"col_heading level0 col15\" >16</th>\n",
       "      <th class=\"col_heading level0 col16\" >17</th>\n",
       "      <th class=\"col_heading level0 col17\" >18</th>\n",
       "      <th class=\"col_heading level0 col18\" >19</th>\n",
       "      <th class=\"col_heading level0 col19\" >20</th>\n",
       "      <th class=\"col_heading level0 col20\" >21</th>\n",
       "      <th class=\"col_heading level0 col21\" >22</th>\n",
       "      <th class=\"col_heading level0 col22\" >23</th>\n",
       "      <th class=\"col_heading level0 col23\" >24</th>\n",
       "      <th class=\"col_heading level0 col24\" >25</th>\n",
       "      <th class=\"col_heading level0 col25\" >26</th>\n",
       "      <th class=\"col_heading level0 col26\" >27</th>\n",
       "      <th class=\"col_heading level0 col27\" >28</th>\n",
       "      <th class=\"col_heading level0 col28\" >29</th>\n",
       "      <th class=\"col_heading level0 col29\" >30</th>\n",
       "      <th class=\"col_heading level0 col30\" >31</th>\n",
       "    </tr>\n",
       "  </thead>\n",
       "  <tbody>\n",
       "    <tr>\n",
       "      <th id=\"T_d8295_level0_row0\" class=\"row_heading level0 row0\" >0</th>\n",
       "      <td id=\"T_d8295_row0_col0\" class=\"data row0 col0\" >3</td>\n",
       "      <td id=\"T_d8295_row0_col1\" class=\"data row0 col1\" >3</td>\n",
       "      <td id=\"T_d8295_row0_col2\" class=\"data row0 col2\" >3</td>\n",
       "      <td id=\"T_d8295_row0_col3\" class=\"data row0 col3\" >3</td>\n",
       "      <td id=\"T_d8295_row0_col4\" class=\"data row0 col4\" >3</td>\n",
       "      <td id=\"T_d8295_row0_col5\" class=\"data row0 col5\" >4</td>\n",
       "      <td id=\"T_d8295_row0_col6\" class=\"data row0 col6\" >3</td>\n",
       "      <td id=\"T_d8295_row0_col7\" class=\"data row0 col7\" >2</td>\n",
       "      <td id=\"T_d8295_row0_col8\" class=\"data row0 col8\" >2</td>\n",
       "      <td id=\"T_d8295_row0_col9\" class=\"data row0 col9\" >3</td>\n",
       "      <td id=\"T_d8295_row0_col10\" class=\"data row0 col10\" >3</td>\n",
       "      <td id=\"T_d8295_row0_col11\" class=\"data row0 col11\" >3</td>\n",
       "      <td id=\"T_d8295_row0_col12\" class=\"data row0 col12\" >3</td>\n",
       "      <td id=\"T_d8295_row0_col13\" class=\"data row0 col13\" >3</td>\n",
       "      <td id=\"T_d8295_row0_col14\" class=\"data row0 col14\" >3</td>\n",
       "      <td id=\"T_d8295_row0_col15\" class=\"data row0 col15\" >3</td>\n",
       "      <td id=\"T_d8295_row0_col16\" class=\"data row0 col16\" >3</td>\n",
       "      <td id=\"T_d8295_row0_col17\" class=\"data row0 col17\" >3</td>\n",
       "      <td id=\"T_d8295_row0_col18\" class=\"data row0 col18\" >3</td>\n",
       "      <td id=\"T_d8295_row0_col19\" class=\"data row0 col19\" >3</td>\n",
       "      <td id=\"T_d8295_row0_col20\" class=\"data row0 col20\" >3</td>\n",
       "      <td id=\"T_d8295_row0_col21\" class=\"data row0 col21\" >3</td>\n",
       "      <td id=\"T_d8295_row0_col22\" class=\"data row0 col22\" >3</td>\n",
       "      <td id=\"T_d8295_row0_col23\" class=\"data row0 col23\" >3</td>\n",
       "      <td id=\"T_d8295_row0_col24\" class=\"data row0 col24\" >3</td>\n",
       "      <td id=\"T_d8295_row0_col25\" class=\"data row0 col25\" >3</td>\n",
       "      <td id=\"T_d8295_row0_col26\" class=\"data row0 col26\" >3</td>\n",
       "      <td id=\"T_d8295_row0_col27\" class=\"data row0 col27\" >3</td>\n",
       "      <td id=\"T_d8295_row0_col28\" class=\"data row0 col28\" >3</td>\n",
       "      <td id=\"T_d8295_row0_col29\" class=\"data row0 col29\" >3</td>\n",
       "      <td id=\"T_d8295_row0_col30\" class=\"data row0 col30\" >3</td>\n",
       "    </tr>\n",
       "    <tr>\n",
       "      <th id=\"T_d8295_level0_row1\" class=\"row_heading level0 row1\" >1</th>\n",
       "      <td id=\"T_d8295_row1_col0\" class=\"data row1 col0\" >2</td>\n",
       "      <td id=\"T_d8295_row1_col1\" class=\"data row1 col1\" >2</td>\n",
       "      <td id=\"T_d8295_row1_col2\" class=\"data row1 col2\" >2</td>\n",
       "      <td id=\"T_d8295_row1_col3\" class=\"data row1 col3\" >2</td>\n",
       "      <td id=\"T_d8295_row1_col4\" class=\"data row1 col4\" >2</td>\n",
       "      <td id=\"T_d8295_row1_col5\" class=\"data row1 col5\" >2</td>\n",
       "      <td id=\"T_d8295_row1_col6\" class=\"data row1 col6\" >2</td>\n",
       "      <td id=\"T_d8295_row1_col7\" class=\"data row1 col7\" >2</td>\n",
       "      <td id=\"T_d8295_row1_col8\" class=\"data row1 col8\" >2</td>\n",
       "      <td id=\"T_d8295_row1_col9\" class=\"data row1 col9\" >2</td>\n",
       "      <td id=\"T_d8295_row1_col10\" class=\"data row1 col10\" >2</td>\n",
       "      <td id=\"T_d8295_row1_col11\" class=\"data row1 col11\" >2</td>\n",
       "      <td id=\"T_d8295_row1_col12\" class=\"data row1 col12\" >2</td>\n",
       "      <td id=\"T_d8295_row1_col13\" class=\"data row1 col13\" >2</td>\n",
       "      <td id=\"T_d8295_row1_col14\" class=\"data row1 col14\" >2</td>\n",
       "      <td id=\"T_d8295_row1_col15\" class=\"data row1 col15\" >2</td>\n",
       "      <td id=\"T_d8295_row1_col16\" class=\"data row1 col16\" >2</td>\n",
       "      <td id=\"T_d8295_row1_col17\" class=\"data row1 col17\" >2</td>\n",
       "      <td id=\"T_d8295_row1_col18\" class=\"data row1 col18\" >2</td>\n",
       "      <td id=\"T_d8295_row1_col19\" class=\"data row1 col19\" >2</td>\n",
       "      <td id=\"T_d8295_row1_col20\" class=\"data row1 col20\" >2</td>\n",
       "      <td id=\"T_d8295_row1_col21\" class=\"data row1 col21\" >2</td>\n",
       "      <td id=\"T_d8295_row1_col22\" class=\"data row1 col22\" >2</td>\n",
       "      <td id=\"T_d8295_row1_col23\" class=\"data row1 col23\" >2</td>\n",
       "      <td id=\"T_d8295_row1_col24\" class=\"data row1 col24\" >2</td>\n",
       "      <td id=\"T_d8295_row1_col25\" class=\"data row1 col25\" >2</td>\n",
       "      <td id=\"T_d8295_row1_col26\" class=\"data row1 col26\" >2</td>\n",
       "      <td id=\"T_d8295_row1_col27\" class=\"data row1 col27\" >2</td>\n",
       "      <td id=\"T_d8295_row1_col28\" class=\"data row1 col28\" >2</td>\n",
       "      <td id=\"T_d8295_row1_col29\" class=\"data row1 col29\" >2</td>\n",
       "      <td id=\"T_d8295_row1_col30\" class=\"data row1 col30\" >2</td>\n",
       "    </tr>\n",
       "    <tr>\n",
       "      <th id=\"T_d8295_level0_row2\" class=\"row_heading level0 row2\" >2</th>\n",
       "      <td id=\"T_d8295_row2_col0\" class=\"data row2 col0\" >2</td>\n",
       "      <td id=\"T_d8295_row2_col1\" class=\"data row2 col1\" >2</td>\n",
       "      <td id=\"T_d8295_row2_col2\" class=\"data row2 col2\" >2</td>\n",
       "      <td id=\"T_d8295_row2_col3\" class=\"data row2 col3\" >2</td>\n",
       "      <td id=\"T_d8295_row2_col4\" class=\"data row2 col4\" >2</td>\n",
       "      <td id=\"T_d8295_row2_col5\" class=\"data row2 col5\" >2</td>\n",
       "      <td id=\"T_d8295_row2_col6\" class=\"data row2 col6\" >2</td>\n",
       "      <td id=\"T_d8295_row2_col7\" class=\"data row2 col7\" >1</td>\n",
       "      <td id=\"T_d8295_row2_col8\" class=\"data row2 col8\" >2</td>\n",
       "      <td id=\"T_d8295_row2_col9\" class=\"data row2 col9\" >2</td>\n",
       "      <td id=\"T_d8295_row2_col10\" class=\"data row2 col10\" >2</td>\n",
       "      <td id=\"T_d8295_row2_col11\" class=\"data row2 col11\" >2</td>\n",
       "      <td id=\"T_d8295_row2_col12\" class=\"data row2 col12\" >2</td>\n",
       "      <td id=\"T_d8295_row2_col13\" class=\"data row2 col13\" >2</td>\n",
       "      <td id=\"T_d8295_row2_col14\" class=\"data row2 col14\" >2</td>\n",
       "      <td id=\"T_d8295_row2_col15\" class=\"data row2 col15\" >2</td>\n",
       "      <td id=\"T_d8295_row2_col16\" class=\"data row2 col16\" >2</td>\n",
       "      <td id=\"T_d8295_row2_col17\" class=\"data row2 col17\" >2</td>\n",
       "      <td id=\"T_d8295_row2_col18\" class=\"data row2 col18\" >2</td>\n",
       "      <td id=\"T_d8295_row2_col19\" class=\"data row2 col19\" >2</td>\n",
       "      <td id=\"T_d8295_row2_col20\" class=\"data row2 col20\" >2</td>\n",
       "      <td id=\"T_d8295_row2_col21\" class=\"data row2 col21\" >2</td>\n",
       "      <td id=\"T_d8295_row2_col22\" class=\"data row2 col22\" >2</td>\n",
       "      <td id=\"T_d8295_row2_col23\" class=\"data row2 col23\" >2</td>\n",
       "      <td id=\"T_d8295_row2_col24\" class=\"data row2 col24\" >2</td>\n",
       "      <td id=\"T_d8295_row2_col25\" class=\"data row2 col25\" >2</td>\n",
       "      <td id=\"T_d8295_row2_col26\" class=\"data row2 col26\" >2</td>\n",
       "      <td id=\"T_d8295_row2_col27\" class=\"data row2 col27\" >2</td>\n",
       "      <td id=\"T_d8295_row2_col28\" class=\"data row2 col28\" >2</td>\n",
       "      <td id=\"T_d8295_row2_col29\" class=\"data row2 col29\" >2</td>\n",
       "      <td id=\"T_d8295_row2_col30\" class=\"data row2 col30\" >2</td>\n",
       "    </tr>\n",
       "    <tr>\n",
       "      <th id=\"T_d8295_level0_row3\" class=\"row_heading level0 row3\" >3</th>\n",
       "      <td id=\"T_d8295_row3_col0\" class=\"data row3 col0\" >2</td>\n",
       "      <td id=\"T_d8295_row3_col1\" class=\"data row3 col1\" >2</td>\n",
       "      <td id=\"T_d8295_row3_col2\" class=\"data row3 col2\" >2</td>\n",
       "      <td id=\"T_d8295_row3_col3\" class=\"data row3 col3\" >2</td>\n",
       "      <td id=\"T_d8295_row3_col4\" class=\"data row3 col4\" >2</td>\n",
       "      <td id=\"T_d8295_row3_col5\" class=\"data row3 col5\" >2</td>\n",
       "      <td id=\"T_d8295_row3_col6\" class=\"data row3 col6\" >2</td>\n",
       "      <td id=\"T_d8295_row3_col7\" class=\"data row3 col7\" >2</td>\n",
       "      <td id=\"T_d8295_row3_col8\" class=\"data row3 col8\" >2</td>\n",
       "      <td id=\"T_d8295_row3_col9\" class=\"data row3 col9\" >2</td>\n",
       "      <td id=\"T_d8295_row3_col10\" class=\"data row3 col10\" >2</td>\n",
       "      <td id=\"T_d8295_row3_col11\" class=\"data row3 col11\" >2</td>\n",
       "      <td id=\"T_d8295_row3_col12\" class=\"data row3 col12\" >2</td>\n",
       "      <td id=\"T_d8295_row3_col13\" class=\"data row3 col13\" >2</td>\n",
       "      <td id=\"T_d8295_row3_col14\" class=\"data row3 col14\" >2</td>\n",
       "      <td id=\"T_d8295_row3_col15\" class=\"data row3 col15\" >2</td>\n",
       "      <td id=\"T_d8295_row3_col16\" class=\"data row3 col16\" >2</td>\n",
       "      <td id=\"T_d8295_row3_col17\" class=\"data row3 col17\" >2</td>\n",
       "      <td id=\"T_d8295_row3_col18\" class=\"data row3 col18\" >2</td>\n",
       "      <td id=\"T_d8295_row3_col19\" class=\"data row3 col19\" >2</td>\n",
       "      <td id=\"T_d8295_row3_col20\" class=\"data row3 col20\" >2</td>\n",
       "      <td id=\"T_d8295_row3_col21\" class=\"data row3 col21\" >2</td>\n",
       "      <td id=\"T_d8295_row3_col22\" class=\"data row3 col22\" >2</td>\n",
       "      <td id=\"T_d8295_row3_col23\" class=\"data row3 col23\" >2</td>\n",
       "      <td id=\"T_d8295_row3_col24\" class=\"data row3 col24\" >2</td>\n",
       "      <td id=\"T_d8295_row3_col25\" class=\"data row3 col25\" >2</td>\n",
       "      <td id=\"T_d8295_row3_col26\" class=\"data row3 col26\" >2</td>\n",
       "      <td id=\"T_d8295_row3_col27\" class=\"data row3 col27\" >2</td>\n",
       "      <td id=\"T_d8295_row3_col28\" class=\"data row3 col28\" >2</td>\n",
       "      <td id=\"T_d8295_row3_col29\" class=\"data row3 col29\" >2</td>\n",
       "      <td id=\"T_d8295_row3_col30\" class=\"data row3 col30\" >2</td>\n",
       "    </tr>\n",
       "    <tr>\n",
       "      <th id=\"T_d8295_level0_row4\" class=\"row_heading level0 row4\" >4</th>\n",
       "      <td id=\"T_d8295_row4_col0\" class=\"data row4 col0\" >2</td>\n",
       "      <td id=\"T_d8295_row4_col1\" class=\"data row4 col1\" >3</td>\n",
       "      <td id=\"T_d8295_row4_col2\" class=\"data row4 col2\" >2</td>\n",
       "      <td id=\"T_d8295_row4_col3\" class=\"data row4 col3\" >3</td>\n",
       "      <td id=\"T_d8295_row4_col4\" class=\"data row4 col4\" >3</td>\n",
       "      <td id=\"T_d8295_row4_col5\" class=\"data row4 col5\" >3</td>\n",
       "      <td id=\"T_d8295_row4_col6\" class=\"data row4 col6\" >2</td>\n",
       "      <td id=\"T_d8295_row4_col7\" class=\"data row4 col7\" >2</td>\n",
       "      <td id=\"T_d8295_row4_col8\" class=\"data row4 col8\" >2</td>\n",
       "      <td id=\"T_d8295_row4_col9\" class=\"data row4 col9\" >3</td>\n",
       "      <td id=\"T_d8295_row4_col10\" class=\"data row4 col10\" >2</td>\n",
       "      <td id=\"T_d8295_row4_col11\" class=\"data row4 col11\" >2</td>\n",
       "      <td id=\"T_d8295_row4_col12\" class=\"data row4 col12\" >2</td>\n",
       "      <td id=\"T_d8295_row4_col13\" class=\"data row4 col13\" >2</td>\n",
       "      <td id=\"T_d8295_row4_col14\" class=\"data row4 col14\" >3</td>\n",
       "      <td id=\"T_d8295_row4_col15\" class=\"data row4 col15\" >2</td>\n",
       "      <td id=\"T_d8295_row4_col16\" class=\"data row4 col16\" >3</td>\n",
       "      <td id=\"T_d8295_row4_col17\" class=\"data row4 col17\" >2</td>\n",
       "      <td id=\"T_d8295_row4_col18\" class=\"data row4 col18\" >3</td>\n",
       "      <td id=\"T_d8295_row4_col19\" class=\"data row4 col19\" >3</td>\n",
       "      <td id=\"T_d8295_row4_col20\" class=\"data row4 col20\" >2</td>\n",
       "      <td id=\"T_d8295_row4_col21\" class=\"data row4 col21\" >2</td>\n",
       "      <td id=\"T_d8295_row4_col22\" class=\"data row4 col22\" >3</td>\n",
       "      <td id=\"T_d8295_row4_col23\" class=\"data row4 col23\" >3</td>\n",
       "      <td id=\"T_d8295_row4_col24\" class=\"data row4 col24\" >3</td>\n",
       "      <td id=\"T_d8295_row4_col25\" class=\"data row4 col25\" >3</td>\n",
       "      <td id=\"T_d8295_row4_col26\" class=\"data row4 col26\" >3</td>\n",
       "      <td id=\"T_d8295_row4_col27\" class=\"data row4 col27\" >3</td>\n",
       "      <td id=\"T_d8295_row4_col28\" class=\"data row4 col28\" >2</td>\n",
       "      <td id=\"T_d8295_row4_col29\" class=\"data row4 col29\" >2</td>\n",
       "      <td id=\"T_d8295_row4_col30\" class=\"data row4 col30\" >2</td>\n",
       "    </tr>\n",
       "    <tr>\n",
       "      <th id=\"T_d8295_level0_row5\" class=\"row_heading level0 row5\" >5</th>\n",
       "      <td id=\"T_d8295_row5_col0\" class=\"data row5 col0\" >4</td>\n",
       "      <td id=\"T_d8295_row5_col1\" class=\"data row5 col1\" >5</td>\n",
       "      <td id=\"T_d8295_row5_col2\" class=\"data row5 col2\" >4</td>\n",
       "      <td id=\"T_d8295_row5_col3\" class=\"data row5 col3\" >5</td>\n",
       "      <td id=\"T_d8295_row5_col4\" class=\"data row5 col4\" >6</td>\n",
       "      <td id=\"T_d8295_row5_col5\" class=\"data row5 col5\" >6</td>\n",
       "      <td id=\"T_d8295_row5_col6\" class=\"data row5 col6\" >4</td>\n",
       "      <td id=\"T_d8295_row5_col7\" class=\"data row5 col7\" >3</td>\n",
       "      <td id=\"T_d8295_row5_col8\" class=\"data row5 col8\" >4</td>\n",
       "      <td id=\"T_d8295_row5_col9\" class=\"data row5 col9\" >5</td>\n",
       "      <td id=\"T_d8295_row5_col10\" class=\"data row5 col10\" >4</td>\n",
       "      <td id=\"T_d8295_row5_col11\" class=\"data row5 col11\" >4</td>\n",
       "      <td id=\"T_d8295_row5_col12\" class=\"data row5 col12\" >4</td>\n",
       "      <td id=\"T_d8295_row5_col13\" class=\"data row5 col13\" >4</td>\n",
       "      <td id=\"T_d8295_row5_col14\" class=\"data row5 col14\" >5</td>\n",
       "      <td id=\"T_d8295_row5_col15\" class=\"data row5 col15\" >4</td>\n",
       "      <td id=\"T_d8295_row5_col16\" class=\"data row5 col16\" >5</td>\n",
       "      <td id=\"T_d8295_row5_col17\" class=\"data row5 col17\" >4</td>\n",
       "      <td id=\"T_d8295_row5_col18\" class=\"data row5 col18\" >5</td>\n",
       "      <td id=\"T_d8295_row5_col19\" class=\"data row5 col19\" >5</td>\n",
       "      <td id=\"T_d8295_row5_col20\" class=\"data row5 col20\" >4</td>\n",
       "      <td id=\"T_d8295_row5_col21\" class=\"data row5 col21\" >4</td>\n",
       "      <td id=\"T_d8295_row5_col22\" class=\"data row5 col22\" >5</td>\n",
       "      <td id=\"T_d8295_row5_col23\" class=\"data row5 col23\" >5</td>\n",
       "      <td id=\"T_d8295_row5_col24\" class=\"data row5 col24\" >5</td>\n",
       "      <td id=\"T_d8295_row5_col25\" class=\"data row5 col25\" >5</td>\n",
       "      <td id=\"T_d8295_row5_col26\" class=\"data row5 col26\" >5</td>\n",
       "      <td id=\"T_d8295_row5_col27\" class=\"data row5 col27\" >5</td>\n",
       "      <td id=\"T_d8295_row5_col28\" class=\"data row5 col28\" >4</td>\n",
       "      <td id=\"T_d8295_row5_col29\" class=\"data row5 col29\" >4</td>\n",
       "      <td id=\"T_d8295_row5_col30\" class=\"data row5 col30\" >4</td>\n",
       "    </tr>\n",
       "    <tr>\n",
       "      <th id=\"T_d8295_level0_row6\" class=\"row_heading level0 row6\" >6</th>\n",
       "      <td id=\"T_d8295_row6_col0\" class=\"data row6 col0\" >7</td>\n",
       "      <td id=\"T_d8295_row6_col1\" class=\"data row6 col1\" >8</td>\n",
       "      <td id=\"T_d8295_row6_col2\" class=\"data row6 col2\" >7</td>\n",
       "      <td id=\"T_d8295_row6_col3\" class=\"data row6 col3\" >9</td>\n",
       "      <td id=\"T_d8295_row6_col4\" class=\"data row6 col4\" >10</td>\n",
       "      <td id=\"T_d8295_row6_col5\" class=\"data row6 col5\" >11</td>\n",
       "      <td id=\"T_d8295_row6_col6\" class=\"data row6 col6\" >8</td>\n",
       "      <td id=\"T_d8295_row6_col7\" class=\"data row6 col7\" >6</td>\n",
       "      <td id=\"T_d8295_row6_col8\" class=\"data row6 col8\" >7</td>\n",
       "      <td id=\"T_d8295_row6_col9\" class=\"data row6 col9\" >8</td>\n",
       "      <td id=\"T_d8295_row6_col10\" class=\"data row6 col10\" >7</td>\n",
       "      <td id=\"T_d8295_row6_col11\" class=\"data row6 col11\" >7</td>\n",
       "      <td id=\"T_d8295_row6_col12\" class=\"data row6 col12\" >7</td>\n",
       "      <td id=\"T_d8295_row6_col13\" class=\"data row6 col13\" >7</td>\n",
       "      <td id=\"T_d8295_row6_col14\" class=\"data row6 col14\" >8</td>\n",
       "      <td id=\"T_d8295_row6_col15\" class=\"data row6 col15\" >8</td>\n",
       "      <td id=\"T_d8295_row6_col16\" class=\"data row6 col16\" >8</td>\n",
       "      <td id=\"T_d8295_row6_col17\" class=\"data row6 col17\" >8</td>\n",
       "      <td id=\"T_d8295_row6_col18\" class=\"data row6 col18\" >9</td>\n",
       "      <td id=\"T_d8295_row6_col19\" class=\"data row6 col19\" >8</td>\n",
       "      <td id=\"T_d8295_row6_col20\" class=\"data row6 col20\" >7</td>\n",
       "      <td id=\"T_d8295_row6_col21\" class=\"data row6 col21\" >7</td>\n",
       "      <td id=\"T_d8295_row6_col22\" class=\"data row6 col22\" >9</td>\n",
       "      <td id=\"T_d8295_row6_col23\" class=\"data row6 col23\" >9</td>\n",
       "      <td id=\"T_d8295_row6_col24\" class=\"data row6 col24\" >9</td>\n",
       "      <td id=\"T_d8295_row6_col25\" class=\"data row6 col25\" >8</td>\n",
       "      <td id=\"T_d8295_row6_col26\" class=\"data row6 col26\" >8</td>\n",
       "      <td id=\"T_d8295_row6_col27\" class=\"data row6 col27\" >8</td>\n",
       "      <td id=\"T_d8295_row6_col28\" class=\"data row6 col28\" >7</td>\n",
       "      <td id=\"T_d8295_row6_col29\" class=\"data row6 col29\" >7</td>\n",
       "      <td id=\"T_d8295_row6_col30\" class=\"data row6 col30\" >7</td>\n",
       "    </tr>\n",
       "    <tr>\n",
       "      <th id=\"T_d8295_level0_row7\" class=\"row_heading level0 row7\" >7</th>\n",
       "      <td id=\"T_d8295_row7_col0\" class=\"data row7 col0\" >17</td>\n",
       "      <td id=\"T_d8295_row7_col1\" class=\"data row7 col1\" >19</td>\n",
       "      <td id=\"T_d8295_row7_col2\" class=\"data row7 col2\" >17</td>\n",
       "      <td id=\"T_d8295_row7_col3\" class=\"data row7 col3\" >22</td>\n",
       "      <td id=\"T_d8295_row7_col4\" class=\"data row7 col4\" >24</td>\n",
       "      <td id=\"T_d8295_row7_col5\" class=\"data row7 col5\" >28</td>\n",
       "      <td id=\"T_d8295_row7_col6\" class=\"data row7 col6\" >18</td>\n",
       "      <td id=\"T_d8295_row7_col7\" class=\"data row7 col7\" >13</td>\n",
       "      <td id=\"T_d8295_row7_col8\" class=\"data row7 col8\" >15</td>\n",
       "      <td id=\"T_d8295_row7_col9\" class=\"data row7 col9\" >19</td>\n",
       "      <td id=\"T_d8295_row7_col10\" class=\"data row7 col10\" >17</td>\n",
       "      <td id=\"T_d8295_row7_col11\" class=\"data row7 col11\" >17</td>\n",
       "      <td id=\"T_d8295_row7_col12\" class=\"data row7 col12\" >17</td>\n",
       "      <td id=\"T_d8295_row7_col13\" class=\"data row7 col13\" >17</td>\n",
       "      <td id=\"T_d8295_row7_col14\" class=\"data row7 col14\" >19</td>\n",
       "      <td id=\"T_d8295_row7_col15\" class=\"data row7 col15\" >17</td>\n",
       "      <td id=\"T_d8295_row7_col16\" class=\"data row7 col16\" >19</td>\n",
       "      <td id=\"T_d8295_row7_col17\" class=\"data row7 col17\" >17</td>\n",
       "      <td id=\"T_d8295_row7_col18\" class=\"data row7 col18\" >21</td>\n",
       "      <td id=\"T_d8295_row7_col19\" class=\"data row7 col19\" >18</td>\n",
       "      <td id=\"T_d8295_row7_col20\" class=\"data row7 col20\" >16</td>\n",
       "      <td id=\"T_d8295_row7_col21\" class=\"data row7 col21\" >16</td>\n",
       "      <td id=\"T_d8295_row7_col22\" class=\"data row7 col22\" >20</td>\n",
       "      <td id=\"T_d8295_row7_col23\" class=\"data row7 col23\" >21</td>\n",
       "      <td id=\"T_d8295_row7_col24\" class=\"data row7 col24\" >21</td>\n",
       "      <td id=\"T_d8295_row7_col25\" class=\"data row7 col25\" >20</td>\n",
       "      <td id=\"T_d8295_row7_col26\" class=\"data row7 col26\" >19</td>\n",
       "      <td id=\"T_d8295_row7_col27\" class=\"data row7 col27\" >19</td>\n",
       "      <td id=\"T_d8295_row7_col28\" class=\"data row7 col28\" >16</td>\n",
       "      <td id=\"T_d8295_row7_col29\" class=\"data row7 col29\" >16</td>\n",
       "      <td id=\"T_d8295_row7_col30\" class=\"data row7 col30\" >17</td>\n",
       "    </tr>\n",
       "    <tr>\n",
       "      <th id=\"T_d8295_level0_row8\" class=\"row_heading level0 row8\" >8</th>\n",
       "      <td id=\"T_d8295_row8_col0\" class=\"data row8 col0\" >35</td>\n",
       "      <td id=\"T_d8295_row8_col1\" class=\"data row8 col1\" >39</td>\n",
       "      <td id=\"T_d8295_row8_col2\" class=\"data row8 col2\" >34</td>\n",
       "      <td id=\"T_d8295_row8_col3\" class=\"data row8 col3\" >46</td>\n",
       "      <td id=\"T_d8295_row8_col4\" class=\"data row8 col4\" >50</td>\n",
       "      <td id=\"T_d8295_row8_col5\" class=\"data row8 col5\" >59</td>\n",
       "      <td id=\"T_d8295_row8_col6\" class=\"data row8 col6\" >36</td>\n",
       "      <td id=\"T_d8295_row8_col7\" class=\"data row8 col7\" >25</td>\n",
       "      <td id=\"T_d8295_row8_col8\" class=\"data row8 col8\" >29</td>\n",
       "      <td id=\"T_d8295_row8_col9\" class=\"data row8 col9\" >40</td>\n",
       "      <td id=\"T_d8295_row8_col10\" class=\"data row8 col10\" >34</td>\n",
       "      <td id=\"T_d8295_row8_col11\" class=\"data row8 col11\" >34</td>\n",
       "      <td id=\"T_d8295_row8_col12\" class=\"data row8 col12\" >34</td>\n",
       "      <td id=\"T_d8295_row8_col13\" class=\"data row8 col13\" >33</td>\n",
       "      <td id=\"T_d8295_row8_col14\" class=\"data row8 col14\" >40</td>\n",
       "      <td id=\"T_d8295_row8_col15\" class=\"data row8 col15\" >35</td>\n",
       "      <td id=\"T_d8295_row8_col16\" class=\"data row8 col16\" >38</td>\n",
       "      <td id=\"T_d8295_row8_col17\" class=\"data row8 col17\" >35</td>\n",
       "      <td id=\"T_d8295_row8_col18\" class=\"data row8 col18\" >43</td>\n",
       "      <td id=\"T_d8295_row8_col19\" class=\"data row8 col19\" >37</td>\n",
       "      <td id=\"T_d8295_row8_col20\" class=\"data row8 col20\" >31</td>\n",
       "      <td id=\"T_d8295_row8_col21\" class=\"data row8 col21\" >33</td>\n",
       "      <td id=\"T_d8295_row8_col22\" class=\"data row8 col22\" >41</td>\n",
       "      <td id=\"T_d8295_row8_col23\" class=\"data row8 col23\" >43</td>\n",
       "      <td id=\"T_d8295_row8_col24\" class=\"data row8 col24\" >43</td>\n",
       "      <td id=\"T_d8295_row8_col25\" class=\"data row8 col25\" >41</td>\n",
       "      <td id=\"T_d8295_row8_col26\" class=\"data row8 col26\" >39</td>\n",
       "      <td id=\"T_d8295_row8_col27\" class=\"data row8 col27\" >40</td>\n",
       "      <td id=\"T_d8295_row8_col28\" class=\"data row8 col28\" >32</td>\n",
       "      <td id=\"T_d8295_row8_col29\" class=\"data row8 col29\" >32</td>\n",
       "      <td id=\"T_d8295_row8_col30\" class=\"data row8 col30\" >33</td>\n",
       "    </tr>\n",
       "    <tr>\n",
       "      <th id=\"T_d8295_level0_row9\" class=\"row_heading level0 row9\" >9</th>\n",
       "      <td id=\"T_d8295_row9_col0\" class=\"data row9 col0\" >49</td>\n",
       "      <td id=\"T_d8295_row9_col1\" class=\"data row9 col1\" >55</td>\n",
       "      <td id=\"T_d8295_row9_col2\" class=\"data row9 col2\" >47</td>\n",
       "      <td id=\"T_d8295_row9_col3\" class=\"data row9 col3\" >65</td>\n",
       "      <td id=\"T_d8295_row9_col4\" class=\"data row9 col4\" >70</td>\n",
       "      <td id=\"T_d8295_row9_col5\" class=\"data row9 col5\" >84</td>\n",
       "      <td id=\"T_d8295_row9_col6\" class=\"data row9 col6\" >50</td>\n",
       "      <td id=\"T_d8295_row9_col7\" class=\"data row9 col7\" >35</td>\n",
       "      <td id=\"T_d8295_row9_col8\" class=\"data row9 col8\" >41</td>\n",
       "      <td id=\"T_d8295_row9_col9\" class=\"data row9 col9\" >56</td>\n",
       "      <td id=\"T_d8295_row9_col10\" class=\"data row9 col10\" >48</td>\n",
       "      <td id=\"T_d8295_row9_col11\" class=\"data row9 col11\" >48</td>\n",
       "      <td id=\"T_d8295_row9_col12\" class=\"data row9 col12\" >48</td>\n",
       "      <td id=\"T_d8295_row9_col13\" class=\"data row9 col13\" >47</td>\n",
       "      <td id=\"T_d8295_row9_col14\" class=\"data row9 col14\" >57</td>\n",
       "      <td id=\"T_d8295_row9_col15\" class=\"data row9 col15\" >50</td>\n",
       "      <td id=\"T_d8295_row9_col16\" class=\"data row9 col16\" >54</td>\n",
       "      <td id=\"T_d8295_row9_col17\" class=\"data row9 col17\" >49</td>\n",
       "      <td id=\"T_d8295_row9_col18\" class=\"data row9 col18\" >61</td>\n",
       "      <td id=\"T_d8295_row9_col19\" class=\"data row9 col19\" >53</td>\n",
       "      <td id=\"T_d8295_row9_col20\" class=\"data row9 col20\" >44</td>\n",
       "      <td id=\"T_d8295_row9_col21\" class=\"data row9 col21\" >46</td>\n",
       "      <td id=\"T_d8295_row9_col22\" class=\"data row9 col22\" >58</td>\n",
       "      <td id=\"T_d8295_row9_col23\" class=\"data row9 col23\" >61</td>\n",
       "      <td id=\"T_d8295_row9_col24\" class=\"data row9 col24\" >60</td>\n",
       "      <td id=\"T_d8295_row9_col25\" class=\"data row9 col25\" >58</td>\n",
       "      <td id=\"T_d8295_row9_col26\" class=\"data row9 col26\" >55</td>\n",
       "      <td id=\"T_d8295_row9_col27\" class=\"data row9 col27\" >56</td>\n",
       "      <td id=\"T_d8295_row9_col28\" class=\"data row9 col28\" >45</td>\n",
       "      <td id=\"T_d8295_row9_col29\" class=\"data row9 col29\" >46</td>\n",
       "      <td id=\"T_d8295_row9_col30\" class=\"data row9 col30\" >47</td>\n",
       "    </tr>\n",
       "    <tr>\n",
       "      <th id=\"T_d8295_level0_row10\" class=\"row_heading level0 row10\" >10</th>\n",
       "      <td id=\"T_d8295_row10_col0\" class=\"data row10 col0\" >67</td>\n",
       "      <td id=\"T_d8295_row10_col1\" class=\"data row10 col1\" >75</td>\n",
       "      <td id=\"T_d8295_row10_col2\" class=\"data row10 col2\" >65</td>\n",
       "      <td id=\"T_d8295_row10_col3\" class=\"data row10 col3\" >90</td>\n",
       "      <td id=\"T_d8295_row10_col4\" class=\"data row10 col4\" >97</td>\n",
       "      <td id=\"T_d8295_row10_col5\" class=\"data row10 col5\" >116</td>\n",
       "      <td id=\"T_d8295_row10_col6\" class=\"data row10 col6\" >70</td>\n",
       "      <td id=\"T_d8295_row10_col7\" class=\"data row10 col7\" >48</td>\n",
       "      <td id=\"T_d8295_row10_col8\" class=\"data row10 col8\" >57</td>\n",
       "      <td id=\"T_d8295_row10_col9\" class=\"data row10 col9\" >77</td>\n",
       "      <td id=\"T_d8295_row10_col10\" class=\"data row10 col10\" >66</td>\n",
       "      <td id=\"T_d8295_row10_col11\" class=\"data row10 col11\" >66</td>\n",
       "      <td id=\"T_d8295_row10_col12\" class=\"data row10 col12\" >66</td>\n",
       "      <td id=\"T_d8295_row10_col13\" class=\"data row10 col13\" >65</td>\n",
       "      <td id=\"T_d8295_row10_col14\" class=\"data row10 col14\" >78</td>\n",
       "      <td id=\"T_d8295_row10_col15\" class=\"data row10 col15\" >68</td>\n",
       "      <td id=\"T_d8295_row10_col16\" class=\"data row10 col16\" >74</td>\n",
       "      <td id=\"T_d8295_row10_col17\" class=\"data row10 col17\" >68</td>\n",
       "      <td id=\"T_d8295_row10_col18\" class=\"data row10 col18\" >84</td>\n",
       "      <td id=\"T_d8295_row10_col19\" class=\"data row10 col19\" >73</td>\n",
       "      <td id=\"T_d8295_row10_col20\" class=\"data row10 col20\" >61</td>\n",
       "      <td id=\"T_d8295_row10_col21\" class=\"data row10 col21\" >64</td>\n",
       "      <td id=\"T_d8295_row10_col22\" class=\"data row10 col22\" >81</td>\n",
       "      <td id=\"T_d8295_row10_col23\" class=\"data row10 col23\" >84</td>\n",
       "      <td id=\"T_d8295_row10_col24\" class=\"data row10 col24\" >83</td>\n",
       "      <td id=\"T_d8295_row10_col25\" class=\"data row10 col25\" >80</td>\n",
       "      <td id=\"T_d8295_row10_col26\" class=\"data row10 col26\" >76</td>\n",
       "      <td id=\"T_d8295_row10_col27\" class=\"data row10 col27\" >77</td>\n",
       "      <td id=\"T_d8295_row10_col28\" class=\"data row10 col28\" >62</td>\n",
       "      <td id=\"T_d8295_row10_col29\" class=\"data row10 col29\" >63</td>\n",
       "      <td id=\"T_d8295_row10_col30\" class=\"data row10 col30\" >65</td>\n",
       "    </tr>\n",
       "    <tr>\n",
       "      <th id=\"T_d8295_level0_row11\" class=\"row_heading level0 row11\" >11</th>\n",
       "      <td id=\"T_d8295_row11_col0\" class=\"data row11 col0\" >63</td>\n",
       "      <td id=\"T_d8295_row11_col1\" class=\"data row11 col1\" >70</td>\n",
       "      <td id=\"T_d8295_row11_col2\" class=\"data row11 col2\" >61</td>\n",
       "      <td id=\"T_d8295_row11_col3\" class=\"data row11 col3\" >83</td>\n",
       "      <td id=\"T_d8295_row11_col4\" class=\"data row11 col4\" >90</td>\n",
       "      <td id=\"T_d8295_row11_col5\" class=\"data row11 col5\" >107</td>\n",
       "      <td id=\"T_d8295_row11_col6\" class=\"data row11 col6\" >65</td>\n",
       "      <td id=\"T_d8295_row11_col7\" class=\"data row11 col7\" >44</td>\n",
       "      <td id=\"T_d8295_row11_col8\" class=\"data row11 col8\" >53</td>\n",
       "      <td id=\"T_d8295_row11_col9\" class=\"data row11 col9\" >72</td>\n",
       "      <td id=\"T_d8295_row11_col10\" class=\"data row11 col10\" >61</td>\n",
       "      <td id=\"T_d8295_row11_col11\" class=\"data row11 col11\" >62</td>\n",
       "      <td id=\"T_d8295_row11_col12\" class=\"data row11 col12\" >61</td>\n",
       "      <td id=\"T_d8295_row11_col13\" class=\"data row11 col13\" >60</td>\n",
       "      <td id=\"T_d8295_row11_col14\" class=\"data row11 col14\" >73</td>\n",
       "      <td id=\"T_d8295_row11_col15\" class=\"data row11 col15\" >64</td>\n",
       "      <td id=\"T_d8295_row11_col16\" class=\"data row11 col16\" >69</td>\n",
       "      <td id=\"T_d8295_row11_col17\" class=\"data row11 col17\" >63</td>\n",
       "      <td id=\"T_d8295_row11_col18\" class=\"data row11 col18\" >78</td>\n",
       "      <td id=\"T_d8295_row11_col19\" class=\"data row11 col19\" >68</td>\n",
       "      <td id=\"T_d8295_row11_col20\" class=\"data row11 col20\" >56</td>\n",
       "      <td id=\"T_d8295_row11_col21\" class=\"data row11 col21\" >59</td>\n",
       "      <td id=\"T_d8295_row11_col22\" class=\"data row11 col22\" >75</td>\n",
       "      <td id=\"T_d8295_row11_col23\" class=\"data row11 col23\" >78</td>\n",
       "      <td id=\"T_d8295_row11_col24\" class=\"data row11 col24\" >77</td>\n",
       "      <td id=\"T_d8295_row11_col25\" class=\"data row11 col25\" >74</td>\n",
       "      <td id=\"T_d8295_row11_col26\" class=\"data row11 col26\" >71</td>\n",
       "      <td id=\"T_d8295_row11_col27\" class=\"data row11 col27\" >72</td>\n",
       "      <td id=\"T_d8295_row11_col28\" class=\"data row11 col28\" >57</td>\n",
       "      <td id=\"T_d8295_row11_col29\" class=\"data row11 col29\" >59</td>\n",
       "      <td id=\"T_d8295_row11_col30\" class=\"data row11 col30\" >61</td>\n",
       "    </tr>\n",
       "    <tr>\n",
       "      <th id=\"T_d8295_level0_row12\" class=\"row_heading level0 row12\" >12</th>\n",
       "      <td id=\"T_d8295_row12_col0\" class=\"data row12 col0\" >63</td>\n",
       "      <td id=\"T_d8295_row12_col1\" class=\"data row12 col1\" >71</td>\n",
       "      <td id=\"T_d8295_row12_col2\" class=\"data row12 col2\" >61</td>\n",
       "      <td id=\"T_d8295_row12_col3\" class=\"data row12 col3\" >84</td>\n",
       "      <td id=\"T_d8295_row12_col4\" class=\"data row12 col4\" >91</td>\n",
       "      <td id=\"T_d8295_row12_col5\" class=\"data row12 col5\" >108</td>\n",
       "      <td id=\"T_d8295_row12_col6\" class=\"data row12 col6\" >65</td>\n",
       "      <td id=\"T_d8295_row12_col7\" class=\"data row12 col7\" >45</td>\n",
       "      <td id=\"T_d8295_row12_col8\" class=\"data row12 col8\" >53</td>\n",
       "      <td id=\"T_d8295_row12_col9\" class=\"data row12 col9\" >72</td>\n",
       "      <td id=\"T_d8295_row12_col10\" class=\"data row12 col10\" >62</td>\n",
       "      <td id=\"T_d8295_row12_col11\" class=\"data row12 col11\" >62</td>\n",
       "      <td id=\"T_d8295_row12_col12\" class=\"data row12 col12\" >62</td>\n",
       "      <td id=\"T_d8295_row12_col13\" class=\"data row12 col13\" >61</td>\n",
       "      <td id=\"T_d8295_row12_col14\" class=\"data row12 col14\" >74</td>\n",
       "      <td id=\"T_d8295_row12_col15\" class=\"data row12 col15\" >64</td>\n",
       "      <td id=\"T_d8295_row12_col16\" class=\"data row12 col16\" >69</td>\n",
       "      <td id=\"T_d8295_row12_col17\" class=\"data row12 col17\" >64</td>\n",
       "      <td id=\"T_d8295_row12_col18\" class=\"data row12 col18\" >78</td>\n",
       "      <td id=\"T_d8295_row12_col19\" class=\"data row12 col19\" >68</td>\n",
       "      <td id=\"T_d8295_row12_col20\" class=\"data row12 col20\" >57</td>\n",
       "      <td id=\"T_d8295_row12_col21\" class=\"data row12 col21\" >60</td>\n",
       "      <td id=\"T_d8295_row12_col22\" class=\"data row12 col22\" >75</td>\n",
       "      <td id=\"T_d8295_row12_col23\" class=\"data row12 col23\" >79</td>\n",
       "      <td id=\"T_d8295_row12_col24\" class=\"data row12 col24\" >78</td>\n",
       "      <td id=\"T_d8295_row12_col25\" class=\"data row12 col25\" >75</td>\n",
       "      <td id=\"T_d8295_row12_col26\" class=\"data row12 col26\" >71</td>\n",
       "      <td id=\"T_d8295_row12_col27\" class=\"data row12 col27\" >72</td>\n",
       "      <td id=\"T_d8295_row12_col28\" class=\"data row12 col28\" >58</td>\n",
       "      <td id=\"T_d8295_row12_col29\" class=\"data row12 col29\" >59</td>\n",
       "      <td id=\"T_d8295_row12_col30\" class=\"data row12 col30\" >61</td>\n",
       "    </tr>\n",
       "    <tr>\n",
       "      <th id=\"T_d8295_level0_row13\" class=\"row_heading level0 row13\" >13</th>\n",
       "      <td id=\"T_d8295_row13_col0\" class=\"data row13 col0\" >61</td>\n",
       "      <td id=\"T_d8295_row13_col1\" class=\"data row13 col1\" >68</td>\n",
       "      <td id=\"T_d8295_row13_col2\" class=\"data row13 col2\" >59</td>\n",
       "      <td id=\"T_d8295_row13_col3\" class=\"data row13 col3\" >81</td>\n",
       "      <td id=\"T_d8295_row13_col4\" class=\"data row13 col4\" >87</td>\n",
       "      <td id=\"T_d8295_row13_col5\" class=\"data row13 col5\" >104</td>\n",
       "      <td id=\"T_d8295_row13_col6\" class=\"data row13 col6\" >63</td>\n",
       "      <td id=\"T_d8295_row13_col7\" class=\"data row13 col7\" >43</td>\n",
       "      <td id=\"T_d8295_row13_col8\" class=\"data row13 col8\" >51</td>\n",
       "      <td id=\"T_d8295_row13_col9\" class=\"data row13 col9\" >70</td>\n",
       "      <td id=\"T_d8295_row13_col10\" class=\"data row13 col10\" >59</td>\n",
       "      <td id=\"T_d8295_row13_col11\" class=\"data row13 col11\" >60</td>\n",
       "      <td id=\"T_d8295_row13_col12\" class=\"data row13 col12\" >59</td>\n",
       "      <td id=\"T_d8295_row13_col13\" class=\"data row13 col13\" >58</td>\n",
       "      <td id=\"T_d8295_row13_col14\" class=\"data row13 col14\" >71</td>\n",
       "      <td id=\"T_d8295_row13_col15\" class=\"data row13 col15\" >62</td>\n",
       "      <td id=\"T_d8295_row13_col16\" class=\"data row13 col16\" >67</td>\n",
       "      <td id=\"T_d8295_row13_col17\" class=\"data row13 col17\" >61</td>\n",
       "      <td id=\"T_d8295_row13_col18\" class=\"data row13 col18\" >75</td>\n",
       "      <td id=\"T_d8295_row13_col19\" class=\"data row13 col19\" >65</td>\n",
       "      <td id=\"T_d8295_row13_col20\" class=\"data row13 col20\" >54</td>\n",
       "      <td id=\"T_d8295_row13_col21\" class=\"data row13 col21\" >57</td>\n",
       "      <td id=\"T_d8295_row13_col22\" class=\"data row13 col22\" >72</td>\n",
       "      <td id=\"T_d8295_row13_col23\" class=\"data row13 col23\" >76</td>\n",
       "      <td id=\"T_d8295_row13_col24\" class=\"data row13 col24\" >75</td>\n",
       "      <td id=\"T_d8295_row13_col25\" class=\"data row13 col25\" >72</td>\n",
       "      <td id=\"T_d8295_row13_col26\" class=\"data row13 col26\" >68</td>\n",
       "      <td id=\"T_d8295_row13_col27\" class=\"data row13 col27\" >69</td>\n",
       "      <td id=\"T_d8295_row13_col28\" class=\"data row13 col28\" >56</td>\n",
       "      <td id=\"T_d8295_row13_col29\" class=\"data row13 col29\" >57</td>\n",
       "      <td id=\"T_d8295_row13_col30\" class=\"data row13 col30\" >59</td>\n",
       "    </tr>\n",
       "    <tr>\n",
       "      <th id=\"T_d8295_level0_row14\" class=\"row_heading level0 row14\" >14</th>\n",
       "      <td id=\"T_d8295_row14_col0\" class=\"data row14 col0\" >57</td>\n",
       "      <td id=\"T_d8295_row14_col1\" class=\"data row14 col1\" >64</td>\n",
       "      <td id=\"T_d8295_row14_col2\" class=\"data row14 col2\" >56</td>\n",
       "      <td id=\"T_d8295_row14_col3\" class=\"data row14 col3\" >76</td>\n",
       "      <td id=\"T_d8295_row14_col4\" class=\"data row14 col4\" >82</td>\n",
       "      <td id=\"T_d8295_row14_col5\" class=\"data row14 col5\" >98</td>\n",
       "      <td id=\"T_d8295_row14_col6\" class=\"data row14 col6\" >59</td>\n",
       "      <td id=\"T_d8295_row14_col7\" class=\"data row14 col7\" >41</td>\n",
       "      <td id=\"T_d8295_row14_col8\" class=\"data row14 col8\" >48</td>\n",
       "      <td id=\"T_d8295_row14_col9\" class=\"data row14 col9\" >66</td>\n",
       "      <td id=\"T_d8295_row14_col10\" class=\"data row14 col10\" >56</td>\n",
       "      <td id=\"T_d8295_row14_col11\" class=\"data row14 col11\" >56</td>\n",
       "      <td id=\"T_d8295_row14_col12\" class=\"data row14 col12\" >56</td>\n",
       "      <td id=\"T_d8295_row14_col13\" class=\"data row14 col13\" >55</td>\n",
       "      <td id=\"T_d8295_row14_col14\" class=\"data row14 col14\" >67</td>\n",
       "      <td id=\"T_d8295_row14_col15\" class=\"data row14 col15\" >58</td>\n",
       "      <td id=\"T_d8295_row14_col16\" class=\"data row14 col16\" >63</td>\n",
       "      <td id=\"T_d8295_row14_col17\" class=\"data row14 col17\" >58</td>\n",
       "      <td id=\"T_d8295_row14_col18\" class=\"data row14 col18\" >71</td>\n",
       "      <td id=\"T_d8295_row14_col19\" class=\"data row14 col19\" >62</td>\n",
       "      <td id=\"T_d8295_row14_col20\" class=\"data row14 col20\" >52</td>\n",
       "      <td id=\"T_d8295_row14_col21\" class=\"data row14 col21\" >54</td>\n",
       "      <td id=\"T_d8295_row14_col22\" class=\"data row14 col22\" >69</td>\n",
       "      <td id=\"T_d8295_row14_col23\" class=\"data row14 col23\" >72</td>\n",
       "      <td id=\"T_d8295_row14_col24\" class=\"data row14 col24\" >71</td>\n",
       "      <td id=\"T_d8295_row14_col25\" class=\"data row14 col25\" >68</td>\n",
       "      <td id=\"T_d8295_row14_col26\" class=\"data row14 col26\" >65</td>\n",
       "      <td id=\"T_d8295_row14_col27\" class=\"data row14 col27\" >66</td>\n",
       "      <td id=\"T_d8295_row14_col28\" class=\"data row14 col28\" >53</td>\n",
       "      <td id=\"T_d8295_row14_col29\" class=\"data row14 col29\" >54</td>\n",
       "      <td id=\"T_d8295_row14_col30\" class=\"data row14 col30\" >56</td>\n",
       "    </tr>\n",
       "    <tr>\n",
       "      <th id=\"T_d8295_level0_row15\" class=\"row_heading level0 row15\" >15</th>\n",
       "      <td id=\"T_d8295_row15_col0\" class=\"data row15 col0\" >53</td>\n",
       "      <td id=\"T_d8295_row15_col1\" class=\"data row15 col1\" >60</td>\n",
       "      <td id=\"T_d8295_row15_col2\" class=\"data row15 col2\" >52</td>\n",
       "      <td id=\"T_d8295_row15_col3\" class=\"data row15 col3\" >71</td>\n",
       "      <td id=\"T_d8295_row15_col4\" class=\"data row15 col4\" >76</td>\n",
       "      <td id=\"T_d8295_row15_col5\" class=\"data row15 col5\" >91</td>\n",
       "      <td id=\"T_d8295_row15_col6\" class=\"data row15 col6\" >55</td>\n",
       "      <td id=\"T_d8295_row15_col7\" class=\"data row15 col7\" >38</td>\n",
       "      <td id=\"T_d8295_row15_col8\" class=\"data row15 col8\" >45</td>\n",
       "      <td id=\"T_d8295_row15_col9\" class=\"data row15 col9\" >61</td>\n",
       "      <td id=\"T_d8295_row15_col10\" class=\"data row15 col10\" >52</td>\n",
       "      <td id=\"T_d8295_row15_col11\" class=\"data row15 col11\" >52</td>\n",
       "      <td id=\"T_d8295_row15_col12\" class=\"data row15 col12\" >52</td>\n",
       "      <td id=\"T_d8295_row15_col13\" class=\"data row15 col13\" >51</td>\n",
       "      <td id=\"T_d8295_row15_col14\" class=\"data row15 col14\" >62</td>\n",
       "      <td id=\"T_d8295_row15_col15\" class=\"data row15 col15\" >54</td>\n",
       "      <td id=\"T_d8295_row15_col16\" class=\"data row15 col16\" >59</td>\n",
       "      <td id=\"T_d8295_row15_col17\" class=\"data row15 col17\" >54</td>\n",
       "      <td id=\"T_d8295_row15_col18\" class=\"data row15 col18\" >66</td>\n",
       "      <td id=\"T_d8295_row15_col19\" class=\"data row15 col19\" >57</td>\n",
       "      <td id=\"T_d8295_row15_col20\" class=\"data row15 col20\" >48</td>\n",
       "      <td id=\"T_d8295_row15_col21\" class=\"data row15 col21\" >50</td>\n",
       "      <td id=\"T_d8295_row15_col22\" class=\"data row15 col22\" >64</td>\n",
       "      <td id=\"T_d8295_row15_col23\" class=\"data row15 col23\" >67</td>\n",
       "      <td id=\"T_d8295_row15_col24\" class=\"data row15 col24\" >66</td>\n",
       "      <td id=\"T_d8295_row15_col25\" class=\"data row15 col25\" >63</td>\n",
       "      <td id=\"T_d8295_row15_col26\" class=\"data row15 col26\" >60</td>\n",
       "      <td id=\"T_d8295_row15_col27\" class=\"data row15 col27\" >61</td>\n",
       "      <td id=\"T_d8295_row15_col28\" class=\"data row15 col28\" >49</td>\n",
       "      <td id=\"T_d8295_row15_col29\" class=\"data row15 col29\" >50</td>\n",
       "      <td id=\"T_d8295_row15_col30\" class=\"data row15 col30\" >52</td>\n",
       "    </tr>\n",
       "    <tr>\n",
       "      <th id=\"T_d8295_level0_row16\" class=\"row_heading level0 row16\" >16</th>\n",
       "      <td id=\"T_d8295_row16_col0\" class=\"data row16 col0\" >49</td>\n",
       "      <td id=\"T_d8295_row16_col1\" class=\"data row16 col1\" >55</td>\n",
       "      <td id=\"T_d8295_row16_col2\" class=\"data row16 col2\" >48</td>\n",
       "      <td id=\"T_d8295_row16_col3\" class=\"data row16 col3\" >65</td>\n",
       "      <td id=\"T_d8295_row16_col4\" class=\"data row16 col4\" >70</td>\n",
       "      <td id=\"T_d8295_row16_col5\" class=\"data row16 col5\" >84</td>\n",
       "      <td id=\"T_d8295_row16_col6\" class=\"data row16 col6\" >51</td>\n",
       "      <td id=\"T_d8295_row16_col7\" class=\"data row16 col7\" >35</td>\n",
       "      <td id=\"T_d8295_row16_col8\" class=\"data row16 col8\" >41</td>\n",
       "      <td id=\"T_d8295_row16_col9\" class=\"data row16 col9\" >56</td>\n",
       "      <td id=\"T_d8295_row16_col10\" class=\"data row16 col10\" >48</td>\n",
       "      <td id=\"T_d8295_row16_col11\" class=\"data row16 col11\" >48</td>\n",
       "      <td id=\"T_d8295_row16_col12\" class=\"data row16 col12\" >48</td>\n",
       "      <td id=\"T_d8295_row16_col13\" class=\"data row16 col13\" >47</td>\n",
       "      <td id=\"T_d8295_row16_col14\" class=\"data row16 col14\" >57</td>\n",
       "      <td id=\"T_d8295_row16_col15\" class=\"data row16 col15\" >50</td>\n",
       "      <td id=\"T_d8295_row16_col16\" class=\"data row16 col16\" >54</td>\n",
       "      <td id=\"T_d8295_row16_col17\" class=\"data row16 col17\" >50</td>\n",
       "      <td id=\"T_d8295_row16_col18\" class=\"data row16 col18\" >61</td>\n",
       "      <td id=\"T_d8295_row16_col19\" class=\"data row16 col19\" >53</td>\n",
       "      <td id=\"T_d8295_row16_col20\" class=\"data row16 col20\" >44</td>\n",
       "      <td id=\"T_d8295_row16_col21\" class=\"data row16 col21\" >46</td>\n",
       "      <td id=\"T_d8295_row16_col22\" class=\"data row16 col22\" >59</td>\n",
       "      <td id=\"T_d8295_row16_col23\" class=\"data row16 col23\" >61</td>\n",
       "      <td id=\"T_d8295_row16_col24\" class=\"data row16 col24\" >60</td>\n",
       "      <td id=\"T_d8295_row16_col25\" class=\"data row16 col25\" >58</td>\n",
       "      <td id=\"T_d8295_row16_col26\" class=\"data row16 col26\" >55</td>\n",
       "      <td id=\"T_d8295_row16_col27\" class=\"data row16 col27\" >56</td>\n",
       "      <td id=\"T_d8295_row16_col28\" class=\"data row16 col28\" >45</td>\n",
       "      <td id=\"T_d8295_row16_col29\" class=\"data row16 col29\" >46</td>\n",
       "      <td id=\"T_d8295_row16_col30\" class=\"data row16 col30\" >47</td>\n",
       "    </tr>\n",
       "    <tr>\n",
       "      <th id=\"T_d8295_level0_row17\" class=\"row_heading level0 row17\" >17</th>\n",
       "      <td id=\"T_d8295_row17_col0\" class=\"data row17 col0\" >48</td>\n",
       "      <td id=\"T_d8295_row17_col1\" class=\"data row17 col1\" >53</td>\n",
       "      <td id=\"T_d8295_row17_col2\" class=\"data row17 col2\" >46</td>\n",
       "      <td id=\"T_d8295_row17_col3\" class=\"data row17 col3\" >63</td>\n",
       "      <td id=\"T_d8295_row17_col4\" class=\"data row17 col4\" >69</td>\n",
       "      <td id=\"T_d8295_row17_col5\" class=\"data row17 col5\" >82</td>\n",
       "      <td id=\"T_d8295_row17_col6\" class=\"data row17 col6\" >49</td>\n",
       "      <td id=\"T_d8295_row17_col7\" class=\"data row17 col7\" >34</td>\n",
       "      <td id=\"T_d8295_row17_col8\" class=\"data row17 col8\" >40</td>\n",
       "      <td id=\"T_d8295_row17_col9\" class=\"data row17 col9\" >55</td>\n",
       "      <td id=\"T_d8295_row17_col10\" class=\"data row17 col10\" >47</td>\n",
       "      <td id=\"T_d8295_row17_col11\" class=\"data row17 col11\" >47</td>\n",
       "      <td id=\"T_d8295_row17_col12\" class=\"data row17 col12\" >47</td>\n",
       "      <td id=\"T_d8295_row17_col13\" class=\"data row17 col13\" >46</td>\n",
       "      <td id=\"T_d8295_row17_col14\" class=\"data row17 col14\" >56</td>\n",
       "      <td id=\"T_d8295_row17_col15\" class=\"data row17 col15\" >48</td>\n",
       "      <td id=\"T_d8295_row17_col16\" class=\"data row17 col16\" >52</td>\n",
       "      <td id=\"T_d8295_row17_col17\" class=\"data row17 col17\" >48</td>\n",
       "      <td id=\"T_d8295_row17_col18\" class=\"data row17 col18\" >59</td>\n",
       "      <td id=\"T_d8295_row17_col19\" class=\"data row17 col19\" >51</td>\n",
       "      <td id=\"T_d8295_row17_col20\" class=\"data row17 col20\" >43</td>\n",
       "      <td id=\"T_d8295_row17_col21\" class=\"data row17 col21\" >45</td>\n",
       "      <td id=\"T_d8295_row17_col22\" class=\"data row17 col22\" >57</td>\n",
       "      <td id=\"T_d8295_row17_col23\" class=\"data row17 col23\" >60</td>\n",
       "      <td id=\"T_d8295_row17_col24\" class=\"data row17 col24\" >59</td>\n",
       "      <td id=\"T_d8295_row17_col25\" class=\"data row17 col25\" >56</td>\n",
       "      <td id=\"T_d8295_row17_col26\" class=\"data row17 col26\" >54</td>\n",
       "      <td id=\"T_d8295_row17_col27\" class=\"data row17 col27\" >55</td>\n",
       "      <td id=\"T_d8295_row17_col28\" class=\"data row17 col28\" >44</td>\n",
       "      <td id=\"T_d8295_row17_col29\" class=\"data row17 col29\" >45</td>\n",
       "      <td id=\"T_d8295_row17_col30\" class=\"data row17 col30\" >46</td>\n",
       "    </tr>\n",
       "    <tr>\n",
       "      <th id=\"T_d8295_level0_row18\" class=\"row_heading level0 row18\" >18</th>\n",
       "      <td id=\"T_d8295_row18_col0\" class=\"data row18 col0\" >42</td>\n",
       "      <td id=\"T_d8295_row18_col1\" class=\"data row18 col1\" >47</td>\n",
       "      <td id=\"T_d8295_row18_col2\" class=\"data row18 col2\" >40</td>\n",
       "      <td id=\"T_d8295_row18_col3\" class=\"data row18 col3\" >55</td>\n",
       "      <td id=\"T_d8295_row18_col4\" class=\"data row18 col4\" >60</td>\n",
       "      <td id=\"T_d8295_row18_col5\" class=\"data row18 col5\" >71</td>\n",
       "      <td id=\"T_d8295_row18_col6\" class=\"data row18 col6\" >43</td>\n",
       "      <td id=\"T_d8295_row18_col7\" class=\"data row18 col7\" >30</td>\n",
       "      <td id=\"T_d8295_row18_col8\" class=\"data row18 col8\" >35</td>\n",
       "      <td id=\"T_d8295_row18_col9\" class=\"data row18 col9\" >48</td>\n",
       "      <td id=\"T_d8295_row18_col10\" class=\"data row18 col10\" >41</td>\n",
       "      <td id=\"T_d8295_row18_col11\" class=\"data row18 col11\" >41</td>\n",
       "      <td id=\"T_d8295_row18_col12\" class=\"data row18 col12\" >41</td>\n",
       "      <td id=\"T_d8295_row18_col13\" class=\"data row18 col13\" >40</td>\n",
       "      <td id=\"T_d8295_row18_col14\" class=\"data row18 col14\" >49</td>\n",
       "      <td id=\"T_d8295_row18_col15\" class=\"data row18 col15\" >42</td>\n",
       "      <td id=\"T_d8295_row18_col16\" class=\"data row18 col16\" >46</td>\n",
       "      <td id=\"T_d8295_row18_col17\" class=\"data row18 col17\" >42</td>\n",
       "      <td id=\"T_d8295_row18_col18\" class=\"data row18 col18\" >52</td>\n",
       "      <td id=\"T_d8295_row18_col19\" class=\"data row18 col19\" >45</td>\n",
       "      <td id=\"T_d8295_row18_col20\" class=\"data row18 col20\" >38</td>\n",
       "      <td id=\"T_d8295_row18_col21\" class=\"data row18 col21\" >40</td>\n",
       "      <td id=\"T_d8295_row18_col22\" class=\"data row18 col22\" >50</td>\n",
       "      <td id=\"T_d8295_row18_col23\" class=\"data row18 col23\" >52</td>\n",
       "      <td id=\"T_d8295_row18_col24\" class=\"data row18 col24\" >51</td>\n",
       "      <td id=\"T_d8295_row18_col25\" class=\"data row18 col25\" >49</td>\n",
       "      <td id=\"T_d8295_row18_col26\" class=\"data row18 col26\" >47</td>\n",
       "      <td id=\"T_d8295_row18_col27\" class=\"data row18 col27\" >48</td>\n",
       "      <td id=\"T_d8295_row18_col28\" class=\"data row18 col28\" >38</td>\n",
       "      <td id=\"T_d8295_row18_col29\" class=\"data row18 col29\" >39</td>\n",
       "      <td id=\"T_d8295_row18_col30\" class=\"data row18 col30\" >40</td>\n",
       "    </tr>\n",
       "    <tr>\n",
       "      <th id=\"T_d8295_level0_row19\" class=\"row_heading level0 row19\" >19</th>\n",
       "      <td id=\"T_d8295_row19_col0\" class=\"data row19 col0\" >35</td>\n",
       "      <td id=\"T_d8295_row19_col1\" class=\"data row19 col1\" >39</td>\n",
       "      <td id=\"T_d8295_row19_col2\" class=\"data row19 col2\" >34</td>\n",
       "      <td id=\"T_d8295_row19_col3\" class=\"data row19 col3\" >46</td>\n",
       "      <td id=\"T_d8295_row19_col4\" class=\"data row19 col4\" >50</td>\n",
       "      <td id=\"T_d8295_row19_col5\" class=\"data row19 col5\" >59</td>\n",
       "      <td id=\"T_d8295_row19_col6\" class=\"data row19 col6\" >36</td>\n",
       "      <td id=\"T_d8295_row19_col7\" class=\"data row19 col7\" >25</td>\n",
       "      <td id=\"T_d8295_row19_col8\" class=\"data row19 col8\" >29</td>\n",
       "      <td id=\"T_d8295_row19_col9\" class=\"data row19 col9\" >40</td>\n",
       "      <td id=\"T_d8295_row19_col10\" class=\"data row19 col10\" >34</td>\n",
       "      <td id=\"T_d8295_row19_col11\" class=\"data row19 col11\" >34</td>\n",
       "      <td id=\"T_d8295_row19_col12\" class=\"data row19 col12\" >34</td>\n",
       "      <td id=\"T_d8295_row19_col13\" class=\"data row19 col13\" >33</td>\n",
       "      <td id=\"T_d8295_row19_col14\" class=\"data row19 col14\" >40</td>\n",
       "      <td id=\"T_d8295_row19_col15\" class=\"data row19 col15\" >35</td>\n",
       "      <td id=\"T_d8295_row19_col16\" class=\"data row19 col16\" >38</td>\n",
       "      <td id=\"T_d8295_row19_col17\" class=\"data row19 col17\" >35</td>\n",
       "      <td id=\"T_d8295_row19_col18\" class=\"data row19 col18\" >43</td>\n",
       "      <td id=\"T_d8295_row19_col19\" class=\"data row19 col19\" >37</td>\n",
       "      <td id=\"T_d8295_row19_col20\" class=\"data row19 col20\" >31</td>\n",
       "      <td id=\"T_d8295_row19_col21\" class=\"data row19 col21\" >33</td>\n",
       "      <td id=\"T_d8295_row19_col22\" class=\"data row19 col22\" >41</td>\n",
       "      <td id=\"T_d8295_row19_col23\" class=\"data row19 col23\" >43</td>\n",
       "      <td id=\"T_d8295_row19_col24\" class=\"data row19 col24\" >43</td>\n",
       "      <td id=\"T_d8295_row19_col25\" class=\"data row19 col25\" >41</td>\n",
       "      <td id=\"T_d8295_row19_col26\" class=\"data row19 col26\" >39</td>\n",
       "      <td id=\"T_d8295_row19_col27\" class=\"data row19 col27\" >40</td>\n",
       "      <td id=\"T_d8295_row19_col28\" class=\"data row19 col28\" >32</td>\n",
       "      <td id=\"T_d8295_row19_col29\" class=\"data row19 col29\" >32</td>\n",
       "      <td id=\"T_d8295_row19_col30\" class=\"data row19 col30\" >34</td>\n",
       "    </tr>\n",
       "    <tr>\n",
       "      <th id=\"T_d8295_level0_row20\" class=\"row_heading level0 row20\" >20</th>\n",
       "      <td id=\"T_d8295_row20_col0\" class=\"data row20 col0\" >24</td>\n",
       "      <td id=\"T_d8295_row20_col1\" class=\"data row20 col1\" >27</td>\n",
       "      <td id=\"T_d8295_row20_col2\" class=\"data row20 col2\" >24</td>\n",
       "      <td id=\"T_d8295_row20_col3\" class=\"data row20 col3\" >32</td>\n",
       "      <td id=\"T_d8295_row20_col4\" class=\"data row20 col4\" >35</td>\n",
       "      <td id=\"T_d8295_row20_col5\" class=\"data row20 col5\" >41</td>\n",
       "      <td id=\"T_d8295_row20_col6\" class=\"data row20 col6\" >25</td>\n",
       "      <td id=\"T_d8295_row20_col7\" class=\"data row20 col7\" >18</td>\n",
       "      <td id=\"T_d8295_row20_col8\" class=\"data row20 col8\" >21</td>\n",
       "      <td id=\"T_d8295_row20_col9\" class=\"data row20 col9\" >28</td>\n",
       "      <td id=\"T_d8295_row20_col10\" class=\"data row20 col10\" >24</td>\n",
       "      <td id=\"T_d8295_row20_col11\" class=\"data row20 col11\" >24</td>\n",
       "      <td id=\"T_d8295_row20_col12\" class=\"data row20 col12\" >24</td>\n",
       "      <td id=\"T_d8295_row20_col13\" class=\"data row20 col13\" >23</td>\n",
       "      <td id=\"T_d8295_row20_col14\" class=\"data row20 col14\" >28</td>\n",
       "      <td id=\"T_d8295_row20_col15\" class=\"data row20 col15\" >25</td>\n",
       "      <td id=\"T_d8295_row20_col16\" class=\"data row20 col16\" >27</td>\n",
       "      <td id=\"T_d8295_row20_col17\" class=\"data row20 col17\" >25</td>\n",
       "      <td id=\"T_d8295_row20_col18\" class=\"data row20 col18\" >30</td>\n",
       "      <td id=\"T_d8295_row20_col19\" class=\"data row20 col19\" >26</td>\n",
       "      <td id=\"T_d8295_row20_col20\" class=\"data row20 col20\" >22</td>\n",
       "      <td id=\"T_d8295_row20_col21\" class=\"data row20 col21\" >23</td>\n",
       "      <td id=\"T_d8295_row20_col22\" class=\"data row20 col22\" >29</td>\n",
       "      <td id=\"T_d8295_row20_col23\" class=\"data row20 col23\" >30</td>\n",
       "      <td id=\"T_d8295_row20_col24\" class=\"data row20 col24\" >30</td>\n",
       "      <td id=\"T_d8295_row20_col25\" class=\"data row20 col25\" >29</td>\n",
       "      <td id=\"T_d8295_row20_col26\" class=\"data row20 col26\" >27</td>\n",
       "      <td id=\"T_d8295_row20_col27\" class=\"data row20 col27\" >28</td>\n",
       "      <td id=\"T_d8295_row20_col28\" class=\"data row20 col28\" >22</td>\n",
       "      <td id=\"T_d8295_row20_col29\" class=\"data row20 col29\" >23</td>\n",
       "      <td id=\"T_d8295_row20_col30\" class=\"data row20 col30\" >23</td>\n",
       "    </tr>\n",
       "    <tr>\n",
       "      <th id=\"T_d8295_level0_row21\" class=\"row_heading level0 row21\" >21</th>\n",
       "      <td id=\"T_d8295_row21_col0\" class=\"data row21 col0\" >15</td>\n",
       "      <td id=\"T_d8295_row21_col1\" class=\"data row21 col1\" >16</td>\n",
       "      <td id=\"T_d8295_row21_col2\" class=\"data row21 col2\" >15</td>\n",
       "      <td id=\"T_d8295_row21_col3\" class=\"data row21 col3\" >19</td>\n",
       "      <td id=\"T_d8295_row21_col4\" class=\"data row21 col4\" >20</td>\n",
       "      <td id=\"T_d8295_row21_col5\" class=\"data row21 col5\" >24</td>\n",
       "      <td id=\"T_d8295_row21_col6\" class=\"data row21 col6\" >15</td>\n",
       "      <td id=\"T_d8295_row21_col7\" class=\"data row21 col7\" >11</td>\n",
       "      <td id=\"T_d8295_row21_col8\" class=\"data row21 col8\" >13</td>\n",
       "      <td id=\"T_d8295_row21_col9\" class=\"data row21 col9\" >17</td>\n",
       "      <td id=\"T_d8295_row21_col10\" class=\"data row21 col10\" >15</td>\n",
       "      <td id=\"T_d8295_row21_col11\" class=\"data row21 col11\" >15</td>\n",
       "      <td id=\"T_d8295_row21_col12\" class=\"data row21 col12\" >15</td>\n",
       "      <td id=\"T_d8295_row21_col13\" class=\"data row21 col13\" >14</td>\n",
       "      <td id=\"T_d8295_row21_col14\" class=\"data row21 col14\" >17</td>\n",
       "      <td id=\"T_d8295_row21_col15\" class=\"data row21 col15\" >15</td>\n",
       "      <td id=\"T_d8295_row21_col16\" class=\"data row21 col16\" >16</td>\n",
       "      <td id=\"T_d8295_row21_col17\" class=\"data row21 col17\" >15</td>\n",
       "      <td id=\"T_d8295_row21_col18\" class=\"data row21 col18\" >18</td>\n",
       "      <td id=\"T_d8295_row21_col19\" class=\"data row21 col19\" >16</td>\n",
       "      <td id=\"T_d8295_row21_col20\" class=\"data row21 col20\" >14</td>\n",
       "      <td id=\"T_d8295_row21_col21\" class=\"data row21 col21\" >14</td>\n",
       "      <td id=\"T_d8295_row21_col22\" class=\"data row21 col22\" >17</td>\n",
       "      <td id=\"T_d8295_row21_col23\" class=\"data row21 col23\" >18</td>\n",
       "      <td id=\"T_d8295_row21_col24\" class=\"data row21 col24\" >18</td>\n",
       "      <td id=\"T_d8295_row21_col25\" class=\"data row21 col25\" >17</td>\n",
       "      <td id=\"T_d8295_row21_col26\" class=\"data row21 col26\" >17</td>\n",
       "      <td id=\"T_d8295_row21_col27\" class=\"data row21 col27\" >17</td>\n",
       "      <td id=\"T_d8295_row21_col28\" class=\"data row21 col28\" >14</td>\n",
       "      <td id=\"T_d8295_row21_col29\" class=\"data row21 col29\" >14</td>\n",
       "      <td id=\"T_d8295_row21_col30\" class=\"data row21 col30\" >15</td>\n",
       "    </tr>\n",
       "    <tr>\n",
       "      <th id=\"T_d8295_level0_row22\" class=\"row_heading level0 row22\" >22</th>\n",
       "      <td id=\"T_d8295_row22_col0\" class=\"data row22 col0\" >8</td>\n",
       "      <td id=\"T_d8295_row22_col1\" class=\"data row22 col1\" >9</td>\n",
       "      <td id=\"T_d8295_row22_col2\" class=\"data row22 col2\" >8</td>\n",
       "      <td id=\"T_d8295_row22_col3\" class=\"data row22 col3\" >10</td>\n",
       "      <td id=\"T_d8295_row22_col4\" class=\"data row22 col4\" >11</td>\n",
       "      <td id=\"T_d8295_row22_col5\" class=\"data row22 col5\" >12</td>\n",
       "      <td id=\"T_d8295_row22_col6\" class=\"data row22 col6\" >8</td>\n",
       "      <td id=\"T_d8295_row22_col7\" class=\"data row22 col7\" >6</td>\n",
       "      <td id=\"T_d8295_row22_col8\" class=\"data row22 col8\" >7</td>\n",
       "      <td id=\"T_d8295_row22_col9\" class=\"data row22 col9\" >9</td>\n",
       "      <td id=\"T_d8295_row22_col10\" class=\"data row22 col10\" >8</td>\n",
       "      <td id=\"T_d8295_row22_col11\" class=\"data row22 col11\" >8</td>\n",
       "      <td id=\"T_d8295_row22_col12\" class=\"data row22 col12\" >8</td>\n",
       "      <td id=\"T_d8295_row22_col13\" class=\"data row22 col13\" >8</td>\n",
       "      <td id=\"T_d8295_row22_col14\" class=\"data row22 col14\" >9</td>\n",
       "      <td id=\"T_d8295_row22_col15\" class=\"data row22 col15\" >8</td>\n",
       "      <td id=\"T_d8295_row22_col16\" class=\"data row22 col16\" >9</td>\n",
       "      <td id=\"T_d8295_row22_col17\" class=\"data row22 col17\" >8</td>\n",
       "      <td id=\"T_d8295_row22_col18\" class=\"data row22 col18\" >10</td>\n",
       "      <td id=\"T_d8295_row22_col19\" class=\"data row22 col19\" >9</td>\n",
       "      <td id=\"T_d8295_row22_col20\" class=\"data row22 col20\" >8</td>\n",
       "      <td id=\"T_d8295_row22_col21\" class=\"data row22 col21\" >8</td>\n",
       "      <td id=\"T_d8295_row22_col22\" class=\"data row22 col22\" >9</td>\n",
       "      <td id=\"T_d8295_row22_col23\" class=\"data row22 col23\" >10</td>\n",
       "      <td id=\"T_d8295_row22_col24\" class=\"data row22 col24\" >10</td>\n",
       "      <td id=\"T_d8295_row22_col25\" class=\"data row22 col25\" >9</td>\n",
       "      <td id=\"T_d8295_row22_col26\" class=\"data row22 col26\" >9</td>\n",
       "      <td id=\"T_d8295_row22_col27\" class=\"data row22 col27\" >9</td>\n",
       "      <td id=\"T_d8295_row22_col28\" class=\"data row22 col28\" >8</td>\n",
       "      <td id=\"T_d8295_row22_col29\" class=\"data row22 col29\" >8</td>\n",
       "      <td id=\"T_d8295_row22_col30\" class=\"data row22 col30\" >8</td>\n",
       "    </tr>\n",
       "    <tr>\n",
       "      <th id=\"T_d8295_level0_row23\" class=\"row_heading level0 row23\" >23</th>\n",
       "      <td id=\"T_d8295_row23_col0\" class=\"data row23 col0\" >4</td>\n",
       "      <td id=\"T_d8295_row23_col1\" class=\"data row23 col1\" >5</td>\n",
       "      <td id=\"T_d8295_row23_col2\" class=\"data row23 col2\" >4</td>\n",
       "      <td id=\"T_d8295_row23_col3\" class=\"data row23 col3\" >5</td>\n",
       "      <td id=\"T_d8295_row23_col4\" class=\"data row23 col4\" >6</td>\n",
       "      <td id=\"T_d8295_row23_col5\" class=\"data row23 col5\" >6</td>\n",
       "      <td id=\"T_d8295_row23_col6\" class=\"data row23 col6\" >5</td>\n",
       "      <td id=\"T_d8295_row23_col7\" class=\"data row23 col7\" >4</td>\n",
       "      <td id=\"T_d8295_row23_col8\" class=\"data row23 col8\" >4</td>\n",
       "      <td id=\"T_d8295_row23_col9\" class=\"data row23 col9\" >5</td>\n",
       "      <td id=\"T_d8295_row23_col10\" class=\"data row23 col10\" >4</td>\n",
       "      <td id=\"T_d8295_row23_col11\" class=\"data row23 col11\" >4</td>\n",
       "      <td id=\"T_d8295_row23_col12\" class=\"data row23 col12\" >4</td>\n",
       "      <td id=\"T_d8295_row23_col13\" class=\"data row23 col13\" >4</td>\n",
       "      <td id=\"T_d8295_row23_col14\" class=\"data row23 col14\" >5</td>\n",
       "      <td id=\"T_d8295_row23_col15\" class=\"data row23 col15\" >5</td>\n",
       "      <td id=\"T_d8295_row23_col16\" class=\"data row23 col16\" >5</td>\n",
       "      <td id=\"T_d8295_row23_col17\" class=\"data row23 col17\" >5</td>\n",
       "      <td id=\"T_d8295_row23_col18\" class=\"data row23 col18\" >5</td>\n",
       "      <td id=\"T_d8295_row23_col19\" class=\"data row23 col19\" >5</td>\n",
       "      <td id=\"T_d8295_row23_col20\" class=\"data row23 col20\" >4</td>\n",
       "      <td id=\"T_d8295_row23_col21\" class=\"data row23 col21\" >4</td>\n",
       "      <td id=\"T_d8295_row23_col22\" class=\"data row23 col22\" >5</td>\n",
       "      <td id=\"T_d8295_row23_col23\" class=\"data row23 col23\" >5</td>\n",
       "      <td id=\"T_d8295_row23_col24\" class=\"data row23 col24\" >5</td>\n",
       "      <td id=\"T_d8295_row23_col25\" class=\"data row23 col25\" >5</td>\n",
       "      <td id=\"T_d8295_row23_col26\" class=\"data row23 col26\" >5</td>\n",
       "      <td id=\"T_d8295_row23_col27\" class=\"data row23 col27\" >5</td>\n",
       "      <td id=\"T_d8295_row23_col28\" class=\"data row23 col28\" >4</td>\n",
       "      <td id=\"T_d8295_row23_col29\" class=\"data row23 col29\" >4</td>\n",
       "      <td id=\"T_d8295_row23_col30\" class=\"data row23 col30\" >4</td>\n",
       "    </tr>\n",
       "  </tbody>\n",
       "</table>\n"
      ],
      "text/plain": [
       "<pandas.io.formats.style.Styler at 0x1bbf90b5408>"
      ]
     },
     "metadata": {},
     "output_type": "display_data"
    }
   ],
   "source": [
    "# Отображаем дата фрейм с рачетом  кол-ва операторов по дням и по часам в рамках каждого дня\n",
    "display(df_oprtrs.style.background_gradient(cmap ='viridis'))"
   ]
  },
  {
   "cell_type": "code",
   "execution_count": 208,
   "id": "4ac2ce87",
   "metadata": {},
   "outputs": [
    {
     "data": {
      "application/vnd.plotly.v1+json": {
       "config": {
        "plotlyServerURL": "https://plot.ly"
       },
       "data": [
        {
         "hovertemplate": "День=1<br>Часы в сутках=%{x}<br>Кол-во операторов=%{y}<extra></extra>",
         "legendgroup": "1",
         "line": {
          "color": "#636efa",
          "dash": "solid"
         },
         "mode": "lines",
         "name": "1",
         "orientation": "v",
         "showlegend": true,
         "type": "scatter",
         "x": [
          0,
          1,
          2,
          3,
          4,
          5,
          6,
          7,
          8,
          9,
          10,
          11,
          12,
          13,
          14,
          15,
          16,
          17,
          18,
          19,
          20,
          21,
          22,
          23
         ],
         "xaxis": "x",
         "y": [
          3,
          2,
          2,
          2,
          2,
          4,
          7,
          17,
          35,
          49,
          67,
          63,
          63,
          61,
          57,
          53,
          49,
          48,
          42,
          35,
          24,
          15,
          8,
          4
         ],
         "yaxis": "y"
        },
        {
         "hovertemplate": "День=2<br>Часы в сутках=%{x}<br>Кол-во операторов=%{y}<extra></extra>",
         "legendgroup": "2",
         "line": {
          "color": "#EF553B",
          "dash": "solid"
         },
         "mode": "lines",
         "name": "2",
         "orientation": "v",
         "showlegend": true,
         "type": "scatter",
         "x": [
          0,
          1,
          2,
          3,
          4,
          5,
          6,
          7,
          8,
          9,
          10,
          11,
          12,
          13,
          14,
          15,
          16,
          17,
          18,
          19,
          20,
          21,
          22,
          23
         ],
         "xaxis": "x",
         "y": [
          3,
          2,
          2,
          2,
          3,
          5,
          8,
          19,
          39,
          55,
          75,
          70,
          71,
          68,
          64,
          60,
          55,
          53,
          47,
          39,
          27,
          16,
          9,
          5
         ],
         "yaxis": "y"
        },
        {
         "hovertemplate": "День=3<br>Часы в сутках=%{x}<br>Кол-во операторов=%{y}<extra></extra>",
         "legendgroup": "3",
         "line": {
          "color": "#00cc96",
          "dash": "solid"
         },
         "mode": "lines",
         "name": "3",
         "orientation": "v",
         "showlegend": true,
         "type": "scatter",
         "x": [
          0,
          1,
          2,
          3,
          4,
          5,
          6,
          7,
          8,
          9,
          10,
          11,
          12,
          13,
          14,
          15,
          16,
          17,
          18,
          19,
          20,
          21,
          22,
          23
         ],
         "xaxis": "x",
         "y": [
          3,
          2,
          2,
          2,
          2,
          4,
          7,
          17,
          34,
          47,
          65,
          61,
          61,
          59,
          56,
          52,
          48,
          46,
          40,
          34,
          24,
          15,
          8,
          4
         ],
         "yaxis": "y"
        },
        {
         "hovertemplate": "День=4<br>Часы в сутках=%{x}<br>Кол-во операторов=%{y}<extra></extra>",
         "legendgroup": "4",
         "line": {
          "color": "#ab63fa",
          "dash": "solid"
         },
         "mode": "lines",
         "name": "4",
         "orientation": "v",
         "showlegend": true,
         "type": "scatter",
         "x": [
          0,
          1,
          2,
          3,
          4,
          5,
          6,
          7,
          8,
          9,
          10,
          11,
          12,
          13,
          14,
          15,
          16,
          17,
          18,
          19,
          20,
          21,
          22,
          23
         ],
         "xaxis": "x",
         "y": [
          3,
          2,
          2,
          2,
          3,
          5,
          9,
          22,
          46,
          65,
          90,
          83,
          84,
          81,
          76,
          71,
          65,
          63,
          55,
          46,
          32,
          19,
          10,
          5
         ],
         "yaxis": "y"
        },
        {
         "hovertemplate": "День=5<br>Часы в сутках=%{x}<br>Кол-во операторов=%{y}<extra></extra>",
         "legendgroup": "5",
         "line": {
          "color": "#FFA15A",
          "dash": "solid"
         },
         "mode": "lines",
         "name": "5",
         "orientation": "v",
         "showlegend": true,
         "type": "scatter",
         "x": [
          0,
          1,
          2,
          3,
          4,
          5,
          6,
          7,
          8,
          9,
          10,
          11,
          12,
          13,
          14,
          15,
          16,
          17,
          18,
          19,
          20,
          21,
          22,
          23
         ],
         "xaxis": "x",
         "y": [
          3,
          2,
          2,
          2,
          3,
          6,
          10,
          24,
          50,
          70,
          97,
          90,
          91,
          87,
          82,
          76,
          70,
          69,
          60,
          50,
          35,
          20,
          11,
          6
         ],
         "yaxis": "y"
        },
        {
         "hovertemplate": "День=6<br>Часы в сутках=%{x}<br>Кол-во операторов=%{y}<extra></extra>",
         "legendgroup": "6",
         "line": {
          "color": "#19d3f3",
          "dash": "solid"
         },
         "mode": "lines",
         "name": "6",
         "orientation": "v",
         "showlegend": true,
         "type": "scatter",
         "x": [
          0,
          1,
          2,
          3,
          4,
          5,
          6,
          7,
          8,
          9,
          10,
          11,
          12,
          13,
          14,
          15,
          16,
          17,
          18,
          19,
          20,
          21,
          22,
          23
         ],
         "xaxis": "x",
         "y": [
          4,
          2,
          2,
          2,
          3,
          6,
          11,
          28,
          59,
          84,
          116,
          107,
          108,
          104,
          98,
          91,
          84,
          82,
          71,
          59,
          41,
          24,
          12,
          6
         ],
         "yaxis": "y"
        },
        {
         "hovertemplate": "День=7<br>Часы в сутках=%{x}<br>Кол-во операторов=%{y}<extra></extra>",
         "legendgroup": "7",
         "line": {
          "color": "#FF6692",
          "dash": "solid"
         },
         "mode": "lines",
         "name": "7",
         "orientation": "v",
         "showlegend": true,
         "type": "scatter",
         "x": [
          0,
          1,
          2,
          3,
          4,
          5,
          6,
          7,
          8,
          9,
          10,
          11,
          12,
          13,
          14,
          15,
          16,
          17,
          18,
          19,
          20,
          21,
          22,
          23
         ],
         "xaxis": "x",
         "y": [
          3,
          2,
          2,
          2,
          2,
          4,
          8,
          18,
          36,
          50,
          70,
          65,
          65,
          63,
          59,
          55,
          51,
          49,
          43,
          36,
          25,
          15,
          8,
          5
         ],
         "yaxis": "y"
        },
        {
         "hovertemplate": "День=8<br>Часы в сутках=%{x}<br>Кол-во операторов=%{y}<extra></extra>",
         "legendgroup": "8",
         "line": {
          "color": "#B6E880",
          "dash": "solid"
         },
         "mode": "lines",
         "name": "8",
         "orientation": "v",
         "showlegend": true,
         "type": "scatter",
         "x": [
          0,
          1,
          2,
          3,
          4,
          5,
          6,
          7,
          8,
          9,
          10,
          11,
          12,
          13,
          14,
          15,
          16,
          17,
          18,
          19,
          20,
          21,
          22,
          23
         ],
         "xaxis": "x",
         "y": [
          2,
          2,
          1,
          2,
          2,
          3,
          6,
          13,
          25,
          35,
          48,
          44,
          45,
          43,
          41,
          38,
          35,
          34,
          30,
          25,
          18,
          11,
          6,
          4
         ],
         "yaxis": "y"
        },
        {
         "hovertemplate": "День=9<br>Часы в сутках=%{x}<br>Кол-во операторов=%{y}<extra></extra>",
         "legendgroup": "9",
         "line": {
          "color": "#FF97FF",
          "dash": "solid"
         },
         "mode": "lines",
         "name": "9",
         "orientation": "v",
         "showlegend": true,
         "type": "scatter",
         "x": [
          0,
          1,
          2,
          3,
          4,
          5,
          6,
          7,
          8,
          9,
          10,
          11,
          12,
          13,
          14,
          15,
          16,
          17,
          18,
          19,
          20,
          21,
          22,
          23
         ],
         "xaxis": "x",
         "y": [
          2,
          2,
          2,
          2,
          2,
          4,
          7,
          15,
          29,
          41,
          57,
          53,
          53,
          51,
          48,
          45,
          41,
          40,
          35,
          29,
          21,
          13,
          7,
          4
         ],
         "yaxis": "y"
        },
        {
         "hovertemplate": "День=10<br>Часы в сутках=%{x}<br>Кол-во операторов=%{y}<extra></extra>",
         "legendgroup": "10",
         "line": {
          "color": "#FECB52",
          "dash": "solid"
         },
         "mode": "lines",
         "name": "10",
         "orientation": "v",
         "showlegend": true,
         "type": "scatter",
         "x": [
          0,
          1,
          2,
          3,
          4,
          5,
          6,
          7,
          8,
          9,
          10,
          11,
          12,
          13,
          14,
          15,
          16,
          17,
          18,
          19,
          20,
          21,
          22,
          23
         ],
         "xaxis": "x",
         "y": [
          3,
          2,
          2,
          2,
          3,
          5,
          8,
          19,
          40,
          56,
          77,
          72,
          72,
          70,
          66,
          61,
          56,
          55,
          48,
          40,
          28,
          17,
          9,
          5
         ],
         "yaxis": "y"
        },
        {
         "hovertemplate": "День=11<br>Часы в сутках=%{x}<br>Кол-во операторов=%{y}<extra></extra>",
         "legendgroup": "11",
         "line": {
          "color": "#636efa",
          "dash": "solid"
         },
         "mode": "lines",
         "name": "11",
         "orientation": "v",
         "showlegend": true,
         "type": "scatter",
         "x": [
          0,
          1,
          2,
          3,
          4,
          5,
          6,
          7,
          8,
          9,
          10,
          11,
          12,
          13,
          14,
          15,
          16,
          17,
          18,
          19,
          20,
          21,
          22,
          23
         ],
         "xaxis": "x",
         "y": [
          3,
          2,
          2,
          2,
          2,
          4,
          7,
          17,
          34,
          48,
          66,
          61,
          62,
          59,
          56,
          52,
          48,
          47,
          41,
          34,
          24,
          15,
          8,
          4
         ],
         "yaxis": "y"
        },
        {
         "hovertemplate": "День=12<br>Часы в сутках=%{x}<br>Кол-во операторов=%{y}<extra></extra>",
         "legendgroup": "12",
         "line": {
          "color": "#EF553B",
          "dash": "solid"
         },
         "mode": "lines",
         "name": "12",
         "orientation": "v",
         "showlegend": true,
         "type": "scatter",
         "x": [
          0,
          1,
          2,
          3,
          4,
          5,
          6,
          7,
          8,
          9,
          10,
          11,
          12,
          13,
          14,
          15,
          16,
          17,
          18,
          19,
          20,
          21,
          22,
          23
         ],
         "xaxis": "x",
         "y": [
          3,
          2,
          2,
          2,
          2,
          4,
          7,
          17,
          34,
          48,
          66,
          62,
          62,
          60,
          56,
          52,
          48,
          47,
          41,
          34,
          24,
          15,
          8,
          4
         ],
         "yaxis": "y"
        },
        {
         "hovertemplate": "День=13<br>Часы в сутках=%{x}<br>Кол-во операторов=%{y}<extra></extra>",
         "legendgroup": "13",
         "line": {
          "color": "#00cc96",
          "dash": "solid"
         },
         "mode": "lines",
         "name": "13",
         "orientation": "v",
         "showlegend": true,
         "type": "scatter",
         "x": [
          0,
          1,
          2,
          3,
          4,
          5,
          6,
          7,
          8,
          9,
          10,
          11,
          12,
          13,
          14,
          15,
          16,
          17,
          18,
          19,
          20,
          21,
          22,
          23
         ],
         "xaxis": "x",
         "y": [
          3,
          2,
          2,
          2,
          2,
          4,
          7,
          17,
          34,
          48,
          66,
          61,
          62,
          59,
          56,
          52,
          48,
          47,
          41,
          34,
          24,
          15,
          8,
          4
         ],
         "yaxis": "y"
        },
        {
         "hovertemplate": "День=14<br>Часы в сутках=%{x}<br>Кол-во операторов=%{y}<extra></extra>",
         "legendgroup": "14",
         "line": {
          "color": "#ab63fa",
          "dash": "solid"
         },
         "mode": "lines",
         "name": "14",
         "orientation": "v",
         "showlegend": true,
         "type": "scatter",
         "x": [
          0,
          1,
          2,
          3,
          4,
          5,
          6,
          7,
          8,
          9,
          10,
          11,
          12,
          13,
          14,
          15,
          16,
          17,
          18,
          19,
          20,
          21,
          22,
          23
         ],
         "xaxis": "x",
         "y": [
          3,
          2,
          2,
          2,
          2,
          4,
          7,
          17,
          33,
          47,
          65,
          60,
          61,
          58,
          55,
          51,
          47,
          46,
          40,
          33,
          23,
          14,
          8,
          4
         ],
         "yaxis": "y"
        },
        {
         "hovertemplate": "День=15<br>Часы в сутках=%{x}<br>Кол-во операторов=%{y}<extra></extra>",
         "legendgroup": "15",
         "line": {
          "color": "#FFA15A",
          "dash": "solid"
         },
         "mode": "lines",
         "name": "15",
         "orientation": "v",
         "showlegend": true,
         "type": "scatter",
         "x": [
          0,
          1,
          2,
          3,
          4,
          5,
          6,
          7,
          8,
          9,
          10,
          11,
          12,
          13,
          14,
          15,
          16,
          17,
          18,
          19,
          20,
          21,
          22,
          23
         ],
         "xaxis": "x",
         "y": [
          3,
          2,
          2,
          2,
          3,
          5,
          8,
          19,
          40,
          57,
          78,
          73,
          74,
          71,
          67,
          62,
          57,
          56,
          49,
          40,
          28,
          17,
          9,
          5
         ],
         "yaxis": "y"
        },
        {
         "hovertemplate": "День=16<br>Часы в сутках=%{x}<br>Кол-во операторов=%{y}<extra></extra>",
         "legendgroup": "16",
         "line": {
          "color": "#19d3f3",
          "dash": "solid"
         },
         "mode": "lines",
         "name": "16",
         "orientation": "v",
         "showlegend": true,
         "type": "scatter",
         "x": [
          0,
          1,
          2,
          3,
          4,
          5,
          6,
          7,
          8,
          9,
          10,
          11,
          12,
          13,
          14,
          15,
          16,
          17,
          18,
          19,
          20,
          21,
          22,
          23
         ],
         "xaxis": "x",
         "y": [
          3,
          2,
          2,
          2,
          2,
          4,
          8,
          17,
          35,
          50,
          68,
          64,
          64,
          62,
          58,
          54,
          50,
          48,
          42,
          35,
          25,
          15,
          8,
          5
         ],
         "yaxis": "y"
        },
        {
         "hovertemplate": "День=17<br>Часы в сутках=%{x}<br>Кол-во операторов=%{y}<extra></extra>",
         "legendgroup": "17",
         "line": {
          "color": "#FF6692",
          "dash": "solid"
         },
         "mode": "lines",
         "name": "17",
         "orientation": "v",
         "showlegend": true,
         "type": "scatter",
         "x": [
          0,
          1,
          2,
          3,
          4,
          5,
          6,
          7,
          8,
          9,
          10,
          11,
          12,
          13,
          14,
          15,
          16,
          17,
          18,
          19,
          20,
          21,
          22,
          23
         ],
         "xaxis": "x",
         "y": [
          3,
          2,
          2,
          2,
          3,
          5,
          8,
          19,
          38,
          54,
          74,
          69,
          69,
          67,
          63,
          59,
          54,
          52,
          46,
          38,
          27,
          16,
          9,
          5
         ],
         "yaxis": "y"
        },
        {
         "hovertemplate": "День=18<br>Часы в сутках=%{x}<br>Кол-во операторов=%{y}<extra></extra>",
         "legendgroup": "18",
         "line": {
          "color": "#B6E880",
          "dash": "solid"
         },
         "mode": "lines",
         "name": "18",
         "orientation": "v",
         "showlegend": true,
         "type": "scatter",
         "x": [
          0,
          1,
          2,
          3,
          4,
          5,
          6,
          7,
          8,
          9,
          10,
          11,
          12,
          13,
          14,
          15,
          16,
          17,
          18,
          19,
          20,
          21,
          22,
          23
         ],
         "xaxis": "x",
         "y": [
          3,
          2,
          2,
          2,
          2,
          4,
          8,
          17,
          35,
          49,
          68,
          63,
          64,
          61,
          58,
          54,
          50,
          48,
          42,
          35,
          25,
          15,
          8,
          5
         ],
         "yaxis": "y"
        },
        {
         "hovertemplate": "День=19<br>Часы в сутках=%{x}<br>Кол-во операторов=%{y}<extra></extra>",
         "legendgroup": "19",
         "line": {
          "color": "#FF97FF",
          "dash": "solid"
         },
         "mode": "lines",
         "name": "19",
         "orientation": "v",
         "showlegend": true,
         "type": "scatter",
         "x": [
          0,
          1,
          2,
          3,
          4,
          5,
          6,
          7,
          8,
          9,
          10,
          11,
          12,
          13,
          14,
          15,
          16,
          17,
          18,
          19,
          20,
          21,
          22,
          23
         ],
         "xaxis": "x",
         "y": [
          3,
          2,
          2,
          2,
          3,
          5,
          9,
          21,
          43,
          61,
          84,
          78,
          78,
          75,
          71,
          66,
          61,
          59,
          52,
          43,
          30,
          18,
          10,
          5
         ],
         "yaxis": "y"
        },
        {
         "hovertemplate": "День=20<br>Часы в сутках=%{x}<br>Кол-во операторов=%{y}<extra></extra>",
         "legendgroup": "20",
         "line": {
          "color": "#FECB52",
          "dash": "solid"
         },
         "mode": "lines",
         "name": "20",
         "orientation": "v",
         "showlegend": true,
         "type": "scatter",
         "x": [
          0,
          1,
          2,
          3,
          4,
          5,
          6,
          7,
          8,
          9,
          10,
          11,
          12,
          13,
          14,
          15,
          16,
          17,
          18,
          19,
          20,
          21,
          22,
          23
         ],
         "xaxis": "x",
         "y": [
          3,
          2,
          2,
          2,
          3,
          5,
          8,
          18,
          37,
          53,
          73,
          68,
          68,
          65,
          62,
          57,
          53,
          51,
          45,
          37,
          26,
          16,
          9,
          5
         ],
         "yaxis": "y"
        },
        {
         "hovertemplate": "День=21<br>Часы в сутках=%{x}<br>Кол-во операторов=%{y}<extra></extra>",
         "legendgroup": "21",
         "line": {
          "color": "#636efa",
          "dash": "solid"
         },
         "mode": "lines",
         "name": "21",
         "orientation": "v",
         "showlegend": true,
         "type": "scatter",
         "x": [
          0,
          1,
          2,
          3,
          4,
          5,
          6,
          7,
          8,
          9,
          10,
          11,
          12,
          13,
          14,
          15,
          16,
          17,
          18,
          19,
          20,
          21,
          22,
          23
         ],
         "xaxis": "x",
         "y": [
          3,
          2,
          2,
          2,
          2,
          4,
          7,
          16,
          31,
          44,
          61,
          56,
          57,
          54,
          52,
          48,
          44,
          43,
          38,
          31,
          22,
          14,
          8,
          4
         ],
         "yaxis": "y"
        },
        {
         "hovertemplate": "День=22<br>Часы в сутках=%{x}<br>Кол-во операторов=%{y}<extra></extra>",
         "legendgroup": "22",
         "line": {
          "color": "#EF553B",
          "dash": "solid"
         },
         "mode": "lines",
         "name": "22",
         "orientation": "v",
         "showlegend": true,
         "type": "scatter",
         "x": [
          0,
          1,
          2,
          3,
          4,
          5,
          6,
          7,
          8,
          9,
          10,
          11,
          12,
          13,
          14,
          15,
          16,
          17,
          18,
          19,
          20,
          21,
          22,
          23
         ],
         "xaxis": "x",
         "y": [
          3,
          2,
          2,
          2,
          2,
          4,
          7,
          16,
          33,
          46,
          64,
          59,
          60,
          57,
          54,
          50,
          46,
          45,
          40,
          33,
          23,
          14,
          8,
          4
         ],
         "yaxis": "y"
        },
        {
         "hovertemplate": "День=23<br>Часы в сутках=%{x}<br>Кол-во операторов=%{y}<extra></extra>",
         "legendgroup": "23",
         "line": {
          "color": "#00cc96",
          "dash": "solid"
         },
         "mode": "lines",
         "name": "23",
         "orientation": "v",
         "showlegend": true,
         "type": "scatter",
         "x": [
          0,
          1,
          2,
          3,
          4,
          5,
          6,
          7,
          8,
          9,
          10,
          11,
          12,
          13,
          14,
          15,
          16,
          17,
          18,
          19,
          20,
          21,
          22,
          23
         ],
         "xaxis": "x",
         "y": [
          3,
          2,
          2,
          2,
          3,
          5,
          9,
          20,
          41,
          58,
          81,
          75,
          75,
          72,
          69,
          64,
          59,
          57,
          50,
          41,
          29,
          17,
          9,
          5
         ],
         "yaxis": "y"
        },
        {
         "hovertemplate": "День=24<br>Часы в сутках=%{x}<br>Кол-во операторов=%{y}<extra></extra>",
         "legendgroup": "24",
         "line": {
          "color": "#ab63fa",
          "dash": "solid"
         },
         "mode": "lines",
         "name": "24",
         "orientation": "v",
         "showlegend": true,
         "type": "scatter",
         "x": [
          0,
          1,
          2,
          3,
          4,
          5,
          6,
          7,
          8,
          9,
          10,
          11,
          12,
          13,
          14,
          15,
          16,
          17,
          18,
          19,
          20,
          21,
          22,
          23
         ],
         "xaxis": "x",
         "y": [
          3,
          2,
          2,
          2,
          3,
          5,
          9,
          21,
          43,
          61,
          84,
          78,
          79,
          76,
          72,
          67,
          61,
          60,
          52,
          43,
          30,
          18,
          10,
          5
         ],
         "yaxis": "y"
        },
        {
         "hovertemplate": "День=25<br>Часы в сутках=%{x}<br>Кол-во операторов=%{y}<extra></extra>",
         "legendgroup": "25",
         "line": {
          "color": "#FFA15A",
          "dash": "solid"
         },
         "mode": "lines",
         "name": "25",
         "orientation": "v",
         "showlegend": true,
         "type": "scatter",
         "x": [
          0,
          1,
          2,
          3,
          4,
          5,
          6,
          7,
          8,
          9,
          10,
          11,
          12,
          13,
          14,
          15,
          16,
          17,
          18,
          19,
          20,
          21,
          22,
          23
         ],
         "xaxis": "x",
         "y": [
          3,
          2,
          2,
          2,
          3,
          5,
          9,
          21,
          43,
          60,
          83,
          77,
          78,
          75,
          71,
          66,
          60,
          59,
          51,
          43,
          30,
          18,
          10,
          5
         ],
         "yaxis": "y"
        },
        {
         "hovertemplate": "День=26<br>Часы в сутках=%{x}<br>Кол-во операторов=%{y}<extra></extra>",
         "legendgroup": "26",
         "line": {
          "color": "#19d3f3",
          "dash": "solid"
         },
         "mode": "lines",
         "name": "26",
         "orientation": "v",
         "showlegend": true,
         "type": "scatter",
         "x": [
          0,
          1,
          2,
          3,
          4,
          5,
          6,
          7,
          8,
          9,
          10,
          11,
          12,
          13,
          14,
          15,
          16,
          17,
          18,
          19,
          20,
          21,
          22,
          23
         ],
         "xaxis": "x",
         "y": [
          3,
          2,
          2,
          2,
          3,
          5,
          8,
          20,
          41,
          58,
          80,
          74,
          75,
          72,
          68,
          63,
          58,
          56,
          49,
          41,
          29,
          17,
          9,
          5
         ],
         "yaxis": "y"
        },
        {
         "hovertemplate": "День=27<br>Часы в сутках=%{x}<br>Кол-во операторов=%{y}<extra></extra>",
         "legendgroup": "27",
         "line": {
          "color": "#FF6692",
          "dash": "solid"
         },
         "mode": "lines",
         "name": "27",
         "orientation": "v",
         "showlegend": true,
         "type": "scatter",
         "x": [
          0,
          1,
          2,
          3,
          4,
          5,
          6,
          7,
          8,
          9,
          10,
          11,
          12,
          13,
          14,
          15,
          16,
          17,
          18,
          19,
          20,
          21,
          22,
          23
         ],
         "xaxis": "x",
         "y": [
          3,
          2,
          2,
          2,
          3,
          5,
          8,
          19,
          39,
          55,
          76,
          71,
          71,
          68,
          65,
          60,
          55,
          54,
          47,
          39,
          27,
          17,
          9,
          5
         ],
         "yaxis": "y"
        },
        {
         "hovertemplate": "День=28<br>Часы в сутках=%{x}<br>Кол-во операторов=%{y}<extra></extra>",
         "legendgroup": "28",
         "line": {
          "color": "#B6E880",
          "dash": "solid"
         },
         "mode": "lines",
         "name": "28",
         "orientation": "v",
         "showlegend": true,
         "type": "scatter",
         "x": [
          0,
          1,
          2,
          3,
          4,
          5,
          6,
          7,
          8,
          9,
          10,
          11,
          12,
          13,
          14,
          15,
          16,
          17,
          18,
          19,
          20,
          21,
          22,
          23
         ],
         "xaxis": "x",
         "y": [
          3,
          2,
          2,
          2,
          3,
          5,
          8,
          19,
          40,
          56,
          77,
          72,
          72,
          69,
          66,
          61,
          56,
          55,
          48,
          40,
          28,
          17,
          9,
          5
         ],
         "yaxis": "y"
        },
        {
         "hovertemplate": "День=29<br>Часы в сутках=%{x}<br>Кол-во операторов=%{y}<extra></extra>",
         "legendgroup": "29",
         "line": {
          "color": "#FF97FF",
          "dash": "solid"
         },
         "mode": "lines",
         "name": "29",
         "orientation": "v",
         "showlegend": true,
         "type": "scatter",
         "x": [
          0,
          1,
          2,
          3,
          4,
          5,
          6,
          7,
          8,
          9,
          10,
          11,
          12,
          13,
          14,
          15,
          16,
          17,
          18,
          19,
          20,
          21,
          22,
          23
         ],
         "xaxis": "x",
         "y": [
          3,
          2,
          2,
          2,
          2,
          4,
          7,
          16,
          32,
          45,
          62,
          57,
          58,
          56,
          53,
          49,
          45,
          44,
          38,
          32,
          22,
          14,
          8,
          4
         ],
         "yaxis": "y"
        },
        {
         "hovertemplate": "День=30<br>Часы в сутках=%{x}<br>Кол-во операторов=%{y}<extra></extra>",
         "legendgroup": "30",
         "line": {
          "color": "#FECB52",
          "dash": "solid"
         },
         "mode": "lines",
         "name": "30",
         "orientation": "v",
         "showlegend": true,
         "type": "scatter",
         "x": [
          0,
          1,
          2,
          3,
          4,
          5,
          6,
          7,
          8,
          9,
          10,
          11,
          12,
          13,
          14,
          15,
          16,
          17,
          18,
          19,
          20,
          21,
          22,
          23
         ],
         "xaxis": "x",
         "y": [
          3,
          2,
          2,
          2,
          2,
          4,
          7,
          16,
          32,
          46,
          63,
          59,
          59,
          57,
          54,
          50,
          46,
          45,
          39,
          32,
          23,
          14,
          8,
          4
         ],
         "yaxis": "y"
        },
        {
         "hovertemplate": "День=31<br>Часы в сутках=%{x}<br>Кол-во операторов=%{y}<extra></extra>",
         "legendgroup": "31",
         "line": {
          "color": "#636efa",
          "dash": "solid"
         },
         "mode": "lines",
         "name": "31",
         "orientation": "v",
         "showlegend": true,
         "type": "scatter",
         "x": [
          0,
          1,
          2,
          3,
          4,
          5,
          6,
          7,
          8,
          9,
          10,
          11,
          12,
          13,
          14,
          15,
          16,
          17,
          18,
          19,
          20,
          21,
          22,
          23
         ],
         "xaxis": "x",
         "y": [
          3,
          2,
          2,
          2,
          2,
          4,
          7,
          17,
          33,
          47,
          65,
          61,
          61,
          59,
          56,
          52,
          47,
          46,
          40,
          34,
          23,
          15,
          8,
          4
         ],
         "yaxis": "y"
        }
       ],
       "layout": {
        "legend": {
         "title": {
          "text": "День"
         },
         "tracegroupgap": 0
        },
        "template": {
         "data": {
          "bar": [
           {
            "error_x": {
             "color": "#2a3f5f"
            },
            "error_y": {
             "color": "#2a3f5f"
            },
            "marker": {
             "line": {
              "color": "#E5ECF6",
              "width": 0.5
             }
            },
            "type": "bar"
           }
          ],
          "barpolar": [
           {
            "marker": {
             "line": {
              "color": "#E5ECF6",
              "width": 0.5
             }
            },
            "type": "barpolar"
           }
          ],
          "carpet": [
           {
            "aaxis": {
             "endlinecolor": "#2a3f5f",
             "gridcolor": "white",
             "linecolor": "white",
             "minorgridcolor": "white",
             "startlinecolor": "#2a3f5f"
            },
            "baxis": {
             "endlinecolor": "#2a3f5f",
             "gridcolor": "white",
             "linecolor": "white",
             "minorgridcolor": "white",
             "startlinecolor": "#2a3f5f"
            },
            "type": "carpet"
           }
          ],
          "choropleth": [
           {
            "colorbar": {
             "outlinewidth": 0,
             "ticks": ""
            },
            "type": "choropleth"
           }
          ],
          "contour": [
           {
            "colorbar": {
             "outlinewidth": 0,
             "ticks": ""
            },
            "colorscale": [
             [
              0,
              "#0d0887"
             ],
             [
              0.1111111111111111,
              "#46039f"
             ],
             [
              0.2222222222222222,
              "#7201a8"
             ],
             [
              0.3333333333333333,
              "#9c179e"
             ],
             [
              0.4444444444444444,
              "#bd3786"
             ],
             [
              0.5555555555555556,
              "#d8576b"
             ],
             [
              0.6666666666666666,
              "#ed7953"
             ],
             [
              0.7777777777777778,
              "#fb9f3a"
             ],
             [
              0.8888888888888888,
              "#fdca26"
             ],
             [
              1,
              "#f0f921"
             ]
            ],
            "type": "contour"
           }
          ],
          "contourcarpet": [
           {
            "colorbar": {
             "outlinewidth": 0,
             "ticks": ""
            },
            "type": "contourcarpet"
           }
          ],
          "heatmap": [
           {
            "colorbar": {
             "outlinewidth": 0,
             "ticks": ""
            },
            "colorscale": [
             [
              0,
              "#0d0887"
             ],
             [
              0.1111111111111111,
              "#46039f"
             ],
             [
              0.2222222222222222,
              "#7201a8"
             ],
             [
              0.3333333333333333,
              "#9c179e"
             ],
             [
              0.4444444444444444,
              "#bd3786"
             ],
             [
              0.5555555555555556,
              "#d8576b"
             ],
             [
              0.6666666666666666,
              "#ed7953"
             ],
             [
              0.7777777777777778,
              "#fb9f3a"
             ],
             [
              0.8888888888888888,
              "#fdca26"
             ],
             [
              1,
              "#f0f921"
             ]
            ],
            "type": "heatmap"
           }
          ],
          "heatmapgl": [
           {
            "colorbar": {
             "outlinewidth": 0,
             "ticks": ""
            },
            "colorscale": [
             [
              0,
              "#0d0887"
             ],
             [
              0.1111111111111111,
              "#46039f"
             ],
             [
              0.2222222222222222,
              "#7201a8"
             ],
             [
              0.3333333333333333,
              "#9c179e"
             ],
             [
              0.4444444444444444,
              "#bd3786"
             ],
             [
              0.5555555555555556,
              "#d8576b"
             ],
             [
              0.6666666666666666,
              "#ed7953"
             ],
             [
              0.7777777777777778,
              "#fb9f3a"
             ],
             [
              0.8888888888888888,
              "#fdca26"
             ],
             [
              1,
              "#f0f921"
             ]
            ],
            "type": "heatmapgl"
           }
          ],
          "histogram": [
           {
            "marker": {
             "colorbar": {
              "outlinewidth": 0,
              "ticks": ""
             }
            },
            "type": "histogram"
           }
          ],
          "histogram2d": [
           {
            "colorbar": {
             "outlinewidth": 0,
             "ticks": ""
            },
            "colorscale": [
             [
              0,
              "#0d0887"
             ],
             [
              0.1111111111111111,
              "#46039f"
             ],
             [
              0.2222222222222222,
              "#7201a8"
             ],
             [
              0.3333333333333333,
              "#9c179e"
             ],
             [
              0.4444444444444444,
              "#bd3786"
             ],
             [
              0.5555555555555556,
              "#d8576b"
             ],
             [
              0.6666666666666666,
              "#ed7953"
             ],
             [
              0.7777777777777778,
              "#fb9f3a"
             ],
             [
              0.8888888888888888,
              "#fdca26"
             ],
             [
              1,
              "#f0f921"
             ]
            ],
            "type": "histogram2d"
           }
          ],
          "histogram2dcontour": [
           {
            "colorbar": {
             "outlinewidth": 0,
             "ticks": ""
            },
            "colorscale": [
             [
              0,
              "#0d0887"
             ],
             [
              0.1111111111111111,
              "#46039f"
             ],
             [
              0.2222222222222222,
              "#7201a8"
             ],
             [
              0.3333333333333333,
              "#9c179e"
             ],
             [
              0.4444444444444444,
              "#bd3786"
             ],
             [
              0.5555555555555556,
              "#d8576b"
             ],
             [
              0.6666666666666666,
              "#ed7953"
             ],
             [
              0.7777777777777778,
              "#fb9f3a"
             ],
             [
              0.8888888888888888,
              "#fdca26"
             ],
             [
              1,
              "#f0f921"
             ]
            ],
            "type": "histogram2dcontour"
           }
          ],
          "mesh3d": [
           {
            "colorbar": {
             "outlinewidth": 0,
             "ticks": ""
            },
            "type": "mesh3d"
           }
          ],
          "parcoords": [
           {
            "line": {
             "colorbar": {
              "outlinewidth": 0,
              "ticks": ""
             }
            },
            "type": "parcoords"
           }
          ],
          "pie": [
           {
            "automargin": true,
            "type": "pie"
           }
          ],
          "scatter": [
           {
            "marker": {
             "colorbar": {
              "outlinewidth": 0,
              "ticks": ""
             }
            },
            "type": "scatter"
           }
          ],
          "scatter3d": [
           {
            "line": {
             "colorbar": {
              "outlinewidth": 0,
              "ticks": ""
             }
            },
            "marker": {
             "colorbar": {
              "outlinewidth": 0,
              "ticks": ""
             }
            },
            "type": "scatter3d"
           }
          ],
          "scattercarpet": [
           {
            "marker": {
             "colorbar": {
              "outlinewidth": 0,
              "ticks": ""
             }
            },
            "type": "scattercarpet"
           }
          ],
          "scattergeo": [
           {
            "marker": {
             "colorbar": {
              "outlinewidth": 0,
              "ticks": ""
             }
            },
            "type": "scattergeo"
           }
          ],
          "scattergl": [
           {
            "marker": {
             "colorbar": {
              "outlinewidth": 0,
              "ticks": ""
             }
            },
            "type": "scattergl"
           }
          ],
          "scattermapbox": [
           {
            "marker": {
             "colorbar": {
              "outlinewidth": 0,
              "ticks": ""
             }
            },
            "type": "scattermapbox"
           }
          ],
          "scatterpolar": [
           {
            "marker": {
             "colorbar": {
              "outlinewidth": 0,
              "ticks": ""
             }
            },
            "type": "scatterpolar"
           }
          ],
          "scatterpolargl": [
           {
            "marker": {
             "colorbar": {
              "outlinewidth": 0,
              "ticks": ""
             }
            },
            "type": "scatterpolargl"
           }
          ],
          "scatterternary": [
           {
            "marker": {
             "colorbar": {
              "outlinewidth": 0,
              "ticks": ""
             }
            },
            "type": "scatterternary"
           }
          ],
          "surface": [
           {
            "colorbar": {
             "outlinewidth": 0,
             "ticks": ""
            },
            "colorscale": [
             [
              0,
              "#0d0887"
             ],
             [
              0.1111111111111111,
              "#46039f"
             ],
             [
              0.2222222222222222,
              "#7201a8"
             ],
             [
              0.3333333333333333,
              "#9c179e"
             ],
             [
              0.4444444444444444,
              "#bd3786"
             ],
             [
              0.5555555555555556,
              "#d8576b"
             ],
             [
              0.6666666666666666,
              "#ed7953"
             ],
             [
              0.7777777777777778,
              "#fb9f3a"
             ],
             [
              0.8888888888888888,
              "#fdca26"
             ],
             [
              1,
              "#f0f921"
             ]
            ],
            "type": "surface"
           }
          ],
          "table": [
           {
            "cells": {
             "fill": {
              "color": "#EBF0F8"
             },
             "line": {
              "color": "white"
             }
            },
            "header": {
             "fill": {
              "color": "#C8D4E3"
             },
             "line": {
              "color": "white"
             }
            },
            "type": "table"
           }
          ]
         },
         "layout": {
          "annotationdefaults": {
           "arrowcolor": "#2a3f5f",
           "arrowhead": 0,
           "arrowwidth": 1
          },
          "autotypenumbers": "strict",
          "coloraxis": {
           "colorbar": {
            "outlinewidth": 0,
            "ticks": ""
           }
          },
          "colorscale": {
           "diverging": [
            [
             0,
             "#8e0152"
            ],
            [
             0.1,
             "#c51b7d"
            ],
            [
             0.2,
             "#de77ae"
            ],
            [
             0.3,
             "#f1b6da"
            ],
            [
             0.4,
             "#fde0ef"
            ],
            [
             0.5,
             "#f7f7f7"
            ],
            [
             0.6,
             "#e6f5d0"
            ],
            [
             0.7,
             "#b8e186"
            ],
            [
             0.8,
             "#7fbc41"
            ],
            [
             0.9,
             "#4d9221"
            ],
            [
             1,
             "#276419"
            ]
           ],
           "sequential": [
            [
             0,
             "#0d0887"
            ],
            [
             0.1111111111111111,
             "#46039f"
            ],
            [
             0.2222222222222222,
             "#7201a8"
            ],
            [
             0.3333333333333333,
             "#9c179e"
            ],
            [
             0.4444444444444444,
             "#bd3786"
            ],
            [
             0.5555555555555556,
             "#d8576b"
            ],
            [
             0.6666666666666666,
             "#ed7953"
            ],
            [
             0.7777777777777778,
             "#fb9f3a"
            ],
            [
             0.8888888888888888,
             "#fdca26"
            ],
            [
             1,
             "#f0f921"
            ]
           ],
           "sequentialminus": [
            [
             0,
             "#0d0887"
            ],
            [
             0.1111111111111111,
             "#46039f"
            ],
            [
             0.2222222222222222,
             "#7201a8"
            ],
            [
             0.3333333333333333,
             "#9c179e"
            ],
            [
             0.4444444444444444,
             "#bd3786"
            ],
            [
             0.5555555555555556,
             "#d8576b"
            ],
            [
             0.6666666666666666,
             "#ed7953"
            ],
            [
             0.7777777777777778,
             "#fb9f3a"
            ],
            [
             0.8888888888888888,
             "#fdca26"
            ],
            [
             1,
             "#f0f921"
            ]
           ]
          },
          "colorway": [
           "#636efa",
           "#EF553B",
           "#00cc96",
           "#ab63fa",
           "#FFA15A",
           "#19d3f3",
           "#FF6692",
           "#B6E880",
           "#FF97FF",
           "#FECB52"
          ],
          "font": {
           "color": "#2a3f5f"
          },
          "geo": {
           "bgcolor": "white",
           "lakecolor": "white",
           "landcolor": "#E5ECF6",
           "showlakes": true,
           "showland": true,
           "subunitcolor": "white"
          },
          "hoverlabel": {
           "align": "left"
          },
          "hovermode": "closest",
          "mapbox": {
           "style": "light"
          },
          "paper_bgcolor": "white",
          "plot_bgcolor": "#E5ECF6",
          "polar": {
           "angularaxis": {
            "gridcolor": "white",
            "linecolor": "white",
            "ticks": ""
           },
           "bgcolor": "#E5ECF6",
           "radialaxis": {
            "gridcolor": "white",
            "linecolor": "white",
            "ticks": ""
           }
          },
          "scene": {
           "xaxis": {
            "backgroundcolor": "#E5ECF6",
            "gridcolor": "white",
            "gridwidth": 2,
            "linecolor": "white",
            "showbackground": true,
            "ticks": "",
            "zerolinecolor": "white"
           },
           "yaxis": {
            "backgroundcolor": "#E5ECF6",
            "gridcolor": "white",
            "gridwidth": 2,
            "linecolor": "white",
            "showbackground": true,
            "ticks": "",
            "zerolinecolor": "white"
           },
           "zaxis": {
            "backgroundcolor": "#E5ECF6",
            "gridcolor": "white",
            "gridwidth": 2,
            "linecolor": "white",
            "showbackground": true,
            "ticks": "",
            "zerolinecolor": "white"
           }
          },
          "shapedefaults": {
           "line": {
            "color": "#2a3f5f"
           }
          },
          "ternary": {
           "aaxis": {
            "gridcolor": "white",
            "linecolor": "white",
            "ticks": ""
           },
           "baxis": {
            "gridcolor": "white",
            "linecolor": "white",
            "ticks": ""
           },
           "bgcolor": "#E5ECF6",
           "caxis": {
            "gridcolor": "white",
            "linecolor": "white",
            "ticks": ""
           }
          },
          "title": {
           "x": 0.05
          },
          "xaxis": {
           "automargin": true,
           "gridcolor": "white",
           "linecolor": "white",
           "ticks": "",
           "title": {
            "standoff": 15
           },
           "zerolinecolor": "white",
           "zerolinewidth": 2
          },
          "yaxis": {
           "automargin": true,
           "gridcolor": "white",
           "linecolor": "white",
           "ticks": "",
           "title": {
            "standoff": 15
           },
           "zerolinecolor": "white",
           "zerolinewidth": 2
          }
         }
        },
        "title": {
         "text": "Изменение кол-ва операторов по дням и часам"
        },
        "xaxis": {
         "anchor": "y",
         "domain": [
          0,
          1
         ],
         "title": {
          "text": "Часы в сутках"
         }
        },
        "yaxis": {
         "anchor": "x",
         "domain": [
          0,
          1
         ],
         "title": {
          "text": "Кол-во операторов"
         }
        }
       }
      },
      "text/html": [
       "<div>                            <div id=\"1505b6f0-20f1-43b1-b2a2-6ce290ca94e6\" class=\"plotly-graph-div\" style=\"height:525px; width:100%;\"></div>            <script type=\"text/javascript\">                require([\"plotly\"], function(Plotly) {                    window.PLOTLYENV=window.PLOTLYENV || {};                                    if (document.getElementById(\"1505b6f0-20f1-43b1-b2a2-6ce290ca94e6\")) {                    Plotly.newPlot(                        \"1505b6f0-20f1-43b1-b2a2-6ce290ca94e6\",                        [{\"hovertemplate\": \"\\u0414\\u0435\\u043d\\u044c=1<br>\\u0427\\u0430\\u0441\\u044b \\u0432 \\u0441\\u0443\\u0442\\u043a\\u0430\\u0445=%{x}<br>\\u041a\\u043e\\u043b-\\u0432\\u043e \\u043e\\u043f\\u0435\\u0440\\u0430\\u0442\\u043e\\u0440\\u043e\\u0432=%{y}<extra></extra>\", \"legendgroup\": \"1\", \"line\": {\"color\": \"#636efa\", \"dash\": \"solid\"}, \"mode\": \"lines\", \"name\": \"1\", \"orientation\": \"v\", \"showlegend\": true, \"type\": \"scatter\", \"x\": [0, 1, 2, 3, 4, 5, 6, 7, 8, 9, 10, 11, 12, 13, 14, 15, 16, 17, 18, 19, 20, 21, 22, 23], \"xaxis\": \"x\", \"y\": [3, 2, 2, 2, 2, 4, 7, 17, 35, 49, 67, 63, 63, 61, 57, 53, 49, 48, 42, 35, 24, 15, 8, 4], \"yaxis\": \"y\"}, {\"hovertemplate\": \"\\u0414\\u0435\\u043d\\u044c=2<br>\\u0427\\u0430\\u0441\\u044b \\u0432 \\u0441\\u0443\\u0442\\u043a\\u0430\\u0445=%{x}<br>\\u041a\\u043e\\u043b-\\u0432\\u043e \\u043e\\u043f\\u0435\\u0440\\u0430\\u0442\\u043e\\u0440\\u043e\\u0432=%{y}<extra></extra>\", \"legendgroup\": \"2\", \"line\": {\"color\": \"#EF553B\", \"dash\": \"solid\"}, \"mode\": \"lines\", \"name\": \"2\", \"orientation\": \"v\", \"showlegend\": true, \"type\": \"scatter\", \"x\": [0, 1, 2, 3, 4, 5, 6, 7, 8, 9, 10, 11, 12, 13, 14, 15, 16, 17, 18, 19, 20, 21, 22, 23], \"xaxis\": \"x\", \"y\": [3, 2, 2, 2, 3, 5, 8, 19, 39, 55, 75, 70, 71, 68, 64, 60, 55, 53, 47, 39, 27, 16, 9, 5], \"yaxis\": \"y\"}, {\"hovertemplate\": \"\\u0414\\u0435\\u043d\\u044c=3<br>\\u0427\\u0430\\u0441\\u044b \\u0432 \\u0441\\u0443\\u0442\\u043a\\u0430\\u0445=%{x}<br>\\u041a\\u043e\\u043b-\\u0432\\u043e \\u043e\\u043f\\u0435\\u0440\\u0430\\u0442\\u043e\\u0440\\u043e\\u0432=%{y}<extra></extra>\", \"legendgroup\": \"3\", \"line\": {\"color\": \"#00cc96\", \"dash\": \"solid\"}, \"mode\": \"lines\", \"name\": \"3\", \"orientation\": \"v\", \"showlegend\": true, \"type\": \"scatter\", \"x\": [0, 1, 2, 3, 4, 5, 6, 7, 8, 9, 10, 11, 12, 13, 14, 15, 16, 17, 18, 19, 20, 21, 22, 23], \"xaxis\": \"x\", \"y\": [3, 2, 2, 2, 2, 4, 7, 17, 34, 47, 65, 61, 61, 59, 56, 52, 48, 46, 40, 34, 24, 15, 8, 4], \"yaxis\": \"y\"}, {\"hovertemplate\": \"\\u0414\\u0435\\u043d\\u044c=4<br>\\u0427\\u0430\\u0441\\u044b \\u0432 \\u0441\\u0443\\u0442\\u043a\\u0430\\u0445=%{x}<br>\\u041a\\u043e\\u043b-\\u0432\\u043e \\u043e\\u043f\\u0435\\u0440\\u0430\\u0442\\u043e\\u0440\\u043e\\u0432=%{y}<extra></extra>\", \"legendgroup\": \"4\", \"line\": {\"color\": \"#ab63fa\", \"dash\": \"solid\"}, \"mode\": \"lines\", \"name\": \"4\", \"orientation\": \"v\", \"showlegend\": true, \"type\": \"scatter\", \"x\": [0, 1, 2, 3, 4, 5, 6, 7, 8, 9, 10, 11, 12, 13, 14, 15, 16, 17, 18, 19, 20, 21, 22, 23], \"xaxis\": \"x\", \"y\": [3, 2, 2, 2, 3, 5, 9, 22, 46, 65, 90, 83, 84, 81, 76, 71, 65, 63, 55, 46, 32, 19, 10, 5], \"yaxis\": \"y\"}, {\"hovertemplate\": \"\\u0414\\u0435\\u043d\\u044c=5<br>\\u0427\\u0430\\u0441\\u044b \\u0432 \\u0441\\u0443\\u0442\\u043a\\u0430\\u0445=%{x}<br>\\u041a\\u043e\\u043b-\\u0432\\u043e \\u043e\\u043f\\u0435\\u0440\\u0430\\u0442\\u043e\\u0440\\u043e\\u0432=%{y}<extra></extra>\", \"legendgroup\": \"5\", \"line\": {\"color\": \"#FFA15A\", \"dash\": \"solid\"}, \"mode\": \"lines\", \"name\": \"5\", \"orientation\": \"v\", \"showlegend\": true, \"type\": \"scatter\", \"x\": [0, 1, 2, 3, 4, 5, 6, 7, 8, 9, 10, 11, 12, 13, 14, 15, 16, 17, 18, 19, 20, 21, 22, 23], \"xaxis\": \"x\", \"y\": [3, 2, 2, 2, 3, 6, 10, 24, 50, 70, 97, 90, 91, 87, 82, 76, 70, 69, 60, 50, 35, 20, 11, 6], \"yaxis\": \"y\"}, {\"hovertemplate\": \"\\u0414\\u0435\\u043d\\u044c=6<br>\\u0427\\u0430\\u0441\\u044b \\u0432 \\u0441\\u0443\\u0442\\u043a\\u0430\\u0445=%{x}<br>\\u041a\\u043e\\u043b-\\u0432\\u043e \\u043e\\u043f\\u0435\\u0440\\u0430\\u0442\\u043e\\u0440\\u043e\\u0432=%{y}<extra></extra>\", \"legendgroup\": \"6\", \"line\": {\"color\": \"#19d3f3\", \"dash\": \"solid\"}, \"mode\": \"lines\", \"name\": \"6\", \"orientation\": \"v\", \"showlegend\": true, \"type\": \"scatter\", \"x\": [0, 1, 2, 3, 4, 5, 6, 7, 8, 9, 10, 11, 12, 13, 14, 15, 16, 17, 18, 19, 20, 21, 22, 23], \"xaxis\": \"x\", \"y\": [4, 2, 2, 2, 3, 6, 11, 28, 59, 84, 116, 107, 108, 104, 98, 91, 84, 82, 71, 59, 41, 24, 12, 6], \"yaxis\": \"y\"}, {\"hovertemplate\": \"\\u0414\\u0435\\u043d\\u044c=7<br>\\u0427\\u0430\\u0441\\u044b \\u0432 \\u0441\\u0443\\u0442\\u043a\\u0430\\u0445=%{x}<br>\\u041a\\u043e\\u043b-\\u0432\\u043e \\u043e\\u043f\\u0435\\u0440\\u0430\\u0442\\u043e\\u0440\\u043e\\u0432=%{y}<extra></extra>\", \"legendgroup\": \"7\", \"line\": {\"color\": \"#FF6692\", \"dash\": \"solid\"}, \"mode\": \"lines\", \"name\": \"7\", \"orientation\": \"v\", \"showlegend\": true, \"type\": \"scatter\", \"x\": [0, 1, 2, 3, 4, 5, 6, 7, 8, 9, 10, 11, 12, 13, 14, 15, 16, 17, 18, 19, 20, 21, 22, 23], \"xaxis\": \"x\", \"y\": [3, 2, 2, 2, 2, 4, 8, 18, 36, 50, 70, 65, 65, 63, 59, 55, 51, 49, 43, 36, 25, 15, 8, 5], \"yaxis\": \"y\"}, {\"hovertemplate\": \"\\u0414\\u0435\\u043d\\u044c=8<br>\\u0427\\u0430\\u0441\\u044b \\u0432 \\u0441\\u0443\\u0442\\u043a\\u0430\\u0445=%{x}<br>\\u041a\\u043e\\u043b-\\u0432\\u043e \\u043e\\u043f\\u0435\\u0440\\u0430\\u0442\\u043e\\u0440\\u043e\\u0432=%{y}<extra></extra>\", \"legendgroup\": \"8\", \"line\": {\"color\": \"#B6E880\", \"dash\": \"solid\"}, \"mode\": \"lines\", \"name\": \"8\", \"orientation\": \"v\", \"showlegend\": true, \"type\": \"scatter\", \"x\": [0, 1, 2, 3, 4, 5, 6, 7, 8, 9, 10, 11, 12, 13, 14, 15, 16, 17, 18, 19, 20, 21, 22, 23], \"xaxis\": \"x\", \"y\": [2, 2, 1, 2, 2, 3, 6, 13, 25, 35, 48, 44, 45, 43, 41, 38, 35, 34, 30, 25, 18, 11, 6, 4], \"yaxis\": \"y\"}, {\"hovertemplate\": \"\\u0414\\u0435\\u043d\\u044c=9<br>\\u0427\\u0430\\u0441\\u044b \\u0432 \\u0441\\u0443\\u0442\\u043a\\u0430\\u0445=%{x}<br>\\u041a\\u043e\\u043b-\\u0432\\u043e \\u043e\\u043f\\u0435\\u0440\\u0430\\u0442\\u043e\\u0440\\u043e\\u0432=%{y}<extra></extra>\", \"legendgroup\": \"9\", \"line\": {\"color\": \"#FF97FF\", \"dash\": \"solid\"}, \"mode\": \"lines\", \"name\": \"9\", \"orientation\": \"v\", \"showlegend\": true, \"type\": \"scatter\", \"x\": [0, 1, 2, 3, 4, 5, 6, 7, 8, 9, 10, 11, 12, 13, 14, 15, 16, 17, 18, 19, 20, 21, 22, 23], \"xaxis\": \"x\", \"y\": [2, 2, 2, 2, 2, 4, 7, 15, 29, 41, 57, 53, 53, 51, 48, 45, 41, 40, 35, 29, 21, 13, 7, 4], \"yaxis\": \"y\"}, {\"hovertemplate\": \"\\u0414\\u0435\\u043d\\u044c=10<br>\\u0427\\u0430\\u0441\\u044b \\u0432 \\u0441\\u0443\\u0442\\u043a\\u0430\\u0445=%{x}<br>\\u041a\\u043e\\u043b-\\u0432\\u043e \\u043e\\u043f\\u0435\\u0440\\u0430\\u0442\\u043e\\u0440\\u043e\\u0432=%{y}<extra></extra>\", \"legendgroup\": \"10\", \"line\": {\"color\": \"#FECB52\", \"dash\": \"solid\"}, \"mode\": \"lines\", \"name\": \"10\", \"orientation\": \"v\", \"showlegend\": true, \"type\": \"scatter\", \"x\": [0, 1, 2, 3, 4, 5, 6, 7, 8, 9, 10, 11, 12, 13, 14, 15, 16, 17, 18, 19, 20, 21, 22, 23], \"xaxis\": \"x\", \"y\": [3, 2, 2, 2, 3, 5, 8, 19, 40, 56, 77, 72, 72, 70, 66, 61, 56, 55, 48, 40, 28, 17, 9, 5], \"yaxis\": \"y\"}, {\"hovertemplate\": \"\\u0414\\u0435\\u043d\\u044c=11<br>\\u0427\\u0430\\u0441\\u044b \\u0432 \\u0441\\u0443\\u0442\\u043a\\u0430\\u0445=%{x}<br>\\u041a\\u043e\\u043b-\\u0432\\u043e \\u043e\\u043f\\u0435\\u0440\\u0430\\u0442\\u043e\\u0440\\u043e\\u0432=%{y}<extra></extra>\", \"legendgroup\": \"11\", \"line\": {\"color\": \"#636efa\", \"dash\": \"solid\"}, \"mode\": \"lines\", \"name\": \"11\", \"orientation\": \"v\", \"showlegend\": true, \"type\": \"scatter\", \"x\": [0, 1, 2, 3, 4, 5, 6, 7, 8, 9, 10, 11, 12, 13, 14, 15, 16, 17, 18, 19, 20, 21, 22, 23], \"xaxis\": \"x\", \"y\": [3, 2, 2, 2, 2, 4, 7, 17, 34, 48, 66, 61, 62, 59, 56, 52, 48, 47, 41, 34, 24, 15, 8, 4], \"yaxis\": \"y\"}, {\"hovertemplate\": \"\\u0414\\u0435\\u043d\\u044c=12<br>\\u0427\\u0430\\u0441\\u044b \\u0432 \\u0441\\u0443\\u0442\\u043a\\u0430\\u0445=%{x}<br>\\u041a\\u043e\\u043b-\\u0432\\u043e \\u043e\\u043f\\u0435\\u0440\\u0430\\u0442\\u043e\\u0440\\u043e\\u0432=%{y}<extra></extra>\", \"legendgroup\": \"12\", \"line\": {\"color\": \"#EF553B\", \"dash\": \"solid\"}, \"mode\": \"lines\", \"name\": \"12\", \"orientation\": \"v\", \"showlegend\": true, \"type\": \"scatter\", \"x\": [0, 1, 2, 3, 4, 5, 6, 7, 8, 9, 10, 11, 12, 13, 14, 15, 16, 17, 18, 19, 20, 21, 22, 23], \"xaxis\": \"x\", \"y\": [3, 2, 2, 2, 2, 4, 7, 17, 34, 48, 66, 62, 62, 60, 56, 52, 48, 47, 41, 34, 24, 15, 8, 4], \"yaxis\": \"y\"}, {\"hovertemplate\": \"\\u0414\\u0435\\u043d\\u044c=13<br>\\u0427\\u0430\\u0441\\u044b \\u0432 \\u0441\\u0443\\u0442\\u043a\\u0430\\u0445=%{x}<br>\\u041a\\u043e\\u043b-\\u0432\\u043e \\u043e\\u043f\\u0435\\u0440\\u0430\\u0442\\u043e\\u0440\\u043e\\u0432=%{y}<extra></extra>\", \"legendgroup\": \"13\", \"line\": {\"color\": \"#00cc96\", \"dash\": \"solid\"}, \"mode\": \"lines\", \"name\": \"13\", \"orientation\": \"v\", \"showlegend\": true, \"type\": \"scatter\", \"x\": [0, 1, 2, 3, 4, 5, 6, 7, 8, 9, 10, 11, 12, 13, 14, 15, 16, 17, 18, 19, 20, 21, 22, 23], \"xaxis\": \"x\", \"y\": [3, 2, 2, 2, 2, 4, 7, 17, 34, 48, 66, 61, 62, 59, 56, 52, 48, 47, 41, 34, 24, 15, 8, 4], \"yaxis\": \"y\"}, {\"hovertemplate\": \"\\u0414\\u0435\\u043d\\u044c=14<br>\\u0427\\u0430\\u0441\\u044b \\u0432 \\u0441\\u0443\\u0442\\u043a\\u0430\\u0445=%{x}<br>\\u041a\\u043e\\u043b-\\u0432\\u043e \\u043e\\u043f\\u0435\\u0440\\u0430\\u0442\\u043e\\u0440\\u043e\\u0432=%{y}<extra></extra>\", \"legendgroup\": \"14\", \"line\": {\"color\": \"#ab63fa\", \"dash\": \"solid\"}, \"mode\": \"lines\", \"name\": \"14\", \"orientation\": \"v\", \"showlegend\": true, \"type\": \"scatter\", \"x\": [0, 1, 2, 3, 4, 5, 6, 7, 8, 9, 10, 11, 12, 13, 14, 15, 16, 17, 18, 19, 20, 21, 22, 23], \"xaxis\": \"x\", \"y\": [3, 2, 2, 2, 2, 4, 7, 17, 33, 47, 65, 60, 61, 58, 55, 51, 47, 46, 40, 33, 23, 14, 8, 4], \"yaxis\": \"y\"}, {\"hovertemplate\": \"\\u0414\\u0435\\u043d\\u044c=15<br>\\u0427\\u0430\\u0441\\u044b \\u0432 \\u0441\\u0443\\u0442\\u043a\\u0430\\u0445=%{x}<br>\\u041a\\u043e\\u043b-\\u0432\\u043e \\u043e\\u043f\\u0435\\u0440\\u0430\\u0442\\u043e\\u0440\\u043e\\u0432=%{y}<extra></extra>\", \"legendgroup\": \"15\", \"line\": {\"color\": \"#FFA15A\", \"dash\": \"solid\"}, \"mode\": \"lines\", \"name\": \"15\", \"orientation\": \"v\", \"showlegend\": true, \"type\": \"scatter\", \"x\": [0, 1, 2, 3, 4, 5, 6, 7, 8, 9, 10, 11, 12, 13, 14, 15, 16, 17, 18, 19, 20, 21, 22, 23], \"xaxis\": \"x\", \"y\": [3, 2, 2, 2, 3, 5, 8, 19, 40, 57, 78, 73, 74, 71, 67, 62, 57, 56, 49, 40, 28, 17, 9, 5], \"yaxis\": \"y\"}, {\"hovertemplate\": \"\\u0414\\u0435\\u043d\\u044c=16<br>\\u0427\\u0430\\u0441\\u044b \\u0432 \\u0441\\u0443\\u0442\\u043a\\u0430\\u0445=%{x}<br>\\u041a\\u043e\\u043b-\\u0432\\u043e \\u043e\\u043f\\u0435\\u0440\\u0430\\u0442\\u043e\\u0440\\u043e\\u0432=%{y}<extra></extra>\", \"legendgroup\": \"16\", \"line\": {\"color\": \"#19d3f3\", \"dash\": \"solid\"}, \"mode\": \"lines\", \"name\": \"16\", \"orientation\": \"v\", \"showlegend\": true, \"type\": \"scatter\", \"x\": [0, 1, 2, 3, 4, 5, 6, 7, 8, 9, 10, 11, 12, 13, 14, 15, 16, 17, 18, 19, 20, 21, 22, 23], \"xaxis\": \"x\", \"y\": [3, 2, 2, 2, 2, 4, 8, 17, 35, 50, 68, 64, 64, 62, 58, 54, 50, 48, 42, 35, 25, 15, 8, 5], \"yaxis\": \"y\"}, {\"hovertemplate\": \"\\u0414\\u0435\\u043d\\u044c=17<br>\\u0427\\u0430\\u0441\\u044b \\u0432 \\u0441\\u0443\\u0442\\u043a\\u0430\\u0445=%{x}<br>\\u041a\\u043e\\u043b-\\u0432\\u043e \\u043e\\u043f\\u0435\\u0440\\u0430\\u0442\\u043e\\u0440\\u043e\\u0432=%{y}<extra></extra>\", \"legendgroup\": \"17\", \"line\": {\"color\": \"#FF6692\", \"dash\": \"solid\"}, \"mode\": \"lines\", \"name\": \"17\", \"orientation\": \"v\", \"showlegend\": true, \"type\": \"scatter\", \"x\": [0, 1, 2, 3, 4, 5, 6, 7, 8, 9, 10, 11, 12, 13, 14, 15, 16, 17, 18, 19, 20, 21, 22, 23], \"xaxis\": \"x\", \"y\": [3, 2, 2, 2, 3, 5, 8, 19, 38, 54, 74, 69, 69, 67, 63, 59, 54, 52, 46, 38, 27, 16, 9, 5], \"yaxis\": \"y\"}, {\"hovertemplate\": \"\\u0414\\u0435\\u043d\\u044c=18<br>\\u0427\\u0430\\u0441\\u044b \\u0432 \\u0441\\u0443\\u0442\\u043a\\u0430\\u0445=%{x}<br>\\u041a\\u043e\\u043b-\\u0432\\u043e \\u043e\\u043f\\u0435\\u0440\\u0430\\u0442\\u043e\\u0440\\u043e\\u0432=%{y}<extra></extra>\", \"legendgroup\": \"18\", \"line\": {\"color\": \"#B6E880\", \"dash\": \"solid\"}, \"mode\": \"lines\", \"name\": \"18\", \"orientation\": \"v\", \"showlegend\": true, \"type\": \"scatter\", \"x\": [0, 1, 2, 3, 4, 5, 6, 7, 8, 9, 10, 11, 12, 13, 14, 15, 16, 17, 18, 19, 20, 21, 22, 23], \"xaxis\": \"x\", \"y\": [3, 2, 2, 2, 2, 4, 8, 17, 35, 49, 68, 63, 64, 61, 58, 54, 50, 48, 42, 35, 25, 15, 8, 5], \"yaxis\": \"y\"}, {\"hovertemplate\": \"\\u0414\\u0435\\u043d\\u044c=19<br>\\u0427\\u0430\\u0441\\u044b \\u0432 \\u0441\\u0443\\u0442\\u043a\\u0430\\u0445=%{x}<br>\\u041a\\u043e\\u043b-\\u0432\\u043e \\u043e\\u043f\\u0435\\u0440\\u0430\\u0442\\u043e\\u0440\\u043e\\u0432=%{y}<extra></extra>\", \"legendgroup\": \"19\", \"line\": {\"color\": \"#FF97FF\", \"dash\": \"solid\"}, \"mode\": \"lines\", \"name\": \"19\", \"orientation\": \"v\", \"showlegend\": true, \"type\": \"scatter\", \"x\": [0, 1, 2, 3, 4, 5, 6, 7, 8, 9, 10, 11, 12, 13, 14, 15, 16, 17, 18, 19, 20, 21, 22, 23], \"xaxis\": \"x\", \"y\": [3, 2, 2, 2, 3, 5, 9, 21, 43, 61, 84, 78, 78, 75, 71, 66, 61, 59, 52, 43, 30, 18, 10, 5], \"yaxis\": \"y\"}, {\"hovertemplate\": \"\\u0414\\u0435\\u043d\\u044c=20<br>\\u0427\\u0430\\u0441\\u044b \\u0432 \\u0441\\u0443\\u0442\\u043a\\u0430\\u0445=%{x}<br>\\u041a\\u043e\\u043b-\\u0432\\u043e \\u043e\\u043f\\u0435\\u0440\\u0430\\u0442\\u043e\\u0440\\u043e\\u0432=%{y}<extra></extra>\", \"legendgroup\": \"20\", \"line\": {\"color\": \"#FECB52\", \"dash\": \"solid\"}, \"mode\": \"lines\", \"name\": \"20\", \"orientation\": \"v\", \"showlegend\": true, \"type\": \"scatter\", \"x\": [0, 1, 2, 3, 4, 5, 6, 7, 8, 9, 10, 11, 12, 13, 14, 15, 16, 17, 18, 19, 20, 21, 22, 23], \"xaxis\": \"x\", \"y\": [3, 2, 2, 2, 3, 5, 8, 18, 37, 53, 73, 68, 68, 65, 62, 57, 53, 51, 45, 37, 26, 16, 9, 5], \"yaxis\": \"y\"}, {\"hovertemplate\": \"\\u0414\\u0435\\u043d\\u044c=21<br>\\u0427\\u0430\\u0441\\u044b \\u0432 \\u0441\\u0443\\u0442\\u043a\\u0430\\u0445=%{x}<br>\\u041a\\u043e\\u043b-\\u0432\\u043e \\u043e\\u043f\\u0435\\u0440\\u0430\\u0442\\u043e\\u0440\\u043e\\u0432=%{y}<extra></extra>\", \"legendgroup\": \"21\", \"line\": {\"color\": \"#636efa\", \"dash\": \"solid\"}, \"mode\": \"lines\", \"name\": \"21\", \"orientation\": \"v\", \"showlegend\": true, \"type\": \"scatter\", \"x\": [0, 1, 2, 3, 4, 5, 6, 7, 8, 9, 10, 11, 12, 13, 14, 15, 16, 17, 18, 19, 20, 21, 22, 23], \"xaxis\": \"x\", \"y\": [3, 2, 2, 2, 2, 4, 7, 16, 31, 44, 61, 56, 57, 54, 52, 48, 44, 43, 38, 31, 22, 14, 8, 4], \"yaxis\": \"y\"}, {\"hovertemplate\": \"\\u0414\\u0435\\u043d\\u044c=22<br>\\u0427\\u0430\\u0441\\u044b \\u0432 \\u0441\\u0443\\u0442\\u043a\\u0430\\u0445=%{x}<br>\\u041a\\u043e\\u043b-\\u0432\\u043e \\u043e\\u043f\\u0435\\u0440\\u0430\\u0442\\u043e\\u0440\\u043e\\u0432=%{y}<extra></extra>\", \"legendgroup\": \"22\", \"line\": {\"color\": \"#EF553B\", \"dash\": \"solid\"}, \"mode\": \"lines\", \"name\": \"22\", \"orientation\": \"v\", \"showlegend\": true, \"type\": \"scatter\", \"x\": [0, 1, 2, 3, 4, 5, 6, 7, 8, 9, 10, 11, 12, 13, 14, 15, 16, 17, 18, 19, 20, 21, 22, 23], \"xaxis\": \"x\", \"y\": [3, 2, 2, 2, 2, 4, 7, 16, 33, 46, 64, 59, 60, 57, 54, 50, 46, 45, 40, 33, 23, 14, 8, 4], \"yaxis\": \"y\"}, {\"hovertemplate\": \"\\u0414\\u0435\\u043d\\u044c=23<br>\\u0427\\u0430\\u0441\\u044b \\u0432 \\u0441\\u0443\\u0442\\u043a\\u0430\\u0445=%{x}<br>\\u041a\\u043e\\u043b-\\u0432\\u043e \\u043e\\u043f\\u0435\\u0440\\u0430\\u0442\\u043e\\u0440\\u043e\\u0432=%{y}<extra></extra>\", \"legendgroup\": \"23\", \"line\": {\"color\": \"#00cc96\", \"dash\": \"solid\"}, \"mode\": \"lines\", \"name\": \"23\", \"orientation\": \"v\", \"showlegend\": true, \"type\": \"scatter\", \"x\": [0, 1, 2, 3, 4, 5, 6, 7, 8, 9, 10, 11, 12, 13, 14, 15, 16, 17, 18, 19, 20, 21, 22, 23], \"xaxis\": \"x\", \"y\": [3, 2, 2, 2, 3, 5, 9, 20, 41, 58, 81, 75, 75, 72, 69, 64, 59, 57, 50, 41, 29, 17, 9, 5], \"yaxis\": \"y\"}, {\"hovertemplate\": \"\\u0414\\u0435\\u043d\\u044c=24<br>\\u0427\\u0430\\u0441\\u044b \\u0432 \\u0441\\u0443\\u0442\\u043a\\u0430\\u0445=%{x}<br>\\u041a\\u043e\\u043b-\\u0432\\u043e \\u043e\\u043f\\u0435\\u0440\\u0430\\u0442\\u043e\\u0440\\u043e\\u0432=%{y}<extra></extra>\", \"legendgroup\": \"24\", \"line\": {\"color\": \"#ab63fa\", \"dash\": \"solid\"}, \"mode\": \"lines\", \"name\": \"24\", \"orientation\": \"v\", \"showlegend\": true, \"type\": \"scatter\", \"x\": [0, 1, 2, 3, 4, 5, 6, 7, 8, 9, 10, 11, 12, 13, 14, 15, 16, 17, 18, 19, 20, 21, 22, 23], \"xaxis\": \"x\", \"y\": [3, 2, 2, 2, 3, 5, 9, 21, 43, 61, 84, 78, 79, 76, 72, 67, 61, 60, 52, 43, 30, 18, 10, 5], \"yaxis\": \"y\"}, {\"hovertemplate\": \"\\u0414\\u0435\\u043d\\u044c=25<br>\\u0427\\u0430\\u0441\\u044b \\u0432 \\u0441\\u0443\\u0442\\u043a\\u0430\\u0445=%{x}<br>\\u041a\\u043e\\u043b-\\u0432\\u043e \\u043e\\u043f\\u0435\\u0440\\u0430\\u0442\\u043e\\u0440\\u043e\\u0432=%{y}<extra></extra>\", \"legendgroup\": \"25\", \"line\": {\"color\": \"#FFA15A\", \"dash\": \"solid\"}, \"mode\": \"lines\", \"name\": \"25\", \"orientation\": \"v\", \"showlegend\": true, \"type\": \"scatter\", \"x\": [0, 1, 2, 3, 4, 5, 6, 7, 8, 9, 10, 11, 12, 13, 14, 15, 16, 17, 18, 19, 20, 21, 22, 23], \"xaxis\": \"x\", \"y\": [3, 2, 2, 2, 3, 5, 9, 21, 43, 60, 83, 77, 78, 75, 71, 66, 60, 59, 51, 43, 30, 18, 10, 5], \"yaxis\": \"y\"}, {\"hovertemplate\": \"\\u0414\\u0435\\u043d\\u044c=26<br>\\u0427\\u0430\\u0441\\u044b \\u0432 \\u0441\\u0443\\u0442\\u043a\\u0430\\u0445=%{x}<br>\\u041a\\u043e\\u043b-\\u0432\\u043e \\u043e\\u043f\\u0435\\u0440\\u0430\\u0442\\u043e\\u0440\\u043e\\u0432=%{y}<extra></extra>\", \"legendgroup\": \"26\", \"line\": {\"color\": \"#19d3f3\", \"dash\": \"solid\"}, \"mode\": \"lines\", \"name\": \"26\", \"orientation\": \"v\", \"showlegend\": true, \"type\": \"scatter\", \"x\": [0, 1, 2, 3, 4, 5, 6, 7, 8, 9, 10, 11, 12, 13, 14, 15, 16, 17, 18, 19, 20, 21, 22, 23], \"xaxis\": \"x\", \"y\": [3, 2, 2, 2, 3, 5, 8, 20, 41, 58, 80, 74, 75, 72, 68, 63, 58, 56, 49, 41, 29, 17, 9, 5], \"yaxis\": \"y\"}, {\"hovertemplate\": \"\\u0414\\u0435\\u043d\\u044c=27<br>\\u0427\\u0430\\u0441\\u044b \\u0432 \\u0441\\u0443\\u0442\\u043a\\u0430\\u0445=%{x}<br>\\u041a\\u043e\\u043b-\\u0432\\u043e \\u043e\\u043f\\u0435\\u0440\\u0430\\u0442\\u043e\\u0440\\u043e\\u0432=%{y}<extra></extra>\", \"legendgroup\": \"27\", \"line\": {\"color\": \"#FF6692\", \"dash\": \"solid\"}, \"mode\": \"lines\", \"name\": \"27\", \"orientation\": \"v\", \"showlegend\": true, \"type\": \"scatter\", \"x\": [0, 1, 2, 3, 4, 5, 6, 7, 8, 9, 10, 11, 12, 13, 14, 15, 16, 17, 18, 19, 20, 21, 22, 23], \"xaxis\": \"x\", \"y\": [3, 2, 2, 2, 3, 5, 8, 19, 39, 55, 76, 71, 71, 68, 65, 60, 55, 54, 47, 39, 27, 17, 9, 5], \"yaxis\": \"y\"}, {\"hovertemplate\": \"\\u0414\\u0435\\u043d\\u044c=28<br>\\u0427\\u0430\\u0441\\u044b \\u0432 \\u0441\\u0443\\u0442\\u043a\\u0430\\u0445=%{x}<br>\\u041a\\u043e\\u043b-\\u0432\\u043e \\u043e\\u043f\\u0435\\u0440\\u0430\\u0442\\u043e\\u0440\\u043e\\u0432=%{y}<extra></extra>\", \"legendgroup\": \"28\", \"line\": {\"color\": \"#B6E880\", \"dash\": \"solid\"}, \"mode\": \"lines\", \"name\": \"28\", \"orientation\": \"v\", \"showlegend\": true, \"type\": \"scatter\", \"x\": [0, 1, 2, 3, 4, 5, 6, 7, 8, 9, 10, 11, 12, 13, 14, 15, 16, 17, 18, 19, 20, 21, 22, 23], \"xaxis\": \"x\", \"y\": [3, 2, 2, 2, 3, 5, 8, 19, 40, 56, 77, 72, 72, 69, 66, 61, 56, 55, 48, 40, 28, 17, 9, 5], \"yaxis\": \"y\"}, {\"hovertemplate\": \"\\u0414\\u0435\\u043d\\u044c=29<br>\\u0427\\u0430\\u0441\\u044b \\u0432 \\u0441\\u0443\\u0442\\u043a\\u0430\\u0445=%{x}<br>\\u041a\\u043e\\u043b-\\u0432\\u043e \\u043e\\u043f\\u0435\\u0440\\u0430\\u0442\\u043e\\u0440\\u043e\\u0432=%{y}<extra></extra>\", \"legendgroup\": \"29\", \"line\": {\"color\": \"#FF97FF\", \"dash\": \"solid\"}, \"mode\": \"lines\", \"name\": \"29\", \"orientation\": \"v\", \"showlegend\": true, \"type\": \"scatter\", \"x\": [0, 1, 2, 3, 4, 5, 6, 7, 8, 9, 10, 11, 12, 13, 14, 15, 16, 17, 18, 19, 20, 21, 22, 23], \"xaxis\": \"x\", \"y\": [3, 2, 2, 2, 2, 4, 7, 16, 32, 45, 62, 57, 58, 56, 53, 49, 45, 44, 38, 32, 22, 14, 8, 4], \"yaxis\": \"y\"}, {\"hovertemplate\": \"\\u0414\\u0435\\u043d\\u044c=30<br>\\u0427\\u0430\\u0441\\u044b \\u0432 \\u0441\\u0443\\u0442\\u043a\\u0430\\u0445=%{x}<br>\\u041a\\u043e\\u043b-\\u0432\\u043e \\u043e\\u043f\\u0435\\u0440\\u0430\\u0442\\u043e\\u0440\\u043e\\u0432=%{y}<extra></extra>\", \"legendgroup\": \"30\", \"line\": {\"color\": \"#FECB52\", \"dash\": \"solid\"}, \"mode\": \"lines\", \"name\": \"30\", \"orientation\": \"v\", \"showlegend\": true, \"type\": \"scatter\", \"x\": [0, 1, 2, 3, 4, 5, 6, 7, 8, 9, 10, 11, 12, 13, 14, 15, 16, 17, 18, 19, 20, 21, 22, 23], \"xaxis\": \"x\", \"y\": [3, 2, 2, 2, 2, 4, 7, 16, 32, 46, 63, 59, 59, 57, 54, 50, 46, 45, 39, 32, 23, 14, 8, 4], \"yaxis\": \"y\"}, {\"hovertemplate\": \"\\u0414\\u0435\\u043d\\u044c=31<br>\\u0427\\u0430\\u0441\\u044b \\u0432 \\u0441\\u0443\\u0442\\u043a\\u0430\\u0445=%{x}<br>\\u041a\\u043e\\u043b-\\u0432\\u043e \\u043e\\u043f\\u0435\\u0440\\u0430\\u0442\\u043e\\u0440\\u043e\\u0432=%{y}<extra></extra>\", \"legendgroup\": \"31\", \"line\": {\"color\": \"#636efa\", \"dash\": \"solid\"}, \"mode\": \"lines\", \"name\": \"31\", \"orientation\": \"v\", \"showlegend\": true, \"type\": \"scatter\", \"x\": [0, 1, 2, 3, 4, 5, 6, 7, 8, 9, 10, 11, 12, 13, 14, 15, 16, 17, 18, 19, 20, 21, 22, 23], \"xaxis\": \"x\", \"y\": [3, 2, 2, 2, 2, 4, 7, 17, 33, 47, 65, 61, 61, 59, 56, 52, 47, 46, 40, 34, 23, 15, 8, 4], \"yaxis\": \"y\"}],                        {\"legend\": {\"title\": {\"text\": \"\\u0414\\u0435\\u043d\\u044c\"}, \"tracegroupgap\": 0}, \"template\": {\"data\": {\"bar\": [{\"error_x\": {\"color\": \"#2a3f5f\"}, \"error_y\": {\"color\": \"#2a3f5f\"}, \"marker\": {\"line\": {\"color\": \"#E5ECF6\", \"width\": 0.5}}, \"type\": \"bar\"}], \"barpolar\": [{\"marker\": {\"line\": {\"color\": \"#E5ECF6\", \"width\": 0.5}}, \"type\": \"barpolar\"}], \"carpet\": [{\"aaxis\": {\"endlinecolor\": \"#2a3f5f\", \"gridcolor\": \"white\", \"linecolor\": \"white\", \"minorgridcolor\": \"white\", \"startlinecolor\": \"#2a3f5f\"}, \"baxis\": {\"endlinecolor\": \"#2a3f5f\", \"gridcolor\": \"white\", \"linecolor\": \"white\", \"minorgridcolor\": \"white\", \"startlinecolor\": \"#2a3f5f\"}, \"type\": \"carpet\"}], \"choropleth\": [{\"colorbar\": {\"outlinewidth\": 0, \"ticks\": \"\"}, \"type\": \"choropleth\"}], \"contour\": [{\"colorbar\": {\"outlinewidth\": 0, \"ticks\": \"\"}, \"colorscale\": [[0.0, \"#0d0887\"], [0.1111111111111111, \"#46039f\"], [0.2222222222222222, \"#7201a8\"], [0.3333333333333333, \"#9c179e\"], [0.4444444444444444, \"#bd3786\"], [0.5555555555555556, \"#d8576b\"], [0.6666666666666666, \"#ed7953\"], [0.7777777777777778, \"#fb9f3a\"], [0.8888888888888888, \"#fdca26\"], [1.0, \"#f0f921\"]], \"type\": \"contour\"}], \"contourcarpet\": [{\"colorbar\": {\"outlinewidth\": 0, \"ticks\": \"\"}, \"type\": \"contourcarpet\"}], \"heatmap\": [{\"colorbar\": {\"outlinewidth\": 0, \"ticks\": \"\"}, \"colorscale\": [[0.0, \"#0d0887\"], [0.1111111111111111, \"#46039f\"], [0.2222222222222222, \"#7201a8\"], [0.3333333333333333, \"#9c179e\"], [0.4444444444444444, \"#bd3786\"], [0.5555555555555556, \"#d8576b\"], [0.6666666666666666, \"#ed7953\"], [0.7777777777777778, \"#fb9f3a\"], [0.8888888888888888, \"#fdca26\"], [1.0, \"#f0f921\"]], \"type\": \"heatmap\"}], \"heatmapgl\": [{\"colorbar\": {\"outlinewidth\": 0, \"ticks\": \"\"}, \"colorscale\": [[0.0, \"#0d0887\"], [0.1111111111111111, \"#46039f\"], [0.2222222222222222, \"#7201a8\"], [0.3333333333333333, \"#9c179e\"], [0.4444444444444444, \"#bd3786\"], [0.5555555555555556, \"#d8576b\"], [0.6666666666666666, \"#ed7953\"], [0.7777777777777778, \"#fb9f3a\"], [0.8888888888888888, \"#fdca26\"], [1.0, \"#f0f921\"]], \"type\": \"heatmapgl\"}], \"histogram\": [{\"marker\": {\"colorbar\": {\"outlinewidth\": 0, \"ticks\": \"\"}}, \"type\": \"histogram\"}], \"histogram2d\": [{\"colorbar\": {\"outlinewidth\": 0, \"ticks\": \"\"}, \"colorscale\": [[0.0, \"#0d0887\"], [0.1111111111111111, \"#46039f\"], [0.2222222222222222, \"#7201a8\"], [0.3333333333333333, \"#9c179e\"], [0.4444444444444444, \"#bd3786\"], [0.5555555555555556, \"#d8576b\"], [0.6666666666666666, \"#ed7953\"], [0.7777777777777778, \"#fb9f3a\"], [0.8888888888888888, \"#fdca26\"], [1.0, \"#f0f921\"]], \"type\": \"histogram2d\"}], \"histogram2dcontour\": [{\"colorbar\": {\"outlinewidth\": 0, \"ticks\": \"\"}, \"colorscale\": [[0.0, \"#0d0887\"], [0.1111111111111111, \"#46039f\"], [0.2222222222222222, \"#7201a8\"], [0.3333333333333333, \"#9c179e\"], [0.4444444444444444, \"#bd3786\"], [0.5555555555555556, \"#d8576b\"], [0.6666666666666666, \"#ed7953\"], [0.7777777777777778, \"#fb9f3a\"], [0.8888888888888888, \"#fdca26\"], [1.0, \"#f0f921\"]], \"type\": \"histogram2dcontour\"}], \"mesh3d\": [{\"colorbar\": {\"outlinewidth\": 0, \"ticks\": \"\"}, \"type\": \"mesh3d\"}], \"parcoords\": [{\"line\": {\"colorbar\": {\"outlinewidth\": 0, \"ticks\": \"\"}}, \"type\": \"parcoords\"}], \"pie\": [{\"automargin\": true, \"type\": \"pie\"}], \"scatter\": [{\"marker\": {\"colorbar\": {\"outlinewidth\": 0, \"ticks\": \"\"}}, \"type\": \"scatter\"}], \"scatter3d\": [{\"line\": {\"colorbar\": {\"outlinewidth\": 0, \"ticks\": \"\"}}, \"marker\": {\"colorbar\": {\"outlinewidth\": 0, \"ticks\": \"\"}}, \"type\": \"scatter3d\"}], \"scattercarpet\": [{\"marker\": {\"colorbar\": {\"outlinewidth\": 0, \"ticks\": \"\"}}, \"type\": \"scattercarpet\"}], \"scattergeo\": [{\"marker\": {\"colorbar\": {\"outlinewidth\": 0, \"ticks\": \"\"}}, \"type\": \"scattergeo\"}], \"scattergl\": [{\"marker\": {\"colorbar\": {\"outlinewidth\": 0, \"ticks\": \"\"}}, \"type\": \"scattergl\"}], \"scattermapbox\": [{\"marker\": {\"colorbar\": {\"outlinewidth\": 0, \"ticks\": \"\"}}, \"type\": \"scattermapbox\"}], \"scatterpolar\": [{\"marker\": {\"colorbar\": {\"outlinewidth\": 0, \"ticks\": \"\"}}, \"type\": \"scatterpolar\"}], \"scatterpolargl\": [{\"marker\": {\"colorbar\": {\"outlinewidth\": 0, \"ticks\": \"\"}}, \"type\": \"scatterpolargl\"}], \"scatterternary\": [{\"marker\": {\"colorbar\": {\"outlinewidth\": 0, \"ticks\": \"\"}}, \"type\": \"scatterternary\"}], \"surface\": [{\"colorbar\": {\"outlinewidth\": 0, \"ticks\": \"\"}, \"colorscale\": [[0.0, \"#0d0887\"], [0.1111111111111111, \"#46039f\"], [0.2222222222222222, \"#7201a8\"], [0.3333333333333333, \"#9c179e\"], [0.4444444444444444, \"#bd3786\"], [0.5555555555555556, \"#d8576b\"], [0.6666666666666666, \"#ed7953\"], [0.7777777777777778, \"#fb9f3a\"], [0.8888888888888888, \"#fdca26\"], [1.0, \"#f0f921\"]], \"type\": \"surface\"}], \"table\": [{\"cells\": {\"fill\": {\"color\": \"#EBF0F8\"}, \"line\": {\"color\": \"white\"}}, \"header\": {\"fill\": {\"color\": \"#C8D4E3\"}, \"line\": {\"color\": \"white\"}}, \"type\": \"table\"}]}, \"layout\": {\"annotationdefaults\": {\"arrowcolor\": \"#2a3f5f\", \"arrowhead\": 0, \"arrowwidth\": 1}, \"autotypenumbers\": \"strict\", \"coloraxis\": {\"colorbar\": {\"outlinewidth\": 0, \"ticks\": \"\"}}, \"colorscale\": {\"diverging\": [[0, \"#8e0152\"], [0.1, \"#c51b7d\"], [0.2, \"#de77ae\"], [0.3, \"#f1b6da\"], [0.4, \"#fde0ef\"], [0.5, \"#f7f7f7\"], [0.6, \"#e6f5d0\"], [0.7, \"#b8e186\"], [0.8, \"#7fbc41\"], [0.9, \"#4d9221\"], [1, \"#276419\"]], \"sequential\": [[0.0, \"#0d0887\"], [0.1111111111111111, \"#46039f\"], [0.2222222222222222, \"#7201a8\"], [0.3333333333333333, \"#9c179e\"], [0.4444444444444444, \"#bd3786\"], [0.5555555555555556, \"#d8576b\"], [0.6666666666666666, \"#ed7953\"], [0.7777777777777778, \"#fb9f3a\"], [0.8888888888888888, \"#fdca26\"], [1.0, \"#f0f921\"]], \"sequentialminus\": [[0.0, \"#0d0887\"], [0.1111111111111111, \"#46039f\"], [0.2222222222222222, \"#7201a8\"], [0.3333333333333333, \"#9c179e\"], [0.4444444444444444, \"#bd3786\"], [0.5555555555555556, \"#d8576b\"], [0.6666666666666666, \"#ed7953\"], [0.7777777777777778, \"#fb9f3a\"], [0.8888888888888888, \"#fdca26\"], [1.0, \"#f0f921\"]]}, \"colorway\": [\"#636efa\", \"#EF553B\", \"#00cc96\", \"#ab63fa\", \"#FFA15A\", \"#19d3f3\", \"#FF6692\", \"#B6E880\", \"#FF97FF\", \"#FECB52\"], \"font\": {\"color\": \"#2a3f5f\"}, \"geo\": {\"bgcolor\": \"white\", \"lakecolor\": \"white\", \"landcolor\": \"#E5ECF6\", \"showlakes\": true, \"showland\": true, \"subunitcolor\": \"white\"}, \"hoverlabel\": {\"align\": \"left\"}, \"hovermode\": \"closest\", \"mapbox\": {\"style\": \"light\"}, \"paper_bgcolor\": \"white\", \"plot_bgcolor\": \"#E5ECF6\", \"polar\": {\"angularaxis\": {\"gridcolor\": \"white\", \"linecolor\": \"white\", \"ticks\": \"\"}, \"bgcolor\": \"#E5ECF6\", \"radialaxis\": {\"gridcolor\": \"white\", \"linecolor\": \"white\", \"ticks\": \"\"}}, \"scene\": {\"xaxis\": {\"backgroundcolor\": \"#E5ECF6\", \"gridcolor\": \"white\", \"gridwidth\": 2, \"linecolor\": \"white\", \"showbackground\": true, \"ticks\": \"\", \"zerolinecolor\": \"white\"}, \"yaxis\": {\"backgroundcolor\": \"#E5ECF6\", \"gridcolor\": \"white\", \"gridwidth\": 2, \"linecolor\": \"white\", \"showbackground\": true, \"ticks\": \"\", \"zerolinecolor\": \"white\"}, \"zaxis\": {\"backgroundcolor\": \"#E5ECF6\", \"gridcolor\": \"white\", \"gridwidth\": 2, \"linecolor\": \"white\", \"showbackground\": true, \"ticks\": \"\", \"zerolinecolor\": \"white\"}}, \"shapedefaults\": {\"line\": {\"color\": \"#2a3f5f\"}}, \"ternary\": {\"aaxis\": {\"gridcolor\": \"white\", \"linecolor\": \"white\", \"ticks\": \"\"}, \"baxis\": {\"gridcolor\": \"white\", \"linecolor\": \"white\", \"ticks\": \"\"}, \"bgcolor\": \"#E5ECF6\", \"caxis\": {\"gridcolor\": \"white\", \"linecolor\": \"white\", \"ticks\": \"\"}}, \"title\": {\"x\": 0.05}, \"xaxis\": {\"automargin\": true, \"gridcolor\": \"white\", \"linecolor\": \"white\", \"ticks\": \"\", \"title\": {\"standoff\": 15}, \"zerolinecolor\": \"white\", \"zerolinewidth\": 2}, \"yaxis\": {\"automargin\": true, \"gridcolor\": \"white\", \"linecolor\": \"white\", \"ticks\": \"\", \"title\": {\"standoff\": 15}, \"zerolinecolor\": \"white\", \"zerolinewidth\": 2}}}, \"title\": {\"text\": \"\\u0418\\u0437\\u043c\\u0435\\u043d\\u0435\\u043d\\u0438\\u0435 \\u043a\\u043e\\u043b-\\u0432\\u0430 \\u043e\\u043f\\u0435\\u0440\\u0430\\u0442\\u043e\\u0440\\u043e\\u0432 \\u043f\\u043e \\u0434\\u043d\\u044f\\u043c \\u0438 \\u0447\\u0430\\u0441\\u0430\\u043c\"}, \"xaxis\": {\"anchor\": \"y\", \"domain\": [0.0, 1.0], \"title\": {\"text\": \"\\u0427\\u0430\\u0441\\u044b \\u0432 \\u0441\\u0443\\u0442\\u043a\\u0430\\u0445\"}}, \"yaxis\": {\"anchor\": \"x\", \"domain\": [0.0, 1.0], \"title\": {\"text\": \"\\u041a\\u043e\\u043b-\\u0432\\u043e \\u043e\\u043f\\u0435\\u0440\\u0430\\u0442\\u043e\\u0440\\u043e\\u0432\"}}},                        {\"responsive\": true}                    ).then(function(){\n",
       "                            \n",
       "var gd = document.getElementById('1505b6f0-20f1-43b1-b2a2-6ce290ca94e6');\n",
       "var x = new MutationObserver(function (mutations, observer) {{\n",
       "        var display = window.getComputedStyle(gd).display;\n",
       "        if (!display || display === 'none') {{\n",
       "            console.log([gd, 'removed!']);\n",
       "            Plotly.purge(gd);\n",
       "            observer.disconnect();\n",
       "        }}\n",
       "}});\n",
       "\n",
       "// Listen for the removal of the full notebook cells\n",
       "var notebookContainer = gd.closest('#notebook-container');\n",
       "if (notebookContainer) {{\n",
       "    x.observe(notebookContainer, {childList: true});\n",
       "}}\n",
       "\n",
       "// Listen for the clearing of the current output cell\n",
       "var outputEl = gd.closest('.output');\n",
       "if (outputEl) {{\n",
       "    x.observe(outputEl, {childList: true});\n",
       "}}\n",
       "\n",
       "                        })                };                });            </script>        </div>"
      ]
     },
     "metadata": {},
     "output_type": "display_data"
    }
   ],
   "source": [
    "# Визуализируем датафрейм (визуализация интерактивная)\n",
    "df_oprtrs.plot(title = \"Изменение кол-ва операторов по дням и часам\",labels={\"variable\": \"День\", \"value\": \"Кол-во операторов\"\n",
    "                                                                            , \"index\": \"Часы в сутках\"} )"
   ]
  },
  {
   "cell_type": "markdown",
   "id": "724acec1",
   "metadata": {},
   "source": [
    "### Таким образом мы находим минимальное количество операторов по дняи и по интервалам, таким образом, чтобы все вводные параметры соблюдались"
   ]
  },
  {
   "cell_type": "markdown",
   "id": "a79cb51e",
   "metadata": {},
   "source": [
    "## Задание 4.2"
   ]
  },
  {
   "cell_type": "code",
   "execution_count": 213,
   "id": "8c818c51",
   "metadata": {},
   "outputs": [
    {
     "data": {
      "text/html": [
       "<style type=\"text/css\">\n",
       "#T_3c3e8_row0_col0, #T_3c3e8_row7_col1 {\n",
       "  background-color: #440154;\n",
       "  color: #f1f1f1;\n",
       "}\n",
       "#T_3c3e8_row0_col1 {\n",
       "  background-color: #365c8d;\n",
       "  color: #f1f1f1;\n",
       "}\n",
       "#T_3c3e8_row1_col0 {\n",
       "  background-color: #470d60;\n",
       "  color: #f1f1f1;\n",
       "}\n",
       "#T_3c3e8_row1_col1 {\n",
       "  background-color: #297b8e;\n",
       "  color: #f1f1f1;\n",
       "}\n",
       "#T_3c3e8_row2_col0 {\n",
       "  background-color: #481a6c;\n",
       "  color: #f1f1f1;\n",
       "}\n",
       "#T_3c3e8_row2_col1 {\n",
       "  background-color: #3a548c;\n",
       "  color: #f1f1f1;\n",
       "}\n",
       "#T_3c3e8_row3_col0 {\n",
       "  background-color: #482475;\n",
       "  color: #f1f1f1;\n",
       "}\n",
       "#T_3c3e8_row3_col1 {\n",
       "  background-color: #25ac82;\n",
       "  color: #f1f1f1;\n",
       "}\n",
       "#T_3c3e8_row4_col0 {\n",
       "  background-color: #472f7d;\n",
       "  color: #f1f1f1;\n",
       "}\n",
       "#T_3c3e8_row4_col1 {\n",
       "  background-color: #52c569;\n",
       "  color: #000000;\n",
       "}\n",
       "#T_3c3e8_row5_col0 {\n",
       "  background-color: #443983;\n",
       "  color: #f1f1f1;\n",
       "}\n",
       "#T_3c3e8_row5_col1, #T_3c3e8_row30_col0 {\n",
       "  background-color: #fde725;\n",
       "  color: #000000;\n",
       "}\n",
       "#T_3c3e8_row6_col0 {\n",
       "  background-color: #414487;\n",
       "  color: #f1f1f1;\n",
       "}\n",
       "#T_3c3e8_row6_col1 {\n",
       "  background-color: #32658e;\n",
       "  color: #f1f1f1;\n",
       "}\n",
       "#T_3c3e8_row7_col0, #T_3c3e8_row21_col1 {\n",
       "  background-color: #3d4d8a;\n",
       "  color: #f1f1f1;\n",
       "}\n",
       "#T_3c3e8_row8_col0, #T_3c3e8_row10_col1, #T_3c3e8_row12_col1 {\n",
       "  background-color: #39568c;\n",
       "  color: #f1f1f1;\n",
       "}\n",
       "#T_3c3e8_row8_col1 {\n",
       "  background-color: #472e7c;\n",
       "  color: #f1f1f1;\n",
       "}\n",
       "#T_3c3e8_row9_col0, #T_3c3e8_row17_col1 {\n",
       "  background-color: #355f8d;\n",
       "  color: #f1f1f1;\n",
       "}\n",
       "#T_3c3e8_row9_col1 {\n",
       "  background-color: #26828e;\n",
       "  color: #f1f1f1;\n",
       "}\n",
       "#T_3c3e8_row10_col0 {\n",
       "  background-color: #31688e;\n",
       "  color: #f1f1f1;\n",
       "}\n",
       "#T_3c3e8_row11_col0 {\n",
       "  background-color: #2d708e;\n",
       "  color: #f1f1f1;\n",
       "}\n",
       "#T_3c3e8_row11_col1 {\n",
       "  background-color: #38588c;\n",
       "  color: #f1f1f1;\n",
       "}\n",
       "#T_3c3e8_row12_col0 {\n",
       "  background-color: #2a788e;\n",
       "  color: #f1f1f1;\n",
       "}\n",
       "#T_3c3e8_row13_col0 {\n",
       "  background-color: #27808e;\n",
       "  color: #f1f1f1;\n",
       "}\n",
       "#T_3c3e8_row13_col1 {\n",
       "  background-color: #3b518b;\n",
       "  color: #f1f1f1;\n",
       "}\n",
       "#T_3c3e8_row14_col0 {\n",
       "  background-color: #23888e;\n",
       "  color: #f1f1f1;\n",
       "}\n",
       "#T_3c3e8_row14_col1 {\n",
       "  background-color: #25858e;\n",
       "  color: #f1f1f1;\n",
       "}\n",
       "#T_3c3e8_row15_col0 {\n",
       "  background-color: #21918c;\n",
       "  color: #f1f1f1;\n",
       "}\n",
       "#T_3c3e8_row15_col1 {\n",
       "  background-color: #34608d;\n",
       "  color: #f1f1f1;\n",
       "}\n",
       "#T_3c3e8_row16_col0, #T_3c3e8_row18_col1 {\n",
       "  background-color: #1f988b;\n",
       "  color: #f1f1f1;\n",
       "}\n",
       "#T_3c3e8_row16_col1 {\n",
       "  background-color: #2a768e;\n",
       "  color: #f1f1f1;\n",
       "}\n",
       "#T_3c3e8_row17_col0 {\n",
       "  background-color: #1fa188;\n",
       "  color: #f1f1f1;\n",
       "}\n",
       "#T_3c3e8_row18_col0 {\n",
       "  background-color: #22a884;\n",
       "  color: #f1f1f1;\n",
       "}\n",
       "#T_3c3e8_row19_col0 {\n",
       "  background-color: #2ab07f;\n",
       "  color: #f1f1f1;\n",
       "}\n",
       "#T_3c3e8_row19_col1 {\n",
       "  background-color: #2d718e;\n",
       "  color: #f1f1f1;\n",
       "}\n",
       "#T_3c3e8_row20_col0 {\n",
       "  background-color: #35b779;\n",
       "  color: #f1f1f1;\n",
       "}\n",
       "#T_3c3e8_row20_col1 {\n",
       "  background-color: #424086;\n",
       "  color: #f1f1f1;\n",
       "}\n",
       "#T_3c3e8_row21_col0 {\n",
       "  background-color: #44bf70;\n",
       "  color: #f1f1f1;\n",
       "}\n",
       "#T_3c3e8_row22_col0 {\n",
       "  background-color: #54c568;\n",
       "  color: #000000;\n",
       "}\n",
       "#T_3c3e8_row22_col1 {\n",
       "  background-color: #228d8d;\n",
       "  color: #f1f1f1;\n",
       "}\n",
       "#T_3c3e8_row23_col0 {\n",
       "  background-color: #67cc5c;\n",
       "  color: #000000;\n",
       "}\n",
       "#T_3c3e8_row23_col1 {\n",
       "  background-color: #1f9a8a;\n",
       "  color: #f1f1f1;\n",
       "}\n",
       "#T_3c3e8_row24_col0 {\n",
       "  background-color: #7ad151;\n",
       "  color: #000000;\n",
       "}\n",
       "#T_3c3e8_row24_col1 {\n",
       "  background-color: #1f968b;\n",
       "  color: #f1f1f1;\n",
       "}\n",
       "#T_3c3e8_row25_col0 {\n",
       "  background-color: #90d743;\n",
       "  color: #000000;\n",
       "}\n",
       "#T_3c3e8_row25_col1 {\n",
       "  background-color: #238a8d;\n",
       "  color: #f1f1f1;\n",
       "}\n",
       "#T_3c3e8_row26_col0 {\n",
       "  background-color: #a5db36;\n",
       "  color: #000000;\n",
       "}\n",
       "#T_3c3e8_row26_col1 {\n",
       "  background-color: #287d8e;\n",
       "  color: #f1f1f1;\n",
       "}\n",
       "#T_3c3e8_row27_col0 {\n",
       "  background-color: #bddf26;\n",
       "  color: #000000;\n",
       "}\n",
       "#T_3c3e8_row27_col1 {\n",
       "  background-color: #26818e;\n",
       "  color: #f1f1f1;\n",
       "}\n",
       "#T_3c3e8_row28_col0 {\n",
       "  background-color: #d2e21b;\n",
       "  color: #000000;\n",
       "}\n",
       "#T_3c3e8_row28_col1 {\n",
       "  background-color: #404688;\n",
       "  color: #f1f1f1;\n",
       "}\n",
       "#T_3c3e8_row29_col0 {\n",
       "  background-color: #eae51a;\n",
       "  color: #000000;\n",
       "}\n",
       "#T_3c3e8_row29_col1 {\n",
       "  background-color: #3e4a89;\n",
       "  color: #f1f1f1;\n",
       "}\n",
       "#T_3c3e8_row30_col1 {\n",
       "  background-color: #3a538b;\n",
       "  color: #f1f1f1;\n",
       "}\n",
       "</style>\n",
       "<table id=\"T_3c3e8_\">\n",
       "  <thead>\n",
       "    <tr>\n",
       "      <th class=\"blank level0\" >&nbsp;</th>\n",
       "      <th class=\"col_heading level0 col0\" >День</th>\n",
       "      <th class=\"col_heading level0 col1\" >Чел-ко часы</th>\n",
       "    </tr>\n",
       "  </thead>\n",
       "  <tbody>\n",
       "    <tr>\n",
       "      <th id=\"T_3c3e8_level0_row0\" class=\"row_heading level0 row0\" >0</th>\n",
       "      <td id=\"T_3c3e8_row0_col0\" class=\"data row0 col0\" >1</td>\n",
       "      <td id=\"T_3c3e8_row0_col1\" class=\"data row0 col1\" >712</td>\n",
       "    </tr>\n",
       "    <tr>\n",
       "      <th id=\"T_3c3e8_level0_row1\" class=\"row_heading level0 row1\" >1</th>\n",
       "      <td id=\"T_3c3e8_row1_col0\" class=\"data row1 col0\" >2</td>\n",
       "      <td id=\"T_3c3e8_row1_col1\" class=\"data row1 col1\" >797</td>\n",
       "    </tr>\n",
       "    <tr>\n",
       "      <th id=\"T_3c3e8_level0_row2\" class=\"row_heading level0 row2\" >2</th>\n",
       "      <td id=\"T_3c3e8_row2_col0\" class=\"data row2 col0\" >3</td>\n",
       "      <td id=\"T_3c3e8_row2_col1\" class=\"data row2 col1\" >693</td>\n",
       "    </tr>\n",
       "    <tr>\n",
       "      <th id=\"T_3c3e8_level0_row3\" class=\"row_heading level0 row3\" >3</th>\n",
       "      <td id=\"T_3c3e8_row3_col0\" class=\"data row3 col0\" >4</td>\n",
       "      <td id=\"T_3c3e8_row3_col1\" class=\"data row3 col1\" >939</td>\n",
       "    </tr>\n",
       "    <tr>\n",
       "      <th id=\"T_3c3e8_level0_row4\" class=\"row_heading level0 row4\" >4</th>\n",
       "      <td id=\"T_3c3e8_row4_col0\" class=\"data row4 col0\" >5</td>\n",
       "      <td id=\"T_3c3e8_row4_col1\" class=\"data row4 col1\" >1016</td>\n",
       "    </tr>\n",
       "    <tr>\n",
       "      <th id=\"T_3c3e8_level0_row5\" class=\"row_heading level0 row5\" >5</th>\n",
       "      <td id=\"T_3c3e8_row5_col0\" class=\"data row5 col0\" >6</td>\n",
       "      <td id=\"T_3c3e8_row5_col1\" class=\"data row5 col1\" >1204</td>\n",
       "    </tr>\n",
       "    <tr>\n",
       "      <th id=\"T_3c3e8_level0_row6\" class=\"row_heading level0 row6\" >6</th>\n",
       "      <td id=\"T_3c3e8_row6_col0\" class=\"data row6 col0\" >7</td>\n",
       "      <td id=\"T_3c3e8_row6_col1\" class=\"data row6 col1\" >736</td>\n",
       "    </tr>\n",
       "    <tr>\n",
       "      <th id=\"T_3c3e8_level0_row7\" class=\"row_heading level0 row7\" >7</th>\n",
       "      <td id=\"T_3c3e8_row7_col0\" class=\"data row7 col0\" >8</td>\n",
       "      <td id=\"T_3c3e8_row7_col1\" class=\"data row7 col1\" >513</td>\n",
       "    </tr>\n",
       "    <tr>\n",
       "      <th id=\"T_3c3e8_level0_row8\" class=\"row_heading level0 row8\" >8</th>\n",
       "      <td id=\"T_3c3e8_row8_col0\" class=\"data row8 col0\" >9</td>\n",
       "      <td id=\"T_3c3e8_row8_col1\" class=\"data row8 col1\" >603</td>\n",
       "    </tr>\n",
       "    <tr>\n",
       "      <th id=\"T_3c3e8_level0_row9\" class=\"row_heading level0 row9\" >9</th>\n",
       "      <td id=\"T_3c3e8_row9_col0\" class=\"data row9 col0\" >10</td>\n",
       "      <td id=\"T_3c3e8_row9_col1\" class=\"data row9 col1\" >816</td>\n",
       "    </tr>\n",
       "    <tr>\n",
       "      <th id=\"T_3c3e8_level0_row10\" class=\"row_heading level0 row10\" >10</th>\n",
       "      <td id=\"T_3c3e8_row10_col0\" class=\"data row10 col0\" >11</td>\n",
       "      <td id=\"T_3c3e8_row10_col1\" class=\"data row10 col1\" >698</td>\n",
       "    </tr>\n",
       "    <tr>\n",
       "      <th id=\"T_3c3e8_level0_row11\" class=\"row_heading level0 row11\" >11</th>\n",
       "      <td id=\"T_3c3e8_row11_col0\" class=\"data row11 col0\" >12</td>\n",
       "      <td id=\"T_3c3e8_row11_col1\" class=\"data row11 col1\" >700</td>\n",
       "    </tr>\n",
       "    <tr>\n",
       "      <th id=\"T_3c3e8_level0_row12\" class=\"row_heading level0 row12\" >12</th>\n",
       "      <td id=\"T_3c3e8_row12_col0\" class=\"data row12 col0\" >13</td>\n",
       "      <td id=\"T_3c3e8_row12_col1\" class=\"data row12 col1\" >698</td>\n",
       "    </tr>\n",
       "    <tr>\n",
       "      <th id=\"T_3c3e8_level0_row13\" class=\"row_heading level0 row13\" >13</th>\n",
       "      <td id=\"T_3c3e8_row13_col0\" class=\"data row13 col0\" >14</td>\n",
       "      <td id=\"T_3c3e8_row13_col1\" class=\"data row13 col1\" >684</td>\n",
       "    </tr>\n",
       "    <tr>\n",
       "      <th id=\"T_3c3e8_level0_row14\" class=\"row_heading level0 row14\" >14</th>\n",
       "      <td id=\"T_3c3e8_row14_col0\" class=\"data row14 col0\" >15</td>\n",
       "      <td id=\"T_3c3e8_row14_col1\" class=\"data row14 col1\" >827</td>\n",
       "    </tr>\n",
       "    <tr>\n",
       "      <th id=\"T_3c3e8_level0_row15\" class=\"row_heading level0 row15\" >15</th>\n",
       "      <td id=\"T_3c3e8_row15_col0\" class=\"data row15 col0\" >16</td>\n",
       "      <td id=\"T_3c3e8_row15_col1\" class=\"data row15 col1\" >723</td>\n",
       "    </tr>\n",
       "    <tr>\n",
       "      <th id=\"T_3c3e8_level0_row16\" class=\"row_heading level0 row16\" >16</th>\n",
       "      <td id=\"T_3c3e8_row16_col0\" class=\"data row16 col0\" >17</td>\n",
       "      <td id=\"T_3c3e8_row16_col1\" class=\"data row16 col1\" >784</td>\n",
       "    </tr>\n",
       "    <tr>\n",
       "      <th id=\"T_3c3e8_level0_row17\" class=\"row_heading level0 row17\" >17</th>\n",
       "      <td id=\"T_3c3e8_row17_col0\" class=\"data row17 col0\" >18</td>\n",
       "      <td id=\"T_3c3e8_row17_col1\" class=\"data row17 col1\" >720</td>\n",
       "    </tr>\n",
       "    <tr>\n",
       "      <th id=\"T_3c3e8_level0_row18\" class=\"row_heading level0 row18\" >18</th>\n",
       "      <td id=\"T_3c3e8_row18_col0\" class=\"data row18 col0\" >19</td>\n",
       "      <td id=\"T_3c3e8_row18_col1\" class=\"data row18 col1\" >881</td>\n",
       "    </tr>\n",
       "    <tr>\n",
       "      <th id=\"T_3c3e8_level0_row19\" class=\"row_heading level0 row19\" >19</th>\n",
       "      <td id=\"T_3c3e8_row19_col0\" class=\"data row19 col0\" >20</td>\n",
       "      <td id=\"T_3c3e8_row19_col1\" class=\"data row19 col1\" >768</td>\n",
       "    </tr>\n",
       "    <tr>\n",
       "      <th id=\"T_3c3e8_level0_row20\" class=\"row_heading level0 row20\" >20</th>\n",
       "      <td id=\"T_3c3e8_row20_col0\" class=\"data row20 col0\" >21</td>\n",
       "      <td id=\"T_3c3e8_row20_col1\" class=\"data row20 col1\" >645</td>\n",
       "    </tr>\n",
       "    <tr>\n",
       "      <th id=\"T_3c3e8_level0_row21\" class=\"row_heading level0 row21\" >21</th>\n",
       "      <td id=\"T_3c3e8_row21_col0\" class=\"data row21 col0\" >22</td>\n",
       "      <td id=\"T_3c3e8_row21_col1\" class=\"data row21 col1\" >674</td>\n",
       "    </tr>\n",
       "    <tr>\n",
       "      <th id=\"T_3c3e8_level0_row22\" class=\"row_heading level0 row22\" >22</th>\n",
       "      <td id=\"T_3c3e8_row22_col0\" class=\"data row22 col0\" >23</td>\n",
       "      <td id=\"T_3c3e8_row22_col1\" class=\"data row22 col1\" >848</td>\n",
       "    </tr>\n",
       "    <tr>\n",
       "      <th id=\"T_3c3e8_level0_row23\" class=\"row_heading level0 row23\" >23</th>\n",
       "      <td id=\"T_3c3e8_row23_col0\" class=\"data row23 col0\" >24</td>\n",
       "      <td id=\"T_3c3e8_row23_col1\" class=\"data row23 col1\" >886</td>\n",
       "    </tr>\n",
       "    <tr>\n",
       "      <th id=\"T_3c3e8_level0_row24\" class=\"row_heading level0 row24\" >24</th>\n",
       "      <td id=\"T_3c3e8_row24_col0\" class=\"data row24 col0\" >25</td>\n",
       "      <td id=\"T_3c3e8_row24_col1\" class=\"data row24 col1\" >876</td>\n",
       "    </tr>\n",
       "    <tr>\n",
       "      <th id=\"T_3c3e8_level0_row25\" class=\"row_heading level0 row25\" >25</th>\n",
       "      <td id=\"T_3c3e8_row25_col0\" class=\"data row25 col0\" >26</td>\n",
       "      <td id=\"T_3c3e8_row25_col1\" class=\"data row25 col1\" >840</td>\n",
       "    </tr>\n",
       "    <tr>\n",
       "      <th id=\"T_3c3e8_level0_row26\" class=\"row_heading level0 row26\" >26</th>\n",
       "      <td id=\"T_3c3e8_row26_col0\" class=\"data row26 col0\" >27</td>\n",
       "      <td id=\"T_3c3e8_row26_col1\" class=\"data row26 col1\" >802</td>\n",
       "    </tr>\n",
       "    <tr>\n",
       "      <th id=\"T_3c3e8_level0_row27\" class=\"row_heading level0 row27\" >27</th>\n",
       "      <td id=\"T_3c3e8_row27_col0\" class=\"data row27 col0\" >28</td>\n",
       "      <td id=\"T_3c3e8_row27_col1\" class=\"data row27 col1\" >815</td>\n",
       "    </tr>\n",
       "    <tr>\n",
       "      <th id=\"T_3c3e8_level0_row28\" class=\"row_heading level0 row28\" >28</th>\n",
       "      <td id=\"T_3c3e8_row28_col0\" class=\"data row28 col0\" >29</td>\n",
       "      <td id=\"T_3c3e8_row28_col1\" class=\"data row28 col1\" >657</td>\n",
       "    </tr>\n",
       "    <tr>\n",
       "      <th id=\"T_3c3e8_level0_row29\" class=\"row_heading level0 row29\" >29</th>\n",
       "      <td id=\"T_3c3e8_row29_col0\" class=\"data row29 col0\" >30</td>\n",
       "      <td id=\"T_3c3e8_row29_col1\" class=\"data row29 col1\" >669</td>\n",
       "    </tr>\n",
       "    <tr>\n",
       "      <th id=\"T_3c3e8_level0_row30\" class=\"row_heading level0 row30\" >30</th>\n",
       "      <td id=\"T_3c3e8_row30_col0\" class=\"data row30 col0\" >31</td>\n",
       "      <td id=\"T_3c3e8_row30_col1\" class=\"data row30 col1\" >690</td>\n",
       "    </tr>\n",
       "  </tbody>\n",
       "</table>\n"
      ],
      "text/plain": [
       "<pandas.io.formats.style.Styler at 0x1bbf895b488>"
      ]
     },
     "execution_count": 213,
     "metadata": {},
     "output_type": "execute_result"
    }
   ],
   "source": [
    "# т.к. все разбита на часовые промежутки нам необхдимо только просумировать кол-во необходимых операторов\n",
    "dataframe = pd.DataFrame(df_oprtrs.sum()).reset_index().rename(columns = {'index':'День', 0: 'Чел-ко часы'})\n",
    "dataframe.style.background_gradient(cmap ='viridis')"
   ]
  },
  {
   "cell_type": "code",
   "execution_count": 215,
   "id": "e103e95e",
   "metadata": {},
   "outputs": [
    {
     "data": {
      "application/vnd.plotly.v1+json": {
       "config": {
        "plotlyServerURL": "https://plot.ly"
       },
       "data": [
        {
         "alignmentgroup": "True",
         "hovertemplate": "День=%{x}<br>Человеко часы=%{y}<extra></extra>",
         "legendgroup": "0",
         "marker": {
          "color": "#636efa"
         },
         "name": "0",
         "offsetgroup": "0",
         "orientation": "v",
         "showlegend": true,
         "textposition": "auto",
         "type": "bar",
         "x": [
          1,
          2,
          3,
          4,
          5,
          6,
          7,
          8,
          9,
          10,
          11,
          12,
          13,
          14,
          15,
          16,
          17,
          18,
          19,
          20,
          21,
          22,
          23,
          24,
          25,
          26,
          27,
          28,
          29,
          30,
          31
         ],
         "xaxis": "x",
         "y": [
          712,
          797,
          693,
          939,
          1016,
          1204,
          736,
          513,
          603,
          816,
          698,
          700,
          698,
          684,
          827,
          723,
          784,
          720,
          881,
          768,
          645,
          674,
          848,
          886,
          876,
          840,
          802,
          815,
          657,
          669,
          690
         ],
         "yaxis": "y"
        }
       ],
       "layout": {
        "barmode": "relative",
        "legend": {
         "title": {
          "text": "День"
         },
         "tracegroupgap": 0
        },
        "showlegend": false,
        "template": {
         "data": {
          "bar": [
           {
            "error_x": {
             "color": "#2a3f5f"
            },
            "error_y": {
             "color": "#2a3f5f"
            },
            "marker": {
             "line": {
              "color": "#E5ECF6",
              "width": 0.5
             }
            },
            "type": "bar"
           }
          ],
          "barpolar": [
           {
            "marker": {
             "line": {
              "color": "#E5ECF6",
              "width": 0.5
             }
            },
            "type": "barpolar"
           }
          ],
          "carpet": [
           {
            "aaxis": {
             "endlinecolor": "#2a3f5f",
             "gridcolor": "white",
             "linecolor": "white",
             "minorgridcolor": "white",
             "startlinecolor": "#2a3f5f"
            },
            "baxis": {
             "endlinecolor": "#2a3f5f",
             "gridcolor": "white",
             "linecolor": "white",
             "minorgridcolor": "white",
             "startlinecolor": "#2a3f5f"
            },
            "type": "carpet"
           }
          ],
          "choropleth": [
           {
            "colorbar": {
             "outlinewidth": 0,
             "ticks": ""
            },
            "type": "choropleth"
           }
          ],
          "contour": [
           {
            "colorbar": {
             "outlinewidth": 0,
             "ticks": ""
            },
            "colorscale": [
             [
              0,
              "#0d0887"
             ],
             [
              0.1111111111111111,
              "#46039f"
             ],
             [
              0.2222222222222222,
              "#7201a8"
             ],
             [
              0.3333333333333333,
              "#9c179e"
             ],
             [
              0.4444444444444444,
              "#bd3786"
             ],
             [
              0.5555555555555556,
              "#d8576b"
             ],
             [
              0.6666666666666666,
              "#ed7953"
             ],
             [
              0.7777777777777778,
              "#fb9f3a"
             ],
             [
              0.8888888888888888,
              "#fdca26"
             ],
             [
              1,
              "#f0f921"
             ]
            ],
            "type": "contour"
           }
          ],
          "contourcarpet": [
           {
            "colorbar": {
             "outlinewidth": 0,
             "ticks": ""
            },
            "type": "contourcarpet"
           }
          ],
          "heatmap": [
           {
            "colorbar": {
             "outlinewidth": 0,
             "ticks": ""
            },
            "colorscale": [
             [
              0,
              "#0d0887"
             ],
             [
              0.1111111111111111,
              "#46039f"
             ],
             [
              0.2222222222222222,
              "#7201a8"
             ],
             [
              0.3333333333333333,
              "#9c179e"
             ],
             [
              0.4444444444444444,
              "#bd3786"
             ],
             [
              0.5555555555555556,
              "#d8576b"
             ],
             [
              0.6666666666666666,
              "#ed7953"
             ],
             [
              0.7777777777777778,
              "#fb9f3a"
             ],
             [
              0.8888888888888888,
              "#fdca26"
             ],
             [
              1,
              "#f0f921"
             ]
            ],
            "type": "heatmap"
           }
          ],
          "heatmapgl": [
           {
            "colorbar": {
             "outlinewidth": 0,
             "ticks": ""
            },
            "colorscale": [
             [
              0,
              "#0d0887"
             ],
             [
              0.1111111111111111,
              "#46039f"
             ],
             [
              0.2222222222222222,
              "#7201a8"
             ],
             [
              0.3333333333333333,
              "#9c179e"
             ],
             [
              0.4444444444444444,
              "#bd3786"
             ],
             [
              0.5555555555555556,
              "#d8576b"
             ],
             [
              0.6666666666666666,
              "#ed7953"
             ],
             [
              0.7777777777777778,
              "#fb9f3a"
             ],
             [
              0.8888888888888888,
              "#fdca26"
             ],
             [
              1,
              "#f0f921"
             ]
            ],
            "type": "heatmapgl"
           }
          ],
          "histogram": [
           {
            "marker": {
             "colorbar": {
              "outlinewidth": 0,
              "ticks": ""
             }
            },
            "type": "histogram"
           }
          ],
          "histogram2d": [
           {
            "colorbar": {
             "outlinewidth": 0,
             "ticks": ""
            },
            "colorscale": [
             [
              0,
              "#0d0887"
             ],
             [
              0.1111111111111111,
              "#46039f"
             ],
             [
              0.2222222222222222,
              "#7201a8"
             ],
             [
              0.3333333333333333,
              "#9c179e"
             ],
             [
              0.4444444444444444,
              "#bd3786"
             ],
             [
              0.5555555555555556,
              "#d8576b"
             ],
             [
              0.6666666666666666,
              "#ed7953"
             ],
             [
              0.7777777777777778,
              "#fb9f3a"
             ],
             [
              0.8888888888888888,
              "#fdca26"
             ],
             [
              1,
              "#f0f921"
             ]
            ],
            "type": "histogram2d"
           }
          ],
          "histogram2dcontour": [
           {
            "colorbar": {
             "outlinewidth": 0,
             "ticks": ""
            },
            "colorscale": [
             [
              0,
              "#0d0887"
             ],
             [
              0.1111111111111111,
              "#46039f"
             ],
             [
              0.2222222222222222,
              "#7201a8"
             ],
             [
              0.3333333333333333,
              "#9c179e"
             ],
             [
              0.4444444444444444,
              "#bd3786"
             ],
             [
              0.5555555555555556,
              "#d8576b"
             ],
             [
              0.6666666666666666,
              "#ed7953"
             ],
             [
              0.7777777777777778,
              "#fb9f3a"
             ],
             [
              0.8888888888888888,
              "#fdca26"
             ],
             [
              1,
              "#f0f921"
             ]
            ],
            "type": "histogram2dcontour"
           }
          ],
          "mesh3d": [
           {
            "colorbar": {
             "outlinewidth": 0,
             "ticks": ""
            },
            "type": "mesh3d"
           }
          ],
          "parcoords": [
           {
            "line": {
             "colorbar": {
              "outlinewidth": 0,
              "ticks": ""
             }
            },
            "type": "parcoords"
           }
          ],
          "pie": [
           {
            "automargin": true,
            "type": "pie"
           }
          ],
          "scatter": [
           {
            "marker": {
             "colorbar": {
              "outlinewidth": 0,
              "ticks": ""
             }
            },
            "type": "scatter"
           }
          ],
          "scatter3d": [
           {
            "line": {
             "colorbar": {
              "outlinewidth": 0,
              "ticks": ""
             }
            },
            "marker": {
             "colorbar": {
              "outlinewidth": 0,
              "ticks": ""
             }
            },
            "type": "scatter3d"
           }
          ],
          "scattercarpet": [
           {
            "marker": {
             "colorbar": {
              "outlinewidth": 0,
              "ticks": ""
             }
            },
            "type": "scattercarpet"
           }
          ],
          "scattergeo": [
           {
            "marker": {
             "colorbar": {
              "outlinewidth": 0,
              "ticks": ""
             }
            },
            "type": "scattergeo"
           }
          ],
          "scattergl": [
           {
            "marker": {
             "colorbar": {
              "outlinewidth": 0,
              "ticks": ""
             }
            },
            "type": "scattergl"
           }
          ],
          "scattermapbox": [
           {
            "marker": {
             "colorbar": {
              "outlinewidth": 0,
              "ticks": ""
             }
            },
            "type": "scattermapbox"
           }
          ],
          "scatterpolar": [
           {
            "marker": {
             "colorbar": {
              "outlinewidth": 0,
              "ticks": ""
             }
            },
            "type": "scatterpolar"
           }
          ],
          "scatterpolargl": [
           {
            "marker": {
             "colorbar": {
              "outlinewidth": 0,
              "ticks": ""
             }
            },
            "type": "scatterpolargl"
           }
          ],
          "scatterternary": [
           {
            "marker": {
             "colorbar": {
              "outlinewidth": 0,
              "ticks": ""
             }
            },
            "type": "scatterternary"
           }
          ],
          "surface": [
           {
            "colorbar": {
             "outlinewidth": 0,
             "ticks": ""
            },
            "colorscale": [
             [
              0,
              "#0d0887"
             ],
             [
              0.1111111111111111,
              "#46039f"
             ],
             [
              0.2222222222222222,
              "#7201a8"
             ],
             [
              0.3333333333333333,
              "#9c179e"
             ],
             [
              0.4444444444444444,
              "#bd3786"
             ],
             [
              0.5555555555555556,
              "#d8576b"
             ],
             [
              0.6666666666666666,
              "#ed7953"
             ],
             [
              0.7777777777777778,
              "#fb9f3a"
             ],
             [
              0.8888888888888888,
              "#fdca26"
             ],
             [
              1,
              "#f0f921"
             ]
            ],
            "type": "surface"
           }
          ],
          "table": [
           {
            "cells": {
             "fill": {
              "color": "#EBF0F8"
             },
             "line": {
              "color": "white"
             }
            },
            "header": {
             "fill": {
              "color": "#C8D4E3"
             },
             "line": {
              "color": "white"
             }
            },
            "type": "table"
           }
          ]
         },
         "layout": {
          "annotationdefaults": {
           "arrowcolor": "#2a3f5f",
           "arrowhead": 0,
           "arrowwidth": 1
          },
          "autotypenumbers": "strict",
          "coloraxis": {
           "colorbar": {
            "outlinewidth": 0,
            "ticks": ""
           }
          },
          "colorscale": {
           "diverging": [
            [
             0,
             "#8e0152"
            ],
            [
             0.1,
             "#c51b7d"
            ],
            [
             0.2,
             "#de77ae"
            ],
            [
             0.3,
             "#f1b6da"
            ],
            [
             0.4,
             "#fde0ef"
            ],
            [
             0.5,
             "#f7f7f7"
            ],
            [
             0.6,
             "#e6f5d0"
            ],
            [
             0.7,
             "#b8e186"
            ],
            [
             0.8,
             "#7fbc41"
            ],
            [
             0.9,
             "#4d9221"
            ],
            [
             1,
             "#276419"
            ]
           ],
           "sequential": [
            [
             0,
             "#0d0887"
            ],
            [
             0.1111111111111111,
             "#46039f"
            ],
            [
             0.2222222222222222,
             "#7201a8"
            ],
            [
             0.3333333333333333,
             "#9c179e"
            ],
            [
             0.4444444444444444,
             "#bd3786"
            ],
            [
             0.5555555555555556,
             "#d8576b"
            ],
            [
             0.6666666666666666,
             "#ed7953"
            ],
            [
             0.7777777777777778,
             "#fb9f3a"
            ],
            [
             0.8888888888888888,
             "#fdca26"
            ],
            [
             1,
             "#f0f921"
            ]
           ],
           "sequentialminus": [
            [
             0,
             "#0d0887"
            ],
            [
             0.1111111111111111,
             "#46039f"
            ],
            [
             0.2222222222222222,
             "#7201a8"
            ],
            [
             0.3333333333333333,
             "#9c179e"
            ],
            [
             0.4444444444444444,
             "#bd3786"
            ],
            [
             0.5555555555555556,
             "#d8576b"
            ],
            [
             0.6666666666666666,
             "#ed7953"
            ],
            [
             0.7777777777777778,
             "#fb9f3a"
            ],
            [
             0.8888888888888888,
             "#fdca26"
            ],
            [
             1,
             "#f0f921"
            ]
           ]
          },
          "colorway": [
           "#636efa",
           "#EF553B",
           "#00cc96",
           "#ab63fa",
           "#FFA15A",
           "#19d3f3",
           "#FF6692",
           "#B6E880",
           "#FF97FF",
           "#FECB52"
          ],
          "font": {
           "color": "#2a3f5f"
          },
          "geo": {
           "bgcolor": "white",
           "lakecolor": "white",
           "landcolor": "#E5ECF6",
           "showlakes": true,
           "showland": true,
           "subunitcolor": "white"
          },
          "hoverlabel": {
           "align": "left"
          },
          "hovermode": "closest",
          "mapbox": {
           "style": "light"
          },
          "paper_bgcolor": "white",
          "plot_bgcolor": "#E5ECF6",
          "polar": {
           "angularaxis": {
            "gridcolor": "white",
            "linecolor": "white",
            "ticks": ""
           },
           "bgcolor": "#E5ECF6",
           "radialaxis": {
            "gridcolor": "white",
            "linecolor": "white",
            "ticks": ""
           }
          },
          "scene": {
           "xaxis": {
            "backgroundcolor": "#E5ECF6",
            "gridcolor": "white",
            "gridwidth": 2,
            "linecolor": "white",
            "showbackground": true,
            "ticks": "",
            "zerolinecolor": "white"
           },
           "yaxis": {
            "backgroundcolor": "#E5ECF6",
            "gridcolor": "white",
            "gridwidth": 2,
            "linecolor": "white",
            "showbackground": true,
            "ticks": "",
            "zerolinecolor": "white"
           },
           "zaxis": {
            "backgroundcolor": "#E5ECF6",
            "gridcolor": "white",
            "gridwidth": 2,
            "linecolor": "white",
            "showbackground": true,
            "ticks": "",
            "zerolinecolor": "white"
           }
          },
          "shapedefaults": {
           "line": {
            "color": "#2a3f5f"
           }
          },
          "ternary": {
           "aaxis": {
            "gridcolor": "white",
            "linecolor": "white",
            "ticks": ""
           },
           "baxis": {
            "gridcolor": "white",
            "linecolor": "white",
            "ticks": ""
           },
           "bgcolor": "#E5ECF6",
           "caxis": {
            "gridcolor": "white",
            "linecolor": "white",
            "ticks": ""
           }
          },
          "title": {
           "x": 0.05
          },
          "xaxis": {
           "automargin": true,
           "gridcolor": "white",
           "linecolor": "white",
           "ticks": "",
           "title": {
            "standoff": 15
           },
           "zerolinecolor": "white",
           "zerolinewidth": 2
          },
          "yaxis": {
           "automargin": true,
           "gridcolor": "white",
           "linecolor": "white",
           "ticks": "",
           "title": {
            "standoff": 15
           },
           "zerolinecolor": "white",
           "zerolinewidth": 2
          }
         }
        },
        "title": {
         "text": "Изменение человеко часов по дням месяца"
        },
        "xaxis": {
         "anchor": "y",
         "domain": [
          0,
          1
         ],
         "title": {
          "text": "День"
         }
        },
        "yaxis": {
         "anchor": "x",
         "domain": [
          0,
          1
         ],
         "title": {
          "text": "Человеко часы"
         }
        }
       }
      },
      "text/html": [
       "<div>                            <div id=\"efd88d10-8dec-4d88-a06b-13616bdd83ef\" class=\"plotly-graph-div\" style=\"height:525px; width:100%;\"></div>            <script type=\"text/javascript\">                require([\"plotly\"], function(Plotly) {                    window.PLOTLYENV=window.PLOTLYENV || {};                                    if (document.getElementById(\"efd88d10-8dec-4d88-a06b-13616bdd83ef\")) {                    Plotly.newPlot(                        \"efd88d10-8dec-4d88-a06b-13616bdd83ef\",                        [{\"alignmentgroup\": \"True\", \"hovertemplate\": \"\\u0414\\u0435\\u043d\\u044c=%{x}<br>\\u0427\\u0435\\u043b\\u043e\\u0432\\u0435\\u043a\\u043e \\u0447\\u0430\\u0441\\u044b=%{y}<extra></extra>\", \"legendgroup\": \"0\", \"marker\": {\"color\": \"#636efa\"}, \"name\": \"0\", \"offsetgroup\": \"0\", \"orientation\": \"v\", \"showlegend\": true, \"textposition\": \"auto\", \"type\": \"bar\", \"x\": [1, 2, 3, 4, 5, 6, 7, 8, 9, 10, 11, 12, 13, 14, 15, 16, 17, 18, 19, 20, 21, 22, 23, 24, 25, 26, 27, 28, 29, 30, 31], \"xaxis\": \"x\", \"y\": [712, 797, 693, 939, 1016, 1204, 736, 513, 603, 816, 698, 700, 698, 684, 827, 723, 784, 720, 881, 768, 645, 674, 848, 886, 876, 840, 802, 815, 657, 669, 690], \"yaxis\": \"y\"}],                        {\"barmode\": \"relative\", \"legend\": {\"title\": {\"text\": \"\\u0414\\u0435\\u043d\\u044c\"}, \"tracegroupgap\": 0}, \"showlegend\": false, \"template\": {\"data\": {\"bar\": [{\"error_x\": {\"color\": \"#2a3f5f\"}, \"error_y\": {\"color\": \"#2a3f5f\"}, \"marker\": {\"line\": {\"color\": \"#E5ECF6\", \"width\": 0.5}}, \"type\": \"bar\"}], \"barpolar\": [{\"marker\": {\"line\": {\"color\": \"#E5ECF6\", \"width\": 0.5}}, \"type\": \"barpolar\"}], \"carpet\": [{\"aaxis\": {\"endlinecolor\": \"#2a3f5f\", \"gridcolor\": \"white\", \"linecolor\": \"white\", \"minorgridcolor\": \"white\", \"startlinecolor\": \"#2a3f5f\"}, \"baxis\": {\"endlinecolor\": \"#2a3f5f\", \"gridcolor\": \"white\", \"linecolor\": \"white\", \"minorgridcolor\": \"white\", \"startlinecolor\": \"#2a3f5f\"}, \"type\": \"carpet\"}], \"choropleth\": [{\"colorbar\": {\"outlinewidth\": 0, \"ticks\": \"\"}, \"type\": \"choropleth\"}], \"contour\": [{\"colorbar\": {\"outlinewidth\": 0, \"ticks\": \"\"}, \"colorscale\": [[0.0, \"#0d0887\"], [0.1111111111111111, \"#46039f\"], [0.2222222222222222, \"#7201a8\"], [0.3333333333333333, \"#9c179e\"], [0.4444444444444444, \"#bd3786\"], [0.5555555555555556, \"#d8576b\"], [0.6666666666666666, \"#ed7953\"], [0.7777777777777778, \"#fb9f3a\"], [0.8888888888888888, \"#fdca26\"], [1.0, \"#f0f921\"]], \"type\": \"contour\"}], \"contourcarpet\": [{\"colorbar\": {\"outlinewidth\": 0, \"ticks\": \"\"}, \"type\": \"contourcarpet\"}], \"heatmap\": [{\"colorbar\": {\"outlinewidth\": 0, \"ticks\": \"\"}, \"colorscale\": [[0.0, \"#0d0887\"], [0.1111111111111111, \"#46039f\"], [0.2222222222222222, \"#7201a8\"], [0.3333333333333333, \"#9c179e\"], [0.4444444444444444, \"#bd3786\"], [0.5555555555555556, \"#d8576b\"], [0.6666666666666666, \"#ed7953\"], [0.7777777777777778, \"#fb9f3a\"], [0.8888888888888888, \"#fdca26\"], [1.0, \"#f0f921\"]], \"type\": \"heatmap\"}], \"heatmapgl\": [{\"colorbar\": {\"outlinewidth\": 0, \"ticks\": \"\"}, \"colorscale\": [[0.0, \"#0d0887\"], [0.1111111111111111, \"#46039f\"], [0.2222222222222222, \"#7201a8\"], [0.3333333333333333, \"#9c179e\"], [0.4444444444444444, \"#bd3786\"], [0.5555555555555556, \"#d8576b\"], [0.6666666666666666, \"#ed7953\"], [0.7777777777777778, \"#fb9f3a\"], [0.8888888888888888, \"#fdca26\"], [1.0, \"#f0f921\"]], \"type\": \"heatmapgl\"}], \"histogram\": [{\"marker\": {\"colorbar\": {\"outlinewidth\": 0, \"ticks\": \"\"}}, \"type\": \"histogram\"}], \"histogram2d\": [{\"colorbar\": {\"outlinewidth\": 0, \"ticks\": \"\"}, \"colorscale\": [[0.0, \"#0d0887\"], [0.1111111111111111, \"#46039f\"], [0.2222222222222222, \"#7201a8\"], [0.3333333333333333, \"#9c179e\"], [0.4444444444444444, \"#bd3786\"], [0.5555555555555556, \"#d8576b\"], [0.6666666666666666, \"#ed7953\"], [0.7777777777777778, \"#fb9f3a\"], [0.8888888888888888, \"#fdca26\"], [1.0, \"#f0f921\"]], \"type\": \"histogram2d\"}], \"histogram2dcontour\": [{\"colorbar\": {\"outlinewidth\": 0, \"ticks\": \"\"}, \"colorscale\": [[0.0, \"#0d0887\"], [0.1111111111111111, \"#46039f\"], [0.2222222222222222, \"#7201a8\"], [0.3333333333333333, \"#9c179e\"], [0.4444444444444444, \"#bd3786\"], [0.5555555555555556, \"#d8576b\"], [0.6666666666666666, \"#ed7953\"], [0.7777777777777778, \"#fb9f3a\"], [0.8888888888888888, \"#fdca26\"], [1.0, \"#f0f921\"]], \"type\": \"histogram2dcontour\"}], \"mesh3d\": [{\"colorbar\": {\"outlinewidth\": 0, \"ticks\": \"\"}, \"type\": \"mesh3d\"}], \"parcoords\": [{\"line\": {\"colorbar\": {\"outlinewidth\": 0, \"ticks\": \"\"}}, \"type\": \"parcoords\"}], \"pie\": [{\"automargin\": true, \"type\": \"pie\"}], \"scatter\": [{\"marker\": {\"colorbar\": {\"outlinewidth\": 0, \"ticks\": \"\"}}, \"type\": \"scatter\"}], \"scatter3d\": [{\"line\": {\"colorbar\": {\"outlinewidth\": 0, \"ticks\": \"\"}}, \"marker\": {\"colorbar\": {\"outlinewidth\": 0, \"ticks\": \"\"}}, \"type\": \"scatter3d\"}], \"scattercarpet\": [{\"marker\": {\"colorbar\": {\"outlinewidth\": 0, \"ticks\": \"\"}}, \"type\": \"scattercarpet\"}], \"scattergeo\": [{\"marker\": {\"colorbar\": {\"outlinewidth\": 0, \"ticks\": \"\"}}, \"type\": \"scattergeo\"}], \"scattergl\": [{\"marker\": {\"colorbar\": {\"outlinewidth\": 0, \"ticks\": \"\"}}, \"type\": \"scattergl\"}], \"scattermapbox\": [{\"marker\": {\"colorbar\": {\"outlinewidth\": 0, \"ticks\": \"\"}}, \"type\": \"scattermapbox\"}], \"scatterpolar\": [{\"marker\": {\"colorbar\": {\"outlinewidth\": 0, \"ticks\": \"\"}}, \"type\": \"scatterpolar\"}], \"scatterpolargl\": [{\"marker\": {\"colorbar\": {\"outlinewidth\": 0, \"ticks\": \"\"}}, \"type\": \"scatterpolargl\"}], \"scatterternary\": [{\"marker\": {\"colorbar\": {\"outlinewidth\": 0, \"ticks\": \"\"}}, \"type\": \"scatterternary\"}], \"surface\": [{\"colorbar\": {\"outlinewidth\": 0, \"ticks\": \"\"}, \"colorscale\": [[0.0, \"#0d0887\"], [0.1111111111111111, \"#46039f\"], [0.2222222222222222, \"#7201a8\"], [0.3333333333333333, \"#9c179e\"], [0.4444444444444444, \"#bd3786\"], [0.5555555555555556, \"#d8576b\"], [0.6666666666666666, \"#ed7953\"], [0.7777777777777778, \"#fb9f3a\"], [0.8888888888888888, \"#fdca26\"], [1.0, \"#f0f921\"]], \"type\": \"surface\"}], \"table\": [{\"cells\": {\"fill\": {\"color\": \"#EBF0F8\"}, \"line\": {\"color\": \"white\"}}, \"header\": {\"fill\": {\"color\": \"#C8D4E3\"}, \"line\": {\"color\": \"white\"}}, \"type\": \"table\"}]}, \"layout\": {\"annotationdefaults\": {\"arrowcolor\": \"#2a3f5f\", \"arrowhead\": 0, \"arrowwidth\": 1}, \"autotypenumbers\": \"strict\", \"coloraxis\": {\"colorbar\": {\"outlinewidth\": 0, \"ticks\": \"\"}}, \"colorscale\": {\"diverging\": [[0, \"#8e0152\"], [0.1, \"#c51b7d\"], [0.2, \"#de77ae\"], [0.3, \"#f1b6da\"], [0.4, \"#fde0ef\"], [0.5, \"#f7f7f7\"], [0.6, \"#e6f5d0\"], [0.7, \"#b8e186\"], [0.8, \"#7fbc41\"], [0.9, \"#4d9221\"], [1, \"#276419\"]], \"sequential\": [[0.0, \"#0d0887\"], [0.1111111111111111, \"#46039f\"], [0.2222222222222222, \"#7201a8\"], [0.3333333333333333, \"#9c179e\"], [0.4444444444444444, \"#bd3786\"], [0.5555555555555556, \"#d8576b\"], [0.6666666666666666, \"#ed7953\"], [0.7777777777777778, \"#fb9f3a\"], [0.8888888888888888, \"#fdca26\"], [1.0, \"#f0f921\"]], \"sequentialminus\": [[0.0, \"#0d0887\"], [0.1111111111111111, \"#46039f\"], [0.2222222222222222, \"#7201a8\"], [0.3333333333333333, \"#9c179e\"], [0.4444444444444444, \"#bd3786\"], [0.5555555555555556, \"#d8576b\"], [0.6666666666666666, \"#ed7953\"], [0.7777777777777778, \"#fb9f3a\"], [0.8888888888888888, \"#fdca26\"], [1.0, \"#f0f921\"]]}, \"colorway\": [\"#636efa\", \"#EF553B\", \"#00cc96\", \"#ab63fa\", \"#FFA15A\", \"#19d3f3\", \"#FF6692\", \"#B6E880\", \"#FF97FF\", \"#FECB52\"], \"font\": {\"color\": \"#2a3f5f\"}, \"geo\": {\"bgcolor\": \"white\", \"lakecolor\": \"white\", \"landcolor\": \"#E5ECF6\", \"showlakes\": true, \"showland\": true, \"subunitcolor\": \"white\"}, \"hoverlabel\": {\"align\": \"left\"}, \"hovermode\": \"closest\", \"mapbox\": {\"style\": \"light\"}, \"paper_bgcolor\": \"white\", \"plot_bgcolor\": \"#E5ECF6\", \"polar\": {\"angularaxis\": {\"gridcolor\": \"white\", \"linecolor\": \"white\", \"ticks\": \"\"}, \"bgcolor\": \"#E5ECF6\", \"radialaxis\": {\"gridcolor\": \"white\", \"linecolor\": \"white\", \"ticks\": \"\"}}, \"scene\": {\"xaxis\": {\"backgroundcolor\": \"#E5ECF6\", \"gridcolor\": \"white\", \"gridwidth\": 2, \"linecolor\": \"white\", \"showbackground\": true, \"ticks\": \"\", \"zerolinecolor\": \"white\"}, \"yaxis\": {\"backgroundcolor\": \"#E5ECF6\", \"gridcolor\": \"white\", \"gridwidth\": 2, \"linecolor\": \"white\", \"showbackground\": true, \"ticks\": \"\", \"zerolinecolor\": \"white\"}, \"zaxis\": {\"backgroundcolor\": \"#E5ECF6\", \"gridcolor\": \"white\", \"gridwidth\": 2, \"linecolor\": \"white\", \"showbackground\": true, \"ticks\": \"\", \"zerolinecolor\": \"white\"}}, \"shapedefaults\": {\"line\": {\"color\": \"#2a3f5f\"}}, \"ternary\": {\"aaxis\": {\"gridcolor\": \"white\", \"linecolor\": \"white\", \"ticks\": \"\"}, \"baxis\": {\"gridcolor\": \"white\", \"linecolor\": \"white\", \"ticks\": \"\"}, \"bgcolor\": \"#E5ECF6\", \"caxis\": {\"gridcolor\": \"white\", \"linecolor\": \"white\", \"ticks\": \"\"}}, \"title\": {\"x\": 0.05}, \"xaxis\": {\"automargin\": true, \"gridcolor\": \"white\", \"linecolor\": \"white\", \"ticks\": \"\", \"title\": {\"standoff\": 15}, \"zerolinecolor\": \"white\", \"zerolinewidth\": 2}, \"yaxis\": {\"automargin\": true, \"gridcolor\": \"white\", \"linecolor\": \"white\", \"ticks\": \"\", \"title\": {\"standoff\": 15}, \"zerolinecolor\": \"white\", \"zerolinewidth\": 2}}}, \"title\": {\"text\": \"\\u0418\\u0437\\u043c\\u0435\\u043d\\u0435\\u043d\\u0438\\u0435 \\u0447\\u0435\\u043b\\u043e\\u0432\\u0435\\u043a\\u043e \\u0447\\u0430\\u0441\\u043e\\u0432 \\u043f\\u043e \\u0434\\u043d\\u044f\\u043c \\u043c\\u0435\\u0441\\u044f\\u0446\\u0430\"}, \"xaxis\": {\"anchor\": \"y\", \"domain\": [0.0, 1.0], \"title\": {\"text\": \"\\u0414\\u0435\\u043d\\u044c\"}}, \"yaxis\": {\"anchor\": \"x\", \"domain\": [0.0, 1.0], \"title\": {\"text\": \"\\u0427\\u0435\\u043b\\u043e\\u0432\\u0435\\u043a\\u043e \\u0447\\u0430\\u0441\\u044b\"}}},                        {\"responsive\": true}                    ).then(function(){\n",
       "                            \n",
       "var gd = document.getElementById('efd88d10-8dec-4d88-a06b-13616bdd83ef');\n",
       "var x = new MutationObserver(function (mutations, observer) {{\n",
       "        var display = window.getComputedStyle(gd).display;\n",
       "        if (!display || display === 'none') {{\n",
       "            console.log([gd, 'removed!']);\n",
       "            Plotly.purge(gd);\n",
       "            observer.disconnect();\n",
       "        }}\n",
       "}});\n",
       "\n",
       "// Listen for the removal of the full notebook cells\n",
       "var notebookContainer = gd.closest('#notebook-container');\n",
       "if (notebookContainer) {{\n",
       "    x.observe(notebookContainer, {childList: true});\n",
       "}}\n",
       "\n",
       "// Listen for the clearing of the current output cell\n",
       "var outputEl = gd.closest('.output');\n",
       "if (outputEl) {{\n",
       "    x.observe(outputEl, {childList: true});\n",
       "}}\n",
       "\n",
       "                        })                };                });            </script>        </div>"
      ]
     },
     "metadata": {},
     "output_type": "display_data"
    }
   ],
   "source": [
    "# Делакм интерактивную визуализацию\n",
    "fig = df_oprtrs.sum().plot(kind=\"bar\",labels={\"variable\": \"День\", \"value\": \"Человеко часы\"\n",
    "                                        , \"index\": \"День\"},title = \"Изменение человеко часов по дням месяца\")\n",
    "fig.update_layout(showlegend=False)\n",
    "fig.show()"
   ]
  },
  {
   "cell_type": "code",
   "execution_count": null,
   "id": "87b79659",
   "metadata": {},
   "outputs": [],
   "source": []
  }
 ],
 "metadata": {
  "kernelspec": {
   "display_name": "Python 3",
   "language": "python",
   "name": "python3"
  },
  "language_info": {
   "codemirror_mode": {
    "name": "ipython",
    "version": 3
   },
   "file_extension": ".py",
   "mimetype": "text/x-python",
   "name": "python",
   "nbconvert_exporter": "python",
   "pygments_lexer": "ipython3",
   "version": "3.7.10"
  }
 },
 "nbformat": 4,
 "nbformat_minor": 5
}
