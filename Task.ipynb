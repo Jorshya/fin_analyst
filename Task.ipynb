{
 "cells": [
  {
   "cell_type": "code",
   "execution_count": 1,
   "id": "6e15b417",
   "metadata": {},
   "outputs": [],
   "source": [
    "#импортируем необходимые библиотеки\n",
    "import pandas as pd\n",
    "import numpy as np"
   ]
  },
  {
   "cell_type": "code",
   "execution_count": 2,
   "id": "b6e87dbb",
   "metadata": {},
   "outputs": [],
   "source": [
    "# импортируем данные из файла \"task\", создаем 3 дата фрейма\n",
    "df_task = pd.read_excel('Task.xlsx', sheet_name = 'task',skiprows = [1])\n",
    "df_call = pd.read_excel('Task.xlsx', sheet_name = 'call',skiprows = [1])\n",
    "df_result_pr = pd.read_excel('Task.xlsx', sheet_name = 'result_product',skiprows = [1])"
   ]
  },
  {
   "cell_type": "code",
   "execution_count": 3,
   "id": "b3f8d592",
   "metadata": {},
   "outputs": [
    {
     "name": "stdout",
     "output_type": "stream",
     "text": [
      "<class 'pandas.core.frame.DataFrame'>\n",
      "RangeIndex: 23119 entries, 0 to 23118\n",
      "Data columns (total 5 columns):\n",
      " #   Column          Non-Null Count  Dtype         \n",
      "---  ------          --------------  -----         \n",
      " 0   task_id         23119 non-null  int64         \n",
      " 1   hid             23119 non-null  object        \n",
      " 2   finish_dt_task  23119 non-null  datetime64[ns]\n",
      " 3   base_id         23119 non-null  int64         \n",
      " 4   task_result_id  23119 non-null  int64         \n",
      "dtypes: datetime64[ns](1), int64(3), object(1)\n",
      "memory usage: 903.2+ KB\n"
     ]
    }
   ],
   "source": [
    "df_task.info()"
   ]
  },
  {
   "cell_type": "code",
   "execution_count": 4,
   "id": "48662cf8",
   "metadata": {},
   "outputs": [
    {
     "name": "stdout",
     "output_type": "stream",
     "text": [
      "<class 'pandas.core.frame.DataFrame'>\n",
      "RangeIndex: 39598 entries, 0 to 39597\n",
      "Data columns (total 7 columns):\n",
      " #   Column          Non-Null Count  Dtype         \n",
      "---  ------          --------------  -----         \n",
      " 0   task_id         39598 non-null  int64         \n",
      " 1   call_id         39598 non-null  object        \n",
      " 2   agent_name      39598 non-null  object        \n",
      " 3   call_dt         39598 non-null  datetime64[ns]\n",
      " 4   call_result_id  39598 non-null  int64         \n",
      " 5   Unnamed: 5      39598 non-null  object        \n",
      " 6   call_time_sec   39598 non-null  int64         \n",
      "dtypes: datetime64[ns](1), int64(3), object(3)\n",
      "memory usage: 2.1+ MB\n"
     ]
    }
   ],
   "source": [
    "df_call.info()"
   ]
  },
  {
   "cell_type": "code",
   "execution_count": 5,
   "id": "8088393c",
   "metadata": {},
   "outputs": [
    {
     "name": "stdout",
     "output_type": "stream",
     "text": [
      "<class 'pandas.core.frame.DataFrame'>\n",
      "RangeIndex: 5999 entries, 0 to 5998\n",
      "Data columns (total 5 columns):\n",
      " #   Column           Non-Null Count  Dtype         \n",
      "---  ------           --------------  -----         \n",
      " 0   hid              5999 non-null   object        \n",
      " 1   product_type_cd  5999 non-null   object        \n",
      " 2   approve_dt       3724 non-null   datetime64[ns]\n",
      " 3   reject_dt        2264 non-null   datetime64[ns]\n",
      " 4   using_dt         1961 non-null   datetime64[ns]\n",
      "dtypes: datetime64[ns](3), object(2)\n",
      "memory usage: 234.5+ KB\n"
     ]
    }
   ],
   "source": [
    "df_result_pr.info()"
   ]
  },
  {
   "cell_type": "code",
   "execution_count": 6,
   "id": "8d6713f9",
   "metadata": {},
   "outputs": [
    {
     "data": {
      "text/html": [
       "<div>\n",
       "<style scoped>\n",
       "    .dataframe tbody tr th:only-of-type {\n",
       "        vertical-align: middle;\n",
       "    }\n",
       "\n",
       "    .dataframe tbody tr th {\n",
       "        vertical-align: top;\n",
       "    }\n",
       "\n",
       "    .dataframe thead th {\n",
       "        text-align: right;\n",
       "    }\n",
       "</style>\n",
       "<table border=\"1\" class=\"dataframe\">\n",
       "  <thead>\n",
       "    <tr style=\"text-align: right;\">\n",
       "      <th></th>\n",
       "      <th>hid</th>\n",
       "      <th>product_type_cd</th>\n",
       "      <th>approve_dt</th>\n",
       "      <th>reject_dt</th>\n",
       "      <th>using_dt</th>\n",
       "    </tr>\n",
       "  </thead>\n",
       "  <tbody>\n",
       "    <tr>\n",
       "      <th>0</th>\n",
       "      <td>0004c6142b4bf98fdb51ec0fead099b0</td>\n",
       "      <td>INV</td>\n",
       "      <td>2020-05-21</td>\n",
       "      <td>NaT</td>\n",
       "      <td>NaT</td>\n",
       "    </tr>\n",
       "    <tr>\n",
       "      <th>1</th>\n",
       "      <td>0008ddccf50e9a72ee9c6223fb45e4c4</td>\n",
       "      <td>INV</td>\n",
       "      <td>2020-05-29</td>\n",
       "      <td>NaT</td>\n",
       "      <td>NaT</td>\n",
       "    </tr>\n",
       "    <tr>\n",
       "      <th>2</th>\n",
       "      <td>000a2e5621a118118f42560c9821e6a1</td>\n",
       "      <td>INV</td>\n",
       "      <td>2020-04-27</td>\n",
       "      <td>NaT</td>\n",
       "      <td>2020-04-29</td>\n",
       "    </tr>\n",
       "    <tr>\n",
       "      <th>3</th>\n",
       "      <td>001a43fffa79a5b60c01473eeff9fd1f</td>\n",
       "      <td>INV</td>\n",
       "      <td>NaT</td>\n",
       "      <td>2020-04-01</td>\n",
       "      <td>NaT</td>\n",
       "    </tr>\n",
       "    <tr>\n",
       "      <th>4</th>\n",
       "      <td>001c27126f4fd13cc4126d4906c48425</td>\n",
       "      <td>INV</td>\n",
       "      <td>2020-05-06</td>\n",
       "      <td>NaT</td>\n",
       "      <td>NaT</td>\n",
       "    </tr>\n",
       "    <tr>\n",
       "      <th>...</th>\n",
       "      <td>...</td>\n",
       "      <td>...</td>\n",
       "      <td>...</td>\n",
       "      <td>...</td>\n",
       "      <td>...</td>\n",
       "    </tr>\n",
       "    <tr>\n",
       "      <th>5994</th>\n",
       "      <td>ffd2fd672444a27d03dbe426552502d5</td>\n",
       "      <td>INV</td>\n",
       "      <td>2020-05-24</td>\n",
       "      <td>NaT</td>\n",
       "      <td>2020-05-26</td>\n",
       "    </tr>\n",
       "    <tr>\n",
       "      <th>5995</th>\n",
       "      <td>ffd6cb7cef830393c9364ab42013f319</td>\n",
       "      <td>INV</td>\n",
       "      <td>2020-05-07</td>\n",
       "      <td>NaT</td>\n",
       "      <td>NaT</td>\n",
       "    </tr>\n",
       "    <tr>\n",
       "      <th>5996</th>\n",
       "      <td>ffe59b26f8c20e68ef921abdcd3532b8</td>\n",
       "      <td>INV</td>\n",
       "      <td>NaT</td>\n",
       "      <td>2020-06-05</td>\n",
       "      <td>NaT</td>\n",
       "    </tr>\n",
       "    <tr>\n",
       "      <th>5997</th>\n",
       "      <td>ffef7d941cae9d2aa8416f657f41109f</td>\n",
       "      <td>INV</td>\n",
       "      <td>2020-05-12</td>\n",
       "      <td>NaT</td>\n",
       "      <td>NaT</td>\n",
       "    </tr>\n",
       "    <tr>\n",
       "      <th>5998</th>\n",
       "      <td>fff11f06fd53c41904c42b51bc7749a3</td>\n",
       "      <td>INV</td>\n",
       "      <td>2020-04-13</td>\n",
       "      <td>NaT</td>\n",
       "      <td>2020-04-30</td>\n",
       "    </tr>\n",
       "  </tbody>\n",
       "</table>\n",
       "<p>5999 rows × 5 columns</p>\n",
       "</div>"
      ],
      "text/plain": [
       "                                   hid product_type_cd approve_dt  reject_dt  \\\n",
       "0     0004c6142b4bf98fdb51ec0fead099b0             INV 2020-05-21        NaT   \n",
       "1     0008ddccf50e9a72ee9c6223fb45e4c4             INV 2020-05-29        NaT   \n",
       "2     000a2e5621a118118f42560c9821e6a1             INV 2020-04-27        NaT   \n",
       "3     001a43fffa79a5b60c01473eeff9fd1f             INV        NaT 2020-04-01   \n",
       "4     001c27126f4fd13cc4126d4906c48425             INV 2020-05-06        NaT   \n",
       "...                                ...             ...        ...        ...   \n",
       "5994  ffd2fd672444a27d03dbe426552502d5             INV 2020-05-24        NaT   \n",
       "5995  ffd6cb7cef830393c9364ab42013f319             INV 2020-05-07        NaT   \n",
       "5996  ffe59b26f8c20e68ef921abdcd3532b8             INV        NaT 2020-06-05   \n",
       "5997  ffef7d941cae9d2aa8416f657f41109f             INV 2020-05-12        NaT   \n",
       "5998  fff11f06fd53c41904c42b51bc7749a3             INV 2020-04-13        NaT   \n",
       "\n",
       "       using_dt  \n",
       "0           NaT  \n",
       "1           NaT  \n",
       "2    2020-04-29  \n",
       "3           NaT  \n",
       "4           NaT  \n",
       "...         ...  \n",
       "5994 2020-05-26  \n",
       "5995        NaT  \n",
       "5996        NaT  \n",
       "5997        NaT  \n",
       "5998 2020-04-30  \n",
       "\n",
       "[5999 rows x 5 columns]"
      ]
     },
     "execution_count": 6,
     "metadata": {},
     "output_type": "execute_result"
    }
   ],
   "source": [
    "df_result_pr"
   ]
  },
  {
   "cell_type": "code",
   "execution_count": 7,
   "id": "047acebc",
   "metadata": {},
   "outputs": [
    {
     "data": {
      "text/plain": [
       "843083337    1\n",
       "911236643    1\n",
       "911229236    1\n",
       "911226584    1\n",
       "911223840    1\n",
       "            ..\n",
       "887048646    1\n",
       "887039136    1\n",
       "887034762    1\n",
       "887033327    1\n",
       "933065058    1\n",
       "Name: task_id, Length: 23119, dtype: int64"
      ]
     },
     "execution_count": 7,
     "metadata": {},
     "output_type": "execute_result"
    }
   ],
   "source": [
    "# в датафрейме df_task все значения task_id уникальны\n",
    "df_task.task_id.value_counts()"
   ]
  },
  {
   "cell_type": "code",
   "execution_count": 8,
   "id": "45209a75",
   "metadata": {},
   "outputs": [
    {
     "data": {
      "text/plain": [
       "873713374    14\n",
       "869534692    13\n",
       "929387253    11\n",
       "874484093    10\n",
       "860081782    10\n",
       "             ..\n",
       "896017602     1\n",
       "896018446     1\n",
       "896023320     1\n",
       "896027504     1\n",
       "933065058     1\n",
       "Name: task_id, Length: 23119, dtype: int64"
      ]
     },
     "execution_count": 8,
     "metadata": {},
     "output_type": "execute_result"
    }
   ],
   "source": [
    "# в дата фрейме df_call показатель  task_id неуникален\n",
    "df_call.task_id.value_counts()"
   ]
  },
  {
   "cell_type": "code",
   "execution_count": 9,
   "id": "881280af",
   "metadata": {},
   "outputs": [
    {
     "data": {
      "text/plain": [
       "36d2f49fc49f572677416d54536a41c6    1\n",
       "658729d4a601e2378b8ac2b08d080545    1\n",
       "692c721b62f348c4384335eacd46dde8    1\n",
       "b8812cea323dd50672305d5699f53b0e    1\n",
       "1f801a75c036c6af1f2d567fd5ca73da    1\n",
       "                                   ..\n",
       "7e256d08d19b6aaac1213958c7cd6fb4    1\n",
       "6e7896ea8cbc19c9f41d6056f5d09f2d    1\n",
       "74d4b3a2f191fba3fdab78513acf7b11    1\n",
       "712b975e07b05a58b1fcfb188bf61bfa    1\n",
       "1242029bded20eb92ffa31fd749d7ee4    1\n",
       "Name: hid, Length: 23119, dtype: int64"
      ]
     },
     "execution_count": 9,
     "metadata": {},
     "output_type": "execute_result"
    }
   ],
   "source": [
    "# в датафрейме df_task все значения hid уникальны\n",
    "df_task.hid.value_counts()"
   ]
  },
  {
   "cell_type": "code",
   "execution_count": 10,
   "id": "23e509c8",
   "metadata": {},
   "outputs": [],
   "source": [
    "# т.к при импорте данных для датафрейма df_call название показателя \"Название результата звонка\"\n",
    "# не отображается, мы его переименуем\n",
    "df_call = df_call.rename(columns={\"Unnamed: 5\": \"call_result_translation\"})"
   ]
  },
  {
   "cell_type": "markdown",
   "id": "1909998b",
   "metadata": {},
   "source": [
    "# Задание 1"
   ]
  },
  {
   "cell_type": "markdown",
   "id": "bce0a21a",
   "metadata": {},
   "source": [
    "### Самая болшая база это df_call, к которой мы будем присоединять с помощью метода merge df_task по колонне task_id, затем объеденим словари с основной таблицей\n",
    "### Так же видим, что уникальных значениий task_id в датафреймах df_call и df_task равное кол-во, поэтому применим метод inner при объединении, что бы еще раз проверить."
   ]
  },
  {
   "cell_type": "code",
   "execution_count": 11,
   "id": "44edfc38",
   "metadata": {},
   "outputs": [],
   "source": [
    "# объеденяем датафрейм df_call c df_task\n",
    "df1 = df_call.merge(df_task, left_on = \"task_id\", right_on = \"task_id\",how='inner')"
   ]
  },
  {
   "cell_type": "code",
   "execution_count": 12,
   "id": "10abb1f2",
   "metadata": {},
   "outputs": [
    {
     "name": "stdout",
     "output_type": "stream",
     "text": [
      "<class 'pandas.core.frame.DataFrame'>\n",
      "Int64Index: 39598 entries, 0 to 39597\n",
      "Data columns (total 11 columns):\n",
      " #   Column                   Non-Null Count  Dtype         \n",
      "---  ------                   --------------  -----         \n",
      " 0   task_id                  39598 non-null  int64         \n",
      " 1   call_id                  39598 non-null  object        \n",
      " 2   agent_name               39598 non-null  object        \n",
      " 3   call_dt                  39598 non-null  datetime64[ns]\n",
      " 4   call_result_id           39598 non-null  int64         \n",
      " 5   call_result_translation  39598 non-null  object        \n",
      " 6   call_time_sec            39598 non-null  int64         \n",
      " 7   hid                      39598 non-null  object        \n",
      " 8   finish_dt_task           39598 non-null  datetime64[ns]\n",
      " 9   base_id                  39598 non-null  int64         \n",
      " 10  task_result_id           39598 non-null  int64         \n",
      "dtypes: datetime64[ns](2), int64(5), object(4)\n",
      "memory usage: 3.6+ MB\n"
     ]
    }
   ],
   "source": [
    "#Кол-во наблюденийне не изменилось\n",
    "df1.info()"
   ]
  },
  {
   "cell_type": "code",
   "execution_count": 13,
   "id": "29a22ad3",
   "metadata": {},
   "outputs": [],
   "source": [
    "#создаем словарь для расшифровки результатов задания\n",
    "dict_task_result = {6:\"Успешно\", 5:\"Отказ\", 3:\"Недозвон\", 1:\"Дубль\", 4:\"Неуспешно из-за другой заявки\",\n",
    "                    7:\"Черный список\", 2:\"Не было звонка\"}\n",
    "\n",
    "#создаем новую колонку с рашифровкой\n",
    "df1['task_result_translation'] = df1['task_result_id'].map(dict_task_result)"
   ]
  },
  {
   "cell_type": "code",
   "execution_count": 14,
   "id": "9387c174",
   "metadata": {},
   "outputs": [],
   "source": [
    "#создаем словарь для расшифровки баз данных\n",
    "dict_base = {7553:\"База 1\", 3145:\"База 2\", 3445:\"База 3\", 7554:\"База 4\"}\n",
    "\n",
    "#создаем новую колонку с рашифровкой\n",
    "df1['base_translation'] = df1['base_id'].map(dict_base)"
   ]
  },
  {
   "cell_type": "code",
   "execution_count": 15,
   "id": "65a3520c",
   "metadata": {},
   "outputs": [
    {
     "name": "stdout",
     "output_type": "stream",
     "text": [
      "<class 'pandas.core.frame.DataFrame'>\n",
      "Int64Index: 39598 entries, 0 to 39597\n",
      "Data columns (total 13 columns):\n",
      " #   Column                   Non-Null Count  Dtype         \n",
      "---  ------                   --------------  -----         \n",
      " 0   task_id                  39598 non-null  int64         \n",
      " 1   call_id                  39598 non-null  object        \n",
      " 2   agent_name               39598 non-null  object        \n",
      " 3   call_dt                  39598 non-null  datetime64[ns]\n",
      " 4   call_result_id           39598 non-null  int64         \n",
      " 5   call_result_translation  39598 non-null  object        \n",
      " 6   call_time_sec            39598 non-null  int64         \n",
      " 7   hid                      39598 non-null  object        \n",
      " 8   finish_dt_task           39598 non-null  datetime64[ns]\n",
      " 9   base_id                  39598 non-null  int64         \n",
      " 10  task_result_id           39598 non-null  int64         \n",
      " 11  task_result_translation  39598 non-null  object        \n",
      " 12  base_translation         39598 non-null  object        \n",
      "dtypes: datetime64[ns](2), int64(5), object(6)\n",
      "memory usage: 4.2+ MB\n"
     ]
    }
   ],
   "source": [
    "df1.info()"
   ]
  },
  {
   "cell_type": "markdown",
   "id": "57780b61",
   "metadata": {},
   "source": [
    "###  Словарь для call_result_id создавать не нужно т.к. перевод уже есть настоящем датафрейме"
   ]
  },
  {
   "cell_type": "code",
   "execution_count": null,
   "id": "50d1b122",
   "metadata": {},
   "outputs": [],
   "source": [
    "df1.hid.value_counts()"
   ]
  },
  {
   "cell_type": "code",
   "execution_count": 399,
   "id": "db6b4a09",
   "metadata": {},
   "outputs": [],
   "source": [
    "df_final_merge = df1.merge(df_result_pr, how = \"left\", left_on=\"hid\", right_on=\"hid\")"
   ]
  },
  {
   "cell_type": "code",
   "execution_count": 400,
   "id": "758ebbb2",
   "metadata": {},
   "outputs": [
    {
     "data": {
      "text/html": [
       "<div>\n",
       "<style scoped>\n",
       "    .dataframe tbody tr th:only-of-type {\n",
       "        vertical-align: middle;\n",
       "    }\n",
       "\n",
       "    .dataframe tbody tr th {\n",
       "        vertical-align: top;\n",
       "    }\n",
       "\n",
       "    .dataframe thead th {\n",
       "        text-align: right;\n",
       "    }\n",
       "</style>\n",
       "<table border=\"1\" class=\"dataframe\">\n",
       "  <thead>\n",
       "    <tr style=\"text-align: right;\">\n",
       "      <th></th>\n",
       "      <th>task_id</th>\n",
       "      <th>call_result_id</th>\n",
       "      <th>call_time_sec</th>\n",
       "      <th>base_id</th>\n",
       "      <th>task_result_id</th>\n",
       "    </tr>\n",
       "  </thead>\n",
       "  <tbody>\n",
       "    <tr>\n",
       "      <th>count</th>\n",
       "      <td>3.959800e+04</td>\n",
       "      <td>39598.000000</td>\n",
       "      <td>39598.000000</td>\n",
       "      <td>39598.000000</td>\n",
       "      <td>39598.000000</td>\n",
       "    </tr>\n",
       "    <tr>\n",
       "      <th>mean</th>\n",
       "      <td>8.995246e+08</td>\n",
       "      <td>3.542224</td>\n",
       "      <td>109.734835</td>\n",
       "      <td>7553.054624</td>\n",
       "      <td>4.182509</td>\n",
       "    </tr>\n",
       "    <tr>\n",
       "      <th>std</th>\n",
       "      <td>1.859090e+07</td>\n",
       "      <td>1.802332</td>\n",
       "      <td>199.917066</td>\n",
       "      <td>0.227248</td>\n",
       "      <td>1.353218</td>\n",
       "    </tr>\n",
       "    <tr>\n",
       "      <th>min</th>\n",
       "      <td>8.430833e+08</td>\n",
       "      <td>1.000000</td>\n",
       "      <td>0.000000</td>\n",
       "      <td>7553.000000</td>\n",
       "      <td>1.000000</td>\n",
       "    </tr>\n",
       "    <tr>\n",
       "      <th>25%</th>\n",
       "      <td>8.814711e+08</td>\n",
       "      <td>2.000000</td>\n",
       "      <td>4.000000</td>\n",
       "      <td>7553.000000</td>\n",
       "      <td>3.000000</td>\n",
       "    </tr>\n",
       "    <tr>\n",
       "      <th>50%</th>\n",
       "      <td>9.002582e+08</td>\n",
       "      <td>3.000000</td>\n",
       "      <td>30.000000</td>\n",
       "      <td>7553.000000</td>\n",
       "      <td>5.000000</td>\n",
       "    </tr>\n",
       "    <tr>\n",
       "      <th>75%</th>\n",
       "      <td>9.157498e+08</td>\n",
       "      <td>5.000000</td>\n",
       "      <td>125.000000</td>\n",
       "      <td>7553.000000</td>\n",
       "      <td>5.000000</td>\n",
       "    </tr>\n",
       "    <tr>\n",
       "      <th>max</th>\n",
       "      <td>9.330651e+08</td>\n",
       "      <td>6.000000</td>\n",
       "      <td>4615.000000</td>\n",
       "      <td>7554.000000</td>\n",
       "      <td>7.000000</td>\n",
       "    </tr>\n",
       "  </tbody>\n",
       "</table>\n",
       "</div>"
      ],
      "text/plain": [
       "            task_id  call_result_id  call_time_sec       base_id  \\\n",
       "count  3.959800e+04    39598.000000   39598.000000  39598.000000   \n",
       "mean   8.995246e+08        3.542224     109.734835   7553.054624   \n",
       "std    1.859090e+07        1.802332     199.917066      0.227248   \n",
       "min    8.430833e+08        1.000000       0.000000   7553.000000   \n",
       "25%    8.814711e+08        2.000000       4.000000   7553.000000   \n",
       "50%    9.002582e+08        3.000000      30.000000   7553.000000   \n",
       "75%    9.157498e+08        5.000000     125.000000   7553.000000   \n",
       "max    9.330651e+08        6.000000    4615.000000   7554.000000   \n",
       "\n",
       "       task_result_id  \n",
       "count    39598.000000  \n",
       "mean         4.182509  \n",
       "std          1.353218  \n",
       "min          1.000000  \n",
       "25%          3.000000  \n",
       "50%          5.000000  \n",
       "75%          5.000000  \n",
       "max          7.000000  "
      ]
     },
     "execution_count": 400,
     "metadata": {},
     "output_type": "execute_result"
    }
   ],
   "source": [
    "df_final_merge.describe()"
   ]
  },
  {
   "cell_type": "code",
   "execution_count": 401,
   "id": "bfc9b086",
   "metadata": {},
   "outputs": [
    {
     "data": {
      "text/html": [
       "<div>\n",
       "<style scoped>\n",
       "    .dataframe tbody tr th:only-of-type {\n",
       "        vertical-align: middle;\n",
       "    }\n",
       "\n",
       "    .dataframe tbody tr th {\n",
       "        vertical-align: top;\n",
       "    }\n",
       "\n",
       "    .dataframe thead th {\n",
       "        text-align: right;\n",
       "    }\n",
       "</style>\n",
       "<table border=\"1\" class=\"dataframe\">\n",
       "  <thead>\n",
       "    <tr style=\"text-align: right;\">\n",
       "      <th></th>\n",
       "      <th>task_id</th>\n",
       "      <th>call_id</th>\n",
       "      <th>agent_name</th>\n",
       "      <th>call_dt</th>\n",
       "      <th>call_result_id</th>\n",
       "      <th>call_result_translation</th>\n",
       "      <th>call_time_sec</th>\n",
       "      <th>hid</th>\n",
       "      <th>finish_dt_task</th>\n",
       "      <th>base_id</th>\n",
       "      <th>task_result_id</th>\n",
       "      <th>task_result_translation</th>\n",
       "      <th>base_translation</th>\n",
       "      <th>product_type_cd</th>\n",
       "      <th>approve_dt</th>\n",
       "      <th>reject_dt</th>\n",
       "      <th>using_dt</th>\n",
       "    </tr>\n",
       "  </thead>\n",
       "  <tbody>\n",
       "    <tr>\n",
       "      <th>0</th>\n",
       "      <td>843083337</td>\n",
       "      <td>6645916908#16711160876</td>\n",
       "      <td>sakungurceva</td>\n",
       "      <td>2020-03-01</td>\n",
       "      <td>6</td>\n",
       "      <td>Дозвон, Отложить</td>\n",
       "      <td>298</td>\n",
       "      <td>36d2f49fc49f572677416d54536a41c6</td>\n",
       "      <td>2020-04-15</td>\n",
       "      <td>7553</td>\n",
       "      <td>6</td>\n",
       "      <td>Успешно</td>\n",
       "      <td>База 1</td>\n",
       "      <td>INV</td>\n",
       "      <td>NaT</td>\n",
       "      <td>2020-04-22</td>\n",
       "      <td>NaT</td>\n",
       "    </tr>\n",
       "    <tr>\n",
       "      <th>1</th>\n",
       "      <td>843083337</td>\n",
       "      <td>6750206063#16711160876</td>\n",
       "      <td>sakungurceva</td>\n",
       "      <td>2020-03-17</td>\n",
       "      <td>6</td>\n",
       "      <td>Дозвон, Отложить</td>\n",
       "      <td>9</td>\n",
       "      <td>36d2f49fc49f572677416d54536a41c6</td>\n",
       "      <td>2020-04-15</td>\n",
       "      <td>7553</td>\n",
       "      <td>6</td>\n",
       "      <td>Успешно</td>\n",
       "      <td>База 1</td>\n",
       "      <td>INV</td>\n",
       "      <td>NaT</td>\n",
       "      <td>2020-04-22</td>\n",
       "      <td>NaT</td>\n",
       "    </tr>\n",
       "    <tr>\n",
       "      <th>2</th>\n",
       "      <td>843083337</td>\n",
       "      <td>6769109629#16711160876</td>\n",
       "      <td>sakungurceva</td>\n",
       "      <td>2020-03-24</td>\n",
       "      <td>6</td>\n",
       "      <td>Дозвон, Отложить</td>\n",
       "      <td>111</td>\n",
       "      <td>36d2f49fc49f572677416d54536a41c6</td>\n",
       "      <td>2020-04-15</td>\n",
       "      <td>7553</td>\n",
       "      <td>6</td>\n",
       "      <td>Успешно</td>\n",
       "      <td>База 1</td>\n",
       "      <td>INV</td>\n",
       "      <td>NaT</td>\n",
       "      <td>2020-04-22</td>\n",
       "      <td>NaT</td>\n",
       "    </tr>\n",
       "    <tr>\n",
       "      <th>3</th>\n",
       "      <td>843083337</td>\n",
       "      <td>6890964670#16711160876</td>\n",
       "      <td>sakungurceva</td>\n",
       "      <td>2020-04-15</td>\n",
       "      <td>5</td>\n",
       "      <td>Недозвон</td>\n",
       "      <td>7</td>\n",
       "      <td>36d2f49fc49f572677416d54536a41c6</td>\n",
       "      <td>2020-04-15</td>\n",
       "      <td>7553</td>\n",
       "      <td>6</td>\n",
       "      <td>Успешно</td>\n",
       "      <td>База 1</td>\n",
       "      <td>INV</td>\n",
       "      <td>NaT</td>\n",
       "      <td>2020-04-22</td>\n",
       "      <td>NaT</td>\n",
       "    </tr>\n",
       "    <tr>\n",
       "      <th>4</th>\n",
       "      <td>843083337</td>\n",
       "      <td>6926247810#16711160876</td>\n",
       "      <td>lapleshivenkova</td>\n",
       "      <td>2020-04-15</td>\n",
       "      <td>3</td>\n",
       "      <td>Дозвон, Успешно</td>\n",
       "      <td>1329</td>\n",
       "      <td>36d2f49fc49f572677416d54536a41c6</td>\n",
       "      <td>2020-04-15</td>\n",
       "      <td>7553</td>\n",
       "      <td>6</td>\n",
       "      <td>Успешно</td>\n",
       "      <td>База 1</td>\n",
       "      <td>INV</td>\n",
       "      <td>NaT</td>\n",
       "      <td>2020-04-22</td>\n",
       "      <td>NaT</td>\n",
       "    </tr>\n",
       "    <tr>\n",
       "      <th>...</th>\n",
       "      <td>...</td>\n",
       "      <td>...</td>\n",
       "      <td>...</td>\n",
       "      <td>...</td>\n",
       "      <td>...</td>\n",
       "      <td>...</td>\n",
       "      <td>...</td>\n",
       "      <td>...</td>\n",
       "      <td>...</td>\n",
       "      <td>...</td>\n",
       "      <td>...</td>\n",
       "      <td>...</td>\n",
       "      <td>...</td>\n",
       "      <td>...</td>\n",
       "      <td>...</td>\n",
       "      <td>...</td>\n",
       "      <td>...</td>\n",
       "    </tr>\n",
       "    <tr>\n",
       "      <th>39593</th>\n",
       "      <td>933035272</td>\n",
       "      <td>7124347282#18483260522</td>\n",
       "      <td>aztrofimova</td>\n",
       "      <td>2020-05-30</td>\n",
       "      <td>5</td>\n",
       "      <td>Недозвон</td>\n",
       "      <td>0</td>\n",
       "      <td>9a2d6dd8ff0a11bdc7a65c8ded5d6d92</td>\n",
       "      <td>2020-05-30</td>\n",
       "      <td>7553</td>\n",
       "      <td>1</td>\n",
       "      <td>Дубль</td>\n",
       "      <td>База 1</td>\n",
       "      <td>NaN</td>\n",
       "      <td>NaT</td>\n",
       "      <td>NaT</td>\n",
       "      <td>NaT</td>\n",
       "    </tr>\n",
       "    <tr>\n",
       "      <th>39594</th>\n",
       "      <td>933040837</td>\n",
       "      <td>7123998330#18480990905</td>\n",
       "      <td>aztrofimova</td>\n",
       "      <td>2020-05-30</td>\n",
       "      <td>5</td>\n",
       "      <td>Недозвон</td>\n",
       "      <td>9</td>\n",
       "      <td>3c682df2f35ed1dc634501b4b7ae25fe</td>\n",
       "      <td>2020-05-30</td>\n",
       "      <td>7554</td>\n",
       "      <td>5</td>\n",
       "      <td>Отказ</td>\n",
       "      <td>База 4</td>\n",
       "      <td>NaN</td>\n",
       "      <td>NaT</td>\n",
       "      <td>NaT</td>\n",
       "      <td>NaT</td>\n",
       "    </tr>\n",
       "    <tr>\n",
       "      <th>39595</th>\n",
       "      <td>933040837</td>\n",
       "      <td>7124519269#18480990905</td>\n",
       "      <td>zadenis</td>\n",
       "      <td>2020-05-30</td>\n",
       "      <td>1</td>\n",
       "      <td>Дозвон, Отказ</td>\n",
       "      <td>41</td>\n",
       "      <td>3c682df2f35ed1dc634501b4b7ae25fe</td>\n",
       "      <td>2020-05-30</td>\n",
       "      <td>7554</td>\n",
       "      <td>5</td>\n",
       "      <td>Отказ</td>\n",
       "      <td>База 4</td>\n",
       "      <td>NaN</td>\n",
       "      <td>NaT</td>\n",
       "      <td>NaT</td>\n",
       "      <td>NaT</td>\n",
       "    </tr>\n",
       "    <tr>\n",
       "      <th>39596</th>\n",
       "      <td>933042718</td>\n",
       "      <td>7124237815#18482537123</td>\n",
       "      <td>npmoskalenko</td>\n",
       "      <td>2020-05-30</td>\n",
       "      <td>1</td>\n",
       "      <td>Дозвон, Отказ</td>\n",
       "      <td>138</td>\n",
       "      <td>d6262e2d5840a2e68fcf028c9732606c</td>\n",
       "      <td>2020-05-30</td>\n",
       "      <td>7553</td>\n",
       "      <td>5</td>\n",
       "      <td>Отказ</td>\n",
       "      <td>База 1</td>\n",
       "      <td>NaN</td>\n",
       "      <td>NaT</td>\n",
       "      <td>NaT</td>\n",
       "      <td>NaT</td>\n",
       "    </tr>\n",
       "    <tr>\n",
       "      <th>39597</th>\n",
       "      <td>933065058</td>\n",
       "      <td>7123061624#18471818019</td>\n",
       "      <td>dakupriyanov</td>\n",
       "      <td>2020-05-30</td>\n",
       "      <td>3</td>\n",
       "      <td>Дозвон, Успешно</td>\n",
       "      <td>276</td>\n",
       "      <td>1242029bded20eb92ffa31fd749d7ee4</td>\n",
       "      <td>2020-05-30</td>\n",
       "      <td>7553</td>\n",
       "      <td>6</td>\n",
       "      <td>Успешно</td>\n",
       "      <td>База 1</td>\n",
       "      <td>INV</td>\n",
       "      <td>2020-05-30</td>\n",
       "      <td>NaT</td>\n",
       "      <td>NaT</td>\n",
       "    </tr>\n",
       "  </tbody>\n",
       "</table>\n",
       "<p>39598 rows × 17 columns</p>\n",
       "</div>"
      ],
      "text/plain": [
       "         task_id                 call_id       agent_name    call_dt  \\\n",
       "0      843083337  6645916908#16711160876     sakungurceva 2020-03-01   \n",
       "1      843083337  6750206063#16711160876     sakungurceva 2020-03-17   \n",
       "2      843083337  6769109629#16711160876     sakungurceva 2020-03-24   \n",
       "3      843083337  6890964670#16711160876     sakungurceva 2020-04-15   \n",
       "4      843083337  6926247810#16711160876  lapleshivenkova 2020-04-15   \n",
       "...          ...                     ...              ...        ...   \n",
       "39593  933035272  7124347282#18483260522      aztrofimova 2020-05-30   \n",
       "39594  933040837  7123998330#18480990905      aztrofimova 2020-05-30   \n",
       "39595  933040837  7124519269#18480990905          zadenis 2020-05-30   \n",
       "39596  933042718  7124237815#18482537123     npmoskalenko 2020-05-30   \n",
       "39597  933065058  7123061624#18471818019     dakupriyanov 2020-05-30   \n",
       "\n",
       "       call_result_id call_result_translation  call_time_sec  \\\n",
       "0                   6        Дозвон, Отложить            298   \n",
       "1                   6        Дозвон, Отложить              9   \n",
       "2                   6        Дозвон, Отложить            111   \n",
       "3                   5                Недозвон              7   \n",
       "4                   3         Дозвон, Успешно           1329   \n",
       "...               ...                     ...            ...   \n",
       "39593               5                Недозвон              0   \n",
       "39594               5                Недозвон              9   \n",
       "39595               1           Дозвон, Отказ             41   \n",
       "39596               1           Дозвон, Отказ            138   \n",
       "39597               3         Дозвон, Успешно            276   \n",
       "\n",
       "                                    hid finish_dt_task  base_id  \\\n",
       "0      36d2f49fc49f572677416d54536a41c6     2020-04-15     7553   \n",
       "1      36d2f49fc49f572677416d54536a41c6     2020-04-15     7553   \n",
       "2      36d2f49fc49f572677416d54536a41c6     2020-04-15     7553   \n",
       "3      36d2f49fc49f572677416d54536a41c6     2020-04-15     7553   \n",
       "4      36d2f49fc49f572677416d54536a41c6     2020-04-15     7553   \n",
       "...                                 ...            ...      ...   \n",
       "39593  9a2d6dd8ff0a11bdc7a65c8ded5d6d92     2020-05-30     7553   \n",
       "39594  3c682df2f35ed1dc634501b4b7ae25fe     2020-05-30     7554   \n",
       "39595  3c682df2f35ed1dc634501b4b7ae25fe     2020-05-30     7554   \n",
       "39596  d6262e2d5840a2e68fcf028c9732606c     2020-05-30     7553   \n",
       "39597  1242029bded20eb92ffa31fd749d7ee4     2020-05-30     7553   \n",
       "\n",
       "       task_result_id task_result_translation base_translation  \\\n",
       "0                   6                 Успешно           База 1   \n",
       "1                   6                 Успешно           База 1   \n",
       "2                   6                 Успешно           База 1   \n",
       "3                   6                 Успешно           База 1   \n",
       "4                   6                 Успешно           База 1   \n",
       "...               ...                     ...              ...   \n",
       "39593               1                   Дубль           База 1   \n",
       "39594               5                   Отказ           База 4   \n",
       "39595               5                   Отказ           База 4   \n",
       "39596               5                   Отказ           База 1   \n",
       "39597               6                 Успешно           База 1   \n",
       "\n",
       "      product_type_cd approve_dt  reject_dt using_dt  \n",
       "0                 INV        NaT 2020-04-22      NaT  \n",
       "1                 INV        NaT 2020-04-22      NaT  \n",
       "2                 INV        NaT 2020-04-22      NaT  \n",
       "3                 INV        NaT 2020-04-22      NaT  \n",
       "4                 INV        NaT 2020-04-22      NaT  \n",
       "...               ...        ...        ...      ...  \n",
       "39593             NaN        NaT        NaT      NaT  \n",
       "39594             NaN        NaT        NaT      NaT  \n",
       "39595             NaN        NaT        NaT      NaT  \n",
       "39596             NaN        NaT        NaT      NaT  \n",
       "39597             INV 2020-05-30        NaT      NaT  \n",
       "\n",
       "[39598 rows x 17 columns]"
      ]
     },
     "metadata": {},
     "output_type": "display_data"
    }
   ],
   "source": [
    "#выводим на экран объединенную таблицу\n",
    "display(df_final_merge)"
   ]
  },
  {
   "cell_type": "code",
   "execution_count": 402,
   "id": "cf9a6550",
   "metadata": {},
   "outputs": [],
   "source": [
    "#Сделаем импорт графических библиотек\n",
    "import matplotlib.pyplot as plt\n",
    "import plotly.express as px\n",
    "%matplotlib inline\n",
    "# импортируем seaborn для лучшего отображения\n",
    "import seaborn as sns\n",
    "sns.set()"
   ]
  },
  {
   "cell_type": "code",
   "execution_count": 457,
   "id": "392c432c",
   "metadata": {},
   "outputs": [
    {
     "name": "stderr",
     "output_type": "stream",
     "text": [
      "C:\\Users\\Lenovo\\Anaconda3\\lib\\site-packages\\seaborn\\_decorators.py:43: FutureWarning:\n",
      "\n",
      "Pass the following variable as a keyword arg: x. From version 0.12, the only valid positional argument will be `data`, and passing other arguments without an explicit keyword will result in an error or misinterpretation.\n",
      "\n"
     ]
    },
    {
     "data": {
      "text/plain": [
       "Text(0.5, 1.0, 'Разброс количества секунд по квртилям')"
      ]
     },
     "execution_count": 457,
     "metadata": {},
     "output_type": "execute_result"
    },
    {
     "data": {
      "image/png": "[encoded data removed]",
      "text/plain": [
       "<Figure size 1440x1080 with 1 Axes>"
      ]
     },
     "metadata": {},
     "output_type": "display_data"
    }
   ],
   "source": [
    "# посмотрим как распределны показатели длины звонка\n",
    "plt.figure(figsize=(20,15))\n",
    "ax=sns.boxplot(df_final_merge.call_time_sec)\n",
    "ax.set_title(\"Разброс количества секунд по квртилям\")"
   ]
  },
  {
   "cell_type": "markdown",
   "id": "3df6d1b2",
   "metadata": {},
   "source": [
    "### В целом звонок не должен длияться долго, но можем предположить, что некоторые звонки дляться до часа. примем максимальное значение как выброс."
   ]
  },
  {
   "cell_type": "code",
   "execution_count": 404,
   "id": "839157b1",
   "metadata": {},
   "outputs": [],
   "source": [
    "df_final_merge = df_final_merge[df_final_merge.call_time_sec < 4000]"
   ]
  },
  {
   "cell_type": "markdown",
   "id": "9def6c67",
   "metadata": {},
   "source": [
    "# Задание 2"
   ]
  },
  {
   "cell_type": "markdown",
   "id": "43c6fadc",
   "metadata": {},
   "source": [
    "## Задание 2.1 \n",
    "## Создание общей вороднки продаж по базам данных"
   ]
  },
  {
   "cell_type": "code",
   "execution_count": 406,
   "id": "8b053271",
   "metadata": {},
   "outputs": [
    {
     "data": {
      "text/plain": [
       "База 1    37434\n",
       "База 4     2163\n",
       "Name: base_translation, dtype: int64"
      ]
     },
     "execution_count": 406,
     "metadata": {},
     "output_type": "execute_result"
    }
   ],
   "source": [
    "#определяем кол-во баз данных\n",
    "df_final_merge.base_translation.value_counts()"
   ]
  },
  {
   "cell_type": "code",
   "execution_count": 407,
   "id": "e2faeb38",
   "metadata": {},
   "outputs": [],
   "source": [
    "# Разбиваем общую базу данных на 2 базы: База 1 и База 4\n",
    "\n",
    "df_base_1 = df_final_merge[df_final_merge[\"base_translation\"] == \"База 1\"]\n",
    "\n",
    "df_base_4 = df_final_merge[df_final_merge[\"base_translation\"] == \"База 4\"]"
   ]
  },
  {
   "cell_type": "markdown",
   "id": "fa55cd45",
   "metadata": {},
   "source": [
    "### Расчитываем показатели для воронки продаж для Базы 1"
   ]
  },
  {
   "cell_type": "code",
   "execution_count": 408,
   "id": "e95a0c55",
   "metadata": {},
   "outputs": [
    {
     "name": "stdout",
     "output_type": "stream",
     "text": [
      "Кол-во клеинтов к которым дозвонились: 17896\n",
      "Кол-во клеинтов к которым дозвонились и не отказали: 11313\n",
      "Кол-во клеинтов к которым дозвонились и продали: 5559\n"
     ]
    }
   ],
   "source": [
    " # для тех кто дозовнился  \n",
    "df_b1_1 = df_base_1[df_base_1.call_result_translation.str.contains(\"Дозвон\")].reset_index(drop=True)    \n",
    "cnt_b1_1 = df_b1_1.task_id.nunique()\n",
    "print(f'Кол-во клеинтов к которым дозвонились: {cnt_b1_1}')\n",
    "\n",
    "#кто дозвонился и не получил отказ\n",
    "df_b1_2 = df_b1_1[~df_b1_1.call_result_translation.str.contains(\"Отказ\")].reset_index(drop=True) \n",
    "cnt_b1_2 = df_b1_2.task_id.nunique()\n",
    "print(f'Кол-во клеинтов к которым дозвонились и не отказали: {cnt_b1_2}')\n",
    "\n",
    "#кто дозвонился и продал продукт\n",
    "df_b1_3 = df_b1_2[df_b1_2.call_result_translation.str.contains(\"Успешно\")].reset_index(drop=True)\n",
    "cnt_b1_3 = df_b1_3.task_id.nunique()\n",
    "print(f'Кол-во клеинтов к которым дозвонились и продали: {cnt_b1_3}')"
   ]
  },
  {
   "cell_type": "code",
   "execution_count": 409,
   "id": "25c90e2c",
   "metadata": {},
   "outputs": [
    {
     "data": {
      "text/plain": [
       "843083337    1\n",
       "912437232    1\n",
       "912429222    1\n",
       "912426384    1\n",
       "912408973    1\n",
       "            ..\n",
       "889865611    1\n",
       "889862266    1\n",
       "889849478    1\n",
       "889942164    1\n",
       "933065058    1\n",
       "Name: task_id, Length: 5559, dtype: int64"
      ]
     },
     "execution_count": 409,
     "metadata": {},
     "output_type": "execute_result"
    }
   ],
   "source": [
    "# проверяем есть ли клиенты, которые повторно делали покупку\n",
    "df_b1_3.task_id.value_counts(ascending =True)"
   ]
  },
  {
   "cell_type": "markdown",
   "id": "12c74dee",
   "metadata": {},
   "source": [
    "### Расчитываем показатели для воронки продаж для Базы 1"
   ]
  },
  {
   "cell_type": "code",
   "execution_count": 410,
   "id": "4f730632",
   "metadata": {},
   "outputs": [
    {
     "name": "stdout",
     "output_type": "stream",
     "text": [
      "Кол-во клеинтов к которым дозвонились: 910\n",
      "Кол-во клеинтов к которым дозвонились и не отказали: 678\n",
      "Кол-во клеинтов к которым дозвонились и продали: 451\n"
     ]
    }
   ],
   "source": [
    " # для тех кто дозовнился  \n",
    "df_b4_1 = df_base_4[df_base_4.call_result_translation.str.contains(\"Дозвон\")].reset_index(drop=True)    \n",
    "cnt_b4_1 = df_b4_1.task_id.nunique()\n",
    "print(f'Кол-во клеинтов к которым дозвонились: {cnt_b4_1}')\n",
    "\n",
    "#кто дозвонился и не получил отказ\n",
    "df_b4_2 = df_b4_1[~df_b4_1.call_result_translation.str.contains(\"Отказ\")].reset_index(drop=True) \n",
    "cnt_b4_2 = df_b4_2.task_id.nunique()\n",
    "print(f'Кол-во клеинтов к которым дозвонились и не отказали: {cnt_b4_2}')\n",
    "\n",
    "#кто дозвонился и продал продукт\n",
    "df_b4_3 = df_b4_2[df_b4_2.call_result_translation.str.contains(\"Успешно\")].reset_index(drop=True)\n",
    "cnt_b4_3 = df_b4_3.task_id.nunique()\n",
    "print(f'Кол-во клеинтов к которым дозвонились и продали: {cnt_b4_3}')"
   ]
  },
  {
   "cell_type": "code",
   "execution_count": 411,
   "id": "be6524a4",
   "metadata": {},
   "outputs": [
    {
     "data": {
      "text/plain": [
       "869211882    1\n",
       "884648160    1\n",
       "884588246    1\n",
       "884524170    1\n",
       "884513084    1\n",
       "            ..\n",
       "878224927    1\n",
       "878206584    1\n",
       "878204100    1\n",
       "877675231    1\n",
       "931822370    1\n",
       "Name: task_id, Length: 451, dtype: int64"
      ]
     },
     "execution_count": 411,
     "metadata": {},
     "output_type": "execute_result"
    }
   ],
   "source": [
    "# проверяем есть ли клиенты, которые повторно делали покупку\n",
    "df_b4_3.task_id.value_counts(ascending =True)"
   ]
  },
  {
   "cell_type": "markdown",
   "id": "32db5578",
   "metadata": {},
   "source": [
    "### Создаем исходные данные для построение воронки продаж"
   ]
  },
  {
   "cell_type": "code",
   "execution_count": 412,
   "id": "e007d51b",
   "metadata": {},
   "outputs": [],
   "source": [
    "qnt_list = [cnt_b1_1,cnt_b1_2,cnt_b1_3,cnt_b4_1,cnt_b4_2,cnt_b4_3]\n",
    "calls_list = [\"Звонки\",\"Звонок + заинтересованность\", \"Звоно + продажа\"]\n",
    "base_list = [\"База 1\",\"База 4\"]"
   ]
  },
  {
   "cell_type": "code",
   "execution_count": 413,
   "id": "ee3134a7",
   "metadata": {},
   "outputs": [],
   "source": [
    "import matplotlib.pyplot as plt\n",
    "import plotly.express as px"
   ]
  },
  {
   "cell_type": "code",
   "execution_count": 414,
   "id": "77b4db87",
   "metadata": {},
   "outputs": [
    {
     "data": {
      "application/vnd.plotly.v1+json": {
       "config": {
        "plotlyServerURL": "https://plot.ly"
       },
       "data": [
        {
         "hovertemplate": "База=База 1<br>Quantity=%{x}<br>Этапы=%{y}<extra></extra>",
         "legendgroup": "База 1",
         "marker": {
          "color": "#c4c425"
         },
         "name": "База 1",
         "opacity": 0.8,
         "orientation": "h",
         "showlegend": true,
         "type": "funnel",
         "x": [
          17896,
          11313,
          5559
         ],
         "xaxis": "x",
         "y": [
          "Звонки",
          "Звонок + заинтересованность",
          "Звонок + продажа"
         ],
         "yaxis": "y"
        },
        {
         "hovertemplate": "База=База 4<br>Quantity=%{x}<br>Этапы=%{y}<extra></extra>",
         "legendgroup": "База 4",
         "marker": {
          "color": "#617588"
         },
         "name": "База 4",
         "opacity": 0.8,
         "orientation": "h",
         "showlegend": true,
         "type": "funnel",
         "x": [
          910,
          678,
          451
         ],
         "xaxis": "x",
         "y": [
          "Звонки",
          "Звонок + заинтересованность",
          "Звонок + продажа"
         ],
         "yaxis": "y"
        }
       ],
       "layout": {
        "legend": {
         "title": {
          "text": "База"
         },
         "tracegroupgap": 0
        },
        "template": {
         "data": {
          "bar": [
           {
            "error_x": {
             "color": "rgb(36,36,36)"
            },
            "error_y": {
             "color": "rgb(36,36,36)"
            },
            "marker": {
             "line": {
              "color": "white",
              "width": 0.5
             }
            },
            "type": "bar"
           }
          ],
          "barpolar": [
           {
            "marker": {
             "line": {
              "color": "white",
              "width": 0.5
             }
            },
            "type": "barpolar"
           }
          ],
          "carpet": [
           {
            "aaxis": {
             "endlinecolor": "rgb(36,36,36)",
             "gridcolor": "white",
             "linecolor": "white",
             "minorgridcolor": "white",
             "startlinecolor": "rgb(36,36,36)"
            },
            "baxis": {
             "endlinecolor": "rgb(36,36,36)",
             "gridcolor": "white",
             "linecolor": "white",
             "minorgridcolor": "white",
             "startlinecolor": "rgb(36,36,36)"
            },
            "type": "carpet"
           }
          ],
          "choropleth": [
           {
            "colorbar": {
             "outlinewidth": 1,
             "tickcolor": "rgb(36,36,36)",
             "ticks": "outside"
            },
            "type": "choropleth"
           }
          ],
          "contour": [
           {
            "colorbar": {
             "outlinewidth": 1,
             "tickcolor": "rgb(36,36,36)",
             "ticks": "outside"
            },
            "colorscale": [
             [
              0,
              "#440154"
             ],
             [
              0.1111111111111111,
              "#482878"
             ],
             [
              0.2222222222222222,
              "#3e4989"
             ],
             [
              0.3333333333333333,
              "#31688e"
             ],
             [
              0.4444444444444444,
              "#26828e"
             ],
             [
              0.5555555555555556,
              "#1f9e89"
             ],
             [
              0.6666666666666666,
              "#35b779"
             ],
             [
              0.7777777777777778,
              "#6ece58"
             ],
             [
              0.8888888888888888,
              "#b5de2b"
             ],
             [
              1,
              "#fde725"
             ]
            ],
            "type": "contour"
           }
          ],
          "contourcarpet": [
           {
            "colorbar": {
             "outlinewidth": 1,
             "tickcolor": "rgb(36,36,36)",
             "ticks": "outside"
            },
            "type": "contourcarpet"
           }
          ],
          "heatmap": [
           {
            "colorbar": {
             "outlinewidth": 1,
             "tickcolor": "rgb(36,36,36)",
             "ticks": "outside"
            },
            "colorscale": [
             [
              0,
              "#440154"
             ],
             [
              0.1111111111111111,
              "#482878"
             ],
             [
              0.2222222222222222,
              "#3e4989"
             ],
             [
              0.3333333333333333,
              "#31688e"
             ],
             [
              0.4444444444444444,
              "#26828e"
             ],
             [
              0.5555555555555556,
              "#1f9e89"
             ],
             [
              0.6666666666666666,
              "#35b779"
             ],
             [
              0.7777777777777778,
              "#6ece58"
             ],
             [
              0.8888888888888888,
              "#b5de2b"
             ],
             [
              1,
              "#fde725"
             ]
            ],
            "type": "heatmap"
           }
          ],
          "heatmapgl": [
           {
            "colorbar": {
             "outlinewidth": 1,
             "tickcolor": "rgb(36,36,36)",
             "ticks": "outside"
            },
            "colorscale": [
             [
              0,
              "#440154"
             ],
             [
              0.1111111111111111,
              "#482878"
             ],
             [
              0.2222222222222222,
              "#3e4989"
             ],
             [
              0.3333333333333333,
              "#31688e"
             ],
             [
              0.4444444444444444,
              "#26828e"
             ],
             [
              0.5555555555555556,
              "#1f9e89"
             ],
             [
              0.6666666666666666,
              "#35b779"
             ],
             [
              0.7777777777777778,
              "#6ece58"
             ],
             [
              0.8888888888888888,
              "#b5de2b"
             ],
             [
              1,
              "#fde725"
             ]
            ],
            "type": "heatmapgl"
           }
          ],
          "histogram": [
           {
            "marker": {
             "line": {
              "color": "white",
              "width": 0.6
             }
            },
            "type": "histogram"
           }
          ],
          "histogram2d": [
           {
            "colorbar": {
             "outlinewidth": 1,
             "tickcolor": "rgb(36,36,36)",
             "ticks": "outside"
            },
            "colorscale": [
             [
              0,
              "#440154"
             ],
             [
              0.1111111111111111,
              "#482878"
             ],
             [
              0.2222222222222222,
              "#3e4989"
             ],
             [
              0.3333333333333333,
              "#31688e"
             ],
             [
              0.4444444444444444,
              "#26828e"
             ],
             [
              0.5555555555555556,
              "#1f9e89"
             ],
             [
              0.6666666666666666,
              "#35b779"
             ],
             [
              0.7777777777777778,
              "#6ece58"
             ],
             [
              0.8888888888888888,
              "#b5de2b"
             ],
             [
              1,
              "#fde725"
             ]
            ],
            "type": "histogram2d"
           }
          ],
          "histogram2dcontour": [
           {
            "colorbar": {
             "outlinewidth": 1,
             "tickcolor": "rgb(36,36,36)",
             "ticks": "outside"
            },
            "colorscale": [
             [
              0,
              "#440154"
             ],
             [
              0.1111111111111111,
              "#482878"
             ],
             [
              0.2222222222222222,
              "#3e4989"
             ],
             [
              0.3333333333333333,
              "#31688e"
             ],
             [
              0.4444444444444444,
              "#26828e"
             ],
             [
              0.5555555555555556,
              "#1f9e89"
             ],
             [
              0.6666666666666666,
              "#35b779"
             ],
             [
              0.7777777777777778,
              "#6ece58"
             ],
             [
              0.8888888888888888,
              "#b5de2b"
             ],
             [
              1,
              "#fde725"
             ]
            ],
            "type": "histogram2dcontour"
           }
          ],
          "mesh3d": [
           {
            "colorbar": {
             "outlinewidth": 1,
             "tickcolor": "rgb(36,36,36)",
             "ticks": "outside"
            },
            "type": "mesh3d"
           }
          ],
          "parcoords": [
           {
            "line": {
             "colorbar": {
              "outlinewidth": 1,
              "tickcolor": "rgb(36,36,36)",
              "ticks": "outside"
             }
            },
            "type": "parcoords"
           }
          ],
          "pie": [
           {
            "automargin": true,
            "type": "pie"
           }
          ],
          "scatter": [
           {
            "marker": {
             "colorbar": {
              "outlinewidth": 1,
              "tickcolor": "rgb(36,36,36)",
              "ticks": "outside"
             }
            },
            "type": "scatter"
           }
          ],
          "scatter3d": [
           {
            "line": {
             "colorbar": {
              "outlinewidth": 1,
              "tickcolor": "rgb(36,36,36)",
              "ticks": "outside"
             }
            },
            "marker": {
             "colorbar": {
              "outlinewidth": 1,
              "tickcolor": "rgb(36,36,36)",
              "ticks": "outside"
             }
            },
            "type": "scatter3d"
           }
          ],
          "scattercarpet": [
           {
            "marker": {
             "colorbar": {
              "outlinewidth": 1,
              "tickcolor": "rgb(36,36,36)",
              "ticks": "outside"
             }
            },
            "type": "scattercarpet"
           }
          ],
          "scattergeo": [
           {
            "marker": {
             "colorbar": {
              "outlinewidth": 1,
              "tickcolor": "rgb(36,36,36)",
              "ticks": "outside"
             }
            },
            "type": "scattergeo"
           }
          ],
          "scattergl": [
           {
            "marker": {
             "colorbar": {
              "outlinewidth": 1,
              "tickcolor": "rgb(36,36,36)",
              "ticks": "outside"
             }
            },
            "type": "scattergl"
           }
          ],
          "scattermapbox": [
           {
            "marker": {
             "colorbar": {
              "outlinewidth": 1,
              "tickcolor": "rgb(36,36,36)",
              "ticks": "outside"
             }
            },
            "type": "scattermapbox"
           }
          ],
          "scatterpolar": [
           {
            "marker": {
             "colorbar": {
              "outlinewidth": 1,
              "tickcolor": "rgb(36,36,36)",
              "ticks": "outside"
             }
            },
            "type": "scatterpolar"
           }
          ],
          "scatterpolargl": [
           {
            "marker": {
             "colorbar": {
              "outlinewidth": 1,
              "tickcolor": "rgb(36,36,36)",
              "ticks": "outside"
             }
            },
            "type": "scatterpolargl"
           }
          ],
          "scatterternary": [
           {
            "marker": {
             "colorbar": {
              "outlinewidth": 1,
              "tickcolor": "rgb(36,36,36)",
              "ticks": "outside"
             }
            },
            "type": "scatterternary"
           }
          ],
          "surface": [
           {
            "colorbar": {
             "outlinewidth": 1,
             "tickcolor": "rgb(36,36,36)",
             "ticks": "outside"
            },
            "colorscale": [
             [
              0,
              "#440154"
             ],
             [
              0.1111111111111111,
              "#482878"
             ],
             [
              0.2222222222222222,
              "#3e4989"
             ],
             [
              0.3333333333333333,
              "#31688e"
             ],
             [
              0.4444444444444444,
              "#26828e"
             ],
             [
              0.5555555555555556,
              "#1f9e89"
             ],
             [
              0.6666666666666666,
              "#35b779"
             ],
             [
              0.7777777777777778,
              "#6ece58"
             ],
             [
              0.8888888888888888,
              "#b5de2b"
             ],
             [
              1,
              "#fde725"
             ]
            ],
            "type": "surface"
           }
          ],
          "table": [
           {
            "cells": {
             "fill": {
              "color": "rgb(237,237,237)"
             },
             "line": {
              "color": "white"
             }
            },
            "header": {
             "fill": {
              "color": "rgb(217,217,217)"
             },
             "line": {
              "color": "white"
             }
            },
            "type": "table"
           }
          ]
         },
         "layout": {
          "annotationdefaults": {
           "arrowhead": 0,
           "arrowwidth": 1
          },
          "autotypenumbers": "strict",
          "coloraxis": {
           "colorbar": {
            "outlinewidth": 1,
            "tickcolor": "rgb(36,36,36)",
            "ticks": "outside"
           }
          },
          "colorscale": {
           "diverging": [
            [
             0,
             "rgb(103,0,31)"
            ],
            [
             0.1,
             "rgb(178,24,43)"
            ],
            [
             0.2,
             "rgb(214,96,77)"
            ],
            [
             0.3,
             "rgb(244,165,130)"
            ],
            [
             0.4,
             "rgb(253,219,199)"
            ],
            [
             0.5,
             "rgb(247,247,247)"
            ],
            [
             0.6,
             "rgb(209,229,240)"
            ],
            [
             0.7,
             "rgb(146,197,222)"
            ],
            [
             0.8,
             "rgb(67,147,195)"
            ],
            [
             0.9,
             "rgb(33,102,172)"
            ],
            [
             1,
             "rgb(5,48,97)"
            ]
           ],
           "sequential": [
            [
             0,
             "#440154"
            ],
            [
             0.1111111111111111,
             "#482878"
            ],
            [
             0.2222222222222222,
             "#3e4989"
            ],
            [
             0.3333333333333333,
             "#31688e"
            ],
            [
             0.4444444444444444,
             "#26828e"
            ],
            [
             0.5555555555555556,
             "#1f9e89"
            ],
            [
             0.6666666666666666,
             "#35b779"
            ],
            [
             0.7777777777777778,
             "#6ece58"
            ],
            [
             0.8888888888888888,
             "#b5de2b"
            ],
            [
             1,
             "#fde725"
            ]
           ],
           "sequentialminus": [
            [
             0,
             "#440154"
            ],
            [
             0.1111111111111111,
             "#482878"
            ],
            [
             0.2222222222222222,
             "#3e4989"
            ],
            [
             0.3333333333333333,
             "#31688e"
            ],
            [
             0.4444444444444444,
             "#26828e"
            ],
            [
             0.5555555555555556,
             "#1f9e89"
            ],
            [
             0.6666666666666666,
             "#35b779"
            ],
            [
             0.7777777777777778,
             "#6ece58"
            ],
            [
             0.8888888888888888,
             "#b5de2b"
            ],
            [
             1,
             "#fde725"
            ]
           ]
          },
          "colorway": [
           "#1F77B4",
           "#FF7F0E",
           "#2CA02C",
           "#D62728",
           "#9467BD",
           "#8C564B",
           "#E377C2",
           "#7F7F7F",
           "#BCBD22",
           "#17BECF"
          ],
          "font": {
           "color": "rgb(36,36,36)"
          },
          "geo": {
           "bgcolor": "white",
           "lakecolor": "white",
           "landcolor": "white",
           "showlakes": true,
           "showland": true,
           "subunitcolor": "white"
          },
          "hoverlabel": {
           "align": "left"
          },
          "hovermode": "closest",
          "mapbox": {
           "style": "light"
          },
          "paper_bgcolor": "white",
          "plot_bgcolor": "white",
          "polar": {
           "angularaxis": {
            "gridcolor": "rgb(232,232,232)",
            "linecolor": "rgb(36,36,36)",
            "showgrid": false,
            "showline": true,
            "ticks": "outside"
           },
           "bgcolor": "white",
           "radialaxis": {
            "gridcolor": "rgb(232,232,232)",
            "linecolor": "rgb(36,36,36)",
            "showgrid": false,
            "showline": true,
            "ticks": "outside"
           }
          },
          "scene": {
           "xaxis": {
            "backgroundcolor": "white",
            "gridcolor": "rgb(232,232,232)",
            "gridwidth": 2,
            "linecolor": "rgb(36,36,36)",
            "showbackground": true,
            "showgrid": false,
            "showline": true,
            "ticks": "outside",
            "zeroline": false,
            "zerolinecolor": "rgb(36,36,36)"
           },
           "yaxis": {
            "backgroundcolor": "white",
            "gridcolor": "rgb(232,232,232)",
            "gridwidth": 2,
            "linecolor": "rgb(36,36,36)",
            "showbackground": true,
            "showgrid": false,
            "showline": true,
            "ticks": "outside",
            "zeroline": false,
            "zerolinecolor": "rgb(36,36,36)"
           },
           "zaxis": {
            "backgroundcolor": "white",
            "gridcolor": "rgb(232,232,232)",
            "gridwidth": 2,
            "linecolor": "rgb(36,36,36)",
            "showbackground": true,
            "showgrid": false,
            "showline": true,
            "ticks": "outside",
            "zeroline": false,
            "zerolinecolor": "rgb(36,36,36)"
           }
          },
          "shapedefaults": {
           "fillcolor": "black",
           "line": {
            "width": 0
           },
           "opacity": 0.3
          },
          "ternary": {
           "aaxis": {
            "gridcolor": "rgb(232,232,232)",
            "linecolor": "rgb(36,36,36)",
            "showgrid": false,
            "showline": true,
            "ticks": "outside"
           },
           "baxis": {
            "gridcolor": "rgb(232,232,232)",
            "linecolor": "rgb(36,36,36)",
            "showgrid": false,
            "showline": true,
            "ticks": "outside"
           },
           "bgcolor": "white",
           "caxis": {
            "gridcolor": "rgb(232,232,232)",
            "linecolor": "rgb(36,36,36)",
            "showgrid": false,
            "showline": true,
            "ticks": "outside"
           }
          },
          "title": {
           "x": 0.05
          },
          "xaxis": {
           "automargin": true,
           "gridcolor": "rgb(232,232,232)",
           "linecolor": "rgb(36,36,36)",
           "showgrid": false,
           "showline": true,
           "ticks": "outside",
           "title": {
            "standoff": 15
           },
           "zeroline": false,
           "zerolinecolor": "rgb(36,36,36)"
          },
          "yaxis": {
           "automargin": true,
           "gridcolor": "rgb(232,232,232)",
           "linecolor": "rgb(36,36,36)",
           "showgrid": false,
           "showline": true,
           "ticks": "outside",
           "title": {
            "standoff": 15
           },
           "zeroline": false,
           "zerolinecolor": "rgb(36,36,36)"
          }
         }
        },
        "title": {
         "text": "Воронка продаж"
        },
        "xaxis": {
         "anchor": "y",
         "domain": [
          0,
          1
         ],
         "title": {
          "text": "Quantity"
         }
        },
        "yaxis": {
         "anchor": "x",
         "domain": [
          0,
          1
         ],
         "title": {
          "text": "Этапы"
         }
        }
       }
      },
      "text/html": [
       "<div>                            <div id=\"efe4aa11-98f6-418b-a5d5-ce34ed3d8e11\" class=\"plotly-graph-div\" style=\"height:525px; width:100%;\"></div>            <script type=\"text/javascript\">                require([\"plotly\"], function(Plotly) {                    window.PLOTLYENV=window.PLOTLYENV || {};                                    if (document.getElementById(\"efe4aa11-98f6-418b-a5d5-ce34ed3d8e11\")) {                    Plotly.newPlot(                        \"efe4aa11-98f6-418b-a5d5-ce34ed3d8e11\",                        [{\"hovertemplate\": \"\\u0411\\u0430\\u0437\\u0430=\\u0411\\u0430\\u0437\\u0430 1<br>Quantity=%{x}<br>\\u042d\\u0442\\u0430\\u043f\\u044b=%{y}<extra></extra>\", \"legendgroup\": \"\\u0411\\u0430\\u0437\\u0430 1\", \"marker\": {\"color\": \"#c4c425\"}, \"name\": \"\\u0411\\u0430\\u0437\\u0430 1\", \"opacity\": 0.8, \"orientation\": \"h\", \"showlegend\": true, \"type\": \"funnel\", \"x\": [17896, 11313, 5559], \"xaxis\": \"x\", \"y\": [\"\\u0417\\u0432\\u043e\\u043d\\u043a\\u0438\", \"\\u0417\\u0432\\u043e\\u043d\\u043e\\u043a + \\u0437\\u0430\\u0438\\u043d\\u0442\\u0435\\u0440\\u0435\\u0441\\u043e\\u0432\\u0430\\u043d\\u043d\\u043e\\u0441\\u0442\\u044c\", \"\\u0417\\u0432\\u043e\\u043d\\u043e\\u043a + \\u043f\\u0440\\u043e\\u0434\\u0430\\u0436\\u0430\"], \"yaxis\": \"y\"}, {\"hovertemplate\": \"\\u0411\\u0430\\u0437\\u0430=\\u0411\\u0430\\u0437\\u0430 4<br>Quantity=%{x}<br>\\u042d\\u0442\\u0430\\u043f\\u044b=%{y}<extra></extra>\", \"legendgroup\": \"\\u0411\\u0430\\u0437\\u0430 4\", \"marker\": {\"color\": \"#617588\"}, \"name\": \"\\u0411\\u0430\\u0437\\u0430 4\", \"opacity\": 0.8, \"orientation\": \"h\", \"showlegend\": true, \"type\": \"funnel\", \"x\": [910, 678, 451], \"xaxis\": \"x\", \"y\": [\"\\u0417\\u0432\\u043e\\u043d\\u043a\\u0438\", \"\\u0417\\u0432\\u043e\\u043d\\u043e\\u043a + \\u0437\\u0430\\u0438\\u043d\\u0442\\u0435\\u0440\\u0435\\u0441\\u043e\\u0432\\u0430\\u043d\\u043d\\u043e\\u0441\\u0442\\u044c\", \"\\u0417\\u0432\\u043e\\u043d\\u043e\\u043a + \\u043f\\u0440\\u043e\\u0434\\u0430\\u0436\\u0430\"], \"yaxis\": \"y\"}],                        {\"legend\": {\"title\": {\"text\": \"\\u0411\\u0430\\u0437\\u0430\"}, \"tracegroupgap\": 0}, \"template\": {\"data\": {\"bar\": [{\"error_x\": {\"color\": \"rgb(36,36,36)\"}, \"error_y\": {\"color\": \"rgb(36,36,36)\"}, \"marker\": {\"line\": {\"color\": \"white\", \"width\": 0.5}}, \"type\": \"bar\"}], \"barpolar\": [{\"marker\": {\"line\": {\"color\": \"white\", \"width\": 0.5}}, \"type\": \"barpolar\"}], \"carpet\": [{\"aaxis\": {\"endlinecolor\": \"rgb(36,36,36)\", \"gridcolor\": \"white\", \"linecolor\": \"white\", \"minorgridcolor\": \"white\", \"startlinecolor\": \"rgb(36,36,36)\"}, \"baxis\": {\"endlinecolor\": \"rgb(36,36,36)\", \"gridcolor\": \"white\", \"linecolor\": \"white\", \"minorgridcolor\": \"white\", \"startlinecolor\": \"rgb(36,36,36)\"}, \"type\": \"carpet\"}], \"choropleth\": [{\"colorbar\": {\"outlinewidth\": 1, \"tickcolor\": \"rgb(36,36,36)\", \"ticks\": \"outside\"}, \"type\": \"choropleth\"}], \"contour\": [{\"colorbar\": {\"outlinewidth\": 1, \"tickcolor\": \"rgb(36,36,36)\", \"ticks\": \"outside\"}, \"colorscale\": [[0.0, \"#440154\"], [0.1111111111111111, \"#482878\"], [0.2222222222222222, \"#3e4989\"], [0.3333333333333333, \"#31688e\"], [0.4444444444444444, \"#26828e\"], [0.5555555555555556, \"#1f9e89\"], [0.6666666666666666, \"#35b779\"], [0.7777777777777778, \"#6ece58\"], [0.8888888888888888, \"#b5de2b\"], [1.0, \"#fde725\"]], \"type\": \"contour\"}], \"contourcarpet\": [{\"colorbar\": {\"outlinewidth\": 1, \"tickcolor\": \"rgb(36,36,36)\", \"ticks\": \"outside\"}, \"type\": \"contourcarpet\"}], \"heatmap\": [{\"colorbar\": {\"outlinewidth\": 1, \"tickcolor\": \"rgb(36,36,36)\", \"ticks\": \"outside\"}, \"colorscale\": [[0.0, \"#440154\"], [0.1111111111111111, \"#482878\"], [0.2222222222222222, \"#3e4989\"], [0.3333333333333333, \"#31688e\"], [0.4444444444444444, \"#26828e\"], [0.5555555555555556, \"#1f9e89\"], [0.6666666666666666, \"#35b779\"], [0.7777777777777778, \"#6ece58\"], [0.8888888888888888, \"#b5de2b\"], [1.0, \"#fde725\"]], \"type\": \"heatmap\"}], \"heatmapgl\": [{\"colorbar\": {\"outlinewidth\": 1, \"tickcolor\": \"rgb(36,36,36)\", \"ticks\": \"outside\"}, \"colorscale\": [[0.0, \"#440154\"], [0.1111111111111111, \"#482878\"], [0.2222222222222222, \"#3e4989\"], [0.3333333333333333, \"#31688e\"], [0.4444444444444444, \"#26828e\"], [0.5555555555555556, \"#1f9e89\"], [0.6666666666666666, \"#35b779\"], [0.7777777777777778, \"#6ece58\"], [0.8888888888888888, \"#b5de2b\"], [1.0, \"#fde725\"]], \"type\": \"heatmapgl\"}], \"histogram\": [{\"marker\": {\"line\": {\"color\": \"white\", \"width\": 0.6}}, \"type\": \"histogram\"}], \"histogram2d\": [{\"colorbar\": {\"outlinewidth\": 1, \"tickcolor\": \"rgb(36,36,36)\", \"ticks\": \"outside\"}, \"colorscale\": [[0.0, \"#440154\"], [0.1111111111111111, \"#482878\"], [0.2222222222222222, \"#3e4989\"], [0.3333333333333333, \"#31688e\"], [0.4444444444444444, \"#26828e\"], [0.5555555555555556, \"#1f9e89\"], [0.6666666666666666, \"#35b779\"], [0.7777777777777778, \"#6ece58\"], [0.8888888888888888, \"#b5de2b\"], [1.0, \"#fde725\"]], \"type\": \"histogram2d\"}], \"histogram2dcontour\": [{\"colorbar\": {\"outlinewidth\": 1, \"tickcolor\": \"rgb(36,36,36)\", \"ticks\": \"outside\"}, \"colorscale\": [[0.0, \"#440154\"], [0.1111111111111111, \"#482878\"], [0.2222222222222222, \"#3e4989\"], [0.3333333333333333, \"#31688e\"], [0.4444444444444444, \"#26828e\"], [0.5555555555555556, \"#1f9e89\"], [0.6666666666666666, \"#35b779\"], [0.7777777777777778, \"#6ece58\"], [0.8888888888888888, \"#b5de2b\"], [1.0, \"#fde725\"]], \"type\": \"histogram2dcontour\"}], \"mesh3d\": [{\"colorbar\": {\"outlinewidth\": 1, \"tickcolor\": \"rgb(36,36,36)\", \"ticks\": \"outside\"}, \"type\": \"mesh3d\"}], \"parcoords\": [{\"line\": {\"colorbar\": {\"outlinewidth\": 1, \"tickcolor\": \"rgb(36,36,36)\", \"ticks\": \"outside\"}}, \"type\": \"parcoords\"}], \"pie\": [{\"automargin\": true, \"type\": \"pie\"}], \"scatter\": [{\"marker\": {\"colorbar\": {\"outlinewidth\": 1, \"tickcolor\": \"rgb(36,36,36)\", \"ticks\": \"outside\"}}, \"type\": \"scatter\"}], \"scatter3d\": [{\"line\": {\"colorbar\": {\"outlinewidth\": 1, \"tickcolor\": \"rgb(36,36,36)\", \"ticks\": \"outside\"}}, \"marker\": {\"colorbar\": {\"outlinewidth\": 1, \"tickcolor\": \"rgb(36,36,36)\", \"ticks\": \"outside\"}}, \"type\": \"scatter3d\"}], \"scattercarpet\": [{\"marker\": {\"colorbar\": {\"outlinewidth\": 1, \"tickcolor\": \"rgb(36,36,36)\", \"ticks\": \"outside\"}}, \"type\": \"scattercarpet\"}], \"scattergeo\": [{\"marker\": {\"colorbar\": {\"outlinewidth\": 1, \"tickcolor\": \"rgb(36,36,36)\", \"ticks\": \"outside\"}}, \"type\": \"scattergeo\"}], \"scattergl\": [{\"marker\": {\"colorbar\": {\"outlinewidth\": 1, \"tickcolor\": \"rgb(36,36,36)\", \"ticks\": \"outside\"}}, \"type\": \"scattergl\"}], \"scattermapbox\": [{\"marker\": {\"colorbar\": {\"outlinewidth\": 1, \"tickcolor\": \"rgb(36,36,36)\", \"ticks\": \"outside\"}}, \"type\": \"scattermapbox\"}], \"scatterpolar\": [{\"marker\": {\"colorbar\": {\"outlinewidth\": 1, \"tickcolor\": \"rgb(36,36,36)\", \"ticks\": \"outside\"}}, \"type\": \"scatterpolar\"}], \"scatterpolargl\": [{\"marker\": {\"colorbar\": {\"outlinewidth\": 1, \"tickcolor\": \"rgb(36,36,36)\", \"ticks\": \"outside\"}}, \"type\": \"scatterpolargl\"}], \"scatterternary\": [{\"marker\": {\"colorbar\": {\"outlinewidth\": 1, \"tickcolor\": \"rgb(36,36,36)\", \"ticks\": \"outside\"}}, \"type\": \"scatterternary\"}], \"surface\": [{\"colorbar\": {\"outlinewidth\": 1, \"tickcolor\": \"rgb(36,36,36)\", \"ticks\": \"outside\"}, \"colorscale\": [[0.0, \"#440154\"], [0.1111111111111111, \"#482878\"], [0.2222222222222222, \"#3e4989\"], [0.3333333333333333, \"#31688e\"], [0.4444444444444444, \"#26828e\"], [0.5555555555555556, \"#1f9e89\"], [0.6666666666666666, \"#35b779\"], [0.7777777777777778, \"#6ece58\"], [0.8888888888888888, \"#b5de2b\"], [1.0, \"#fde725\"]], \"type\": \"surface\"}], \"table\": [{\"cells\": {\"fill\": {\"color\": \"rgb(237,237,237)\"}, \"line\": {\"color\": \"white\"}}, \"header\": {\"fill\": {\"color\": \"rgb(217,217,217)\"}, \"line\": {\"color\": \"white\"}}, \"type\": \"table\"}]}, \"layout\": {\"annotationdefaults\": {\"arrowhead\": 0, \"arrowwidth\": 1}, \"autotypenumbers\": \"strict\", \"coloraxis\": {\"colorbar\": {\"outlinewidth\": 1, \"tickcolor\": \"rgb(36,36,36)\", \"ticks\": \"outside\"}}, \"colorscale\": {\"diverging\": [[0.0, \"rgb(103,0,31)\"], [0.1, \"rgb(178,24,43)\"], [0.2, \"rgb(214,96,77)\"], [0.3, \"rgb(244,165,130)\"], [0.4, \"rgb(253,219,199)\"], [0.5, \"rgb(247,247,247)\"], [0.6, \"rgb(209,229,240)\"], [0.7, \"rgb(146,197,222)\"], [0.8, \"rgb(67,147,195)\"], [0.9, \"rgb(33,102,172)\"], [1.0, \"rgb(5,48,97)\"]], \"sequential\": [[0.0, \"#440154\"], [0.1111111111111111, \"#482878\"], [0.2222222222222222, \"#3e4989\"], [0.3333333333333333, \"#31688e\"], [0.4444444444444444, \"#26828e\"], [0.5555555555555556, \"#1f9e89\"], [0.6666666666666666, \"#35b779\"], [0.7777777777777778, \"#6ece58\"], [0.8888888888888888, \"#b5de2b\"], [1.0, \"#fde725\"]], \"sequentialminus\": [[0.0, \"#440154\"], [0.1111111111111111, \"#482878\"], [0.2222222222222222, \"#3e4989\"], [0.3333333333333333, \"#31688e\"], [0.4444444444444444, \"#26828e\"], [0.5555555555555556, \"#1f9e89\"], [0.6666666666666666, \"#35b779\"], [0.7777777777777778, \"#6ece58\"], [0.8888888888888888, \"#b5de2b\"], [1.0, \"#fde725\"]]}, \"colorway\": [\"#1F77B4\", \"#FF7F0E\", \"#2CA02C\", \"#D62728\", \"#9467BD\", \"#8C564B\", \"#E377C2\", \"#7F7F7F\", \"#BCBD22\", \"#17BECF\"], \"font\": {\"color\": \"rgb(36,36,36)\"}, \"geo\": {\"bgcolor\": \"white\", \"lakecolor\": \"white\", \"landcolor\": \"white\", \"showlakes\": true, \"showland\": true, \"subunitcolor\": \"white\"}, \"hoverlabel\": {\"align\": \"left\"}, \"hovermode\": \"closest\", \"mapbox\": {\"style\": \"light\"}, \"paper_bgcolor\": \"white\", \"plot_bgcolor\": \"white\", \"polar\": {\"angularaxis\": {\"gridcolor\": \"rgb(232,232,232)\", \"linecolor\": \"rgb(36,36,36)\", \"showgrid\": false, \"showline\": true, \"ticks\": \"outside\"}, \"bgcolor\": \"white\", \"radialaxis\": {\"gridcolor\": \"rgb(232,232,232)\", \"linecolor\": \"rgb(36,36,36)\", \"showgrid\": false, \"showline\": true, \"ticks\": \"outside\"}}, \"scene\": {\"xaxis\": {\"backgroundcolor\": \"white\", \"gridcolor\": \"rgb(232,232,232)\", \"gridwidth\": 2, \"linecolor\": \"rgb(36,36,36)\", \"showbackground\": true, \"showgrid\": false, \"showline\": true, \"ticks\": \"outside\", \"zeroline\": false, \"zerolinecolor\": \"rgb(36,36,36)\"}, \"yaxis\": {\"backgroundcolor\": \"white\", \"gridcolor\": \"rgb(232,232,232)\", \"gridwidth\": 2, \"linecolor\": \"rgb(36,36,36)\", \"showbackground\": true, \"showgrid\": false, \"showline\": true, \"ticks\": \"outside\", \"zeroline\": false, \"zerolinecolor\": \"rgb(36,36,36)\"}, \"zaxis\": {\"backgroundcolor\": \"white\", \"gridcolor\": \"rgb(232,232,232)\", \"gridwidth\": 2, \"linecolor\": \"rgb(36,36,36)\", \"showbackground\": true, \"showgrid\": false, \"showline\": true, \"ticks\": \"outside\", \"zeroline\": false, \"zerolinecolor\": \"rgb(36,36,36)\"}}, \"shapedefaults\": {\"fillcolor\": \"black\", \"line\": {\"width\": 0}, \"opacity\": 0.3}, \"ternary\": {\"aaxis\": {\"gridcolor\": \"rgb(232,232,232)\", \"linecolor\": \"rgb(36,36,36)\", \"showgrid\": false, \"showline\": true, \"ticks\": \"outside\"}, \"baxis\": {\"gridcolor\": \"rgb(232,232,232)\", \"linecolor\": \"rgb(36,36,36)\", \"showgrid\": false, \"showline\": true, \"ticks\": \"outside\"}, \"bgcolor\": \"white\", \"caxis\": {\"gridcolor\": \"rgb(232,232,232)\", \"linecolor\": \"rgb(36,36,36)\", \"showgrid\": false, \"showline\": true, \"ticks\": \"outside\"}}, \"title\": {\"x\": 0.05}, \"xaxis\": {\"automargin\": true, \"gridcolor\": \"rgb(232,232,232)\", \"linecolor\": \"rgb(36,36,36)\", \"showgrid\": false, \"showline\": true, \"ticks\": \"outside\", \"title\": {\"standoff\": 15}, \"zeroline\": false, \"zerolinecolor\": \"rgb(36,36,36)\"}, \"yaxis\": {\"automargin\": true, \"gridcolor\": \"rgb(232,232,232)\", \"linecolor\": \"rgb(36,36,36)\", \"showgrid\": false, \"showline\": true, \"ticks\": \"outside\", \"title\": {\"standoff\": 15}, \"zeroline\": false, \"zerolinecolor\": \"rgb(36,36,36)\"}}}, \"title\": {\"text\": \"\\u0412\\u043e\\u0440\\u043e\\u043d\\u043a\\u0430 \\u043f\\u0440\\u043e\\u0434\\u0430\\u0436\"}, \"xaxis\": {\"anchor\": \"y\", \"domain\": [0.0, 1.0], \"title\": {\"text\": \"Quantity\"}}, \"yaxis\": {\"anchor\": \"x\", \"domain\": [0.0, 1.0], \"title\": {\"text\": \"\\u042d\\u0442\\u0430\\u043f\\u044b\"}}},                        {\"responsive\": true}                    ).then(function(){\n",
       "                            \n",
       "var gd = document.getElementById('efe4aa11-98f6-418b-a5d5-ce34ed3d8e11');\n",
       "var x = new MutationObserver(function (mutations, observer) {{\n",
       "        var display = window.getComputedStyle(gd).display;\n",
       "        if (!display || display === 'none') {{\n",
       "            console.log([gd, 'removed!']);\n",
       "            Plotly.purge(gd);\n",
       "            observer.disconnect();\n",
       "        }}\n",
       "}});\n",
       "\n",
       "// Listen for the removal of the full notebook cells\n",
       "var notebookContainer = gd.closest('#notebook-container');\n",
       "if (notebookContainer) {{\n",
       "    x.observe(notebookContainer, {childList: true});\n",
       "}}\n",
       "\n",
       "// Listen for the clearing of the current output cell\n",
       "var outputEl = gd.closest('.output');\n",
       "if (outputEl) {{\n",
       "    x.observe(outputEl, {childList: true});\n",
       "}}\n",
       "\n",
       "                        })                };                });            </script>        </div>"
      ]
     },
     "metadata": {},
     "output_type": "display_data"
    }
   ],
   "source": [
    "data = dict(Quantity=qnt_list,\n",
    "    \n",
    "            Stage=[\"Звонки\",\"Звонок + заинтересованность\", \"Звонок + продажа\"]*2,\n",
    "    \n",
    "            База=[\"База 1\"]*3 + [\"База 4\"]*3)\n",
    "    \n",
    "fig = px.funnel(data, y='Stage', x='Quantity', color='База',\n",
    "                color_discrete_map={\"База 1\": \"#c4c425\", \n",
    "                                    \"База 4\": \"#617588\"},\n",
    "                template=\"simple_white\",\n",
    "                title='Воронка продаж',\n",
    "                labels={\"Stage\": \"Этапы\"},\n",
    "                opacity = 0.8)\n",
    "    \n",
    "fig.show()"
   ]
  },
  {
   "cell_type": "markdown",
   "id": "a87d24f4",
   "metadata": {},
   "source": [
    "## Задание 2.2"
   ]
  },
  {
   "cell_type": "code",
   "execution_count": 472,
   "id": "7e824d70",
   "metadata": {
    "scrolled": true
   },
   "outputs": [
    {
     "data": {
      "text/plain": [
       "agent_name\n",
       "aashapovalov64931     549\n",
       "afgluxov              263\n",
       "amshevchenko           18\n",
       "arxackevich           529\n",
       "asmirov               369\n",
       "                     ... \n",
       "yuapodorueva            5\n",
       "yugdulova             210\n",
       "yuktixonova           240\n",
       "yuvbabina             139\n",
       "zadenis              1997\n",
       "Name: call_id, Length: 106, dtype: int64"
      ]
     },
     "execution_count": 472,
     "metadata": {},
     "output_type": "execute_result"
    }
   ],
   "source": [
    "# находим сколько каждый сотрудник совершил звонков \n",
    "df_calls_agname = df_final_merge.groupby('agent_name')['call_id'].count()\n",
    "df_calls_agname"
   ]
  },
  {
   "cell_type": "code",
   "execution_count": 473,
   "id": "46142fb5",
   "metadata": {},
   "outputs": [
    {
     "data": {
      "text/plain": [
       "<AxesSubplot:title={'center':'Топ 15 сотрудников по звонкам'}, xlabel='agent_name'>"
      ]
     },
     "execution_count": 473,
     "metadata": {},
     "output_type": "execute_result"
    },
    {
     "data": {
      "image/png": "[encoded data removed]",
      "text/plain": [
       "<Figure size 1440x576 with 1 Axes>"
      ]
     },
     "metadata": {},
     "output_type": "display_data"
    }
   ],
   "source": [
    "# Гистограмма количества звонков\n",
    "df_calls_agname.sort_values(ascending = False).head(15).plot(kind='bar',figsize=(20,8),fontsize=20,\n",
    "                                                             title='Топ 15 сотрудников по звонкам')"
   ]
  },
  {
   "cell_type": "code",
   "execution_count": 474,
   "id": "16e959b7",
   "metadata": {},
   "outputs": [
    {
     "data": {
      "text/plain": [
       "agent_name\n",
       "aashapovalov64931    100.147541\n",
       "afgluxov             137.117871\n",
       "amshevchenko         206.555556\n",
       "arxackevich          140.096408\n",
       "asmirov              138.783198\n",
       "                        ...    \n",
       "yuapodorueva          40.000000\n",
       "yugdulova            142.895238\n",
       "yuktixonova           74.633333\n",
       "yuvbabina            130.366906\n",
       "zadenis               90.095643\n",
       "Name: call_time_sec, Length: 106, dtype: float64"
      ]
     },
     "execution_count": 474,
     "metadata": {},
     "output_type": "execute_result"
    }
   ],
   "source": [
    "# находим среднюю продолжительность разговоря для каждого сотрудника\n",
    "df_meantime_agname = df_final_merge.groupby('agent_name')['call_time_sec'].mean()\n",
    "df_meantime_agname"
   ]
  },
  {
   "cell_type": "code",
   "execution_count": 475,
   "id": "c4791ffb",
   "metadata": {},
   "outputs": [
    {
     "data": {
      "text/plain": [
       "<AxesSubplot:title={'center':'Топ 15 сотрудников по среднему продолжительностью звонка'}, xlabel='agent_name'>"
      ]
     },
     "execution_count": 475,
     "metadata": {},
     "output_type": "execute_result"
    },
    {
     "data": {
      "image/png": "[encoded data removed]",
      "text/plain": [
       "<Figure size 1440x576 with 1 Axes>"
      ]
     },
     "metadata": {},
     "output_type": "display_data"
    }
   ],
   "source": [
    "# отображаем гистограмму топ 15 сотрдников по кол-ву \n",
    "df_meantime_agname.sort_values(ascending = False).head(15).plot(kind='bar',figsize=(20,8),fontsize=20,\n",
    "                                                               title='Топ 15 сотрудников по среднему продолжительностью звонка')"
   ]
  },
  {
   "cell_type": "code",
   "execution_count": 476,
   "id": "9adcfdeb",
   "metadata": {},
   "outputs": [],
   "source": [
    "data_1 = df_final_merge[df_final_merge['call_result_translation'] == 'Дозвон, Успешно'].groupby(\n",
    "    'agent_name')[\"call_result_translation\"].count()"
   ]
  },
  {
   "cell_type": "code",
   "execution_count": 477,
   "id": "32fbe2ed",
   "metadata": {},
   "outputs": [],
   "source": [
    "data_2 = df_final_merge[(df_final_merge['call_result_translation'] == 'Дозвон, Успешно') |\n",
    "               (df_final_merge['call_result_translation'] == 'Дозвон, Отказ')].groupby(\n",
    "                'agent_name')[\"call_result_translation\"].count()"
   ]
  },
  {
   "cell_type": "code",
   "execution_count": 478,
   "id": "10e973a0",
   "metadata": {},
   "outputs": [
    {
     "data": {
      "text/plain": [
       "<AxesSubplot:title={'center':'Топ 15 сотрудников по конверсии'}, xlabel='agent_name'>"
      ]
     },
     "execution_count": 478,
     "metadata": {},
     "output_type": "execute_result"
    },
    {
     "data": {
      "image/png": "[encoded data removed]",
      "text/plain": [
       "<Figure size 1440x576 with 1 Axes>"
      ]
     },
     "metadata": {},
     "output_type": "display_data"
    }
   ],
   "source": [
    "(data_1/data_2*100).sort_values(ascending = False).head(15).plot(kind='bar',figsize=(20,8),fontsize=15,\n",
    "                                                                title='Топ 15 сотрудников по конверсии')"
   ]
  },
  {
   "cell_type": "code",
   "execution_count": 479,
   "id": "fa1c3911",
   "metadata": {},
   "outputs": [],
   "source": [
    "# создаем датафрейм с конверсией звонков\n",
    "a = (data_1/data_2*100).sort_values(ascending = False).reset_index()"
   ]
  },
  {
   "cell_type": "code",
   "execution_count": 480,
   "id": "d412b9cc",
   "metadata": {},
   "outputs": [],
   "source": [
    "# создаем датафрейм количества звонков и средней  продолжительностью\n",
    "m = pd.concat([df_calls_agname,df_meantime_agname],axis=1).reset_index()"
   ]
  },
  {
   "cell_type": "code",
   "execution_count": 481,
   "id": "8321ebc2",
   "metadata": {},
   "outputs": [],
   "source": [
    "# объеденяем метотдом right т.к. наиболее важный параметр это конверсия\n",
    "df_analyze = m.merge(a,how=\"right\").set_index('agent_name')"
   ]
  },
  {
   "cell_type": "code",
   "execution_count": 482,
   "id": "9f168aff",
   "metadata": {},
   "outputs": [],
   "source": [
    "df_analyze.columns=['num_calls','mean_call_duration','call_conversion']"
   ]
  },
  {
   "cell_type": "markdown",
   "id": "cc6cd94a",
   "metadata": {},
   "source": [
    "### Можно предположить, что длина звонка может повлиять на конверсию"
   ]
  },
  {
   "cell_type": "code",
   "execution_count": 483,
   "id": "f52ebaa0",
   "metadata": {},
   "outputs": [
    {
     "data": {
      "text/plain": [
       "<AxesSubplot:xlabel='call_conversion'>"
      ]
     },
     "execution_count": 483,
     "metadata": {},
     "output_type": "execute_result"
    },
    {
     "data": {
      "image/png": "[encoded data removed]",
      "text/plain": [
       "<Figure size 1440x576 with 1 Axes>"
      ]
     },
     "metadata": {},
     "output_type": "display_data"
    }
   ],
   "source": [
    "df_analyze.iloc[::,[0,2]].set_index('call_conversion').plot(figsize=(20,8),fontsize=15)"
   ]
  },
  {
   "cell_type": "markdown",
   "id": "cae8d3e7",
   "metadata": {},
   "source": [
    "### График видет себя хаотично с увеличением конверсии поэто прямой зависимости мы не замечаем"
   ]
  },
  {
   "cell_type": "code",
   "execution_count": 484,
   "id": "1549d130",
   "metadata": {
    "scrolled": false
   },
   "outputs": [
    {
     "data": {
      "application/vnd.plotly.v1+json": {
       "config": {
        "plotlyServerURL": "https://plot.ly"
       },
       "data": [
        {
         "hovertemplate": "call_conversion=%{x}<br>num_calls=%{y}<extra></extra>",
         "legendgroup": "",
         "marker": {
          "color": "#1F77B4",
          "symbol": "circle"
         },
         "mode": "markers",
         "name": "",
         "orientation": "v",
         "showlegend": false,
         "type": "scatter",
         "x": [
          62.06896551724138,
          61.76470588235294,
          58.753709198813056,
          56.97674418604651,
          56.849315068493155,
          56.41025641025641,
          55.20504731861199,
          54.285714285714285,
          53.71775417298937,
          53.233830845771145,
          52.38095238095239,
          51.955307262569825,
          51.908396946564885,
          51.64835164835166,
          51.515151515151516,
          51.35135135135135,
          51.28205128205128,
          50,
          50,
          50,
          49.57983193277311,
          48.8,
          48.64864864864865,
          48.372093023255815,
          47.97297297297297,
          47.22222222222222,
          47.18614718614719,
          46.666666666666664,
          46.15384615384615,
          45.45454545454545,
          44.44444444444444,
          44.27966101694915,
          43.93939393939394,
          43.67816091954023,
          43.07692307692308,
          43.02496328928047,
          42.592592592592595,
          41.86046511627907,
          41.7910447761194,
          41.66666666666667,
          41.566265060240966,
          40.816326530612244,
          40.638297872340424,
          40.54054054054054,
          40.49079754601227,
          40.17857142857143,
          40,
          40,
          40,
          39.58333333333333,
          39.473684210526315,
          39.39393939393939,
          39.130434782608695,
          39.09090909090909,
          39.09090909090909,
          38.63636363636363,
          38.372093023255815,
          37.5,
          37.03703703703704,
          36.62921348314607,
          36.554621848739494,
          36.36363636363637,
          36.36363636363637,
          36.30573248407643,
          36.0655737704918,
          35.94132029339853,
          35.714285714285715,
          35.63218390804598,
          34.5679012345679,
          34.53237410071942,
          33.33333333333333,
          33.33333333333333,
          33.125,
          32.45614035087719,
          32.25806451612903,
          31.914893617021278,
          31.62393162393162,
          30.973451327433626,
          30.18867924528302,
          29.629629629629626,
          28.37209302325581,
          27.77777777777778,
          27.692307692307693,
          27.480916030534353,
          27.173913043478258,
          26.041666666666668,
          25.64102564102564,
          25,
          23.015873015873016,
          17.647058823529413,
          null
         ],
         "xaxis": "x",
         "y": [
          92,
          132,
          775,
          1001,
          376,
          109,
          702,
          415,
          1997,
          606,
          274,
          1040,
          344,
          263,
          1851,
          386,
          194,
          90,
          56,
          204,
          326,
          294,
          139,
          779,
          341,
          123,
          464,
          175,
          105,
          93,
          369,
          1218,
          176,
          240,
          437,
          2055,
          359,
          529,
          220,
          700,
          840,
          221,
          1334,
          120,
          549,
          266,
          177,
          337,
          409,
          560,
          207,
          333,
          56,
          275,
          345,
          210,
          210,
          254,
          63,
          2186,
          1412,
          366,
          453,
          390,
          172,
          1175,
          292,
          208,
          208,
          761,
          157,
          18,
          353,
          588,
          79,
          282,
          286,
          257,
          377,
          62,
          562,
          41,
          278,
          247,
          144,
          492,
          170,
          18,
          223,
          218,
          11
         ],
         "yaxis": "y"
        },
        {
         "alignmentgroup": "True",
         "hovertemplate": "call_conversion=%{x}<extra></extra>",
         "legendgroup": "",
         "marker": {
          "color": "#1F77B4",
          "symbol": "circle"
         },
         "name": "",
         "notched": true,
         "offsetgroup": "",
         "showlegend": false,
         "type": "box",
         "x": [
          62.06896551724138,
          61.76470588235294,
          58.753709198813056,
          56.97674418604651,
          56.849315068493155,
          56.41025641025641,
          55.20504731861199,
          54.285714285714285,
          53.71775417298937,
          53.233830845771145,
          52.38095238095239,
          51.955307262569825,
          51.908396946564885,
          51.64835164835166,
          51.515151515151516,
          51.35135135135135,
          51.28205128205128,
          50,
          50,
          50,
          49.57983193277311,
          48.8,
          48.64864864864865,
          48.372093023255815,
          47.97297297297297,
          47.22222222222222,
          47.18614718614719,
          46.666666666666664,
          46.15384615384615,
          45.45454545454545,
          44.44444444444444,
          44.27966101694915,
          43.93939393939394,
          43.67816091954023,
          43.07692307692308,
          43.02496328928047,
          42.592592592592595,
          41.86046511627907,
          41.7910447761194,
          41.66666666666667,
          41.566265060240966,
          40.816326530612244,
          40.638297872340424,
          40.54054054054054,
          40.49079754601227,
          40.17857142857143,
          40,
          40,
          40,
          39.58333333333333,
          39.473684210526315,
          39.39393939393939,
          39.130434782608695,
          39.09090909090909,
          39.09090909090909,
          38.63636363636363,
          38.372093023255815,
          37.5,
          37.03703703703704,
          36.62921348314607,
          36.554621848739494,
          36.36363636363637,
          36.36363636363637,
          36.30573248407643,
          36.0655737704918,
          35.94132029339853,
          35.714285714285715,
          35.63218390804598,
          34.5679012345679,
          34.53237410071942,
          33.33333333333333,
          33.33333333333333,
          33.125,
          32.45614035087719,
          32.25806451612903,
          31.914893617021278,
          31.62393162393162,
          30.973451327433626,
          30.18867924528302,
          29.629629629629626,
          28.37209302325581,
          27.77777777777778,
          27.692307692307693,
          27.480916030534353,
          27.173913043478258,
          26.041666666666668,
          25.64102564102564,
          25,
          23.015873015873016,
          17.647058823529413,
          null
         ],
         "xaxis": "x3",
         "yaxis": "y3"
        },
        {
         "alignmentgroup": "True",
         "hovertemplate": "num_calls=%{y}<extra></extra>",
         "legendgroup": "",
         "marker": {
          "color": "#1F77B4",
          "symbol": "circle"
         },
         "name": "",
         "notched": true,
         "offsetgroup": "",
         "showlegend": false,
         "type": "box",
         "xaxis": "x2",
         "y": [
          92,
          132,
          775,
          1001,
          376,
          109,
          702,
          415,
          1997,
          606,
          274,
          1040,
          344,
          263,
          1851,
          386,
          194,
          90,
          56,
          204,
          326,
          294,
          139,
          779,
          341,
          123,
          464,
          175,
          105,
          93,
          369,
          1218,
          176,
          240,
          437,
          2055,
          359,
          529,
          220,
          700,
          840,
          221,
          1334,
          120,
          549,
          266,
          177,
          337,
          409,
          560,
          207,
          333,
          56,
          275,
          345,
          210,
          210,
          254,
          63,
          2186,
          1412,
          366,
          453,
          390,
          172,
          1175,
          292,
          208,
          208,
          761,
          157,
          18,
          353,
          588,
          79,
          282,
          286,
          257,
          377,
          62,
          562,
          41,
          278,
          247,
          144,
          492,
          170,
          18,
          223,
          218,
          11
         ],
         "yaxis": "y2"
        },
        {
         "hovertemplate": "<b>OLS trendline</b><br>num_calls = 7.98761 * call_conversion + 107.412<br>R<sup>2</sup>=0.027581<br><br>call_conversion=%{x}<br>num_calls=%{y} <b>(trend)</b><extra></extra>",
         "legendgroup": "",
         "marker": {
          "color": "#1F77B4",
          "symbol": "circle"
         },
         "mode": "lines",
         "name": "",
         "showlegend": false,
         "type": "scatter",
         "x": [
          17.647058823529413,
          23.015873015873016,
          25,
          25.64102564102564,
          26.041666666666668,
          27.173913043478258,
          27.480916030534353,
          27.692307692307693,
          27.77777777777778,
          28.37209302325581,
          29.629629629629626,
          30.18867924528302,
          30.973451327433626,
          31.62393162393162,
          31.914893617021278,
          32.25806451612903,
          32.45614035087719,
          33.125,
          33.33333333333333,
          33.33333333333333,
          34.53237410071942,
          34.5679012345679,
          35.63218390804598,
          35.714285714285715,
          35.94132029339853,
          36.0655737704918,
          36.30573248407643,
          36.36363636363637,
          36.36363636363637,
          36.554621848739494,
          36.62921348314607,
          37.03703703703704,
          37.5,
          38.372093023255815,
          38.63636363636363,
          39.09090909090909,
          39.09090909090909,
          39.130434782608695,
          39.39393939393939,
          39.473684210526315,
          39.58333333333333,
          40,
          40,
          40,
          40.17857142857143,
          40.49079754601227,
          40.54054054054054,
          40.638297872340424,
          40.816326530612244,
          41.566265060240966,
          41.66666666666667,
          41.7910447761194,
          41.86046511627907,
          42.592592592592595,
          43.02496328928047,
          43.07692307692308,
          43.67816091954023,
          43.93939393939394,
          44.27966101694915,
          44.44444444444444,
          45.45454545454545,
          46.15384615384615,
          46.666666666666664,
          47.18614718614719,
          47.22222222222222,
          47.97297297297297,
          48.372093023255815,
          48.64864864864865,
          48.8,
          49.57983193277311,
          50,
          50,
          50,
          51.28205128205128,
          51.35135135135135,
          51.515151515151516,
          51.64835164835166,
          51.908396946564885,
          51.955307262569825,
          52.38095238095239,
          53.233830845771145,
          53.71775417298937,
          54.285714285714285,
          55.20504731861199,
          56.41025641025641,
          56.849315068493155,
          56.97674418604651,
          58.753709198813056,
          61.76470588235294,
          62.06896551724138
         ],
         "xaxis": "x",
         "y": [
          248.3699137075472,
          291.2539020858004,
          307.10233257341577,
          312.222594730953,
          315.42275857941377,
          324.46669989028123,
          326.918919702205,
          328.6074336350722,
          329.2901352560772,
          334.03729303934426,
          344.0820037111848,
          348.5474734334815,
          354.8159259529443,
          360.01170820130073,
          362.3357988259985,
          365.07691377649894,
          366.6590660900333,
          372.00165542020045,
          373.6657406214001,
          373.6657406214001,
          383.24320940528276,
          383.52698625813855,
          392.02806008291304,
          392.6838572065385,
          394.4973206461972,
          395.489808833854,
          397.4081027276875,
          397.8706162752127,
          397.8706162752127,
          399.396133648352,
          399.9919424561085,
          403.2494775316154,
          406.94744464539235,
          413.9133826969255,
          416.0242730155719,
          419.6550043636439,
          419.6550043636439,
          419.97072013304137,
          422.07549192902513,
          422.7124623409676,
          423.58829665738836,
          426.9164670597876,
          426.9164670597876,
          426.9164670597876,
          428.342825803673,
          430.83676593868734,
          431.234093527765,
          432.01494086771834,
          433.4369641746922,
          439.427179897722,
          440.2291486693845,
          441.22263237159314,
          441.7771349030586,
          447.62508289693835,
          451.07869095033345,
          451.49372541596654,
          456.2961781982083,
          458.3828054097438,
          461.10072576917617,
          462.4169513520459,
          470.48524323665015,
          476.07098377214527,
          480.16719349817504,
          484.31660075311447,
          484.6047540347074,
          490.6014574624537,
          493.78947235450676,
          495.9984905474255,
          497.2074259584591,
          503.4364184964621,
          506.7925567173688,
          506.7925567173688,
          506.7925567173688,
          517.0330810324433,
          517.5866228873123,
          518.8949945442752,
          519.9589451224647,
          522.036085277976,
          522.4107865386836,
          525.8106733025073,
          532.6231329747957,
          536.4885232820235,
          541.025166570618,
          548.3684393467092,
          557.9951782927415,
          561.502207167767,
          562.5200611296349,
          576.7137627974474,
          600.7644269027586,
          603.1947338903118
         ],
         "yaxis": "y"
        }
       ],
       "layout": {
        "legend": {
         "tracegroupgap": 0
        },
        "margin": {
         "t": 60
        },
        "template": {
         "data": {
          "bar": [
           {
            "error_x": {
             "color": "rgb(36,36,36)"
            },
            "error_y": {
             "color": "rgb(36,36,36)"
            },
            "marker": {
             "line": {
              "color": "white",
              "width": 0.5
             }
            },
            "type": "bar"
           }
          ],
          "barpolar": [
           {
            "marker": {
             "line": {
              "color": "white",
              "width": 0.5
             }
            },
            "type": "barpolar"
           }
          ],
          "carpet": [
           {
            "aaxis": {
             "endlinecolor": "rgb(36,36,36)",
             "gridcolor": "white",
             "linecolor": "white",
             "minorgridcolor": "white",
             "startlinecolor": "rgb(36,36,36)"
            },
            "baxis": {
             "endlinecolor": "rgb(36,36,36)",
             "gridcolor": "white",
             "linecolor": "white",
             "minorgridcolor": "white",
             "startlinecolor": "rgb(36,36,36)"
            },
            "type": "carpet"
           }
          ],
          "choropleth": [
           {
            "colorbar": {
             "outlinewidth": 1,
             "tickcolor": "rgb(36,36,36)",
             "ticks": "outside"
            },
            "type": "choropleth"
           }
          ],
          "contour": [
           {
            "colorbar": {
             "outlinewidth": 1,
             "tickcolor": "rgb(36,36,36)",
             "ticks": "outside"
            },
            "colorscale": [
             [
              0,
              "#440154"
             ],
             [
              0.1111111111111111,
              "#482878"
             ],
             [
              0.2222222222222222,
              "#3e4989"
             ],
             [
              0.3333333333333333,
              "#31688e"
             ],
             [
              0.4444444444444444,
              "#26828e"
             ],
             [
              0.5555555555555556,
              "#1f9e89"
             ],
             [
              0.6666666666666666,
              "#35b779"
             ],
             [
              0.7777777777777778,
              "#6ece58"
             ],
             [
              0.8888888888888888,
              "#b5de2b"
             ],
             [
              1,
              "#fde725"
             ]
            ],
            "type": "contour"
           }
          ],
          "contourcarpet": [
           {
            "colorbar": {
             "outlinewidth": 1,
             "tickcolor": "rgb(36,36,36)",
             "ticks": "outside"
            },
            "type": "contourcarpet"
           }
          ],
          "heatmap": [
           {
            "colorbar": {
             "outlinewidth": 1,
             "tickcolor": "rgb(36,36,36)",
             "ticks": "outside"
            },
            "colorscale": [
             [
              0,
              "#440154"
             ],
             [
              0.1111111111111111,
              "#482878"
             ],
             [
              0.2222222222222222,
              "#3e4989"
             ],
             [
              0.3333333333333333,
              "#31688e"
             ],
             [
              0.4444444444444444,
              "#26828e"
             ],
             [
              0.5555555555555556,
              "#1f9e89"
             ],
             [
              0.6666666666666666,
              "#35b779"
             ],
             [
              0.7777777777777778,
              "#6ece58"
             ],
             [
              0.8888888888888888,
              "#b5de2b"
             ],
             [
              1,
              "#fde725"
             ]
            ],
            "type": "heatmap"
           }
          ],
          "heatmapgl": [
           {
            "colorbar": {
             "outlinewidth": 1,
             "tickcolor": "rgb(36,36,36)",
             "ticks": "outside"
            },
            "colorscale": [
             [
              0,
              "#440154"
             ],
             [
              0.1111111111111111,
              "#482878"
             ],
             [
              0.2222222222222222,
              "#3e4989"
             ],
             [
              0.3333333333333333,
              "#31688e"
             ],
             [
              0.4444444444444444,
              "#26828e"
             ],
             [
              0.5555555555555556,
              "#1f9e89"
             ],
             [
              0.6666666666666666,
              "#35b779"
             ],
             [
              0.7777777777777778,
              "#6ece58"
             ],
             [
              0.8888888888888888,
              "#b5de2b"
             ],
             [
              1,
              "#fde725"
             ]
            ],
            "type": "heatmapgl"
           }
          ],
          "histogram": [
           {
            "marker": {
             "line": {
              "color": "white",
              "width": 0.6
             }
            },
            "type": "histogram"
           }
          ],
          "histogram2d": [
           {
            "colorbar": {
             "outlinewidth": 1,
             "tickcolor": "rgb(36,36,36)",
             "ticks": "outside"
            },
            "colorscale": [
             [
              0,
              "#440154"
             ],
             [
              0.1111111111111111,
              "#482878"
             ],
             [
              0.2222222222222222,
              "#3e4989"
             ],
             [
              0.3333333333333333,
              "#31688e"
             ],
             [
              0.4444444444444444,
              "#26828e"
             ],
             [
              0.5555555555555556,
              "#1f9e89"
             ],
             [
              0.6666666666666666,
              "#35b779"
             ],
             [
              0.7777777777777778,
              "#6ece58"
             ],
             [
              0.8888888888888888,
              "#b5de2b"
             ],
             [
              1,
              "#fde725"
             ]
            ],
            "type": "histogram2d"
           }
          ],
          "histogram2dcontour": [
           {
            "colorbar": {
             "outlinewidth": 1,
             "tickcolor": "rgb(36,36,36)",
             "ticks": "outside"
            },
            "colorscale": [
             [
              0,
              "#440154"
             ],
             [
              0.1111111111111111,
              "#482878"
             ],
             [
              0.2222222222222222,
              "#3e4989"
             ],
             [
              0.3333333333333333,
              "#31688e"
             ],
             [
              0.4444444444444444,
              "#26828e"
             ],
             [
              0.5555555555555556,
              "#1f9e89"
             ],
             [
              0.6666666666666666,
              "#35b779"
             ],
             [
              0.7777777777777778,
              "#6ece58"
             ],
             [
              0.8888888888888888,
              "#b5de2b"
             ],
             [
              1,
              "#fde725"
             ]
            ],
            "type": "histogram2dcontour"
           }
          ],
          "mesh3d": [
           {
            "colorbar": {
             "outlinewidth": 1,
             "tickcolor": "rgb(36,36,36)",
             "ticks": "outside"
            },
            "type": "mesh3d"
           }
          ],
          "parcoords": [
           {
            "line": {
             "colorbar": {
              "outlinewidth": 1,
              "tickcolor": "rgb(36,36,36)",
              "ticks": "outside"
             }
            },
            "type": "parcoords"
           }
          ],
          "pie": [
           {
            "automargin": true,
            "type": "pie"
           }
          ],
          "scatter": [
           {
            "marker": {
             "colorbar": {
              "outlinewidth": 1,
              "tickcolor": "rgb(36,36,36)",
              "ticks": "outside"
             }
            },
            "type": "scatter"
           }
          ],
          "scatter3d": [
           {
            "line": {
             "colorbar": {
              "outlinewidth": 1,
              "tickcolor": "rgb(36,36,36)",
              "ticks": "outside"
             }
            },
            "marker": {
             "colorbar": {
              "outlinewidth": 1,
              "tickcolor": "rgb(36,36,36)",
              "ticks": "outside"
             }
            },
            "type": "scatter3d"
           }
          ],
          "scattercarpet": [
           {
            "marker": {
             "colorbar": {
              "outlinewidth": 1,
              "tickcolor": "rgb(36,36,36)",
              "ticks": "outside"
             }
            },
            "type": "scattercarpet"
           }
          ],
          "scattergeo": [
           {
            "marker": {
             "colorbar": {
              "outlinewidth": 1,
              "tickcolor": "rgb(36,36,36)",
              "ticks": "outside"
             }
            },
            "type": "scattergeo"
           }
          ],
          "scattergl": [
           {
            "marker": {
             "colorbar": {
              "outlinewidth": 1,
              "tickcolor": "rgb(36,36,36)",
              "ticks": "outside"
             }
            },
            "type": "scattergl"
           }
          ],
          "scattermapbox": [
           {
            "marker": {
             "colorbar": {
              "outlinewidth": 1,
              "tickcolor": "rgb(36,36,36)",
              "ticks": "outside"
             }
            },
            "type": "scattermapbox"
           }
          ],
          "scatterpolar": [
           {
            "marker": {
             "colorbar": {
              "outlinewidth": 1,
              "tickcolor": "rgb(36,36,36)",
              "ticks": "outside"
             }
            },
            "type": "scatterpolar"
           }
          ],
          "scatterpolargl": [
           {
            "marker": {
             "colorbar": {
              "outlinewidth": 1,
              "tickcolor": "rgb(36,36,36)",
              "ticks": "outside"
             }
            },
            "type": "scatterpolargl"
           }
          ],
          "scatterternary": [
           {
            "marker": {
             "colorbar": {
              "outlinewidth": 1,
              "tickcolor": "rgb(36,36,36)",
              "ticks": "outside"
             }
            },
            "type": "scatterternary"
           }
          ],
          "surface": [
           {
            "colorbar": {
             "outlinewidth": 1,
             "tickcolor": "rgb(36,36,36)",
             "ticks": "outside"
            },
            "colorscale": [
             [
              0,
              "#440154"
             ],
             [
              0.1111111111111111,
              "#482878"
             ],
             [
              0.2222222222222222,
              "#3e4989"
             ],
             [
              0.3333333333333333,
              "#31688e"
             ],
             [
              0.4444444444444444,
              "#26828e"
             ],
             [
              0.5555555555555556,
              "#1f9e89"
             ],
             [
              0.6666666666666666,
              "#35b779"
             ],
             [
              0.7777777777777778,
              "#6ece58"
             ],
             [
              0.8888888888888888,
              "#b5de2b"
             ],
             [
              1,
              "#fde725"
             ]
            ],
            "type": "surface"
           }
          ],
          "table": [
           {
            "cells": {
             "fill": {
              "color": "rgb(237,237,237)"
             },
             "line": {
              "color": "white"
             }
            },
            "header": {
             "fill": {
              "color": "rgb(217,217,217)"
             },
             "line": {
              "color": "white"
             }
            },
            "type": "table"
           }
          ]
         },
         "layout": {
          "annotationdefaults": {
           "arrowhead": 0,
           "arrowwidth": 1
          },
          "autotypenumbers": "strict",
          "coloraxis": {
           "colorbar": {
            "outlinewidth": 1,
            "tickcolor": "rgb(36,36,36)",
            "ticks": "outside"
           }
          },
          "colorscale": {
           "diverging": [
            [
             0,
             "rgb(103,0,31)"
            ],
            [
             0.1,
             "rgb(178,24,43)"
            ],
            [
             0.2,
             "rgb(214,96,77)"
            ],
            [
             0.3,
             "rgb(244,165,130)"
            ],
            [
             0.4,
             "rgb(253,219,199)"
            ],
            [
             0.5,
             "rgb(247,247,247)"
            ],
            [
             0.6,
             "rgb(209,229,240)"
            ],
            [
             0.7,
             "rgb(146,197,222)"
            ],
            [
             0.8,
             "rgb(67,147,195)"
            ],
            [
             0.9,
             "rgb(33,102,172)"
            ],
            [
             1,
             "rgb(5,48,97)"
            ]
           ],
           "sequential": [
            [
             0,
             "#440154"
            ],
            [
             0.1111111111111111,
             "#482878"
            ],
            [
             0.2222222222222222,
             "#3e4989"
            ],
            [
             0.3333333333333333,
             "#31688e"
            ],
            [
             0.4444444444444444,
             "#26828e"
            ],
            [
             0.5555555555555556,
             "#1f9e89"
            ],
            [
             0.6666666666666666,
             "#35b779"
            ],
            [
             0.7777777777777778,
             "#6ece58"
            ],
            [
             0.8888888888888888,
             "#b5de2b"
            ],
            [
             1,
             "#fde725"
            ]
           ],
           "sequentialminus": [
            [
             0,
             "#440154"
            ],
            [
             0.1111111111111111,
             "#482878"
            ],
            [
             0.2222222222222222,
             "#3e4989"
            ],
            [
             0.3333333333333333,
             "#31688e"
            ],
            [
             0.4444444444444444,
             "#26828e"
            ],
            [
             0.5555555555555556,
             "#1f9e89"
            ],
            [
             0.6666666666666666,
             "#35b779"
            ],
            [
             0.7777777777777778,
             "#6ece58"
            ],
            [
             0.8888888888888888,
             "#b5de2b"
            ],
            [
             1,
             "#fde725"
            ]
           ]
          },
          "colorway": [
           "#1F77B4",
           "#FF7F0E",
           "#2CA02C",
           "#D62728",
           "#9467BD",
           "#8C564B",
           "#E377C2",
           "#7F7F7F",
           "#BCBD22",
           "#17BECF"
          ],
          "font": {
           "color": "rgb(36,36,36)"
          },
          "geo": {
           "bgcolor": "white",
           "lakecolor": "white",
           "landcolor": "white",
           "showlakes": true,
           "showland": true,
           "subunitcolor": "white"
          },
          "hoverlabel": {
           "align": "left"
          },
          "hovermode": "closest",
          "mapbox": {
           "style": "light"
          },
          "paper_bgcolor": "white",
          "plot_bgcolor": "white",
          "polar": {
           "angularaxis": {
            "gridcolor": "rgb(232,232,232)",
            "linecolor": "rgb(36,36,36)",
            "showgrid": false,
            "showline": true,
            "ticks": "outside"
           },
           "bgcolor": "white",
           "radialaxis": {
            "gridcolor": "rgb(232,232,232)",
            "linecolor": "rgb(36,36,36)",
            "showgrid": false,
            "showline": true,
            "ticks": "outside"
           }
          },
          "scene": {
           "xaxis": {
            "backgroundcolor": "white",
            "gridcolor": "rgb(232,232,232)",
            "gridwidth": 2,
            "linecolor": "rgb(36,36,36)",
            "showbackground": true,
            "showgrid": false,
            "showline": true,
            "ticks": "outside",
            "zeroline": false,
            "zerolinecolor": "rgb(36,36,36)"
           },
           "yaxis": {
            "backgroundcolor": "white",
            "gridcolor": "rgb(232,232,232)",
            "gridwidth": 2,
            "linecolor": "rgb(36,36,36)",
            "showbackground": true,
            "showgrid": false,
            "showline": true,
            "ticks": "outside",
            "zeroline": false,
            "zerolinecolor": "rgb(36,36,36)"
           },
           "zaxis": {
            "backgroundcolor": "white",
            "gridcolor": "rgb(232,232,232)",
            "gridwidth": 2,
            "linecolor": "rgb(36,36,36)",
            "showbackground": true,
            "showgrid": false,
            "showline": true,
            "ticks": "outside",
            "zeroline": false,
            "zerolinecolor": "rgb(36,36,36)"
           }
          },
          "shapedefaults": {
           "fillcolor": "black",
           "line": {
            "width": 0
           },
           "opacity": 0.3
          },
          "ternary": {
           "aaxis": {
            "gridcolor": "rgb(232,232,232)",
            "linecolor": "rgb(36,36,36)",
            "showgrid": false,
            "showline": true,
            "ticks": "outside"
           },
           "baxis": {
            "gridcolor": "rgb(232,232,232)",
            "linecolor": "rgb(36,36,36)",
            "showgrid": false,
            "showline": true,
            "ticks": "outside"
           },
           "bgcolor": "white",
           "caxis": {
            "gridcolor": "rgb(232,232,232)",
            "linecolor": "rgb(36,36,36)",
            "showgrid": false,
            "showline": true,
            "ticks": "outside"
           }
          },
          "title": {
           "x": 0.05
          },
          "xaxis": {
           "automargin": true,
           "gridcolor": "rgb(232,232,232)",
           "linecolor": "rgb(36,36,36)",
           "showgrid": false,
           "showline": true,
           "ticks": "outside",
           "title": {
            "standoff": 15
           },
           "zeroline": false,
           "zerolinecolor": "rgb(36,36,36)"
          },
          "yaxis": {
           "automargin": true,
           "gridcolor": "rgb(232,232,232)",
           "linecolor": "rgb(36,36,36)",
           "showgrid": false,
           "showline": true,
           "ticks": "outside",
           "title": {
            "standoff": 15
           },
           "zeroline": false,
           "zerolinecolor": "rgb(36,36,36)"
          }
         }
        },
        "xaxis": {
         "anchor": "y",
         "domain": [
          0,
          0.8358
         ],
         "title": {
          "text": "call_conversion"
         }
        },
        "xaxis2": {
         "anchor": "y2",
         "domain": [
          0.8408,
          1
         ],
         "matches": "x2",
         "showline": false,
         "showticklabels": false,
         "ticks": ""
        },
        "xaxis3": {
         "anchor": "y3",
         "domain": [
          0,
          0.8358
         ],
         "matches": "x",
         "showticklabels": false
        },
        "xaxis4": {
         "anchor": "y4",
         "domain": [
          0.8408,
          1
         ],
         "matches": "x2",
         "showline": false,
         "showticklabels": false,
         "ticks": ""
        },
        "yaxis": {
         "anchor": "x",
         "domain": [
          0,
          0.8316
         ],
         "title": {
          "text": "num_calls"
         }
        },
        "yaxis2": {
         "anchor": "x2",
         "domain": [
          0,
          0.8316
         ],
         "matches": "y",
         "showticklabels": false
        },
        "yaxis3": {
         "anchor": "x3",
         "domain": [
          0.8416,
          1
         ],
         "matches": "y3",
         "showline": false,
         "showticklabels": false,
         "ticks": ""
        },
        "yaxis4": {
         "anchor": "x4",
         "domain": [
          0.8416,
          1
         ],
         "matches": "y3",
         "showline": false,
         "showticklabels": false,
         "ticks": ""
        }
       }
      },
      "text/html": [
       "<div>                            <div id=\"eb1c0240-779f-4602-bc5a-8fbfaecc11f4\" class=\"plotly-graph-div\" style=\"height:525px; width:100%;\"></div>            <script type=\"text/javascript\">                require([\"plotly\"], function(Plotly) {                    window.PLOTLYENV=window.PLOTLYENV || {};                                    if (document.getElementById(\"eb1c0240-779f-4602-bc5a-8fbfaecc11f4\")) {                    Plotly.newPlot(                        \"eb1c0240-779f-4602-bc5a-8fbfaecc11f4\",                        [{\"hovertemplate\": \"call_conversion=%{x}<br>num_calls=%{y}<extra></extra>\", \"legendgroup\": \"\", \"marker\": {\"color\": \"#1F77B4\", \"symbol\": \"circle\"}, \"mode\": \"markers\", \"name\": \"\", \"orientation\": \"v\", \"showlegend\": false, \"type\": \"scatter\", \"x\": [62.06896551724138, 61.76470588235294, 58.753709198813056, 56.97674418604651, 56.849315068493155, 56.41025641025641, 55.20504731861199, 54.285714285714285, 53.71775417298937, 53.233830845771145, 52.38095238095239, 51.955307262569825, 51.908396946564885, 51.64835164835166, 51.515151515151516, 51.35135135135135, 51.28205128205128, 50.0, 50.0, 50.0, 49.57983193277311, 48.8, 48.64864864864865, 48.372093023255815, 47.97297297297297, 47.22222222222222, 47.18614718614719, 46.666666666666664, 46.15384615384615, 45.45454545454545, 44.44444444444444, 44.27966101694915, 43.93939393939394, 43.67816091954023, 43.07692307692308, 43.02496328928047, 42.592592592592595, 41.86046511627907, 41.7910447761194, 41.66666666666667, 41.566265060240966, 40.816326530612244, 40.638297872340424, 40.54054054054054, 40.49079754601227, 40.17857142857143, 40.0, 40.0, 40.0, 39.58333333333333, 39.473684210526315, 39.39393939393939, 39.130434782608695, 39.09090909090909, 39.09090909090909, 38.63636363636363, 38.372093023255815, 37.5, 37.03703703703704, 36.62921348314607, 36.554621848739494, 36.36363636363637, 36.36363636363637, 36.30573248407643, 36.0655737704918, 35.94132029339853, 35.714285714285715, 35.63218390804598, 34.5679012345679, 34.53237410071942, 33.33333333333333, 33.33333333333333, 33.125, 32.45614035087719, 32.25806451612903, 31.914893617021278, 31.62393162393162, 30.973451327433626, 30.18867924528302, 29.629629629629626, 28.37209302325581, 27.77777777777778, 27.692307692307693, 27.480916030534353, 27.173913043478258, 26.041666666666668, 25.64102564102564, 25.0, 23.015873015873016, 17.647058823529413, null], \"xaxis\": \"x\", \"y\": [92, 132, 775, 1001, 376, 109, 702, 415, 1997, 606, 274, 1040, 344, 263, 1851, 386, 194, 90, 56, 204, 326, 294, 139, 779, 341, 123, 464, 175, 105, 93, 369, 1218, 176, 240, 437, 2055, 359, 529, 220, 700, 840, 221, 1334, 120, 549, 266, 177, 337, 409, 560, 207, 333, 56, 275, 345, 210, 210, 254, 63, 2186, 1412, 366, 453, 390, 172, 1175, 292, 208, 208, 761, 157, 18, 353, 588, 79, 282, 286, 257, 377, 62, 562, 41, 278, 247, 144, 492, 170, 18, 223, 218, 11], \"yaxis\": \"y\"}, {\"alignmentgroup\": \"True\", \"hovertemplate\": \"call_conversion=%{x}<extra></extra>\", \"legendgroup\": \"\", \"marker\": {\"color\": \"#1F77B4\", \"symbol\": \"circle\"}, \"name\": \"\", \"notched\": true, \"offsetgroup\": \"\", \"showlegend\": false, \"type\": \"box\", \"x\": [62.06896551724138, 61.76470588235294, 58.753709198813056, 56.97674418604651, 56.849315068493155, 56.41025641025641, 55.20504731861199, 54.285714285714285, 53.71775417298937, 53.233830845771145, 52.38095238095239, 51.955307262569825, 51.908396946564885, 51.64835164835166, 51.515151515151516, 51.35135135135135, 51.28205128205128, 50.0, 50.0, 50.0, 49.57983193277311, 48.8, 48.64864864864865, 48.372093023255815, 47.97297297297297, 47.22222222222222, 47.18614718614719, 46.666666666666664, 46.15384615384615, 45.45454545454545, 44.44444444444444, 44.27966101694915, 43.93939393939394, 43.67816091954023, 43.07692307692308, 43.02496328928047, 42.592592592592595, 41.86046511627907, 41.7910447761194, 41.66666666666667, 41.566265060240966, 40.816326530612244, 40.638297872340424, 40.54054054054054, 40.49079754601227, 40.17857142857143, 40.0, 40.0, 40.0, 39.58333333333333, 39.473684210526315, 39.39393939393939, 39.130434782608695, 39.09090909090909, 39.09090909090909, 38.63636363636363, 38.372093023255815, 37.5, 37.03703703703704, 36.62921348314607, 36.554621848739494, 36.36363636363637, 36.36363636363637, 36.30573248407643, 36.0655737704918, 35.94132029339853, 35.714285714285715, 35.63218390804598, 34.5679012345679, 34.53237410071942, 33.33333333333333, 33.33333333333333, 33.125, 32.45614035087719, 32.25806451612903, 31.914893617021278, 31.62393162393162, 30.973451327433626, 30.18867924528302, 29.629629629629626, 28.37209302325581, 27.77777777777778, 27.692307692307693, 27.480916030534353, 27.173913043478258, 26.041666666666668, 25.64102564102564, 25.0, 23.015873015873016, 17.647058823529413, null], \"xaxis\": \"x3\", \"yaxis\": \"y3\"}, {\"alignmentgroup\": \"True\", \"hovertemplate\": \"num_calls=%{y}<extra></extra>\", \"legendgroup\": \"\", \"marker\": {\"color\": \"#1F77B4\", \"symbol\": \"circle\"}, \"name\": \"\", \"notched\": true, \"offsetgroup\": \"\", \"showlegend\": false, \"type\": \"box\", \"xaxis\": \"x2\", \"y\": [92, 132, 775, 1001, 376, 109, 702, 415, 1997, 606, 274, 1040, 344, 263, 1851, 386, 194, 90, 56, 204, 326, 294, 139, 779, 341, 123, 464, 175, 105, 93, 369, 1218, 176, 240, 437, 2055, 359, 529, 220, 700, 840, 221, 1334, 120, 549, 266, 177, 337, 409, 560, 207, 333, 56, 275, 345, 210, 210, 254, 63, 2186, 1412, 366, 453, 390, 172, 1175, 292, 208, 208, 761, 157, 18, 353, 588, 79, 282, 286, 257, 377, 62, 562, 41, 278, 247, 144, 492, 170, 18, 223, 218, 11], \"yaxis\": \"y2\"}, {\"hovertemplate\": \"<b>OLS trendline</b><br>num_calls = 7.98761 * call_conversion + 107.412<br>R<sup>2</sup>=0.027581<br><br>call_conversion=%{x}<br>num_calls=%{y} <b>(trend)</b><extra></extra>\", \"legendgroup\": \"\", \"marker\": {\"color\": \"#1F77B4\", \"symbol\": \"circle\"}, \"mode\": \"lines\", \"name\": \"\", \"showlegend\": false, \"type\": \"scatter\", \"x\": [17.647058823529413, 23.015873015873016, 25.0, 25.64102564102564, 26.041666666666668, 27.173913043478258, 27.480916030534353, 27.692307692307693, 27.77777777777778, 28.37209302325581, 29.629629629629626, 30.18867924528302, 30.973451327433626, 31.62393162393162, 31.914893617021278, 32.25806451612903, 32.45614035087719, 33.125, 33.33333333333333, 33.33333333333333, 34.53237410071942, 34.5679012345679, 35.63218390804598, 35.714285714285715, 35.94132029339853, 36.0655737704918, 36.30573248407643, 36.36363636363637, 36.36363636363637, 36.554621848739494, 36.62921348314607, 37.03703703703704, 37.5, 38.372093023255815, 38.63636363636363, 39.09090909090909, 39.09090909090909, 39.130434782608695, 39.39393939393939, 39.473684210526315, 39.58333333333333, 40.0, 40.0, 40.0, 40.17857142857143, 40.49079754601227, 40.54054054054054, 40.638297872340424, 40.816326530612244, 41.566265060240966, 41.66666666666667, 41.7910447761194, 41.86046511627907, 42.592592592592595, 43.02496328928047, 43.07692307692308, 43.67816091954023, 43.93939393939394, 44.27966101694915, 44.44444444444444, 45.45454545454545, 46.15384615384615, 46.666666666666664, 47.18614718614719, 47.22222222222222, 47.97297297297297, 48.372093023255815, 48.64864864864865, 48.8, 49.57983193277311, 50.0, 50.0, 50.0, 51.28205128205128, 51.35135135135135, 51.515151515151516, 51.64835164835166, 51.908396946564885, 51.955307262569825, 52.38095238095239, 53.233830845771145, 53.71775417298937, 54.285714285714285, 55.20504731861199, 56.41025641025641, 56.849315068493155, 56.97674418604651, 58.753709198813056, 61.76470588235294, 62.06896551724138], \"xaxis\": \"x\", \"y\": [248.3699137075472, 291.2539020858004, 307.10233257341577, 312.222594730953, 315.42275857941377, 324.46669989028123, 326.918919702205, 328.6074336350722, 329.2901352560772, 334.03729303934426, 344.0820037111848, 348.5474734334815, 354.8159259529443, 360.01170820130073, 362.3357988259985, 365.07691377649894, 366.6590660900333, 372.00165542020045, 373.6657406214001, 373.6657406214001, 383.24320940528276, 383.52698625813855, 392.02806008291304, 392.6838572065385, 394.4973206461972, 395.489808833854, 397.4081027276875, 397.8706162752127, 397.8706162752127, 399.396133648352, 399.9919424561085, 403.2494775316154, 406.94744464539235, 413.9133826969255, 416.0242730155719, 419.6550043636439, 419.6550043636439, 419.97072013304137, 422.07549192902513, 422.7124623409676, 423.58829665738836, 426.9164670597876, 426.9164670597876, 426.9164670597876, 428.342825803673, 430.83676593868734, 431.234093527765, 432.01494086771834, 433.4369641746922, 439.427179897722, 440.2291486693845, 441.22263237159314, 441.7771349030586, 447.62508289693835, 451.07869095033345, 451.49372541596654, 456.2961781982083, 458.3828054097438, 461.10072576917617, 462.4169513520459, 470.48524323665015, 476.07098377214527, 480.16719349817504, 484.31660075311447, 484.6047540347074, 490.6014574624537, 493.78947235450676, 495.9984905474255, 497.2074259584591, 503.4364184964621, 506.7925567173688, 506.7925567173688, 506.7925567173688, 517.0330810324433, 517.5866228873123, 518.8949945442752, 519.9589451224647, 522.036085277976, 522.4107865386836, 525.8106733025073, 532.6231329747957, 536.4885232820235, 541.025166570618, 548.3684393467092, 557.9951782927415, 561.502207167767, 562.5200611296349, 576.7137627974474, 600.7644269027586, 603.1947338903118], \"yaxis\": \"y\"}],                        {\"legend\": {\"tracegroupgap\": 0}, \"margin\": {\"t\": 60}, \"template\": {\"data\": {\"bar\": [{\"error_x\": {\"color\": \"rgb(36,36,36)\"}, \"error_y\": {\"color\": \"rgb(36,36,36)\"}, \"marker\": {\"line\": {\"color\": \"white\", \"width\": 0.5}}, \"type\": \"bar\"}], \"barpolar\": [{\"marker\": {\"line\": {\"color\": \"white\", \"width\": 0.5}}, \"type\": \"barpolar\"}], \"carpet\": [{\"aaxis\": {\"endlinecolor\": \"rgb(36,36,36)\", \"gridcolor\": \"white\", \"linecolor\": \"white\", \"minorgridcolor\": \"white\", \"startlinecolor\": \"rgb(36,36,36)\"}, \"baxis\": {\"endlinecolor\": \"rgb(36,36,36)\", \"gridcolor\": \"white\", \"linecolor\": \"white\", \"minorgridcolor\": \"white\", \"startlinecolor\": \"rgb(36,36,36)\"}, \"type\": \"carpet\"}], \"choropleth\": [{\"colorbar\": {\"outlinewidth\": 1, \"tickcolor\": \"rgb(36,36,36)\", \"ticks\": \"outside\"}, \"type\": \"choropleth\"}], \"contour\": [{\"colorbar\": {\"outlinewidth\": 1, \"tickcolor\": \"rgb(36,36,36)\", \"ticks\": \"outside\"}, \"colorscale\": [[0.0, \"#440154\"], [0.1111111111111111, \"#482878\"], [0.2222222222222222, \"#3e4989\"], [0.3333333333333333, \"#31688e\"], [0.4444444444444444, \"#26828e\"], [0.5555555555555556, \"#1f9e89\"], [0.6666666666666666, \"#35b779\"], [0.7777777777777778, \"#6ece58\"], [0.8888888888888888, \"#b5de2b\"], [1.0, \"#fde725\"]], \"type\": \"contour\"}], \"contourcarpet\": [{\"colorbar\": {\"outlinewidth\": 1, \"tickcolor\": \"rgb(36,36,36)\", \"ticks\": \"outside\"}, \"type\": \"contourcarpet\"}], \"heatmap\": [{\"colorbar\": {\"outlinewidth\": 1, \"tickcolor\": \"rgb(36,36,36)\", \"ticks\": \"outside\"}, \"colorscale\": [[0.0, \"#440154\"], [0.1111111111111111, \"#482878\"], [0.2222222222222222, \"#3e4989\"], [0.3333333333333333, \"#31688e\"], [0.4444444444444444, \"#26828e\"], [0.5555555555555556, \"#1f9e89\"], [0.6666666666666666, \"#35b779\"], [0.7777777777777778, \"#6ece58\"], [0.8888888888888888, \"#b5de2b\"], [1.0, \"#fde725\"]], \"type\": \"heatmap\"}], \"heatmapgl\": [{\"colorbar\": {\"outlinewidth\": 1, \"tickcolor\": \"rgb(36,36,36)\", \"ticks\": \"outside\"}, \"colorscale\": [[0.0, \"#440154\"], [0.1111111111111111, \"#482878\"], [0.2222222222222222, \"#3e4989\"], [0.3333333333333333, \"#31688e\"], [0.4444444444444444, \"#26828e\"], [0.5555555555555556, \"#1f9e89\"], [0.6666666666666666, \"#35b779\"], [0.7777777777777778, \"#6ece58\"], [0.8888888888888888, \"#b5de2b\"], [1.0, \"#fde725\"]], \"type\": \"heatmapgl\"}], \"histogram\": [{\"marker\": {\"line\": {\"color\": \"white\", \"width\": 0.6}}, \"type\": \"histogram\"}], \"histogram2d\": [{\"colorbar\": {\"outlinewidth\": 1, \"tickcolor\": \"rgb(36,36,36)\", \"ticks\": \"outside\"}, \"colorscale\": [[0.0, \"#440154\"], [0.1111111111111111, \"#482878\"], [0.2222222222222222, \"#3e4989\"], [0.3333333333333333, \"#31688e\"], [0.4444444444444444, \"#26828e\"], [0.5555555555555556, \"#1f9e89\"], [0.6666666666666666, \"#35b779\"], [0.7777777777777778, \"#6ece58\"], [0.8888888888888888, \"#b5de2b\"], [1.0, \"#fde725\"]], \"type\": \"histogram2d\"}], \"histogram2dcontour\": [{\"colorbar\": {\"outlinewidth\": 1, \"tickcolor\": \"rgb(36,36,36)\", \"ticks\": \"outside\"}, \"colorscale\": [[0.0, \"#440154\"], [0.1111111111111111, \"#482878\"], [0.2222222222222222, \"#3e4989\"], [0.3333333333333333, \"#31688e\"], [0.4444444444444444, \"#26828e\"], [0.5555555555555556, \"#1f9e89\"], [0.6666666666666666, \"#35b779\"], [0.7777777777777778, \"#6ece58\"], [0.8888888888888888, \"#b5de2b\"], [1.0, \"#fde725\"]], \"type\": \"histogram2dcontour\"}], \"mesh3d\": [{\"colorbar\": {\"outlinewidth\": 1, \"tickcolor\": \"rgb(36,36,36)\", \"ticks\": \"outside\"}, \"type\": \"mesh3d\"}], \"parcoords\": [{\"line\": {\"colorbar\": {\"outlinewidth\": 1, \"tickcolor\": \"rgb(36,36,36)\", \"ticks\": \"outside\"}}, \"type\": \"parcoords\"}], \"pie\": [{\"automargin\": true, \"type\": \"pie\"}], \"scatter\": [{\"marker\": {\"colorbar\": {\"outlinewidth\": 1, \"tickcolor\": \"rgb(36,36,36)\", \"ticks\": \"outside\"}}, \"type\": \"scatter\"}], \"scatter3d\": [{\"line\": {\"colorbar\": {\"outlinewidth\": 1, \"tickcolor\": \"rgb(36,36,36)\", \"ticks\": \"outside\"}}, \"marker\": {\"colorbar\": {\"outlinewidth\": 1, \"tickcolor\": \"rgb(36,36,36)\", \"ticks\": \"outside\"}}, \"type\": \"scatter3d\"}], \"scattercarpet\": [{\"marker\": {\"colorbar\": {\"outlinewidth\": 1, \"tickcolor\": \"rgb(36,36,36)\", \"ticks\": \"outside\"}}, \"type\": \"scattercarpet\"}], \"scattergeo\": [{\"marker\": {\"colorbar\": {\"outlinewidth\": 1, \"tickcolor\": \"rgb(36,36,36)\", \"ticks\": \"outside\"}}, \"type\": \"scattergeo\"}], \"scattergl\": [{\"marker\": {\"colorbar\": {\"outlinewidth\": 1, \"tickcolor\": \"rgb(36,36,36)\", \"ticks\": \"outside\"}}, \"type\": \"scattergl\"}], \"scattermapbox\": [{\"marker\": {\"colorbar\": {\"outlinewidth\": 1, \"tickcolor\": \"rgb(36,36,36)\", \"ticks\": \"outside\"}}, \"type\": \"scattermapbox\"}], \"scatterpolar\": [{\"marker\": {\"colorbar\": {\"outlinewidth\": 1, \"tickcolor\": \"rgb(36,36,36)\", \"ticks\": \"outside\"}}, \"type\": \"scatterpolar\"}], \"scatterpolargl\": [{\"marker\": {\"colorbar\": {\"outlinewidth\": 1, \"tickcolor\": \"rgb(36,36,36)\", \"ticks\": \"outside\"}}, \"type\": \"scatterpolargl\"}], \"scatterternary\": [{\"marker\": {\"colorbar\": {\"outlinewidth\": 1, \"tickcolor\": \"rgb(36,36,36)\", \"ticks\": \"outside\"}}, \"type\": \"scatterternary\"}], \"surface\": [{\"colorbar\": {\"outlinewidth\": 1, \"tickcolor\": \"rgb(36,36,36)\", \"ticks\": \"outside\"}, \"colorscale\": [[0.0, \"#440154\"], [0.1111111111111111, \"#482878\"], [0.2222222222222222, \"#3e4989\"], [0.3333333333333333, \"#31688e\"], [0.4444444444444444, \"#26828e\"], [0.5555555555555556, \"#1f9e89\"], [0.6666666666666666, \"#35b779\"], [0.7777777777777778, \"#6ece58\"], [0.8888888888888888, \"#b5de2b\"], [1.0, \"#fde725\"]], \"type\": \"surface\"}], \"table\": [{\"cells\": {\"fill\": {\"color\": \"rgb(237,237,237)\"}, \"line\": {\"color\": \"white\"}}, \"header\": {\"fill\": {\"color\": \"rgb(217,217,217)\"}, \"line\": {\"color\": \"white\"}}, \"type\": \"table\"}]}, \"layout\": {\"annotationdefaults\": {\"arrowhead\": 0, \"arrowwidth\": 1}, \"autotypenumbers\": \"strict\", \"coloraxis\": {\"colorbar\": {\"outlinewidth\": 1, \"tickcolor\": \"rgb(36,36,36)\", \"ticks\": \"outside\"}}, \"colorscale\": {\"diverging\": [[0.0, \"rgb(103,0,31)\"], [0.1, \"rgb(178,24,43)\"], [0.2, \"rgb(214,96,77)\"], [0.3, \"rgb(244,165,130)\"], [0.4, \"rgb(253,219,199)\"], [0.5, \"rgb(247,247,247)\"], [0.6, \"rgb(209,229,240)\"], [0.7, \"rgb(146,197,222)\"], [0.8, \"rgb(67,147,195)\"], [0.9, \"rgb(33,102,172)\"], [1.0, \"rgb(5,48,97)\"]], \"sequential\": [[0.0, \"#440154\"], [0.1111111111111111, \"#482878\"], [0.2222222222222222, \"#3e4989\"], [0.3333333333333333, \"#31688e\"], [0.4444444444444444, \"#26828e\"], [0.5555555555555556, \"#1f9e89\"], [0.6666666666666666, \"#35b779\"], [0.7777777777777778, \"#6ece58\"], [0.8888888888888888, \"#b5de2b\"], [1.0, \"#fde725\"]], \"sequentialminus\": [[0.0, \"#440154\"], [0.1111111111111111, \"#482878\"], [0.2222222222222222, \"#3e4989\"], [0.3333333333333333, \"#31688e\"], [0.4444444444444444, \"#26828e\"], [0.5555555555555556, \"#1f9e89\"], [0.6666666666666666, \"#35b779\"], [0.7777777777777778, \"#6ece58\"], [0.8888888888888888, \"#b5de2b\"], [1.0, \"#fde725\"]]}, \"colorway\": [\"#1F77B4\", \"#FF7F0E\", \"#2CA02C\", \"#D62728\", \"#9467BD\", \"#8C564B\", \"#E377C2\", \"#7F7F7F\", \"#BCBD22\", \"#17BECF\"], \"font\": {\"color\": \"rgb(36,36,36)\"}, \"geo\": {\"bgcolor\": \"white\", \"lakecolor\": \"white\", \"landcolor\": \"white\", \"showlakes\": true, \"showland\": true, \"subunitcolor\": \"white\"}, \"hoverlabel\": {\"align\": \"left\"}, \"hovermode\": \"closest\", \"mapbox\": {\"style\": \"light\"}, \"paper_bgcolor\": \"white\", \"plot_bgcolor\": \"white\", \"polar\": {\"angularaxis\": {\"gridcolor\": \"rgb(232,232,232)\", \"linecolor\": \"rgb(36,36,36)\", \"showgrid\": false, \"showline\": true, \"ticks\": \"outside\"}, \"bgcolor\": \"white\", \"radialaxis\": {\"gridcolor\": \"rgb(232,232,232)\", \"linecolor\": \"rgb(36,36,36)\", \"showgrid\": false, \"showline\": true, \"ticks\": \"outside\"}}, \"scene\": {\"xaxis\": {\"backgroundcolor\": \"white\", \"gridcolor\": \"rgb(232,232,232)\", \"gridwidth\": 2, \"linecolor\": \"rgb(36,36,36)\", \"showbackground\": true, \"showgrid\": false, \"showline\": true, \"ticks\": \"outside\", \"zeroline\": false, \"zerolinecolor\": \"rgb(36,36,36)\"}, \"yaxis\": {\"backgroundcolor\": \"white\", \"gridcolor\": \"rgb(232,232,232)\", \"gridwidth\": 2, \"linecolor\": \"rgb(36,36,36)\", \"showbackground\": true, \"showgrid\": false, \"showline\": true, \"ticks\": \"outside\", \"zeroline\": false, \"zerolinecolor\": \"rgb(36,36,36)\"}, \"zaxis\": {\"backgroundcolor\": \"white\", \"gridcolor\": \"rgb(232,232,232)\", \"gridwidth\": 2, \"linecolor\": \"rgb(36,36,36)\", \"showbackground\": true, \"showgrid\": false, \"showline\": true, \"ticks\": \"outside\", \"zeroline\": false, \"zerolinecolor\": \"rgb(36,36,36)\"}}, \"shapedefaults\": {\"fillcolor\": \"black\", \"line\": {\"width\": 0}, \"opacity\": 0.3}, \"ternary\": {\"aaxis\": {\"gridcolor\": \"rgb(232,232,232)\", \"linecolor\": \"rgb(36,36,36)\", \"showgrid\": false, \"showline\": true, \"ticks\": \"outside\"}, \"baxis\": {\"gridcolor\": \"rgb(232,232,232)\", \"linecolor\": \"rgb(36,36,36)\", \"showgrid\": false, \"showline\": true, \"ticks\": \"outside\"}, \"bgcolor\": \"white\", \"caxis\": {\"gridcolor\": \"rgb(232,232,232)\", \"linecolor\": \"rgb(36,36,36)\", \"showgrid\": false, \"showline\": true, \"ticks\": \"outside\"}}, \"title\": {\"x\": 0.05}, \"xaxis\": {\"automargin\": true, \"gridcolor\": \"rgb(232,232,232)\", \"linecolor\": \"rgb(36,36,36)\", \"showgrid\": false, \"showline\": true, \"ticks\": \"outside\", \"title\": {\"standoff\": 15}, \"zeroline\": false, \"zerolinecolor\": \"rgb(36,36,36)\"}, \"yaxis\": {\"automargin\": true, \"gridcolor\": \"rgb(232,232,232)\", \"linecolor\": \"rgb(36,36,36)\", \"showgrid\": false, \"showline\": true, \"ticks\": \"outside\", \"title\": {\"standoff\": 15}, \"zeroline\": false, \"zerolinecolor\": \"rgb(36,36,36)\"}}}, \"xaxis\": {\"anchor\": \"y\", \"domain\": [0.0, 0.8358], \"title\": {\"text\": \"call_conversion\"}}, \"xaxis2\": {\"anchor\": \"y2\", \"domain\": [0.8408, 1.0], \"matches\": \"x2\", \"showline\": false, \"showticklabels\": false, \"ticks\": \"\"}, \"xaxis3\": {\"anchor\": \"y3\", \"domain\": [0.0, 0.8358], \"matches\": \"x\", \"showticklabels\": false}, \"xaxis4\": {\"anchor\": \"y4\", \"domain\": [0.8408, 1.0], \"matches\": \"x2\", \"showline\": false, \"showticklabels\": false, \"ticks\": \"\"}, \"yaxis\": {\"anchor\": \"x\", \"domain\": [0.0, 0.8316], \"title\": {\"text\": \"num_calls\"}}, \"yaxis2\": {\"anchor\": \"x2\", \"domain\": [0.0, 0.8316], \"matches\": \"y\", \"showticklabels\": false}, \"yaxis3\": {\"anchor\": \"x3\", \"domain\": [0.8416, 1.0], \"matches\": \"y3\", \"showline\": false, \"showticklabels\": false, \"ticks\": \"\"}, \"yaxis4\": {\"anchor\": \"x4\", \"domain\": [0.8416, 1.0], \"matches\": \"y3\", \"showline\": false, \"showticklabels\": false, \"ticks\": \"\"}},                        {\"responsive\": true}                    ).then(function(){\n",
       "                            \n",
       "var gd = document.getElementById('eb1c0240-779f-4602-bc5a-8fbfaecc11f4');\n",
       "var x = new MutationObserver(function (mutations, observer) {{\n",
       "        var display = window.getComputedStyle(gd).display;\n",
       "        if (!display || display === 'none') {{\n",
       "            console.log([gd, 'removed!']);\n",
       "            Plotly.purge(gd);\n",
       "            observer.disconnect();\n",
       "        }}\n",
       "}});\n",
       "\n",
       "// Listen for the removal of the full notebook cells\n",
       "var notebookContainer = gd.closest('#notebook-container');\n",
       "if (notebookContainer) {{\n",
       "    x.observe(notebookContainer, {childList: true});\n",
       "}}\n",
       "\n",
       "// Listen for the clearing of the current output cell\n",
       "var outputEl = gd.closest('.output');\n",
       "if (outputEl) {{\n",
       "    x.observe(outputEl, {childList: true});\n",
       "}}\n",
       "\n",
       "                        })                };                });            </script>        </div>"
      ]
     },
     "metadata": {},
     "output_type": "display_data"
    }
   ],
   "source": [
    "# Построим интерективные графики распределния\n",
    "fig = px.scatter(df_analyze, x=\"call_conversion\", y=\"num_calls\", marginal_y=\"box\",\n",
    "           marginal_x=\"box\", trendline=\"ols\", template=\"simple_white\")\n",
    "fig.show()"
   ]
  },
  {
   "cell_type": "markdown",
   "id": "3f70180d",
   "metadata": {},
   "source": [
    "### Количество звонков предсказуемо не сильно влияют на конверсию"
   ]
  },
  {
   "cell_type": "code",
   "execution_count": 485,
   "id": "92e01bb0",
   "metadata": {},
   "outputs": [
    {
     "data": {
      "application/vnd.plotly.v1+json": {
       "config": {
        "plotlyServerURL": "https://plot.ly"
       },
       "data": [
        {
         "hovertemplate": "call_conversion=%{x}<br>mean_call_duration=%{y}<extra></extra>",
         "legendgroup": "",
         "marker": {
          "color": "#1F77B4",
          "symbol": "circle"
         },
         "mode": "markers",
         "name": "",
         "orientation": "v",
         "showlegend": false,
         "type": "scatter",
         "x": [
          62.06896551724138,
          61.76470588235294,
          58.753709198813056,
          56.97674418604651,
          56.849315068493155,
          56.41025641025641,
          55.20504731861199,
          54.285714285714285,
          53.71775417298937,
          53.233830845771145,
          52.38095238095239,
          51.955307262569825,
          51.908396946564885,
          51.64835164835166,
          51.515151515151516,
          51.35135135135135,
          51.28205128205128,
          50,
          50,
          50,
          49.57983193277311,
          48.8,
          48.64864864864865,
          48.372093023255815,
          47.97297297297297,
          47.22222222222222,
          47.18614718614719,
          46.666666666666664,
          46.15384615384615,
          45.45454545454545,
          44.44444444444444,
          44.27966101694915,
          43.93939393939394,
          43.67816091954023,
          43.07692307692308,
          43.02496328928047,
          42.592592592592595,
          41.86046511627907,
          41.7910447761194,
          41.66666666666667,
          41.566265060240966,
          40.816326530612244,
          40.638297872340424,
          40.54054054054054,
          40.49079754601227,
          40.17857142857143,
          40,
          40,
          40,
          39.58333333333333,
          39.473684210526315,
          39.39393939393939,
          39.130434782608695,
          39.09090909090909,
          39.09090909090909,
          38.63636363636363,
          38.372093023255815,
          37.5,
          37.03703703703704,
          36.62921348314607,
          36.554621848739494,
          36.36363636363637,
          36.36363636363637,
          36.30573248407643,
          36.0655737704918,
          35.94132029339853,
          35.714285714285715,
          35.63218390804598,
          34.5679012345679,
          34.53237410071942,
          33.33333333333333,
          33.33333333333333,
          33.125,
          32.45614035087719,
          32.25806451612903,
          31.914893617021278,
          31.62393162393162,
          30.973451327433626,
          30.18867924528302,
          29.629629629629626,
          28.37209302325581,
          27.77777777777778,
          27.692307692307693,
          27.480916030534353,
          27.173913043478258,
          26.041666666666668,
          25.64102564102564,
          25,
          23.015873015873016,
          17.647058823529413,
          null
         ],
         "xaxis": "x",
         "y": [
          133.3695652173913,
          124.79545454545455,
          130.10064516129032,
          71.38261738261738,
          194.63829787234042,
          184.75229357798165,
          106.60113960113961,
          132.0578313253012,
          90.0956434651978,
          132.26402640264027,
          91.86496350364963,
          94.49903846153846,
          119.36046511627907,
          137.11787072243345,
          55.79362506753107,
          228.21243523316062,
          176.18041237113403,
          165.66666666666666,
          83.01785714285714,
          148.5441176470588,
          163.079754601227,
          139.74149659863946,
          130.36690647482015,
          98.02952503209242,
          137.8181818181818,
          93.6178861788618,
          121.61853448275862,
          172.26285714285714,
          40.43809523809524,
          173.01075268817203,
          138.78319783197833,
          112.0607553366174,
          118.39204545454545,
          74.63333333333334,
          129.71395881006865,
          115.05644768856448,
          127.55431754874652,
          140.09640831758034,
          160.73181818181817,
          159.35,
          88.99047619047619,
          162.62443438914028,
          72.90104947526237,
          110.15833333333333,
          100.14754098360656,
          129.7218045112782,
          91.15819209039547,
          123.62314540059347,
          135.32273838630806,
          131.04464285714286,
          97.01449275362319,
          61.2042042042042,
          119.875,
          76.42181818181818,
          125.16231884057972,
          130.25238095238095,
          142.89523809523808,
          141.68897637795277,
          176.3015873015873,
          91.96569075937786,
          85.93696883852691,
          101.64207650273224,
          78.81456953642385,
          96.24358974358974,
          210.8081395348837,
          126.60255319148936,
          49.034246575342465,
          131.5721153846154,
          125,
          99.85939553219448,
          115.01910828025478,
          106.88888888888889,
          89.03966005665723,
          83.70238095238095,
          131,
          134.24113475177305,
          124.2027972027972,
          93.71206225680933,
          135.23342175066313,
          96.30645161290323,
          90.29181494661921,
          87.6829268292683,
          175.05755395683454,
          143.72064777327935,
          200.91666666666666,
          95.70325203252033,
          125.2764705882353,
          206.55555555555554,
          87.62780269058295,
          95.94954128440367,
          35.27272727272727
         ],
         "yaxis": "y"
        },
        {
         "alignmentgroup": "True",
         "hovertemplate": "call_conversion=%{x}<extra></extra>",
         "legendgroup": "",
         "marker": {
          "color": "#1F77B4",
          "symbol": "circle"
         },
         "name": "",
         "notched": true,
         "offsetgroup": "",
         "showlegend": false,
         "type": "box",
         "x": [
          62.06896551724138,
          61.76470588235294,
          58.753709198813056,
          56.97674418604651,
          56.849315068493155,
          56.41025641025641,
          55.20504731861199,
          54.285714285714285,
          53.71775417298937,
          53.233830845771145,
          52.38095238095239,
          51.955307262569825,
          51.908396946564885,
          51.64835164835166,
          51.515151515151516,
          51.35135135135135,
          51.28205128205128,
          50,
          50,
          50,
          49.57983193277311,
          48.8,
          48.64864864864865,
          48.372093023255815,
          47.97297297297297,
          47.22222222222222,
          47.18614718614719,
          46.666666666666664,
          46.15384615384615,
          45.45454545454545,
          44.44444444444444,
          44.27966101694915,
          43.93939393939394,
          43.67816091954023,
          43.07692307692308,
          43.02496328928047,
          42.592592592592595,
          41.86046511627907,
          41.7910447761194,
          41.66666666666667,
          41.566265060240966,
          40.816326530612244,
          40.638297872340424,
          40.54054054054054,
          40.49079754601227,
          40.17857142857143,
          40,
          40,
          40,
          39.58333333333333,
          39.473684210526315,
          39.39393939393939,
          39.130434782608695,
          39.09090909090909,
          39.09090909090909,
          38.63636363636363,
          38.372093023255815,
          37.5,
          37.03703703703704,
          36.62921348314607,
          36.554621848739494,
          36.36363636363637,
          36.36363636363637,
          36.30573248407643,
          36.0655737704918,
          35.94132029339853,
          35.714285714285715,
          35.63218390804598,
          34.5679012345679,
          34.53237410071942,
          33.33333333333333,
          33.33333333333333,
          33.125,
          32.45614035087719,
          32.25806451612903,
          31.914893617021278,
          31.62393162393162,
          30.973451327433626,
          30.18867924528302,
          29.629629629629626,
          28.37209302325581,
          27.77777777777778,
          27.692307692307693,
          27.480916030534353,
          27.173913043478258,
          26.041666666666668,
          25.64102564102564,
          25,
          23.015873015873016,
          17.647058823529413,
          null
         ],
         "xaxis": "x3",
         "yaxis": "y3"
        },
        {
         "alignmentgroup": "True",
         "hovertemplate": "mean_call_duration=%{y}<extra></extra>",
         "legendgroup": "",
         "marker": {
          "color": "#1F77B4",
          "symbol": "circle"
         },
         "name": "",
         "notched": true,
         "offsetgroup": "",
         "showlegend": false,
         "type": "box",
         "xaxis": "x2",
         "y": [
          133.3695652173913,
          124.79545454545455,
          130.10064516129032,
          71.38261738261738,
          194.63829787234042,
          184.75229357798165,
          106.60113960113961,
          132.0578313253012,
          90.0956434651978,
          132.26402640264027,
          91.86496350364963,
          94.49903846153846,
          119.36046511627907,
          137.11787072243345,
          55.79362506753107,
          228.21243523316062,
          176.18041237113403,
          165.66666666666666,
          83.01785714285714,
          148.5441176470588,
          163.079754601227,
          139.74149659863946,
          130.36690647482015,
          98.02952503209242,
          137.8181818181818,
          93.6178861788618,
          121.61853448275862,
          172.26285714285714,
          40.43809523809524,
          173.01075268817203,
          138.78319783197833,
          112.0607553366174,
          118.39204545454545,
          74.63333333333334,
          129.71395881006865,
          115.05644768856448,
          127.55431754874652,
          140.09640831758034,
          160.73181818181817,
          159.35,
          88.99047619047619,
          162.62443438914028,
          72.90104947526237,
          110.15833333333333,
          100.14754098360656,
          129.7218045112782,
          91.15819209039547,
          123.62314540059347,
          135.32273838630806,
          131.04464285714286,
          97.01449275362319,
          61.2042042042042,
          119.875,
          76.42181818181818,
          125.16231884057972,
          130.25238095238095,
          142.89523809523808,
          141.68897637795277,
          176.3015873015873,
          91.96569075937786,
          85.93696883852691,
          101.64207650273224,
          78.81456953642385,
          96.24358974358974,
          210.8081395348837,
          126.60255319148936,
          49.034246575342465,
          131.5721153846154,
          125,
          99.85939553219448,
          115.01910828025478,
          106.88888888888889,
          89.03966005665723,
          83.70238095238095,
          131,
          134.24113475177305,
          124.2027972027972,
          93.71206225680933,
          135.23342175066313,
          96.30645161290323,
          90.29181494661921,
          87.6829268292683,
          175.05755395683454,
          143.72064777327935,
          200.91666666666666,
          95.70325203252033,
          125.2764705882353,
          206.55555555555554,
          87.62780269058295,
          95.94954128440367,
          35.27272727272727
         ],
         "yaxis": "y2"
        },
        {
         "hovertemplate": "<b>OLS trendline</b><br>mean_call_duration = 0.384439 * call_conversion + 106.145<br>R<sup>2</sup>=0.009507<br><br>call_conversion=%{x}<br>mean_call_duration=%{y} <b>(trend)</b><extra></extra>",
         "legendgroup": "",
         "marker": {
          "color": "#1F77B4",
          "symbol": "circle"
         },
         "mode": "lines",
         "name": "",
         "showlegend": false,
         "type": "scatter",
         "x": [
          17.647058823529413,
          23.015873015873016,
          25,
          25.64102564102564,
          26.041666666666668,
          27.173913043478258,
          27.480916030534353,
          27.692307692307693,
          27.77777777777778,
          28.37209302325581,
          29.629629629629626,
          30.18867924528302,
          30.973451327433626,
          31.62393162393162,
          31.914893617021278,
          32.25806451612903,
          32.45614035087719,
          33.125,
          33.33333333333333,
          33.33333333333333,
          34.53237410071942,
          34.5679012345679,
          35.63218390804598,
          35.714285714285715,
          35.94132029339853,
          36.0655737704918,
          36.30573248407643,
          36.36363636363637,
          36.36363636363637,
          36.554621848739494,
          36.62921348314607,
          37.03703703703704,
          37.5,
          38.372093023255815,
          38.63636363636363,
          39.09090909090909,
          39.09090909090909,
          39.130434782608695,
          39.39393939393939,
          39.473684210526315,
          39.58333333333333,
          40,
          40,
          40,
          40.17857142857143,
          40.49079754601227,
          40.54054054054054,
          40.638297872340424,
          40.816326530612244,
          41.566265060240966,
          41.66666666666667,
          41.7910447761194,
          41.86046511627907,
          42.592592592592595,
          43.02496328928047,
          43.07692307692308,
          43.67816091954023,
          43.93939393939394,
          44.27966101694915,
          44.44444444444444,
          45.45454545454545,
          46.15384615384615,
          46.666666666666664,
          47.18614718614719,
          47.22222222222222,
          47.97297297297297,
          48.372093023255815,
          48.64864864864865,
          48.8,
          49.57983193277311,
          50,
          50,
          50,
          51.28205128205128,
          51.35135135135135,
          51.515151515151516,
          51.64835164835166,
          51.908396946564885,
          51.955307262569825,
          52.38095238095239,
          53.233830845771145,
          53.71775417298937,
          54.285714285714285,
          55.20504731861199,
          56.41025641025641,
          56.849315068493155,
          56.97674418604651,
          58.753709198813056,
          61.76470588235294,
          62.06896551724138
         ],
         "xaxis": "x",
         "y": [
          112.92926808697784,
          114.99324716421265,
          115.75602204058204,
          116.00245700063984,
          116.15647885067597,
          116.5917579920824,
          116.70978177149277,
          116.7910488728248,
          116.82390686749918,
          117.05238455139772,
          117.53583008544393,
          117.75075030218198,
          118.05244693386403,
          118.30251662784599,
          118.4143736309928,
          118.5463017496236,
          118.62244973388594,
          118.87958515931467,
          118.95967652133346,
          118.95967652133346,
          119.42063400057827,
          119.4342919999633,
          119.8434432746442,
          119.87500637297673,
          119.96228721457595,
          120.01005503961261,
          120.10238130427663,
          120.12464178706125,
          120.12464178706125,
          120.19806396767434,
          120.22673986652953,
          120.38352295722298,
          120.56150376170918,
          120.89676992829943,
          120.99836573635709,
          121.17311052621626,
          121.17311052621626,
          121.18830572533444,
          121.28960705278904,
          121.32026403346609,
          121.36241738189702,
          121.5226001059346,
          121.5226001059346,
          121.5226001059346,
          121.59124984480785,
          121.71128159682547,
          121.73040472090226,
          121.7679864065879,
          121.83642748364086,
          122.12473275532884,
          122.16333100208487,
          122.21114674060355,
          122.2378345946605,
          122.51929261105727,
          122.68551256943203,
          122.70548791421204,
          122.93662691123177,
          123.03705495138072,
          123.16786672910015,
          123.23121582900202,
          123.61953758424463,
          123.88837572248949,
          124.08552369053574,
          124.28523202180335,
          124.29910065591916,
          124.58771817670757,
          124.74115530520115,
          124.84747394541715,
          124.90565923760809,
          125.20545668548749,
          125.3669854828363,
          125.3669854828363,
          125.3669854828363,
          125.85985540295191,
          125.88649702025545,
          125.9494681157002,
          126.0006753801278,
          126.10064681430609,
          126.11868094759362,
          126.28231533447956,
          126.61019468432193,
          126.79623346059186,
          127.01457921579417,
          127.36800626261163,
          127.83133508341432,
          128.00012615194706,
          128.04911481555843,
          128.73224864659298,
          129.889791808603,
          130.00676093771767
         ],
         "yaxis": "y"
        }
       ],
       "layout": {
        "legend": {
         "tracegroupgap": 0
        },
        "margin": {
         "t": 60
        },
        "template": {
         "data": {
          "bar": [
           {
            "error_x": {
             "color": "rgb(36,36,36)"
            },
            "error_y": {
             "color": "rgb(36,36,36)"
            },
            "marker": {
             "line": {
              "color": "white",
              "width": 0.5
             }
            },
            "type": "bar"
           }
          ],
          "barpolar": [
           {
            "marker": {
             "line": {
              "color": "white",
              "width": 0.5
             }
            },
            "type": "barpolar"
           }
          ],
          "carpet": [
           {
            "aaxis": {
             "endlinecolor": "rgb(36,36,36)",
             "gridcolor": "white",
             "linecolor": "white",
             "minorgridcolor": "white",
             "startlinecolor": "rgb(36,36,36)"
            },
            "baxis": {
             "endlinecolor": "rgb(36,36,36)",
             "gridcolor": "white",
             "linecolor": "white",
             "minorgridcolor": "white",
             "startlinecolor": "rgb(36,36,36)"
            },
            "type": "carpet"
           }
          ],
          "choropleth": [
           {
            "colorbar": {
             "outlinewidth": 1,
             "tickcolor": "rgb(36,36,36)",
             "ticks": "outside"
            },
            "type": "choropleth"
           }
          ],
          "contour": [
           {
            "colorbar": {
             "outlinewidth": 1,
             "tickcolor": "rgb(36,36,36)",
             "ticks": "outside"
            },
            "colorscale": [
             [
              0,
              "#440154"
             ],
             [
              0.1111111111111111,
              "#482878"
             ],
             [
              0.2222222222222222,
              "#3e4989"
             ],
             [
              0.3333333333333333,
              "#31688e"
             ],
             [
              0.4444444444444444,
              "#26828e"
             ],
             [
              0.5555555555555556,
              "#1f9e89"
             ],
             [
              0.6666666666666666,
              "#35b779"
             ],
             [
              0.7777777777777778,
              "#6ece58"
             ],
             [
              0.8888888888888888,
              "#b5de2b"
             ],
             [
              1,
              "#fde725"
             ]
            ],
            "type": "contour"
           }
          ],
          "contourcarpet": [
           {
            "colorbar": {
             "outlinewidth": 1,
             "tickcolor": "rgb(36,36,36)",
             "ticks": "outside"
            },
            "type": "contourcarpet"
           }
          ],
          "heatmap": [
           {
            "colorbar": {
             "outlinewidth": 1,
             "tickcolor": "rgb(36,36,36)",
             "ticks": "outside"
            },
            "colorscale": [
             [
              0,
              "#440154"
             ],
             [
              0.1111111111111111,
              "#482878"
             ],
             [
              0.2222222222222222,
              "#3e4989"
             ],
             [
              0.3333333333333333,
              "#31688e"
             ],
             [
              0.4444444444444444,
              "#26828e"
             ],
             [
              0.5555555555555556,
              "#1f9e89"
             ],
             [
              0.6666666666666666,
              "#35b779"
             ],
             [
              0.7777777777777778,
              "#6ece58"
             ],
             [
              0.8888888888888888,
              "#b5de2b"
             ],
             [
              1,
              "#fde725"
             ]
            ],
            "type": "heatmap"
           }
          ],
          "heatmapgl": [
           {
            "colorbar": {
             "outlinewidth": 1,
             "tickcolor": "rgb(36,36,36)",
             "ticks": "outside"
            },
            "colorscale": [
             [
              0,
              "#440154"
             ],
             [
              0.1111111111111111,
              "#482878"
             ],
             [
              0.2222222222222222,
              "#3e4989"
             ],
             [
              0.3333333333333333,
              "#31688e"
             ],
             [
              0.4444444444444444,
              "#26828e"
             ],
             [
              0.5555555555555556,
              "#1f9e89"
             ],
             [
              0.6666666666666666,
              "#35b779"
             ],
             [
              0.7777777777777778,
              "#6ece58"
             ],
             [
              0.8888888888888888,
              "#b5de2b"
             ],
             [
              1,
              "#fde725"
             ]
            ],
            "type": "heatmapgl"
           }
          ],
          "histogram": [
           {
            "marker": {
             "line": {
              "color": "white",
              "width": 0.6
             }
            },
            "type": "histogram"
           }
          ],
          "histogram2d": [
           {
            "colorbar": {
             "outlinewidth": 1,
             "tickcolor": "rgb(36,36,36)",
             "ticks": "outside"
            },
            "colorscale": [
             [
              0,
              "#440154"
             ],
             [
              0.1111111111111111,
              "#482878"
             ],
             [
              0.2222222222222222,
              "#3e4989"
             ],
             [
              0.3333333333333333,
              "#31688e"
             ],
             [
              0.4444444444444444,
              "#26828e"
             ],
             [
              0.5555555555555556,
              "#1f9e89"
             ],
             [
              0.6666666666666666,
              "#35b779"
             ],
             [
              0.7777777777777778,
              "#6ece58"
             ],
             [
              0.8888888888888888,
              "#b5de2b"
             ],
             [
              1,
              "#fde725"
             ]
            ],
            "type": "histogram2d"
           }
          ],
          "histogram2dcontour": [
           {
            "colorbar": {
             "outlinewidth": 1,
             "tickcolor": "rgb(36,36,36)",
             "ticks": "outside"
            },
            "colorscale": [
             [
              0,
              "#440154"
             ],
             [
              0.1111111111111111,
              "#482878"
             ],
             [
              0.2222222222222222,
              "#3e4989"
             ],
             [
              0.3333333333333333,
              "#31688e"
             ],
             [
              0.4444444444444444,
              "#26828e"
             ],
             [
              0.5555555555555556,
              "#1f9e89"
             ],
             [
              0.6666666666666666,
              "#35b779"
             ],
             [
              0.7777777777777778,
              "#6ece58"
             ],
             [
              0.8888888888888888,
              "#b5de2b"
             ],
             [
              1,
              "#fde725"
             ]
            ],
            "type": "histogram2dcontour"
           }
          ],
          "mesh3d": [
           {
            "colorbar": {
             "outlinewidth": 1,
             "tickcolor": "rgb(36,36,36)",
             "ticks": "outside"
            },
            "type": "mesh3d"
           }
          ],
          "parcoords": [
           {
            "line": {
             "colorbar": {
              "outlinewidth": 1,
              "tickcolor": "rgb(36,36,36)",
              "ticks": "outside"
             }
            },
            "type": "parcoords"
           }
          ],
          "pie": [
           {
            "automargin": true,
            "type": "pie"
           }
          ],
          "scatter": [
           {
            "marker": {
             "colorbar": {
              "outlinewidth": 1,
              "tickcolor": "rgb(36,36,36)",
              "ticks": "outside"
             }
            },
            "type": "scatter"
           }
          ],
          "scatter3d": [
           {
            "line": {
             "colorbar": {
              "outlinewidth": 1,
              "tickcolor": "rgb(36,36,36)",
              "ticks": "outside"
             }
            },
            "marker": {
             "colorbar": {
              "outlinewidth": 1,
              "tickcolor": "rgb(36,36,36)",
              "ticks": "outside"
             }
            },
            "type": "scatter3d"
           }
          ],
          "scattercarpet": [
           {
            "marker": {
             "colorbar": {
              "outlinewidth": 1,
              "tickcolor": "rgb(36,36,36)",
              "ticks": "outside"
             }
            },
            "type": "scattercarpet"
           }
          ],
          "scattergeo": [
           {
            "marker": {
             "colorbar": {
              "outlinewidth": 1,
              "tickcolor": "rgb(36,36,36)",
              "ticks": "outside"
             }
            },
            "type": "scattergeo"
           }
          ],
          "scattergl": [
           {
            "marker": {
             "colorbar": {
              "outlinewidth": 1,
              "tickcolor": "rgb(36,36,36)",
              "ticks": "outside"
             }
            },
            "type": "scattergl"
           }
          ],
          "scattermapbox": [
           {
            "marker": {
             "colorbar": {
              "outlinewidth": 1,
              "tickcolor": "rgb(36,36,36)",
              "ticks": "outside"
             }
            },
            "type": "scattermapbox"
           }
          ],
          "scatterpolar": [
           {
            "marker": {
             "colorbar": {
              "outlinewidth": 1,
              "tickcolor": "rgb(36,36,36)",
              "ticks": "outside"
             }
            },
            "type": "scatterpolar"
           }
          ],
          "scatterpolargl": [
           {
            "marker": {
             "colorbar": {
              "outlinewidth": 1,
              "tickcolor": "rgb(36,36,36)",
              "ticks": "outside"
             }
            },
            "type": "scatterpolargl"
           }
          ],
          "scatterternary": [
           {
            "marker": {
             "colorbar": {
              "outlinewidth": 1,
              "tickcolor": "rgb(36,36,36)",
              "ticks": "outside"
             }
            },
            "type": "scatterternary"
           }
          ],
          "surface": [
           {
            "colorbar": {
             "outlinewidth": 1,
             "tickcolor": "rgb(36,36,36)",
             "ticks": "outside"
            },
            "colorscale": [
             [
              0,
              "#440154"
             ],
             [
              0.1111111111111111,
              "#482878"
             ],
             [
              0.2222222222222222,
              "#3e4989"
             ],
             [
              0.3333333333333333,
              "#31688e"
             ],
             [
              0.4444444444444444,
              "#26828e"
             ],
             [
              0.5555555555555556,
              "#1f9e89"
             ],
             [
              0.6666666666666666,
              "#35b779"
             ],
             [
              0.7777777777777778,
              "#6ece58"
             ],
             [
              0.8888888888888888,
              "#b5de2b"
             ],
             [
              1,
              "#fde725"
             ]
            ],
            "type": "surface"
           }
          ],
          "table": [
           {
            "cells": {
             "fill": {
              "color": "rgb(237,237,237)"
             },
             "line": {
              "color": "white"
             }
            },
            "header": {
             "fill": {
              "color": "rgb(217,217,217)"
             },
             "line": {
              "color": "white"
             }
            },
            "type": "table"
           }
          ]
         },
         "layout": {
          "annotationdefaults": {
           "arrowhead": 0,
           "arrowwidth": 1
          },
          "autotypenumbers": "strict",
          "coloraxis": {
           "colorbar": {
            "outlinewidth": 1,
            "tickcolor": "rgb(36,36,36)",
            "ticks": "outside"
           }
          },
          "colorscale": {
           "diverging": [
            [
             0,
             "rgb(103,0,31)"
            ],
            [
             0.1,
             "rgb(178,24,43)"
            ],
            [
             0.2,
             "rgb(214,96,77)"
            ],
            [
             0.3,
             "rgb(244,165,130)"
            ],
            [
             0.4,
             "rgb(253,219,199)"
            ],
            [
             0.5,
             "rgb(247,247,247)"
            ],
            [
             0.6,
             "rgb(209,229,240)"
            ],
            [
             0.7,
             "rgb(146,197,222)"
            ],
            [
             0.8,
             "rgb(67,147,195)"
            ],
            [
             0.9,
             "rgb(33,102,172)"
            ],
            [
             1,
             "rgb(5,48,97)"
            ]
           ],
           "sequential": [
            [
             0,
             "#440154"
            ],
            [
             0.1111111111111111,
             "#482878"
            ],
            [
             0.2222222222222222,
             "#3e4989"
            ],
            [
             0.3333333333333333,
             "#31688e"
            ],
            [
             0.4444444444444444,
             "#26828e"
            ],
            [
             0.5555555555555556,
             "#1f9e89"
            ],
            [
             0.6666666666666666,
             "#35b779"
            ],
            [
             0.7777777777777778,
             "#6ece58"
            ],
            [
             0.8888888888888888,
             "#b5de2b"
            ],
            [
             1,
             "#fde725"
            ]
           ],
           "sequentialminus": [
            [
             0,
             "#440154"
            ],
            [
             0.1111111111111111,
             "#482878"
            ],
            [
             0.2222222222222222,
             "#3e4989"
            ],
            [
             0.3333333333333333,
             "#31688e"
            ],
            [
             0.4444444444444444,
             "#26828e"
            ],
            [
             0.5555555555555556,
             "#1f9e89"
            ],
            [
             0.6666666666666666,
             "#35b779"
            ],
            [
             0.7777777777777778,
             "#6ece58"
            ],
            [
             0.8888888888888888,
             "#b5de2b"
            ],
            [
             1,
             "#fde725"
            ]
           ]
          },
          "colorway": [
           "#1F77B4",
           "#FF7F0E",
           "#2CA02C",
           "#D62728",
           "#9467BD",
           "#8C564B",
           "#E377C2",
           "#7F7F7F",
           "#BCBD22",
           "#17BECF"
          ],
          "font": {
           "color": "rgb(36,36,36)"
          },
          "geo": {
           "bgcolor": "white",
           "lakecolor": "white",
           "landcolor": "white",
           "showlakes": true,
           "showland": true,
           "subunitcolor": "white"
          },
          "hoverlabel": {
           "align": "left"
          },
          "hovermode": "closest",
          "mapbox": {
           "style": "light"
          },
          "paper_bgcolor": "white",
          "plot_bgcolor": "white",
          "polar": {
           "angularaxis": {
            "gridcolor": "rgb(232,232,232)",
            "linecolor": "rgb(36,36,36)",
            "showgrid": false,
            "showline": true,
            "ticks": "outside"
           },
           "bgcolor": "white",
           "radialaxis": {
            "gridcolor": "rgb(232,232,232)",
            "linecolor": "rgb(36,36,36)",
            "showgrid": false,
            "showline": true,
            "ticks": "outside"
           }
          },
          "scene": {
           "xaxis": {
            "backgroundcolor": "white",
            "gridcolor": "rgb(232,232,232)",
            "gridwidth": 2,
            "linecolor": "rgb(36,36,36)",
            "showbackground": true,
            "showgrid": false,
            "showline": true,
            "ticks": "outside",
            "zeroline": false,
            "zerolinecolor": "rgb(36,36,36)"
           },
           "yaxis": {
            "backgroundcolor": "white",
            "gridcolor": "rgb(232,232,232)",
            "gridwidth": 2,
            "linecolor": "rgb(36,36,36)",
            "showbackground": true,
            "showgrid": false,
            "showline": true,
            "ticks": "outside",
            "zeroline": false,
            "zerolinecolor": "rgb(36,36,36)"
           },
           "zaxis": {
            "backgroundcolor": "white",
            "gridcolor": "rgb(232,232,232)",
            "gridwidth": 2,
            "linecolor": "rgb(36,36,36)",
            "showbackground": true,
            "showgrid": false,
            "showline": true,
            "ticks": "outside",
            "zeroline": false,
            "zerolinecolor": "rgb(36,36,36)"
           }
          },
          "shapedefaults": {
           "fillcolor": "black",
           "line": {
            "width": 0
           },
           "opacity": 0.3
          },
          "ternary": {
           "aaxis": {
            "gridcolor": "rgb(232,232,232)",
            "linecolor": "rgb(36,36,36)",
            "showgrid": false,
            "showline": true,
            "ticks": "outside"
           },
           "baxis": {
            "gridcolor": "rgb(232,232,232)",
            "linecolor": "rgb(36,36,36)",
            "showgrid": false,
            "showline": true,
            "ticks": "outside"
           },
           "bgcolor": "white",
           "caxis": {
            "gridcolor": "rgb(232,232,232)",
            "linecolor": "rgb(36,36,36)",
            "showgrid": false,
            "showline": true,
            "ticks": "outside"
           }
          },
          "title": {
           "x": 0.05
          },
          "xaxis": {
           "automargin": true,
           "gridcolor": "rgb(232,232,232)",
           "linecolor": "rgb(36,36,36)",
           "showgrid": false,
           "showline": true,
           "ticks": "outside",
           "title": {
            "standoff": 15
           },
           "zeroline": false,
           "zerolinecolor": "rgb(36,36,36)"
          },
          "yaxis": {
           "automargin": true,
           "gridcolor": "rgb(232,232,232)",
           "linecolor": "rgb(36,36,36)",
           "showgrid": false,
           "showline": true,
           "ticks": "outside",
           "title": {
            "standoff": 15
           },
           "zeroline": false,
           "zerolinecolor": "rgb(36,36,36)"
          }
         }
        },
        "xaxis": {
         "anchor": "y",
         "domain": [
          0,
          0.8358
         ],
         "title": {
          "text": "call_conversion"
         }
        },
        "xaxis2": {
         "anchor": "y2",
         "domain": [
          0.8408,
          1
         ],
         "matches": "x2",
         "showline": false,
         "showticklabels": false,
         "ticks": ""
        },
        "xaxis3": {
         "anchor": "y3",
         "domain": [
          0,
          0.8358
         ],
         "matches": "x",
         "showticklabels": false
        },
        "xaxis4": {
         "anchor": "y4",
         "domain": [
          0.8408,
          1
         ],
         "matches": "x2",
         "showline": false,
         "showticklabels": false,
         "ticks": ""
        },
        "yaxis": {
         "anchor": "x",
         "domain": [
          0,
          0.8316
         ],
         "title": {
          "text": "mean_call_duration"
         }
        },
        "yaxis2": {
         "anchor": "x2",
         "domain": [
          0,
          0.8316
         ],
         "matches": "y",
         "showticklabels": false
        },
        "yaxis3": {
         "anchor": "x3",
         "domain": [
          0.8416,
          1
         ],
         "matches": "y3",
         "showline": false,
         "showticklabels": false,
         "ticks": ""
        },
        "yaxis4": {
         "anchor": "x4",
         "domain": [
          0.8416,
          1
         ],
         "matches": "y3",
         "showline": false,
         "showticklabels": false,
         "ticks": ""
        }
       }
      },
      "text/html": [
       "<div>                            <div id=\"2cc1243f-5ab0-4119-b04b-8c9628ca27fe\" class=\"plotly-graph-div\" style=\"height:525px; width:100%;\"></div>            <script type=\"text/javascript\">                require([\"plotly\"], function(Plotly) {                    window.PLOTLYENV=window.PLOTLYENV || {};                                    if (document.getElementById(\"2cc1243f-5ab0-4119-b04b-8c9628ca27fe\")) {                    Plotly.newPlot(                        \"2cc1243f-5ab0-4119-b04b-8c9628ca27fe\",                        [{\"hovertemplate\": \"call_conversion=%{x}<br>mean_call_duration=%{y}<extra></extra>\", \"legendgroup\": \"\", \"marker\": {\"color\": \"#1F77B4\", \"symbol\": \"circle\"}, \"mode\": \"markers\", \"name\": \"\", \"orientation\": \"v\", \"showlegend\": false, \"type\": \"scatter\", \"x\": [62.06896551724138, 61.76470588235294, 58.753709198813056, 56.97674418604651, 56.849315068493155, 56.41025641025641, 55.20504731861199, 54.285714285714285, 53.71775417298937, 53.233830845771145, 52.38095238095239, 51.955307262569825, 51.908396946564885, 51.64835164835166, 51.515151515151516, 51.35135135135135, 51.28205128205128, 50.0, 50.0, 50.0, 49.57983193277311, 48.8, 48.64864864864865, 48.372093023255815, 47.97297297297297, 47.22222222222222, 47.18614718614719, 46.666666666666664, 46.15384615384615, 45.45454545454545, 44.44444444444444, 44.27966101694915, 43.93939393939394, 43.67816091954023, 43.07692307692308, 43.02496328928047, 42.592592592592595, 41.86046511627907, 41.7910447761194, 41.66666666666667, 41.566265060240966, 40.816326530612244, 40.638297872340424, 40.54054054054054, 40.49079754601227, 40.17857142857143, 40.0, 40.0, 40.0, 39.58333333333333, 39.473684210526315, 39.39393939393939, 39.130434782608695, 39.09090909090909, 39.09090909090909, 38.63636363636363, 38.372093023255815, 37.5, 37.03703703703704, 36.62921348314607, 36.554621848739494, 36.36363636363637, 36.36363636363637, 36.30573248407643, 36.0655737704918, 35.94132029339853, 35.714285714285715, 35.63218390804598, 34.5679012345679, 34.53237410071942, 33.33333333333333, 33.33333333333333, 33.125, 32.45614035087719, 32.25806451612903, 31.914893617021278, 31.62393162393162, 30.973451327433626, 30.18867924528302, 29.629629629629626, 28.37209302325581, 27.77777777777778, 27.692307692307693, 27.480916030534353, 27.173913043478258, 26.041666666666668, 25.64102564102564, 25.0, 23.015873015873016, 17.647058823529413, null], \"xaxis\": \"x\", \"y\": [133.3695652173913, 124.79545454545455, 130.10064516129032, 71.38261738261738, 194.63829787234042, 184.75229357798165, 106.60113960113961, 132.0578313253012, 90.0956434651978, 132.26402640264027, 91.86496350364963, 94.49903846153846, 119.36046511627907, 137.11787072243345, 55.79362506753107, 228.21243523316062, 176.18041237113403, 165.66666666666666, 83.01785714285714, 148.5441176470588, 163.079754601227, 139.74149659863946, 130.36690647482015, 98.02952503209242, 137.8181818181818, 93.6178861788618, 121.61853448275862, 172.26285714285714, 40.43809523809524, 173.01075268817203, 138.78319783197833, 112.0607553366174, 118.39204545454545, 74.63333333333334, 129.71395881006865, 115.05644768856448, 127.55431754874652, 140.09640831758034, 160.73181818181817, 159.35, 88.99047619047619, 162.62443438914028, 72.90104947526237, 110.15833333333333, 100.14754098360656, 129.7218045112782, 91.15819209039547, 123.62314540059347, 135.32273838630806, 131.04464285714286, 97.01449275362319, 61.2042042042042, 119.875, 76.42181818181818, 125.16231884057972, 130.25238095238095, 142.89523809523808, 141.68897637795277, 176.3015873015873, 91.96569075937786, 85.93696883852691, 101.64207650273224, 78.81456953642385, 96.24358974358974, 210.8081395348837, 126.60255319148936, 49.034246575342465, 131.5721153846154, 125.0, 99.85939553219448, 115.01910828025478, 106.88888888888889, 89.03966005665723, 83.70238095238095, 131.0, 134.24113475177305, 124.2027972027972, 93.71206225680933, 135.23342175066313, 96.30645161290323, 90.29181494661921, 87.6829268292683, 175.05755395683454, 143.72064777327935, 200.91666666666666, 95.70325203252033, 125.2764705882353, 206.55555555555554, 87.62780269058295, 95.94954128440367, 35.27272727272727], \"yaxis\": \"y\"}, {\"alignmentgroup\": \"True\", \"hovertemplate\": \"call_conversion=%{x}<extra></extra>\", \"legendgroup\": \"\", \"marker\": {\"color\": \"#1F77B4\", \"symbol\": \"circle\"}, \"name\": \"\", \"notched\": true, \"offsetgroup\": \"\", \"showlegend\": false, \"type\": \"box\", \"x\": [62.06896551724138, 61.76470588235294, 58.753709198813056, 56.97674418604651, 56.849315068493155, 56.41025641025641, 55.20504731861199, 54.285714285714285, 53.71775417298937, 53.233830845771145, 52.38095238095239, 51.955307262569825, 51.908396946564885, 51.64835164835166, 51.515151515151516, 51.35135135135135, 51.28205128205128, 50.0, 50.0, 50.0, 49.57983193277311, 48.8, 48.64864864864865, 48.372093023255815, 47.97297297297297, 47.22222222222222, 47.18614718614719, 46.666666666666664, 46.15384615384615, 45.45454545454545, 44.44444444444444, 44.27966101694915, 43.93939393939394, 43.67816091954023, 43.07692307692308, 43.02496328928047, 42.592592592592595, 41.86046511627907, 41.7910447761194, 41.66666666666667, 41.566265060240966, 40.816326530612244, 40.638297872340424, 40.54054054054054, 40.49079754601227, 40.17857142857143, 40.0, 40.0, 40.0, 39.58333333333333, 39.473684210526315, 39.39393939393939, 39.130434782608695, 39.09090909090909, 39.09090909090909, 38.63636363636363, 38.372093023255815, 37.5, 37.03703703703704, 36.62921348314607, 36.554621848739494, 36.36363636363637, 36.36363636363637, 36.30573248407643, 36.0655737704918, 35.94132029339853, 35.714285714285715, 35.63218390804598, 34.5679012345679, 34.53237410071942, 33.33333333333333, 33.33333333333333, 33.125, 32.45614035087719, 32.25806451612903, 31.914893617021278, 31.62393162393162, 30.973451327433626, 30.18867924528302, 29.629629629629626, 28.37209302325581, 27.77777777777778, 27.692307692307693, 27.480916030534353, 27.173913043478258, 26.041666666666668, 25.64102564102564, 25.0, 23.015873015873016, 17.647058823529413, null], \"xaxis\": \"x3\", \"yaxis\": \"y3\"}, {\"alignmentgroup\": \"True\", \"hovertemplate\": \"mean_call_duration=%{y}<extra></extra>\", \"legendgroup\": \"\", \"marker\": {\"color\": \"#1F77B4\", \"symbol\": \"circle\"}, \"name\": \"\", \"notched\": true, \"offsetgroup\": \"\", \"showlegend\": false, \"type\": \"box\", \"xaxis\": \"x2\", \"y\": [133.3695652173913, 124.79545454545455, 130.10064516129032, 71.38261738261738, 194.63829787234042, 184.75229357798165, 106.60113960113961, 132.0578313253012, 90.0956434651978, 132.26402640264027, 91.86496350364963, 94.49903846153846, 119.36046511627907, 137.11787072243345, 55.79362506753107, 228.21243523316062, 176.18041237113403, 165.66666666666666, 83.01785714285714, 148.5441176470588, 163.079754601227, 139.74149659863946, 130.36690647482015, 98.02952503209242, 137.8181818181818, 93.6178861788618, 121.61853448275862, 172.26285714285714, 40.43809523809524, 173.01075268817203, 138.78319783197833, 112.0607553366174, 118.39204545454545, 74.63333333333334, 129.71395881006865, 115.05644768856448, 127.55431754874652, 140.09640831758034, 160.73181818181817, 159.35, 88.99047619047619, 162.62443438914028, 72.90104947526237, 110.15833333333333, 100.14754098360656, 129.7218045112782, 91.15819209039547, 123.62314540059347, 135.32273838630806, 131.04464285714286, 97.01449275362319, 61.2042042042042, 119.875, 76.42181818181818, 125.16231884057972, 130.25238095238095, 142.89523809523808, 141.68897637795277, 176.3015873015873, 91.96569075937786, 85.93696883852691, 101.64207650273224, 78.81456953642385, 96.24358974358974, 210.8081395348837, 126.60255319148936, 49.034246575342465, 131.5721153846154, 125.0, 99.85939553219448, 115.01910828025478, 106.88888888888889, 89.03966005665723, 83.70238095238095, 131.0, 134.24113475177305, 124.2027972027972, 93.71206225680933, 135.23342175066313, 96.30645161290323, 90.29181494661921, 87.6829268292683, 175.05755395683454, 143.72064777327935, 200.91666666666666, 95.70325203252033, 125.2764705882353, 206.55555555555554, 87.62780269058295, 95.94954128440367, 35.27272727272727], \"yaxis\": \"y2\"}, {\"hovertemplate\": \"<b>OLS trendline</b><br>mean_call_duration = 0.384439 * call_conversion + 106.145<br>R<sup>2</sup>=0.009507<br><br>call_conversion=%{x}<br>mean_call_duration=%{y} <b>(trend)</b><extra></extra>\", \"legendgroup\": \"\", \"marker\": {\"color\": \"#1F77B4\", \"symbol\": \"circle\"}, \"mode\": \"lines\", \"name\": \"\", \"showlegend\": false, \"type\": \"scatter\", \"x\": [17.647058823529413, 23.015873015873016, 25.0, 25.64102564102564, 26.041666666666668, 27.173913043478258, 27.480916030534353, 27.692307692307693, 27.77777777777778, 28.37209302325581, 29.629629629629626, 30.18867924528302, 30.973451327433626, 31.62393162393162, 31.914893617021278, 32.25806451612903, 32.45614035087719, 33.125, 33.33333333333333, 33.33333333333333, 34.53237410071942, 34.5679012345679, 35.63218390804598, 35.714285714285715, 35.94132029339853, 36.0655737704918, 36.30573248407643, 36.36363636363637, 36.36363636363637, 36.554621848739494, 36.62921348314607, 37.03703703703704, 37.5, 38.372093023255815, 38.63636363636363, 39.09090909090909, 39.09090909090909, 39.130434782608695, 39.39393939393939, 39.473684210526315, 39.58333333333333, 40.0, 40.0, 40.0, 40.17857142857143, 40.49079754601227, 40.54054054054054, 40.638297872340424, 40.816326530612244, 41.566265060240966, 41.66666666666667, 41.7910447761194, 41.86046511627907, 42.592592592592595, 43.02496328928047, 43.07692307692308, 43.67816091954023, 43.93939393939394, 44.27966101694915, 44.44444444444444, 45.45454545454545, 46.15384615384615, 46.666666666666664, 47.18614718614719, 47.22222222222222, 47.97297297297297, 48.372093023255815, 48.64864864864865, 48.8, 49.57983193277311, 50.0, 50.0, 50.0, 51.28205128205128, 51.35135135135135, 51.515151515151516, 51.64835164835166, 51.908396946564885, 51.955307262569825, 52.38095238095239, 53.233830845771145, 53.71775417298937, 54.285714285714285, 55.20504731861199, 56.41025641025641, 56.849315068493155, 56.97674418604651, 58.753709198813056, 61.76470588235294, 62.06896551724138], \"xaxis\": \"x\", \"y\": [112.92926808697784, 114.99324716421265, 115.75602204058204, 116.00245700063984, 116.15647885067597, 116.5917579920824, 116.70978177149277, 116.7910488728248, 116.82390686749918, 117.05238455139772, 117.53583008544393, 117.75075030218198, 118.05244693386403, 118.30251662784599, 118.4143736309928, 118.5463017496236, 118.62244973388594, 118.87958515931467, 118.95967652133346, 118.95967652133346, 119.42063400057827, 119.4342919999633, 119.8434432746442, 119.87500637297673, 119.96228721457595, 120.01005503961261, 120.10238130427663, 120.12464178706125, 120.12464178706125, 120.19806396767434, 120.22673986652953, 120.38352295722298, 120.56150376170918, 120.89676992829943, 120.99836573635709, 121.17311052621626, 121.17311052621626, 121.18830572533444, 121.28960705278904, 121.32026403346609, 121.36241738189702, 121.5226001059346, 121.5226001059346, 121.5226001059346, 121.59124984480785, 121.71128159682547, 121.73040472090226, 121.7679864065879, 121.83642748364086, 122.12473275532884, 122.16333100208487, 122.21114674060355, 122.2378345946605, 122.51929261105727, 122.68551256943203, 122.70548791421204, 122.93662691123177, 123.03705495138072, 123.16786672910015, 123.23121582900202, 123.61953758424463, 123.88837572248949, 124.08552369053574, 124.28523202180335, 124.29910065591916, 124.58771817670757, 124.74115530520115, 124.84747394541715, 124.90565923760809, 125.20545668548749, 125.3669854828363, 125.3669854828363, 125.3669854828363, 125.85985540295191, 125.88649702025545, 125.9494681157002, 126.0006753801278, 126.10064681430609, 126.11868094759362, 126.28231533447956, 126.61019468432193, 126.79623346059186, 127.01457921579417, 127.36800626261163, 127.83133508341432, 128.00012615194706, 128.04911481555843, 128.73224864659298, 129.889791808603, 130.00676093771767], \"yaxis\": \"y\"}],                        {\"legend\": {\"tracegroupgap\": 0}, \"margin\": {\"t\": 60}, \"template\": {\"data\": {\"bar\": [{\"error_x\": {\"color\": \"rgb(36,36,36)\"}, \"error_y\": {\"color\": \"rgb(36,36,36)\"}, \"marker\": {\"line\": {\"color\": \"white\", \"width\": 0.5}}, \"type\": \"bar\"}], \"barpolar\": [{\"marker\": {\"line\": {\"color\": \"white\", \"width\": 0.5}}, \"type\": \"barpolar\"}], \"carpet\": [{\"aaxis\": {\"endlinecolor\": \"rgb(36,36,36)\", \"gridcolor\": \"white\", \"linecolor\": \"white\", \"minorgridcolor\": \"white\", \"startlinecolor\": \"rgb(36,36,36)\"}, \"baxis\": {\"endlinecolor\": \"rgb(36,36,36)\", \"gridcolor\": \"white\", \"linecolor\": \"white\", \"minorgridcolor\": \"white\", \"startlinecolor\": \"rgb(36,36,36)\"}, \"type\": \"carpet\"}], \"choropleth\": [{\"colorbar\": {\"outlinewidth\": 1, \"tickcolor\": \"rgb(36,36,36)\", \"ticks\": \"outside\"}, \"type\": \"choropleth\"}], \"contour\": [{\"colorbar\": {\"outlinewidth\": 1, \"tickcolor\": \"rgb(36,36,36)\", \"ticks\": \"outside\"}, \"colorscale\": [[0.0, \"#440154\"], [0.1111111111111111, \"#482878\"], [0.2222222222222222, \"#3e4989\"], [0.3333333333333333, \"#31688e\"], [0.4444444444444444, \"#26828e\"], [0.5555555555555556, \"#1f9e89\"], [0.6666666666666666, \"#35b779\"], [0.7777777777777778, \"#6ece58\"], [0.8888888888888888, \"#b5de2b\"], [1.0, \"#fde725\"]], \"type\": \"contour\"}], \"contourcarpet\": [{\"colorbar\": {\"outlinewidth\": 1, \"tickcolor\": \"rgb(36,36,36)\", \"ticks\": \"outside\"}, \"type\": \"contourcarpet\"}], \"heatmap\": [{\"colorbar\": {\"outlinewidth\": 1, \"tickcolor\": \"rgb(36,36,36)\", \"ticks\": \"outside\"}, \"colorscale\": [[0.0, \"#440154\"], [0.1111111111111111, \"#482878\"], [0.2222222222222222, \"#3e4989\"], [0.3333333333333333, \"#31688e\"], [0.4444444444444444, \"#26828e\"], [0.5555555555555556, \"#1f9e89\"], [0.6666666666666666, \"#35b779\"], [0.7777777777777778, \"#6ece58\"], [0.8888888888888888, \"#b5de2b\"], [1.0, \"#fde725\"]], \"type\": \"heatmap\"}], \"heatmapgl\": [{\"colorbar\": {\"outlinewidth\": 1, \"tickcolor\": \"rgb(36,36,36)\", \"ticks\": \"outside\"}, \"colorscale\": [[0.0, \"#440154\"], [0.1111111111111111, \"#482878\"], [0.2222222222222222, \"#3e4989\"], [0.3333333333333333, \"#31688e\"], [0.4444444444444444, \"#26828e\"], [0.5555555555555556, \"#1f9e89\"], [0.6666666666666666, \"#35b779\"], [0.7777777777777778, \"#6ece58\"], [0.8888888888888888, \"#b5de2b\"], [1.0, \"#fde725\"]], \"type\": \"heatmapgl\"}], \"histogram\": [{\"marker\": {\"line\": {\"color\": \"white\", \"width\": 0.6}}, \"type\": \"histogram\"}], \"histogram2d\": [{\"colorbar\": {\"outlinewidth\": 1, \"tickcolor\": \"rgb(36,36,36)\", \"ticks\": \"outside\"}, \"colorscale\": [[0.0, \"#440154\"], [0.1111111111111111, \"#482878\"], [0.2222222222222222, \"#3e4989\"], [0.3333333333333333, \"#31688e\"], [0.4444444444444444, \"#26828e\"], [0.5555555555555556, \"#1f9e89\"], [0.6666666666666666, \"#35b779\"], [0.7777777777777778, \"#6ece58\"], [0.8888888888888888, \"#b5de2b\"], [1.0, \"#fde725\"]], \"type\": \"histogram2d\"}], \"histogram2dcontour\": [{\"colorbar\": {\"outlinewidth\": 1, \"tickcolor\": \"rgb(36,36,36)\", \"ticks\": \"outside\"}, \"colorscale\": [[0.0, \"#440154\"], [0.1111111111111111, \"#482878\"], [0.2222222222222222, \"#3e4989\"], [0.3333333333333333, \"#31688e\"], [0.4444444444444444, \"#26828e\"], [0.5555555555555556, \"#1f9e89\"], [0.6666666666666666, \"#35b779\"], [0.7777777777777778, \"#6ece58\"], [0.8888888888888888, \"#b5de2b\"], [1.0, \"#fde725\"]], \"type\": \"histogram2dcontour\"}], \"mesh3d\": [{\"colorbar\": {\"outlinewidth\": 1, \"tickcolor\": \"rgb(36,36,36)\", \"ticks\": \"outside\"}, \"type\": \"mesh3d\"}], \"parcoords\": [{\"line\": {\"colorbar\": {\"outlinewidth\": 1, \"tickcolor\": \"rgb(36,36,36)\", \"ticks\": \"outside\"}}, \"type\": \"parcoords\"}], \"pie\": [{\"automargin\": true, \"type\": \"pie\"}], \"scatter\": [{\"marker\": {\"colorbar\": {\"outlinewidth\": 1, \"tickcolor\": \"rgb(36,36,36)\", \"ticks\": \"outside\"}}, \"type\": \"scatter\"}], \"scatter3d\": [{\"line\": {\"colorbar\": {\"outlinewidth\": 1, \"tickcolor\": \"rgb(36,36,36)\", \"ticks\": \"outside\"}}, \"marker\": {\"colorbar\": {\"outlinewidth\": 1, \"tickcolor\": \"rgb(36,36,36)\", \"ticks\": \"outside\"}}, \"type\": \"scatter3d\"}], \"scattercarpet\": [{\"marker\": {\"colorbar\": {\"outlinewidth\": 1, \"tickcolor\": \"rgb(36,36,36)\", \"ticks\": \"outside\"}}, \"type\": \"scattercarpet\"}], \"scattergeo\": [{\"marker\": {\"colorbar\": {\"outlinewidth\": 1, \"tickcolor\": \"rgb(36,36,36)\", \"ticks\": \"outside\"}}, \"type\": \"scattergeo\"}], \"scattergl\": [{\"marker\": {\"colorbar\": {\"outlinewidth\": 1, \"tickcolor\": \"rgb(36,36,36)\", \"ticks\": \"outside\"}}, \"type\": \"scattergl\"}], \"scattermapbox\": [{\"marker\": {\"colorbar\": {\"outlinewidth\": 1, \"tickcolor\": \"rgb(36,36,36)\", \"ticks\": \"outside\"}}, \"type\": \"scattermapbox\"}], \"scatterpolar\": [{\"marker\": {\"colorbar\": {\"outlinewidth\": 1, \"tickcolor\": \"rgb(36,36,36)\", \"ticks\": \"outside\"}}, \"type\": \"scatterpolar\"}], \"scatterpolargl\": [{\"marker\": {\"colorbar\": {\"outlinewidth\": 1, \"tickcolor\": \"rgb(36,36,36)\", \"ticks\": \"outside\"}}, \"type\": \"scatterpolargl\"}], \"scatterternary\": [{\"marker\": {\"colorbar\": {\"outlinewidth\": 1, \"tickcolor\": \"rgb(36,36,36)\", \"ticks\": \"outside\"}}, \"type\": \"scatterternary\"}], \"surface\": [{\"colorbar\": {\"outlinewidth\": 1, \"tickcolor\": \"rgb(36,36,36)\", \"ticks\": \"outside\"}, \"colorscale\": [[0.0, \"#440154\"], [0.1111111111111111, \"#482878\"], [0.2222222222222222, \"#3e4989\"], [0.3333333333333333, \"#31688e\"], [0.4444444444444444, \"#26828e\"], [0.5555555555555556, \"#1f9e89\"], [0.6666666666666666, \"#35b779\"], [0.7777777777777778, \"#6ece58\"], [0.8888888888888888, \"#b5de2b\"], [1.0, \"#fde725\"]], \"type\": \"surface\"}], \"table\": [{\"cells\": {\"fill\": {\"color\": \"rgb(237,237,237)\"}, \"line\": {\"color\": \"white\"}}, \"header\": {\"fill\": {\"color\": \"rgb(217,217,217)\"}, \"line\": {\"color\": \"white\"}}, \"type\": \"table\"}]}, \"layout\": {\"annotationdefaults\": {\"arrowhead\": 0, \"arrowwidth\": 1}, \"autotypenumbers\": \"strict\", \"coloraxis\": {\"colorbar\": {\"outlinewidth\": 1, \"tickcolor\": \"rgb(36,36,36)\", \"ticks\": \"outside\"}}, \"colorscale\": {\"diverging\": [[0.0, \"rgb(103,0,31)\"], [0.1, \"rgb(178,24,43)\"], [0.2, \"rgb(214,96,77)\"], [0.3, \"rgb(244,165,130)\"], [0.4, \"rgb(253,219,199)\"], [0.5, \"rgb(247,247,247)\"], [0.6, \"rgb(209,229,240)\"], [0.7, \"rgb(146,197,222)\"], [0.8, \"rgb(67,147,195)\"], [0.9, \"rgb(33,102,172)\"], [1.0, \"rgb(5,48,97)\"]], \"sequential\": [[0.0, \"#440154\"], [0.1111111111111111, \"#482878\"], [0.2222222222222222, \"#3e4989\"], [0.3333333333333333, \"#31688e\"], [0.4444444444444444, \"#26828e\"], [0.5555555555555556, \"#1f9e89\"], [0.6666666666666666, \"#35b779\"], [0.7777777777777778, \"#6ece58\"], [0.8888888888888888, \"#b5de2b\"], [1.0, \"#fde725\"]], \"sequentialminus\": [[0.0, \"#440154\"], [0.1111111111111111, \"#482878\"], [0.2222222222222222, \"#3e4989\"], [0.3333333333333333, \"#31688e\"], [0.4444444444444444, \"#26828e\"], [0.5555555555555556, \"#1f9e89\"], [0.6666666666666666, \"#35b779\"], [0.7777777777777778, \"#6ece58\"], [0.8888888888888888, \"#b5de2b\"], [1.0, \"#fde725\"]]}, \"colorway\": [\"#1F77B4\", \"#FF7F0E\", \"#2CA02C\", \"#D62728\", \"#9467BD\", \"#8C564B\", \"#E377C2\", \"#7F7F7F\", \"#BCBD22\", \"#17BECF\"], \"font\": {\"color\": \"rgb(36,36,36)\"}, \"geo\": {\"bgcolor\": \"white\", \"lakecolor\": \"white\", \"landcolor\": \"white\", \"showlakes\": true, \"showland\": true, \"subunitcolor\": \"white\"}, \"hoverlabel\": {\"align\": \"left\"}, \"hovermode\": \"closest\", \"mapbox\": {\"style\": \"light\"}, \"paper_bgcolor\": \"white\", \"plot_bgcolor\": \"white\", \"polar\": {\"angularaxis\": {\"gridcolor\": \"rgb(232,232,232)\", \"linecolor\": \"rgb(36,36,36)\", \"showgrid\": false, \"showline\": true, \"ticks\": \"outside\"}, \"bgcolor\": \"white\", \"radialaxis\": {\"gridcolor\": \"rgb(232,232,232)\", \"linecolor\": \"rgb(36,36,36)\", \"showgrid\": false, \"showline\": true, \"ticks\": \"outside\"}}, \"scene\": {\"xaxis\": {\"backgroundcolor\": \"white\", \"gridcolor\": \"rgb(232,232,232)\", \"gridwidth\": 2, \"linecolor\": \"rgb(36,36,36)\", \"showbackground\": true, \"showgrid\": false, \"showline\": true, \"ticks\": \"outside\", \"zeroline\": false, \"zerolinecolor\": \"rgb(36,36,36)\"}, \"yaxis\": {\"backgroundcolor\": \"white\", \"gridcolor\": \"rgb(232,232,232)\", \"gridwidth\": 2, \"linecolor\": \"rgb(36,36,36)\", \"showbackground\": true, \"showgrid\": false, \"showline\": true, \"ticks\": \"outside\", \"zeroline\": false, \"zerolinecolor\": \"rgb(36,36,36)\"}, \"zaxis\": {\"backgroundcolor\": \"white\", \"gridcolor\": \"rgb(232,232,232)\", \"gridwidth\": 2, \"linecolor\": \"rgb(36,36,36)\", \"showbackground\": true, \"showgrid\": false, \"showline\": true, \"ticks\": \"outside\", \"zeroline\": false, \"zerolinecolor\": \"rgb(36,36,36)\"}}, \"shapedefaults\": {\"fillcolor\": \"black\", \"line\": {\"width\": 0}, \"opacity\": 0.3}, \"ternary\": {\"aaxis\": {\"gridcolor\": \"rgb(232,232,232)\", \"linecolor\": \"rgb(36,36,36)\", \"showgrid\": false, \"showline\": true, \"ticks\": \"outside\"}, \"baxis\": {\"gridcolor\": \"rgb(232,232,232)\", \"linecolor\": \"rgb(36,36,36)\", \"showgrid\": false, \"showline\": true, \"ticks\": \"outside\"}, \"bgcolor\": \"white\", \"caxis\": {\"gridcolor\": \"rgb(232,232,232)\", \"linecolor\": \"rgb(36,36,36)\", \"showgrid\": false, \"showline\": true, \"ticks\": \"outside\"}}, \"title\": {\"x\": 0.05}, \"xaxis\": {\"automargin\": true, \"gridcolor\": \"rgb(232,232,232)\", \"linecolor\": \"rgb(36,36,36)\", \"showgrid\": false, \"showline\": true, \"ticks\": \"outside\", \"title\": {\"standoff\": 15}, \"zeroline\": false, \"zerolinecolor\": \"rgb(36,36,36)\"}, \"yaxis\": {\"automargin\": true, \"gridcolor\": \"rgb(232,232,232)\", \"linecolor\": \"rgb(36,36,36)\", \"showgrid\": false, \"showline\": true, \"ticks\": \"outside\", \"title\": {\"standoff\": 15}, \"zeroline\": false, \"zerolinecolor\": \"rgb(36,36,36)\"}}}, \"xaxis\": {\"anchor\": \"y\", \"domain\": [0.0, 0.8358], \"title\": {\"text\": \"call_conversion\"}}, \"xaxis2\": {\"anchor\": \"y2\", \"domain\": [0.8408, 1.0], \"matches\": \"x2\", \"showline\": false, \"showticklabels\": false, \"ticks\": \"\"}, \"xaxis3\": {\"anchor\": \"y3\", \"domain\": [0.0, 0.8358], \"matches\": \"x\", \"showticklabels\": false}, \"xaxis4\": {\"anchor\": \"y4\", \"domain\": [0.8408, 1.0], \"matches\": \"x2\", \"showline\": false, \"showticklabels\": false, \"ticks\": \"\"}, \"yaxis\": {\"anchor\": \"x\", \"domain\": [0.0, 0.8316], \"title\": {\"text\": \"mean_call_duration\"}}, \"yaxis2\": {\"anchor\": \"x2\", \"domain\": [0.0, 0.8316], \"matches\": \"y\", \"showticklabels\": false}, \"yaxis3\": {\"anchor\": \"x3\", \"domain\": [0.8416, 1.0], \"matches\": \"y3\", \"showline\": false, \"showticklabels\": false, \"ticks\": \"\"}, \"yaxis4\": {\"anchor\": \"x4\", \"domain\": [0.8416, 1.0], \"matches\": \"y3\", \"showline\": false, \"showticklabels\": false, \"ticks\": \"\"}},                        {\"responsive\": true}                    ).then(function(){\n",
       "                            \n",
       "var gd = document.getElementById('2cc1243f-5ab0-4119-b04b-8c9628ca27fe');\n",
       "var x = new MutationObserver(function (mutations, observer) {{\n",
       "        var display = window.getComputedStyle(gd).display;\n",
       "        if (!display || display === 'none') {{\n",
       "            console.log([gd, 'removed!']);\n",
       "            Plotly.purge(gd);\n",
       "            observer.disconnect();\n",
       "        }}\n",
       "}});\n",
       "\n",
       "// Listen for the removal of the full notebook cells\n",
       "var notebookContainer = gd.closest('#notebook-container');\n",
       "if (notebookContainer) {{\n",
       "    x.observe(notebookContainer, {childList: true});\n",
       "}}\n",
       "\n",
       "// Listen for the clearing of the current output cell\n",
       "var outputEl = gd.closest('.output');\n",
       "if (outputEl) {{\n",
       "    x.observe(outputEl, {childList: true});\n",
       "}}\n",
       "\n",
       "                        })                };                });            </script>        </div>"
      ]
     },
     "metadata": {},
     "output_type": "display_data"
    }
   ],
   "source": [
    "fig = px.scatter(df_analyze, x=\"call_conversion\", y=\"mean_call_duration\", marginal_y=\"box\",\n",
    "           marginal_x=\"box\", trendline=\"ols\", template=\"simple_white\")\n",
    "fig.show()"
   ]
  },
  {
   "cell_type": "markdown",
   "id": "d1879356",
   "metadata": {},
   "source": [
    "### Среднее продолжительность не сильно влияет на конверсию.\n",
    "### Из проделанного анализа можно сделать вывод что около трети всех звонков переходят в продажу, что видно из воронки продаж, в базе 4 почти половина."
   ]
  },
  {
   "cell_type": "code",
   "execution_count": 486,
   "id": "8f55e15e",
   "metadata": {},
   "outputs": [
    {
     "name": "stdout",
     "output_type": "stream",
     "text": [
      "Средняя конверсия по всем сотрудникам: 41.2\n"
     ]
    }
   ],
   "source": [
    "print(f'Средняя конверсия по всем сотрудникам: {df_analyze.call_conversion.mean():.1f}')"
   ]
  },
  {
   "cell_type": "code",
   "execution_count": 492,
   "id": "5d84d857",
   "metadata": {},
   "outputs": [
    {
     "data": {
      "text/html": [
       "<div>\n",
       "<style scoped>\n",
       "    .dataframe tbody tr th:only-of-type {\n",
       "        vertical-align: middle;\n",
       "    }\n",
       "\n",
       "    .dataframe tbody tr th {\n",
       "        vertical-align: top;\n",
       "    }\n",
       "\n",
       "    .dataframe thead th {\n",
       "        text-align: right;\n",
       "    }\n",
       "</style>\n",
       "<table border=\"1\" class=\"dataframe\">\n",
       "  <thead>\n",
       "    <tr style=\"text-align: right;\">\n",
       "      <th></th>\n",
       "      <th>task_id</th>\n",
       "      <th>call_id</th>\n",
       "      <th>agent_name</th>\n",
       "      <th>call_dt</th>\n",
       "      <th>call_result_id</th>\n",
       "      <th>call_result_translation</th>\n",
       "      <th>call_time_sec</th>\n",
       "      <th>hid</th>\n",
       "      <th>finish_dt_task</th>\n",
       "      <th>base_id</th>\n",
       "      <th>task_result_id</th>\n",
       "      <th>task_result_translation</th>\n",
       "      <th>base_translation</th>\n",
       "      <th>product_type_cd</th>\n",
       "      <th>approve_dt</th>\n",
       "      <th>reject_dt</th>\n",
       "      <th>using_dt</th>\n",
       "    </tr>\n",
       "  </thead>\n",
       "  <tbody>\n",
       "    <tr>\n",
       "      <th>0</th>\n",
       "      <td>843083337</td>\n",
       "      <td>6645916908#16711160876</td>\n",
       "      <td>sakungurceva</td>\n",
       "      <td>2020-03-01</td>\n",
       "      <td>6</td>\n",
       "      <td>Дозвон, Отложить</td>\n",
       "      <td>298</td>\n",
       "      <td>36d2f49fc49f572677416d54536a41c6</td>\n",
       "      <td>2020-04-15</td>\n",
       "      <td>7553</td>\n",
       "      <td>6</td>\n",
       "      <td>Успешно</td>\n",
       "      <td>База 1</td>\n",
       "      <td>INV</td>\n",
       "      <td>NaT</td>\n",
       "      <td>2020-04-22</td>\n",
       "      <td>NaT</td>\n",
       "    </tr>\n",
       "    <tr>\n",
       "      <th>1</th>\n",
       "      <td>843083337</td>\n",
       "      <td>6750206063#16711160876</td>\n",
       "      <td>sakungurceva</td>\n",
       "      <td>2020-03-17</td>\n",
       "      <td>6</td>\n",
       "      <td>Дозвон, Отложить</td>\n",
       "      <td>9</td>\n",
       "      <td>36d2f49fc49f572677416d54536a41c6</td>\n",
       "      <td>2020-04-15</td>\n",
       "      <td>7553</td>\n",
       "      <td>6</td>\n",
       "      <td>Успешно</td>\n",
       "      <td>База 1</td>\n",
       "      <td>INV</td>\n",
       "      <td>NaT</td>\n",
       "      <td>2020-04-22</td>\n",
       "      <td>NaT</td>\n",
       "    </tr>\n",
       "    <tr>\n",
       "      <th>2</th>\n",
       "      <td>843083337</td>\n",
       "      <td>6769109629#16711160876</td>\n",
       "      <td>sakungurceva</td>\n",
       "      <td>2020-03-24</td>\n",
       "      <td>6</td>\n",
       "      <td>Дозвон, Отложить</td>\n",
       "      <td>111</td>\n",
       "      <td>36d2f49fc49f572677416d54536a41c6</td>\n",
       "      <td>2020-04-15</td>\n",
       "      <td>7553</td>\n",
       "      <td>6</td>\n",
       "      <td>Успешно</td>\n",
       "      <td>База 1</td>\n",
       "      <td>INV</td>\n",
       "      <td>NaT</td>\n",
       "      <td>2020-04-22</td>\n",
       "      <td>NaT</td>\n",
       "    </tr>\n",
       "    <tr>\n",
       "      <th>3</th>\n",
       "      <td>843083337</td>\n",
       "      <td>6890964670#16711160876</td>\n",
       "      <td>sakungurceva</td>\n",
       "      <td>2020-04-15</td>\n",
       "      <td>5</td>\n",
       "      <td>Недозвон</td>\n",
       "      <td>7</td>\n",
       "      <td>36d2f49fc49f572677416d54536a41c6</td>\n",
       "      <td>2020-04-15</td>\n",
       "      <td>7553</td>\n",
       "      <td>6</td>\n",
       "      <td>Успешно</td>\n",
       "      <td>База 1</td>\n",
       "      <td>INV</td>\n",
       "      <td>NaT</td>\n",
       "      <td>2020-04-22</td>\n",
       "      <td>NaT</td>\n",
       "    </tr>\n",
       "    <tr>\n",
       "      <th>4</th>\n",
       "      <td>843083337</td>\n",
       "      <td>6926247810#16711160876</td>\n",
       "      <td>lapleshivenkova</td>\n",
       "      <td>2020-04-15</td>\n",
       "      <td>3</td>\n",
       "      <td>Дозвон, Успешно</td>\n",
       "      <td>1329</td>\n",
       "      <td>36d2f49fc49f572677416d54536a41c6</td>\n",
       "      <td>2020-04-15</td>\n",
       "      <td>7553</td>\n",
       "      <td>6</td>\n",
       "      <td>Успешно</td>\n",
       "      <td>База 1</td>\n",
       "      <td>INV</td>\n",
       "      <td>NaT</td>\n",
       "      <td>2020-04-22</td>\n",
       "      <td>NaT</td>\n",
       "    </tr>\n",
       "    <tr>\n",
       "      <th>...</th>\n",
       "      <td>...</td>\n",
       "      <td>...</td>\n",
       "      <td>...</td>\n",
       "      <td>...</td>\n",
       "      <td>...</td>\n",
       "      <td>...</td>\n",
       "      <td>...</td>\n",
       "      <td>...</td>\n",
       "      <td>...</td>\n",
       "      <td>...</td>\n",
       "      <td>...</td>\n",
       "      <td>...</td>\n",
       "      <td>...</td>\n",
       "      <td>...</td>\n",
       "      <td>...</td>\n",
       "      <td>...</td>\n",
       "      <td>...</td>\n",
       "    </tr>\n",
       "    <tr>\n",
       "      <th>39593</th>\n",
       "      <td>933035272</td>\n",
       "      <td>7124347282#18483260522</td>\n",
       "      <td>aztrofimova</td>\n",
       "      <td>2020-05-30</td>\n",
       "      <td>5</td>\n",
       "      <td>Недозвон</td>\n",
       "      <td>0</td>\n",
       "      <td>9a2d6dd8ff0a11bdc7a65c8ded5d6d92</td>\n",
       "      <td>2020-05-30</td>\n",
       "      <td>7553</td>\n",
       "      <td>1</td>\n",
       "      <td>Дубль</td>\n",
       "      <td>База 1</td>\n",
       "      <td>NaN</td>\n",
       "      <td>NaT</td>\n",
       "      <td>NaT</td>\n",
       "      <td>NaT</td>\n",
       "    </tr>\n",
       "    <tr>\n",
       "      <th>39594</th>\n",
       "      <td>933040837</td>\n",
       "      <td>7123998330#18480990905</td>\n",
       "      <td>aztrofimova</td>\n",
       "      <td>2020-05-30</td>\n",
       "      <td>5</td>\n",
       "      <td>Недозвон</td>\n",
       "      <td>9</td>\n",
       "      <td>3c682df2f35ed1dc634501b4b7ae25fe</td>\n",
       "      <td>2020-05-30</td>\n",
       "      <td>7554</td>\n",
       "      <td>5</td>\n",
       "      <td>Отказ</td>\n",
       "      <td>База 4</td>\n",
       "      <td>NaN</td>\n",
       "      <td>NaT</td>\n",
       "      <td>NaT</td>\n",
       "      <td>NaT</td>\n",
       "    </tr>\n",
       "    <tr>\n",
       "      <th>39595</th>\n",
       "      <td>933040837</td>\n",
       "      <td>7124519269#18480990905</td>\n",
       "      <td>zadenis</td>\n",
       "      <td>2020-05-30</td>\n",
       "      <td>1</td>\n",
       "      <td>Дозвон, Отказ</td>\n",
       "      <td>41</td>\n",
       "      <td>3c682df2f35ed1dc634501b4b7ae25fe</td>\n",
       "      <td>2020-05-30</td>\n",
       "      <td>7554</td>\n",
       "      <td>5</td>\n",
       "      <td>Отказ</td>\n",
       "      <td>База 4</td>\n",
       "      <td>NaN</td>\n",
       "      <td>NaT</td>\n",
       "      <td>NaT</td>\n",
       "      <td>NaT</td>\n",
       "    </tr>\n",
       "    <tr>\n",
       "      <th>39596</th>\n",
       "      <td>933042718</td>\n",
       "      <td>7124237815#18482537123</td>\n",
       "      <td>npmoskalenko</td>\n",
       "      <td>2020-05-30</td>\n",
       "      <td>1</td>\n",
       "      <td>Дозвон, Отказ</td>\n",
       "      <td>138</td>\n",
       "      <td>d6262e2d5840a2e68fcf028c9732606c</td>\n",
       "      <td>2020-05-30</td>\n",
       "      <td>7553</td>\n",
       "      <td>5</td>\n",
       "      <td>Отказ</td>\n",
       "      <td>База 1</td>\n",
       "      <td>NaN</td>\n",
       "      <td>NaT</td>\n",
       "      <td>NaT</td>\n",
       "      <td>NaT</td>\n",
       "    </tr>\n",
       "    <tr>\n",
       "      <th>39597</th>\n",
       "      <td>933065058</td>\n",
       "      <td>7123061624#18471818019</td>\n",
       "      <td>dakupriyanov</td>\n",
       "      <td>2020-05-30</td>\n",
       "      <td>3</td>\n",
       "      <td>Дозвон, Успешно</td>\n",
       "      <td>276</td>\n",
       "      <td>1242029bded20eb92ffa31fd749d7ee4</td>\n",
       "      <td>2020-05-30</td>\n",
       "      <td>7553</td>\n",
       "      <td>6</td>\n",
       "      <td>Успешно</td>\n",
       "      <td>База 1</td>\n",
       "      <td>INV</td>\n",
       "      <td>2020-05-30</td>\n",
       "      <td>NaT</td>\n",
       "      <td>NaT</td>\n",
       "    </tr>\n",
       "  </tbody>\n",
       "</table>\n",
       "<p>39597 rows × 17 columns</p>\n",
       "</div>"
      ],
      "text/plain": [
       "         task_id                 call_id       agent_name    call_dt  \\\n",
       "0      843083337  6645916908#16711160876     sakungurceva 2020-03-01   \n",
       "1      843083337  6750206063#16711160876     sakungurceva 2020-03-17   \n",
       "2      843083337  6769109629#16711160876     sakungurceva 2020-03-24   \n",
       "3      843083337  6890964670#16711160876     sakungurceva 2020-04-15   \n",
       "4      843083337  6926247810#16711160876  lapleshivenkova 2020-04-15   \n",
       "...          ...                     ...              ...        ...   \n",
       "39593  933035272  7124347282#18483260522      aztrofimova 2020-05-30   \n",
       "39594  933040837  7123998330#18480990905      aztrofimova 2020-05-30   \n",
       "39595  933040837  7124519269#18480990905          zadenis 2020-05-30   \n",
       "39596  933042718  7124237815#18482537123     npmoskalenko 2020-05-30   \n",
       "39597  933065058  7123061624#18471818019     dakupriyanov 2020-05-30   \n",
       "\n",
       "       call_result_id call_result_translation  call_time_sec  \\\n",
       "0                   6        Дозвон, Отложить            298   \n",
       "1                   6        Дозвон, Отложить              9   \n",
       "2                   6        Дозвон, Отложить            111   \n",
       "3                   5                Недозвон              7   \n",
       "4                   3         Дозвон, Успешно           1329   \n",
       "...               ...                     ...            ...   \n",
       "39593               5                Недозвон              0   \n",
       "39594               5                Недозвон              9   \n",
       "39595               1           Дозвон, Отказ             41   \n",
       "39596               1           Дозвон, Отказ            138   \n",
       "39597               3         Дозвон, Успешно            276   \n",
       "\n",
       "                                    hid finish_dt_task  base_id  \\\n",
       "0      36d2f49fc49f572677416d54536a41c6     2020-04-15     7553   \n",
       "1      36d2f49fc49f572677416d54536a41c6     2020-04-15     7553   \n",
       "2      36d2f49fc49f572677416d54536a41c6     2020-04-15     7553   \n",
       "3      36d2f49fc49f572677416d54536a41c6     2020-04-15     7553   \n",
       "4      36d2f49fc49f572677416d54536a41c6     2020-04-15     7553   \n",
       "...                                 ...            ...      ...   \n",
       "39593  9a2d6dd8ff0a11bdc7a65c8ded5d6d92     2020-05-30     7553   \n",
       "39594  3c682df2f35ed1dc634501b4b7ae25fe     2020-05-30     7554   \n",
       "39595  3c682df2f35ed1dc634501b4b7ae25fe     2020-05-30     7554   \n",
       "39596  d6262e2d5840a2e68fcf028c9732606c     2020-05-30     7553   \n",
       "39597  1242029bded20eb92ffa31fd749d7ee4     2020-05-30     7553   \n",
       "\n",
       "       task_result_id task_result_translation base_translation  \\\n",
       "0                   6                 Успешно           База 1   \n",
       "1                   6                 Успешно           База 1   \n",
       "2                   6                 Успешно           База 1   \n",
       "3                   6                 Успешно           База 1   \n",
       "4                   6                 Успешно           База 1   \n",
       "...               ...                     ...              ...   \n",
       "39593               1                   Дубль           База 1   \n",
       "39594               5                   Отказ           База 4   \n",
       "39595               5                   Отказ           База 4   \n",
       "39596               5                   Отказ           База 1   \n",
       "39597               6                 Успешно           База 1   \n",
       "\n",
       "      product_type_cd approve_dt  reject_dt using_dt  \n",
       "0                 INV        NaT 2020-04-22      NaT  \n",
       "1                 INV        NaT 2020-04-22      NaT  \n",
       "2                 INV        NaT 2020-04-22      NaT  \n",
       "3                 INV        NaT 2020-04-22      NaT  \n",
       "4                 INV        NaT 2020-04-22      NaT  \n",
       "...               ...        ...        ...      ...  \n",
       "39593             NaN        NaT        NaT      NaT  \n",
       "39594             NaN        NaT        NaT      NaT  \n",
       "39595             NaN        NaT        NaT      NaT  \n",
       "39596             NaN        NaT        NaT      NaT  \n",
       "39597             INV 2020-05-30        NaT      NaT  \n",
       "\n",
       "[39597 rows x 17 columns]"
      ]
     },
     "execution_count": 492,
     "metadata": {},
     "output_type": "execute_result"
    }
   ],
   "source": [
    "df_final_merge"
   ]
  },
  {
   "cell_type": "code",
   "execution_count": 498,
   "id": "413b1479",
   "metadata": {},
   "outputs": [
    {
     "data": {
      "text/plain": [
       "call_dt     agent_name         \n",
       "2020-03-01  sakungurceva            1\n",
       "2020-03-03  nvgrinko                1\n",
       "            ogmixajlenko            1\n",
       "            sakungurceva            1\n",
       "2020-03-04  evsamojlov26814         1\n",
       "                                   ..\n",
       "2020-05-30  ogmixajlenko            8\n",
       "            ovpshenichnaya56849    38\n",
       "            sftarasova             58\n",
       "            tiseregina              8\n",
       "            zadenis                48\n",
       "Name: call_time_sec, Length: 1826, dtype: int64"
      ]
     },
     "execution_count": 498,
     "metadata": {},
     "output_type": "execute_result"
    }
   ],
   "source": [
    "df_final_merge.groupby(['call_dt','agent_name'])['call_time_sec'].count()"
   ]
  },
  {
   "cell_type": "code",
   "execution_count": null,
   "id": "5761b855",
   "metadata": {},
   "outputs": [],
   "source": []
  }
 ],
 "metadata": {
  "kernelspec": {
   "display_name": "Python 3",
   "language": "python",
   "name": "python3"
  },
  "language_info": {
   "codemirror_mode": {
    "name": "ipython",
    "version": 3
   },
   "file_extension": ".py",
   "mimetype": "text/x-python",
   "name": "python",
   "nbconvert_exporter": "python",
   "pygments_lexer": "ipython3",
   "version": "3.7.10"
  }
 },
 "nbformat": 4,
 "nbformat_minor": 5
}
